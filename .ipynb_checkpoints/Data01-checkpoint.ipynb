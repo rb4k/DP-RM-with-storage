{
 "cells": [
  {
   "cell_type": "code",
   "execution_count": 44,
   "metadata": {
    "collapsed": false
   },
   "outputs": [],
   "source": [
    "__version__ = '0.3'\n",
    "__author__  = \"Robert Matern (r.matern@stud.uni-hannover.de)\"\n",
    "__date__    = ''\n",
    "__url__     = ''\n",
    "__copyright__ = \"(C) 2015 Robert Matern\""
   ]
  },
  {
   "cell_type": "markdown",
   "metadata": {},
   "source": [
    "#Beispieldaten Nr. 1"
   ]
  },
  {
   "cell_type": "code",
   "execution_count": 45,
   "metadata": {
    "collapsed": false
   },
   "outputs": [
    {
     "name": "stdout",
     "output_type": "stream",
     "text": [
      "Python Version 2.7.9 |Anaconda 2.2.0 (x86_64)| (default, Dec 15 2014, 10:37:34) \n",
      "[GCC 4.2.1 (Apple Inc. build 5577)]\n",
      "Numpy Version 1.9.2\n",
      "Matplotlib Version 1.4.3\n",
      "Pandas Version 0.15.2\n"
     ]
    }
   ],
   "source": [
    "%run Parameter.ipynb\n",
    "%run DynamicProgramm.ipynb"
   ]
  },
  {
   "cell_type": "code",
   "execution_count": 46,
   "metadata": {
    "collapsed": false
   },
   "outputs": [
    {
     "name": "stdout",
     "output_type": "stream",
     "text": [
      "0:00:00.000367\n"
     ]
    }
   ],
   "source": [
    "# Produkte\n",
    "products = Product(2)\n",
    "\n",
    "# Ressourcen\n",
    "resources = Resource(2)\n",
    "\n",
    "#Kapazität\n",
    "capacities = Capacity(resources)\n",
    "capacities[1] = 2\n",
    "capacities[2] = 1\n",
    "\n",
    "# Ressourcenverbrauch\n",
    "consumtions = Consumption(products, resources)\n",
    "consumtions[1] = [0,1,0]\n",
    "consumtions[2] = [0,0,1]\n",
    "\n",
    "# Erträge\n",
    "revenues = Revenue(products)\n",
    "revenues[1] = 100\n",
    "revenues[2] = 200\n",
    "\n",
    "# Buchungshorizont\n",
    "times = Time(4)\n",
    "\n",
    "# Wahrscheinlichkeiten\n",
    "probs = Prob(products, times)\n",
    "probs[1] = [0, 0.5, 0.5, 0.5, 0.5]\n",
    "probs[2] = [0, 0.1, 0.1, 0.1, 0.1]\n",
    "\n",
    "# Gegenwahrscheinlichkeiten\n",
    "against_probs = Against_Prob(probs)\n",
    "probs[0] = against_probs\n",
    "\n",
    "# Tat. Nachfrage\n",
    "demands = Demand(products, times)\n",
    "demands[0] = [0, 1, 1, 1, 1] # Keine Anfragen müssen immer möglich sein!\n",
    "demands[1] = [0, 1, 0, 0, 0]\n",
    "demands[2] = [0, 1, 1, 1, 1]\n",
    "\n",
    "# Systemzustände\n",
    "conditions = Condition(capacities, resources, times)\n",
    "\n",
    "# Endzeitpunkte\n",
    "#end_times = End_Time(conditions)"
   ]
  },
  {
   "cell_type": "code",
   "execution_count": 47,
   "metadata": {
    "collapsed": false
   },
   "outputs": [
    {
     "name": "stdout",
     "output_type": "stream",
     "text": [
      "CPU times: user 4 µs, sys: 1e+03 ns, total: 5 µs\n",
      "Wall time: 9.78 µs\n",
      "231.25\n"
     ]
    }
   ],
   "source": [
    "%time\n",
    "print DP(solutions, conditions, products, resources, capacities, consumtions, times)"
   ]
  },
  {
   "cell_type": "code",
   "execution_count": 54,
   "metadata": {
    "collapsed": false
   },
   "outputs": [
    {
     "name": "stdout",
     "output_type": "stream",
     "text": [
      "Optimalen Politik zum Zeitpunkt \"t\" und unter Beachtung der Restkapazitäten \"c[h]\": \n",
      "\n",
      "       Successor  Res_Cap1  Res_Cap2  Time  Best Politic  r[j]-OC[j,c,t]\n",
      "4     [8, 3, 13]         2         1     4             2          145.81\n",
      "8        [17, 7]         2         0     3             1           75.00\n",
      "13  [17, 12, 22]         1         1     3             2          162.00\n",
      "17      [16, 26]         1         0     2             1           50.00\n",
      "22      [26, 21]         0         1     2             2          180.00\n",
      "26          [25]         0         0     1             0            0.00\n",
      "3     [2, 12, 7]         2         1     3             2          162.00\n",
      "12  [16, 11, 21]         1         1     2             2          180.00\n",
      "21      [25, 20]         0         1     1             2          200.00\n",
      "7        [16, 6]         2         0     2             1          100.00\n",
      "16      [25, 15]         1         0     1             1          100.00\n",
      "25         [end]         0         0     0             0            0.00\n",
      "2     [1, 11, 6]         2         1     2             2          180.00\n",
      "11  [10, 20, 15]         1         1     1             2          200.00\n",
      "20         [end]         0         1     0             0            0.00\n",
      "6        [5, 15]         2         0     1             1          100.00\n",
      "15         [end]         1         0     0             0            0.00\n",
      "1     [0, 10, 5]         2         1     1             2          200.00\n",
      "10         [end]         1         1     0             0            0.00\n",
      "5          [end]         2         0     0             0            0.00\n",
      "0          [end]         2         1     0             0            0.00 \n",
      "\n",
      "   Opt. Politic  from  to  Revenue  Cum_Rev\n",
      "4             2     4   8      200      200\n",
      "3             1     8  17      100      300\n",
      "2             1    17  26      100      400\n",
      "1             0    26  25        0      400\n",
      "0             0     0   0        0      400 \n",
      "\n",
      "Optimalen Politik zum Zeitpunkt \"t\" und unter Beachtung der Restkapazitäten \"c[h]\" sowie der tatsächlich eintreffenden Nachfrage \"d[j,t]\": \n",
      "\n",
      "       Successor  Res_Cap1  Res_Cap2  Time  Best Politic  r[j]-OC[j,c,t]\n",
      "4     [8, 3, 13]         2         1     4             2          145.81\n",
      "8        [17, 7]         2         0     3             0            0.00\n",
      "13  [17, 12, 22]         1         1     3             2          162.00\n",
      "17      [16, 26]         1         0     2             0            0.00\n",
      "22      [26, 21]         0         1     2             2          180.00\n",
      "26          [25]         0         0     1             0            0.00\n",
      "3     [2, 12, 7]         2         1     3             2          162.00\n",
      "12  [16, 11, 21]         1         1     2             2          180.00\n",
      "21      [25, 20]         0         1     1             2          200.00\n",
      "7        [16, 6]         2         0     2             0            0.00\n",
      "16      [25, 15]         1         0     1             0            0.00\n",
      "25         [end]         0         0     0             0            0.00\n",
      "2     [1, 11, 6]         2         1     2             2          180.00\n",
      "11  [10, 20, 15]         1         1     1             2          200.00\n",
      "20         [end]         0         1     0             0            0.00\n",
      "6        [5, 15]         2         0     1             0            0.00\n",
      "15         [end]         1         0     0             0            0.00\n",
      "1     [0, 10, 5]         2         1     1             2          200.00\n",
      "10         [end]         1         1     0             0            0.00\n",
      "5          [end]         2         0     0             0            0.00\n",
      "0          [end]         2         1     0             0            0.00 \n",
      "\n",
      "   Opt. Politic  from  to  Revenue  Cum_Rev\n",
      "4             2     4   8      200      200\n",
      "3             0     8   7        0      200\n",
      "2             0     7   6        0      200\n",
      "1             0     6   5        0      200\n",
      "0             0     0   0        0      200 \n",
      "\n",
      "CPU times: user 4 µs, sys: 1 µs, total: 5 µs\n",
      "Wall time: 10 µs\n"
     ]
    },
    {
     "data": {
      "image/png": "[encoded data removed]",
      "text/plain": [
       "<matplotlib.figure.Figure at 0x109ac1a10>"
      ]
     },
     "metadata": {},
     "output_type": "display_data"
    }
   ],
   "source": [
    "# Erstellung der Struktur als NetworkX-Graph\n",
    "graph = Structure(solutions, products, consumtions, revenues, probs)\n",
    "\n",
    "# Ermittlung der besten Politik (Dijkstra Algorithmus)\n",
    "Best_Politic(graph, times, resources)\n",
    "Best_Politic_Demand(graph, times, resources, demands)\n",
    "\n",
    "%time"
   ]
  },
  {
   "cell_type": "code",
   "execution_count": 49,
   "metadata": {
    "collapsed": false
   },
   "outputs": [
    {
     "name": "stdout",
     "output_type": "stream",
     "text": [
      "Kürzester Pfad: [4, 13, 22, 26, 25] \n",
      "\n"
     ]
    }
   ],
   "source": [
    "Best_Path(graph, times)"
   ]
  },
  {
   "cell_type": "code",
   "execution_count": 50,
   "metadata": {
    "collapsed": false
   },
   "outputs": [
    {
     "data": {
      "image/png": "[encoded data removed]",
      "text/plain": [
       "<matplotlib.figure.Figure at 0x107c83890>"
      ]
     },
     "metadata": {},
     "output_type": "display_data"
    }
   ],
   "source": [
    "Drawing(graph)"
   ]
  },
  {
   "cell_type": "code",
   "execution_count": null,
   "metadata": {
    "collapsed": true
   },
   "outputs": [],
   "source": []
  }
 ],
 "metadata": {
  "kernelspec": {
   "display_name": "Python 2",
   "language": "python",
   "name": "python2"
  },
  "language_info": {
   "codemirror_mode": {
    "name": "ipython",
    "version": 2
   },
   "file_extension": ".py",
   "mimetype": "text/x-python",
   "name": "python",
   "nbconvert_exporter": "python",
   "pygments_lexer": "ipython2",
   "version": "2.7.9"
  }
 },
 "nbformat": 4,
 "nbformat_minor": 0
}
