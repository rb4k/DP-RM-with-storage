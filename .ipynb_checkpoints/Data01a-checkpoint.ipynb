{
 "cells": [
  {
   "cell_type": "code",
   "execution_count": 9,
   "metadata": {
    "collapsed": false
   },
   "outputs": [],
   "source": [
    "__version__ = '0.3'\n",
    "__author__  = \"Robert Matern (r.matern@stud.uni-hannover.de)\"\n",
    "__date__    = ''\n",
    "__url__     = ''\n",
    "__copyright__ = \"(C) 2015 Robert Matern\""
   ]
  },
  {
   "cell_type": "markdown",
   "metadata": {},
   "source": [
    "#Beispieldaten Nr. 1"
   ]
  },
  {
   "cell_type": "code",
   "execution_count": 10,
   "metadata": {
    "collapsed": false
   },
   "outputs": [],
   "source": [
    "# Funktionen werden hinzugeladen.\n",
    "%run Parameter.ipynb"
   ]
  },
  {
   "cell_type": "code",
   "execution_count": 11,
   "metadata": {
    "collapsed": false
   },
   "outputs": [
    {
     "name": "stdout",
     "output_type": "stream",
     "text": [
      "0:00:00.000328\n"
     ]
    }
   ],
   "source": [
    "# Produkte\n",
    "products = Product(2)\n",
    "\n",
    "# Ressourcen\n",
    "resources = Resource(2)\n",
    "\n",
    "#Kapazität\n",
    "capacities = Capacity(resources)\n",
    "capacities[1] = 1\n",
    "capacities[2] = 1\n",
    "\n",
    "# Ressourcenverbrauch\n",
    "consumtions = Consumption(products, resources)\n",
    "consumtions[1] = [0,1,0]\n",
    "consumtions[2] = [0,0,1]\n",
    "\n",
    "# Erträge\n",
    "revenues = Revenue(products)\n",
    "revenues[1] = 100\n",
    "revenues[2] = 200\n",
    "\n",
    "# Buchungshorizont\n",
    "times = Time(3)\n",
    "\n",
    "# Wahrscheinlichkeiten\n",
    "probs = Prob(products, times)\n",
    "probs[1] = [0, 0.5, 0.5, 0.5]\n",
    "probs[2] = [0, 0.1, 0.1, 0.1]\n",
    "\n",
    "# Gegenwahrscheinlichkeiten\n",
    "against_probs = Against_Prob(probs)\n",
    "probs[0] = against_probs\n",
    "\n",
    "# Tat. Nachfrage\n",
    "demands = Demand(products, times)\n",
    "demands[0] = [0, 1, 1, 1] # Keine Anfragen müssen immer möglich sein!\n",
    "demands[1] = [0, 1, 1, 1]\n",
    "demands[2] = [0, 0, 0, 0]\n",
    "\n",
    "# Systemzustände\n",
    "conditions = Condition(capacities, resources, times)\n",
    "\n",
    "\n",
    "# Endzeitpunkte\n",
    "#end_times = End_Time(conditions)"
   ]
  },
  {
   "cell_type": "markdown",
   "metadata": {},
   "source": [
    "inkl. Lagerhaltung"
   ]
  },
  {
   "cell_type": "code",
   "execution_count": 12,
   "metadata": {
    "collapsed": true
   },
   "outputs": [],
   "source": [
    "%run Parameter-storage.ipynb"
   ]
  },
  {
   "cell_type": "code",
   "execution_count": 13,
   "metadata": {
    "collapsed": false
   },
   "outputs": [
    {
     "name": "stdout",
     "output_type": "stream",
     "text": [
      "0:00:00.000529\n"
     ]
    }
   ],
   "source": [
    "#Lagerbestand\n",
    "stocks = Stock(products)\n",
    "stocks[1] = 1\n",
    "stocks[2] = 0\n",
    "\n",
    "#Lagerveränderung\n",
    "shifts = Shift(products)\n",
    "\n",
    "# Systemzustände\n",
    "condition_storages = Condition_Storage(capacities, resources, stocks, times)"
   ]
  },
  {
   "cell_type": "code",
   "execution_count": 14,
   "metadata": {
    "collapsed": false
   },
   "outputs": [],
   "source": [
    "%run DynamicProgramm-stock.ipynb"
   ]
  },
  {
   "cell_type": "code",
   "execution_count": 15,
   "metadata": {
    "collapsed": false
   },
   "outputs": [
    {
     "name": "stdout",
     "output_type": "stream",
     "text": [
      "Systemzustand: [1 1 1 0] - Periode: 0 - Erwartungswert: 0.0 - Optimale Politik: 0 KA\n",
      "Systemzustand: [0 1 1 0] - Periode: 0 - Erwartungswert: 0.0 - Optimale Politik: 0 KA\n",
      "Systemzustand: [1 1 0 0] - Periode: 0 - Erwartungswert: 0.0 - Optimale Politik: 0 KA\n",
      "Systemzustand: [1 0 1 0] - Periode: 0 - Erwartungswert: 0.0 - Optimale Politik: 0 KA\n",
      "Systemzustand: [1 1 1 0] - Periode: 1 - Erwartungswert: 120.0 - Optimale Politik: 2 AA\n",
      "Systemzustand: [0 1 0 0] - Periode: 0 - Erwartungswert: 0.0 - Optimale Politik: 0 KA\n",
      "Systemzustand: [0 0 1 0] - Periode: 0 - Erwartungswert: 0.0 - Optimale Politik: 0 KA\n",
      "Systemzustand: [0 1 1 0] - Periode: 1 - Erwartungswert: 70.0 - Optimale Politik: 2 AA\n",
      "Systemzustand: [1 0 0 0] - Periode: 0 - Erwartungswert: 0.0 - Optimale Politik: 0 KA\n",
      "Systemzustand: [1 1 0 0] - Periode: 1 - Erwartungswert: 70.0 - Optimale Politik: 2 AA\n",
      "Systemzustand: [1 0 1 0] - Periode: 1 - Erwartungswert: 100.0 - Optimale Politik: 1 AA\n",
      "Systemzustand: [1 1 1 0] - Periode: 2 - Erwartungswert: 188.0 - Optimale Politik: 2 AA\n",
      "Systemzustand: [0 0 0 0] - Periode: 0 - Erwartungswert: 0.0 - Optimale Politik: 0 KA\n",
      "Systemzustand: [0 1 0 0] - Periode: 1 - Erwartungswert: 20.0 - Optimale Politik: 2 AA\n",
      "Systemzustand: [0 0 1 0] - Periode: 1 - Erwartungswert: 50.0 - Optimale Politik: 1 AA\n",
      "Systemzustand: [0 1 1 0] - Periode: 2 - Erwartungswert: 113.0 - Optimale Politik: 2 AA\n",
      "Systemzustand: [1 0 0 0] - Periode: 1 - Erwartungswert: 50.0 - Optimale Politik: 1 AA\n",
      "Systemzustand: [1 1 0 0] - Periode: 2 - Erwartungswert: 113.0 - Optimale Politik: 2 AA\n",
      "Systemzustand: [1 0 1 0] - Periode: 2 - Erwartungswert: 150.0 - Optimale Politik: 1 AA\n",
      "Systemzustand: [1 1 1 0] - Periode: 3 - Erwartungswert: 229.203 - Optimale Politik: 2 AA\n"
     ]
    },
    {
     "data": {
      "text/plain": [
       "229.20312"
      ]
     },
     "execution_count": 15,
     "metadata": {},
     "output_type": "execute_result"
    }
   ],
   "source": [
    "DP_Stock(solutions, condition_storages, products, resources, capacities, consumtions, times, probs, stocks, shifts)"
   ]
  },
  {
   "cell_type": "code",
   "execution_count": 16,
   "metadata": {
    "collapsed": false
   },
   "outputs": [
    {
     "ename": "NameError",
     "evalue": "name 'Best_Politic_Storage' is not defined",
     "output_type": "error",
     "traceback": [
      "\u001b[0;31m---------------------------------------------------------------------------\u001b[0m",
      "\u001b[0;31mNameError\u001b[0m                                 Traceback (most recent call last)",
      "\u001b[0;32m<ipython-input-16-c72d6a7b6767>\u001b[0m in \u001b[0;36m<module>\u001b[0;34m()\u001b[0m\n\u001b[1;32m      1\u001b[0m \u001b[0mgraph\u001b[0m \u001b[0;34m=\u001b[0m \u001b[0mStructure_Stock\u001b[0m\u001b[0;34m(\u001b[0m\u001b[0msolutions\u001b[0m\u001b[0;34m,\u001b[0m \u001b[0mcondition_storages\u001b[0m\u001b[0;34m,\u001b[0m \u001b[0mproducts\u001b[0m\u001b[0;34m,\u001b[0m \u001b[0mconsumtions\u001b[0m\u001b[0;34m,\u001b[0m \u001b[0mrevenues\u001b[0m\u001b[0;34m,\u001b[0m \u001b[0mstocks\u001b[0m\u001b[0;34m,\u001b[0m \u001b[0mshifts\u001b[0m\u001b[0;34m)\u001b[0m\u001b[0;34m\u001b[0m\u001b[0m\n\u001b[1;32m      2\u001b[0m \u001b[0;34m\u001b[0m\u001b[0m\n\u001b[0;32m----> 3\u001b[0;31m \u001b[0mBest_Politic_Storage\u001b[0m\u001b[0;34m(\u001b[0m\u001b[0mgraph\u001b[0m\u001b[0;34m,\u001b[0m \u001b[0mtimes\u001b[0m\u001b[0;34m,\u001b[0m \u001b[0mresources\u001b[0m\u001b[0;34m)\u001b[0m\u001b[0;34m\u001b[0m\u001b[0m\n\u001b[0m",
      "\u001b[0;31mNameError\u001b[0m: name 'Best_Politic_Storage' is not defined"
     ]
    }
   ],
   "source": [
    "graph = Structure_Stock(solutions, condition_storages, products, consumtions, revenues, stocks, shifts)\n",
    "\n",
    "Best_Politic_Storage(graph, times, resources)"
   ]
  },
  {
   "cell_type": "code",
   "execution_count": null,
   "metadata": {
    "collapsed": false
   },
   "outputs": [],
   "source": [
    "print graph.edge[10][13]\n",
    "print graph.edge[10][25]\n",
    "\n",
    "solutions"
   ]
  },
  {
   "cell_type": "code",
   "execution_count": null,
   "metadata": {
    "collapsed": false
   },
   "outputs": [],
   "source": [
    "import matplotlib as plt\n",
    "\n",
    "draw = graph.copy()\n",
    "draw.remove_node('end')\n",
    "        # Quelle: http://stackoverflow.com/a/11484144/4913569\n",
    "        # ----\n",
    "        # write dot file to use with graphviz\n",
    "        # run \"dot -Tpng test.dot >test.png\"\n",
    "nx.write_dot(draw,'test.dot')\n",
    "\n",
    "        # same layout using matplotlib with no labels\n",
    "pos=nx.graphviz_layout(draw,prog='dot')\n",
    "plt.figure(figsize=(size_x,size_y))\n",
    "plt.title(\"Entscheidungsbaum\")\n",
    "nx.draw(draw,pos,with_labels=True, node_size=500)\n",
    "plt.savefig('GraphTest.png')"
   ]
  },
  {
   "cell_type": "code",
   "execution_count": null,
   "metadata": {
    "collapsed": false
   },
   "outputs": [],
   "source": [
    "Best_Politic(graph, times, resources, start=None)"
   ]
  },
  {
   "cell_type": "code",
   "execution_count": null,
   "metadata": {
    "collapsed": true
   },
   "outputs": [],
   "source": []
  }
 ],
 "metadata": {
  "kernelspec": {
   "display_name": "Python 2",
   "language": "python",
   "name": "python2"
  },
  "language_info": {
   "codemirror_mode": {
    "name": "ipython",
    "version": 2
   },
   "file_extension": ".py",
   "mimetype": "text/x-python",
   "name": "python",
   "nbconvert_exporter": "python",
   "pygments_lexer": "ipython2",
   "version": "2.7.10"
  }
 },
 "nbformat": 4,
 "nbformat_minor": 0
}
