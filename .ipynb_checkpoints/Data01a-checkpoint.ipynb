{
 "cells": [
  {
   "cell_type": "code",
   "execution_count": 356,
   "metadata": {
    "collapsed": false
   },
   "outputs": [],
   "source": [
    "__version__ = '0.3'\n",
    "__author__  = \"Robert Matern (r.matern@stud.uni-hannover.de)\"\n",
    "__date__    = ''\n",
    "__url__     = ''\n",
    "__copyright__ = \"(C) 2015 Robert Matern\""
   ]
  },
  {
   "cell_type": "markdown",
   "metadata": {},
   "source": [
    "#Beispieldaten Nr. 1"
   ]
  },
  {
   "cell_type": "code",
   "execution_count": 357,
   "metadata": {
    "collapsed": false
   },
   "outputs": [],
   "source": [
    "# Funktionen werden hinzugeladen.\n",
    "%run Parameter.ipynb"
   ]
  },
  {
   "cell_type": "code",
   "execution_count": 358,
   "metadata": {
    "collapsed": false
   },
   "outputs": [
    {
     "name": "stdout",
     "output_type": "stream",
     "text": [
      "0:00:00.000337\n"
     ]
    }
   ],
   "source": [
    "# Produkte\n",
    "products = Product(2)\n",
    "\n",
    "# Ressourcen\n",
    "resources = Resource(1)\n",
    "\n",
    "#Kapazität\n",
    "capacities = Capacity(resources)\n",
    "capacities[1] = 2\n",
    "\n",
    "# Ressourcenverbrauch\n",
    "consumtions = Consumption(products, resources)\n",
    "consumtions[1] = [0,1]\n",
    "consumtions[2] = [0,1]\n",
    "\n",
    "# Erträge\n",
    "revenues = Revenue(products)\n",
    "revenues[1] = 100\n",
    "revenues[2] = 200\n",
    "\n",
    "# Buchungshorizont\n",
    "times = Time(4)\n",
    "\n",
    "# Wahrscheinlichkeiten\n",
    "probs = Prob(products, times)\n",
    "probs[1] = [0, 0.5, 0.5, 0.5, 0.5]\n",
    "probs[2] = [0, 0.1, 0.1, 0.1, 0.1]\n",
    "\n",
    "# Gegenwahrscheinlichkeiten\n",
    "against_probs = Against_Prob(probs)\n",
    "probs[0] = against_probs\n",
    "\n",
    "# Tat. Nachfrage\n",
    "demands = Demand(products, times)\n",
    "demands[0] = [0, 1, 1, 1, 1] # Keine Anfragen müssen immer möglich sein!\n",
    "demands[1] = [0, 1, 1, 1, 1]\n",
    "demands[2] = [0, 0, 0, 0, 0]\n",
    "\n",
    "# Systemzustände\n",
    "conditions = Condition(capacities, resources, times)\n",
    "\n",
    "\n",
    "# Endzeitpunkte\n",
    "#end_times = End_Time(conditions)"
   ]
  },
  {
   "cell_type": "markdown",
   "metadata": {},
   "source": [
    "inkl. Lagerhaltung"
   ]
  },
  {
   "cell_type": "code",
   "execution_count": 359,
   "metadata": {
    "collapsed": true
   },
   "outputs": [],
   "source": [
    "%run Parameter-storage.ipynb"
   ]
  },
  {
   "cell_type": "code",
   "execution_count": 360,
   "metadata": {
    "collapsed": false
   },
   "outputs": [
    {
     "name": "stdout",
     "output_type": "stream",
     "text": [
      "0:00:00.000413\n"
     ]
    }
   ],
   "source": [
    "#Lagerbestand\n",
    "stocks = Stock(products)\n",
    "stocks[1] = 1\n",
    "stocks[2] = 0\n",
    "\n",
    "#Lagerveränderung\n",
    "shifts = Shift(products)\n",
    "\n",
    "# Systemzustände\n",
    "condition_storages = Condition_Storage(capacities, resources, stocks, times)"
   ]
  },
  {
   "cell_type": "code",
   "execution_count": 361,
   "metadata": {
    "collapsed": false
   },
   "outputs": [],
   "source": [
    "%run DynamicProgramm-stock.ipynb"
   ]
  },
  {
   "cell_type": "code",
   "execution_count": 362,
   "metadata": {
    "collapsed": false
   },
   "outputs": [
    {
     "name": "stdout",
     "output_type": "stream",
     "text": [
      "Bestände: [2 1 0] - Periode: 0 - Erwartungswert: 0.0 - Optimale Politik: 0 KA\n",
      "Bestände: [1 1 0] - Periode: 0 - Erwartungswert: 0.0 - Optimale Politik: 0 KA\n",
      "Bestände: [2 0 0] - Periode: 0 - Erwartungswert: 0.0 - Optimale Politik: 0 KA\n",
      "Bestände: [2 1 0] - Periode: 1 - Erwartungswert: 120.0 - Optimale Politik: 2 AA\n",
      "Bestände: [0 1 0] - Periode: 0 - Erwartungswert: 0.0 - Optimale Politik: 0 KA\n",
      "Bestände: [1 0 0] - Periode: 0 - Erwartungswert: 0.0 - Optimale Politik: 0 KA\n",
      "Bestände: [1 1 0] - Periode: 1 - Erwartungswert: 120.0 - Optimale Politik: 2 AA\n",
      "Bestände: [2 0 0] - Periode: 1 - Erwartungswert: 70.0 - Optimale Politik: 2 AA\n",
      "Bestände: [2 1 0] - Periode: 2 - Erwartungswert: 215.0 - Optimale Politik: 2 AA\n",
      "Bestände: [0 0 0] - Periode: 0 - Erwartungswert: 0.0 - Optimale Politik: 0 KA\n",
      "Bestände: [0 1 0] - Periode: 1 - Erwartungswert: 50.0 - Optimale Politik: 1 LE\n",
      "Bestände: [1 0 0] - Periode: 1 - Erwartungswert: 70.0 - Optimale Politik: 2 AA\n",
      "Bestände: [1 1 0] - Periode: 2 - Erwartungswert: 173.0 - Optimale Politik: 2 AA\n",
      "Bestände: [2 0 0] - Periode: 2 - Erwartungswert: 140.0 - Optimale Politik: 2 AA\n",
      "Bestände: [2 1 0] - Periode: 3 - Erwartungswert: 272.312 - Optimale Politik: 2 AA\n",
      "Bestände: [0 0 0] - Periode: 1 - Erwartungswert: 0.0 - Optimale Politik: 0 KA\n",
      "Bestände: [0 1 0] - Periode: 2 - Erwartungswert: 75.0 - Optimale Politik: 1 LE\n",
      "Bestände: [1 0 0] - Periode: 2 - Erwartungswert: 98.0 - Optimale Politik: 2 AA\n",
      "Bestände: [1 1 0] - Periode: 3 - Erwartungswert: 196.703 - Optimale Politik: 2 AA\n",
      "Bestände: [2 0 0] - Periode: 3 - Erwartungswert: 184.812 - Optimale Politik: 2 AA\n",
      "Bestände: [2 1 0] - Periode: 4 - Erwartungswert: 303.188 - Optimale Politik: 2 AA\n"
     ]
    },
    {
     "data": {
      "text/plain": [
       "303.1875"
      ]
     },
     "execution_count": 362,
     "metadata": {},
     "output_type": "execute_result"
    }
   ],
   "source": [
    "DP_Stock(solutions, condition_storages, products, resources, capacities, consumtions, times, revenues, probs, stocks, shifts)"
   ]
  },
  {
   "cell_type": "code",
   "execution_count": 363,
   "metadata": {
    "collapsed": false
   },
   "outputs": [
    {
     "data": {
      "text/plain": [
       "{0: [array([2, 1, 0, 0]), 0.0, 0, 'KA', 0],\n",
       " 1: [array([2, 1, 0, 1]), 120.0, 2, 'AA', 200.0],\n",
       " 2: [array([2, 1, 0, 2]), 215.0, 2, 'AA', 200.0],\n",
       " 3: [array([2, 1, 0, 3]), 272.3125, 2, 'AA', 158.0],\n",
       " 4: [array([2, 1, 0, 4]), 303.1875, 2, 'AA', 124.375],\n",
       " 5: [array([2, 0, 0, 0]), 0.0, 0, 'KA', 0],\n",
       " 6: [array([2, 0, 0, 1]), 70.0, 2, 'AA', 200.0],\n",
       " 7: [array([2, 0, 0, 2]), 140.0, 2, 'AA', 200.0],\n",
       " 8: [array([2, 0, 0, 3]), 184.8125, 2, 'AA', 158.0],\n",
       " 10: [array([1, 1, 0, 0]), 0.0, 0, 'KA', 0],\n",
       " 11: [array([1, 1, 0, 1]), 120.0, 2, 'AA', 200.0],\n",
       " 12: [array([1, 1, 0, 2]), 173.0, 2, 'AA', 130.0],\n",
       " 13: [array([1, 1, 0, 3]), 196.70312, 2, 'AA', 102.0],\n",
       " 15: [array([1, 0, 0, 0]), 0.0, 0, 'KA', 0],\n",
       " 16: [array([1, 0, 0, 1]), 70.0, 2, 'AA', 200.0],\n",
       " 17: [array([1, 0, 0, 2]), 98.0, 2, 'AA', 130.0],\n",
       " 20: [array([0, 1, 0, 0]), 0.0, 0, 'KA', 0],\n",
       " 21: [array([0, 1, 0, 1]), 50.0, 1, 'LE', 100.0],\n",
       " 22: [array([0, 1, 0, 2]), 75.0, 1, 'LE', 100.0],\n",
       " 25: [array([0, 0, 0, 0]), 0.0, 0, 'KA', 0],\n",
       " 26: [array([0, 0, 0, 1]), 0.0, 0, 'KA', 0]}"
      ]
     },
     "execution_count": 363,
     "metadata": {},
     "output_type": "execute_result"
    }
   ],
   "source": [
    "solutions"
   ]
  },
  {
   "cell_type": "code",
   "execution_count": 364,
   "metadata": {
    "collapsed": false
   },
   "outputs": [
    {
     "name": "stdout",
     "output_type": "stream",
     "text": [
      "Optimalen Politik zum Zeitpunkt \"t\" und unter Beachtung der Restkapazitäten \"c[h]\": \n",
      "\n",
      "    Res_Cap1  Stock1  Stock2  Time       Value     Successor  Best Order  \\\n",
      "4          2       1       0     4  303.187500    [8, 3, 13]           2   \n",
      "8          2       0       0     3  184.812500       [17, 7]           2   \n",
      "13         1       1       0     3  196.703125  [17, 12, 22]           2   \n",
      "17         1       0       0     2   98.000000      [16, 26]           2   \n",
      "22         0       1       0     2   75.000000      [26, 21]           1   \n",
      "26         0       0       0     1    0.000000          [25]           0   \n",
      "3          2       1       0     3  272.312500    [2, 12, 7]           2   \n",
      "12         1       1       0     2  173.000000  [16, 11, 21]           2   \n",
      "21         0       1       0     1   50.000000      [25, 20]           1   \n",
      "7          2       0       0     2  140.000000       [16, 6]           2   \n",
      "16         1       0       0     1   70.000000      [25, 15]           2   \n",
      "25         0       0       0     0    0.000000         [end]           0   \n",
      "2          2       1       0     2  215.000000    [1, 11, 6]           2   \n",
      "11         1       1       0     1  120.000000  [10, 20, 15]           2   \n",
      "20         0       1       0     0    0.000000         [end]           0   \n",
      "6          2       0       0     1   70.000000       [5, 15]           2   \n",
      "15         1       0       0     0    0.000000         [end]           0   \n",
      "1          2       1       0     1  120.000000    [0, 10, 5]           2   \n",
      "10         1       1       0     0    0.000000         [end]           0   \n",
      "5          2       0       0     0    0.000000         [end]           0   \n",
      "0          2       1       0     0    0.000000         [end]           0   \n",
      "\n",
      "   Modus  r[j]-OC[j]  \n",
      "4     AA     124.375  \n",
      "8     AA     158.000  \n",
      "13    AA     102.000  \n",
      "17    AA     130.000  \n",
      "22    LE     100.000  \n",
      "26    KA       0.000  \n",
      "3     AA     158.000  \n",
      "12    AA     130.000  \n",
      "21    LE     100.000  \n",
      "7     AA     200.000  \n",
      "16    AA     200.000  \n",
      "25     -       0.000  \n",
      "2     AA     200.000  \n",
      "11    AA     200.000  \n",
      "20     -       0.000  \n",
      "6     AA     200.000  \n",
      "15     -       0.000  \n",
      "1     AA     200.000  \n",
      "10     -       0.000  \n",
      "5      -       0.000  \n",
      "0      -       0.000   \n",
      "\n",
      "   Opt. Politic  from  to  Revenue  Cum_Rev\n",
      "4             2     4  13      200      200\n",
      "3             2    13  22      200      400\n",
      "2             1    22  26      100      500\n",
      "1             0    26  25        0      500 \n",
      "\n"
     ]
    },
    {
     "data": {
      "text/plain": [
       "(    Res_Cap1  Stock1  Stock2  Time       Value     Successor  Best Order  \\\n",
       " 4          2       1       0     4  303.187500    [8, 3, 13]           2   \n",
       " 8          2       0       0     3  184.812500       [17, 7]           2   \n",
       " 13         1       1       0     3  196.703125  [17, 12, 22]           2   \n",
       " 17         1       0       0     2   98.000000      [16, 26]           2   \n",
       " 22         0       1       0     2   75.000000      [26, 21]           1   \n",
       " 26         0       0       0     1    0.000000          [25]           0   \n",
       " 3          2       1       0     3  272.312500    [2, 12, 7]           2   \n",
       " 12         1       1       0     2  173.000000  [16, 11, 21]           2   \n",
       " 21         0       1       0     1   50.000000      [25, 20]           1   \n",
       " 7          2       0       0     2  140.000000       [16, 6]           2   \n",
       " 16         1       0       0     1   70.000000      [25, 15]           2   \n",
       " 25         0       0       0     0    0.000000         [end]           0   \n",
       " 2          2       1       0     2  215.000000    [1, 11, 6]           2   \n",
       " 11         1       1       0     1  120.000000  [10, 20, 15]           2   \n",
       " 20         0       1       0     0    0.000000         [end]           0   \n",
       " 6          2       0       0     1   70.000000       [5, 15]           2   \n",
       " 15         1       0       0     0    0.000000         [end]           0   \n",
       " 1          2       1       0     1  120.000000    [0, 10, 5]           2   \n",
       " 10         1       1       0     0    0.000000         [end]           0   \n",
       " 5          2       0       0     0    0.000000         [end]           0   \n",
       " 0          2       1       0     0    0.000000         [end]           0   \n",
       " \n",
       "    Modus  r[j]-OC[j]  \n",
       " 4     AA     124.375  \n",
       " 8     AA     158.000  \n",
       " 13    AA     102.000  \n",
       " 17    AA     130.000  \n",
       " 22    LE     100.000  \n",
       " 26    KA       0.000  \n",
       " 3     AA     158.000  \n",
       " 12    AA     130.000  \n",
       " 21    LE     100.000  \n",
       " 7     AA     200.000  \n",
       " 16    AA     200.000  \n",
       " 25     -       0.000  \n",
       " 2     AA     200.000  \n",
       " 11    AA     200.000  \n",
       " 20     -       0.000  \n",
       " 6     AA     200.000  \n",
       " 15     -       0.000  \n",
       " 1     AA     200.000  \n",
       " 10     -       0.000  \n",
       " 5      -       0.000  \n",
       " 0      -       0.000  ,    Opt. Politic  from  to  Revenue  Cum_Rev\n",
       " 4             2     4  13      200      200\n",
       " 3             2    13  22      200      400\n",
       " 2             1    22  26      100      500\n",
       " 1             0    26  25        0      500)"
      ]
     },
     "execution_count": 364,
     "metadata": {},
     "output_type": "execute_result"
    }
   ],
   "source": [
    "graph = Structure_Stock(solutions, condition_storages, products, resources, consumtions, revenues, stocks, shifts)\n",
    "\n",
    "Best_Politic_Stock(graph, times, resources, stocks, solutions)"
   ]
  },
  {
   "cell_type": "code",
   "execution_count": 365,
   "metadata": {
    "collapsed": false
   },
   "outputs": [
    {
     "ename": "AttributeError",
     "evalue": "'module' object has no attribute 'figure'",
     "output_type": "error",
     "traceback": [
      "\u001b[0;31m---------------------------------------------------------------------------\u001b[0m",
      "\u001b[0;31mAttributeError\u001b[0m                            Traceback (most recent call last)",
      "\u001b[0;32m<ipython-input-365-ec0a85ebe107>\u001b[0m in \u001b[0;36m<module>\u001b[0;34m()\u001b[0m\n\u001b[1;32m     11\u001b[0m         \u001b[0;31m# same layout using matplotlib with no labels\u001b[0m\u001b[0;34m\u001b[0m\u001b[0;34m\u001b[0m\u001b[0m\n\u001b[1;32m     12\u001b[0m \u001b[0mpos\u001b[0m\u001b[0;34m=\u001b[0m\u001b[0mnx\u001b[0m\u001b[0;34m.\u001b[0m\u001b[0mgraphviz_layout\u001b[0m\u001b[0;34m(\u001b[0m\u001b[0mdraw\u001b[0m\u001b[0;34m,\u001b[0m\u001b[0mprog\u001b[0m\u001b[0;34m=\u001b[0m\u001b[0;34m'dot'\u001b[0m\u001b[0;34m)\u001b[0m\u001b[0;34m\u001b[0m\u001b[0m\n\u001b[0;32m---> 13\u001b[0;31m \u001b[0mplt\u001b[0m\u001b[0;34m.\u001b[0m\u001b[0mfigure\u001b[0m\u001b[0;34m(\u001b[0m\u001b[0mfigsize\u001b[0m\u001b[0;34m=\u001b[0m\u001b[0;34m(\u001b[0m\u001b[0msize_x\u001b[0m\u001b[0;34m,\u001b[0m\u001b[0msize_y\u001b[0m\u001b[0;34m)\u001b[0m\u001b[0;34m)\u001b[0m\u001b[0;34m\u001b[0m\u001b[0m\n\u001b[0m\u001b[1;32m     14\u001b[0m \u001b[0mplt\u001b[0m\u001b[0;34m.\u001b[0m\u001b[0mtitle\u001b[0m\u001b[0;34m(\u001b[0m\u001b[0;34m\"Entscheidungsbaum\"\u001b[0m\u001b[0;34m)\u001b[0m\u001b[0;34m\u001b[0m\u001b[0m\n\u001b[1;32m     15\u001b[0m \u001b[0mnx\u001b[0m\u001b[0;34m.\u001b[0m\u001b[0mdraw\u001b[0m\u001b[0;34m(\u001b[0m\u001b[0mdraw\u001b[0m\u001b[0;34m,\u001b[0m\u001b[0mpos\u001b[0m\u001b[0;34m,\u001b[0m\u001b[0mwith_labels\u001b[0m\u001b[0;34m=\u001b[0m\u001b[0mTrue\u001b[0m\u001b[0;34m,\u001b[0m \u001b[0mnode_size\u001b[0m\u001b[0;34m=\u001b[0m\u001b[0;36m500\u001b[0m\u001b[0;34m)\u001b[0m\u001b[0;34m\u001b[0m\u001b[0m\n",
      "\u001b[0;31mAttributeError\u001b[0m: 'module' object has no attribute 'figure'"
     ]
    }
   ],
   "source": [
    "import matplotlib as plt\n",
    "\n",
    "draw = graph.copy()\n",
    "draw.remove_node('end')\n",
    "        # Quelle: http://stackoverflow.com/a/11484144/4913569\n",
    "        # ----\n",
    "        # write dot file to use with graphviz\n",
    "        # run \"dot -Tpng test.dot >test.png\"\n",
    "nx.write_dot(draw,'test.dot')\n",
    "\n",
    "        # same layout using matplotlib with no labels\n",
    "pos=nx.graphviz_layout(draw,prog='dot')\n",
    "plt.figure(figsize=(size_x,size_y))\n",
    "plt.title(\"Entscheidungsbaum\")\n",
    "nx.draw(draw,pos,with_labels=True, node_size=500)\n",
    "plt.savefig('GraphTest.png')"
   ]
  },
  {
   "cell_type": "code",
   "execution_count": null,
   "metadata": {
    "collapsed": false
   },
   "outputs": [],
   "source": [
    "Best_Politic(graph, times, resources, start=None)"
   ]
  },
  {
   "cell_type": "code",
   "execution_count": null,
   "metadata": {
    "collapsed": true
   },
   "outputs": [],
   "source": []
  }
 ],
 "metadata": {
  "kernelspec": {
   "display_name": "Python 2",
   "language": "python",
   "name": "python2"
  },
  "language_info": {
   "codemirror_mode": {
    "name": "ipython",
    "version": 2
   },
   "file_extension": ".py",
   "mimetype": "text/x-python",
   "name": "python",
   "nbconvert_exporter": "python",
   "pygments_lexer": "ipython2",
   "version": "2.7.10"
  }
 },
 "nbformat": 4,
 "nbformat_minor": 0
}
