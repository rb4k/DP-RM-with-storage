{
 "cells": [
  {
   "cell_type": "code",
   "execution_count": 20,
   "metadata": {
    "collapsed": false
   },
   "outputs": [],
   "source": [
    "__version__ = '0.3'\n",
    "__author__  = \"Robert Matern (r.matern@stud.uni-hannover.de)\"\n",
    "__date__    = ''\n",
    "__url__     = ''\n",
    "__copyright__ = \"(C) 2015 Robert Matern\""
   ]
  },
  {
   "cell_type": "markdown",
   "metadata": {},
   "source": [
    "#Beispieldaten Nr. 1"
   ]
  },
  {
   "cell_type": "code",
   "execution_count": 21,
   "metadata": {
    "collapsed": false
   },
   "outputs": [],
   "source": [
    "# Funktionen werden hinzugeladen.\n",
    "%run Parameter.ipynb"
   ]
  },
  {
   "cell_type": "code",
   "execution_count": 22,
   "metadata": {
    "collapsed": false
   },
   "outputs": [
    {
     "name": "stdout",
     "output_type": "stream",
     "text": [
      "0:00:00.000257\n"
     ]
    }
   ],
   "source": [
    "# Produkte\n",
    "products = Product(2)\n",
    "\n",
    "# Ressourcen\n",
    "resources = Resource(1)\n",
    "\n",
    "#Kapazität\n",
    "capacities = Capacity(resources)\n",
    "capacities[1] = 2\n",
    "\n",
    "# Ressourcenverbrauch\n",
    "consumtions = Consumption(products, resources)\n",
    "consumtions[1] = [0,1]\n",
    "consumtions[2] = [0,2]\n",
    "\n",
    "# Erträge\n",
    "revenues = Revenue(products)\n",
    "revenues[1] = 100\n",
    "revenues[2] = 200\n",
    "\n",
    "# Buchungshorizont\n",
    "times = Time(3)\n",
    "\n",
    "# Wahrscheinlichkeiten\n",
    "probs = Prob(products, times)\n",
    "probs[1] = [0, 0.5, 0.5, 0.5]\n",
    "probs[2] = [0, 0.1, 0.1, 0.1]\n",
    "\n",
    "# Gegenwahrscheinlichkeiten\n",
    "against_probs = Against_Prob(probs)\n",
    "probs[0] = against_probs\n",
    "\n",
    "# Tat. Nachfrage\n",
    "demands = Demand(products, times)\n",
    "demands[0] = [0, 1, 1, 1] # Keine Anfragen müssen immer möglich sein!\n",
    "demands[1] = [0, 1, 1, 1]\n",
    "demands[2] = [0, 0, 0, 0]\n",
    "\n",
    "# Systemzustände\n",
    "conditions = Condition(capacities, resources, times)\n",
    "\n",
    "\n",
    "# Endzeitpunkte\n",
    "#end_times = End_Time(conditions)"
   ]
  },
  {
   "cell_type": "markdown",
   "metadata": {},
   "source": [
    "inkl. Lagerhaltung"
   ]
  },
  {
   "cell_type": "code",
   "execution_count": 23,
   "metadata": {
    "collapsed": true
   },
   "outputs": [],
   "source": [
    "%run Parameter-storage.ipynb"
   ]
  },
  {
   "cell_type": "code",
   "execution_count": 24,
   "metadata": {
    "collapsed": false
   },
   "outputs": [
    {
     "name": "stdout",
     "output_type": "stream",
     "text": [
      "0:00:00.001015\n"
     ]
    }
   ],
   "source": [
    "#Lagerbestand\n",
    "stocks = Stock(products)\n",
    "\n",
    "max_stocks = Max_Stock(products)\n",
    "max_stocks[1] = 2\n",
    "max_stocks[2] = 1\n",
    "\n",
    "#Lagerveränderung\n",
    "shifts = Shift(products)\n",
    "\n",
    "# Systemzustände\n",
    "condition_storages = Condition_Storage(capacities, resources, max_stocks, times)\n",
    "# Bei der Modelformulierung mit Lagerproduktion wird der Parameter 'max_stocks' benötigt."
   ]
  },
  {
   "cell_type": "code",
   "execution_count": 25,
   "metadata": {
    "collapsed": false
   },
   "outputs": [],
   "source": [
    "%run DynamicProgramm-storage.ipynb"
   ]
  },
  {
   "cell_type": "code",
   "execution_count": 26,
   "metadata": {
    "collapsed": false
   },
   "outputs": [
    {
     "name": "stdout",
     "output_type": "stream",
     "text": [
      "Bestände: [2 0 0] - Periode: 0 - Erwartungswert: 0.0 - Optimale Politik: 0 KA\n",
      "Bestände: [1 0 0] - Periode: 0 - Erwartungswert: 0.0 - Optimale Politik: 0 KA\n",
      "Bestände: [1 1 0] - Periode: 0 - Erwartungswert: 0.0 - Optimale Politik: 0 KA\n",
      "Bestände: [0 0 0] - Periode: 0 - Erwartungswert: 0.0 - Optimale Politik: 0 KA\n",
      "Bestände: [0 0 1] - Periode: 0 - Erwartungswert: 0.0 - Optimale Politik: 0 KA\n",
      "Bestände: [2 0 0] - Periode: 1 - Erwartungswert: 2550.0 - Optimale Politik: 2 AA\n",
      "Bestände: [0 1 0] - Periode: 0 - Erwartungswert: 0.0 - Optimale Politik: 0 KA\n",
      "Bestände: [1 0 0] - Periode: 1 - Erwartungswert: 50.0 - Optimale Politik: 1 AA\n",
      "Bestände: [0 2 0] - Periode: 0 - Erwartungswert: 0.0 - Optimale Politik: 0 KA\n",
      "Bestände: [1 1 0] - Periode: 1 - Erwartungswert: 100.0 - Optimale Politik: 1 AA\n",
      "Bestände: [0 0 0] - Periode: 1 - Erwartungswert: 0.0 - Optimale Politik: 0 KA\n",
      "Bestände: [0 0 1] - Periode: 1 - Erwartungswert: 2500.0 - Optimale Politik: 2 LE\n",
      "Bestände: [2 0 0] - Periode: 2 - Erwartungswert: 3775.0 - Optimale Politik: 2 AA\n",
      "Bestände: [0 1 0] - Periode: 1 - Erwartungswert: 50.0 - Optimale Politik: 1 LE\n",
      "Bestände: [1 0 0] - Periode: 2 - Erwartungswert: 75.0 - Optimale Politik: 1 AA\n",
      "Bestände: [0 2 0] - Periode: 1 - Erwartungswert: 50.0 - Optimale Politik: 1 LE\n",
      "Bestände: [1 1 0] - Periode: 2 - Erwartungswert: 150.0 - Optimale Politik: 1 AA\n",
      "Bestände: [0 0 0] - Periode: 2 - Erwartungswert: 0.0 - Optimale Politik: 0 KA\n",
      "Bestände: [0 0 1] - Periode: 2 - Erwartungswert: 3750.0 - Optimale Politik: 2 LE\n",
      "Bestände: [2 0 0] - Periode: 3 - Erwartungswert: 4387.5 - Optimale Politik: 2 AA\n"
     ]
    },
    {
     "data": {
      "text/plain": [
       "4387.5"
      ]
     },
     "execution_count": 26,
     "metadata": {},
     "output_type": "execute_result"
    }
   ],
   "source": [
    "DP_Storage(solutions, condition_storages, products, resources, capacities, consumtions, times, revenues, probs, stocks, shifts, max_stocks)"
   ]
  },
  {
   "cell_type": "code",
   "execution_count": 27,
   "metadata": {
    "collapsed": false
   },
   "outputs": [
    {
     "name": "stdout",
     "output_type": "stream",
     "text": [
      "Optimalen Politik zum Zeitpunkt \"t\" und unter Beachtung der Restkapazitäten \"c[h]\": \n",
      "\n",
      "    Res_Cap1  Stock1  Stock2  Time   Value             Successor  Best Order  \\\n",
      "23         2       0       0     3  4387.5  [66, 38, 70, 46, 22]           2   \n",
      "70         0       0       0     2     0.0                  [69]           0   \n",
      "22         2       0       0     2  3775.0  [65, 37, 21, 69, 45]           2   \n",
      "21         2       0       0     1  2550.0  [68, 44, 20, 64, 36]           2   \n",
      "20         2       0       0     0     0.0                 [end]           0   \n",
      "46         1       0       0     2    75.0          [61, 45, 69]           1   \n",
      "38         1       1       0     2   150.0      [45, 53, 37, 61]           1   \n",
      "45         1       0       0     1    50.0          [68, 44, 60]           1   \n",
      "53         0       2       0     1    50.0              [60, 52]           1   \n",
      "61         0       1       0     1    50.0              [68, 60]           1   \n",
      "37         1       1       0     1   100.0      [60, 36, 52, 44]           1   \n",
      "60         0       1       0     0     0.0                 [end]           0   \n",
      "36         1       1       0     0     0.0                 [end]           0   \n",
      "52         0       2       0     0     0.0                 [end]           0   \n",
      "44         1       0       0     0     0.0                 [end]           0   \n",
      "66         0       0       1     2  3750.0              [65, 69]           2   \n",
      "69         0       0       0     1     0.0                  [68]           0   \n",
      "65         0       0       1     1  2500.0              [64, 68]           2   \n",
      "68         0       0       0     0     0.0                 [end]           0   \n",
      "64         0       0       1     0     0.0                 [end]           0   \n",
      "\n",
      "   Modus  r[j]-OC[j]  \n",
      "23    AA        1224  \n",
      "70    KA           0  \n",
      "22    AA        2450  \n",
      "21    AA        5000  \n",
      "20     -           0  \n",
      "46    AA          50  \n",
      "38    AA          50  \n",
      "45    AA         100  \n",
      "53    LE         100  \n",
      "61    LE         100  \n",
      "37    AA         100  \n",
      "60     -           0  \n",
      "36     -           0  \n",
      "52     -           0  \n",
      "44     -           0  \n",
      "66    LE        2500  \n",
      "69    KA           0  \n",
      "65    LE        5000  \n",
      "68     -           0  \n",
      "64     -           0   \n",
      "\n",
      "[23, 70, 22, 21, 20, 46, 38, 45, 53, 61, 37, 60, 36, 52, 44, 66, 69, 65, 68, 64, 'end']\n",
      "23 66 {2: {'weight_goal': 3750.0, 'not_best_politic': True, 'modus': 'LP', 'goal': array([0, 0, 1, 2]), 'weight': -25.0, 'revenue': 0, 'time': 3, 'label': '2-LP'}} \n",
      "\n",
      "23 38 {1: {'weight_goal': 150.0, 'not_best_politic': True, 'modus': 'KA', 'goal': array([1, 1, 0, 2]), 'weight': 0, 'revenue': 0, 'time': 3, 'label': '1-KA'}} \n",
      "\n",
      "23 70 {2: {'weight_goal': 0.0, 'style': 'bold', 'not_best_politic': False, 'modus': 'AA', 'goal': array([0, 0, 0, 2]), 'weight': 1225.0, 'revenue': 5000, 'time': 3, 'label': '2-AA'}} \n",
      "\n",
      "23 46 {1: {'weight_goal': 75.0, 'not_best_politic': True, 'modus': 'KA', 'goal': array([1, 0, 0, 2]), 'weight': 0, 'revenue': 0, 'time': 3, 'label': '1-KA'}} \n",
      "\n",
      "23 22 {0: {'weight_goal': 3775.0, 'goal': array([2, 0, 0, 2]), 'weight': 0.0, 'revenue': 0, 'label': 'KA', 'not_best_politic': True, 'modus': 'KA', 'time': 3}} \n",
      "\n",
      "70 69 {0: {'weight_goal': 0.0, 'style': 'bold', 'goal': array([0, 0, 0, 1]), 'weight': 0.0, 'revenue': 0, 'label': 'KA', 'not_best_politic': False, 'modus': 'KA', 'time': 2}} \n",
      "\n",
      "22 65 {2: {'weight_goal': 2500.0, 'not_best_politic': True, 'modus': 'LP', 'goal': array([0, 0, 1, 1]), 'weight': -50.0, 'revenue': 0, 'time': 2, 'label': '2-LP'}} \n",
      "\n",
      "22 37 {1: {'weight_goal': 100.0, 'not_best_politic': True, 'modus': 'KA', 'goal': array([1, 1, 0, 1]), 'weight': 0, 'revenue': 0, 'time': 2, 'label': '1-KA'}} \n",
      "\n",
      "22 21 {0: {'weight_goal': 2550.0, 'goal': array([2, 0, 0, 1]), 'weight': 0.0, 'revenue': 0, 'label': 'KA', 'not_best_politic': True, 'modus': 'KA', 'time': 2}} \n",
      "\n",
      "22 69 {2: {'weight_goal': 0.0, 'style': 'bold', 'not_best_politic': False, 'modus': 'AA', 'goal': array([0, 0, 0, 1]), 'weight': 2450.0, 'revenue': 5000, 'time': 2, 'label': '2-AA'}} \n",
      "\n",
      "22 45 {1: {'weight_goal': 50.0, 'not_best_politic': True, 'modus': 'KA', 'goal': array([1, 0, 0, 1]), 'weight': 0, 'revenue': 0, 'time': 2, 'label': '1-KA'}} \n",
      "\n",
      "21 68 {2: {'weight_goal': 0.0, 'style': 'bold', 'not_best_politic': False, 'modus': 'AA', 'goal': array([0, 0, 0, 0]), 'weight': 5000.0, 'revenue': 5000, 'time': 1, 'label': '2-AA'}} \n",
      "\n",
      "21 44 {1: {'weight_goal': 0.0, 'not_best_politic': True, 'modus': 'AA', 'goal': array([1, 0, 0, 0]), 'weight': 100.0, 'revenue': 100, 'time': 1, 'label': '1-AA'}} \n",
      "\n",
      "21 20 {0: {'weight_goal': 0.0, 'goal': array([2, 0, 0, 0]), 'weight': 0.0, 'revenue': 0, 'label': 'KA', 'not_best_politic': True, 'modus': 'KA', 'time': 1}} \n",
      "\n",
      "21 64 {2: {'weight_goal': 0.0, 'not_best_politic': True, 'modus': 'LP', 'goal': array([0, 0, 1, 0]), 'weight': 0.0, 'revenue': 0, 'time': 1, 'label': '2-LP'}} \n",
      "\n",
      "21 36 {1: {'weight_goal': 0.0, 'not_best_politic': True, 'modus': 'LP', 'goal': array([1, 1, 0, 0]), 'weight': 0.0, 'revenue': 0, 'time': 1, 'label': '1-LP'}} \n",
      "\n",
      "20 end {0: {'revenue': 0, 'modus': 0, 'weight': 0, 'time': 0}} \n",
      "\n",
      "46 61 {1: {'weight_goal': 50.0, 'not_best_politic': True, 'modus': 'LP', 'goal': array([0, 1, 0, 1]), 'weight': 0.0, 'revenue': 0, 'time': 2, 'label': '1-LP'}} \n",
      "\n",
      "46 45 {0: {'weight_goal': 50.0, 'goal': array([1, 0, 0, 1]), 'weight': 0.0, 'revenue': 0, 'label': 'KA', 'not_best_politic': True, 'modus': 'KA', 'time': 2}} \n",
      "\n",
      "46 69 {1: {'weight_goal': 0.0, 'style': 'bold', 'not_best_politic': False, 'modus': 'AA', 'goal': array([0, 0, 0, 1]), 'weight': 50.0, 'revenue': 100, 'time': 2, 'label': '1-AA'}} \n",
      "\n",
      "38 45 {1: {'weight_goal': 50.0, 'not_best_politic': True, 'modus': 'LE', 'goal': array([1, 0, 0, 1]), 'weight': 50.0, 'revenue': 100, 'time': 2, 'label': '1-LE'}} \n",
      "\n",
      "38 53 {1: {'weight_goal': 50.0, 'not_best_politic': True, 'modus': 'LP', 'goal': array([0, 2, 0, 1]), 'weight': -50.0, 'revenue': 0, 'time': 2, 'label': '1-LP'}} \n",
      "\n",
      "38 37 {0: {'weight_goal': 100.0, 'goal': array([1, 1, 0, 1]), 'weight': 0.0, 'revenue': 0, 'label': 'KA', 'not_best_politic': True, 'modus': 'KA', 'time': 2}} \n",
      "\n",
      "38 61 {1: {'weight_goal': 50.0, 'style': 'bold', 'not_best_politic': False, 'modus': 'AA', 'goal': array([0, 1, 0, 1]), 'weight': 50.0, 'revenue': 100, 'time': 2, 'label': '1-AA'}} \n",
      "\n",
      "45 68 {1: {'weight_goal': 0.0, 'style': 'bold', 'not_best_politic': False, 'modus': 'AA', 'goal': array([0, 0, 0, 0]), 'weight': 100.0, 'revenue': 100, 'time': 1, 'label': '1-AA'}} \n",
      "\n",
      "45 44 {0: {'weight_goal': 0.0, 'goal': array([1, 0, 0, 0]), 'weight': 0.0, 'revenue': 0, 'label': 'KA', 'not_best_politic': True, 'modus': 'KA', 'time': 1}} \n",
      "\n",
      "45 60 {1: {'weight_goal': 0.0, 'not_best_politic': True, 'modus': 'LP', 'goal': array([0, 1, 0, 0]), 'weight': 0.0, 'revenue': 0, 'time': 1, 'label': '1-LP'}} \n",
      "\n",
      "53 60 {1: {'weight_goal': 0.0, 'style': 'bold', 'not_best_politic': False, 'modus': 'LE', 'goal': array([0, 1, 0, 0]), 'weight': 100.0, 'revenue': 100, 'time': 1, 'label': '1-LE'}} \n",
      "\n",
      "53 52 {0: {'weight_goal': 0.0, 'goal': array([0, 2, 0, 0]), 'weight': 0.0, 'revenue': 0, 'label': 'KA', 'not_best_politic': True, 'modus': 'KA', 'time': 1}} \n",
      "\n",
      "61 68 {1: {'weight_goal': 0.0, 'style': 'bold', 'not_best_politic': False, 'modus': 'LE', 'goal': array([0, 0, 0, 0]), 'weight': 100.0, 'revenue': 100, 'time': 1, 'label': '1-LE'}} \n",
      "\n",
      "61 60 {0: {'weight_goal': 0.0, 'goal': array([0, 1, 0, 0]), 'weight': 0.0, 'revenue': 0, 'label': 'KA', 'not_best_politic': True, 'modus': 'KA', 'time': 1}} \n",
      "\n",
      "37 60 {1: {'weight_goal': 0.0, 'style': 'bold', 'not_best_politic': False, 'modus': 'AA', 'goal': array([0, 1, 0, 0]), 'weight': 100.0, 'revenue': 100, 'time': 1, 'label': '1-AA'}} \n",
      "\n",
      "37 36 {0: {'weight_goal': 0.0, 'goal': array([1, 1, 0, 0]), 'weight': 0.0, 'revenue': 0, 'label': 'KA', 'not_best_politic': True, 'modus': 'KA', 'time': 1}} \n",
      "\n",
      "37 52 {1: {'weight_goal': 0.0, 'not_best_politic': True, 'modus': 'LP', 'goal': array([0, 2, 0, 0]), 'weight': 0.0, 'revenue': 0, 'time': 1, 'label': '1-LP'}} \n",
      "\n",
      "37 44 {1: {'weight_goal': 0.0, 'not_best_politic': True, 'modus': 'LE', 'goal': array([1, 0, 0, 0]), 'weight': 100.0, 'revenue': 100, 'time': 1, 'label': '1-LE'}} \n",
      "\n",
      "60 end {0: {'revenue': 0, 'modus': 0, 'weight': 0, 'time': 0}} \n",
      "\n",
      "36 end {0: {'revenue': 0, 'modus': 0, 'weight': 0, 'time': 0}} \n",
      "\n",
      "52 end {0: {'revenue': 0, 'modus': 0, 'weight': 0, 'time': 0}} \n",
      "\n",
      "44 end {0: {'revenue': 0, 'modus': 0, 'weight': 0, 'time': 0}} \n",
      "\n",
      "66 65 {0: {'weight_goal': 2500.0, 'goal': array([0, 0, 1, 1]), 'weight': 0.0, 'revenue': 0, 'label': 'KA', 'not_best_politic': True, 'modus': 'KA', 'time': 2}} \n",
      "\n",
      "66 69 {2: {'weight_goal': 0.0, 'style': 'bold', 'not_best_politic': False, 'modus': 'LE', 'goal': array([0, 0, 0, 1]), 'weight': 2500.0, 'revenue': 5000, 'time': 2, 'label': '2-LE'}} \n",
      "\n",
      "69 68 {0: {'weight_goal': 0.0, 'style': 'bold', 'goal': array([0, 0, 0, 0]), 'weight': 0.0, 'revenue': 0, 'label': 'KA', 'not_best_politic': False, 'modus': 'KA', 'time': 1}} \n",
      "\n",
      "65 64 {0: {'weight_goal': 0.0, 'goal': array([0, 0, 1, 0]), 'weight': 0.0, 'revenue': 0, 'label': 'KA', 'not_best_politic': True, 'modus': 'KA', 'time': 1}} \n",
      "\n",
      "65 68 {2: {'weight_goal': 0.0, 'style': 'bold', 'not_best_politic': False, 'modus': 'LE', 'goal': array([0, 0, 0, 0]), 'weight': 5000.0, 'revenue': 5000, 'time': 1, 'label': '2-LE'}} \n",
      "\n",
      "68 end {0: {'revenue': 0, 'modus': 0, 'weight': 0, 'time': 0}} \n",
      "\n",
      "64 end {0: {'revenue': 0, 'modus': 0, 'weight': 0, 'time': 0}} \n",
      "\n",
      "[23, 70, 69, 68]\n",
      "   Opt. Politic  from  to  Revenue  Cum_Rev\n",
      "3             2    23  70     5000     5000\n",
      "2             0    70  69        0     5000\n",
      "1             0    69  68        0     5000 \n",
      "\n"
     ]
    },
    {
     "data": {
      "text/plain": [
       "(    Res_Cap1  Stock1  Stock2  Time   Value             Successor  Best Order  \\\n",
       " 23         2       0       0     3  4387.5  [66, 38, 70, 46, 22]           2   \n",
       " 70         0       0       0     2     0.0                  [69]           0   \n",
       " 22         2       0       0     2  3775.0  [65, 37, 21, 69, 45]           2   \n",
       " 21         2       0       0     1  2550.0  [68, 44, 20, 64, 36]           2   \n",
       " 20         2       0       0     0     0.0                 [end]           0   \n",
       " 46         1       0       0     2    75.0          [61, 45, 69]           1   \n",
       " 38         1       1       0     2   150.0      [45, 53, 37, 61]           1   \n",
       " 45         1       0       0     1    50.0          [68, 44, 60]           1   \n",
       " 53         0       2       0     1    50.0              [60, 52]           1   \n",
       " 61         0       1       0     1    50.0              [68, 60]           1   \n",
       " 37         1       1       0     1   100.0      [60, 36, 52, 44]           1   \n",
       " 60         0       1       0     0     0.0                 [end]           0   \n",
       " 36         1       1       0     0     0.0                 [end]           0   \n",
       " 52         0       2       0     0     0.0                 [end]           0   \n",
       " 44         1       0       0     0     0.0                 [end]           0   \n",
       " 66         0       0       1     2  3750.0              [65, 69]           2   \n",
       " 69         0       0       0     1     0.0                  [68]           0   \n",
       " 65         0       0       1     1  2500.0              [64, 68]           2   \n",
       " 68         0       0       0     0     0.0                 [end]           0   \n",
       " 64         0       0       1     0     0.0                 [end]           0   \n",
       " \n",
       "    Modus  r[j]-OC[j]  \n",
       " 23    AA        1224  \n",
       " 70    KA           0  \n",
       " 22    AA        2450  \n",
       " 21    AA        5000  \n",
       " 20     -           0  \n",
       " 46    AA          50  \n",
       " 38    AA          50  \n",
       " 45    AA         100  \n",
       " 53    LE         100  \n",
       " 61    LE         100  \n",
       " 37    AA         100  \n",
       " 60     -           0  \n",
       " 36     -           0  \n",
       " 52     -           0  \n",
       " 44     -           0  \n",
       " 66    LE        2500  \n",
       " 69    KA           0  \n",
       " 65    LE        5000  \n",
       " 68     -           0  \n",
       " 64     -           0  ,    Opt. Politic  from  to  Revenue  Cum_Rev\n",
       " 3             2    23  70     5000     5000\n",
       " 2             0    70  69        0     5000\n",
       " 1             0    69  68        0     5000)"
      ]
     },
     "execution_count": 27,
     "metadata": {},
     "output_type": "execute_result"
    }
   ],
   "source": [
    "graph = Structure_Storage(solutions, condition_storages, products, resources, consumtions, revenues, stocks, shifts, max_stocks)\n",
    "\n",
    "Best_Politic_Stock(graph, times, resources, stocks, solutions)"
   ]
  },
  {
   "cell_type": "code",
   "execution_count": null,
   "metadata": {
    "collapsed": false
   },
   "outputs": [],
   "source": [
    "import matplotlib as plt\n",
    "\n",
    "draw = graph.copy()\n",
    "draw.remove_node('end')\n",
    "        # Quelle: http://stackoverflow.com/a/11484144/4913569\n",
    "        # ----\n",
    "        # write dot file to use with graphviz\n",
    "        # run \"dot -Tpng test.dot >test.png\"\n",
    "nx.write_dot(draw,'test.dot')\n",
    "\n",
    "        # same layout using matplotlib with no labels\n",
    "pos=nx.graphviz_layout(draw,prog='dot')\n",
    "plt.figure(figsize=(size_x,size_y))\n",
    "plt.title(\"Entscheidungsbaum\")\n",
    "nx.draw(draw,pos,with_labels=True, node_size=500)\n",
    "plt.savefig('GraphTest.png')"
   ]
  },
  {
   "cell_type": "code",
   "execution_count": null,
   "metadata": {
    "collapsed": false
   },
   "outputs": [],
   "source": [
    "Best_Politic(graph, times, resources, start=None)"
   ]
  },
  {
   "cell_type": "code",
   "execution_count": null,
   "metadata": {
    "collapsed": false
   },
   "outputs": [],
   "source": [
    "import numpy as np\n",
    "test = np.array([1, 3, 3])\n",
    "test2 = np.array([2, 2, 2])\n",
    "\n",
    "print np.all(test > test2)"
   ]
  },
  {
   "cell_type": "code",
   "execution_count": null,
   "metadata": {
    "collapsed": true
   },
   "outputs": [],
   "source": []
  }
 ],
 "metadata": {
  "kernelspec": {
   "display_name": "Python 2",
   "language": "python",
   "name": "python2"
  },
  "language_info": {
   "codemirror_mode": {
    "name": "ipython",
    "version": 2
   },
   "file_extension": ".py",
   "mimetype": "text/x-python",
   "name": "python",
   "nbconvert_exporter": "python",
   "pygments_lexer": "ipython2",
   "version": "2.7.10"
  }
 },
 "nbformat": 4,
 "nbformat_minor": 0
}
