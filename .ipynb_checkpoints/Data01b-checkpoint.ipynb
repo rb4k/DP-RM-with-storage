{
 "cells": [
  {
   "cell_type": "code",
   "execution_count": 83,
   "metadata": {
    "collapsed": false
   },
   "outputs": [],
   "source": [
    "__version__ = '0.3'\n",
    "__author__  = \"Robert Matern (r.matern@stud.uni-hannover.de)\"\n",
    "__date__    = ''\n",
    "__url__     = ''\n",
    "__copyright__ = \"(C) 2015 Robert Matern\""
   ]
  },
  {
   "cell_type": "markdown",
   "metadata": {},
   "source": [
    "#Beispieldaten Nr. 1"
   ]
  },
  {
   "cell_type": "code",
   "execution_count": 84,
   "metadata": {
    "collapsed": false
   },
   "outputs": [],
   "source": [
    "# Funktionen werden hinzugeladen.\n",
    "%run Parameter.ipynb"
   ]
  },
  {
   "cell_type": "code",
   "execution_count": 85,
   "metadata": {
    "collapsed": false
   },
   "outputs": [
    {
     "name": "stdout",
     "output_type": "stream",
     "text": [
      "0:00:00.000936\n"
     ]
    }
   ],
   "source": [
    "# Produkte\n",
    "products = Product(2)\n",
    "\n",
    "# Ressourcen\n",
    "resources = Resource(1)\n",
    "\n",
    "#Kapazität\n",
    "capacities = Capacity(resources)\n",
    "capacities[1] = 2\n",
    "\n",
    "# Ressourcenverbrauch\n",
    "consumtions = Consumption(products, resources)\n",
    "consumtions[1] = [0,1]\n",
    "consumtions[2] = [0,2]\n",
    "\n",
    "# Erträge\n",
    "revenues = Revenue(products)\n",
    "revenues[1] = 100\n",
    "revenues[2] = 200\n",
    "\n",
    "# Buchungshorizont\n",
    "times = Time(3)\n",
    "\n",
    "# Wahrscheinlichkeiten\n",
    "probs = Prob(products, times)\n",
    "probs[1] = [0, 0.5, 0.5, 0.5]\n",
    "probs[2] = [0, 0.1, 0.1, 0.1]\n",
    "\n",
    "# Gegenwahrscheinlichkeiten\n",
    "against_probs = Against_Prob(probs)\n",
    "probs[0] = against_probs\n",
    "\n",
    "# Tat. Nachfrage\n",
    "demands = Demand(products, times)\n",
    "demands[0] = [0, 1, 1, 1] # Keine Anfragen müssen immer möglich sein!\n",
    "demands[1] = [0, 1, 1, 1]\n",
    "demands[2] = [0, 0, 0, 0]\n",
    "\n",
    "# Systemzustände\n",
    "conditions = Condition(capacities, resources, times)\n",
    "\n",
    "\n",
    "# Endzeitpunkte\n",
    "#end_times = End_Time(conditions)"
   ]
  },
  {
   "cell_type": "markdown",
   "metadata": {},
   "source": [
    "inkl. Lagerhaltung"
   ]
  },
  {
   "cell_type": "code",
   "execution_count": 86,
   "metadata": {
    "collapsed": true
   },
   "outputs": [],
   "source": [
    "%run Parameter-storage.ipynb"
   ]
  },
  {
   "cell_type": "code",
   "execution_count": 87,
   "metadata": {
    "collapsed": false
   },
   "outputs": [
    {
     "name": "stdout",
     "output_type": "stream",
     "text": [
      "0:00:00.000414\n"
     ]
    }
   ],
   "source": [
    "#Lagerbestand\n",
    "stocks = Stock(products)\n",
    "\n",
    "max_stocks = Max_Stock(products)\n",
    "max_stocks[1] = 2\n",
    "max_stocks[2] = 1\n",
    "\n",
    "#Lagerveränderung\n",
    "shifts = Shift(products)\n",
    "\n",
    "# Systemzustände\n",
    "condition_storages = Condition_Storage(capacities, resources, max_stocks, times)\n",
    "# Bei der Modelformulierung mit Lagerproduktion wird der Parameter 'max_stocks' benötigt."
   ]
  },
  {
   "cell_type": "code",
   "execution_count": 88,
   "metadata": {
    "collapsed": false
   },
   "outputs": [],
   "source": [
    "%run DynamicProgramm-storage.ipynb"
   ]
  },
  {
   "cell_type": "code",
   "execution_count": 89,
   "metadata": {
    "collapsed": false
   },
   "outputs": [
    {
     "name": "stdout",
     "output_type": "stream",
     "text": [
      "Bestände: [2 0 0] - Periode: 0 - Erwartungswert: 0.0 - Optimale Politik: 0 KA\n",
      "Bestände: [1 0 0] - Periode: 0 - Erwartungswert: 0.0 - Optimale Politik: 0 KA\n",
      "Bestände: [1 1 0] - Periode: 0 - Erwartungswert: 0.0 - Optimale Politik: 0 KA\n",
      "Bestände: [0 0 0] - Periode: 0 - Erwartungswert: 0.0 - Optimale Politik: 0 KA\n",
      "Bestände: [0 0 1] - Periode: 0 - Erwartungswert: 0.0 - Optimale Politik: 0 KA\n",
      "Bestände: [2 0 0] - Periode: 1 - Erwartungswert: 70.0 - Optimale Politik: 2 AA\n",
      "Bestände: [0 1 0] - Periode: 0 - Erwartungswert: 0.0 - Optimale Politik: 0 KA\n",
      "Bestände: [1 0 0] - Periode: 1 - Erwartungswert: 50.0 - Optimale Politik: 1 AA\n",
      "Bestände: [0 2 0] - Periode: 0 - Erwartungswert: 0.0 - Optimale Politik: 0 KA\n",
      "Bestände: [1 1 0] - Periode: 1 - Erwartungswert: 100.0 - Optimale Politik: 1 AA\n",
      "Bestände: [0 0 0] - Periode: 1 - Erwartungswert: 0.0 - Optimale Politik: 0 KA\n",
      "Bestände: [0 0 1] - Periode: 1 - Erwartungswert: 20.0 - Optimale Politik: 2 LE\n",
      "Bestände: [2 0 0] - Periode: 2 - Erwartungswert: 138.0 - Optimale Politik: 2 AA\n",
      "Bestände: [0 1 0] - Periode: 1 - Erwartungswert: 50.0 - Optimale Politik: 1 LE\n",
      "Bestände: [1 0 0] - Periode: 2 - Erwartungswert: 75.0 - Optimale Politik: 1 AA\n",
      "Bestände: [0 2 0] - Periode: 1 - Erwartungswert: 50.0 - Optimale Politik: 1 LE\n",
      "Bestände: [1 1 0] - Periode: 2 - Erwartungswert: 150.0 - Optimale Politik: 1 AA\n",
      "Bestände: [0 0 0] - Periode: 2 - Erwartungswert: 0.0 - Optimale Politik: 0 KA\n",
      "Bestände: [0 0 1] - Periode: 2 - Erwartungswert: 38.0 - Optimale Politik: 2 LE\n",
      "Bestände: [2 0 0] - Periode: 3 - Erwartungswert: 168.703 - Optimale Politik: 2 AA\n"
     ]
    },
    {
     "data": {
      "text/plain": [
       "168.70312"
      ]
     },
     "execution_count": 89,
     "metadata": {},
     "output_type": "execute_result"
    }
   ],
   "source": [
    "DP_Storage(solutions, condition_storages, products, resources, capacities, consumtions, times, revenues, probs, stocks, shifts, max_stocks)"
   ]
  },
  {
   "cell_type": "code",
   "execution_count": 90,
   "metadata": {
    "collapsed": false
   },
   "outputs": [
    {
     "name": "stdout",
     "output_type": "stream",
     "text": [
      "Optimalen Politik zum Zeitpunkt \"t\" und unter Beachtung der Restkapazitäten \"c[h]\": \n",
      "\n",
      "    $c_{1}$  $y_{1}$  $y_{2}$  $t$    ExpValue             Successor  $j^*$  \\\n",
      "23        2        0        0    3  168.703125  [66, 38, 70, 46, 22]      2   \n",
      "70        0        0        0    2    0.000000                  [69]      0   \n",
      "22        2        0        0    2  138.000000  [65, 37, 21, 69, 45]      2   \n",
      "21        2        0        0    1   70.000000  [68, 44, 20, 64, 36]      2   \n",
      "20        2        0        0    0    0.000000                 [end]      0   \n",
      "46        1        0        0    2   75.000000          [61, 45, 69]      1   \n",
      "38        1        1        0    2  150.000000      [45, 53, 37, 61]      1   \n",
      "45        1        0        0    1   50.000000          [68, 44, 60]      1   \n",
      "53        0        2        0    1   50.000000              [60, 52]      1   \n",
      "61        0        1        0    1   50.000000              [68, 60]      1   \n",
      "37        1        1        0    1  100.000000      [60, 36, 52, 44]      1   \n",
      "60        0        1        0    0    0.000000                 [end]      0   \n",
      "36        1        1        0    0    0.000000                 [end]      0   \n",
      "52        0        2        0    0    0.000000                 [end]      0   \n",
      "44        1        0        0    0    0.000000                 [end]      0   \n",
      "66        0        0        1    2   38.000000              [65, 69]      2   \n",
      "69        0        0        0    1    0.000000                  [68]      0   \n",
      "65        0        0        1    1   20.000000              [64, 68]      2   \n",
      "68        0        0        0    0    0.000000                 [end]      0   \n",
      "64        0        0        1    0    0.000000                 [end]      0   \n",
      "\n",
      "   $m$  $r_{j}-OC_{j}$  \n",
      "23  AA              62  \n",
      "70  KA               0  \n",
      "22  AA             130  \n",
      "21  AA             200  \n",
      "20   -               0  \n",
      "46  AA              50  \n",
      "38  AA              50  \n",
      "45  AA             100  \n",
      "53  LE             100  \n",
      "61  LE             100  \n",
      "37  AA             100  \n",
      "60   -               0  \n",
      "36   -               0  \n",
      "52   -               0  \n",
      "44   -               0  \n",
      "66  LE             180  \n",
      "69  KA               0  \n",
      "65  LE             200  \n",
      "68   -               0  \n",
      "64   -               0   \n",
      "\n",
      "   Opt. Politic  from  to  Revenue  Cum_Rev\n",
      "3             2    23  70      200      200\n",
      "2             0    70  69        0      200\n",
      "1             0    69  68        0      200 \n",
      "\n"
     ]
    },
    {
     "data": {
      "text/plain": [
       "(    $c_{1}$  $y_{1}$  $y_{2}$  $t$    ExpValue             Successor  $j^*$  \\\n",
       " 23        2        0        0    3  168.703125  [66, 38, 70, 46, 22]      2   \n",
       " 70        0        0        0    2    0.000000                  [69]      0   \n",
       " 22        2        0        0    2  138.000000  [65, 37, 21, 69, 45]      2   \n",
       " 21        2        0        0    1   70.000000  [68, 44, 20, 64, 36]      2   \n",
       " 20        2        0        0    0    0.000000                 [end]      0   \n",
       " 46        1        0        0    2   75.000000          [61, 45, 69]      1   \n",
       " 38        1        1        0    2  150.000000      [45, 53, 37, 61]      1   \n",
       " 45        1        0        0    1   50.000000          [68, 44, 60]      1   \n",
       " 53        0        2        0    1   50.000000              [60, 52]      1   \n",
       " 61        0        1        0    1   50.000000              [68, 60]      1   \n",
       " 37        1        1        0    1  100.000000      [60, 36, 52, 44]      1   \n",
       " 60        0        1        0    0    0.000000                 [end]      0   \n",
       " 36        1        1        0    0    0.000000                 [end]      0   \n",
       " 52        0        2        0    0    0.000000                 [end]      0   \n",
       " 44        1        0        0    0    0.000000                 [end]      0   \n",
       " 66        0        0        1    2   38.000000              [65, 69]      2   \n",
       " 69        0        0        0    1    0.000000                  [68]      0   \n",
       " 65        0        0        1    1   20.000000              [64, 68]      2   \n",
       " 68        0        0        0    0    0.000000                 [end]      0   \n",
       " 64        0        0        1    0    0.000000                 [end]      0   \n",
       " \n",
       "    $m$  $r_{j}-OC_{j}$  \n",
       " 23  AA              62  \n",
       " 70  KA               0  \n",
       " 22  AA             130  \n",
       " 21  AA             200  \n",
       " 20   -               0  \n",
       " 46  AA              50  \n",
       " 38  AA              50  \n",
       " 45  AA             100  \n",
       " 53  LE             100  \n",
       " 61  LE             100  \n",
       " 37  AA             100  \n",
       " 60   -               0  \n",
       " 36   -               0  \n",
       " 52   -               0  \n",
       " 44   -               0  \n",
       " 66  LE             180  \n",
       " 69  KA               0  \n",
       " 65  LE             200  \n",
       " 68   -               0  \n",
       " 64   -               0  ,    Opt. Politic  from  to  Revenue  Cum_Rev\n",
       " 3             2    23  70      200      200\n",
       " 2             0    70  69        0      200\n",
       " 1             0    69  68        0      200)"
      ]
     },
     "execution_count": 90,
     "metadata": {},
     "output_type": "execute_result"
    }
   ],
   "source": [
    "graph = Structure_Storage(solutions, condition_storages, products, resources, consumtions, revenues, stocks, shifts, max_stocks)\n",
    "\n",
    "Best_Politic_Stock(graph, times, resources, stocks, solutions)"
   ]
  },
  {
   "cell_type": "code",
   "execution_count": 91,
   "metadata": {
    "collapsed": false
   },
   "outputs": [
    {
     "ename": "AttributeError",
     "evalue": "'module' object has no attribute 'figure'",
     "output_type": "error",
     "traceback": [
      "\u001b[0;31m---------------------------------------------------------------------------\u001b[0m",
      "\u001b[0;31mAttributeError\u001b[0m                            Traceback (most recent call last)",
      "\u001b[0;32m<ipython-input-91-ec0a85ebe107>\u001b[0m in \u001b[0;36m<module>\u001b[0;34m()\u001b[0m\n\u001b[1;32m     11\u001b[0m         \u001b[0;31m# same layout using matplotlib with no labels\u001b[0m\u001b[0;34m\u001b[0m\u001b[0;34m\u001b[0m\u001b[0m\n\u001b[1;32m     12\u001b[0m \u001b[0mpos\u001b[0m\u001b[0;34m=\u001b[0m\u001b[0mnx\u001b[0m\u001b[0;34m.\u001b[0m\u001b[0mgraphviz_layout\u001b[0m\u001b[0;34m(\u001b[0m\u001b[0mdraw\u001b[0m\u001b[0;34m,\u001b[0m\u001b[0mprog\u001b[0m\u001b[0;34m=\u001b[0m\u001b[0;34m'dot'\u001b[0m\u001b[0;34m)\u001b[0m\u001b[0;34m\u001b[0m\u001b[0m\n\u001b[0;32m---> 13\u001b[0;31m \u001b[0mplt\u001b[0m\u001b[0;34m.\u001b[0m\u001b[0mfigure\u001b[0m\u001b[0;34m(\u001b[0m\u001b[0mfigsize\u001b[0m\u001b[0;34m=\u001b[0m\u001b[0;34m(\u001b[0m\u001b[0msize_x\u001b[0m\u001b[0;34m,\u001b[0m\u001b[0msize_y\u001b[0m\u001b[0;34m)\u001b[0m\u001b[0;34m)\u001b[0m\u001b[0;34m\u001b[0m\u001b[0m\n\u001b[0m\u001b[1;32m     14\u001b[0m \u001b[0mplt\u001b[0m\u001b[0;34m.\u001b[0m\u001b[0mtitle\u001b[0m\u001b[0;34m(\u001b[0m\u001b[0;34m\"Entscheidungsbaum\"\u001b[0m\u001b[0;34m)\u001b[0m\u001b[0;34m\u001b[0m\u001b[0m\n\u001b[1;32m     15\u001b[0m \u001b[0mnx\u001b[0m\u001b[0;34m.\u001b[0m\u001b[0mdraw\u001b[0m\u001b[0;34m(\u001b[0m\u001b[0mdraw\u001b[0m\u001b[0;34m,\u001b[0m\u001b[0mpos\u001b[0m\u001b[0;34m,\u001b[0m\u001b[0mwith_labels\u001b[0m\u001b[0;34m=\u001b[0m\u001b[0mTrue\u001b[0m\u001b[0;34m,\u001b[0m \u001b[0mnode_size\u001b[0m\u001b[0;34m=\u001b[0m\u001b[0;36m500\u001b[0m\u001b[0;34m)\u001b[0m\u001b[0;34m\u001b[0m\u001b[0m\n",
      "\u001b[0;31mAttributeError\u001b[0m: 'module' object has no attribute 'figure'"
     ]
    }
   ],
   "source": [
    "import matplotlib as plt\n",
    "\n",
    "draw = graph.copy()\n",
    "draw.remove_node('end')\n",
    "        # Quelle: http://stackoverflow.com/a/11484144/4913569\n",
    "        # ----\n",
    "        # write dot file to use with graphviz\n",
    "        # run \"dot -Tpng test.dot >test.png\"\n",
    "nx.write_dot(draw,'test.dot')\n",
    "\n",
    "        # same layout using matplotlib with no labels\n",
    "pos=nx.graphviz_layout(draw,prog='dot')\n",
    "plt.figure(figsize=(size_x,size_y))\n",
    "plt.title(\"Entscheidungsbaum\")\n",
    "nx.draw(draw,pos,with_labels=True, node_size=500)\n",
    "plt.savefig('GraphTest.png')"
   ]
  },
  {
   "cell_type": "code",
   "execution_count": null,
   "metadata": {
    "collapsed": false
   },
   "outputs": [],
   "source": [
    "Best_Politic(graph, times, resources, start=None)"
   ]
  },
  {
   "cell_type": "code",
   "execution_count": null,
   "metadata": {
    "collapsed": false
   },
   "outputs": [],
   "source": [
    "import numpy as np\n",
    "test = np.array([1, 3, 3])\n",
    "test2 = np.array([2, 2, 2])\n",
    "\n",
    "print np.all(test > test2)"
   ]
  },
  {
   "cell_type": "code",
   "execution_count": null,
   "metadata": {
    "collapsed": true
   },
   "outputs": [],
   "source": []
  }
 ],
 "metadata": {
  "kernelspec": {
   "display_name": "Python 2",
   "language": "python",
   "name": "python2"
  },
  "language_info": {
   "codemirror_mode": {
    "name": "ipython",
    "version": 2
   },
   "file_extension": ".py",
   "mimetype": "text/x-python",
   "name": "python",
   "nbconvert_exporter": "python",
   "pygments_lexer": "ipython2",
   "version": "2.7.10"
  }
 },
 "nbformat": 4,
 "nbformat_minor": 0
}
