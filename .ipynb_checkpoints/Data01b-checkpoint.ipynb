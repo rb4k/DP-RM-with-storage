{
 "cells": [
  {
   "cell_type": "code",
   "execution_count": 1,
   "metadata": {
    "collapsed": false
   },
   "outputs": [],
   "source": [
    "__version__ = '0.3'\n",
    "__author__  = \"Robert Matern (r.matern@stud.uni-hannover.de)\"\n",
    "__date__    = ''\n",
    "__url__     = ''\n",
    "__copyright__ = \"(C) 2015 Robert Matern\""
   ]
  },
  {
   "cell_type": "markdown",
   "metadata": {},
   "source": [
    "#Beispieldaten Nr. 1"
   ]
  },
  {
   "cell_type": "code",
   "execution_count": 2,
   "metadata": {
    "collapsed": false
   },
   "outputs": [],
   "source": [
    "# Funktionen werden hinzugeladen.\n",
    "%run Parameter.ipynb"
   ]
  },
  {
   "cell_type": "code",
   "execution_count": 3,
   "metadata": {
    "collapsed": false
   },
   "outputs": [
    {
     "name": "stdout",
     "output_type": "stream",
     "text": [
      "0:00:00.000308\n"
     ]
    }
   ],
   "source": [
    "# Produkte\n",
    "products = Product(2)\n",
    "\n",
    "# Ressourcen\n",
    "resources = Resource(1)\n",
    "\n",
    "#Kapazität\n",
    "capacities = Capacity(resources)\n",
    "capacities[1] = 2\n",
    "\n",
    "# Ressourcenverbrauch\n",
    "consumtions = Consumption(products, resources)\n",
    "consumtions[1] = [0,1]\n",
    "consumtions[2] = [0,2]\n",
    "\n",
    "# Erträge\n",
    "revenues = Revenue(products)\n",
    "revenues[1] = 100\n",
    "revenues[2] = 5000\n",
    "\n",
    "# Buchungshorizont\n",
    "times = Time(3)\n",
    "\n",
    "# Wahrscheinlichkeiten\n",
    "probs = Prob(products, times)\n",
    "probs[1] = [0, 0.5, 0.5, 0.5]\n",
    "probs[2] = [0, 0.5, 0.5, 0.5]\n",
    "\n",
    "# Gegenwahrscheinlichkeiten\n",
    "against_probs = Against_Prob(probs)\n",
    "probs[0] = against_probs\n",
    "\n",
    "# Tat. Nachfrage\n",
    "demands = Demand(products, times)\n",
    "demands[0] = [0, 1, 1, 1] # Keine Anfragen müssen immer möglich sein!\n",
    "demands[1] = [0, 1, 1, 1]\n",
    "demands[2] = [0, 0, 0, 0]\n",
    "\n",
    "# Systemzustände\n",
    "conditions = Condition(capacities, resources, times)\n",
    "\n",
    "\n",
    "# Endzeitpunkte\n",
    "#end_times = End_Time(conditions)"
   ]
  },
  {
   "cell_type": "markdown",
   "metadata": {},
   "source": [
    "inkl. Lagerhaltung"
   ]
  },
  {
   "cell_type": "code",
   "execution_count": 4,
   "metadata": {
    "collapsed": true
   },
   "outputs": [],
   "source": [
    "%run Parameter-storage.ipynb"
   ]
  },
  {
   "cell_type": "code",
   "execution_count": 5,
   "metadata": {
    "collapsed": false
   },
   "outputs": [
    {
     "name": "stdout",
     "output_type": "stream",
     "text": [
      "0:00:00.000529\n"
     ]
    }
   ],
   "source": [
    "#Lagerbestand\n",
    "stocks = Stock(products)\n",
    "\n",
    "max_stocks = Max_Stock(products)\n",
    "max_stocks[1] = 2\n",
    "max_stocks[2] = 1\n",
    "\n",
    "#Lagerveränderung\n",
    "shifts = Shift(products)\n",
    "\n",
    "# Systemzustände\n",
    "condition_storages = Condition_Storage(capacities, resources, max_stocks, times)\n",
    "# Bei der Modelformulierung mit Lagerproduktion wird der Parameter 'max_stocks' benötigt."
   ]
  },
  {
   "cell_type": "code",
   "execution_count": 6,
   "metadata": {
    "collapsed": false
   },
   "outputs": [
    {
     "name": "stdout",
     "output_type": "stream",
     "text": [
      "Couldn't import dot_parser, loading of dot files will not be possible.\n"
     ]
    }
   ],
   "source": [
    "%run DynamicProgramm-storage.ipynb"
   ]
  },
  {
   "cell_type": "code",
   "execution_count": 7,
   "metadata": {
    "collapsed": false
   },
   "outputs": [
    {
     "name": "stdout",
     "output_type": "stream",
     "text": [
      "Systemzustand: [2 0 0] - Periode: 0 - Erwartungswert: 0.0 - Optimale Politik: 0 KA\n",
      "Systemzustand: [1 0 0] - Periode: 0 - Erwartungswert: 0.0 - Optimale Politik: 0 KA\n",
      "Systemzustand: [1 1 0] - Periode: 0 - Erwartungswert: 0.0 - Optimale Politik: 0 KA\n",
      "Systemzustand: [0 0 0] - Periode: 0 - Erwartungswert: 0.0 - Optimale Politik: 0 KA\n",
      "Systemzustand: [0 0 1] - Periode: 0 - Erwartungswert: 0.0 - Optimale Politik: 0 KA\n",
      "Systemzustand: [2 0 0] - Periode: 1 - Erwartungswert: 2550.0 - Optimale Politik: 2 AA\n",
      "Systemzustand: [0 1 0] - Periode: 0 - Erwartungswert: 0.0 - Optimale Politik: 0 KA\n",
      "Systemzustand: [1 0 0] - Periode: 1 - Erwartungswert: 50.0 - Optimale Politik: 1 AA\n",
      "Systemzustand: [0 2 0] - Periode: 0 - Erwartungswert: 0.0 - Optimale Politik: 0 KA\n",
      "Systemzustand: [1 1 0] - Periode: 1 - Erwartungswert: 100.0 - Optimale Politik: 1 AA\n",
      "Systemzustand: [0 0 0] - Periode: 1 - Erwartungswert: 0.0 - Optimale Politik: 1 AA\n",
      "Systemzustand: [0 0 1] - Periode: 1 - Erwartungswert: 2500.0 - Optimale Politik: 2 LE\n",
      "Systemzustand: [2 0 0] - Periode: 2 - Erwartungswert: 3775.0 - Optimale Politik: 2 AA\n",
      "Systemzustand: [0 1 0] - Periode: 1 - Erwartungswert: 50.0 - Optimale Politik: 1 LE\n",
      "Systemzustand: [1 0 0] - Periode: 2 - Erwartungswert: 75.0 - Optimale Politik: 1 AA\n",
      "Systemzustand: [0 2 0] - Periode: 1 - Erwartungswert: 50.0 - Optimale Politik: 1 LE\n",
      "Systemzustand: [1 1 0] - Periode: 2 - Erwartungswert: 150.0 - Optimale Politik: 1 AA\n",
      "Systemzustand: [0 0 0] - Periode: 2 - Erwartungswert: 0.0 - Optimale Politik: 1 AA\n",
      "Systemzustand: [0 0 1] - Periode: 2 - Erwartungswert: 3750.0 - Optimale Politik: 2 LE\n",
      "Systemzustand: [2 0 0] - Periode: 3 - Erwartungswert: 4387.5 - Optimale Politik: 2 AA\n"
     ]
    },
    {
     "data": {
      "text/plain": [
       "4387.5"
      ]
     },
     "execution_count": 7,
     "metadata": {},
     "output_type": "execute_result"
    }
   ],
   "source": [
    "DP_Storage(solutions, condition_storages, products, resources, capacities, consumtions, times, probs, stocks, shifts, max_stocks)"
   ]
  },
  {
   "cell_type": "code",
   "execution_count": 8,
   "metadata": {
    "collapsed": false
   },
   "outputs": [
    {
     "name": "stdout",
     "output_type": "stream",
     "text": [
      "Optimalen Politik zum Zeitpunkt \"t\" und unter Beachtung der Restkapazitäten \"c[h]\": \n",
      "\n",
      "23 70 2 2 AA AA\n",
      "22 69 2 2 AA AA\n",
      "21 68 2 2 AA AA\n",
      "46 69 1 1 AA AA\n",
      "38 61 1 1 AA AA\n",
      "45 68 1 1 AA AA\n",
      "53 60 1 1 LE LE\n",
      "61 68 1 1 LE LE\n",
      "37 60 1 1 AA AA\n",
      "66 69 2 2 LE LE\n",
      "65 68 2 2 LE LE\n",
      "     Value             Successor  Res_Cap1  Stock1  Stock2  Time  Best Order  \\\n",
      "23  4387.5  [66, 38, 70, 46, 22]         2       0       0     3           2   \n",
      "70     0.0                  [69]         0       0       0     2           1   \n",
      "22  3775.0  [65, 37, 21, 69, 45]         2       0       0     2           2   \n",
      "21  2550.0  [68, 44, 20, 64, 36]         2       0       0     1           2   \n",
      "20     0.0                 [end]         2       0       0     0           0   \n",
      "46    75.0          [61, 45, 69]         1       0       0     2           1   \n",
      "38   150.0      [45, 53, 37, 61]         1       1       0     2           1   \n",
      "45    50.0          [68, 44, 60]         1       0       0     1           1   \n",
      "53    50.0              [60, 52]         0       2       0     1           1   \n",
      "61    50.0              [68, 60]         0       1       0     1           1   \n",
      "37   100.0      [60, 36, 52, 44]         1       1       0     1           1   \n",
      "60     0.0                 [end]         0       1       0     0           0   \n",
      "36     0.0                 [end]         1       1       0     0           0   \n",
      "52     0.0                 [end]         0       2       0     0           0   \n",
      "44     0.0                 [end]         1       0       0     0           0   \n",
      "66  3750.0              [65, 69]         0       0       1     2           2   \n",
      "69     0.0                  [68]         0       0       0     1           1   \n",
      "65  2500.0              [64, 68]         0       0       1     1           2   \n",
      "68     0.0                 [end]         0       0       0     0           0   \n",
      "64     0.0                 [end]         0       0       1     0           0   \n",
      "\n",
      "   Modus    OC  \n",
      "23    AA  3776  \n",
      "70    AA     0  \n",
      "22    AA  2550  \n",
      "21    AA     0  \n",
      "20     -     0  \n",
      "46    AA    50  \n",
      "38    AA    50  \n",
      "45    AA     0  \n",
      "53    LE     0  \n",
      "61    LE     0  \n",
      "37    AA     0  \n",
      "60     -     0  \n",
      "36     -     0  \n",
      "52     -     0  \n",
      "44     -     0  \n",
      "66    LE  2500  \n",
      "69    AA     0  \n",
      "65    LE     0  \n",
      "68     -     0  \n",
      "64     -     0   \n",
      "\n",
      "[23, 38, 61, 68]\n",
      "   Opt. Politic  from  to  Revenue  Cum_Rev\n",
      "3             0     0   0        0        0\n",
      "2             1    38  61      100      100\n",
      "1             1    61  68      100      200 \n",
      "\n"
     ]
    },
    {
     "data": {
      "text/plain": [
       "(     Value             Successor  Res_Cap1  Stock1  Stock2  Time  Best Order  \\\n",
       " 23  4387.5  [66, 38, 70, 46, 22]         2       0       0     3           2   \n",
       " 70     0.0                  [69]         0       0       0     2           1   \n",
       " 22  3775.0  [65, 37, 21, 69, 45]         2       0       0     2           2   \n",
       " 21  2550.0  [68, 44, 20, 64, 36]         2       0       0     1           2   \n",
       " 20     0.0                 [end]         2       0       0     0           0   \n",
       " 46    75.0          [61, 45, 69]         1       0       0     2           1   \n",
       " 38   150.0      [45, 53, 37, 61]         1       1       0     2           1   \n",
       " 45    50.0          [68, 44, 60]         1       0       0     1           1   \n",
       " 53    50.0              [60, 52]         0       2       0     1           1   \n",
       " 61    50.0              [68, 60]         0       1       0     1           1   \n",
       " 37   100.0      [60, 36, 52, 44]         1       1       0     1           1   \n",
       " 60     0.0                 [end]         0       1       0     0           0   \n",
       " 36     0.0                 [end]         1       1       0     0           0   \n",
       " 52     0.0                 [end]         0       2       0     0           0   \n",
       " 44     0.0                 [end]         1       0       0     0           0   \n",
       " 66  3750.0              [65, 69]         0       0       1     2           2   \n",
       " 69     0.0                  [68]         0       0       0     1           1   \n",
       " 65  2500.0              [64, 68]         0       0       1     1           2   \n",
       " 68     0.0                 [end]         0       0       0     0           0   \n",
       " 64     0.0                 [end]         0       0       1     0           0   \n",
       " \n",
       "    Modus    OC  \n",
       " 23    AA  3776  \n",
       " 70    AA     0  \n",
       " 22    AA  2550  \n",
       " 21    AA     0  \n",
       " 20     -     0  \n",
       " 46    AA    50  \n",
       " 38    AA    50  \n",
       " 45    AA     0  \n",
       " 53    LE     0  \n",
       " 61    LE     0  \n",
       " 37    AA     0  \n",
       " 60     -     0  \n",
       " 36     -     0  \n",
       " 52     -     0  \n",
       " 44     -     0  \n",
       " 66    LE  2500  \n",
       " 69    AA     0  \n",
       " 65    LE     0  \n",
       " 68     -     0  \n",
       " 64     -     0  ,    Opt. Politic  from  to  Revenue  Cum_Rev\n",
       " 3             0     0   0        0        0\n",
       " 2             1    38  61      100      100\n",
       " 1             1    61  68      100      200)"
      ]
     },
     "execution_count": 8,
     "metadata": {},
     "output_type": "execute_result"
    }
   ],
   "source": [
    "graph = Structure_Storage(solutions, condition_storages, products, resources, consumtions, revenues, stocks, shifts, max_stocks)\n",
    "\n",
    "Best_Politic_Stock(graph, times, resources, stocks, solutions)"
   ]
  },
  {
   "cell_type": "code",
   "execution_count": 9,
   "metadata": {
    "collapsed": false
   },
   "outputs": [
    {
     "ename": "KeyError",
     "evalue": "10",
     "output_type": "error",
     "traceback": [
      "\u001b[0;31m---------------------------------------------------------------------------\u001b[0m",
      "\u001b[0;31mKeyError\u001b[0m                                  Traceback (most recent call last)",
      "\u001b[0;32m<ipython-input-9-60247497b00a>\u001b[0m in \u001b[0;36m<module>\u001b[0;34m()\u001b[0m\n\u001b[0;32m----> 1\u001b[0;31m \u001b[0;32mprint\u001b[0m \u001b[0mgraph\u001b[0m\u001b[0;34m.\u001b[0m\u001b[0medge\u001b[0m\u001b[0;34m[\u001b[0m\u001b[0;36m10\u001b[0m\u001b[0;34m]\u001b[0m\u001b[0;34m[\u001b[0m\u001b[0;36m13\u001b[0m\u001b[0;34m]\u001b[0m\u001b[0;34m\u001b[0m\u001b[0m\n\u001b[0m\u001b[1;32m      2\u001b[0m \u001b[0;32mprint\u001b[0m \u001b[0mgraph\u001b[0m\u001b[0;34m.\u001b[0m\u001b[0medge\u001b[0m\u001b[0;34m[\u001b[0m\u001b[0;36m10\u001b[0m\u001b[0;34m]\u001b[0m\u001b[0;34m[\u001b[0m\u001b[0;36m25\u001b[0m\u001b[0;34m]\u001b[0m\u001b[0;34m\u001b[0m\u001b[0m\n\u001b[1;32m      3\u001b[0m \u001b[0;34m\u001b[0m\u001b[0m\n\u001b[1;32m      4\u001b[0m \u001b[0msolutions\u001b[0m\u001b[0;34m\u001b[0m\u001b[0m\n",
      "\u001b[0;31mKeyError\u001b[0m: 10"
     ]
    }
   ],
   "source": [
    "print graph.edge[10][13]\n",
    "print graph.edge[10][25]\n",
    "\n",
    "solutions"
   ]
  },
  {
   "cell_type": "code",
   "execution_count": null,
   "metadata": {
    "collapsed": false
   },
   "outputs": [],
   "source": [
    "import matplotlib as plt\n",
    "\n",
    "draw = graph.copy()\n",
    "draw.remove_node('end')\n",
    "        # Quelle: http://stackoverflow.com/a/11484144/4913569\n",
    "        # ----\n",
    "        # write dot file to use with graphviz\n",
    "        # run \"dot -Tpng test.dot >test.png\"\n",
    "nx.write_dot(draw,'test.dot')\n",
    "\n",
    "        # same layout using matplotlib with no labels\n",
    "pos=nx.graphviz_layout(draw,prog='dot')\n",
    "plt.figure(figsize=(size_x,size_y))\n",
    "plt.title(\"Entscheidungsbaum\")\n",
    "nx.draw(draw,pos,with_labels=True, node_size=500)\n",
    "plt.savefig('GraphTest.png')"
   ]
  },
  {
   "cell_type": "code",
   "execution_count": null,
   "metadata": {
    "collapsed": false
   },
   "outputs": [],
   "source": [
    "Best_Politic(graph, times, resources, start=None)"
   ]
  },
  {
   "cell_type": "code",
   "execution_count": null,
   "metadata": {
    "collapsed": false
   },
   "outputs": [],
   "source": [
    "import numpy as np\n",
    "test = np.array([1, 3, 3])\n",
    "test2 = np.array([2, 2, 2])\n",
    "\n",
    "print np.all(test > test2)"
   ]
  },
  {
   "cell_type": "code",
   "execution_count": null,
   "metadata": {
    "collapsed": true
   },
   "outputs": [],
   "source": []
  }
 ],
 "metadata": {
  "kernelspec": {
   "display_name": "Python 2",
   "language": "python",
   "name": "python2"
  },
  "language_info": {
   "codemirror_mode": {
    "name": "ipython",
    "version": 2
   },
   "file_extension": ".py",
   "mimetype": "text/x-python",
   "name": "python",
   "nbconvert_exporter": "python",
   "pygments_lexer": "ipython2",
   "version": "2.7.10"
  }
 },
 "nbformat": 4,
 "nbformat_minor": 0
}
