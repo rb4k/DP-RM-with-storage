{
 "cells": [
  {
   "cell_type": "code",
   "execution_count": 357,
   "metadata": {
    "collapsed": false
   },
   "outputs": [],
   "source": [
    "__version__ = '0.3'\n",
    "__author__  = \"Robert Matern (r.matern@stud.uni-hannover.de)\"\n",
    "__date__    = ''\n",
    "__url__     = ''\n",
    "__copyright__ = \"(C) 2015 Robert Matern\""
   ]
  },
  {
   "cell_type": "markdown",
   "metadata": {},
   "source": [
    "#Beispieldaten Nr. 1"
   ]
  },
  {
   "cell_type": "code",
   "execution_count": 358,
   "metadata": {
    "collapsed": false
   },
   "outputs": [],
   "source": [
    "# Funktionen werden hinzugeladen.\n",
    "%run Parameter.ipynb"
   ]
  },
  {
   "cell_type": "code",
   "execution_count": 359,
   "metadata": {
    "collapsed": false
   },
   "outputs": [
    {
     "name": "stdout",
     "output_type": "stream",
     "text": [
      "0:00:00.000312\n"
     ]
    }
   ],
   "source": [
    "# Produkte\n",
    "products = Product(2)\n",
    "\n",
    "# Ressourcen\n",
    "resources = Resource(1)\n",
    "\n",
    "#Kapazität\n",
    "capacities = Capacity(resources)\n",
    "capacities[1] = 2\n",
    "\n",
    "# Ressourcenverbrauch\n",
    "consumtions = Consumption(products, resources)\n",
    "consumtions[1] = [0,1]\n",
    "consumtions[2] = [0,3]\n",
    "\n",
    "# Erträge\n",
    "revenues = Revenue(products)\n",
    "revenues[1] = 100\n",
    "revenues[2] = 5000\n",
    "\n",
    "# Buchungshorizont\n",
    "times = Time(2)\n",
    "\n",
    "# Wahrscheinlichkeiten\n",
    "probs = Prob(products, times)\n",
    "probs[1] = [0, 0.5, 0.5]\n",
    "probs[2] = [0, 0.1, 0.1]\n",
    "\n",
    "# Gegenwahrscheinlichkeiten\n",
    "against_probs = Against_Prob(probs)\n",
    "probs[0] = against_probs\n",
    "\n",
    "# Tat. Nachfrage\n",
    "demands = Demand(products, times)\n",
    "demands[0] = [0, 1, 1] # Keine Anfragen müssen immer möglich sein!\n",
    "demands[1] = [0, 0, 1]\n",
    "demands[2] = [0, 1, 0]\n",
    "\n",
    "# Systemzustände\n",
    "conditions = Condition(capacities, resources, times)"
   ]
  },
  {
   "cell_type": "markdown",
   "metadata": {},
   "source": [
    "inkl. Lagerhaltung"
   ]
  },
  {
   "cell_type": "code",
   "execution_count": 360,
   "metadata": {
    "collapsed": false
   },
   "outputs": [],
   "source": [
    "%run Parameter-storage.ipynb"
   ]
  },
  {
   "cell_type": "code",
   "execution_count": 361,
   "metadata": {
    "collapsed": false
   },
   "outputs": [
    {
     "name": "stdout",
     "output_type": "stream",
     "text": [
      "0:00:00.005981\n"
     ]
    }
   ],
   "source": [
    "#Lagerbestand\n",
    "stock_resources = Stock_Resource(resources)\n",
    "stock_resources[1] = 1\n",
    "\n",
    "max_stock_resources = Max_Stock_Resource(resources)\n",
    "max_stock_resources[1] = 2\n",
    "\n",
    "# Systemzustände\n",
    "condition_storages = Condition_Storage(capacities, resources, max_stock_resources, times)\n",
    "# Bei der Modelformulierung mit Lagerproduktion wird der Parameter 'max_stocks' benötigt."
   ]
  },
  {
   "cell_type": "code",
   "execution_count": 362,
   "metadata": {
    "collapsed": false
   },
   "outputs": [],
   "source": [
    "#Regenerationsperiode\n",
    "time_regenerations = Time_Regeneration(times)\n",
    "\n",
    "#Max. Kapazität\n",
    "max_capacities = Max_Capacity(capacities)"
   ]
  },
  {
   "cell_type": "code",
   "execution_count": 363,
   "metadata": {
    "collapsed": false
   },
   "outputs": [],
   "source": [
    "%run DynamicProgramm-regeneration-and-modes.ipynb"
   ]
  },
  {
   "cell_type": "code",
   "execution_count": 364,
   "metadata": {
    "collapsed": false
   },
   "outputs": [
    {
     "name": "stdout",
     "output_type": "stream",
     "text": [
      "Bestände: [2 1] - Periode: 0 - Erwartungswert: 0.0 - Optimale Politik: 0 KA\n",
      "Bestände: [2 0] - Periode: 0 - Erwartungswert: 0.0 - Optimale Politik: 0 KA\n",
      "Bestände: [1 1] - Periode: 0 - Erwartungswert: 0.0 - Optimale Politik: 0 KA\n",
      "Bestände: [1 2] - Periode: 0 - Erwartungswert: 0.0 - Optimale Politik: 0 KA\n",
      "Bestände: [2 1] - Periode: 1 - Erwartungswert: 50.0 - Optimale Politik: 1 AA - RE: [0 1] - LE: [0 0]\n",
      "Bestände: [0 0] - Periode: 0 - Erwartungswert: 0.0 - Optimale Politik: 0 KA\n",
      "Bestände: [2 1] - Periode: 1 - Erwartungswert: 50.0 - Optimale Politik: 2 AA - RE: [0 3] - LE: [0 0]\n",
      "Bestände: [1 0] - Periode: 0 - Erwartungswert: 0.0 - Optimale Politik: 0 KA\n",
      "Bestände: [2 0] - Periode: 1 - Erwartungswert: 50.0 - Optimale Politik: 1 AA - RE: [0 1] - LE: [0 0]\n",
      "Bestände: [0 2] - Periode: 0 - Erwartungswert: 0.0 - Optimale Politik: 0 KA\n",
      "Bestände: [2 0] - Periode: 1 - Erwartungswert: 50.0 - Optimale Politik: 1 AA - RE: [0 3] - LE: [0 0]\n",
      "Bestände: [0 1] - Periode: 0 - Erwartungswert: 0.0 - Optimale Politik: 0 KA\n",
      "Bestände: [1 1] - Periode: 1 - Erwartungswert: 50.0 - Optimale Politik: 1 AA - RE: [0 1] - LE: [0 0]\n",
      "Bestände: [1 1] - Periode: 1 - Erwartungswert: 50.0 - Optimale Politik: 1 AA - RE: [0 3] - LE: [0 0]\n",
      "Bestände: [1 2] - Periode: 1 - Erwartungswert: 50.0 - Optimale Politik: 1 AA - RE: [0 1] - LE: [0 0]\n",
      "Bestände: [1 2] - Periode: 1 - Erwartungswert: 50.0 - Optimale Politik: 2 AA - RE: [0 3] - LE: [0 0]\n",
      "Bestände: [2 1] - Periode: 2 - Erwartungswert: 100.0 - Optimale Politik: 1 AA - RE: [0 1] - LE: [0 0]\n",
      "Bestände: [0 0] - Periode: 1 - Erwartungswert: 0.0 - Optimale Politik: 0 KA\n",
      "Bestände: [0 0] - Periode: 1 - Erwartungswert: 0.0 - Optimale Politik: 0 KA\n",
      "Bestände: [2 1] - Periode: 2 - Erwartungswert: 100.0 - Optimale Politik: 2 AA - RE: [0 3] - LE: [0 0]\n",
      "Bestände: [1 0] - Periode: 1 - Erwartungswert: 50.0 - Optimale Politik: 1 AA - RE: [0 1] - LE: [0 0]\n",
      "Bestände: [1 0] - Periode: 1 - Erwartungswert: 50.0 - Optimale Politik: 1 AA - RE: [0 3] - LE: [0 0]\n",
      "Bestände: [2 0] - Periode: 2 - Erwartungswert: 100.0 - Optimale Politik: 1 AA - RE: [0 1] - LE: [0 0]\n",
      "Bestände: [0 2] - Periode: 1 - Erwartungswert: 0.0 - Optimale Politik: 1 AA - RE: [0 1] - LE: [0 0]\n",
      "Bestände: [0 2] - Periode: 1 - Erwartungswert: 0.0 - Optimale Politik: 1 AA - RE: [0 3] - LE: [0 0]\n",
      "Bestände: [2 0] - Periode: 2 - Erwartungswert: 100.0 - Optimale Politik: 1 AA - RE: [0 3] - LE: [0 0]\n",
      "Bestände: [0 1] - Periode: 1 - Erwartungswert: 0.0 - Optimale Politik: 1 AA - RE: [0 1] - LE: [0 0]\n",
      "Bestände: [0 1] - Periode: 1 - Erwartungswert: 0.0 - Optimale Politik: 1 AA - RE: [0 3] - LE: [0 0]\n",
      "Bestände: [1 1] - Periode: 2 - Erwartungswert: 75.0 - Optimale Politik: 1 AA - RE: [0 1] - LE: [0 0]\n",
      "Bestände: [1 1] - Periode: 2 - Erwartungswert: 75.0 - Optimale Politik: 1 AA - RE: [0 3] - LE: [0 0]\n",
      "Bestände: [1 2] - Periode: 2 - Erwartungswert: 75.0 - Optimale Politik: 1 AA - RE: [0 1] - LE: [0 0]\n",
      "Bestände: [1 2] - Periode: 2 - Erwartungswert: 75.0 - Optimale Politik: 2 AA - RE: [0 3] - LE: [0 0]\n",
      "Bestände: [2 1] - Periode: 3 - Erwartungswert: 137.5 - Optimale Politik: 1 AA - RE: [0 1] - LE: [0 0]\n",
      "Bestände: [0 0] - Periode: 2 - Erwartungswert: 0.0 - Optimale Politik: 0 KA\n",
      "Bestände: [0 0] - Periode: 2 - Erwartungswert: 0.0 - Optimale Politik: 0 KA\n",
      "Bestände: [2 1] - Periode: 3 - Erwartungswert: 137.5 - Optimale Politik: 2 AA - RE: [0 3] - LE: [0 0]\n"
     ]
    },
    {
     "data": {
      "text/plain": [
       "137.5"
      ]
     },
     "execution_count": 364,
     "metadata": {},
     "output_type": "execute_result"
    }
   ],
   "source": [
    "DP_Modes(solutions, condition_storages, products, resources, capacities, consumtions, times, revenues, probs, stock_resources, max_stock_resources, time_regenerations, max_capacities)"
   ]
  },
  {
   "cell_type": "code",
   "execution_count": 365,
   "metadata": {
    "collapsed": false
   },
   "outputs": [
    {
     "name": "stdout",
     "output_type": "stream",
     "text": [
      "Optimalen Politik zum Zeitpunkt \"t\" und unter Beachtung der Restkapazitäten \"c[h]\": \n",
      "\n",
      "    $c_{1}$  $y_{1}$  $t$  ExpValue         Successor  $j^*$ $m$  \\\n",
      "34        0        0    2       0.0              [33]      0  KA   \n",
      "33        0        0    1       0.0              [32]      0  KA   \n",
      "7         2        1    3     137.5   [18, 14, 10, 6]      2  AA   \n",
      "18        1        1    2      75.0  [17, 25, 29, 21]      1  AA   \n",
      "29        0        1    1       0.0          [32, 28]      1  AA   \n",
      "14        1        2    2      75.0      [25, 13, 17]      2  AA   \n",
      "25        0        2    1       0.0          [24, 28]      1  AA   \n",
      "10        2        0    2     100.0       [9, 21, 17]      1  AA   \n",
      "21        1        0    1      50.0      [32, 28, 20]      1  AA   \n",
      "32        0        0    0       0.0             [end]      0   -   \n",
      "6         2        1    2     100.0    [17, 13, 5, 9]      2  AA   \n",
      "17        1        1    1      50.0  [16, 20, 28, 24]      1  AA   \n",
      "28        0        1    0       0.0             [end]      0   -   \n",
      "13        1        2    1      50.0      [24, 16, 12]      2  AA   \n",
      "24        0        2    0       0.0             [end]      0   -   \n",
      "9         2        0    1      50.0       [8, 16, 20]      1  AA   \n",
      "20        1        0    0       0.0             [end]      0   -   \n",
      "5         2        1    1      50.0    [16, 8, 4, 12]      2  AA   \n",
      "16        1        1    0       0.0             [end]      0   -   \n",
      "8         2        0    0       0.0             [end]      0   -   \n",
      "12        1        2    0       0.0             [end]      0   -   \n",
      "4         2        1    0       0.0             [end]      0   -   \n",
      "\n",
      "    $r_{j}-OC_{j}$  \n",
      "34               0  \n",
      "33               0  \n",
      "7             4900  \n",
      "18              50  \n",
      "29             100  \n",
      "14            4950  \n",
      "25             100  \n",
      "10             100  \n",
      "21             100  \n",
      "32               0  \n",
      "6             4950  \n",
      "17             100  \n",
      "28               0  \n",
      "13            5000  \n",
      "24               0  \n",
      "9              100  \n",
      "20               0  \n",
      "5             5000  \n",
      "16               0  \n",
      "8                0  \n",
      "12               0  \n",
      "4                0   \n",
      "\n",
      "   Opt. Politic  from  to  Revenue  Cum_Rev\n",
      "3             0     0   0        0        0\n",
      "2             0    34  33        0        0\n",
      "1             0    33  32        0        0 \n",
      "\n"
     ]
    },
    {
     "data": {
      "text/plain": [
       "(    $c_{1}$  $y_{1}$  $t$  ExpValue         Successor  $j^*$ $m$  \\\n",
       " 34        0        0    2       0.0              [33]      0  KA   \n",
       " 33        0        0    1       0.0              [32]      0  KA   \n",
       " 7         2        1    3     137.5   [18, 14, 10, 6]      2  AA   \n",
       " 18        1        1    2      75.0  [17, 25, 29, 21]      1  AA   \n",
       " 29        0        1    1       0.0          [32, 28]      1  AA   \n",
       " 14        1        2    2      75.0      [25, 13, 17]      2  AA   \n",
       " 25        0        2    1       0.0          [24, 28]      1  AA   \n",
       " 10        2        0    2     100.0       [9, 21, 17]      1  AA   \n",
       " 21        1        0    1      50.0      [32, 28, 20]      1  AA   \n",
       " 32        0        0    0       0.0             [end]      0   -   \n",
       " 6         2        1    2     100.0    [17, 13, 5, 9]      2  AA   \n",
       " 17        1        1    1      50.0  [16, 20, 28, 24]      1  AA   \n",
       " 28        0        1    0       0.0             [end]      0   -   \n",
       " 13        1        2    1      50.0      [24, 16, 12]      2  AA   \n",
       " 24        0        2    0       0.0             [end]      0   -   \n",
       " 9         2        0    1      50.0       [8, 16, 20]      1  AA   \n",
       " 20        1        0    0       0.0             [end]      0   -   \n",
       " 5         2        1    1      50.0    [16, 8, 4, 12]      2  AA   \n",
       " 16        1        1    0       0.0             [end]      0   -   \n",
       " 8         2        0    0       0.0             [end]      0   -   \n",
       " 12        1        2    0       0.0             [end]      0   -   \n",
       " 4         2        1    0       0.0             [end]      0   -   \n",
       " \n",
       "     $r_{j}-OC_{j}$  \n",
       " 34               0  \n",
       " 33               0  \n",
       " 7             4900  \n",
       " 18              50  \n",
       " 29             100  \n",
       " 14            4950  \n",
       " 25             100  \n",
       " 10             100  \n",
       " 21             100  \n",
       " 32               0  \n",
       " 6             4950  \n",
       " 17             100  \n",
       " 28               0  \n",
       " 13            5000  \n",
       " 24               0  \n",
       " 9              100  \n",
       " 20               0  \n",
       " 5             5000  \n",
       " 16               0  \n",
       " 8                0  \n",
       " 12               0  \n",
       " 4                0  ,    Opt. Politic  from  to  Revenue  Cum_Rev\n",
       " 3             0     0   0        0        0\n",
       " 2             0    34  33        0        0\n",
       " 1             0    33  32        0        0)"
      ]
     },
     "execution_count": 365,
     "metadata": {},
     "output_type": "execute_result"
    }
   ],
   "source": [
    "graph = Structure_Regeneration(solutions, condition_storages, products, resources, consumtions, revenues, stock_resources, max_stock_resources, time_regenerations, max_capacities)\n",
    "\n",
    "Best_Politic_Stock(graph, times, resources, stock_resources, solutions)"
   ]
  },
  {
   "cell_type": "code",
   "execution_count": 366,
   "metadata": {
    "collapsed": false
   },
   "outputs": [
    {
     "ename": "AttributeError",
     "evalue": "'module' object has no attribute 'figure'",
     "output_type": "error",
     "traceback": [
      "\u001b[0;31m---------------------------------------------------------------------------\u001b[0m",
      "\u001b[0;31mAttributeError\u001b[0m                            Traceback (most recent call last)",
      "\u001b[0;32m<ipython-input-366-ec0a85ebe107>\u001b[0m in \u001b[0;36m<module>\u001b[0;34m()\u001b[0m\n\u001b[1;32m     11\u001b[0m         \u001b[0;31m# same layout using matplotlib with no labels\u001b[0m\u001b[0;34m\u001b[0m\u001b[0;34m\u001b[0m\u001b[0m\n\u001b[1;32m     12\u001b[0m \u001b[0mpos\u001b[0m\u001b[0;34m=\u001b[0m\u001b[0mnx\u001b[0m\u001b[0;34m.\u001b[0m\u001b[0mgraphviz_layout\u001b[0m\u001b[0;34m(\u001b[0m\u001b[0mdraw\u001b[0m\u001b[0;34m,\u001b[0m\u001b[0mprog\u001b[0m\u001b[0;34m=\u001b[0m\u001b[0;34m'dot'\u001b[0m\u001b[0;34m)\u001b[0m\u001b[0;34m\u001b[0m\u001b[0m\n\u001b[0;32m---> 13\u001b[0;31m \u001b[0mplt\u001b[0m\u001b[0;34m.\u001b[0m\u001b[0mfigure\u001b[0m\u001b[0;34m(\u001b[0m\u001b[0mfigsize\u001b[0m\u001b[0;34m=\u001b[0m\u001b[0;34m(\u001b[0m\u001b[0msize_x\u001b[0m\u001b[0;34m,\u001b[0m\u001b[0msize_y\u001b[0m\u001b[0;34m)\u001b[0m\u001b[0;34m)\u001b[0m\u001b[0;34m\u001b[0m\u001b[0m\n\u001b[0m\u001b[1;32m     14\u001b[0m \u001b[0mplt\u001b[0m\u001b[0;34m.\u001b[0m\u001b[0mtitle\u001b[0m\u001b[0;34m(\u001b[0m\u001b[0;34m\"Entscheidungsbaum\"\u001b[0m\u001b[0;34m)\u001b[0m\u001b[0;34m\u001b[0m\u001b[0m\n\u001b[1;32m     15\u001b[0m \u001b[0mnx\u001b[0m\u001b[0;34m.\u001b[0m\u001b[0mdraw\u001b[0m\u001b[0;34m(\u001b[0m\u001b[0mdraw\u001b[0m\u001b[0;34m,\u001b[0m\u001b[0mpos\u001b[0m\u001b[0;34m,\u001b[0m\u001b[0mwith_labels\u001b[0m\u001b[0;34m=\u001b[0m\u001b[0mTrue\u001b[0m\u001b[0;34m,\u001b[0m \u001b[0mnode_size\u001b[0m\u001b[0;34m=\u001b[0m\u001b[0;36m500\u001b[0m\u001b[0;34m)\u001b[0m\u001b[0;34m\u001b[0m\u001b[0m\n",
      "\u001b[0;31mAttributeError\u001b[0m: 'module' object has no attribute 'figure'"
     ]
    }
   ],
   "source": [
    "import matplotlib as plt\n",
    "\n",
    "draw = graph.copy()\n",
    "draw.remove_node('end')\n",
    "        # Quelle: http://stackoverflow.com/a/11484144/4913569\n",
    "        # ----\n",
    "        # write dot file to use with graphviz\n",
    "        # run \"dot -Tpng test.dot >test.png\"\n",
    "nx.write_dot(draw,'test.dot')\n",
    "\n",
    "        # same layout using matplotlib with no labels\n",
    "pos=nx.graphviz_layout(draw,prog='dot')\n",
    "plt.figure(figsize=(size_x,size_y))\n",
    "plt.title(\"Entscheidungsbaum\")\n",
    "nx.draw(draw,pos,with_labels=True, node_size=500)\n",
    "plt.savefig('GraphTest.png')"
   ]
  },
  {
   "cell_type": "code",
   "execution_count": null,
   "metadata": {
    "collapsed": false
   },
   "outputs": [],
   "source": [
    "Best_Politic(graph, times, resources, start=None)"
   ]
  },
  {
   "cell_type": "code",
   "execution_count": null,
   "metadata": {
    "collapsed": false
   },
   "outputs": [],
   "source": [
    "opt = [0.0, 0.0, 0.0]\n",
    "index = opt.index(max(opt))\n",
    "print index"
   ]
  },
  {
   "cell_type": "code",
   "execution_count": null,
   "metadata": {
    "collapsed": true
   },
   "outputs": [],
   "source": []
  }
 ],
 "metadata": {
  "kernelspec": {
   "display_name": "Python 2",
   "language": "python",
   "name": "python2"
  },
  "language_info": {
   "codemirror_mode": {
    "name": "ipython",
    "version": 2
   },
   "file_extension": ".py",
   "mimetype": "text/x-python",
   "name": "python",
   "nbconvert_exporter": "python",
   "pygments_lexer": "ipython2",
   "version": "2.7.10"
  }
 },
 "nbformat": 4,
 "nbformat_minor": 0
}
