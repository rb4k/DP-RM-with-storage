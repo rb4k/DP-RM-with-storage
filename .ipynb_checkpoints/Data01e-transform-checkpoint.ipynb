{
 "cells": [
  {
   "cell_type": "code",
   "execution_count": 1616,
   "metadata": {
    "collapsed": false
   },
   "outputs": [],
   "source": [
    "__version__ = '0.3'\n",
    "__author__  = \"Robert Matern (r.matern@stud.uni-hannover.de)\"\n",
    "__date__    = ''\n",
    "__url__     = ''\n",
    "__copyright__ = \"(C) 2015 Robert Matern\""
   ]
  },
  {
   "cell_type": "markdown",
   "metadata": {},
   "source": [
    "#Beispieldaten Nr. 1"
   ]
  },
  {
   "cell_type": "code",
   "execution_count": 1617,
   "metadata": {
    "collapsed": false
   },
   "outputs": [],
   "source": [
    "# Funktionen werden hinzugeladen.\n",
    "%run Parameter.ipynb"
   ]
  },
  {
   "cell_type": "code",
   "execution_count": 1618,
   "metadata": {
    "collapsed": false
   },
   "outputs": [
    {
     "name": "stdout",
     "output_type": "stream",
     "text": [
      "0:00:00.000621\n"
     ]
    }
   ],
   "source": [
    "# Produkte\n",
    "products = Product(3)\n",
    "\n",
    "# Ressourcen\n",
    "resources = Resource(3)\n",
    "\n",
    "#Kapazität\n",
    "capacities = Capacity(resources)\n",
    "capacities[1] = 1\n",
    "capacities[2] = 1\n",
    "capacities[3] = 0\n",
    "\n",
    "# Ressourcenverbrauch\n",
    "consumtions = Consumption(products, resources)\n",
    "consumtions[1] = [0,1,0,0]\n",
    "consumtions[2] = [0,0,1,0]\n",
    "consumtions[3] = [0,0,0,2]\n",
    "\n",
    "# Erträge\n",
    "revenues = Revenue(products)\n",
    "revenues[1] = 100\n",
    "revenues[2] = 200\n",
    "revenues[3] = 5000\n",
    "\n",
    "# Buchungshorizont\n",
    "times = Time(3)\n",
    "\n",
    "# Wahrscheinlichkeiten\n",
    "probs = Prob(products, times)\n",
    "probs[1] = [0, 0, 0, 0.9]\n",
    "probs[2] = [0, 0, 0.9, 0]\n",
    "probs[3] = [0, 0.9, 0, 0]\n",
    "\n",
    "# Gegenwahrscheinlichkeiten\n",
    "against_probs = Against_Prob(probs)\n",
    "probs[0] = against_probs\n",
    "\n",
    "# Tat. Nachfrage\n",
    "demands = Demand(products, times)\n",
    "demands[0] = [0, 1, 1, 1] # Keine Anfragen müssen immer möglich sein!\n",
    "demands[1] = [0, 0, 1, 1]\n",
    "demands[2] = [0, 1, 0, 0]\n",
    "demands[3] = [0, 1, 0, 0]\n",
    "\n",
    "# Systemzustände\n",
    "conditions = Condition(capacities, resources, times)\n",
    "\n",
    "\n",
    "# Endzeitpunkte\n",
    "#end_times = End_Time(conditions)"
   ]
  },
  {
   "cell_type": "markdown",
   "metadata": {},
   "source": [
    "inkl. Lagerhaltung"
   ]
  },
  {
   "cell_type": "code",
   "execution_count": 1619,
   "metadata": {
    "collapsed": false
   },
   "outputs": [],
   "source": [
    "%run Parameter-transform.ipynb"
   ]
  },
  {
   "cell_type": "code",
   "execution_count": 1620,
   "metadata": {
    "collapsed": false
   },
   "outputs": [
    {
     "name": "stdout",
     "output_type": "stream",
     "text": [
      "0:00:00.000682\n"
     ]
    }
   ],
   "source": [
    "#Lagerbestand\n",
    "stock_resources = Stock_Resource(resources)\n",
    "stock_resources[1] = 0\n",
    "\n",
    "max_stock_resources = Max_Stock_Resource(resources)\n",
    "max_stock_resources[1] = 0\n",
    "max_stock_resources[2] = 0\n",
    "max_stock_resources[3] = 2\n",
    "\n",
    "# Systemzustände\n",
    "condition_storages = Condition_Storage(capacities, resources, max_stock_resources, times)\n",
    "# Bei der Modelformulierung mit Lagerproduktion wird der Parameter 'max_stocks' benötigt."
   ]
  },
  {
   "cell_type": "code",
   "execution_count": 1621,
   "metadata": {
    "collapsed": false
   },
   "outputs": [],
   "source": [
    "#Regenerationsperiode\n",
    "time_regenerations = Time_Regeneration(times)\n",
    "#time_regenerations[2]=True\n",
    "\n",
    "#Max. Kapazität\n",
    "max_capacities = Max_Capacity(capacities)"
   ]
  },
  {
   "cell_type": "code",
   "execution_count": 1622,
   "metadata": {
    "collapsed": false
   },
   "outputs": [],
   "source": [
    "%run DynamicProgramm-transform.ipynb"
   ]
  },
  {
   "cell_type": "code",
   "execution_count": 1623,
   "metadata": {
    "collapsed": false
   },
   "outputs": [
    {
     "name": "stdout",
     "output_type": "stream",
     "text": [
      "Bestände: [1 1 0 0 0 0] - Periode: 0 - Erwartungswert: 0.0 - Optimale Politik: 0 KA\n",
      "Bestände: [1 1 0 0 0 0] - Periode: 1 - Erwartungswert: 0.0 - Optimale Politik: 0 KA\n",
      "Bestände: [1 0 0 0 0 0] - Periode: 0 - Erwartungswert: 0.0 - Optimale Politik: 0 KA\n",
      "Bestände: [1 0 0 0 0 0] - Periode: 1 - Erwartungswert: 0.0 - Optimale Politik: 0 KA\n",
      "Bestände: [1 0 0 0 0 1] - Periode: 0 - Erwartungswert: 0.0 - Optimale Politik: 0 KA\n",
      "Bestände: [1 0 0 0 0 1] - Periode: 1 - Erwartungswert: 0.0 - Optimale Politik: 0 KA\n",
      "Bestände: [1 1 0 0 0 0] - Periode: 2 - Erwartungswert: 180.0 - Optimale Politik: 2 AA\n",
      "Bestände: [0 1 0 0 0 0] - Periode: 0 - Erwartungswert: 0.0 - Optimale Politik: 0 KA\n",
      "Bestände: [0 1 0 0 0 0] - Periode: 1 - Erwartungswert: 0.0 - Optimale Politik: 0 KA\n",
      "Bestände: [0 0 0 0 0 0] - Periode: 0 - Erwartungswert: 0.0 - Optimale Politik: 0 KA\n",
      "Bestände: [0 0 0 0 0 0] - Periode: 1 - Erwartungswert: 0.0 - Optimale Politik: 0 KA\n",
      "Bestände: [0 0 0 0 0 1] - Periode: 0 - Erwartungswert: 0.0 - Optimale Politik: 0 KA\n",
      "Bestände: [0 0 0 0 0 1] - Periode: 1 - Erwartungswert: 0.0 - Optimale Politik: 0 KA\n",
      "Bestände: [0 1 0 0 0 0] - Periode: 2 - Erwartungswert: 180.0 - Optimale Politik: 2 AA\n",
      "Bestände: [0 1 0 0 0 1] - Periode: 0 - Erwartungswert: 0.0 - Optimale Politik: 0 KA\n",
      "Bestände: [0 1 0 0 0 1] - Periode: 1 - Erwartungswert: 0.0 - Optimale Politik: 0 KA\n",
      "Bestände: [0 0 0 0 0 2] - Periode: 0 - Erwartungswert: 0.0 - Optimale Politik: 0 KA\n",
      "Bestände: [0 0 0 0 0 2] - Periode: 1 - Erwartungswert: 4500.0 - Optimale Politik: 3 LE\n",
      "Bestände: [0 1 0 0 0 1] - Periode: 2 - Erwartungswert: 4230.0 - Optimale Politik: 2 LP - Modus: [0 0 0 1]\n",
      "Bestände: [1 1 0 0 0 0] - Periode: 3 - Erwartungswert: 3914.0 - Optimale Politik: 1 LP - Modus: [0 0 0 1]\n"
     ]
    },
    {
     "data": {
      "text/plain": [
       "3914.0"
      ]
     },
     "execution_count": 1623,
     "metadata": {},
     "output_type": "execute_result"
    }
   ],
   "source": [
    "DP_Transform(solutions, condition_storages, products, resources, capacities, consumtions, times, revenues, probs, stock_resources, max_stock_resources, time_regenerations, max_capacities)"
   ]
  },
  {
   "cell_type": "code",
   "execution_count": 1624,
   "metadata": {
    "collapsed": false
   },
   "outputs": [
    {
     "name": "stdout",
     "output_type": "stream",
     "text": [
      "Optimalen Politik zum Zeitpunkt \"t\" und unter Beachtung der Restkapazitäten \"c[h]\": \n",
      "\n",
      "    $c_{1}$  $c_{2}$  $c_{3}$  $y_{1}$  $y_{2}$  $y_{3}$  $t$  ExpValue  \\\n",
      "11        1        1        0        0        0        0    3      3914   \n",
      "30        0        1        0        0        0        1    2      4230   \n",
      "29        0        1        0        0        0        1    1         0   \n",
      "28        0        1        0        0        0        1    0         0   \n",
      "10        1        1        0        0        0        0    2       180   \n",
      "21        1        0        0        0        0        0    1         0   \n",
      "20        1        0        0        0        0        0    0         0   \n",
      "17        1        0        0        0        0        1    1         0   \n",
      "16        1        0        0        0        0        1    0         0   \n",
      "9         1        1        0        0        0        0    1         0   \n",
      "8         1        1        0        0        0        0    0         0   \n",
      "37        0        0        0        0        0        2    1      4500   \n",
      "36        0        0        0        0        0        2    0         0   \n",
      "34        0        1        0        0        0        0    2       180   \n",
      "45        0        0        0        0        0        0    1         0   \n",
      "44        0        0        0        0        0        0    0         0   \n",
      "41        0        0        0        0        0        1    1         0   \n",
      "40        0        0        0        0        0        1    0         0   \n",
      "33        0        1        0        0        0        0    1         0   \n",
      "32        0        1        0        0        0        0    0         0   \n",
      "\n",
      "       Successor  $j^*$        $m$  $r_{j}-OC_{j}$  \n",
      "11  [10, 34, 30]      1  LP[0 0 1]            4150  \n",
      "30  [41, 29, 37]      2  LP[0 0 1]            4700  \n",
      "29          [28]      0         KA               0  \n",
      "28         [end]      0          -               0  \n",
      "10   [9, 21, 17]      2         AA             200  \n",
      "21          [20]      0         KA               0  \n",
      "20         [end]      0          -               0  \n",
      "17          [16]      0         KA               0  \n",
      "16         [end]      0          -               0  \n",
      "9            [8]      0         KA               0  \n",
      "8          [end]      0          -               0  \n",
      "37      [44, 36]      3         LE            5000  \n",
      "36         [end]      0          -               0  \n",
      "34  [33, 45, 41]      2         AA             200  \n",
      "45          [44]      0         KA               0  \n",
      "44         [end]      0          -               0  \n",
      "41          [40]      0         KA               0  \n",
      "40         [end]      0          -               0  \n",
      "33          [32]      0         KA               0  \n",
      "32         [end]      0          -               0   \n",
      "\n",
      "   Opt. Politic  from  to  Revenue  Cum_Rev\n",
      "3             1    11  30        0        0\n",
      "2             2    30  37        0        0\n",
      "1             3    37  44     5000     5000 \n",
      "\n"
     ]
    },
    {
     "data": {
      "text/plain": [
       "(    $c_{1}$  $c_{2}$  $c_{3}$  $y_{1}$  $y_{2}$  $y_{3}$  $t$  ExpValue  \\\n",
       " 11        1        1        0        0        0        0    3      3914   \n",
       " 30        0        1        0        0        0        1    2      4230   \n",
       " 29        0        1        0        0        0        1    1         0   \n",
       " 28        0        1        0        0        0        1    0         0   \n",
       " 10        1        1        0        0        0        0    2       180   \n",
       " 21        1        0        0        0        0        0    1         0   \n",
       " 20        1        0        0        0        0        0    0         0   \n",
       " 17        1        0        0        0        0        1    1         0   \n",
       " 16        1        0        0        0        0        1    0         0   \n",
       " 9         1        1        0        0        0        0    1         0   \n",
       " 8         1        1        0        0        0        0    0         0   \n",
       " 37        0        0        0        0        0        2    1      4500   \n",
       " 36        0        0        0        0        0        2    0         0   \n",
       " 34        0        1        0        0        0        0    2       180   \n",
       " 45        0        0        0        0        0        0    1         0   \n",
       " 44        0        0        0        0        0        0    0         0   \n",
       " 41        0        0        0        0        0        1    1         0   \n",
       " 40        0        0        0        0        0        1    0         0   \n",
       " 33        0        1        0        0        0        0    1         0   \n",
       " 32        0        1        0        0        0        0    0         0   \n",
       " \n",
       "        Successor  $j^*$        $m$  $r_{j}-OC_{j}$  \n",
       " 11  [10, 34, 30]      1  LP[0 0 1]            4150  \n",
       " 30  [41, 29, 37]      2  LP[0 0 1]            4700  \n",
       " 29          [28]      0         KA               0  \n",
       " 28         [end]      0          -               0  \n",
       " 10   [9, 21, 17]      2         AA             200  \n",
       " 21          [20]      0         KA               0  \n",
       " 20         [end]      0          -               0  \n",
       " 17          [16]      0         KA               0  \n",
       " 16         [end]      0          -               0  \n",
       " 9            [8]      0         KA               0  \n",
       " 8          [end]      0          -               0  \n",
       " 37      [44, 36]      3         LE            5000  \n",
       " 36         [end]      0          -               0  \n",
       " 34  [33, 45, 41]      2         AA             200  \n",
       " 45          [44]      0         KA               0  \n",
       " 44         [end]      0          -               0  \n",
       " 41          [40]      0         KA               0  \n",
       " 40         [end]      0          -               0  \n",
       " 33          [32]      0         KA               0  \n",
       " 32         [end]      0          -               0  ,\n",
       "    Opt. Politic  from  to  Revenue  Cum_Rev\n",
       " 3             1    11  30        0        0\n",
       " 2             2    30  37        0        0\n",
       " 1             3    37  44     5000     5000)"
      ]
     },
     "execution_count": 1624,
     "metadata": {},
     "output_type": "execute_result"
    }
   ],
   "source": [
    "graph = Structure_Transform(solutions, condition_storages, products, resources, consumtions, revenues, probs, stock_resources, max_stock_resources, time_regenerations, max_capacities)\n",
    "\n",
    "Best_Politic_Stock(graph, times, resources, stock_resources, solutions)"
   ]
  },
  {
   "cell_type": "code",
   "execution_count": 1625,
   "metadata": {
    "collapsed": false
   },
   "outputs": [
    {
     "ename": "AttributeError",
     "evalue": "'module' object has no attribute 'figure'",
     "output_type": "error",
     "traceback": [
      "\u001b[0;31m---------------------------------------------------------------------------\u001b[0m",
      "\u001b[0;31mAttributeError\u001b[0m                            Traceback (most recent call last)",
      "\u001b[0;32m<ipython-input-1625-ec0a85ebe107>\u001b[0m in \u001b[0;36m<module>\u001b[0;34m()\u001b[0m\n\u001b[1;32m     11\u001b[0m         \u001b[0;31m# same layout using matplotlib with no labels\u001b[0m\u001b[0;34m\u001b[0m\u001b[0;34m\u001b[0m\u001b[0m\n\u001b[1;32m     12\u001b[0m \u001b[0mpos\u001b[0m\u001b[0;34m=\u001b[0m\u001b[0mnx\u001b[0m\u001b[0;34m.\u001b[0m\u001b[0mgraphviz_layout\u001b[0m\u001b[0;34m(\u001b[0m\u001b[0mdraw\u001b[0m\u001b[0;34m,\u001b[0m\u001b[0mprog\u001b[0m\u001b[0;34m=\u001b[0m\u001b[0;34m'dot'\u001b[0m\u001b[0;34m)\u001b[0m\u001b[0;34m\u001b[0m\u001b[0m\n\u001b[0;32m---> 13\u001b[0;31m \u001b[0mplt\u001b[0m\u001b[0;34m.\u001b[0m\u001b[0mfigure\u001b[0m\u001b[0;34m(\u001b[0m\u001b[0mfigsize\u001b[0m\u001b[0;34m=\u001b[0m\u001b[0;34m(\u001b[0m\u001b[0msize_x\u001b[0m\u001b[0;34m,\u001b[0m\u001b[0msize_y\u001b[0m\u001b[0;34m)\u001b[0m\u001b[0;34m)\u001b[0m\u001b[0;34m\u001b[0m\u001b[0m\n\u001b[0m\u001b[1;32m     14\u001b[0m \u001b[0mplt\u001b[0m\u001b[0;34m.\u001b[0m\u001b[0mtitle\u001b[0m\u001b[0;34m(\u001b[0m\u001b[0;34m\"Entscheidungsbaum\"\u001b[0m\u001b[0;34m)\u001b[0m\u001b[0;34m\u001b[0m\u001b[0m\n\u001b[1;32m     15\u001b[0m \u001b[0mnx\u001b[0m\u001b[0;34m.\u001b[0m\u001b[0mdraw\u001b[0m\u001b[0;34m(\u001b[0m\u001b[0mdraw\u001b[0m\u001b[0;34m,\u001b[0m\u001b[0mpos\u001b[0m\u001b[0;34m,\u001b[0m\u001b[0mwith_labels\u001b[0m\u001b[0;34m=\u001b[0m\u001b[0mTrue\u001b[0m\u001b[0;34m,\u001b[0m \u001b[0mnode_size\u001b[0m\u001b[0;34m=\u001b[0m\u001b[0;36m500\u001b[0m\u001b[0;34m)\u001b[0m\u001b[0;34m\u001b[0m\u001b[0m\n",
      "\u001b[0;31mAttributeError\u001b[0m: 'module' object has no attribute 'figure'"
     ]
    }
   ],
   "source": [
    "import matplotlib as plt\n",
    "\n",
    "draw = graph.copy()\n",
    "draw.remove_node('end')\n",
    "        # Quelle: http://stackoverflow.com/a/11484144/4913569\n",
    "        # ----\n",
    "        # write dot file to use with graphviz\n",
    "        # run \"dot -Tpng test.dot >test.png\"\n",
    "nx.write_dot(draw,'test.dot')\n",
    "\n",
    "        # same layout using matplotlib with no labels\n",
    "pos=nx.graphviz_layout(draw,prog='dot')\n",
    "plt.figure(figsize=(size_x,size_y))\n",
    "plt.title(\"Entscheidungsbaum\")\n",
    "nx.draw(draw,pos,with_labels=True, node_size=500)\n",
    "plt.savefig('GraphTest.png')"
   ]
  },
  {
   "cell_type": "code",
   "execution_count": null,
   "metadata": {
    "collapsed": false
   },
   "outputs": [],
   "source": [
    "Best_Politic(graph, times, resources, start=None)"
   ]
  },
  {
   "cell_type": "code",
   "execution_count": null,
   "metadata": {
    "collapsed": true
   },
   "outputs": [],
   "source": []
  }
 ],
 "metadata": {
  "kernelspec": {
   "display_name": "Python 2",
   "language": "python",
   "name": "python2"
  },
  "language_info": {
   "codemirror_mode": {
    "name": "ipython",
    "version": 2
   },
   "file_extension": ".py",
   "mimetype": "text/x-python",
   "name": "python",
   "nbconvert_exporter": "python",
   "pygments_lexer": "ipython2",
   "version": "2.7.10"
  }
 },
 "nbformat": 4,
 "nbformat_minor": 0
}
