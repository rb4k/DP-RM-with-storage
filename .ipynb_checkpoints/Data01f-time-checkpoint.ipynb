{
 "cells": [
  {
   "cell_type": "code",
   "execution_count": 37,
   "metadata": {
    "collapsed": false
   },
   "outputs": [],
   "source": [
    "__version__ = '0.3'\n",
    "__author__  = \"Robert Matern (r.matern@stud.uni-hannover.de)\"\n",
    "__date__    = ''\n",
    "__url__     = ''\n",
    "__copyright__ = \"(C) 2015 Robert Matern\""
   ]
  },
  {
   "cell_type": "markdown",
   "metadata": {},
   "source": [
    "#Beispieldaten Nr. 1"
   ]
  },
  {
   "cell_type": "code",
   "execution_count": 38,
   "metadata": {
    "collapsed": false
   },
   "outputs": [],
   "source": [
    "# Funktionen werden hinzugeladen.\n",
    "%run Parameter.ipynb"
   ]
  },
  {
   "cell_type": "code",
   "execution_count": 39,
   "metadata": {
    "collapsed": false
   },
   "outputs": [
    {
     "name": "stdout",
     "output_type": "stream",
     "text": [
      "0:00:00.000415\n"
     ]
    }
   ],
   "source": [
    "# Produkte\n",
    "products = Product(3)\n",
    "\n",
    "# Ressourcen \n",
    "resources = Resource(3)\n",
    "\n",
    "#Kapazität\n",
    "capacities = Capacity(resources)\n",
    "capacities[1] = 1\n",
    "capacities[2] = 1\n",
    "capacities[3] = 1\n",
    "\n",
    "# Ressourcenverbrauch\n",
    "# Achtung! Hier eine Dimensionsreduzierung !!!\n",
    "consumtions = np.arange(len(resources), dtype=np.uint16)\n",
    "consumtions[1] = 1\n",
    "consumtions[2] = 1\n",
    "consumtions[3] = 2\n",
    "\n",
    "# Erträge\n",
    "revenues = Revenue(products)\n",
    "revenues[1] = 100\n",
    "revenues[2] = 200\n",
    "revenues[3] = 5000\n",
    "\n",
    "# Buchungsperioden\n",
    "times = Time(3)\n",
    "\n",
    "# Wahrscheinlichkeiten\n",
    "probs = Prob(products, times)\n",
    "probs[1] = [0, 0.3, 0.3, 0.3]\n",
    "probs[2] = [0, 0.3, 0.3, 0]\n",
    "probs[3] = [0, 0.3, 0, 0]\n",
    "\n",
    "# Gegenwahrscheinlichkeiten\n",
    "against_probs = Against_Prob(probs)\n",
    "probs[0] = against_probs\n",
    "\n",
    "# Systemzustände\n",
    "conditions = Condition(capacities, resources, times)\n",
    "\n",
    "\n",
    "# Endzeitpunkte\n",
    "#end_times = End_Time(conditions)"
   ]
  },
  {
   "cell_type": "markdown",
   "metadata": {},
   "source": [
    "inkl. Lagerhaltung"
   ]
  },
  {
   "cell_type": "code",
   "execution_count": 40,
   "metadata": {
    "collapsed": false
   },
   "outputs": [],
   "source": [
    "%run Parameter-transform.ipynb"
   ]
  },
  {
   "cell_type": "code",
   "execution_count": 41,
   "metadata": {
    "collapsed": false
   },
   "outputs": [
    {
     "name": "stdout",
     "output_type": "stream",
     "text": [
      "0:00:00.004487\n"
     ]
    }
   ],
   "source": [
    "#Lagerbestand\n",
    "stock_resources = Stock_Resource(resources)\n",
    "stock_resources[1] = 0\n",
    "\n",
    "max_stock_resources = Max_Stock_Resource(resources)\n",
    "max_stock_resources[1] = 0\n",
    "max_stock_resources[2] = 0\n",
    "max_stock_resources[3] = 2\n",
    "\n",
    "# Systemzustände\n",
    "condition_storages = Condition_Storage(capacities, resources, max_stock_resources, times)\n",
    "# Bei der Modelformulierung mit Lagerproduktion wird der Parameter 'max_stocks' benötigt."
   ]
  },
  {
   "cell_type": "code",
   "execution_count": 42,
   "metadata": {
    "collapsed": true
   },
   "outputs": [],
   "source": [
    "# Leisungsperioden !!! Muss hier der Anzahl der Ressourcen entsprechen !!!\n",
    "# Im Nachfolgenden ausschließlich Times in 5er Schritten !!!\n",
    "\n",
    "performance_times = Performance_Time(times, 5)"
   ]
  },
  {
   "cell_type": "code",
   "execution_count": 43,
   "metadata": {
    "collapsed": false
   },
   "outputs": [],
   "source": [
    "%run DynamicProgramm-time.ipynb"
   ]
  },
  {
   "cell_type": "code",
   "execution_count": 44,
   "metadata": {
    "collapsed": false
   },
   "outputs": [
    {
     "name": "stdout",
     "output_type": "stream",
     "text": [
      "Bestände: [1 1 1 0 0 0] - Periode: 0 - Erwartungswert: 0.0 - Optimale Politik: 0 KA\n",
      "Bestände: [1 1 0 0 0 0] - Periode: 0 - Erwartungswert: 0.0 - Optimale Politik: 0 KA\n",
      "Bestände: [1 1 0 0 0 1] - Periode: 0 - Erwartungswert: 0.0 - Optimale Politik: 0 KA\n",
      "Bestände: [1 1 1 0 0 0] - Periode: 1 - Erwartungswert: 90.0 - Optimale Politik: 2 AA\n",
      "Bestände: [1 0 1 0 0 0] - Periode: 0 - Erwartungswert: 0.0 - Optimale Politik: 0 KA\n",
      "Bestände: [1 0 0 0 0 0] - Periode: 0 - Erwartungswert: 0.0 - Optimale Politik: 0 KA\n",
      "Bestände: [1 0 0 0 0 1] - Periode: 0 - Erwartungswert: 0.0 - Optimale Politik: 0 KA\n",
      "Bestände: [1 0 1 0 0 0] - Periode: 1 - Erwartungswert: 90.0 - Optimale Politik: 2 AA\n",
      "Bestände: [1 0 1 0 1 0] - Periode: 0 - Erwartungswert: 0.0 - Optimale Politik: 0 KA\n",
      "Bestände: [1 0 0 0 1 0] - Periode: 0 - Erwartungswert: 0.0 - Optimale Politik: 0 KA\n",
      "Bestände: [1 0 0 0 1 1] - Periode: 0 - Erwartungswert: 0.0 - Optimale Politik: 0 KA\n",
      "Bestände: [1 0 1 0 1 0] - Periode: 1 - Erwartungswert: 90.0 - Optimale Politik: 2 AA\n",
      "Bestände: [1 0 1 0 0 1] - Periode: 0 - Erwartungswert: 0.0 - Optimale Politik: 0 KA\n",
      "Bestände: [1 0 0 0 0 2] - Periode: 0 - Erwartungswert: 0.0 - Optimale Politik: 0 KA\n",
      "Bestände: [1 0 1 0 0 1] - Periode: 1 - Erwartungswert: 180.0 - Optimale Politik: 2 AA\n",
      "Bestände: [1 1 1 0 0 0] - Periode: 2 - Erwartungswert: 234.0 - Optimale Politik: 2 AA\n",
      "Bestände: [0 1 1 0 0 0] - Periode: 0 - Erwartungswert: 0.0 - Optimale Politik: 0 KA\n",
      "Bestände: [0 1 0 0 0 0] - Periode: 0 - Erwartungswert: 0.0 - Optimale Politik: 0 KA\n",
      "Bestände: [0 1 0 0 0 1] - Periode: 0 - Erwartungswert: 0.0 - Optimale Politik: 0 KA\n",
      "Bestände: [0 1 1 0 0 0] - Periode: 1 - Erwartungswert: 90.0 - Optimale Politik: 2 AA\n",
      "Bestände: [0 0 1 0 0 0] - Periode: 0 - Erwartungswert: 0.0 - Optimale Politik: 0 KA\n",
      "Bestände: [0 0 0 0 0 0] - Periode: 0 - Erwartungswert: 0.0 - Optimale Politik: 0 KA\n",
      "Bestände: [0 0 0 0 0 1] - Periode: 0 - Erwartungswert: 0.0 - Optimale Politik: 0 KA\n",
      "Bestände: [0 0 1 0 0 0] - Periode: 1 - Erwartungswert: 90.0 - Optimale Politik: 2 AA\n",
      "Bestände: [0 0 1 0 1 0] - Periode: 0 - Erwartungswert: 0.0 - Optimale Politik: 0 KA\n",
      "Bestände: [0 0 0 0 1 0] - Periode: 0 - Erwartungswert: 0.0 - Optimale Politik: 0 KA\n",
      "Bestände: [0 0 0 0 1 1] - Periode: 0 - Erwartungswert: 0.0 - Optimale Politik: 0 KA\n",
      "Bestände: [0 0 1 0 1 0] - Periode: 1 - Erwartungswert: 90.0 - Optimale Politik: 2 AA\n",
      "Bestände: [0 0 1 0 0 1] - Periode: 0 - Erwartungswert: 0.0 - Optimale Politik: 0 KA\n",
      "Bestände: [0 0 0 0 0 2] - Periode: 0 - Erwartungswert: 0.0 - Optimale Politik: 0 KA\n",
      "Bestände: [0 0 1 0 0 1] - Periode: 1 - Erwartungswert: 180.0 - Optimale Politik: 2 AA\n",
      "Bestände: [0 1 1 0 0 0] - Periode: 2 - Erwartungswert: 234.0 - Optimale Politik: 2 AA\n",
      "Bestände: [0 1 1 1 0 0] - Periode: 0 - Erwartungswert: 0.0 - Optimale Politik: 0 KA\n",
      "Bestände: [0 1 0 1 0 0] - Periode: 0 - Erwartungswert: 0.0 - Optimale Politik: 0 KA\n",
      "Bestände: [0 1 0 1 0 1] - Periode: 0 - Erwartungswert: 0.0 - Optimale Politik: 0 KA\n",
      "Bestände: [0 1 1 1 0 0] - Periode: 1 - Erwartungswert: 90.0 - Optimale Politik: 2 AA\n",
      "Bestände: [0 0 1 1 0 0] - Periode: 0 - Erwartungswert: 0.0 - Optimale Politik: 0 KA\n",
      "Bestände: [0 0 0 1 0 0] - Periode: 0 - Erwartungswert: 0.0 - Optimale Politik: 0 KA\n",
      "Bestände: [0 0 0 1 0 1] - Periode: 0 - Erwartungswert: 0.0 - Optimale Politik: 0 KA\n",
      "Bestände: [0 0 1 1 0 0] - Periode: 1 - Erwartungswert: 90.0 - Optimale Politik: 2 AA\n",
      "Bestände: [0 0 1 1 1 0] - Periode: 0 - Erwartungswert: 0.0 - Optimale Politik: 0 KA\n",
      "Bestände: [0 0 0 1 1 0] - Periode: 0 - Erwartungswert: 0.0 - Optimale Politik: 0 KA\n",
      "Bestände: [0 0 0 1 1 1] - Periode: 0 - Erwartungswert: 0.0 - Optimale Politik: 0 KA\n",
      "Bestände: [0 0 1 1 1 0] - Periode: 1 - Erwartungswert: 90.0 - Optimale Politik: 2 AA\n",
      "Bestände: [0 0 1 1 0 1] - Periode: 0 - Erwartungswert: 0.0 - Optimale Politik: 0 KA\n",
      "Bestände: [0 0 0 1 0 2] - Periode: 0 - Erwartungswert: 0.0 - Optimale Politik: 0 KA\n",
      "Bestände: [0 0 1 1 0 1] - Periode: 1 - Erwartungswert: 180.0 - Optimale Politik: 2 AA\n",
      "Bestände: [0 1 1 1 0 0] - Periode: 2 - Erwartungswert: 234.0 - Optimale Politik: 2 AA\n",
      "Bestände: [0 1 1 0 1 0] - Periode: 0 - Erwartungswert: 0.0 - Optimale Politik: 0 KA\n",
      "Bestände: [0 1 0 0 1 0] - Periode: 0 - Erwartungswert: 0.0 - Optimale Politik: 0 KA\n",
      "Bestände: [0 1 0 0 1 1] - Periode: 0 - Erwartungswert: 0.0 - Optimale Politik: 0 KA\n",
      "Bestände: [0 1 1 0 1 0] - Periode: 1 - Erwartungswert: 90.0 - Optimale Politik: 2 AA\n",
      "Bestände: [0 0 1 0 1 1] - Periode: 0 - Erwartungswert: 0.0 - Optimale Politik: 0 KA\n",
      "Bestände: [0 0 0 0 1 2] - Periode: 0 - Erwartungswert: 0.0 - Optimale Politik: 0 KA\n",
      "Bestände: [0 0 1 0 1 1] - Periode: 1 - Erwartungswert: 180.0 - Optimale Politik: 2 AA\n",
      "Bestände: [0 1 1 0 1 0] - Periode: 2 - Erwartungswert: 324.0 - Optimale Politik: 2 AA\n",
      "Bestände: [0 1 1 0 0 1] - Periode: 0 - Erwartungswert: 0.0 - Optimale Politik: 0 KA\n",
      "Bestände: [0 1 0 0 0 2] - Periode: 0 - Erwartungswert: 0.0 - Optimale Politik: 0 KA\n",
      "Bestände: [0 1 1 0 0 1] - Periode: 1 - Erwartungswert: 180.0 - Optimale Politik: 2 AA\n",
      "Bestände: [0 0 1 0 0 2] - Periode: 0 - Erwartungswert: 0.0 - Optimale Politik: 0 KA\n",
      "Bestände: [0 0 1 0 0 2] - Periode: 1 - Erwartungswert: 1680.0 - Optimale Politik: 3 LE\n",
      "Bestände: [0 1 1 0 0 1] - Periode: 2 - Erwartungswert: 1170.0 - Optimale Politik: 1 LP - Modus: [0 0 0 1]\n",
      "Bestände: [1 1 1 0 0 0] - Periode: 3 - Erwartungswert: 544.75 - Optimale Politik: 1 LP - Modus: [0 0 0 1]\n"
     ]
    },
    {
     "data": {
      "text/plain": [
       "544.75"
      ]
     },
     "execution_count": 44,
     "metadata": {},
     "output_type": "execute_result"
    }
   ],
   "source": [
    "DP_Time(solutions, condition_storages, products, resources, capacities, consumtions, times, revenues, probs, stock_resources, max_stock_resources, performance_times)"
   ]
  },
  {
   "cell_type": "code",
   "execution_count": 45,
   "metadata": {
    "collapsed": false
   },
   "outputs": [
    {
     "name": "stdout",
     "output_type": "stream",
     "text": [
      "Optimalen Politik zum Zeitpunkt \"t\" und unter Beachtung der Restkapazitäten \"c[h]\": \n",
      "\n",
      "     $c_{1}$  $c_{2}$  $c_{3}$  $y_{1}$  $y_{2}$  $y_{3}$  $t$  ExpValue  \\\n",
      "47         1        1        1        0        0        0    3    544.75   \n",
      "214        0        1        1        1        0        0    2    234.00   \n",
      "305        0        0        1        1        0        1    1    180.00   \n",
      "304        0        0        1        1        0        1    0      0.00   \n",
      "348        0        0        0        1        0        2    0      0.00   \n",
      "213        0        1        1        1        0        0    1     90.00   \n",
      "212        0        1        1        1        0        0    0      0.00   \n",
      "309        0        0        1        1        0        0    1     90.00   \n",
      "352        0        0        0        1        0        1    0      0.00   \n",
      "356        0        0        0        1        0        0    0      0.00   \n",
      "308        0        0        1        1        0        0    0      0.00   \n",
      "234        0        1        1        0        0        1    2   1170.00   \n",
      "233        0        1        1        0        0        1    1    180.00   \n",
      "232        0        1        1        0        0        1    0      0.00   \n",
      "325        0        0        1        0        0        2    1   1680.00   \n",
      "324        0        0        1        0        0        2    0      0.00   \n",
      "226        0        1        1        0        1        0    2    324.00   \n",
      "225        0        1        1        0        1        0    1     90.00   \n",
      "224        0        1        1        0        1        0    0      0.00   \n",
      "268        0        1        0        0        1        1    0      0.00   \n",
      "317        0        0        1        0        1        1    1    180.00   \n",
      "316        0        0        1        0        1        1    0      0.00   \n",
      "360        0        0        0        0        1        2    0      0.00   \n",
      "238        0        1        1        0        0        0    2    234.00   \n",
      "321        0        0        1        0        1        0    1     90.00   \n",
      "320        0        0        1        0        1        0    0      0.00   \n",
      "368        0        0        0        0        1        0    0      0.00   \n",
      "364        0        0        0        0        1        1    0      0.00   \n",
      "237        0        1        1        0        0        0    1     90.00   \n",
      "329        0        0        1        0        0        1    1    180.00   \n",
      "..       ...      ...      ...      ...      ...      ...  ...       ...   \n",
      "376        0        0        0        0        0        1    0      0.00   \n",
      "380        0        0        0        0        0        0    0      0.00   \n",
      "332        0        0        1        0        0        0    0      0.00   \n",
      "46         1        1        1        0        0        0    2    234.00   \n",
      "137        1        0        1        0        0        1    1    180.00   \n",
      "180        1        0        0        0        0        2    0      0.00   \n",
      "45         1        1        1        0        0        0    1     90.00   \n",
      "92         1        1        0        0        0        0    0      0.00   \n",
      "297        0        0        1        1        1        0    1     90.00   \n",
      "344        0        0        0        1        1        0    0      0.00   \n",
      "340        0        0        0        1        1        1    0      0.00   \n",
      "296        0        0        1        1        1        0    0      0.00   \n",
      "284        0        1        0        0        0        0    0      0.00   \n",
      "280        0        1        0        0        0        1    0      0.00   \n",
      "276        0        1        0        0        0        2    0      0.00   \n",
      "88         1        1        0        0        0        1    0      0.00   \n",
      "272        0        1        0        0        1        0    0      0.00   \n",
      "256        0        1        0        1        0        1    0      0.00   \n",
      "141        1        0        1        0        0        0    1     90.00   \n",
      "184        1        0        0        0        0        1    0      0.00   \n",
      "188        1        0        0        0        0        0    0      0.00   \n",
      "140        1        0        1        0        0        0    0      0.00   \n",
      "236        0        1        1        0        0        0    0      0.00   \n",
      "44         1        1        1        0        0        0    0      0.00   \n",
      "136        1        0        1        0        0        1    0      0.00   \n",
      "260        0        1        0        1        0        0    0      0.00   \n",
      "129        1        0        1        0        1        0    1     90.00   \n",
      "176        1        0        0        0        1        0    0      0.00   \n",
      "172        1        0        0        0        1        1    0      0.00   \n",
      "128        1        0        1        0        1        0    0      0.00   \n",
      "\n",
      "                    Successor  $j^*$        $m$  $r_{j}-OC_{j}$  \n",
      "47   [214, 234, 226, 238, 46]      1  LP[0 0 1]            1036  \n",
      "214      [297, 305, 213, 309]      2         AA             200  \n",
      "305      [304, 352, 308, 348]      2         AA             200  \n",
      "304                     [end]      0          -               0  \n",
      "348                     [end]      0          -               0  \n",
      "213           [256, 260, 212]      2         AA             200  \n",
      "212                     [end]      0          -               0  \n",
      "309           [352, 356, 308]      2         AA             200  \n",
      "352                     [end]      0          -               0  \n",
      "356                     [end]      0          -               0  \n",
      "308                     [end]      0          -               0  \n",
      "234      [233, 317, 325, 329]      1  LP[0 0 1]            1600  \n",
      "233      [232, 280, 236, 276]      2         AA             200  \n",
      "232                     [end]      0          -               0  \n",
      "325      [328, 372, 324, 332]      3         LE            5000  \n",
      "324                     [end]      0          -               0  \n",
      "226      [225, 317, 237, 321]      2         AA             200  \n",
      "225           [224, 272, 268]      2         AA             200  \n",
      "224                     [end]      0          -               0  \n",
      "268                     [end]      0          -               0  \n",
      "317      [320, 364, 316, 360]      2         AA             200  \n",
      "316                     [end]      0          -               0  \n",
      "360                     [end]      0          -               0  \n",
      "238      [321, 237, 329, 333]      2         AA             200  \n",
      "321           [320, 368, 364]      2         AA             200  \n",
      "320                     [end]      0          -               0  \n",
      "368                     [end]      0          -               0  \n",
      "364                     [end]      0          -               0  \n",
      "237           [280, 284, 236]      2         AA             200  \n",
      "329      [328, 376, 332, 372]      2         AA             200  \n",
      "..                        ...    ...        ...             ...  \n",
      "376                     [end]      0          -               0  \n",
      "380                     [end]      0          -               0  \n",
      "332                     [end]      0          -               0  \n",
      "46        [137, 129, 45, 141]      2         AA             200  \n",
      "137      [136, 184, 180, 140]      2         AA             200  \n",
      "180                     [end]      0          -               0  \n",
      "45               [88, 92, 44]      2         AA             200  \n",
      "92                      [end]      0          -               0  \n",
      "297           [296, 344, 340]      2         AA             200  \n",
      "344                     [end]      0          -               0  \n",
      "340                     [end]      0          -               0  \n",
      "296                     [end]      0          -               0  \n",
      "284                     [end]      0          -               0  \n",
      "280                     [end]      0          -               0  \n",
      "276                     [end]      0          -               0  \n",
      "88                      [end]      0          -               0  \n",
      "272                     [end]      0          -               0  \n",
      "256                     [end]      0          -               0  \n",
      "141           [184, 188, 140]      2         AA             200  \n",
      "184                     [end]      0          -               0  \n",
      "188                     [end]      0          -               0  \n",
      "140                     [end]      0          -               0  \n",
      "236                     [end]      0          -               0  \n",
      "44                      [end]      0          -               0  \n",
      "136                     [end]      0          -               0  \n",
      "260                     [end]      0          -               0  \n",
      "129           [128, 176, 172]      2         AA             200  \n",
      "176                     [end]      0          -               0  \n",
      "172                     [end]      0          -               0  \n",
      "128                     [end]      0          -               0  \n",
      "\n",
      "[63 rows x 12 columns] \n",
      "\n",
      "   Opt. Politic  from   to  Revenue  Cum_Rev\n",
      "3             1    47  234        0        0\n",
      "2             1   234  325        0        0\n",
      "1             3   325  332     5000     5000 \n",
      "\n"
     ]
    },
    {
     "data": {
      "text/plain": [
       "(     $c_{1}$  $c_{2}$  $c_{3}$  $y_{1}$  $y_{2}$  $y_{3}$  $t$  ExpValue  \\\n",
       " 47         1        1        1        0        0        0    3    544.75   \n",
       " 214        0        1        1        1        0        0    2    234.00   \n",
       " 305        0        0        1        1        0        1    1    180.00   \n",
       " 304        0        0        1        1        0        1    0      0.00   \n",
       " 348        0        0        0        1        0        2    0      0.00   \n",
       " 213        0        1        1        1        0        0    1     90.00   \n",
       " 212        0        1        1        1        0        0    0      0.00   \n",
       " 309        0        0        1        1        0        0    1     90.00   \n",
       " 352        0        0        0        1        0        1    0      0.00   \n",
       " 356        0        0        0        1        0        0    0      0.00   \n",
       " 308        0        0        1        1        0        0    0      0.00   \n",
       " 234        0        1        1        0        0        1    2   1170.00   \n",
       " 233        0        1        1        0        0        1    1    180.00   \n",
       " 232        0        1        1        0        0        1    0      0.00   \n",
       " 325        0        0        1        0        0        2    1   1680.00   \n",
       " 324        0        0        1        0        0        2    0      0.00   \n",
       " 226        0        1        1        0        1        0    2    324.00   \n",
       " 225        0        1        1        0        1        0    1     90.00   \n",
       " 224        0        1        1        0        1        0    0      0.00   \n",
       " 268        0        1        0        0        1        1    0      0.00   \n",
       " 317        0        0        1        0        1        1    1    180.00   \n",
       " 316        0        0        1        0        1        1    0      0.00   \n",
       " 360        0        0        0        0        1        2    0      0.00   \n",
       " 238        0        1        1        0        0        0    2    234.00   \n",
       " 321        0        0        1        0        1        0    1     90.00   \n",
       " 320        0        0        1        0        1        0    0      0.00   \n",
       " 368        0        0        0        0        1        0    0      0.00   \n",
       " 364        0        0        0        0        1        1    0      0.00   \n",
       " 237        0        1        1        0        0        0    1     90.00   \n",
       " 329        0        0        1        0        0        1    1    180.00   \n",
       " ..       ...      ...      ...      ...      ...      ...  ...       ...   \n",
       " 376        0        0        0        0        0        1    0      0.00   \n",
       " 380        0        0        0        0        0        0    0      0.00   \n",
       " 332        0        0        1        0        0        0    0      0.00   \n",
       " 46         1        1        1        0        0        0    2    234.00   \n",
       " 137        1        0        1        0        0        1    1    180.00   \n",
       " 180        1        0        0        0        0        2    0      0.00   \n",
       " 45         1        1        1        0        0        0    1     90.00   \n",
       " 92         1        1        0        0        0        0    0      0.00   \n",
       " 297        0        0        1        1        1        0    1     90.00   \n",
       " 344        0        0        0        1        1        0    0      0.00   \n",
       " 340        0        0        0        1        1        1    0      0.00   \n",
       " 296        0        0        1        1        1        0    0      0.00   \n",
       " 284        0        1        0        0        0        0    0      0.00   \n",
       " 280        0        1        0        0        0        1    0      0.00   \n",
       " 276        0        1        0        0        0        2    0      0.00   \n",
       " 88         1        1        0        0        0        1    0      0.00   \n",
       " 272        0        1        0        0        1        0    0      0.00   \n",
       " 256        0        1        0        1        0        1    0      0.00   \n",
       " 141        1        0        1        0        0        0    1     90.00   \n",
       " 184        1        0        0        0        0        1    0      0.00   \n",
       " 188        1        0        0        0        0        0    0      0.00   \n",
       " 140        1        0        1        0        0        0    0      0.00   \n",
       " 236        0        1        1        0        0        0    0      0.00   \n",
       " 44         1        1        1        0        0        0    0      0.00   \n",
       " 136        1        0        1        0        0        1    0      0.00   \n",
       " 260        0        1        0        1        0        0    0      0.00   \n",
       " 129        1        0        1        0        1        0    1     90.00   \n",
       " 176        1        0        0        0        1        0    0      0.00   \n",
       " 172        1        0        0        0        1        1    0      0.00   \n",
       " 128        1        0        1        0        1        0    0      0.00   \n",
       " \n",
       "                     Successor  $j^*$        $m$  $r_{j}-OC_{j}$  \n",
       " 47   [214, 234, 226, 238, 46]      1  LP[0 0 1]            1036  \n",
       " 214      [297, 305, 213, 309]      2         AA             200  \n",
       " 305      [304, 352, 308, 348]      2         AA             200  \n",
       " 304                     [end]      0          -               0  \n",
       " 348                     [end]      0          -               0  \n",
       " 213           [256, 260, 212]      2         AA             200  \n",
       " 212                     [end]      0          -               0  \n",
       " 309           [352, 356, 308]      2         AA             200  \n",
       " 352                     [end]      0          -               0  \n",
       " 356                     [end]      0          -               0  \n",
       " 308                     [end]      0          -               0  \n",
       " 234      [233, 317, 325, 329]      1  LP[0 0 1]            1600  \n",
       " 233      [232, 280, 236, 276]      2         AA             200  \n",
       " 232                     [end]      0          -               0  \n",
       " 325      [328, 372, 324, 332]      3         LE            5000  \n",
       " 324                     [end]      0          -               0  \n",
       " 226      [225, 317, 237, 321]      2         AA             200  \n",
       " 225           [224, 272, 268]      2         AA             200  \n",
       " 224                     [end]      0          -               0  \n",
       " 268                     [end]      0          -               0  \n",
       " 317      [320, 364, 316, 360]      2         AA             200  \n",
       " 316                     [end]      0          -               0  \n",
       " 360                     [end]      0          -               0  \n",
       " 238      [321, 237, 329, 333]      2         AA             200  \n",
       " 321           [320, 368, 364]      2         AA             200  \n",
       " 320                     [end]      0          -               0  \n",
       " 368                     [end]      0          -               0  \n",
       " 364                     [end]      0          -               0  \n",
       " 237           [280, 284, 236]      2         AA             200  \n",
       " 329      [328, 376, 332, 372]      2         AA             200  \n",
       " ..                        ...    ...        ...             ...  \n",
       " 376                     [end]      0          -               0  \n",
       " 380                     [end]      0          -               0  \n",
       " 332                     [end]      0          -               0  \n",
       " 46        [137, 129, 45, 141]      2         AA             200  \n",
       " 137      [136, 184, 180, 140]      2         AA             200  \n",
       " 180                     [end]      0          -               0  \n",
       " 45               [88, 92, 44]      2         AA             200  \n",
       " 92                      [end]      0          -               0  \n",
       " 297           [296, 344, 340]      2         AA             200  \n",
       " 344                     [end]      0          -               0  \n",
       " 340                     [end]      0          -               0  \n",
       " 296                     [end]      0          -               0  \n",
       " 284                     [end]      0          -               0  \n",
       " 280                     [end]      0          -               0  \n",
       " 276                     [end]      0          -               0  \n",
       " 88                      [end]      0          -               0  \n",
       " 272                     [end]      0          -               0  \n",
       " 256                     [end]      0          -               0  \n",
       " 141           [184, 188, 140]      2         AA             200  \n",
       " 184                     [end]      0          -               0  \n",
       " 188                     [end]      0          -               0  \n",
       " 140                     [end]      0          -               0  \n",
       " 236                     [end]      0          -               0  \n",
       " 44                      [end]      0          -               0  \n",
       " 136                     [end]      0          -               0  \n",
       " 260                     [end]      0          -               0  \n",
       " 129           [128, 176, 172]      2         AA             200  \n",
       " 176                     [end]      0          -               0  \n",
       " 172                     [end]      0          -               0  \n",
       " 128                     [end]      0          -               0  \n",
       " \n",
       " [63 rows x 12 columns],    Opt. Politic  from   to  Revenue  Cum_Rev\n",
       " 3             1    47  234        0        0\n",
       " 2             1   234  325        0        0\n",
       " 1             3   325  332     5000     5000)"
      ]
     },
     "execution_count": 45,
     "metadata": {},
     "output_type": "execute_result"
    }
   ],
   "source": [
    "graph = Structure_Transform(solutions, condition_storages, products, resources, consumtions, revenues, probs, stock_resources, max_stock_resources, performance_times)\n",
    "\n",
    "Best_Politic_Stock(graph, times, resources, stock_resources, solutions)"
   ]
  },
  {
   "cell_type": "code",
   "execution_count": 46,
   "metadata": {
    "collapsed": false
   },
   "outputs": [
    {
     "ename": "AttributeError",
     "evalue": "'module' object has no attribute 'figure'",
     "output_type": "error",
     "traceback": [
      "\u001b[0;31m---------------------------------------------------------------------------\u001b[0m",
      "\u001b[0;31mAttributeError\u001b[0m                            Traceback (most recent call last)",
      "\u001b[0;32m<ipython-input-46-ec0a85ebe107>\u001b[0m in \u001b[0;36m<module>\u001b[0;34m()\u001b[0m\n\u001b[1;32m     11\u001b[0m         \u001b[0;31m# same layout using matplotlib with no labels\u001b[0m\u001b[0;34m\u001b[0m\u001b[0;34m\u001b[0m\u001b[0m\n\u001b[1;32m     12\u001b[0m \u001b[0mpos\u001b[0m\u001b[0;34m=\u001b[0m\u001b[0mnx\u001b[0m\u001b[0;34m.\u001b[0m\u001b[0mgraphviz_layout\u001b[0m\u001b[0;34m(\u001b[0m\u001b[0mdraw\u001b[0m\u001b[0;34m,\u001b[0m\u001b[0mprog\u001b[0m\u001b[0;34m=\u001b[0m\u001b[0;34m'dot'\u001b[0m\u001b[0;34m)\u001b[0m\u001b[0;34m\u001b[0m\u001b[0m\n\u001b[0;32m---> 13\u001b[0;31m \u001b[0mplt\u001b[0m\u001b[0;34m.\u001b[0m\u001b[0mfigure\u001b[0m\u001b[0;34m(\u001b[0m\u001b[0mfigsize\u001b[0m\u001b[0;34m=\u001b[0m\u001b[0;34m(\u001b[0m\u001b[0msize_x\u001b[0m\u001b[0;34m,\u001b[0m\u001b[0msize_y\u001b[0m\u001b[0;34m)\u001b[0m\u001b[0;34m)\u001b[0m\u001b[0;34m\u001b[0m\u001b[0m\n\u001b[0m\u001b[1;32m     14\u001b[0m \u001b[0mplt\u001b[0m\u001b[0;34m.\u001b[0m\u001b[0mtitle\u001b[0m\u001b[0;34m(\u001b[0m\u001b[0;34m\"Entscheidungsbaum\"\u001b[0m\u001b[0;34m)\u001b[0m\u001b[0;34m\u001b[0m\u001b[0m\n\u001b[1;32m     15\u001b[0m \u001b[0mnx\u001b[0m\u001b[0;34m.\u001b[0m\u001b[0mdraw\u001b[0m\u001b[0;34m(\u001b[0m\u001b[0mdraw\u001b[0m\u001b[0;34m,\u001b[0m\u001b[0mpos\u001b[0m\u001b[0;34m,\u001b[0m\u001b[0mwith_labels\u001b[0m\u001b[0;34m=\u001b[0m\u001b[0mTrue\u001b[0m\u001b[0;34m,\u001b[0m \u001b[0mnode_size\u001b[0m\u001b[0;34m=\u001b[0m\u001b[0;36m500\u001b[0m\u001b[0;34m)\u001b[0m\u001b[0;34m\u001b[0m\u001b[0m\n",
      "\u001b[0;31mAttributeError\u001b[0m: 'module' object has no attribute 'figure'"
     ]
    }
   ],
   "source": [
    "import matplotlib as plt\n",
    "\n",
    "draw = graph.copy()\n",
    "draw.remove_node('end')\n",
    "        # Quelle: http://stackoverflow.com/a/11484144/4913569\n",
    "        # ----\n",
    "        # write dot file to use with graphviz\n",
    "        # run \"dot -Tpng test.dot >test.png\"\n",
    "nx.write_dot(draw,'test.dot')\n",
    "\n",
    "        # same layout using matplotlib with no labels\n",
    "pos=nx.graphviz_layout(draw,prog='dot')\n",
    "plt.figure(figsize=(size_x,size_y))\n",
    "plt.title(\"Entscheidungsbaum\")\n",
    "nx.draw(draw,pos,with_labels=True, node_size=500)\n",
    "plt.savefig('GraphTest.png')"
   ]
  },
  {
   "cell_type": "code",
   "execution_count": null,
   "metadata": {
    "collapsed": false
   },
   "outputs": [],
   "source": [
    "Best_Politic(graph, times, resources, start=None)"
   ]
  },
  {
   "cell_type": "code",
   "execution_count": null,
   "metadata": {
    "collapsed": false
   },
   "outputs": [],
   "source": [
    "solutions"
   ]
  },
  {
   "cell_type": "code",
   "execution_count": null,
   "metadata": {
    "collapsed": true
   },
   "outputs": [],
   "source": []
  }
 ],
 "metadata": {
  "kernelspec": {
   "display_name": "Python 2",
   "language": "python",
   "name": "python2"
  },
  "language_info": {
   "codemirror_mode": {
    "name": "ipython",
    "version": 2
   },
   "file_extension": ".py",
   "mimetype": "text/x-python",
   "name": "python",
   "nbconvert_exporter": "python",
   "pygments_lexer": "ipython2",
   "version": "2.7.10"
  }
 },
 "nbformat": 4,
 "nbformat_minor": 0
}
