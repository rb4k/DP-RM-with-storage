{
 "cells": [
  {
   "cell_type": "code",
   "execution_count": 1011,
   "metadata": {
    "collapsed": false
   },
   "outputs": [],
   "source": [
    "__version__ = '0.3'\n",
    "__author__  = \"Robert Matern (r.matern@stud.uni-hannover.de)\"\n",
    "__date__    = ''\n",
    "__url__     = ''\n",
    "__copyright__ = \"(C) 2015 Robert Matern\""
   ]
  },
  {
   "cell_type": "markdown",
   "metadata": {},
   "source": [
    "#Beispieldaten Nr. 1"
   ]
  },
  {
   "cell_type": "code",
   "execution_count": 1012,
   "metadata": {
    "collapsed": false
   },
   "outputs": [],
   "source": [
    "# Funktionen werden hinzugeladen.\n",
    "%run Parameter.ipynb"
   ]
  },
  {
   "cell_type": "code",
   "execution_count": 1013,
   "metadata": {
    "collapsed": false
   },
   "outputs": [
    {
     "name": "stdout",
     "output_type": "stream",
     "text": [
      "[array([10,  9,  8,  7,  6], dtype=uint16), array([5, 4, 3, 2, 1], dtype=uint16)]\n",
      "0:00:00.002048\n"
     ]
    }
   ],
   "source": [
    "# Produkte\n",
    "products = Product(2)\n",
    "\n",
    "# Ressourcen \n",
    "resources = Resource(2)\n",
    "\n",
    "#Kapazität\n",
    "capacities = Capacity(resources)\n",
    "capacities[1] = 1\n",
    "capacities[2] = 1\n",
    "\n",
    "# Ressourcenverbrauch\n",
    "# Achtung! Hier eine Dimensionsreduzierung !!!\n",
    "consumtions = np.arange(len(resources), dtype=np.uint16)\n",
    "consumtions[1] = 1\n",
    "consumtions[2] = 2\n",
    "\n",
    "# Erträge\n",
    "revenues = Revenue(products)\n",
    "revenues[1] = 100\n",
    "revenues[2] = 5000\n",
    "\n",
    "# Buchungsperioden\n",
    "times = Time(10)\n",
    "\n",
    "# Leisungsperioden !!! Muss hier der Anzahl der Ressourcen entsprechen !!!\n",
    "# Im Nachfolgenden ausschließlich Times in 5er Schritten !!!\n",
    "def Performance_Time(times, k):\n",
    "    if len(times) == 4:\n",
    "        array = np.split(times[:-1], 3)\n",
    "    else:\n",
    "        array = np.split(times[:-1], len(times[:-1])//k)\n",
    "    return array\n",
    "\n",
    "performance_times = Performance_Time(times, 5)\n",
    "print performance_times\n",
    "\n",
    "# Wahrscheinlichkeiten\n",
    "probs = Prob(products, times)\n",
    "probs[1] = [0, 0.3, 0.3, 0.3, 0.3, 0.3, 0.3, 0.3, 0.3, 0.3, 0.3]\n",
    "probs[2] = [0, 0.3, 0.3, 0.3, 0.3, 0.3, 0, 0, 0, 0, 0]\n",
    "\n",
    "# Gegenwahrscheinlichkeiten\n",
    "against_probs = Against_Prob(probs)\n",
    "probs[0] = against_probs\n",
    "\n",
    "# Systemzustände\n",
    "conditions = Condition(capacities, resources, times)\n",
    "\n",
    "\n",
    "# Endzeitpunkte\n",
    "#end_times = End_Time(conditions)"
   ]
  },
  {
   "cell_type": "markdown",
   "metadata": {},
   "source": [
    "inkl. Lagerhaltung"
   ]
  },
  {
   "cell_type": "code",
   "execution_count": 1014,
   "metadata": {
    "collapsed": false
   },
   "outputs": [],
   "source": [
    "%run Parameter-transform.ipynb"
   ]
  },
  {
   "cell_type": "code",
   "execution_count": 1015,
   "metadata": {
    "collapsed": false
   },
   "outputs": [
    {
     "name": "stdout",
     "output_type": "stream",
     "text": [
      "0:00:00.000519\n"
     ]
    }
   ],
   "source": [
    "#Lagerbestand\n",
    "stock_resources = Stock_Resource(resources)\n",
    "stock_resources[1] = 0\n",
    "\n",
    "max_stock_resources = Max_Stock_Resource(resources)\n",
    "max_stock_resources[1] = 1\n",
    "max_stock_resources[2] = 2\n",
    "\n",
    "# Systemzustände\n",
    "condition_storages = Condition_Storage(capacities, resources, max_stock_resources, times)\n",
    "# Bei der Modelformulierung mit Lagerproduktion wird der Parameter 'max_stocks' benötigt."
   ]
  },
  {
   "cell_type": "code",
   "execution_count": 1016,
   "metadata": {
    "collapsed": false
   },
   "outputs": [],
   "source": [
    "#Regenerationsperiode\n",
    "time_regenerations = Time_Regeneration(times)\n",
    "#time_regenerations[2]=True\n",
    "\n",
    "#Max. Kapazität\n",
    "max_capacities = Max_Capacity(capacities)"
   ]
  },
  {
   "cell_type": "code",
   "execution_count": 1017,
   "metadata": {
    "collapsed": false
   },
   "outputs": [],
   "source": [
    "%run DynamicProgramm-time.ipynb"
   ]
  },
  {
   "cell_type": "code",
   "execution_count": 1018,
   "metadata": {
    "collapsed": false
   },
   "outputs": [
    {
     "name": "stdout",
     "output_type": "stream",
     "text": [
      "Bestände: [1 1 0 0] - Periode: 0 - Erwartungswert: 0.0 - Optimale Politik: 0 KA\n",
      "Bestände: [1 0 0 0] - Periode: 0 - Erwartungswert: 0.0 - Optimale Politik: 0 KA\n",
      "Bestände: [1 0 1 0] - Periode: 0 - Erwartungswert: 0.0 - Optimale Politik: 0 KA\n",
      "Bestände: [1 0 0 1] - Periode: 0 - Erwartungswert: 0.0 - Optimale Politik: 0 KA\n",
      "Bestände: [1 1 0 0] - Periode: 1 - Erwartungswert: 30.0 - Optimale Politik: 1 AA\n",
      "Bestände: [1 0 0 0] - Periode: 1 - Erwartungswert: 0.0 - Optimale Politik: 0 KA\n",
      "Bestände: [1 0 1 0] - Periode: 1 - Erwartungswert: 0.0 - Optimale Politik: 0 KA\n",
      "Bestände: [1 0 0 1] - Periode: 1 - Erwartungswert: 30.0 - Optimale Politik: 1 LE\n",
      "Bestände: [1 1 0 0] - Periode: 2 - Erwartungswert: 51.0 - Optimale Politik: 1 AA\n",
      "Bestände: [1 0 0 0] - Periode: 2 - Erwartungswert: 0.0 - Optimale Politik: 0 KA\n",
      "Bestände: [1 0 1 0] - Periode: 2 - Erwartungswert: 0.0 - Optimale Politik: 0 KA\n",
      "Bestände: [1 0 0 1] - Periode: 2 - Erwartungswert: 51.0 - Optimale Politik: 1 LE\n",
      "Bestände: [1 1 0 0] - Periode: 3 - Erwartungswert: 65.7031 - Optimale Politik: 1 AA\n",
      "Bestände: [1 0 0 0] - Periode: 3 - Erwartungswert: 0.0 - Optimale Politik: 0 KA\n",
      "Bestände: [1 0 1 0] - Periode: 3 - Erwartungswert: 0.0 - Optimale Politik: 0 KA\n",
      "Bestände: [1 0 0 1] - Periode: 3 - Erwartungswert: 65.7031 - Optimale Politik: 1 LE\n",
      "Bestände: [1 1 0 0] - Periode: 4 - Erwartungswert: 76.0 - Optimale Politik: 1 AA\n",
      "Bestände: [1 0 0 0] - Periode: 4 - Erwartungswert: 0.0 - Optimale Politik: 0 KA\n",
      "Bestände: [1 0 1 0] - Periode: 4 - Erwartungswert: 0.0 - Optimale Politik: 0 KA\n",
      "Bestände: [1 0 0 1] - Periode: 4 - Erwartungswert: 76.0 - Optimale Politik: 1 LE\n",
      "Bestände: [1 1 0 0] - Periode: 5 - Erwartungswert: 83.1992 - Optimale Politik: 1 AA\n",
      "Bestände: [0 1 0 0] - Periode: 0 - Erwartungswert: 0.0 - Optimale Politik: 0 KA\n",
      "Bestände: [0 0 0 0] - Periode: 0 - Erwartungswert: 0.0 - Optimale Politik: 0 KA\n",
      "Bestände: [0 0 1 0] - Periode: 0 - Erwartungswert: 0.0 - Optimale Politik: 0 KA\n",
      "Bestände: [0 0 0 1] - Periode: 0 - Erwartungswert: 0.0 - Optimale Politik: 0 KA\n",
      "Bestände: [0 1 0 0] - Periode: 1 - Erwartungswert: 30.0 - Optimale Politik: 1 AA\n",
      "Bestände: [0 0 0 0] - Periode: 1 - Erwartungswert: 0.0 - Optimale Politik: 0 KA\n",
      "Bestände: [0 0 1 0] - Periode: 1 - Erwartungswert: 0.0 - Optimale Politik: 0 KA\n",
      "Bestände: [0 0 0 1] - Periode: 1 - Erwartungswert: 30.0 - Optimale Politik: 1 LE\n",
      "Bestände: [0 1 0 0] - Periode: 2 - Erwartungswert: 51.0 - Optimale Politik: 1 AA\n",
      "Bestände: [0 0 0 0] - Periode: 2 - Erwartungswert: 0.0 - Optimale Politik: 0 KA\n",
      "Bestände: [0 0 1 0] - Periode: 2 - Erwartungswert: 0.0 - Optimale Politik: 0 KA\n",
      "Bestände: [0 0 0 1] - Periode: 2 - Erwartungswert: 51.0 - Optimale Politik: 1 LE\n",
      "Bestände: [0 1 0 0] - Periode: 3 - Erwartungswert: 65.7031 - Optimale Politik: 1 AA\n",
      "Bestände: [0 0 0 0] - Periode: 3 - Erwartungswert: 0.0 - Optimale Politik: 0 KA\n",
      "Bestände: [0 0 1 0] - Periode: 3 - Erwartungswert: 0.0 - Optimale Politik: 0 KA\n",
      "Bestände: [0 0 0 1] - Periode: 3 - Erwartungswert: 65.7031 - Optimale Politik: 1 LE\n",
      "Bestände: [0 1 0 0] - Periode: 4 - Erwartungswert: 76.0 - Optimale Politik: 1 AA\n",
      "Bestände: [0 0 0 0] - Periode: 4 - Erwartungswert: 0.0 - Optimale Politik: 0 KA\n",
      "Bestände: [0 0 1 0] - Periode: 4 - Erwartungswert: 0.0 - Optimale Politik: 0 KA\n",
      "Bestände: [0 0 0 1] - Periode: 4 - Erwartungswert: 76.0 - Optimale Politik: 1 LE\n",
      "Bestände: [0 1 0 0] - Periode: 5 - Erwartungswert: 83.1992 - Optimale Politik: 1 AA\n",
      "Bestände: [0 1 1 0] - Periode: 0 - Erwartungswert: 0.0 - Optimale Politik: 0 KA\n",
      "Bestände: [0 0 1 1] - Periode: 0 - Erwartungswert: 0.0 - Optimale Politik: 0 KA\n",
      "Bestände: [0 1 1 0] - Periode: 1 - Erwartungswert: 30.0 - Optimale Politik: 1 AA\n",
      "Bestände: [0 0 1 1] - Periode: 1 - Erwartungswert: 30.0 - Optimale Politik: 1 LE\n",
      "Bestände: [0 1 1 0] - Periode: 2 - Erwartungswert: 51.0 - Optimale Politik: 1 AA\n",
      "Bestände: [0 0 1 1] - Periode: 2 - Erwartungswert: 51.0 - Optimale Politik: 1 LE\n",
      "Bestände: [0 1 1 0] - Periode: 3 - Erwartungswert: 65.7031 - Optimale Politik: 1 AA\n",
      "Bestände: [0 0 1 1] - Periode: 3 - Erwartungswert: 65.7031 - Optimale Politik: 1 LE\n",
      "Bestände: [0 1 1 0] - Periode: 4 - Erwartungswert: 76.0 - Optimale Politik: 1 AA\n",
      "Bestände: [0 0 1 1] - Periode: 4 - Erwartungswert: 76.0 - Optimale Politik: 1 LE\n",
      "Bestände: [0 1 1 0] - Periode: 5 - Erwartungswert: 83.1992 - Optimale Politik: 1 AA\n",
      "Bestände: [0 1 0 1] - Periode: 0 - Erwartungswert: 0.0 - Optimale Politik: 0 KA\n",
      "Bestände: [0 0 0 2] - Periode: 0 - Erwartungswert: 0.0 - Optimale Politik: 0 KA\n",
      "Bestände: [0 1 0 1] - Periode: 1 - Erwartungswert: 60.0 - Optimale Politik: 1 AA\n",
      "Bestände: [0 0 0 2] - Periode: 1 - Erwartungswert: 1530.0 - Optimale Politik: 2 LE\n",
      "Bestände: [0 1 0 1] - Periode: 2 - Erwartungswert: 543.0 - Optimale Politik: 1 LP - Modus: [0 0 1]\n",
      "Bestände: [0 0 0 2] - Periode: 2 - Erwartungswert: 2571.0 - Optimale Politik: 2 LE\n",
      "Bestände: [0 1 0 1] - Periode: 3 - Erwartungswert: 1151.5 - Optimale Politik: 1 LP - Modus: [0 0 1]\n",
      "Bestände: [0 0 0 2] - Periode: 3 - Erwartungswert: 3299.5 - Optimale Politik: 2 LE\n",
      "Bestände: [0 1 0 1] - Periode: 4 - Erwartungswert: 1796.0 - Optimale Politik: 1 LP - Modus: [0 0 1]\n",
      "Bestände: [0 0 0 2] - Periode: 4 - Erwartungswert: 3809.5 - Optimale Politik: 2 LE\n",
      "Bestände: [0 1 0 1] - Periode: 5 - Erwartungswert: 2400.0 - Optimale Politik: 1 LP - Modus: [0 0 1]\n",
      "Bestände: [1 1 0 0] - Periode: 6 - Erwartungswert: 808.199 - Optimale Politik: 1 LP - Modus: [0 0 1]\n",
      "Bestände: [0 1 0 0] - Periode: 6 - Erwartungswert: 0.0 - Optimale Politik: 0 KA\n",
      "Bestände: [0 1 1 0] - Periode: 6 - Erwartungswert: 113.199 - Optimale Politik: 1 LE\n",
      "Bestände: [0 1 0 1] - Periode: 6 - Erwartungswert: 0.0 - Optimale Politik: 0 KA\n",
      "Bestände: [1 1 0 0] - Periode: 7 - Erwartungswert: 1285.7 - Optimale Politik: 1 LP - Modus: [0 0 1]\n",
      "Bestände: [0 1 0 0] - Periode: 7 - Erwartungswert: 0.0 - Optimale Politik: 0 KA\n",
      "Bestände: [0 1 1 0] - Periode: 7 - Erwartungswert: 0.0 - Optimale Politik: 0 KA\n",
      "Bestände: [0 1 0 1] - Periode: 7 - Erwartungswert: 0.0 - Optimale Politik: 0 KA\n",
      "Bestände: [1 1 0 0] - Periode: 8 - Erwartungswert: 0.0 - Optimale Politik: 0 KA\n",
      "Bestände: [0 1 0 0] - Periode: 8 - Erwartungswert: 0.0 - Optimale Politik: 0 KA\n",
      "Bestände: [0 1 1 0] - Periode: 8 - Erwartungswert: 30.0 - Optimale Politik: 1 LE\n",
      "Bestände: [0 1 0 1] - Periode: 8 - Erwartungswert: 0.0 - Optimale Politik: 0 KA\n",
      "Bestände: [1 1 0 0] - Periode: 9 - Erwartungswert: 0.0 - Optimale Politik: 0 KA\n",
      "Bestände: [0 1 0 0] - Periode: 9 - Erwartungswert: 0.0 - Optimale Politik: 0 KA\n",
      "Bestände: [0 1 1 0] - Periode: 9 - Erwartungswert: 51.0 - Optimale Politik: 1 LE\n",
      "Bestände: [0 1 0 1] - Periode: 9 - Erwartungswert: 0.0 - Optimale Politik: 0 KA\n",
      "Bestände: [1 1 0 0] - Periode: 10 - Erwartungswert: 0.0 - Optimale Politik: 0 KA\n"
     ]
    },
    {
     "data": {
      "text/plain": [
       "1285.6992"
      ]
     },
     "execution_count": 1018,
     "metadata": {},
     "output_type": "execute_result"
    }
   ],
   "source": [
    "DP_Time(solutions, condition_storages, products, resources, capacities, consumtions, times, revenues, probs, stock_resources, max_stock_resources, time_regenerations, max_capacities, performance_times)"
   ]
  },
  {
   "cell_type": "code",
   "execution_count": 1019,
   "metadata": {
    "collapsed": false
   },
   "outputs": [
    {
     "data": {
      "text/plain": [
       "81"
      ]
     },
     "execution_count": 1019,
     "metadata": {},
     "output_type": "execute_result"
    }
   ],
   "source": [
    "len(solutions)"
   ]
  },
  {
   "cell_type": "code",
   "execution_count": 1020,
   "metadata": {
    "collapsed": false
   },
   "outputs": [
    {
     "ename": "IndexError",
     "evalue": "invalid index to scalar variable.",
     "output_type": "error",
     "traceback": [
      "\u001b[0;31m---------------------------------------------------------------------------\u001b[0m",
      "\u001b[0;31mIndexError\u001b[0m                                Traceback (most recent call last)",
      "\u001b[0;32m<ipython-input-1020-1d2887567921>\u001b[0m in \u001b[0;36m<module>\u001b[0;34m()\u001b[0m\n\u001b[0;32m----> 1\u001b[0;31m \u001b[0mgraph\u001b[0m \u001b[0;34m=\u001b[0m \u001b[0mStructure_Transform\u001b[0m\u001b[0;34m(\u001b[0m\u001b[0msolutions\u001b[0m\u001b[0;34m,\u001b[0m \u001b[0mcondition_storages\u001b[0m\u001b[0;34m,\u001b[0m \u001b[0mproducts\u001b[0m\u001b[0;34m,\u001b[0m \u001b[0mresources\u001b[0m\u001b[0;34m,\u001b[0m \u001b[0mconsumtions\u001b[0m\u001b[0;34m,\u001b[0m \u001b[0mrevenues\u001b[0m\u001b[0;34m,\u001b[0m \u001b[0mprobs\u001b[0m\u001b[0;34m,\u001b[0m \u001b[0mstock_resources\u001b[0m\u001b[0;34m,\u001b[0m \u001b[0mmax_stock_resources\u001b[0m\u001b[0;34m,\u001b[0m \u001b[0mtime_regenerations\u001b[0m\u001b[0;34m,\u001b[0m \u001b[0mmax_capacities\u001b[0m\u001b[0;34m)\u001b[0m\u001b[0;34m\u001b[0m\u001b[0m\n\u001b[0m\u001b[1;32m      2\u001b[0m \u001b[0;34m\u001b[0m\u001b[0m\n\u001b[1;32m      3\u001b[0m \u001b[0mBest_Politic_Stock\u001b[0m\u001b[0;34m(\u001b[0m\u001b[0mgraph\u001b[0m\u001b[0;34m,\u001b[0m \u001b[0mtimes\u001b[0m\u001b[0;34m,\u001b[0m \u001b[0mresources\u001b[0m\u001b[0;34m,\u001b[0m \u001b[0mstock_resources\u001b[0m\u001b[0;34m,\u001b[0m \u001b[0msolutions\u001b[0m\u001b[0;34m)\u001b[0m\u001b[0;34m\u001b[0m\u001b[0m\n",
      "\u001b[0;32m<ipython-input-1017-b9d944637d53>\u001b[0m in \u001b[0;36mStructure_Transform\u001b[0;34m(solutions, conditions, products, resources, consumtions, revenues, probs, stocks, max_stocks, time_regenerations, max_capacities)\u001b[0m\n\u001b[1;32m     30\u001b[0m                 \u001b[0;32mif\u001b[0m \u001b[0mtime_regenerations\u001b[0m\u001b[0;34m[\u001b[0m\u001b[0msolutions\u001b[0m\u001b[0;34m[\u001b[0m\u001b[0mi\u001b[0m\u001b[0;34m]\u001b[0m\u001b[0;34m[\u001b[0m\u001b[0;36m0\u001b[0m\u001b[0;34m]\u001b[0m\u001b[0;34m[\u001b[0m\u001b[0;34m-\u001b[0m\u001b[0;36m1\u001b[0m\u001b[0;34m]\u001b[0m\u001b[0;34m-\u001b[0m\u001b[0;36m1\u001b[0m\u001b[0;34m]\u001b[0m \u001b[0;34m!=\u001b[0m \u001b[0mTrue\u001b[0m\u001b[0;34m:\u001b[0m\u001b[0;34m\u001b[0m\u001b[0m\n\u001b[1;32m     31\u001b[0m                     \u001b[0;31m# Kapazitätsveränderung aufgrund der Anfragen nach Produkt 'j' wird erfasst.\u001b[0m\u001b[0;34m\u001b[0m\u001b[0;34m\u001b[0m\u001b[0m\n\u001b[0;32m---> 32\u001b[0;31m                     \u001b[0mchange\u001b[0m \u001b[0;34m=\u001b[0m \u001b[0msolutions\u001b[0m\u001b[0;34m[\u001b[0m\u001b[0mi\u001b[0m\u001b[0;34m]\u001b[0m\u001b[0;34m[\u001b[0m\u001b[0;36m0\u001b[0m\u001b[0;34m]\u001b[0m\u001b[0;34m[\u001b[0m\u001b[0;34m:\u001b[0m\u001b[0mlen\u001b[0m\u001b[0;34m(\u001b[0m\u001b[0mresources\u001b[0m\u001b[0;34m)\u001b[0m\u001b[0;34m-\u001b[0m\u001b[0;36m1\u001b[0m\u001b[0;34m]\u001b[0m\u001b[0;34m-\u001b[0m\u001b[0mconsumtions\u001b[0m\u001b[0;34m[\u001b[0m\u001b[0mj\u001b[0m\u001b[0;34m]\u001b[0m\u001b[0;34m[\u001b[0m\u001b[0;36m1\u001b[0m\u001b[0;34m:\u001b[0m\u001b[0;34m]\u001b[0m\u001b[0;34m\u001b[0m\u001b[0m\n\u001b[0m\u001b[1;32m     33\u001b[0m                     \u001b[0;31m# Keine negativen Kapazitätsbestände möglich.\u001b[0m\u001b[0;34m\u001b[0m\u001b[0;34m\u001b[0m\u001b[0m\n\u001b[1;32m     34\u001b[0m                     \u001b[0;32mif\u001b[0m \u001b[0mnp\u001b[0m\u001b[0;34m.\u001b[0m\u001b[0mall\u001b[0m\u001b[0;34m(\u001b[0m\u001b[0;34m(\u001b[0m\u001b[0mchange\u001b[0m\u001b[0;34m)\u001b[0m \u001b[0;34m>=\u001b[0m \u001b[0mnp\u001b[0m\u001b[0;34m.\u001b[0m\u001b[0mfloat32\u001b[0m\u001b[0;34m(\u001b[0m\u001b[0;36m0\u001b[0m\u001b[0;34m)\u001b[0m\u001b[0;34m)\u001b[0m\u001b[0;34m:\u001b[0m\u001b[0;34m\u001b[0m\u001b[0m\n",
      "\u001b[0;31mIndexError\u001b[0m: invalid index to scalar variable."
     ]
    }
   ],
   "source": [
    "graph = Structure_Transform(solutions, condition_storages, products, resources, consumtions, revenues, probs, stock_resources, max_stock_resources, time_regenerations, max_capacities)\n",
    "\n",
    "Best_Politic_Stock(graph, times, resources, stock_resources, solutions)"
   ]
  },
  {
   "cell_type": "code",
   "execution_count": null,
   "metadata": {
    "collapsed": false
   },
   "outputs": [],
   "source": [
    "import matplotlib as plt\n",
    "\n",
    "draw = graph.copy()\n",
    "draw.remove_node('end')\n",
    "        # Quelle: http://stackoverflow.com/a/11484144/4913569\n",
    "        # ----\n",
    "        # write dot file to use with graphviz\n",
    "        # run \"dot -Tpng test.dot >test.png\"\n",
    "nx.write_dot(draw,'test.dot')\n",
    "\n",
    "        # same layout using matplotlib with no labels\n",
    "pos=nx.graphviz_layout(draw,prog='dot')\n",
    "plt.figure(figsize=(size_x,size_y))\n",
    "plt.title(\"Entscheidungsbaum\")\n",
    "nx.draw(draw,pos,with_labels=True, node_size=500)\n",
    "plt.savefig('GraphTest.png')"
   ]
  },
  {
   "cell_type": "code",
   "execution_count": null,
   "metadata": {
    "collapsed": false
   },
   "outputs": [],
   "source": [
    "Best_Politic(graph, times, resources, start=None)"
   ]
  },
  {
   "cell_type": "code",
   "execution_count": null,
   "metadata": {
    "collapsed": true
   },
   "outputs": [],
   "source": []
  },
  {
   "cell_type": "code",
   "execution_count": null,
   "metadata": {
    "collapsed": true
   },
   "outputs": [],
   "source": []
  }
 ],
 "metadata": {
  "kernelspec": {
   "display_name": "Python 2",
   "language": "python",
   "name": "python2"
  },
  "language_info": {
   "codemirror_mode": {
    "name": "ipython",
    "version": 2
   },
   "file_extension": ".py",
   "mimetype": "text/x-python",
   "name": "python",
   "nbconvert_exporter": "python",
   "pygments_lexer": "ipython2",
   "version": "2.7.10"
  }
 },
 "nbformat": 4,
 "nbformat_minor": 0
}
