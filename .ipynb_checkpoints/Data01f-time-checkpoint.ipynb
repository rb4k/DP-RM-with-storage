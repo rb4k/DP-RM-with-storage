{
 "cells": [
  {
   "cell_type": "code",
   "execution_count": 77,
   "metadata": {
    "collapsed": false
   },
   "outputs": [],
   "source": [
    "__version__ = '0.3'\n",
    "__author__  = \"Robert Matern (r.matern@stud.uni-hannover.de)\"\n",
    "__date__    = ''\n",
    "__url__     = ''\n",
    "__copyright__ = \"(C) 2015 Robert Matern\""
   ]
  },
  {
   "cell_type": "markdown",
   "metadata": {},
   "source": [
    "#Beispieldaten Nr. 1"
   ]
  },
  {
   "cell_type": "code",
   "execution_count": 78,
   "metadata": {
    "collapsed": false
   },
   "outputs": [],
   "source": [
    "# Funktionen werden hinzugeladen.\n",
    "%run Parameter.ipynb"
   ]
  },
  {
   "cell_type": "code",
   "execution_count": 79,
   "metadata": {
    "collapsed": false
   },
   "outputs": [
    {
     "name": "stdout",
     "output_type": "stream",
     "text": [
      "0:00:00.000543\n"
     ]
    }
   ],
   "source": [
    "# Produkte\n",
    "products = Product(3)\n",
    "\n",
    "# Ressourcen \n",
    "resources = Resource(3)\n",
    "\n",
    "#Kapazität\n",
    "capacities = Capacity(resources)\n",
    "capacities[1] = 1\n",
    "capacities[2] = 1\n",
    "capacities[3] = 1\n",
    "\n",
    "# Ressourcenverbrauch\n",
    "# Achtung! Hier eine Dimensionsreduzierung !!!\n",
    "consumtions = np.arange(len(resources), dtype=np.uint16)\n",
    "consumtions[1] = 1\n",
    "consumtions[2] = 1\n",
    "consumtions[3] = 2\n",
    "\n",
    "# Erträge\n",
    "revenues = Revenue(products)\n",
    "revenues[1] = 100\n",
    "revenues[2] = 200\n",
    "revenues[3] = 5000\n",
    "\n",
    "# Buchungsperioden\n",
    "times = Time(3)\n",
    "\n",
    "# Wahrscheinlichkeiten\n",
    "probs = Prob(products, times)\n",
    "probs[1] = [0, 0.3, 0.3, 0.3]\n",
    "probs[2] = [0, 0.3, 0.3, 0]\n",
    "probs[3] = [0, 0.3, 0, 0]\n",
    "\n",
    "# Gegenwahrscheinlichkeiten\n",
    "against_probs = Against_Prob(probs)\n",
    "probs[0] = against_probs\n",
    "\n",
    "# Systemzustände\n",
    "conditions = Condition(capacities, resources, times)\n",
    "\n",
    "\n",
    "# Endzeitpunkte\n",
    "#end_times = End_Time(conditions)"
   ]
  },
  {
   "cell_type": "markdown",
   "metadata": {},
   "source": [
    "inkl. Lagerhaltung"
   ]
  },
  {
   "cell_type": "code",
   "execution_count": 80,
   "metadata": {
    "collapsed": false
   },
   "outputs": [],
   "source": [
    "%run Parameter-transform.ipynb"
   ]
  },
  {
   "cell_type": "code",
   "execution_count": 81,
   "metadata": {
    "collapsed": false
   },
   "outputs": [
    {
     "name": "stdout",
     "output_type": "stream",
     "text": [
      "0:00:00.000772\n"
     ]
    }
   ],
   "source": [
    "#Lagerbestand\n",
    "stock_resources = Stock_Resource(resources)\n",
    "stock_resources[1] = 0\n",
    "\n",
    "max_stock_resources = Max_Stock_Resource(resources)\n",
    "max_stock_resources[1] = 0\n",
    "max_stock_resources[2] = 0\n",
    "max_stock_resources[3] = 2\n",
    "\n",
    "# Systemzustände\n",
    "condition_storages = Condition_Storage(capacities, resources, max_stock_resources, times)\n",
    "# Bei der Modelformulierung mit Lagerproduktion wird der Parameter 'max_stocks' benötigt."
   ]
  },
  {
   "cell_type": "code",
   "execution_count": 82,
   "metadata": {
    "collapsed": true
   },
   "outputs": [],
   "source": [
    "# Leisungsperioden !!! Muss hier der Anzahl der Ressourcen entsprechen !!!\n",
    "# Im Nachfolgenden ausschließlich Times in 5er Schritten !!!\n",
    "\n",
    "performance_times = Performance_Time(times, 5)"
   ]
  },
  {
   "cell_type": "code",
   "execution_count": 83,
   "metadata": {
    "collapsed": false
   },
   "outputs": [],
   "source": [
    "%run DynamicProgramm-time.ipynb"
   ]
  },
  {
   "cell_type": "code",
   "execution_count": 84,
   "metadata": {
    "collapsed": false
   },
   "outputs": [
    {
     "name": "stdout",
     "output_type": "stream",
     "text": [
      "Bestände: [1 1 1 0 0 0] - Periode: 0 - Erwartungswert: 0.0 - Optimale Politik: 0 KA\n",
      "Bestände: [1 1 0 0 0 0] - Periode: 0 - Erwartungswert: 0.0 - Optimale Politik: 0 KA\n",
      "Bestände: [1 1 0 0 0 1] - Periode: 0 - Erwartungswert: 0.0 - Optimale Politik: 0 KA\n",
      "Bestände: [1 1 1 0 0 0] - Periode: 1 - Erwartungswert: 90.0 - Optimale Politik: 2 AA\n",
      "Bestände: [1 0 1 0 0 0] - Periode: 0 - Erwartungswert: 0.0 - Optimale Politik: 0 KA\n",
      "Bestände: [1 0 0 0 0 0] - Periode: 0 - Erwartungswert: 0.0 - Optimale Politik: 0 KA\n",
      "Bestände: [1 0 0 0 0 1] - Periode: 0 - Erwartungswert: 0.0 - Optimale Politik: 0 KA\n",
      "Bestände: [1 0 1 0 0 0] - Periode: 1 - Erwartungswert: 90.0 - Optimale Politik: 2 AA\n",
      "Bestände: [1 0 1 0 0 1] - Periode: 0 - Erwartungswert: 0.0 - Optimale Politik: 0 KA\n",
      "Bestände: [1 0 0 0 0 2] - Periode: 0 - Erwartungswert: 0.0 - Optimale Politik: 0 KA\n",
      "Bestände: [1 0 1 0 0 1] - Periode: 1 - Erwartungswert: 180.0 - Optimale Politik: 2 AA\n",
      "Bestände: [1 1 1 0 0 0] - Periode: 2 - Erwartungswert: 234.0 - Optimale Politik: 2 AA\n",
      "Bestände: [0 1 1 0 0 0] - Periode: 0 - Erwartungswert: 0.0 - Optimale Politik: 0 KA\n",
      "Bestände: [0 1 0 0 0 0] - Periode: 0 - Erwartungswert: 0.0 - Optimale Politik: 0 KA\n",
      "Bestände: [0 1 0 0 0 1] - Periode: 0 - Erwartungswert: 0.0 - Optimale Politik: 0 KA\n",
      "Bestände: [0 1 1 0 0 0] - Periode: 1 - Erwartungswert: 90.0 - Optimale Politik: 2 AA\n",
      "Bestände: [0 0 1 0 0 0] - Periode: 0 - Erwartungswert: 0.0 - Optimale Politik: 0 KA\n",
      "Bestände: [0 0 0 0 0 0] - Periode: 0 - Erwartungswert: 0.0 - Optimale Politik: 0 KA\n",
      "Bestände: [0 0 0 0 0 1] - Periode: 0 - Erwartungswert: 0.0 - Optimale Politik: 0 KA\n",
      "Bestände: [0 0 1 0 0 0] - Periode: 1 - Erwartungswert: 90.0 - Optimale Politik: 2 AA\n",
      "Bestände: [0 0 1 0 0 1] - Periode: 0 - Erwartungswert: 0.0 - Optimale Politik: 0 KA\n",
      "Bestände: [0 0 0 0 0 2] - Periode: 0 - Erwartungswert: 0.0 - Optimale Politik: 0 KA\n",
      "Bestände: [0 0 1 0 0 1] - Periode: 1 - Erwartungswert: 180.0 - Optimale Politik: 2 AA\n",
      "Bestände: [0 1 1 0 0 0] - Periode: 2 - Erwartungswert: 234.0 - Optimale Politik: 2 AA\n",
      "Bestände: [0 1 1 0 0 1] - Periode: 0 - Erwartungswert: 0.0 - Optimale Politik: 0 KA\n",
      "Bestände: [0 1 0 0 0 2] - Periode: 0 - Erwartungswert: 0.0 - Optimale Politik: 0 KA\n",
      "Bestände: [0 1 1 0 0 1] - Periode: 1 - Erwartungswert: 180.0 - Optimale Politik: 2 AA\n",
      "Bestände: [0 0 1 0 0 2] - Periode: 0 - Erwartungswert: 0.0 - Optimale Politik: 0 KA\n",
      "Bestände: [0 0 1 0 0 2] - Periode: 1 - Erwartungswert: 1680.0 - Optimale Politik: 3 LE\n",
      "Bestände: [0 1 1 0 0 1] - Periode: 2 - Erwartungswert: 1170.0 - Optimale Politik: 1 LP - Modus: [0 0 0 1]\n",
      "Bestände: [1 1 1 0 0 0] - Periode: 3 - Erwartungswert: 544.75 - Optimale Politik: 1 LP - Modus: [0 0 0 1]\n"
     ]
    },
    {
     "data": {
      "text/plain": [
       "544.75"
      ]
     },
     "execution_count": 84,
     "metadata": {},
     "output_type": "execute_result"
    }
   ],
   "source": [
    "DP_Time(solutions, condition_storages, products, resources, capacities, consumtions, times, revenues, probs, stock_resources, max_stock_resources, performance_times)"
   ]
  },
  {
   "cell_type": "code",
   "execution_count": 85,
   "metadata": {
    "collapsed": false
   },
   "outputs": [
    {
     "name": "stdout",
     "output_type": "stream",
     "text": [
      "Optimalen Politik zum Zeitpunkt \"t\" und unter Beachtung der Restkapazitäten \"c[h]\": \n",
      "\n",
      "    $c^{1}$  $c^{2}$  $c^{3}$  $y^{1}$  $y^{2}$  $y^{3}$  $t$  ExpValue  \\\n",
      "11        1        1        1        0        0        0    3    544.75   \n",
      "58        0        1        1        0        0        0    2    234.00   \n",
      "57        0        1        1        0        0        0    1     90.00   \n",
      "68        0        1        0        0        0        0    0      0.00   \n",
      "81        0        0        1        0        0        0    1     90.00   \n",
      "92        0        0        0        0        0        0    0      0.00   \n",
      "54        0        1        1        0        0        1    2   1170.00   \n",
      "73        0        0        1        0        0        2    1   1680.00   \n",
      "72        0        0        1        0        0        2    0      0.00   \n",
      "53        0        1        1        0        0        1    1    180.00   \n",
      "64        0        1        0        0        0        1    0      0.00   \n",
      "56        0        1        1        0        0        0    0      0.00   \n",
      "52        0        1        1        0        0        1    0      0.00   \n",
      "60        0        1        0        0        0        2    0      0.00   \n",
      "77        0        0        1        0        0        1    1    180.00   \n",
      "88        0        0        0        0        0        1    0      0.00   \n",
      "80        0        0        1        0        0        0    0      0.00   \n",
      "76        0        0        1        0        0        1    0      0.00   \n",
      "84        0        0        0        0        0        2    0      0.00   \n",
      "10        1        1        1        0        0        0    2    234.00   \n",
      "29        1        0        1        0        0        1    1    180.00   \n",
      "28        1        0        1        0        0        1    0      0.00   \n",
      "36        1        0        0        0        0        2    0      0.00   \n",
      "33        1        0        1        0        0        0    1     90.00   \n",
      "32        1        0        1        0        0        0    0      0.00   \n",
      "40        1        0        0        0        0        1    0      0.00   \n",
      "44        1        0        0        0        0        0    0      0.00   \n",
      "9         1        1        1        0        0        0    1     90.00   \n",
      "16        1        1        0        0        0        1    0      0.00   \n",
      "20        1        1        0        0        0        0    0      0.00   \n",
      "8         1        1        1        0        0        0    0      0.00   \n",
      "\n",
      "           Successor  $j^*$        $m$  $r_{j}-OC_{j}$  \n",
      "11      [10, 58, 54]      1  LP[0 0 1]            1036  \n",
      "58      [57, 77, 81]      2         AA             200  \n",
      "57      [56, 64, 68]      2         AA             200  \n",
      "68             [end]      0          -               0  \n",
      "81      [80, 88, 92]      2         AA             200  \n",
      "92             [end]      0          -               0  \n",
      "54      [73, 53, 77]      1  LP[0 0 1]            1600  \n",
      "73  [72, 76, 84, 80]      3         LE            5000  \n",
      "72             [end]      0          -               0  \n",
      "53  [64, 56, 52, 60]      2         AA             200  \n",
      "64             [end]      0          -               0  \n",
      "56             [end]      0          -               0  \n",
      "52             [end]      0          -               0  \n",
      "60             [end]      0          -               0  \n",
      "77  [88, 80, 76, 84]      2         AA             200  \n",
      "88             [end]      0          -               0  \n",
      "80             [end]      0          -               0  \n",
      "76             [end]      0          -               0  \n",
      "84             [end]      0          -               0  \n",
      "10       [9, 29, 33]      2         AA             200  \n",
      "29  [40, 32, 28, 36]      2         AA             200  \n",
      "28             [end]      0          -               0  \n",
      "36             [end]      0          -               0  \n",
      "33      [32, 40, 44]      2         AA             200  \n",
      "32             [end]      0          -               0  \n",
      "40             [end]      0          -               0  \n",
      "44             [end]      0          -               0  \n",
      "9        [8, 16, 20]      2         AA             200  \n",
      "16             [end]      0          -               0  \n",
      "20             [end]      0          -               0  \n",
      "8              [end]      0          -               0   \n",
      "\n",
      "   Opt. Politic      Modus  from  to  Revenue  Cum_Rev\n",
      "3             1  LP[0 0 1]    11  54        0        0\n",
      "2             1  LP[0 0 1]    54  73        0        0\n",
      "1             3         LE    73  80     5000     5000 \n",
      "\n"
     ]
    },
    {
     "data": {
      "text/plain": [
       "(    $c^{1}$  $c^{2}$  $c^{3}$  $y^{1}$  $y^{2}$  $y^{3}$  $t$  ExpValue  \\\n",
       " 11        1        1        1        0        0        0    3    544.75   \n",
       " 58        0        1        1        0        0        0    2    234.00   \n",
       " 57        0        1        1        0        0        0    1     90.00   \n",
       " 68        0        1        0        0        0        0    0      0.00   \n",
       " 81        0        0        1        0        0        0    1     90.00   \n",
       " 92        0        0        0        0        0        0    0      0.00   \n",
       " 54        0        1        1        0        0        1    2   1170.00   \n",
       " 73        0        0        1        0        0        2    1   1680.00   \n",
       " 72        0        0        1        0        0        2    0      0.00   \n",
       " 53        0        1        1        0        0        1    1    180.00   \n",
       " 64        0        1        0        0        0        1    0      0.00   \n",
       " 56        0        1        1        0        0        0    0      0.00   \n",
       " 52        0        1        1        0        0        1    0      0.00   \n",
       " 60        0        1        0        0        0        2    0      0.00   \n",
       " 77        0        0        1        0        0        1    1    180.00   \n",
       " 88        0        0        0        0        0        1    0      0.00   \n",
       " 80        0        0        1        0        0        0    0      0.00   \n",
       " 76        0        0        1        0        0        1    0      0.00   \n",
       " 84        0        0        0        0        0        2    0      0.00   \n",
       " 10        1        1        1        0        0        0    2    234.00   \n",
       " 29        1        0        1        0        0        1    1    180.00   \n",
       " 28        1        0        1        0        0        1    0      0.00   \n",
       " 36        1        0        0        0        0        2    0      0.00   \n",
       " 33        1        0        1        0        0        0    1     90.00   \n",
       " 32        1        0        1        0        0        0    0      0.00   \n",
       " 40        1        0        0        0        0        1    0      0.00   \n",
       " 44        1        0        0        0        0        0    0      0.00   \n",
       " 9         1        1        1        0        0        0    1     90.00   \n",
       " 16        1        1        0        0        0        1    0      0.00   \n",
       " 20        1        1        0        0        0        0    0      0.00   \n",
       " 8         1        1        1        0        0        0    0      0.00   \n",
       " \n",
       "            Successor  $j^*$        $m$  $r_{j}-OC_{j}$  \n",
       " 11      [10, 58, 54]      1  LP[0 0 1]            1036  \n",
       " 58      [57, 77, 81]      2         AA             200  \n",
       " 57      [56, 64, 68]      2         AA             200  \n",
       " 68             [end]      0          -               0  \n",
       " 81      [80, 88, 92]      2         AA             200  \n",
       " 92             [end]      0          -               0  \n",
       " 54      [73, 53, 77]      1  LP[0 0 1]            1600  \n",
       " 73  [72, 76, 84, 80]      3         LE            5000  \n",
       " 72             [end]      0          -               0  \n",
       " 53  [64, 56, 52, 60]      2         AA             200  \n",
       " 64             [end]      0          -               0  \n",
       " 56             [end]      0          -               0  \n",
       " 52             [end]      0          -               0  \n",
       " 60             [end]      0          -               0  \n",
       " 77  [88, 80, 76, 84]      2         AA             200  \n",
       " 88             [end]      0          -               0  \n",
       " 80             [end]      0          -               0  \n",
       " 76             [end]      0          -               0  \n",
       " 84             [end]      0          -               0  \n",
       " 10       [9, 29, 33]      2         AA             200  \n",
       " 29  [40, 32, 28, 36]      2         AA             200  \n",
       " 28             [end]      0          -               0  \n",
       " 36             [end]      0          -               0  \n",
       " 33      [32, 40, 44]      2         AA             200  \n",
       " 32             [end]      0          -               0  \n",
       " 40             [end]      0          -               0  \n",
       " 44             [end]      0          -               0  \n",
       " 9        [8, 16, 20]      2         AA             200  \n",
       " 16             [end]      0          -               0  \n",
       " 20             [end]      0          -               0  \n",
       " 8              [end]      0          -               0  ,\n",
       "    Opt. Politic      Modus  from  to  Revenue  Cum_Rev\n",
       " 3             1  LP[0 0 1]    11  54        0        0\n",
       " 2             1  LP[0 0 1]    54  73        0        0\n",
       " 1             3         LE    73  80     5000     5000)"
      ]
     },
     "execution_count": 85,
     "metadata": {},
     "output_type": "execute_result"
    }
   ],
   "source": [
    "graph = Structure_Transform(solutions, condition_storages, products, resources, consumtions, revenues, probs, stock_resources, max_stock_resources, performance_times)\n",
    "\n",
    "Best_Politic_Stock(graph, times, resources, stock_resources, solutions)"
   ]
  },
  {
   "cell_type": "code",
   "execution_count": 86,
   "metadata": {
    "collapsed": false
   },
   "outputs": [
    {
     "ename": "AttributeError",
     "evalue": "'module' object has no attribute 'figure'",
     "output_type": "error",
     "traceback": [
      "\u001b[0;31m---------------------------------------------------------------------------\u001b[0m",
      "\u001b[0;31mAttributeError\u001b[0m                            Traceback (most recent call last)",
      "\u001b[0;32m<ipython-input-86-ec0a85ebe107>\u001b[0m in \u001b[0;36m<module>\u001b[0;34m()\u001b[0m\n\u001b[1;32m     11\u001b[0m         \u001b[0;31m# same layout using matplotlib with no labels\u001b[0m\u001b[0;34m\u001b[0m\u001b[0;34m\u001b[0m\u001b[0m\n\u001b[1;32m     12\u001b[0m \u001b[0mpos\u001b[0m\u001b[0;34m=\u001b[0m\u001b[0mnx\u001b[0m\u001b[0;34m.\u001b[0m\u001b[0mgraphviz_layout\u001b[0m\u001b[0;34m(\u001b[0m\u001b[0mdraw\u001b[0m\u001b[0;34m,\u001b[0m\u001b[0mprog\u001b[0m\u001b[0;34m=\u001b[0m\u001b[0;34m'dot'\u001b[0m\u001b[0;34m)\u001b[0m\u001b[0;34m\u001b[0m\u001b[0m\n\u001b[0;32m---> 13\u001b[0;31m \u001b[0mplt\u001b[0m\u001b[0;34m.\u001b[0m\u001b[0mfigure\u001b[0m\u001b[0;34m(\u001b[0m\u001b[0mfigsize\u001b[0m\u001b[0;34m=\u001b[0m\u001b[0;34m(\u001b[0m\u001b[0msize_x\u001b[0m\u001b[0;34m,\u001b[0m\u001b[0msize_y\u001b[0m\u001b[0;34m)\u001b[0m\u001b[0;34m)\u001b[0m\u001b[0;34m\u001b[0m\u001b[0m\n\u001b[0m\u001b[1;32m     14\u001b[0m \u001b[0mplt\u001b[0m\u001b[0;34m.\u001b[0m\u001b[0mtitle\u001b[0m\u001b[0;34m(\u001b[0m\u001b[0;34m\"Entscheidungsbaum\"\u001b[0m\u001b[0;34m)\u001b[0m\u001b[0;34m\u001b[0m\u001b[0m\n\u001b[1;32m     15\u001b[0m \u001b[0mnx\u001b[0m\u001b[0;34m.\u001b[0m\u001b[0mdraw\u001b[0m\u001b[0;34m(\u001b[0m\u001b[0mdraw\u001b[0m\u001b[0;34m,\u001b[0m\u001b[0mpos\u001b[0m\u001b[0;34m,\u001b[0m\u001b[0mwith_labels\u001b[0m\u001b[0;34m=\u001b[0m\u001b[0mTrue\u001b[0m\u001b[0;34m,\u001b[0m \u001b[0mnode_size\u001b[0m\u001b[0;34m=\u001b[0m\u001b[0;36m500\u001b[0m\u001b[0;34m)\u001b[0m\u001b[0;34m\u001b[0m\u001b[0m\n",
      "\u001b[0;31mAttributeError\u001b[0m: 'module' object has no attribute 'figure'"
     ]
    }
   ],
   "source": [
    "import matplotlib as plt\n",
    "\n",
    "draw = graph.copy()\n",
    "draw.remove_node('end')\n",
    "        # Quelle: http://stackoverflow.com/a/11484144/4913569\n",
    "        # ----\n",
    "        # write dot file to use with graphviz\n",
    "        # run \"dot -Tpng test.dot >test.png\"\n",
    "nx.write_dot(draw,'test.dot')\n",
    "\n",
    "        # same layout using matplotlib with no labels\n",
    "pos=nx.graphviz_layout(draw,prog='dot')\n",
    "plt.figure(figsize=(size_x,size_y))\n",
    "plt.title(\"Entscheidungsbaum\")\n",
    "nx.draw(draw,pos,with_labels=True, node_size=500)\n",
    "plt.savefig('GraphTest.png')"
   ]
  },
  {
   "cell_type": "code",
   "execution_count": null,
   "metadata": {
    "collapsed": false
   },
   "outputs": [],
   "source": [
    "Best_Politic(graph, times, resources, start=None)"
   ]
  },
  {
   "cell_type": "code",
   "execution_count": null,
   "metadata": {
    "collapsed": false
   },
   "outputs": [],
   "source": [
    "solutions"
   ]
  },
  {
   "cell_type": "code",
   "execution_count": null,
   "metadata": {
    "collapsed": true
   },
   "outputs": [],
   "source": []
  }
 ],
 "metadata": {
  "kernelspec": {
   "display_name": "Python 2",
   "language": "python",
   "name": "python2"
  },
  "language_info": {
   "codemirror_mode": {
    "name": "ipython",
    "version": 2
   },
   "file_extension": ".py",
   "mimetype": "text/x-python",
   "name": "python",
   "nbconvert_exporter": "python",
   "pygments_lexer": "ipython2",
   "version": "2.7.10"
  }
 },
 "nbformat": 4,
 "nbformat_minor": 0
}
