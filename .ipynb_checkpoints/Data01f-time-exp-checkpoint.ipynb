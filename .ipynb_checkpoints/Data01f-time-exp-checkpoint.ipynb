{
 "cells": [
  {
   "cell_type": "code",
   "execution_count": 32,
   "metadata": {
    "collapsed": false
   },
   "outputs": [],
   "source": [
    "__version__ = '0.3'\n",
    "__author__  = \"Robert Matern (r.matern@stud.uni-hannover.de)\"\n",
    "__date__    = ''\n",
    "__url__     = ''\n",
    "__copyright__ = \"(C) 2015 Robert Matern\""
   ]
  },
  {
   "cell_type": "markdown",
   "metadata": {},
   "source": [
    "#Beispieldaten Nr. 1"
   ]
  },
  {
   "cell_type": "code",
   "execution_count": 33,
   "metadata": {
    "collapsed": false
   },
   "outputs": [],
   "source": [
    "# Funktionen werden hinzugeladen.\n",
    "%run Parameter.ipynb"
   ]
  },
  {
   "cell_type": "code",
   "execution_count": 34,
   "metadata": {
    "collapsed": false
   },
   "outputs": [
    {
     "name": "stdout",
     "output_type": "stream",
     "text": [
      "0:00:00.003080\n"
     ]
    }
   ],
   "source": [
    "# Produkte\n",
    "products = Product(3)\n",
    "\n",
    "# Ressourcen\n",
    "resources = Resource(3)\n",
    "\n",
    "#Kapazität\n",
    "capacities = Capacity(resources)\n",
    "capacities[1] = 5\n",
    "capacities[2] = 5\n",
    "capacities[3] = 5\n",
    "\n",
    "# Ressourcenverbrauch\n",
    "consumtions = np.arange(len(resources), dtype=np.uint16)\n",
    "consumtions[1] = 1\n",
    "consumtions[2] = 1\n",
    "consumtions[3] = 5\n",
    "\n",
    "# Erträge\n",
    "revenues = Revenue(products)\n",
    "revenues[1] = 100\n",
    "revenues[2] = 200\n",
    "revenues[3] = 5000\n",
    "\n",
    "# Buchungshorizont\n",
    "times = Time(15)\n",
    "\n",
    "# Wahrscheinlichkeiten\n",
    "probs = Prob(products, times)\n",
    "probs[1] = [0, 0.3, 0.3, 0.3, 0.3, 0.3, 0.3, 0.3, 0.3, 0.3, 0.3, 0.3, 0.3, 0.3, 0.3, 0.3]\n",
    "probs[2] = [0, 0.3, 0.3, 0.3, 0.3, 0.3, 0.4, 0.4, 0.4, 0.4, 0.4, 0, 0, 0, 0, 0]\n",
    "probs[3] = [0, 0.3, 0.3, 0.3, 0.3, 0.3, 0, 0, 0, 0, 0, 0, 0, 0, 0, 0]\n",
    "\n",
    "# Gegenwahrscheinlichkeiten\n",
    "against_probs = Against_Prob(probs)\n",
    "probs[0] = against_probs\n",
    "\n",
    "# Systemzustände\n",
    "conditions = Condition(capacities, resources, times)\n",
    "\n",
    "\n",
    "# Endzeitpunkte\n",
    "#end_times = End_Time(conditions)"
   ]
  },
  {
   "cell_type": "markdown",
   "metadata": {},
   "source": [
    "inkl. Lagerhaltung"
   ]
  },
  {
   "cell_type": "code",
   "execution_count": 35,
   "metadata": {
    "collapsed": false
   },
   "outputs": [],
   "source": [
    "%run Parameter-transform.ipynb"
   ]
  },
  {
   "cell_type": "code",
   "execution_count": 36,
   "metadata": {
    "collapsed": false
   },
   "outputs": [
    {
     "name": "stdout",
     "output_type": "stream",
     "text": [
      "0:00:00.304897\n"
     ]
    }
   ],
   "source": [
    "#Lagerbestand\n",
    "stock_resources = Stock_Resource(resources)\n",
    "\n",
    "max_stock_resources = Max_Stock_Resource(resources)\n",
    "max_stock_resources[1] = 5\n",
    "max_stock_resources[2] = 5\n",
    "max_stock_resources[3] = 20\n",
    "\n",
    "# Systemzustände\n",
    "condition_storages = Condition_Storage(capacities, resources, max_stock_resources, times)\n",
    "# Bei der Modelformulierung mit Lagerproduktion wird der Parameter 'max_stocks' benötigt."
   ]
  },
  {
   "cell_type": "code",
   "execution_count": 37,
   "metadata": {
    "collapsed": true
   },
   "outputs": [],
   "source": [
    "# Leisungsperioden !!! Muss hier der Anzahl der Ressourcen entsprechen !!!\n",
    "# Im Nachfolgenden ausschließlich Times in 5er Schritten !!!\n",
    "performance_times = Performance_Time(times, 5)"
   ]
  },
  {
   "cell_type": "code",
   "execution_count": 38,
   "metadata": {
    "collapsed": false
   },
   "outputs": [],
   "source": [
    "%run DynamicProgramm-time.ipynb"
   ]
  },
  {
   "cell_type": "code",
   "execution_count": 39,
   "metadata": {
    "collapsed": false
   },
   "outputs": [
    {
     "name": "stdout",
     "output_type": "stream",
     "text": [
      "Bestände: [5 5 5 0 0 0] - Periode: 0 - Erwartungswert: 0.0 - Optimale Politik: 0 KA\n",
      "[0 5 5 5]\n",
      "5 1\n",
      "Bestände: [5 5 4 0 0 0] - Periode: 0 - Erwartungswert: 0.0 - Optimale Politik: 0 KA\n",
      "Bestände: [5 5 4 0 0 1] - Periode: 0 - Erwartungswert: 0.0 - Optimale Politik: 0 KA\n",
      "[0 5 5 5]\n",
      "5 1\n",
      "[0 5 5 5]\n",
      "5 5\n",
      "Bestände: [5 5 0 0 0 0] - Periode: 0 - Erwartungswert: 0.0 - Optimale Politik: 0 KA\n",
      "Bestände: [5 5 0 0 0 5] - Periode: 0 - Erwartungswert: 0.0 - Optimale Politik: 0 KA\n",
      "Bestände: [5 5 5 0 0 0] - Periode: 1 - Erwartungswert: 1590.0 - Optimale Politik: 3 AA\n",
      "[0 5 5 5]\n",
      "5 1\n",
      "[0 5 5 4]\n",
      "4 1\n",
      "Bestände: [5 5 3 0 0 0] - Periode: 0 - Erwartungswert: 0.0 - Optimale Politik: 0 KA\n",
      "Bestände: [5 5 3 0 0 1] - Periode: 0 - Erwartungswert: 0.0 - Optimale Politik: 0 KA\n",
      "[0 5 5 4]\n",
      "4 1\n",
      "[0 5 5 4]\n",
      "4 5\n",
      "Bestände: [5 5 4 0 0 0] - Periode: 1 - Erwartungswert: 90.0 - Optimale Politik: 2 AA\n"
     ]
    },
    {
     "ename": "KeyboardInterrupt",
     "evalue": "",
     "output_type": "error",
     "traceback": [
      "\u001b[0;31m---------------------------------------------------------------------------\u001b[0m",
      "\u001b[0;31mKeyboardInterrupt\u001b[0m                         Traceback (most recent call last)",
      "\u001b[0;32m<ipython-input-39-ea9a4235eb79>\u001b[0m in \u001b[0;36m<module>\u001b[0;34m()\u001b[0m\n\u001b[0;32m----> 1\u001b[0;31m \u001b[0mDP_Time\u001b[0m\u001b[0;34m(\u001b[0m\u001b[0msolutions\u001b[0m\u001b[0;34m,\u001b[0m \u001b[0mcondition_storages\u001b[0m\u001b[0;34m,\u001b[0m \u001b[0mproducts\u001b[0m\u001b[0;34m,\u001b[0m \u001b[0mresources\u001b[0m\u001b[0;34m,\u001b[0m \u001b[0mcapacities\u001b[0m\u001b[0;34m,\u001b[0m \u001b[0mconsumtions\u001b[0m\u001b[0;34m,\u001b[0m \u001b[0mtimes\u001b[0m\u001b[0;34m,\u001b[0m \u001b[0mrevenues\u001b[0m\u001b[0;34m,\u001b[0m \u001b[0mprobs\u001b[0m\u001b[0;34m,\u001b[0m \u001b[0mstock_resources\u001b[0m\u001b[0;34m,\u001b[0m \u001b[0mmax_stock_resources\u001b[0m\u001b[0;34m,\u001b[0m \u001b[0mperformance_times\u001b[0m\u001b[0;34m)\u001b[0m\u001b[0;34m\u001b[0m\u001b[0m\n\u001b[0m",
      "\u001b[0;32m<ipython-input-38-b376a5c07adf>\u001b[0m in \u001b[0;36mDP_Time\u001b[0;34m(solutions, conditions, products, resources, capacities, consumtions, times, revenues, probs, stocks, max_stocks, performance_times)\u001b[0m\n\u001b[1;32m     24\u001b[0m         \u001b[0;32mif\u001b[0m \u001b[0mtimes\u001b[0m\u001b[0;34m[\u001b[0m\u001b[0;36m0\u001b[0m\u001b[0;34m]\u001b[0m\u001b[0;34m!=\u001b[0m\u001b[0;36m0\u001b[0m\u001b[0;34m:\u001b[0m\u001b[0;34m\u001b[0m\u001b[0m\n\u001b[1;32m     25\u001b[0m             \u001b[0;31m# Der Erwartungswert t-1 ohne Akeptanz wird ermittelt und im Wert 'reject' gespeichert.\u001b[0m\u001b[0;34m\u001b[0m\u001b[0;34m\u001b[0m\u001b[0m\n\u001b[0;32m---> 26\u001b[0;31m             \u001b[0mreject\u001b[0m \u001b[0;34m=\u001b[0m \u001b[0mDP_Time\u001b[0m\u001b[0;34m(\u001b[0m\u001b[0msolutions\u001b[0m\u001b[0;34m,\u001b[0m \u001b[0mconditions\u001b[0m\u001b[0;34m,\u001b[0m \u001b[0mproducts\u001b[0m\u001b[0;34m,\u001b[0m \u001b[0mresources\u001b[0m\u001b[0;34m,\u001b[0m \u001b[0mcapacities\u001b[0m\u001b[0;34m,\u001b[0m \u001b[0mconsumtions\u001b[0m\u001b[0;34m,\u001b[0m \u001b[0mtimes\u001b[0m\u001b[0;34m[\u001b[0m\u001b[0;36m1\u001b[0m\u001b[0;34m:\u001b[0m\u001b[0;34m]\u001b[0m\u001b[0;34m,\u001b[0m \u001b[0mrevenues\u001b[0m\u001b[0;34m,\u001b[0m \u001b[0mprobs\u001b[0m\u001b[0;34m,\u001b[0m \u001b[0mstocks\u001b[0m\u001b[0;34m,\u001b[0m \u001b[0mmax_stocks\u001b[0m\u001b[0;34m,\u001b[0m \u001b[0mperformance_times\u001b[0m\u001b[0;34m)\u001b[0m\u001b[0;34m\u001b[0m\u001b[0m\n\u001b[0m\u001b[1;32m     27\u001b[0m \u001b[0;34m\u001b[0m\u001b[0m\n\u001b[1;32m     28\u001b[0m             \u001b[0;31m# Für den Erwartungswert t-1 mit Akzeptanz werden Numpy-Arrays in der Länge der Anzahl an Produkten erstellt.\u001b[0m\u001b[0;34m\u001b[0m\u001b[0;34m\u001b[0m\u001b[0m\n",
      "\u001b[0;32m<ipython-input-38-b376a5c07adf>\u001b[0m in \u001b[0;36mDP_Time\u001b[0;34m(solutions, conditions, products, resources, capacities, consumtions, times, revenues, probs, stocks, max_stocks, performance_times)\u001b[0m\n\u001b[1;32m     24\u001b[0m         \u001b[0;32mif\u001b[0m \u001b[0mtimes\u001b[0m\u001b[0;34m[\u001b[0m\u001b[0;36m0\u001b[0m\u001b[0;34m]\u001b[0m\u001b[0;34m!=\u001b[0m\u001b[0;36m0\u001b[0m\u001b[0;34m:\u001b[0m\u001b[0;34m\u001b[0m\u001b[0m\n\u001b[1;32m     25\u001b[0m             \u001b[0;31m# Der Erwartungswert t-1 ohne Akeptanz wird ermittelt und im Wert 'reject' gespeichert.\u001b[0m\u001b[0;34m\u001b[0m\u001b[0;34m\u001b[0m\u001b[0m\n\u001b[0;32m---> 26\u001b[0;31m             \u001b[0mreject\u001b[0m \u001b[0;34m=\u001b[0m \u001b[0mDP_Time\u001b[0m\u001b[0;34m(\u001b[0m\u001b[0msolutions\u001b[0m\u001b[0;34m,\u001b[0m \u001b[0mconditions\u001b[0m\u001b[0;34m,\u001b[0m \u001b[0mproducts\u001b[0m\u001b[0;34m,\u001b[0m \u001b[0mresources\u001b[0m\u001b[0;34m,\u001b[0m \u001b[0mcapacities\u001b[0m\u001b[0;34m,\u001b[0m \u001b[0mconsumtions\u001b[0m\u001b[0;34m,\u001b[0m \u001b[0mtimes\u001b[0m\u001b[0;34m[\u001b[0m\u001b[0;36m1\u001b[0m\u001b[0;34m:\u001b[0m\u001b[0;34m]\u001b[0m\u001b[0;34m,\u001b[0m \u001b[0mrevenues\u001b[0m\u001b[0;34m,\u001b[0m \u001b[0mprobs\u001b[0m\u001b[0;34m,\u001b[0m \u001b[0mstocks\u001b[0m\u001b[0;34m,\u001b[0m \u001b[0mmax_stocks\u001b[0m\u001b[0;34m,\u001b[0m \u001b[0mperformance_times\u001b[0m\u001b[0;34m)\u001b[0m\u001b[0;34m\u001b[0m\u001b[0m\n\u001b[0m\u001b[1;32m     27\u001b[0m \u001b[0;34m\u001b[0m\u001b[0m\n\u001b[1;32m     28\u001b[0m             \u001b[0;31m# Für den Erwartungswert t-1 mit Akzeptanz werden Numpy-Arrays in der Länge der Anzahl an Produkten erstellt.\u001b[0m\u001b[0;34m\u001b[0m\u001b[0;34m\u001b[0m\u001b[0m\n",
      "\u001b[0;32m<ipython-input-38-b376a5c07adf>\u001b[0m in \u001b[0;36mDP_Time\u001b[0;34m(solutions, conditions, products, resources, capacities, consumtions, times, revenues, probs, stocks, max_stocks, performance_times)\u001b[0m\n\u001b[1;32m     24\u001b[0m         \u001b[0;32mif\u001b[0m \u001b[0mtimes\u001b[0m\u001b[0;34m[\u001b[0m\u001b[0;36m0\u001b[0m\u001b[0;34m]\u001b[0m\u001b[0;34m!=\u001b[0m\u001b[0;36m0\u001b[0m\u001b[0;34m:\u001b[0m\u001b[0;34m\u001b[0m\u001b[0m\n\u001b[1;32m     25\u001b[0m             \u001b[0;31m# Der Erwartungswert t-1 ohne Akeptanz wird ermittelt und im Wert 'reject' gespeichert.\u001b[0m\u001b[0;34m\u001b[0m\u001b[0;34m\u001b[0m\u001b[0m\n\u001b[0;32m---> 26\u001b[0;31m             \u001b[0mreject\u001b[0m \u001b[0;34m=\u001b[0m \u001b[0mDP_Time\u001b[0m\u001b[0;34m(\u001b[0m\u001b[0msolutions\u001b[0m\u001b[0;34m,\u001b[0m \u001b[0mconditions\u001b[0m\u001b[0;34m,\u001b[0m \u001b[0mproducts\u001b[0m\u001b[0;34m,\u001b[0m \u001b[0mresources\u001b[0m\u001b[0;34m,\u001b[0m \u001b[0mcapacities\u001b[0m\u001b[0;34m,\u001b[0m \u001b[0mconsumtions\u001b[0m\u001b[0;34m,\u001b[0m \u001b[0mtimes\u001b[0m\u001b[0;34m[\u001b[0m\u001b[0;36m1\u001b[0m\u001b[0;34m:\u001b[0m\u001b[0;34m]\u001b[0m\u001b[0;34m,\u001b[0m \u001b[0mrevenues\u001b[0m\u001b[0;34m,\u001b[0m \u001b[0mprobs\u001b[0m\u001b[0;34m,\u001b[0m \u001b[0mstocks\u001b[0m\u001b[0;34m,\u001b[0m \u001b[0mmax_stocks\u001b[0m\u001b[0;34m,\u001b[0m \u001b[0mperformance_times\u001b[0m\u001b[0;34m)\u001b[0m\u001b[0;34m\u001b[0m\u001b[0m\n\u001b[0m\u001b[1;32m     27\u001b[0m \u001b[0;34m\u001b[0m\u001b[0m\n\u001b[1;32m     28\u001b[0m             \u001b[0;31m# Für den Erwartungswert t-1 mit Akzeptanz werden Numpy-Arrays in der Länge der Anzahl an Produkten erstellt.\u001b[0m\u001b[0;34m\u001b[0m\u001b[0;34m\u001b[0m\u001b[0m\n",
      "\u001b[0;32m<ipython-input-38-b376a5c07adf>\u001b[0m in \u001b[0;36mDP_Time\u001b[0;34m(solutions, conditions, products, resources, capacities, consumtions, times, revenues, probs, stocks, max_stocks, performance_times)\u001b[0m\n\u001b[1;32m     24\u001b[0m         \u001b[0;32mif\u001b[0m \u001b[0mtimes\u001b[0m\u001b[0;34m[\u001b[0m\u001b[0;36m0\u001b[0m\u001b[0;34m]\u001b[0m\u001b[0;34m!=\u001b[0m\u001b[0;36m0\u001b[0m\u001b[0;34m:\u001b[0m\u001b[0;34m\u001b[0m\u001b[0m\n\u001b[1;32m     25\u001b[0m             \u001b[0;31m# Der Erwartungswert t-1 ohne Akeptanz wird ermittelt und im Wert 'reject' gespeichert.\u001b[0m\u001b[0;34m\u001b[0m\u001b[0;34m\u001b[0m\u001b[0m\n\u001b[0;32m---> 26\u001b[0;31m             \u001b[0mreject\u001b[0m \u001b[0;34m=\u001b[0m \u001b[0mDP_Time\u001b[0m\u001b[0;34m(\u001b[0m\u001b[0msolutions\u001b[0m\u001b[0;34m,\u001b[0m \u001b[0mconditions\u001b[0m\u001b[0;34m,\u001b[0m \u001b[0mproducts\u001b[0m\u001b[0;34m,\u001b[0m \u001b[0mresources\u001b[0m\u001b[0;34m,\u001b[0m \u001b[0mcapacities\u001b[0m\u001b[0;34m,\u001b[0m \u001b[0mconsumtions\u001b[0m\u001b[0;34m,\u001b[0m \u001b[0mtimes\u001b[0m\u001b[0;34m[\u001b[0m\u001b[0;36m1\u001b[0m\u001b[0;34m:\u001b[0m\u001b[0;34m]\u001b[0m\u001b[0;34m,\u001b[0m \u001b[0mrevenues\u001b[0m\u001b[0;34m,\u001b[0m \u001b[0mprobs\u001b[0m\u001b[0;34m,\u001b[0m \u001b[0mstocks\u001b[0m\u001b[0;34m,\u001b[0m \u001b[0mmax_stocks\u001b[0m\u001b[0;34m,\u001b[0m \u001b[0mperformance_times\u001b[0m\u001b[0;34m)\u001b[0m\u001b[0;34m\u001b[0m\u001b[0m\n\u001b[0m\u001b[1;32m     27\u001b[0m \u001b[0;34m\u001b[0m\u001b[0m\n\u001b[1;32m     28\u001b[0m             \u001b[0;31m# Für den Erwartungswert t-1 mit Akzeptanz werden Numpy-Arrays in der Länge der Anzahl an Produkten erstellt.\u001b[0m\u001b[0;34m\u001b[0m\u001b[0;34m\u001b[0m\u001b[0m\n",
      "\u001b[0;32m<ipython-input-38-b376a5c07adf>\u001b[0m in \u001b[0;36mDP_Time\u001b[0;34m(solutions, conditions, products, resources, capacities, consumtions, times, revenues, probs, stocks, max_stocks, performance_times)\u001b[0m\n\u001b[1;32m     24\u001b[0m         \u001b[0;32mif\u001b[0m \u001b[0mtimes\u001b[0m\u001b[0;34m[\u001b[0m\u001b[0;36m0\u001b[0m\u001b[0;34m]\u001b[0m\u001b[0;34m!=\u001b[0m\u001b[0;36m0\u001b[0m\u001b[0;34m:\u001b[0m\u001b[0;34m\u001b[0m\u001b[0m\n\u001b[1;32m     25\u001b[0m             \u001b[0;31m# Der Erwartungswert t-1 ohne Akeptanz wird ermittelt und im Wert 'reject' gespeichert.\u001b[0m\u001b[0;34m\u001b[0m\u001b[0;34m\u001b[0m\u001b[0m\n\u001b[0;32m---> 26\u001b[0;31m             \u001b[0mreject\u001b[0m \u001b[0;34m=\u001b[0m \u001b[0mDP_Time\u001b[0m\u001b[0;34m(\u001b[0m\u001b[0msolutions\u001b[0m\u001b[0;34m,\u001b[0m \u001b[0mconditions\u001b[0m\u001b[0;34m,\u001b[0m \u001b[0mproducts\u001b[0m\u001b[0;34m,\u001b[0m \u001b[0mresources\u001b[0m\u001b[0;34m,\u001b[0m \u001b[0mcapacities\u001b[0m\u001b[0;34m,\u001b[0m \u001b[0mconsumtions\u001b[0m\u001b[0;34m,\u001b[0m \u001b[0mtimes\u001b[0m\u001b[0;34m[\u001b[0m\u001b[0;36m1\u001b[0m\u001b[0;34m:\u001b[0m\u001b[0;34m]\u001b[0m\u001b[0;34m,\u001b[0m \u001b[0mrevenues\u001b[0m\u001b[0;34m,\u001b[0m \u001b[0mprobs\u001b[0m\u001b[0;34m,\u001b[0m \u001b[0mstocks\u001b[0m\u001b[0;34m,\u001b[0m \u001b[0mmax_stocks\u001b[0m\u001b[0;34m,\u001b[0m \u001b[0mperformance_times\u001b[0m\u001b[0;34m)\u001b[0m\u001b[0;34m\u001b[0m\u001b[0m\n\u001b[0m\u001b[1;32m     27\u001b[0m \u001b[0;34m\u001b[0m\u001b[0m\n\u001b[1;32m     28\u001b[0m             \u001b[0;31m# Für den Erwartungswert t-1 mit Akzeptanz werden Numpy-Arrays in der Länge der Anzahl an Produkten erstellt.\u001b[0m\u001b[0;34m\u001b[0m\u001b[0;34m\u001b[0m\u001b[0m\n",
      "\u001b[0;32m<ipython-input-38-b376a5c07adf>\u001b[0m in \u001b[0;36mDP_Time\u001b[0;34m(solutions, conditions, products, resources, capacities, consumtions, times, revenues, probs, stocks, max_stocks, performance_times)\u001b[0m\n\u001b[1;32m     24\u001b[0m         \u001b[0;32mif\u001b[0m \u001b[0mtimes\u001b[0m\u001b[0;34m[\u001b[0m\u001b[0;36m0\u001b[0m\u001b[0;34m]\u001b[0m\u001b[0;34m!=\u001b[0m\u001b[0;36m0\u001b[0m\u001b[0;34m:\u001b[0m\u001b[0;34m\u001b[0m\u001b[0m\n\u001b[1;32m     25\u001b[0m             \u001b[0;31m# Der Erwartungswert t-1 ohne Akeptanz wird ermittelt und im Wert 'reject' gespeichert.\u001b[0m\u001b[0;34m\u001b[0m\u001b[0;34m\u001b[0m\u001b[0m\n\u001b[0;32m---> 26\u001b[0;31m             \u001b[0mreject\u001b[0m \u001b[0;34m=\u001b[0m \u001b[0mDP_Time\u001b[0m\u001b[0;34m(\u001b[0m\u001b[0msolutions\u001b[0m\u001b[0;34m,\u001b[0m \u001b[0mconditions\u001b[0m\u001b[0;34m,\u001b[0m \u001b[0mproducts\u001b[0m\u001b[0;34m,\u001b[0m \u001b[0mresources\u001b[0m\u001b[0;34m,\u001b[0m \u001b[0mcapacities\u001b[0m\u001b[0;34m,\u001b[0m \u001b[0mconsumtions\u001b[0m\u001b[0;34m,\u001b[0m \u001b[0mtimes\u001b[0m\u001b[0;34m[\u001b[0m\u001b[0;36m1\u001b[0m\u001b[0;34m:\u001b[0m\u001b[0;34m]\u001b[0m\u001b[0;34m,\u001b[0m \u001b[0mrevenues\u001b[0m\u001b[0;34m,\u001b[0m \u001b[0mprobs\u001b[0m\u001b[0;34m,\u001b[0m \u001b[0mstocks\u001b[0m\u001b[0;34m,\u001b[0m \u001b[0mmax_stocks\u001b[0m\u001b[0;34m,\u001b[0m \u001b[0mperformance_times\u001b[0m\u001b[0;34m)\u001b[0m\u001b[0;34m\u001b[0m\u001b[0m\n\u001b[0m\u001b[1;32m     27\u001b[0m \u001b[0;34m\u001b[0m\u001b[0m\n\u001b[1;32m     28\u001b[0m             \u001b[0;31m# Für den Erwartungswert t-1 mit Akzeptanz werden Numpy-Arrays in der Länge der Anzahl an Produkten erstellt.\u001b[0m\u001b[0;34m\u001b[0m\u001b[0;34m\u001b[0m\u001b[0m\n",
      "\u001b[0;32m<ipython-input-38-b376a5c07adf>\u001b[0m in \u001b[0;36mDP_Time\u001b[0;34m(solutions, conditions, products, resources, capacities, consumtions, times, revenues, probs, stocks, max_stocks, performance_times)\u001b[0m\n\u001b[1;32m     24\u001b[0m         \u001b[0;32mif\u001b[0m \u001b[0mtimes\u001b[0m\u001b[0;34m[\u001b[0m\u001b[0;36m0\u001b[0m\u001b[0;34m]\u001b[0m\u001b[0;34m!=\u001b[0m\u001b[0;36m0\u001b[0m\u001b[0;34m:\u001b[0m\u001b[0;34m\u001b[0m\u001b[0m\n\u001b[1;32m     25\u001b[0m             \u001b[0;31m# Der Erwartungswert t-1 ohne Akeptanz wird ermittelt und im Wert 'reject' gespeichert.\u001b[0m\u001b[0;34m\u001b[0m\u001b[0;34m\u001b[0m\u001b[0m\n\u001b[0;32m---> 26\u001b[0;31m             \u001b[0mreject\u001b[0m \u001b[0;34m=\u001b[0m \u001b[0mDP_Time\u001b[0m\u001b[0;34m(\u001b[0m\u001b[0msolutions\u001b[0m\u001b[0;34m,\u001b[0m \u001b[0mconditions\u001b[0m\u001b[0;34m,\u001b[0m \u001b[0mproducts\u001b[0m\u001b[0;34m,\u001b[0m \u001b[0mresources\u001b[0m\u001b[0;34m,\u001b[0m \u001b[0mcapacities\u001b[0m\u001b[0;34m,\u001b[0m \u001b[0mconsumtions\u001b[0m\u001b[0;34m,\u001b[0m \u001b[0mtimes\u001b[0m\u001b[0;34m[\u001b[0m\u001b[0;36m1\u001b[0m\u001b[0;34m:\u001b[0m\u001b[0;34m]\u001b[0m\u001b[0;34m,\u001b[0m \u001b[0mrevenues\u001b[0m\u001b[0;34m,\u001b[0m \u001b[0mprobs\u001b[0m\u001b[0;34m,\u001b[0m \u001b[0mstocks\u001b[0m\u001b[0;34m,\u001b[0m \u001b[0mmax_stocks\u001b[0m\u001b[0;34m,\u001b[0m \u001b[0mperformance_times\u001b[0m\u001b[0;34m)\u001b[0m\u001b[0;34m\u001b[0m\u001b[0m\n\u001b[0m\u001b[1;32m     27\u001b[0m \u001b[0;34m\u001b[0m\u001b[0m\n\u001b[1;32m     28\u001b[0m             \u001b[0;31m# Für den Erwartungswert t-1 mit Akzeptanz werden Numpy-Arrays in der Länge der Anzahl an Produkten erstellt.\u001b[0m\u001b[0;34m\u001b[0m\u001b[0;34m\u001b[0m\u001b[0m\n",
      "\u001b[0;32m<ipython-input-38-b376a5c07adf>\u001b[0m in \u001b[0;36mDP_Time\u001b[0;34m(solutions, conditions, products, resources, capacities, consumtions, times, revenues, probs, stocks, max_stocks, performance_times)\u001b[0m\n\u001b[1;32m     24\u001b[0m         \u001b[0;32mif\u001b[0m \u001b[0mtimes\u001b[0m\u001b[0;34m[\u001b[0m\u001b[0;36m0\u001b[0m\u001b[0;34m]\u001b[0m\u001b[0;34m!=\u001b[0m\u001b[0;36m0\u001b[0m\u001b[0;34m:\u001b[0m\u001b[0;34m\u001b[0m\u001b[0m\n\u001b[1;32m     25\u001b[0m             \u001b[0;31m# Der Erwartungswert t-1 ohne Akeptanz wird ermittelt und im Wert 'reject' gespeichert.\u001b[0m\u001b[0;34m\u001b[0m\u001b[0;34m\u001b[0m\u001b[0m\n\u001b[0;32m---> 26\u001b[0;31m             \u001b[0mreject\u001b[0m \u001b[0;34m=\u001b[0m \u001b[0mDP_Time\u001b[0m\u001b[0;34m(\u001b[0m\u001b[0msolutions\u001b[0m\u001b[0;34m,\u001b[0m \u001b[0mconditions\u001b[0m\u001b[0;34m,\u001b[0m \u001b[0mproducts\u001b[0m\u001b[0;34m,\u001b[0m \u001b[0mresources\u001b[0m\u001b[0;34m,\u001b[0m \u001b[0mcapacities\u001b[0m\u001b[0;34m,\u001b[0m \u001b[0mconsumtions\u001b[0m\u001b[0;34m,\u001b[0m \u001b[0mtimes\u001b[0m\u001b[0;34m[\u001b[0m\u001b[0;36m1\u001b[0m\u001b[0;34m:\u001b[0m\u001b[0;34m]\u001b[0m\u001b[0;34m,\u001b[0m \u001b[0mrevenues\u001b[0m\u001b[0;34m,\u001b[0m \u001b[0mprobs\u001b[0m\u001b[0;34m,\u001b[0m \u001b[0mstocks\u001b[0m\u001b[0;34m,\u001b[0m \u001b[0mmax_stocks\u001b[0m\u001b[0;34m,\u001b[0m \u001b[0mperformance_times\u001b[0m\u001b[0;34m)\u001b[0m\u001b[0;34m\u001b[0m\u001b[0m\n\u001b[0m\u001b[1;32m     27\u001b[0m \u001b[0;34m\u001b[0m\u001b[0m\n\u001b[1;32m     28\u001b[0m             \u001b[0;31m# Für den Erwartungswert t-1 mit Akzeptanz werden Numpy-Arrays in der Länge der Anzahl an Produkten erstellt.\u001b[0m\u001b[0;34m\u001b[0m\u001b[0;34m\u001b[0m\u001b[0m\n",
      "\u001b[0;32m<ipython-input-38-b376a5c07adf>\u001b[0m in \u001b[0;36mDP_Time\u001b[0;34m(solutions, conditions, products, resources, capacities, consumtions, times, revenues, probs, stocks, max_stocks, performance_times)\u001b[0m\n\u001b[1;32m     24\u001b[0m         \u001b[0;32mif\u001b[0m \u001b[0mtimes\u001b[0m\u001b[0;34m[\u001b[0m\u001b[0;36m0\u001b[0m\u001b[0;34m]\u001b[0m\u001b[0;34m!=\u001b[0m\u001b[0;36m0\u001b[0m\u001b[0;34m:\u001b[0m\u001b[0;34m\u001b[0m\u001b[0m\n\u001b[1;32m     25\u001b[0m             \u001b[0;31m# Der Erwartungswert t-1 ohne Akeptanz wird ermittelt und im Wert 'reject' gespeichert.\u001b[0m\u001b[0;34m\u001b[0m\u001b[0;34m\u001b[0m\u001b[0m\n\u001b[0;32m---> 26\u001b[0;31m             \u001b[0mreject\u001b[0m \u001b[0;34m=\u001b[0m \u001b[0mDP_Time\u001b[0m\u001b[0;34m(\u001b[0m\u001b[0msolutions\u001b[0m\u001b[0;34m,\u001b[0m \u001b[0mconditions\u001b[0m\u001b[0;34m,\u001b[0m \u001b[0mproducts\u001b[0m\u001b[0;34m,\u001b[0m \u001b[0mresources\u001b[0m\u001b[0;34m,\u001b[0m \u001b[0mcapacities\u001b[0m\u001b[0;34m,\u001b[0m \u001b[0mconsumtions\u001b[0m\u001b[0;34m,\u001b[0m \u001b[0mtimes\u001b[0m\u001b[0;34m[\u001b[0m\u001b[0;36m1\u001b[0m\u001b[0;34m:\u001b[0m\u001b[0;34m]\u001b[0m\u001b[0;34m,\u001b[0m \u001b[0mrevenues\u001b[0m\u001b[0;34m,\u001b[0m \u001b[0mprobs\u001b[0m\u001b[0;34m,\u001b[0m \u001b[0mstocks\u001b[0m\u001b[0;34m,\u001b[0m \u001b[0mmax_stocks\u001b[0m\u001b[0;34m,\u001b[0m \u001b[0mperformance_times\u001b[0m\u001b[0;34m)\u001b[0m\u001b[0;34m\u001b[0m\u001b[0m\n\u001b[0m\u001b[1;32m     27\u001b[0m \u001b[0;34m\u001b[0m\u001b[0m\n\u001b[1;32m     28\u001b[0m             \u001b[0;31m# Für den Erwartungswert t-1 mit Akzeptanz werden Numpy-Arrays in der Länge der Anzahl an Produkten erstellt.\u001b[0m\u001b[0;34m\u001b[0m\u001b[0;34m\u001b[0m\u001b[0m\n",
      "\u001b[0;32m<ipython-input-38-b376a5c07adf>\u001b[0m in \u001b[0;36mDP_Time\u001b[0;34m(solutions, conditions, products, resources, capacities, consumtions, times, revenues, probs, stocks, max_stocks, performance_times)\u001b[0m\n\u001b[1;32m     24\u001b[0m         \u001b[0;32mif\u001b[0m \u001b[0mtimes\u001b[0m\u001b[0;34m[\u001b[0m\u001b[0;36m0\u001b[0m\u001b[0;34m]\u001b[0m\u001b[0;34m!=\u001b[0m\u001b[0;36m0\u001b[0m\u001b[0;34m:\u001b[0m\u001b[0;34m\u001b[0m\u001b[0m\n\u001b[1;32m     25\u001b[0m             \u001b[0;31m# Der Erwartungswert t-1 ohne Akeptanz wird ermittelt und im Wert 'reject' gespeichert.\u001b[0m\u001b[0;34m\u001b[0m\u001b[0;34m\u001b[0m\u001b[0m\n\u001b[0;32m---> 26\u001b[0;31m             \u001b[0mreject\u001b[0m \u001b[0;34m=\u001b[0m \u001b[0mDP_Time\u001b[0m\u001b[0;34m(\u001b[0m\u001b[0msolutions\u001b[0m\u001b[0;34m,\u001b[0m \u001b[0mconditions\u001b[0m\u001b[0;34m,\u001b[0m \u001b[0mproducts\u001b[0m\u001b[0;34m,\u001b[0m \u001b[0mresources\u001b[0m\u001b[0;34m,\u001b[0m \u001b[0mcapacities\u001b[0m\u001b[0;34m,\u001b[0m \u001b[0mconsumtions\u001b[0m\u001b[0;34m,\u001b[0m \u001b[0mtimes\u001b[0m\u001b[0;34m[\u001b[0m\u001b[0;36m1\u001b[0m\u001b[0;34m:\u001b[0m\u001b[0;34m]\u001b[0m\u001b[0;34m,\u001b[0m \u001b[0mrevenues\u001b[0m\u001b[0;34m,\u001b[0m \u001b[0mprobs\u001b[0m\u001b[0;34m,\u001b[0m \u001b[0mstocks\u001b[0m\u001b[0;34m,\u001b[0m \u001b[0mmax_stocks\u001b[0m\u001b[0;34m,\u001b[0m \u001b[0mperformance_times\u001b[0m\u001b[0;34m)\u001b[0m\u001b[0;34m\u001b[0m\u001b[0m\n\u001b[0m\u001b[1;32m     27\u001b[0m \u001b[0;34m\u001b[0m\u001b[0m\n\u001b[1;32m     28\u001b[0m             \u001b[0;31m# Für den Erwartungswert t-1 mit Akzeptanz werden Numpy-Arrays in der Länge der Anzahl an Produkten erstellt.\u001b[0m\u001b[0;34m\u001b[0m\u001b[0;34m\u001b[0m\u001b[0m\n",
      "\u001b[0;32m<ipython-input-38-b376a5c07adf>\u001b[0m in \u001b[0;36mDP_Time\u001b[0;34m(solutions, conditions, products, resources, capacities, consumtions, times, revenues, probs, stocks, max_stocks, performance_times)\u001b[0m\n\u001b[1;32m     24\u001b[0m         \u001b[0;32mif\u001b[0m \u001b[0mtimes\u001b[0m\u001b[0;34m[\u001b[0m\u001b[0;36m0\u001b[0m\u001b[0;34m]\u001b[0m\u001b[0;34m!=\u001b[0m\u001b[0;36m0\u001b[0m\u001b[0;34m:\u001b[0m\u001b[0;34m\u001b[0m\u001b[0m\n\u001b[1;32m     25\u001b[0m             \u001b[0;31m# Der Erwartungswert t-1 ohne Akeptanz wird ermittelt und im Wert 'reject' gespeichert.\u001b[0m\u001b[0;34m\u001b[0m\u001b[0;34m\u001b[0m\u001b[0m\n\u001b[0;32m---> 26\u001b[0;31m             \u001b[0mreject\u001b[0m \u001b[0;34m=\u001b[0m \u001b[0mDP_Time\u001b[0m\u001b[0;34m(\u001b[0m\u001b[0msolutions\u001b[0m\u001b[0;34m,\u001b[0m \u001b[0mconditions\u001b[0m\u001b[0;34m,\u001b[0m \u001b[0mproducts\u001b[0m\u001b[0;34m,\u001b[0m \u001b[0mresources\u001b[0m\u001b[0;34m,\u001b[0m \u001b[0mcapacities\u001b[0m\u001b[0;34m,\u001b[0m \u001b[0mconsumtions\u001b[0m\u001b[0;34m,\u001b[0m \u001b[0mtimes\u001b[0m\u001b[0;34m[\u001b[0m\u001b[0;36m1\u001b[0m\u001b[0;34m:\u001b[0m\u001b[0;34m]\u001b[0m\u001b[0;34m,\u001b[0m \u001b[0mrevenues\u001b[0m\u001b[0;34m,\u001b[0m \u001b[0mprobs\u001b[0m\u001b[0;34m,\u001b[0m \u001b[0mstocks\u001b[0m\u001b[0;34m,\u001b[0m \u001b[0mmax_stocks\u001b[0m\u001b[0;34m,\u001b[0m \u001b[0mperformance_times\u001b[0m\u001b[0;34m)\u001b[0m\u001b[0;34m\u001b[0m\u001b[0m\n\u001b[0m\u001b[1;32m     27\u001b[0m \u001b[0;34m\u001b[0m\u001b[0m\n\u001b[1;32m     28\u001b[0m             \u001b[0;31m# Für den Erwartungswert t-1 mit Akzeptanz werden Numpy-Arrays in der Länge der Anzahl an Produkten erstellt.\u001b[0m\u001b[0;34m\u001b[0m\u001b[0;34m\u001b[0m\u001b[0m\n",
      "\u001b[0;32m<ipython-input-38-b376a5c07adf>\u001b[0m in \u001b[0;36mDP_Time\u001b[0;34m(solutions, conditions, products, resources, capacities, consumtions, times, revenues, probs, stocks, max_stocks, performance_times)\u001b[0m\n\u001b[1;32m     24\u001b[0m         \u001b[0;32mif\u001b[0m \u001b[0mtimes\u001b[0m\u001b[0;34m[\u001b[0m\u001b[0;36m0\u001b[0m\u001b[0;34m]\u001b[0m\u001b[0;34m!=\u001b[0m\u001b[0;36m0\u001b[0m\u001b[0;34m:\u001b[0m\u001b[0;34m\u001b[0m\u001b[0m\n\u001b[1;32m     25\u001b[0m             \u001b[0;31m# Der Erwartungswert t-1 ohne Akeptanz wird ermittelt und im Wert 'reject' gespeichert.\u001b[0m\u001b[0;34m\u001b[0m\u001b[0;34m\u001b[0m\u001b[0m\n\u001b[0;32m---> 26\u001b[0;31m             \u001b[0mreject\u001b[0m \u001b[0;34m=\u001b[0m \u001b[0mDP_Time\u001b[0m\u001b[0;34m(\u001b[0m\u001b[0msolutions\u001b[0m\u001b[0;34m,\u001b[0m \u001b[0mconditions\u001b[0m\u001b[0;34m,\u001b[0m \u001b[0mproducts\u001b[0m\u001b[0;34m,\u001b[0m \u001b[0mresources\u001b[0m\u001b[0;34m,\u001b[0m \u001b[0mcapacities\u001b[0m\u001b[0;34m,\u001b[0m \u001b[0mconsumtions\u001b[0m\u001b[0;34m,\u001b[0m \u001b[0mtimes\u001b[0m\u001b[0;34m[\u001b[0m\u001b[0;36m1\u001b[0m\u001b[0;34m:\u001b[0m\u001b[0;34m]\u001b[0m\u001b[0;34m,\u001b[0m \u001b[0mrevenues\u001b[0m\u001b[0;34m,\u001b[0m \u001b[0mprobs\u001b[0m\u001b[0;34m,\u001b[0m \u001b[0mstocks\u001b[0m\u001b[0;34m,\u001b[0m \u001b[0mmax_stocks\u001b[0m\u001b[0;34m,\u001b[0m \u001b[0mperformance_times\u001b[0m\u001b[0;34m)\u001b[0m\u001b[0;34m\u001b[0m\u001b[0m\n\u001b[0m\u001b[1;32m     27\u001b[0m \u001b[0;34m\u001b[0m\u001b[0m\n\u001b[1;32m     28\u001b[0m             \u001b[0;31m# Für den Erwartungswert t-1 mit Akzeptanz werden Numpy-Arrays in der Länge der Anzahl an Produkten erstellt.\u001b[0m\u001b[0;34m\u001b[0m\u001b[0;34m\u001b[0m\u001b[0m\n",
      "\u001b[0;32m<ipython-input-38-b376a5c07adf>\u001b[0m in \u001b[0;36mDP_Time\u001b[0;34m(solutions, conditions, products, resources, capacities, consumtions, times, revenues, probs, stocks, max_stocks, performance_times)\u001b[0m\n\u001b[1;32m     24\u001b[0m         \u001b[0;32mif\u001b[0m \u001b[0mtimes\u001b[0m\u001b[0;34m[\u001b[0m\u001b[0;36m0\u001b[0m\u001b[0;34m]\u001b[0m\u001b[0;34m!=\u001b[0m\u001b[0;36m0\u001b[0m\u001b[0;34m:\u001b[0m\u001b[0;34m\u001b[0m\u001b[0m\n\u001b[1;32m     25\u001b[0m             \u001b[0;31m# Der Erwartungswert t-1 ohne Akeptanz wird ermittelt und im Wert 'reject' gespeichert.\u001b[0m\u001b[0;34m\u001b[0m\u001b[0;34m\u001b[0m\u001b[0m\n\u001b[0;32m---> 26\u001b[0;31m             \u001b[0mreject\u001b[0m \u001b[0;34m=\u001b[0m \u001b[0mDP_Time\u001b[0m\u001b[0;34m(\u001b[0m\u001b[0msolutions\u001b[0m\u001b[0;34m,\u001b[0m \u001b[0mconditions\u001b[0m\u001b[0;34m,\u001b[0m \u001b[0mproducts\u001b[0m\u001b[0;34m,\u001b[0m \u001b[0mresources\u001b[0m\u001b[0;34m,\u001b[0m \u001b[0mcapacities\u001b[0m\u001b[0;34m,\u001b[0m \u001b[0mconsumtions\u001b[0m\u001b[0;34m,\u001b[0m \u001b[0mtimes\u001b[0m\u001b[0;34m[\u001b[0m\u001b[0;36m1\u001b[0m\u001b[0;34m:\u001b[0m\u001b[0;34m]\u001b[0m\u001b[0;34m,\u001b[0m \u001b[0mrevenues\u001b[0m\u001b[0;34m,\u001b[0m \u001b[0mprobs\u001b[0m\u001b[0;34m,\u001b[0m \u001b[0mstocks\u001b[0m\u001b[0;34m,\u001b[0m \u001b[0mmax_stocks\u001b[0m\u001b[0;34m,\u001b[0m \u001b[0mperformance_times\u001b[0m\u001b[0;34m)\u001b[0m\u001b[0;34m\u001b[0m\u001b[0m\n\u001b[0m\u001b[1;32m     27\u001b[0m \u001b[0;34m\u001b[0m\u001b[0m\n\u001b[1;32m     28\u001b[0m             \u001b[0;31m# Für den Erwartungswert t-1 mit Akzeptanz werden Numpy-Arrays in der Länge der Anzahl an Produkten erstellt.\u001b[0m\u001b[0;34m\u001b[0m\u001b[0;34m\u001b[0m\u001b[0m\n",
      "\u001b[0;32m<ipython-input-38-b376a5c07adf>\u001b[0m in \u001b[0;36mDP_Time\u001b[0;34m(solutions, conditions, products, resources, capacities, consumtions, times, revenues, probs, stocks, max_stocks, performance_times)\u001b[0m\n\u001b[1;32m     99\u001b[0m                     \u001b[0;32mif\u001b[0m \u001b[0mnp\u001b[0m\u001b[0;34m.\u001b[0m\u001b[0mall\u001b[0m\u001b[0;34m(\u001b[0m\u001b[0;34m(\u001b[0m\u001b[0mchange\u001b[0m\u001b[0;34m)\u001b[0m \u001b[0;34m>=\u001b[0m \u001b[0mnp\u001b[0m\u001b[0;34m.\u001b[0m\u001b[0mfloat32\u001b[0m\u001b[0;34m(\u001b[0m\u001b[0;36m0\u001b[0m\u001b[0;34m)\u001b[0m\u001b[0;34m)\u001b[0m \u001b[0;32mand\u001b[0m \u001b[0mnp\u001b[0m\u001b[0;34m.\u001b[0m\u001b[0mall\u001b[0m\u001b[0;34m(\u001b[0m\u001b[0;34m(\u001b[0m\u001b[0mincrease_stock\u001b[0m\u001b[0;34m)\u001b[0m \u001b[0;34m<=\u001b[0m \u001b[0;34m(\u001b[0m\u001b[0mmax_stocks\u001b[0m\u001b[0;34m)\u001b[0m\u001b[0;34m)\u001b[0m \u001b[0;32mand\u001b[0m \u001b[0mbooking_period\u001b[0m \u001b[0;34m>=\u001b[0m \u001b[0mlp\u001b[0m\u001b[0;34m:\u001b[0m\u001b[0;34m\u001b[0m\u001b[0m\n\u001b[1;32m    100\u001b[0m                         \u001b[0;31m# Initialisierung der Rechnung für t-1 mit Akeptanz jeweils für ein Produkt j.\u001b[0m\u001b[0;34m\u001b[0m\u001b[0;34m\u001b[0m\u001b[0m\n\u001b[0;32m--> 101\u001b[0;31m                         \u001b[0maccept_workup_j_m\u001b[0m \u001b[0;34m=\u001b[0m \u001b[0mDP_Time\u001b[0m\u001b[0;34m(\u001b[0m\u001b[0msolutions\u001b[0m\u001b[0;34m,\u001b[0m \u001b[0mconditions\u001b[0m\u001b[0;34m,\u001b[0m \u001b[0mproducts\u001b[0m\u001b[0;34m,\u001b[0m \u001b[0mresources\u001b[0m\u001b[0;34m,\u001b[0m \u001b[0mchange\u001b[0m\u001b[0;34m,\u001b[0m \u001b[0mconsumtions\u001b[0m\u001b[0;34m,\u001b[0m \u001b[0mtimes\u001b[0m\u001b[0;34m[\u001b[0m\u001b[0;36m1\u001b[0m\u001b[0;34m:\u001b[0m\u001b[0;34m]\u001b[0m\u001b[0;34m,\u001b[0m \u001b[0mrevenues\u001b[0m\u001b[0;34m,\u001b[0m \u001b[0mprobs\u001b[0m\u001b[0;34m,\u001b[0m \u001b[0mincrease_stock\u001b[0m\u001b[0;34m,\u001b[0m \u001b[0mmax_stocks\u001b[0m\u001b[0;34m,\u001b[0m \u001b[0mperformance_times\u001b[0m\u001b[0;34m)\u001b[0m\u001b[0;34m\u001b[0m\u001b[0m\n\u001b[0m\u001b[1;32m    102\u001b[0m                         \u001b[0moc_workup_m\u001b[0m\u001b[0;34m[\u001b[0m\u001b[0mm\u001b[0m\u001b[0;34m]\u001b[0m \u001b[0;34m=\u001b[0m \u001b[0mreject\u001b[0m\u001b[0;34m-\u001b[0m\u001b[0maccept_workup_j_m\u001b[0m\u001b[0;34m\u001b[0m\u001b[0m\n\u001b[1;32m    103\u001b[0m                         \u001b[0mmax_order_workup_m\u001b[0m\u001b[0;34m[\u001b[0m\u001b[0mm\u001b[0m\u001b[0;34m]\u001b[0m \u001b[0;34m=\u001b[0m \u001b[0mmax\u001b[0m\u001b[0;34m(\u001b[0m\u001b[0maccept_workup_j_m\u001b[0m\u001b[0;34m-\u001b[0m\u001b[0mreject\u001b[0m\u001b[0;34m,\u001b[0m \u001b[0;36m0\u001b[0m\u001b[0;34m)\u001b[0m\u001b[0;34m\u001b[0m\u001b[0m\n",
      "\u001b[0;32m<ipython-input-38-b376a5c07adf>\u001b[0m in \u001b[0;36mDP_Time\u001b[0;34m(solutions, conditions, products, resources, capacities, consumtions, times, revenues, probs, stocks, max_stocks, performance_times)\u001b[0m\n\u001b[1;32m     15\u001b[0m \u001b[0;34m\u001b[0m\u001b[0m\n\u001b[1;32m     16\u001b[0m     \u001b[0;31m#Aktueller Systemzustand wird in dem 'np.array' aller möglichen Systemzustände gesucht.\u001b[0m\u001b[0;34m\u001b[0m\u001b[0;34m\u001b[0m\u001b[0m\n\u001b[0;32m---> 17\u001b[0;31m     \u001b[0mstate\u001b[0m \u001b[0;34m=\u001b[0m \u001b[0mnp\u001b[0m\u001b[0;34m.\u001b[0m\u001b[0mwhere\u001b[0m\u001b[0;34m(\u001b[0m\u001b[0;34m(\u001b[0m\u001b[0mconditions\u001b[0m \u001b[0;34m==\u001b[0m \u001b[0mcondition\u001b[0m\u001b[0;34m)\u001b[0m\u001b[0;34m.\u001b[0m\u001b[0mall\u001b[0m\u001b[0;34m(\u001b[0m\u001b[0maxis\u001b[0m\u001b[0;34m=\u001b[0m\u001b[0;36m1\u001b[0m\u001b[0;34m)\u001b[0m\u001b[0;34m)\u001b[0m\u001b[0;34m[\u001b[0m\u001b[0;36m0\u001b[0m\u001b[0;34m]\u001b[0m\u001b[0;34m[\u001b[0m\u001b[0;36m0\u001b[0m\u001b[0;34m]\u001b[0m\u001b[0;34m\u001b[0m\u001b[0m\n\u001b[0m\u001b[1;32m     18\u001b[0m \u001b[0;34m\u001b[0m\u001b[0m\n\u001b[1;32m     19\u001b[0m     \u001b[0;31m# Memofunktion: Die Rechnung wird nur fortgeführt, sofern es nicht schon berechnet wurde.\u001b[0m\u001b[0;34m\u001b[0m\u001b[0;34m\u001b[0m\u001b[0m\n",
      "\u001b[0;31mKeyboardInterrupt\u001b[0m: "
     ]
    }
   ],
   "source": [
    "DP_Time(solutions, condition_storages, products, resources, capacities, consumtions, times, revenues, probs, stock_resources, max_stock_resources, performance_times)"
   ]
  },
  {
   "cell_type": "code",
   "execution_count": null,
   "metadata": {
    "collapsed": false
   },
   "outputs": [],
   "source": [
    "graph = Structure_Transform(solutions, condition_storages, products, resources, consumtions, revenues, probs, stock_resources, max_stock_resources, performance_times)\n",
    "\n",
    "Best_Politic_Stock(graph, times, resources, stock_resources, solutions)"
   ]
  },
  {
   "cell_type": "raw",
   "metadata": {
    "collapsed": false
   },
   "source": [
    "import matplotlib as plt\n",
    "\n",
    "draw = graph.copy()\n",
    "draw.remove_node('end')\n",
    "        # Quelle: http://stackoverflow.com/a/11484144/4913569\n",
    "        # ----\n",
    "        # write dot file to use with graphviz\n",
    "        # run \"dot -Tpng test.dot >test.png\"\n",
    "nx.write_dot(draw,'test.dot')\n",
    "\n",
    "        # same layout using matplotlib with no labels\n",
    "pos=nx.graphviz_layout(draw,prog='dot')\n",
    "plt.figure(figsize=(size_x,size_y))\n",
    "plt.title(\"Entscheidungsbaum\")\n",
    "nx.draw(draw,pos,with_labels=True, node_size=500)\n",
    "plt.savefig('GraphTest.png')"
   ]
  }
 ],
 "metadata": {
  "kernelspec": {
   "display_name": "Python 2",
   "language": "python",
   "name": "python2"
  },
  "language_info": {
   "codemirror_mode": {
    "name": "ipython",
    "version": 2
   },
   "file_extension": ".py",
   "mimetype": "text/x-python",
   "name": "python",
   "nbconvert_exporter": "python",
   "pygments_lexer": "ipython2",
   "version": "2.7.10"
  }
 },
 "nbformat": 4,
 "nbformat_minor": 0
}
