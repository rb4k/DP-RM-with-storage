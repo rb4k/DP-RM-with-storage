{
 "cells": [
  {
   "cell_type": "code",
   "execution_count": 36,
   "metadata": {
    "collapsed": false
   },
   "outputs": [],
   "source": [
    "__version__ = '0.3'\n",
    "__author__  = \"Robert Matern (r.matern@stud.uni-hannover.de)\"\n",
    "__date__    = ''\n",
    "__url__     = ''\n",
    "__copyright__ = \"(C) 2015 Robert Matern\""
   ]
  },
  {
   "cell_type": "markdown",
   "metadata": {},
   "source": [
    "#Beispieldaten Nr. 1"
   ]
  },
  {
   "cell_type": "code",
   "execution_count": 37,
   "metadata": {
    "collapsed": false
   },
   "outputs": [],
   "source": [
    "# Funktionen werden hinzugeladen.\n",
    "%run Parameter.ipynb"
   ]
  },
  {
   "cell_type": "code",
   "execution_count": 38,
   "metadata": {
    "collapsed": false
   },
   "outputs": [
    {
     "name": "stdout",
     "output_type": "stream",
     "text": [
      "0:00:00.001777\n"
     ]
    }
   ],
   "source": [
    "# Produkte\n",
    "products = Product(2)\n",
    "\n",
    "# Ressourcen \n",
    "resources = Resource(2)\n",
    "\n",
    "#Kapazität\n",
    "capacities = Capacity(resources)\n",
    "capacities[1] = 1\n",
    "capacities[2] = 1\n",
    "\n",
    "# Ressourcenverbrauch\n",
    "# Achtung! Hier eine Dimensionsreduzierung !!!\n",
    "consumtions = np.arange(len(resources), dtype=np.uint16)\n",
    "consumtions[1] = 1\n",
    "consumtions[2] = 2\n",
    "\n",
    "# Erträge\n",
    "revenues = Revenue(products)\n",
    "revenues[1] = 100\n",
    "revenues[2] = 5000\n",
    "\n",
    "# Buchungsperioden\n",
    "times = Time(10)\n",
    "\n",
    "# Wahrscheinlichkeiten\n",
    "probs = Prob(products, times)\n",
    "probs[1] = [0, 0.3, 0.3, 0.3, 0.3, 0.3, 0.3, 0.3, 0.3, 0.3, 0.3]\n",
    "probs[2] = [0, 0.3, 0.3, 0.3, 0.3, 0.3, 0, 0, 0, 0, 0]\n",
    "\n",
    "# Gegenwahrscheinlichkeiten\n",
    "against_probs = Against_Prob(probs)\n",
    "probs[0] = against_probs\n",
    "\n",
    "# Systemzustände\n",
    "conditions = Condition(capacities, resources, times)\n",
    "\n",
    "\n",
    "# Endzeitpunkte\n",
    "#end_times = End_Time(conditions)"
   ]
  },
  {
   "cell_type": "markdown",
   "metadata": {},
   "source": [
    "inkl. Lagerhaltung"
   ]
  },
  {
   "cell_type": "code",
   "execution_count": 39,
   "metadata": {
    "collapsed": false
   },
   "outputs": [],
   "source": [
    "%run Parameter-transform.ipynb"
   ]
  },
  {
   "cell_type": "code",
   "execution_count": 40,
   "metadata": {
    "collapsed": false
   },
   "outputs": [
    {
     "name": "stdout",
     "output_type": "stream",
     "text": [
      "0:00:00.000491\n"
     ]
    }
   ],
   "source": [
    "#Lagerbestand\n",
    "stock_resources = Stock_Resource(resources)\n",
    "stock_resources[1] = 0\n",
    "\n",
    "max_stock_resources = Max_Stock_Resource(resources)\n",
    "max_stock_resources[1] = 1\n",
    "max_stock_resources[2] = 2\n",
    "\n",
    "# Systemzustände\n",
    "condition_storages = Condition_Storage(capacities, resources, max_stock_resources, times)\n",
    "# Bei der Modelformulierung mit Lagerproduktion wird der Parameter 'max_stocks' benötigt."
   ]
  },
  {
   "cell_type": "code",
   "execution_count": 41,
   "metadata": {
    "collapsed": true
   },
   "outputs": [],
   "source": [
    "# Leisungsperioden !!! Muss hier der Anzahl der Ressourcen entsprechen !!!\n",
    "# Im Nachfolgenden ausschließlich Times in 5er Schritten !!!\n",
    "performance_times = Performance_Time(times, 5)"
   ]
  },
  {
   "cell_type": "code",
   "execution_count": 42,
   "metadata": {
    "collapsed": false
   },
   "outputs": [],
   "source": [
    "%run DynamicProgramm-time.ipynb"
   ]
  },
  {
   "cell_type": "code",
   "execution_count": 43,
   "metadata": {
    "collapsed": false
   },
   "outputs": [
    {
     "name": "stdout",
     "output_type": "stream",
     "text": [
      "Bestände: [1 1 0 0] - Periode: 0 - Erwartungswert: 0.0 - Optimale Politik: 0 KA\n",
      "Bestände: [1 0 0 0] - Periode: 0 - Erwartungswert: 0.0 - Optimale Politik: 0 KA\n",
      "Bestände: [1 0 0 1] - Periode: 0 - Erwartungswert: 0.0 - Optimale Politik: 0 KA\n",
      "Bestände: [1 1 0 0] - Periode: 1 - Erwartungswert: 30.0 - Optimale Politik: 1 AA\n",
      "Bestände: [1 0 0 0] - Periode: 1 - Erwartungswert: 0.0 - Optimale Politik: 0 KA\n",
      "Bestände: [1 0 0 1] - Periode: 1 - Erwartungswert: 30.0 - Optimale Politik: 1 LE\n",
      "Bestände: [1 1 0 0] - Periode: 2 - Erwartungswert: 51.0 - Optimale Politik: 1 AA\n",
      "Bestände: [1 0 0 0] - Periode: 2 - Erwartungswert: 0.0 - Optimale Politik: 0 KA\n",
      "Bestände: [1 0 0 1] - Periode: 2 - Erwartungswert: 51.0 - Optimale Politik: 1 LE\n",
      "Bestände: [1 1 0 0] - Periode: 3 - Erwartungswert: 65.7031 - Optimale Politik: 1 AA\n",
      "Bestände: [1 0 0 0] - Periode: 3 - Erwartungswert: 0.0 - Optimale Politik: 0 KA\n",
      "Bestände: [1 0 0 1] - Periode: 3 - Erwartungswert: 65.7031 - Optimale Politik: 1 LE\n",
      "Bestände: [1 1 0 0] - Periode: 4 - Erwartungswert: 76.0 - Optimale Politik: 1 AA\n",
      "Bestände: [1 0 0 0] - Periode: 4 - Erwartungswert: 0.0 - Optimale Politik: 0 KA\n",
      "Bestände: [1 0 0 1] - Periode: 4 - Erwartungswert: 76.0 - Optimale Politik: 1 LE\n",
      "Bestände: [1 1 0 0] - Periode: 5 - Erwartungswert: 83.1992 - Optimale Politik: 1 AA\n",
      "Bestände: [0 1 0 0] - Periode: 0 - Erwartungswert: 0.0 - Optimale Politik: 0 KA\n",
      "Bestände: [0 0 0 0] - Periode: 0 - Erwartungswert: 0.0 - Optimale Politik: 0 KA\n",
      "Bestände: [0 0 0 1] - Periode: 0 - Erwartungswert: 0.0 - Optimale Politik: 0 KA\n",
      "Bestände: [0 1 0 0] - Periode: 1 - Erwartungswert: 30.0 - Optimale Politik: 1 AA\n",
      "Bestände: [0 0 0 0] - Periode: 1 - Erwartungswert: 0.0 - Optimale Politik: 0 KA\n",
      "Bestände: [0 0 0 1] - Periode: 1 - Erwartungswert: 30.0 - Optimale Politik: 1 LE\n",
      "Bestände: [0 1 0 0] - Periode: 2 - Erwartungswert: 51.0 - Optimale Politik: 1 AA\n",
      "Bestände: [0 0 0 0] - Periode: 2 - Erwartungswert: 0.0 - Optimale Politik: 0 KA\n",
      "Bestände: [0 0 0 1] - Periode: 2 - Erwartungswert: 51.0 - Optimale Politik: 1 LE\n",
      "Bestände: [0 1 0 0] - Periode: 3 - Erwartungswert: 65.7031 - Optimale Politik: 1 AA\n",
      "Bestände: [0 0 0 0] - Periode: 3 - Erwartungswert: 0.0 - Optimale Politik: 0 KA\n",
      "Bestände: [0 0 0 1] - Periode: 3 - Erwartungswert: 65.7031 - Optimale Politik: 1 LE\n",
      "Bestände: [0 1 0 0] - Periode: 4 - Erwartungswert: 76.0 - Optimale Politik: 1 AA\n",
      "Bestände: [0 0 0 0] - Periode: 4 - Erwartungswert: 0.0 - Optimale Politik: 0 KA\n",
      "Bestände: [0 0 0 1] - Periode: 4 - Erwartungswert: 76.0 - Optimale Politik: 1 LE\n",
      "Bestände: [0 1 0 0] - Periode: 5 - Erwartungswert: 83.1992 - Optimale Politik: 1 AA\n",
      "Bestände: [0 1 0 1] - Periode: 0 - Erwartungswert: 0.0 - Optimale Politik: 0 KA\n",
      "Bestände: [0 0 0 2] - Periode: 0 - Erwartungswert: 0.0 - Optimale Politik: 0 KA\n",
      "Bestände: [0 1 0 1] - Periode: 1 - Erwartungswert: 60.0 - Optimale Politik: 1 AA\n",
      "Bestände: [0 0 0 2] - Periode: 1 - Erwartungswert: 1530.0 - Optimale Politik: 2 LE\n",
      "Bestände: [0 1 0 1] - Periode: 2 - Erwartungswert: 543.0 - Optimale Politik: 1 LP - Modus: [0 0 1]\n",
      "Bestände: [0 0 0 2] - Periode: 2 - Erwartungswert: 2571.0 - Optimale Politik: 2 LE\n",
      "Bestände: [0 1 0 1] - Periode: 3 - Erwartungswert: 1151.5 - Optimale Politik: 1 LP - Modus: [0 0 1]\n",
      "Bestände: [0 0 0 2] - Periode: 3 - Erwartungswert: 3299.5 - Optimale Politik: 2 LE\n",
      "Bestände: [0 1 0 1] - Periode: 4 - Erwartungswert: 1796.0 - Optimale Politik: 1 LP - Modus: [0 0 1]\n",
      "Bestände: [0 0 0 2] - Periode: 4 - Erwartungswert: 3809.5 - Optimale Politik: 2 LE\n",
      "Bestände: [0 1 0 1] - Periode: 5 - Erwartungswert: 2400.0 - Optimale Politik: 1 LP - Modus: [0 0 1]\n",
      "Bestände: [1 1 0 0] - Periode: 6 - Erwartungswert: 808.199 - Optimale Politik: 1 LP - Modus: [0 0 1]\n",
      "Bestände: [0 1 0 0] - Periode: 6 - Erwartungswert: 0.0 - Optimale Politik: 0 KA\n",
      "Bestände: [0 1 0 1] - Periode: 6 - Erwartungswert: 0.0 - Optimale Politik: 0 KA\n",
      "Bestände: [1 1 0 0] - Periode: 7 - Erwartungswert: 1285.7 - Optimale Politik: 1 LP - Modus: [0 0 1]\n",
      "Bestände: [0 1 0 0] - Periode: 7 - Erwartungswert: 0.0 - Optimale Politik: 0 KA\n",
      "Bestände: [0 1 0 1] - Periode: 7 - Erwartungswert: 0.0 - Optimale Politik: 0 KA\n",
      "Bestände: [1 1 0 0] - Periode: 8 - Erwartungswert: 0.0 - Optimale Politik: 0 KA\n",
      "Bestände: [0 1 0 0] - Periode: 8 - Erwartungswert: 0.0 - Optimale Politik: 0 KA\n",
      "Bestände: [0 1 0 1] - Periode: 8 - Erwartungswert: 0.0 - Optimale Politik: 0 KA\n",
      "Bestände: [1 1 0 0] - Periode: 9 - Erwartungswert: 0.0 - Optimale Politik: 0 KA\n",
      "Bestände: [0 1 0 0] - Periode: 9 - Erwartungswert: 0.0 - Optimale Politik: 0 KA\n",
      "Bestände: [0 1 0 1] - Periode: 9 - Erwartungswert: 0.0 - Optimale Politik: 0 KA\n",
      "Bestände: [1 1 0 0] - Periode: 10 - Erwartungswert: 0.0 - Optimale Politik: 0 KA\n"
     ]
    },
    {
     "data": {
      "text/plain": [
       "1285.6992"
      ]
     },
     "execution_count": 43,
     "metadata": {},
     "output_type": "execute_result"
    }
   ],
   "source": [
    "DP_Time(solutions, condition_storages, products, resources, capacities, consumtions, times, revenues, probs, stock_resources, max_stock_resources, performance_times)"
   ]
  },
  {
   "cell_type": "code",
   "execution_count": 44,
   "metadata": {
    "collapsed": false
   },
   "outputs": [
    {
     "name": "stdout",
     "output_type": "stream",
     "text": [
      "Optimalen Politik zum Zeitpunkt \"t\" und unter Beachtung der Restkapazitäten \"c[h]\": \n",
      "\n",
      "     $c_{1}$  $c_{2}$  $y_{1}$  $y_{2}$  $t$     ExpValue           Successor  \\\n",
      "32         1        1        0        0   10     0.000000        [97, 86, 31]   \n",
      "97         0        1        0        0    9     0.000000                [96]   \n",
      "86         0        1        0        1    9     0.000000                [85]   \n",
      "31         1        1        0        0    9     0.000000        [96, 85, 30]   \n",
      "96         0        1        0        0    8     0.000000                [95]   \n",
      "85         0        1        0        1    8     0.000000                [84]   \n",
      "30         1        1        0        0    8     0.000000        [84, 29, 95]   \n",
      "84         0        1        0        1    7     0.000000                [83]   \n",
      "95         0        1        0        0    7     0.000000                [94]   \n",
      "29         1        1        0        0    7  1285.699219        [83, 28, 94]   \n",
      "83         0        1        0        1    6     0.000000                [82]   \n",
      "94         0        1        0        0    6     0.000000                [93]   \n",
      "28         1        1        0        0    6   808.199219        [82, 27, 93]   \n",
      "82         0        1        0        1    5  2400.000000  [81, 114, 92, 103]   \n",
      "81         0        1        0        1    4  1796.000000  [80, 113, 91, 102]   \n",
      "80         0        1        0        1    3  1151.500000  [112, 90, 101, 79]   \n",
      "79         0        1        0        1    2   543.000000  [89, 100, 78, 111]   \n",
      "78         0        1        0        1    1    60.000000   [88, 99, 77, 110]   \n",
      "77         0        1        0        1    0     0.000000               [end]   \n",
      "103        0        0        0        2    4  3809.500000     [113, 124, 102]   \n",
      "102        0        0        0        2    3  3299.500000     [112, 123, 101]   \n",
      "101        0        0        0        2    2  2571.000000     [122, 100, 111]   \n",
      "100        0        0        0        2    1  1530.000000      [121, 99, 110]   \n",
      "99         0        0        0        2    0     0.000000               [end]   \n",
      "93         0        1        0        0    5    83.199219      [114, 92, 125]   \n",
      "114        0        0        0        1    4    76.000000          [113, 124]   \n",
      "92         0        1        0        0    4    76.000000      [113, 91, 124]   \n",
      "113        0        0        0        1    3    65.703125          [112, 123]   \n",
      "91         0        1        0        0    3    65.703125      [112, 90, 123]   \n",
      "112        0        0        0        1    2    51.000000          [122, 111]   \n",
      "90         0        1        0        0    2    51.000000      [89, 122, 111]   \n",
      "89         0        1        0        0    1    30.000000      [88, 121, 110]   \n",
      "88         0        1        0        0    0     0.000000               [end]   \n",
      "111        0        0        0        1    1    30.000000          [121, 110]   \n",
      "110        0        0        0        1    0     0.000000               [end]   \n",
      "125        0        0        0        0    4     0.000000               [124]   \n",
      "124        0        0        0        0    3     0.000000               [123]   \n",
      "123        0        0        0        0    2     0.000000               [122]   \n",
      "122        0        0        0        0    1     0.000000               [121]   \n",
      "121        0        0        0        0    0     0.000000               [end]   \n",
      "27         1        1        0        0    5    83.199219        [48, 26, 59]   \n",
      "48         1        0        0        1    4    76.000000            [58, 47]   \n",
      "59         1        0        0        0    4     0.000000                [58]   \n",
      "26         1        1        0        0    4    76.000000        [25, 58, 47]   \n",
      "58         1        0        0        0    3     0.000000                [57]   \n",
      "47         1        0        0        1    3    65.703125            [57, 46]   \n",
      "25         1        1        0        0    3    65.703125        [24, 57, 46]   \n",
      "57         1        0        0        0    2     0.000000                [56]   \n",
      "46         1        0        0        1    2    51.000000            [56, 45]   \n",
      "24         1        1        0        0    2    51.000000        [56, 45, 23]   \n",
      "56         1        0        0        0    1     0.000000                [55]   \n",
      "45         1        0        0        1    1    30.000000            [44, 55]   \n",
      "23         1        1        0        0    1    30.000000        [44, 22, 55]   \n",
      "44         1        0        0        1    0     0.000000               [end]   \n",
      "55         1        0        0        0    0     0.000000               [end]   \n",
      "22         1        1        0        0    0     0.000000               [end]   \n",
      "\n",
      "     $j^*$      $m$  $r_{j}-OC_{j}$  \n",
      "32       0       KA          0.0000  \n",
      "97       0       KA          0.0000  \n",
      "86       0       KA          0.0000  \n",
      "31       0       KA          0.0000  \n",
      "96       0       KA          0.0000  \n",
      "85       0       KA          0.0000  \n",
      "30       0       KA          0.0000  \n",
      "84       0       KA          0.0000  \n",
      "95       0       KA          0.0000  \n",
      "29       1  LP[0 1]       1692.0000  \n",
      "83       0       KA          0.0000  \n",
      "94       0       KA          0.0000  \n",
      "28       1  LP[0 1]       2416.0000  \n",
      "82       1  LP[0 1]       2114.0000  \n",
      "81       1  LP[0 1]       2248.0000  \n",
      "80       1  LP[0 1]       2128.0000  \n",
      "79       1  LP[0 1]       1570.0000  \n",
      "78       1       AA        100.0000  \n",
      "77       0        -          0.0000  \n",
      "103      2       LE       1700.0000  \n",
      "102      2       LE       2428.0000  \n",
      "101      2       LE       3470.0000  \n",
      "100      2       LE       5000.0000  \n",
      "99       0        -          0.0000  \n",
      "93       1       AA         24.0000  \n",
      "114      1       LE         34.3125  \n",
      "92       1       AA         34.3125  \n",
      "113      1       LE         49.0000  \n",
      "91       1       AA         49.0000  \n",
      "112      1       LE         70.0000  \n",
      "90       1       AA         70.0000  \n",
      "89       1       AA        100.0000  \n",
      "88       0        -          0.0000  \n",
      "111      1       LE        100.0000  \n",
      "110      0        -          0.0000  \n",
      "125      0       KA          0.0000  \n",
      "124      0       KA          0.0000  \n",
      "123      0       KA          0.0000  \n",
      "122      0       KA          0.0000  \n",
      "121      0        -          0.0000  \n",
      "27       1       AA         24.0000  \n",
      "48       1       LE         34.3125  \n",
      "59       0       KA          0.0000  \n",
      "26       1       AA         34.3125  \n",
      "58       0       KA          0.0000  \n",
      "47       1       LE         49.0000  \n",
      "25       1       AA         49.0000  \n",
      "57       0       KA          0.0000  \n",
      "46       1       LE         70.0000  \n",
      "24       1       AA         70.0000  \n",
      "56       0       KA          0.0000  \n",
      "45       1       LE        100.0000  \n",
      "23       1       AA        100.0000  \n",
      "44       0        -          0.0000  \n",
      "55       0        -          0.0000  \n",
      "22       0        -          0.0000   \n",
      "\n",
      "    Opt. Politic  from   to  Revenue  Cum_Rev\n",
      "10             0    32   31        0        0\n",
      "9              0    31   30        0        0\n",
      "8              0    30   29        0        0\n",
      "7              1    29   83        0        0\n",
      "6              0    83   82        0        0\n",
      "5              1    82  103        0        0\n",
      "4              2   103  124     5000     5000\n",
      "3              0   124  123        0     5000\n",
      "2              0   123  122        0     5000\n",
      "1              0   122  121        0     5000 \n",
      "\n"
     ]
    },
    {
     "data": {
      "text/plain": [
       "(     $c_{1}$  $c_{2}$  $y_{1}$  $y_{2}$  $t$     ExpValue           Successor  \\\n",
       " 32         1        1        0        0   10     0.000000        [97, 86, 31]   \n",
       " 97         0        1        0        0    9     0.000000                [96]   \n",
       " 86         0        1        0        1    9     0.000000                [85]   \n",
       " 31         1        1        0        0    9     0.000000        [96, 85, 30]   \n",
       " 96         0        1        0        0    8     0.000000                [95]   \n",
       " 85         0        1        0        1    8     0.000000                [84]   \n",
       " 30         1        1        0        0    8     0.000000        [84, 29, 95]   \n",
       " 84         0        1        0        1    7     0.000000                [83]   \n",
       " 95         0        1        0        0    7     0.000000                [94]   \n",
       " 29         1        1        0        0    7  1285.699219        [83, 28, 94]   \n",
       " 83         0        1        0        1    6     0.000000                [82]   \n",
       " 94         0        1        0        0    6     0.000000                [93]   \n",
       " 28         1        1        0        0    6   808.199219        [82, 27, 93]   \n",
       " 82         0        1        0        1    5  2400.000000  [81, 114, 92, 103]   \n",
       " 81         0        1        0        1    4  1796.000000  [80, 113, 91, 102]   \n",
       " 80         0        1        0        1    3  1151.500000  [112, 90, 101, 79]   \n",
       " 79         0        1        0        1    2   543.000000  [89, 100, 78, 111]   \n",
       " 78         0        1        0        1    1    60.000000   [88, 99, 77, 110]   \n",
       " 77         0        1        0        1    0     0.000000               [end]   \n",
       " 103        0        0        0        2    4  3809.500000     [113, 124, 102]   \n",
       " 102        0        0        0        2    3  3299.500000     [112, 123, 101]   \n",
       " 101        0        0        0        2    2  2571.000000     [122, 100, 111]   \n",
       " 100        0        0        0        2    1  1530.000000      [121, 99, 110]   \n",
       " 99         0        0        0        2    0     0.000000               [end]   \n",
       " 93         0        1        0        0    5    83.199219      [114, 92, 125]   \n",
       " 114        0        0        0        1    4    76.000000          [113, 124]   \n",
       " 92         0        1        0        0    4    76.000000      [113, 91, 124]   \n",
       " 113        0        0        0        1    3    65.703125          [112, 123]   \n",
       " 91         0        1        0        0    3    65.703125      [112, 90, 123]   \n",
       " 112        0        0        0        1    2    51.000000          [122, 111]   \n",
       " 90         0        1        0        0    2    51.000000      [89, 122, 111]   \n",
       " 89         0        1        0        0    1    30.000000      [88, 121, 110]   \n",
       " 88         0        1        0        0    0     0.000000               [end]   \n",
       " 111        0        0        0        1    1    30.000000          [121, 110]   \n",
       " 110        0        0        0        1    0     0.000000               [end]   \n",
       " 125        0        0        0        0    4     0.000000               [124]   \n",
       " 124        0        0        0        0    3     0.000000               [123]   \n",
       " 123        0        0        0        0    2     0.000000               [122]   \n",
       " 122        0        0        0        0    1     0.000000               [121]   \n",
       " 121        0        0        0        0    0     0.000000               [end]   \n",
       " 27         1        1        0        0    5    83.199219        [48, 26, 59]   \n",
       " 48         1        0        0        1    4    76.000000            [58, 47]   \n",
       " 59         1        0        0        0    4     0.000000                [58]   \n",
       " 26         1        1        0        0    4    76.000000        [25, 58, 47]   \n",
       " 58         1        0        0        0    3     0.000000                [57]   \n",
       " 47         1        0        0        1    3    65.703125            [57, 46]   \n",
       " 25         1        1        0        0    3    65.703125        [24, 57, 46]   \n",
       " 57         1        0        0        0    2     0.000000                [56]   \n",
       " 46         1        0        0        1    2    51.000000            [56, 45]   \n",
       " 24         1        1        0        0    2    51.000000        [56, 45, 23]   \n",
       " 56         1        0        0        0    1     0.000000                [55]   \n",
       " 45         1        0        0        1    1    30.000000            [44, 55]   \n",
       " 23         1        1        0        0    1    30.000000        [44, 22, 55]   \n",
       " 44         1        0        0        1    0     0.000000               [end]   \n",
       " 55         1        0        0        0    0     0.000000               [end]   \n",
       " 22         1        1        0        0    0     0.000000               [end]   \n",
       " \n",
       "      $j^*$      $m$  $r_{j}-OC_{j}$  \n",
       " 32       0       KA          0.0000  \n",
       " 97       0       KA          0.0000  \n",
       " 86       0       KA          0.0000  \n",
       " 31       0       KA          0.0000  \n",
       " 96       0       KA          0.0000  \n",
       " 85       0       KA          0.0000  \n",
       " 30       0       KA          0.0000  \n",
       " 84       0       KA          0.0000  \n",
       " 95       0       KA          0.0000  \n",
       " 29       1  LP[0 1]       1692.0000  \n",
       " 83       0       KA          0.0000  \n",
       " 94       0       KA          0.0000  \n",
       " 28       1  LP[0 1]       2416.0000  \n",
       " 82       1  LP[0 1]       2114.0000  \n",
       " 81       1  LP[0 1]       2248.0000  \n",
       " 80       1  LP[0 1]       2128.0000  \n",
       " 79       1  LP[0 1]       1570.0000  \n",
       " 78       1       AA        100.0000  \n",
       " 77       0        -          0.0000  \n",
       " 103      2       LE       1700.0000  \n",
       " 102      2       LE       2428.0000  \n",
       " 101      2       LE       3470.0000  \n",
       " 100      2       LE       5000.0000  \n",
       " 99       0        -          0.0000  \n",
       " 93       1       AA         24.0000  \n",
       " 114      1       LE         34.3125  \n",
       " 92       1       AA         34.3125  \n",
       " 113      1       LE         49.0000  \n",
       " 91       1       AA         49.0000  \n",
       " 112      1       LE         70.0000  \n",
       " 90       1       AA         70.0000  \n",
       " 89       1       AA        100.0000  \n",
       " 88       0        -          0.0000  \n",
       " 111      1       LE        100.0000  \n",
       " 110      0        -          0.0000  \n",
       " 125      0       KA          0.0000  \n",
       " 124      0       KA          0.0000  \n",
       " 123      0       KA          0.0000  \n",
       " 122      0       KA          0.0000  \n",
       " 121      0        -          0.0000  \n",
       " 27       1       AA         24.0000  \n",
       " 48       1       LE         34.3125  \n",
       " 59       0       KA          0.0000  \n",
       " 26       1       AA         34.3125  \n",
       " 58       0       KA          0.0000  \n",
       " 47       1       LE         49.0000  \n",
       " 25       1       AA         49.0000  \n",
       " 57       0       KA          0.0000  \n",
       " 46       1       LE         70.0000  \n",
       " 24       1       AA         70.0000  \n",
       " 56       0       KA          0.0000  \n",
       " 45       1       LE        100.0000  \n",
       " 23       1       AA        100.0000  \n",
       " 44       0        -          0.0000  \n",
       " 55       0        -          0.0000  \n",
       " 22       0        -          0.0000  ,\n",
       "     Opt. Politic  from   to  Revenue  Cum_Rev\n",
       " 10             0    32   31        0        0\n",
       " 9              0    31   30        0        0\n",
       " 8              0    30   29        0        0\n",
       " 7              1    29   83        0        0\n",
       " 6              0    83   82        0        0\n",
       " 5              1    82  103        0        0\n",
       " 4              2   103  124     5000     5000\n",
       " 3              0   124  123        0     5000\n",
       " 2              0   123  122        0     5000\n",
       " 1              0   122  121        0     5000)"
      ]
     },
     "execution_count": 44,
     "metadata": {},
     "output_type": "execute_result"
    }
   ],
   "source": [
    "graph = Structure_Transform(solutions, condition_storages, products, resources, consumtions, revenues, probs, stock_resources, max_stock_resources, performance_times)\n",
    "\n",
    "Best_Politic_Stock(graph, times, resources, stock_resources, solutions)"
   ]
  },
  {
   "cell_type": "code",
   "execution_count": 45,
   "metadata": {
    "collapsed": false
   },
   "outputs": [
    {
     "ename": "AttributeError",
     "evalue": "'module' object has no attribute 'figure'",
     "output_type": "error",
     "traceback": [
      "\u001b[0;31m---------------------------------------------------------------------------\u001b[0m",
      "\u001b[0;31mAttributeError\u001b[0m                            Traceback (most recent call last)",
      "\u001b[0;32m<ipython-input-45-ec0a85ebe107>\u001b[0m in \u001b[0;36m<module>\u001b[0;34m()\u001b[0m\n\u001b[1;32m     11\u001b[0m         \u001b[0;31m# same layout using matplotlib with no labels\u001b[0m\u001b[0;34m\u001b[0m\u001b[0;34m\u001b[0m\u001b[0m\n\u001b[1;32m     12\u001b[0m \u001b[0mpos\u001b[0m\u001b[0;34m=\u001b[0m\u001b[0mnx\u001b[0m\u001b[0;34m.\u001b[0m\u001b[0mgraphviz_layout\u001b[0m\u001b[0;34m(\u001b[0m\u001b[0mdraw\u001b[0m\u001b[0;34m,\u001b[0m\u001b[0mprog\u001b[0m\u001b[0;34m=\u001b[0m\u001b[0;34m'dot'\u001b[0m\u001b[0;34m)\u001b[0m\u001b[0;34m\u001b[0m\u001b[0m\n\u001b[0;32m---> 13\u001b[0;31m \u001b[0mplt\u001b[0m\u001b[0;34m.\u001b[0m\u001b[0mfigure\u001b[0m\u001b[0;34m(\u001b[0m\u001b[0mfigsize\u001b[0m\u001b[0;34m=\u001b[0m\u001b[0;34m(\u001b[0m\u001b[0msize_x\u001b[0m\u001b[0;34m,\u001b[0m\u001b[0msize_y\u001b[0m\u001b[0;34m)\u001b[0m\u001b[0;34m)\u001b[0m\u001b[0;34m\u001b[0m\u001b[0m\n\u001b[0m\u001b[1;32m     14\u001b[0m \u001b[0mplt\u001b[0m\u001b[0;34m.\u001b[0m\u001b[0mtitle\u001b[0m\u001b[0;34m(\u001b[0m\u001b[0;34m\"Entscheidungsbaum\"\u001b[0m\u001b[0;34m)\u001b[0m\u001b[0;34m\u001b[0m\u001b[0m\n\u001b[1;32m     15\u001b[0m \u001b[0mnx\u001b[0m\u001b[0;34m.\u001b[0m\u001b[0mdraw\u001b[0m\u001b[0;34m(\u001b[0m\u001b[0mdraw\u001b[0m\u001b[0;34m,\u001b[0m\u001b[0mpos\u001b[0m\u001b[0;34m,\u001b[0m\u001b[0mwith_labels\u001b[0m\u001b[0;34m=\u001b[0m\u001b[0mTrue\u001b[0m\u001b[0;34m,\u001b[0m \u001b[0mnode_size\u001b[0m\u001b[0;34m=\u001b[0m\u001b[0;36m500\u001b[0m\u001b[0;34m)\u001b[0m\u001b[0;34m\u001b[0m\u001b[0m\n",
      "\u001b[0;31mAttributeError\u001b[0m: 'module' object has no attribute 'figure'"
     ]
    }
   ],
   "source": [
    "import matplotlib as plt\n",
    "\n",
    "draw = graph.copy()\n",
    "draw.remove_node('end')\n",
    "        # Quelle: http://stackoverflow.com/a/11484144/4913569\n",
    "        # ----\n",
    "        # write dot file to use with graphviz\n",
    "        # run \"dot -Tpng test.dot >test.png\"\n",
    "nx.write_dot(draw,'test.dot')\n",
    "\n",
    "        # same layout using matplotlib with no labels\n",
    "pos=nx.graphviz_layout(draw,prog='dot')\n",
    "plt.figure(figsize=(size_x,size_y))\n",
    "plt.title(\"Entscheidungsbaum\")\n",
    "nx.draw(draw,pos,with_labels=True, node_size=500)\n",
    "plt.savefig('GraphTest.png')"
   ]
  },
  {
   "cell_type": "code",
   "execution_count": null,
   "metadata": {
    "collapsed": false
   },
   "outputs": [],
   "source": [
    "Best_Politic(graph, times, resources, start=None)"
   ]
  },
  {
   "cell_type": "code",
   "execution_count": null,
   "metadata": {
    "collapsed": false
   },
   "outputs": [],
   "source": [
    "solutions"
   ]
  },
  {
   "cell_type": "code",
   "execution_count": null,
   "metadata": {
    "collapsed": true
   },
   "outputs": [],
   "source": []
  }
 ],
 "metadata": {
  "kernelspec": {
   "display_name": "Python 2",
   "language": "python",
   "name": "python2"
  },
  "language_info": {
   "codemirror_mode": {
    "name": "ipython",
    "version": 2
   },
   "file_extension": ".py",
   "mimetype": "text/x-python",
   "name": "python",
   "nbconvert_exporter": "python",
   "pygments_lexer": "ipython2",
   "version": "2.7.10"
  }
 },
 "nbformat": 4,
 "nbformat_minor": 0
}
