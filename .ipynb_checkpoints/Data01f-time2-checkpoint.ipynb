{
 "cells": [
  {
   "cell_type": "code",
   "execution_count": 1,
   "metadata": {
    "collapsed": false
   },
   "outputs": [],
   "source": [
    "__version__ = '0.3'\n",
    "__author__  = \"Robert Matern (r.matern@stud.uni-hannover.de)\"\n",
    "__date__    = ''\n",
    "__url__     = ''\n",
    "__copyright__ = \"(C) 2015 Robert Matern\""
   ]
  },
  {
   "cell_type": "markdown",
   "metadata": {},
   "source": [
    "#Beispieldaten Nr. 1"
   ]
  },
  {
   "cell_type": "code",
   "execution_count": 2,
   "metadata": {
    "collapsed": false
   },
   "outputs": [],
   "source": [
    "# Funktionen werden hinzugeladen.\n",
    "%run Parameter.ipynb"
   ]
  },
  {
   "cell_type": "code",
   "execution_count": 3,
   "metadata": {
    "collapsed": false
   },
   "outputs": [
    {
     "name": "stdout",
     "output_type": "stream",
     "text": [
      "0:00:00.000513\n"
     ]
    }
   ],
   "source": [
    "# Produkte\n",
    "products = Product(2)\n",
    "\n",
    "# Ressourcen \n",
    "resources = Resource(2)\n",
    "\n",
    "#Kapazität\n",
    "capacities = Capacity(resources)\n",
    "capacities[1] = 1\n",
    "capacities[2] = 1\n",
    "\n",
    "# Ressourcenverbrauch\n",
    "# Achtung! Hier eine Dimensionsreduzierung !!!\n",
    "consumtions = np.arange(len(resources), dtype=np.uint16)\n",
    "consumtions[1] = 1\n",
    "consumtions[2] = 2\n",
    "\n",
    "# Erträge\n",
    "revenues = Revenue(products)\n",
    "revenues[1] = 100\n",
    "revenues[2] = 5000\n",
    "\n",
    "# Buchungsperioden\n",
    "times = Time(10)\n",
    "\n",
    "# Wahrscheinlichkeiten\n",
    "probs = Prob(products, times)\n",
    "probs[1] = [0, 0.3, 0.3, 0.3, 0.3, 0.3, 0.3, 0.3, 0.3, 0.3, 0.3]\n",
    "probs[2] = [0, 0.3, 0.3, 0.3, 0.3, 0.3, 0, 0, 0, 0, 0]\n",
    "\n",
    "# Gegenwahrscheinlichkeiten\n",
    "against_probs = Against_Prob(probs)\n",
    "probs[0] = against_probs\n",
    "\n",
    "# Systemzustände\n",
    "conditions = Condition(capacities, resources, times)\n",
    "\n",
    "\n",
    "# Endzeitpunkte\n",
    "#end_times = End_Time(conditions)"
   ]
  },
  {
   "cell_type": "markdown",
   "metadata": {},
   "source": [
    "inkl. Lagerhaltung"
   ]
  },
  {
   "cell_type": "code",
   "execution_count": 4,
   "metadata": {
    "collapsed": false
   },
   "outputs": [],
   "source": [
    "%run Parameter-transform.ipynb"
   ]
  },
  {
   "cell_type": "code",
   "execution_count": 5,
   "metadata": {
    "collapsed": false
   },
   "outputs": [
    {
     "name": "stdout",
     "output_type": "stream",
     "text": [
      "0:00:00.000610\n"
     ]
    }
   ],
   "source": [
    "#Lagerbestand\n",
    "stock_resources = Stock_Resource(resources)\n",
    "stock_resources[1] = 0\n",
    "\n",
    "max_stock_resources = Max_Stock_Resource(resources)\n",
    "max_stock_resources[1] = 1\n",
    "max_stock_resources[2] = 2\n",
    "\n",
    "# Systemzustände\n",
    "condition_storages = Condition_Storage(capacities, resources, max_stock_resources, times)\n",
    "# Bei der Modelformulierung mit Lagerproduktion wird der Parameter 'max_stocks' benötigt."
   ]
  },
  {
   "cell_type": "code",
   "execution_count": 6,
   "metadata": {
    "collapsed": true
   },
   "outputs": [],
   "source": [
    "# Leisungsperioden !!! Muss hier der Anzahl der Ressourcen entsprechen !!!\n",
    "# Im Nachfolgenden ausschließlich Times in 5er Schritten !!!\n",
    "performance_times = Performance_Time(times, 5)"
   ]
  },
  {
   "cell_type": "code",
   "execution_count": 7,
   "metadata": {
    "collapsed": false
   },
   "outputs": [
    {
     "name": "stdout",
     "output_type": "stream",
     "text": [
      "Couldn't import dot_parser, loading of dot files will not be possible.\n"
     ]
    }
   ],
   "source": [
    "%run DynamicProgramm-time.ipynb"
   ]
  },
  {
   "cell_type": "code",
   "execution_count": 8,
   "metadata": {
    "collapsed": false
   },
   "outputs": [
    {
     "name": "stdout",
     "output_type": "stream",
     "text": [
      "Bestände: [1 1 0 0] - Periode: 0 - Erwartungswert: 0.0 - Optimale Politik: 0 KA\n",
      "Bestände: [1 0 0 0] - Periode: 0 - Erwartungswert: 0.0 - Optimale Politik: 0 KA\n",
      "Bestände: [1 0 0 1] - Periode: 0 - Erwartungswert: 0.0 - Optimale Politik: 0 KA\n",
      "Bestände: [1 1 0 0] - Periode: 1 - Erwartungswert: 30.0 - Optimale Politik: 1 AA\n",
      "Bestände: [1 0 0 0] - Periode: 1 - Erwartungswert: 0.0 - Optimale Politik: 0 KA\n",
      "Bestände: [1 0 0 1] - Periode: 1 - Erwartungswert: 30.0 - Optimale Politik: 1 LE\n",
      "Bestände: [1 1 0 0] - Periode: 2 - Erwartungswert: 51.0 - Optimale Politik: 1 AA\n",
      "Bestände: [1 0 0 0] - Periode: 2 - Erwartungswert: 0.0 - Optimale Politik: 0 KA\n",
      "Bestände: [1 0 0 1] - Periode: 2 - Erwartungswert: 51.0 - Optimale Politik: 1 LE\n",
      "Bestände: [1 1 0 0] - Periode: 3 - Erwartungswert: 65.7031 - Optimale Politik: 1 AA\n",
      "Bestände: [1 0 0 0] - Periode: 3 - Erwartungswert: 0.0 - Optimale Politik: 0 KA\n",
      "Bestände: [1 0 0 1] - Periode: 3 - Erwartungswert: 65.7031 - Optimale Politik: 1 LE\n",
      "Bestände: [1 1 0 0] - Periode: 4 - Erwartungswert: 76.0 - Optimale Politik: 1 AA\n",
      "Bestände: [1 0 0 0] - Periode: 4 - Erwartungswert: 0.0 - Optimale Politik: 0 KA\n",
      "Bestände: [1 0 0 1] - Periode: 4 - Erwartungswert: 76.0 - Optimale Politik: 1 LE\n",
      "Bestände: [1 1 0 0] - Periode: 5 - Erwartungswert: 83.1992 - Optimale Politik: 1 AA\n",
      "Bestände: [0 1 0 0] - Periode: 0 - Erwartungswert: 0.0 - Optimale Politik: 0 KA\n",
      "Bestände: [0 0 0 0] - Periode: 0 - Erwartungswert: 0.0 - Optimale Politik: 0 KA\n",
      "Bestände: [0 0 0 1] - Periode: 0 - Erwartungswert: 0.0 - Optimale Politik: 0 KA\n",
      "Bestände: [0 1 0 0] - Periode: 1 - Erwartungswert: 30.0 - Optimale Politik: 1 AA\n",
      "Bestände: [0 0 0 0] - Periode: 1 - Erwartungswert: 0.0 - Optimale Politik: 0 KA\n",
      "Bestände: [0 0 0 1] - Periode: 1 - Erwartungswert: 30.0 - Optimale Politik: 1 LE\n",
      "Bestände: [0 1 0 0] - Periode: 2 - Erwartungswert: 51.0 - Optimale Politik: 1 AA\n",
      "Bestände: [0 0 0 0] - Periode: 2 - Erwartungswert: 0.0 - Optimale Politik: 0 KA\n",
      "Bestände: [0 0 0 1] - Periode: 2 - Erwartungswert: 51.0 - Optimale Politik: 1 LE\n",
      "Bestände: [0 1 0 0] - Periode: 3 - Erwartungswert: 65.7031 - Optimale Politik: 1 AA\n",
      "Bestände: [0 0 0 0] - Periode: 3 - Erwartungswert: 0.0 - Optimale Politik: 0 KA\n",
      "Bestände: [0 0 0 1] - Periode: 3 - Erwartungswert: 65.7031 - Optimale Politik: 1 LE\n",
      "Bestände: [0 1 0 0] - Periode: 4 - Erwartungswert: 76.0 - Optimale Politik: 1 AA\n",
      "Bestände: [0 0 0 0] - Periode: 4 - Erwartungswert: 0.0 - Optimale Politik: 0 KA\n",
      "Bestände: [0 0 0 1] - Periode: 4 - Erwartungswert: 76.0 - Optimale Politik: 1 LE\n",
      "Bestände: [0 1 0 0] - Periode: 5 - Erwartungswert: 83.1992 - Optimale Politik: 1 AA\n",
      "Bestände: [0 1 1 0] - Periode: 0 - Erwartungswert: 0.0 - Optimale Politik: 0 KA\n",
      "Bestände: [0 0 1 0] - Periode: 0 - Erwartungswert: 0.0 - Optimale Politik: 0 KA\n",
      "Bestände: [0 0 1 1] - Periode: 0 - Erwartungswert: 0.0 - Optimale Politik: 0 KA\n",
      "Bestände: [0 1 1 0] - Periode: 1 - Erwartungswert: 30.0 - Optimale Politik: 1 AA\n",
      "Bestände: [0 0 1 0] - Periode: 1 - Erwartungswert: 0.0 - Optimale Politik: 0 KA\n",
      "Bestände: [0 0 1 1] - Periode: 1 - Erwartungswert: 30.0 - Optimale Politik: 1 LE\n",
      "Bestände: [0 1 1 0] - Periode: 2 - Erwartungswert: 51.0 - Optimale Politik: 1 AA\n",
      "Bestände: [0 0 1 0] - Periode: 2 - Erwartungswert: 0.0 - Optimale Politik: 0 KA\n",
      "Bestände: [0 0 1 1] - Periode: 2 - Erwartungswert: 51.0 - Optimale Politik: 1 LE\n",
      "Bestände: [0 1 1 0] - Periode: 3 - Erwartungswert: 65.7031 - Optimale Politik: 1 AA\n",
      "Bestände: [0 0 1 0] - Periode: 3 - Erwartungswert: 0.0 - Optimale Politik: 0 KA\n",
      "Bestände: [0 0 1 1] - Periode: 3 - Erwartungswert: 65.7031 - Optimale Politik: 1 LE\n",
      "Bestände: [0 1 1 0] - Periode: 4 - Erwartungswert: 76.0 - Optimale Politik: 1 AA\n",
      "Bestände: [0 0 1 0] - Periode: 4 - Erwartungswert: 0.0 - Optimale Politik: 0 KA\n",
      "Bestände: [0 0 1 1] - Periode: 4 - Erwartungswert: 76.0 - Optimale Politik: 1 LE\n",
      "Bestände: [0 1 1 0] - Periode: 5 - Erwartungswert: 83.1992 - Optimale Politik: 1 AA\n",
      "Bestände: [0 1 0 1] - Periode: 0 - Erwartungswert: 0.0 - Optimale Politik: 0 KA\n",
      "Bestände: [0 0 0 2] - Periode: 0 - Erwartungswert: 0.0 - Optimale Politik: 0 KA\n",
      "Bestände: [0 1 0 1] - Periode: 1 - Erwartungswert: 60.0 - Optimale Politik: 1 AA\n",
      "Bestände: [0 0 0 2] - Periode: 1 - Erwartungswert: 1530.0 - Optimale Politik: 2 LE\n",
      "Bestände: [0 1 0 1] - Periode: 2 - Erwartungswert: 543.0 - Optimale Politik: 1 LP - Modus: [0 0 1]\n",
      "Bestände: [0 0 0 2] - Periode: 2 - Erwartungswert: 2571.0 - Optimale Politik: 2 LE\n",
      "Bestände: [0 1 0 1] - Periode: 3 - Erwartungswert: 1151.5 - Optimale Politik: 1 LP - Modus: [0 0 1]\n",
      "Bestände: [0 0 0 2] - Periode: 3 - Erwartungswert: 3299.5 - Optimale Politik: 2 LE\n",
      "Bestände: [0 1 0 1] - Periode: 4 - Erwartungswert: 1796.0 - Optimale Politik: 1 LP - Modus: [0 0 1]\n",
      "Bestände: [0 0 0 2] - Periode: 4 - Erwartungswert: 3809.5 - Optimale Politik: 2 LE\n",
      "Bestände: [0 1 0 1] - Periode: 5 - Erwartungswert: 2400.0 - Optimale Politik: 1 LP - Modus: [0 0 1]\n",
      "Bestände: [1 1 0 0] - Periode: 6 - Erwartungswert: 808.199 - Optimale Politik: 1 LP - Modus: [0 0 1]\n",
      "Bestände: [0 1 0 0] - Periode: 6 - Erwartungswert: 0.0 - Optimale Politik: 0 KA\n",
      "Bestände: [0 1 1 0] - Periode: 6 - Erwartungswert: 113.199 - Optimale Politik: 1 LE\n",
      "Bestände: [0 1 0 1] - Periode: 6 - Erwartungswert: 0.0 - Optimale Politik: 0 KA\n",
      "Bestände: [1 1 0 0] - Periode: 7 - Erwartungswert: 1285.7 - Optimale Politik: 1 LP - Modus: [0 0 1]\n",
      "Bestände: [0 1 0 0] - Periode: 7 - Erwartungswert: 0.0 - Optimale Politik: 0 KA\n",
      "Bestände: [0 1 1 0] - Periode: 7 - Erwartungswert: 0.0 - Optimale Politik: 0 KA\n",
      "Bestände: [0 1 0 1] - Periode: 7 - Erwartungswert: 0.0 - Optimale Politik: 0 KA\n",
      "Bestände: [1 1 0 0] - Periode: 8 - Erwartungswert: 0.0 - Optimale Politik: 0 KA\n",
      "Bestände: [0 1 0 0] - Periode: 8 - Erwartungswert: 0.0 - Optimale Politik: 0 KA\n",
      "Bestände: [0 1 1 0] - Periode: 8 - Erwartungswert: 30.0 - Optimale Politik: 1 LE\n",
      "Bestände: [0 1 0 1] - Periode: 8 - Erwartungswert: 0.0 - Optimale Politik: 0 KA\n",
      "Bestände: [1 1 0 0] - Periode: 9 - Erwartungswert: 0.0 - Optimale Politik: 0 KA\n",
      "Bestände: [0 1 0 0] - Periode: 9 - Erwartungswert: 0.0 - Optimale Politik: 0 KA\n",
      "Bestände: [0 1 1 0] - Periode: 9 - Erwartungswert: 51.0 - Optimale Politik: 1 LE\n",
      "Bestände: [0 1 0 1] - Periode: 9 - Erwartungswert: 0.0 - Optimale Politik: 0 KA\n",
      "Bestände: [1 1 0 0] - Periode: 10 - Erwartungswert: 0.0 - Optimale Politik: 0 KA\n"
     ]
    },
    {
     "data": {
      "text/plain": [
       "1285.6992"
      ]
     },
     "execution_count": 8,
     "metadata": {},
     "output_type": "execute_result"
    }
   ],
   "source": [
    "DP_Time(solutions, condition_storages, products, resources, capacities, consumtions, times, revenues, probs, stock_resources, max_stock_resources, performance_times)"
   ]
  },
  {
   "cell_type": "code",
   "execution_count": 9,
   "metadata": {
    "collapsed": false
   },
   "outputs": [
    {
     "name": "stdout",
     "output_type": "stream",
     "text": [
      "Optimalen Politik zum Zeitpunkt \"t\" und unter Beachtung der Restkapazitäten \"c[h]\": \n",
      "\n",
      "     $c^{1}$  $c^{2}$  $y^{1}$  $y^{2}$  $t$     ExpValue  \\\n",
      "65         1        1        0        0   10     0.000000   \n",
      "185        0        1        0        1    9     0.000000   \n",
      "196        0        1        0        0    9     0.000000   \n",
      "64         1        1        0        0    9     0.000000   \n",
      "63         1        1        0        0    8     0.000000   \n",
      "62         1        1        0        0    7  1285.699219   \n",
      "61         1        1        0        0    6   808.199219   \n",
      "60         1        1        0        0    5    83.199219   \n",
      "114        1        0        0        1    4    76.000000   \n",
      "59         1        1        0        0    4    76.000000   \n",
      "113        1        0        0        1    3    65.703125   \n",
      "58         1        1        0        0    3    65.703125   \n",
      "112        1        0        0        1    2    51.000000   \n",
      "57         1        1        0        0    2    51.000000   \n",
      "56         1        1        0        0    1    30.000000   \n",
      "55         1        1        0        0    0     0.000000   \n",
      "184        0        1        0        1    8     0.000000   \n",
      "183        0        1        0        1    7     0.000000   \n",
      "182        0        1        0        1    6     0.000000   \n",
      "181        0        1        0        1    5  2400.000000   \n",
      "180        0        1        0        1    4  1796.000000   \n",
      "179        0        1        0        1    3  1151.500000   \n",
      "178        0        1        0        1    2   543.000000   \n",
      "177        0        1        0        1    1    60.000000   \n",
      "176        0        1        0        1    0     0.000000   \n",
      "125        1        0        0        0    4     0.000000   \n",
      "124        1        0        0        0    3     0.000000   \n",
      "123        1        0        0        0    2     0.000000   \n",
      "122        1        0        0        0    1     0.000000   \n",
      "163        0        1        1        0    9    51.000000   \n",
      "..       ...      ...      ...      ...  ...          ...   \n",
      "221        0        0        1        0    1     0.000000   \n",
      "155        0        1        1        0    1    30.000000   \n",
      "209        0        0        1        1    0     0.000000   \n",
      "220        0        0        1        0    0     0.000000   \n",
      "154        0        1        1        0    0     0.000000   \n",
      "111        1        0        0        1    1    30.000000   \n",
      "121        1        0        0        0    0     0.000000   \n",
      "110        1        0        0        1    0     0.000000   \n",
      "193        0        1        0        0    6     0.000000   \n",
      "192        0        1        0        0    5    83.199219   \n",
      "246        0        0        0        1    4    76.000000   \n",
      "191        0        1        0        0    4    76.000000   \n",
      "190        0        1        0        0    3    65.703125   \n",
      "189        0        1        0        0    2    51.000000   \n",
      "188        0        1        0        0    1    30.000000   \n",
      "187        0        1        0        0    0     0.000000   \n",
      "235        0        0        0        2    4  3809.500000   \n",
      "234        0        0        0        2    3  3299.500000   \n",
      "233        0        0        0        2    2  2571.000000   \n",
      "232        0        0        0        2    1  1530.000000   \n",
      "231        0        0        0        2    0     0.000000   \n",
      "245        0        0        0        1    3    65.703125   \n",
      "244        0        0        0        1    2    51.000000   \n",
      "243        0        0        0        1    1    30.000000   \n",
      "242        0        0        0        1    0     0.000000   \n",
      "257        0        0        0        0    4     0.000000   \n",
      "256        0        0        0        0    3     0.000000   \n",
      "255        0        0        0        0    2     0.000000   \n",
      "254        0        0        0        0    1     0.000000   \n",
      "253        0        0        0        0    0     0.000000   \n",
      "\n",
      "                Successor  $j^*$      $m$  $r_{j}-OC_{j}$  \n",
      "65    [64, 185, 163, 196]      0       KA          0.0000  \n",
      "185                 [184]      0       KA          0.0000  \n",
      "196                 [195]      0       KA          0.0000  \n",
      "64    [184, 162, 195, 63]      0       KA          0.0000  \n",
      "63    [161, 194, 62, 183]      0       KA          0.0000  \n",
      "62    [160, 193, 61, 182]      1  LP[0 1]       1692.0000  \n",
      "61    [192, 60, 181, 159]      1  LP[0 1]       2416.0000  \n",
      "60         [114, 59, 125]      1       AA         24.0000  \n",
      "114            [113, 124]      1       LE         34.3125  \n",
      "59         [113, 58, 124]      1       AA         34.3125  \n",
      "113            [112, 123]      1       LE         49.0000  \n",
      "58         [112, 57, 123]      1       AA         49.0000  \n",
      "112            [122, 111]      1       LE         70.0000  \n",
      "57         [56, 122, 111]      1       AA         70.0000  \n",
      "56         [121, 110, 55]      1       AA        100.0000  \n",
      "55                  [end]      0        -          0.0000  \n",
      "184                 [183]      0       KA          0.0000  \n",
      "183                 [182]      0       KA          0.0000  \n",
      "182                 [181]      0       KA          0.0000  \n",
      "181  [235, 180, 246, 191]      1  LP[0 1]       2114.0000  \n",
      "180  [234, 179, 245, 190]      1  LP[0 1]       2248.0000  \n",
      "179  [233, 178, 244, 189]      1  LP[0 1]       2128.0000  \n",
      "178  [232, 177, 243, 188]      1  LP[0 1]       1570.0000  \n",
      "177  [176, 242, 187, 231]      1       AA        100.0000  \n",
      "176                 [end]      0        -          0.0000  \n",
      "125                 [124]      0       KA          0.0000  \n",
      "124                 [123]      0       KA          0.0000  \n",
      "123                 [122]      0       KA          0.0000  \n",
      "122                 [121]      0       KA          0.0000  \n",
      "163            [162, 195]      1       LE         70.0000  \n",
      "..                    ...    ...      ...             ...  \n",
      "221                 [220]      0       KA          0.0000  \n",
      "155       [209, 154, 220]      1       AA        100.0000  \n",
      "209                 [end]      0        -          0.0000  \n",
      "220                 [end]      0        -          0.0000  \n",
      "154                 [end]      0        -          0.0000  \n",
      "111            [121, 110]      1       LE        100.0000  \n",
      "121                 [end]      0        -          0.0000  \n",
      "110                 [end]      0        -          0.0000  \n",
      "193                 [192]      0       KA          0.0000  \n",
      "192       [257, 246, 191]      1       AA         24.0000  \n",
      "246            [256, 245]      1       LE         34.3125  \n",
      "191       [256, 245, 190]      1       AA         34.3125  \n",
      "190       [244, 189, 255]      1       AA         49.0000  \n",
      "189       [243, 188, 254]      1       AA         70.0000  \n",
      "188       [242, 187, 253]      1       AA        100.0000  \n",
      "187                 [end]      0        -          0.0000  \n",
      "235       [256, 234, 245]      2       LE       1700.0000  \n",
      "234       [233, 244, 255]      2       LE       2428.0000  \n",
      "233       [232, 243, 254]      2       LE       3470.0000  \n",
      "232       [242, 253, 231]      2       LE       5000.0000  \n",
      "231                 [end]      0        -          0.0000  \n",
      "245            [244, 255]      1       LE         49.0000  \n",
      "244            [243, 254]      1       LE         70.0000  \n",
      "243            [242, 253]      1       LE        100.0000  \n",
      "242                 [end]      0        -          0.0000  \n",
      "257                 [256]      0       KA          0.0000  \n",
      "256                 [255]      0       KA          0.0000  \n",
      "255                 [254]      0       KA          0.0000  \n",
      "254                 [253]      0       KA          0.0000  \n",
      "253                 [end]      0        -          0.0000  \n",
      "\n",
      "[76 rows x 10 columns] \n",
      "\n",
      "    Opt. Politic    Modus  from   to  Revenue  Cum. Rev.\n",
      "10             0       KA    65   64        0          0\n",
      "9              0       KA    64   63        0          0\n",
      "8              0       KA    63   62        0          0\n",
      "7              1  LP[0 1]    62  182        0          0\n",
      "6              0       KA   182  181        0          0\n",
      "5              1  LP[0 1]   181  235        0          0\n",
      "4              2       LE   235  256     5000       5000\n",
      "3              0       KA   256  255        0       5000\n",
      "2              0       KA   255  254        0       5000\n",
      "1              0       KA   254  253        0       5000 \n",
      "\n"
     ]
    },
    {
     "data": {
      "text/plain": [
       "(     $c^{1}$  $c^{2}$  $y^{1}$  $y^{2}$  $t$     ExpValue  \\\n",
       " 65         1        1        0        0   10     0.000000   \n",
       " 185        0        1        0        1    9     0.000000   \n",
       " 196        0        1        0        0    9     0.000000   \n",
       " 64         1        1        0        0    9     0.000000   \n",
       " 63         1        1        0        0    8     0.000000   \n",
       " 62         1        1        0        0    7  1285.699219   \n",
       " 61         1        1        0        0    6   808.199219   \n",
       " 60         1        1        0        0    5    83.199219   \n",
       " 114        1        0        0        1    4    76.000000   \n",
       " 59         1        1        0        0    4    76.000000   \n",
       " 113        1        0        0        1    3    65.703125   \n",
       " 58         1        1        0        0    3    65.703125   \n",
       " 112        1        0        0        1    2    51.000000   \n",
       " 57         1        1        0        0    2    51.000000   \n",
       " 56         1        1        0        0    1    30.000000   \n",
       " 55         1        1        0        0    0     0.000000   \n",
       " 184        0        1        0        1    8     0.000000   \n",
       " 183        0        1        0        1    7     0.000000   \n",
       " 182        0        1        0        1    6     0.000000   \n",
       " 181        0        1        0        1    5  2400.000000   \n",
       " 180        0        1        0        1    4  1796.000000   \n",
       " 179        0        1        0        1    3  1151.500000   \n",
       " 178        0        1        0        1    2   543.000000   \n",
       " 177        0        1        0        1    1    60.000000   \n",
       " 176        0        1        0        1    0     0.000000   \n",
       " 125        1        0        0        0    4     0.000000   \n",
       " 124        1        0        0        0    3     0.000000   \n",
       " 123        1        0        0        0    2     0.000000   \n",
       " 122        1        0        0        0    1     0.000000   \n",
       " 163        0        1        1        0    9    51.000000   \n",
       " ..       ...      ...      ...      ...  ...          ...   \n",
       " 221        0        0        1        0    1     0.000000   \n",
       " 155        0        1        1        0    1    30.000000   \n",
       " 209        0        0        1        1    0     0.000000   \n",
       " 220        0        0        1        0    0     0.000000   \n",
       " 154        0        1        1        0    0     0.000000   \n",
       " 111        1        0        0        1    1    30.000000   \n",
       " 121        1        0        0        0    0     0.000000   \n",
       " 110        1        0        0        1    0     0.000000   \n",
       " 193        0        1        0        0    6     0.000000   \n",
       " 192        0        1        0        0    5    83.199219   \n",
       " 246        0        0        0        1    4    76.000000   \n",
       " 191        0        1        0        0    4    76.000000   \n",
       " 190        0        1        0        0    3    65.703125   \n",
       " 189        0        1        0        0    2    51.000000   \n",
       " 188        0        1        0        0    1    30.000000   \n",
       " 187        0        1        0        0    0     0.000000   \n",
       " 235        0        0        0        2    4  3809.500000   \n",
       " 234        0        0        0        2    3  3299.500000   \n",
       " 233        0        0        0        2    2  2571.000000   \n",
       " 232        0        0        0        2    1  1530.000000   \n",
       " 231        0        0        0        2    0     0.000000   \n",
       " 245        0        0        0        1    3    65.703125   \n",
       " 244        0        0        0        1    2    51.000000   \n",
       " 243        0        0        0        1    1    30.000000   \n",
       " 242        0        0        0        1    0     0.000000   \n",
       " 257        0        0        0        0    4     0.000000   \n",
       " 256        0        0        0        0    3     0.000000   \n",
       " 255        0        0        0        0    2     0.000000   \n",
       " 254        0        0        0        0    1     0.000000   \n",
       " 253        0        0        0        0    0     0.000000   \n",
       " \n",
       "                 Successor  $j^*$      $m$  $r_{j}-OC_{j}$  \n",
       " 65    [64, 185, 163, 196]      0       KA          0.0000  \n",
       " 185                 [184]      0       KA          0.0000  \n",
       " 196                 [195]      0       KA          0.0000  \n",
       " 64    [184, 162, 195, 63]      0       KA          0.0000  \n",
       " 63    [161, 194, 62, 183]      0       KA          0.0000  \n",
       " 62    [160, 193, 61, 182]      1  LP[0 1]       1692.0000  \n",
       " 61    [192, 60, 181, 159]      1  LP[0 1]       2416.0000  \n",
       " 60         [114, 59, 125]      1       AA         24.0000  \n",
       " 114            [113, 124]      1       LE         34.3125  \n",
       " 59         [113, 58, 124]      1       AA         34.3125  \n",
       " 113            [112, 123]      1       LE         49.0000  \n",
       " 58         [112, 57, 123]      1       AA         49.0000  \n",
       " 112            [122, 111]      1       LE         70.0000  \n",
       " 57         [56, 122, 111]      1       AA         70.0000  \n",
       " 56         [121, 110, 55]      1       AA        100.0000  \n",
       " 55                  [end]      0        -          0.0000  \n",
       " 184                 [183]      0       KA          0.0000  \n",
       " 183                 [182]      0       KA          0.0000  \n",
       " 182                 [181]      0       KA          0.0000  \n",
       " 181  [235, 180, 246, 191]      1  LP[0 1]       2114.0000  \n",
       " 180  [234, 179, 245, 190]      1  LP[0 1]       2248.0000  \n",
       " 179  [233, 178, 244, 189]      1  LP[0 1]       2128.0000  \n",
       " 178  [232, 177, 243, 188]      1  LP[0 1]       1570.0000  \n",
       " 177  [176, 242, 187, 231]      1       AA        100.0000  \n",
       " 176                 [end]      0        -          0.0000  \n",
       " 125                 [124]      0       KA          0.0000  \n",
       " 124                 [123]      0       KA          0.0000  \n",
       " 123                 [122]      0       KA          0.0000  \n",
       " 122                 [121]      0       KA          0.0000  \n",
       " 163            [162, 195]      1       LE         70.0000  \n",
       " ..                    ...    ...      ...             ...  \n",
       " 221                 [220]      0       KA          0.0000  \n",
       " 155       [209, 154, 220]      1       AA        100.0000  \n",
       " 209                 [end]      0        -          0.0000  \n",
       " 220                 [end]      0        -          0.0000  \n",
       " 154                 [end]      0        -          0.0000  \n",
       " 111            [121, 110]      1       LE        100.0000  \n",
       " 121                 [end]      0        -          0.0000  \n",
       " 110                 [end]      0        -          0.0000  \n",
       " 193                 [192]      0       KA          0.0000  \n",
       " 192       [257, 246, 191]      1       AA         24.0000  \n",
       " 246            [256, 245]      1       LE         34.3125  \n",
       " 191       [256, 245, 190]      1       AA         34.3125  \n",
       " 190       [244, 189, 255]      1       AA         49.0000  \n",
       " 189       [243, 188, 254]      1       AA         70.0000  \n",
       " 188       [242, 187, 253]      1       AA        100.0000  \n",
       " 187                 [end]      0        -          0.0000  \n",
       " 235       [256, 234, 245]      2       LE       1700.0000  \n",
       " 234       [233, 244, 255]      2       LE       2428.0000  \n",
       " 233       [232, 243, 254]      2       LE       3470.0000  \n",
       " 232       [242, 253, 231]      2       LE       5000.0000  \n",
       " 231                 [end]      0        -          0.0000  \n",
       " 245            [244, 255]      1       LE         49.0000  \n",
       " 244            [243, 254]      1       LE         70.0000  \n",
       " 243            [242, 253]      1       LE        100.0000  \n",
       " 242                 [end]      0        -          0.0000  \n",
       " 257                 [256]      0       KA          0.0000  \n",
       " 256                 [255]      0       KA          0.0000  \n",
       " 255                 [254]      0       KA          0.0000  \n",
       " 254                 [253]      0       KA          0.0000  \n",
       " 253                 [end]      0        -          0.0000  \n",
       " \n",
       " [76 rows x 10 columns],\n",
       "     Opt. Politic    Modus  from   to  Revenue  Cum. Rev.\n",
       " 10             0       KA    65   64        0          0\n",
       " 9              0       KA    64   63        0          0\n",
       " 8              0       KA    63   62        0          0\n",
       " 7              1  LP[0 1]    62  182        0          0\n",
       " 6              0       KA   182  181        0          0\n",
       " 5              1  LP[0 1]   181  235        0          0\n",
       " 4              2       LE   235  256     5000       5000\n",
       " 3              0       KA   256  255        0       5000\n",
       " 2              0       KA   255  254        0       5000\n",
       " 1              0       KA   254  253        0       5000)"
      ]
     },
     "execution_count": 9,
     "metadata": {},
     "output_type": "execute_result"
    }
   ],
   "source": [
    "graph = Structure_Transform(solutions, condition_storages, products, resources, consumtions, revenues, probs, stock_resources, max_stock_resources, performance_times)\n",
    "\n",
    "Best_Politic_Stock(graph, times, resources, stock_resources, solutions)"
   ]
  },
  {
   "cell_type": "code",
   "execution_count": 10,
   "metadata": {
    "collapsed": false
   },
   "outputs": [
    {
     "ename": "AttributeError",
     "evalue": "'module' object has no attribute 'figure'",
     "output_type": "error",
     "traceback": [
      "\u001b[0;31m---------------------------------------------------------------------------\u001b[0m",
      "\u001b[0;31mAttributeError\u001b[0m                            Traceback (most recent call last)",
      "\u001b[0;32m<ipython-input-10-ec0a85ebe107>\u001b[0m in \u001b[0;36m<module>\u001b[0;34m()\u001b[0m\n\u001b[1;32m     11\u001b[0m         \u001b[0;31m# same layout using matplotlib with no labels\u001b[0m\u001b[0;34m\u001b[0m\u001b[0;34m\u001b[0m\u001b[0m\n\u001b[1;32m     12\u001b[0m \u001b[0mpos\u001b[0m\u001b[0;34m=\u001b[0m\u001b[0mnx\u001b[0m\u001b[0;34m.\u001b[0m\u001b[0mgraphviz_layout\u001b[0m\u001b[0;34m(\u001b[0m\u001b[0mdraw\u001b[0m\u001b[0;34m,\u001b[0m\u001b[0mprog\u001b[0m\u001b[0;34m=\u001b[0m\u001b[0;34m'dot'\u001b[0m\u001b[0;34m)\u001b[0m\u001b[0;34m\u001b[0m\u001b[0m\n\u001b[0;32m---> 13\u001b[0;31m \u001b[0mplt\u001b[0m\u001b[0;34m.\u001b[0m\u001b[0mfigure\u001b[0m\u001b[0;34m(\u001b[0m\u001b[0mfigsize\u001b[0m\u001b[0;34m=\u001b[0m\u001b[0;34m(\u001b[0m\u001b[0msize_x\u001b[0m\u001b[0;34m,\u001b[0m\u001b[0msize_y\u001b[0m\u001b[0;34m)\u001b[0m\u001b[0;34m)\u001b[0m\u001b[0;34m\u001b[0m\u001b[0m\n\u001b[0m\u001b[1;32m     14\u001b[0m \u001b[0mplt\u001b[0m\u001b[0;34m.\u001b[0m\u001b[0mtitle\u001b[0m\u001b[0;34m(\u001b[0m\u001b[0;34m\"Entscheidungsbaum\"\u001b[0m\u001b[0;34m)\u001b[0m\u001b[0;34m\u001b[0m\u001b[0m\n\u001b[1;32m     15\u001b[0m \u001b[0mnx\u001b[0m\u001b[0;34m.\u001b[0m\u001b[0mdraw\u001b[0m\u001b[0;34m(\u001b[0m\u001b[0mdraw\u001b[0m\u001b[0;34m,\u001b[0m\u001b[0mpos\u001b[0m\u001b[0;34m,\u001b[0m\u001b[0mwith_labels\u001b[0m\u001b[0;34m=\u001b[0m\u001b[0mTrue\u001b[0m\u001b[0;34m,\u001b[0m \u001b[0mnode_size\u001b[0m\u001b[0;34m=\u001b[0m\u001b[0;36m500\u001b[0m\u001b[0;34m)\u001b[0m\u001b[0;34m\u001b[0m\u001b[0m\n",
      "\u001b[0;31mAttributeError\u001b[0m: 'module' object has no attribute 'figure'"
     ]
    }
   ],
   "source": [
    "import matplotlib as plt\n",
    "\n",
    "draw = graph.copy()\n",
    "draw.remove_node('end')\n",
    "        # Quelle: http://stackoverflow.com/a/11484144/4913569\n",
    "        # ----\n",
    "        # write dot file to use with graphviz\n",
    "        # run \"dot -Tpng test.dot >test.png\"\n",
    "nx.write_dot(draw,'test.dot')\n",
    "\n",
    "        # same layout using matplotlib with no labels\n",
    "pos=nx.graphviz_layout(draw,prog='dot')\n",
    "plt.figure(figsize=(size_x,size_y))\n",
    "plt.title(\"Entscheidungsbaum\")\n",
    "nx.draw(draw,pos,with_labels=True, node_size=500)\n",
    "plt.savefig('GraphTest.png')"
   ]
  },
  {
   "cell_type": "code",
   "execution_count": null,
   "metadata": {
    "collapsed": false
   },
   "outputs": [],
   "source": [
    "Best_Politic(graph, times, resources, start=None)"
   ]
  },
  {
   "cell_type": "code",
   "execution_count": null,
   "metadata": {
    "collapsed": false
   },
   "outputs": [],
   "source": [
    "solutions"
   ]
  },
  {
   "cell_type": "code",
   "execution_count": null,
   "metadata": {
    "collapsed": true
   },
   "outputs": [],
   "source": []
  }
 ],
 "metadata": {
  "kernelspec": {
   "display_name": "Python 2",
   "language": "python",
   "name": "python2"
  },
  "language_info": {
   "codemirror_mode": {
    "name": "ipython",
    "version": 2
   },
   "file_extension": ".py",
   "mimetype": "text/x-python",
   "name": "python",
   "nbconvert_exporter": "python",
   "pygments_lexer": "ipython2",
   "version": "2.7.10"
  }
 },
 "nbformat": 4,
 "nbformat_minor": 0
}
