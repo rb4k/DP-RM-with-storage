{
 "cells": [
  {
   "cell_type": "code",
   "execution_count": 8,
   "metadata": {
    "collapsed": true
   },
   "outputs": [],
   "source": [
    "__version__ = '0.3'\n",
    "__author__  = \"Robert Matern (r.matern@stud.uni-hannover.de)\"\n",
    "__date__    = ''\n",
    "__url__     = ''\n",
    "__copyright__ = \"(C) 2015 Robert Matern\""
   ]
  },
  {
   "cell_type": "markdown",
   "metadata": {},
   "source": [
    "#Beispieldaten Nr. 2"
   ]
  },
  {
   "cell_type": "code",
   "execution_count": 9,
   "metadata": {
    "collapsed": false
   },
   "outputs": [],
   "source": [
    "%run Parameter.ipynb\n",
    "%run DynamicProgramm.ipynb"
   ]
  },
  {
   "cell_type": "code",
   "execution_count": 10,
   "metadata": {
    "collapsed": false
   },
   "outputs": [
    {
     "name": "stdout",
     "output_type": "stream",
     "text": [
      "0:00:00.000486\n"
     ]
    }
   ],
   "source": [
    "# Produkte\n",
    "products = Product(2)\n",
    "\n",
    "# Ressourcen\n",
    "resources = Resource(4)\n",
    "\n",
    "#Kapazität\n",
    "capacities = Capacity(resources)\n",
    "capacities[1] = 2\n",
    "capacities[2] = 1\n",
    "capacities[3] = 3\n",
    "capacities[4] = 4\n",
    "#capacities[5] = 5\n",
    "#capacities[6] = 6\n",
    "#capacities[7] = 7\n",
    "#capacities[8] = 8\n",
    "#capacities[9] = 9\n",
    "#capacities[10] = 10\n",
    "\n",
    "# Ressourcenverbrauch\n",
    "consumtions = Consumption(products, resources)\n",
    "consumtions[1] = [0,1,0,1,0]#,1,1,0,1,1,1]\n",
    "consumtions[2] = [0,0,1,0,1]#,1,0,0,1,1,0]\n",
    "\n",
    "# Erträge\n",
    "revenues = Revenue(products)\n",
    "revenues[1] = 100\n",
    "revenues[2] = 200\n",
    "\n",
    "# Buchungshorizont\n",
    "times = Time(4)\n",
    "\n",
    "# Wahrscheinlichkeiten\n",
    "probs = Prob(products, times)\n",
    "probs[1] = [0, 0.5, 0.5, 0.5, 0.5]\n",
    "probs[2] = [0, 0.1, 0.1, 0.1, 0.1]\n",
    "\n",
    "# Gegenwahrscheinlichkeiten\n",
    "against_probs = Against_Prob(probs)\n",
    "\n",
    "# Systemzustände\n",
    "conditions = Condition(capacities, resources, times)\n",
    "\n",
    "\n",
    "# Endzeitpunkte\n",
    "#end_times = End_Time(conditions)"
   ]
  },
  {
   "cell_type": "code",
   "execution_count": null,
   "metadata": {
    "collapsed": true
   },
   "outputs": [],
   "source": []
  },
  {
   "cell_type": "code",
   "execution_count": 11,
   "metadata": {
    "collapsed": false
   },
   "outputs": [
    {
     "name": "stdout",
     "output_type": "stream",
     "text": [
      "231.25\n",
      "0:00:00.013185\n"
     ]
    }
   ],
   "source": [
    "import datetime\n",
    "a = datetime.datetime.now()\n",
    "print DP(solutions, conditions, products, resources, capacities, consumtions, times)\n",
    "print datetime.datetime.now()-a"
   ]
  },
  {
   "cell_type": "code",
   "execution_count": 12,
   "metadata": {
    "collapsed": false
   },
   "outputs": [
    {
     "name": "stdout",
     "output_type": "stream",
     "text": [
      "Kürzester Pfad: [4, 228, 452, 556, 555] \n",
      "\n",
      "Startzustand: {'time': 4, 'capacity': array([2, 1, 3, 4]), 'value': 231.25, 'label': array([2, 1, 3, 4, 4])} \n",
      "\n",
      "Die beste Politik zum Zeitpunkt 4 ist die Annahme des Auftrags:\n",
      "{1: {'goal': array([1, 1, 2, 4, 3]), 'weight': 141.69999999999999, 'revenue': 100}} \n",
      "\n",
      "Die beste Politik zum Zeitpunkt 3 ist die Annahme des Auftrags:\n",
      "{1: {'goal': array([0, 1, 1, 4, 2]), 'weight': 38.0, 'revenue': 100}} \n",
      "\n",
      "Die beste Politik zum Zeitpunkt 2 ist die Annahme des Auftrags:\n",
      "{2: {'goal': array([0, 0, 1, 3, 1]), 'weight': 0.0, 'revenue': 200}} \n",
      "\n",
      "Die beste Politik zum Zeitpunkt 1 ist die Annahme des Auftrags:\n",
      "{0: {'goal': array([0, 0, 1, 3, 0]), 'weight': 0, 'revenue': 0}} \n",
      "\n"
     ]
    }
   ],
   "source": [
    "# Erstellung der Struktur als NetworkX-Graph\n",
    "graph = Structure(solutions, products, consumtions, revenues, probs)\n",
    "\n",
    "# Ermittlung der besten Politik (Dijkstra Algorithmus)\n",
    "best_politic = Best_Politic(graph, times)"
   ]
  },
  {
   "cell_type": "code",
   "execution_count": 13,
   "metadata": {
    "collapsed": false
   },
   "outputs": [
    {
     "data": {
      "image/png": "[encoded data removed]",
      "text/plain": [
       "<matplotlib.figure.Figure at 0x1065b2750>"
      ]
     },
     "metadata": {},
     "output_type": "display_data"
    }
   ],
   "source": [
    "Drawing(graph)"
   ]
  },
  {
   "cell_type": "code",
   "execution_count": null,
   "metadata": {
    "collapsed": true
   },
   "outputs": [],
   "source": []
  }
 ],
 "metadata": {
  "kernelspec": {
   "display_name": "Python 2",
   "language": "python",
   "name": "python2"
  },
  "language_info": {
   "codemirror_mode": {
    "name": "ipython",
    "version": 2
   },
   "file_extension": ".py",
   "mimetype": "text/x-python",
   "name": "python",
   "nbconvert_exporter": "python",
   "pygments_lexer": "ipython2",
   "version": "2.7.9"
  }
 },
 "nbformat": 4,
 "nbformat_minor": 0
}
