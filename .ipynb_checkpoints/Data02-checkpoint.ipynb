{
 "cells": [
  {
   "cell_type": "code",
   "execution_count": 61,
   "metadata": {
    "collapsed": true
   },
   "outputs": [],
   "source": [
    "__version__ = '0.3'\n",
    "__author__  = \"Robert Matern (r.matern@stud.uni-hannover.de)\"\n",
    "__date__    = ''\n",
    "__url__     = ''\n",
    "__copyright__ = \"(C) 2015 Robert Matern\""
   ]
  },
  {
   "cell_type": "markdown",
   "metadata": {},
   "source": [
    "#Beispieldaten Nr. 2"
   ]
  },
  {
   "cell_type": "code",
   "execution_count": 174,
   "metadata": {
    "collapsed": false
   },
   "outputs": [],
   "source": [
    "%run Parameter.ipynb\n",
    "%run DynamicProgramm.ipynb"
   ]
  },
  {
   "cell_type": "code",
   "execution_count": 175,
   "metadata": {
    "collapsed": false
   },
   "outputs": [
    {
     "name": "stdout",
     "output_type": "stream",
     "text": [
      "0:00:00.086139\n"
     ]
    }
   ],
   "source": [
    "# Produkte\n",
    "products = Product(2)\n",
    "\n",
    "# Ressourcen\n",
    "resources = Resource(4)\n",
    "\n",
    "#Kapazität\n",
    "capacities = Capacity(resources)\n",
    "capacities[1] = 2\n",
    "capacities[2] = 1\n",
    "capacities[3] = 3\n",
    "capacities[4] = 4\n",
    "#capacities[5] = 5\n",
    "#capacities[6] = 6\n",
    "#capacities[7] = 7\n",
    "#capacities[8] = 8\n",
    "#capacities[9] = 9\n",
    "#capacities[10] = 10\n",
    "\n",
    "# Ressourcenverbrauch\n",
    "consumtions = Consumption(products, resources)\n",
    "consumtions[1] = [0,1,0,1,0]#,1,1,0,1,1,1]\n",
    "consumtions[2] = [0,0,1,0,1]#,1,0,0,1,1,0]\n",
    "\n",
    "# Erträge\n",
    "revenues = Revenue(products)\n",
    "revenues[1] = 100\n",
    "revenues[2] = 200\n",
    "\n",
    "# Buchungshorizont\n",
    "times = Time(4)\n",
    "\n",
    "# Wahrscheinlichkeiten\n",
    "probs = Prob(products, times)\n",
    "probs[1] = [0.5, 0.3, 0.5, 0.5, 0]\n",
    "probs[2] = [0.1, 0.1, 0.1, 0.1, 0]\n",
    "\n",
    "# Gegenwahrscheinlichkeiten\n",
    "against_probs = Against_Prob(probs)\n",
    "\n",
    "# Systemzustände\n",
    "conditions = Condition(capacities, resources, times)\n",
    "\n",
    "\n",
    "# Endzeitpunkte\n",
    "#end_times = End_Time(conditions)"
   ]
  },
  {
   "cell_type": "code",
   "execution_count": 177,
   "metadata": {
    "collapsed": false
   },
   "outputs": [
    {
     "data": {
      "text/plain": [
       "[array([0, 0, 0, 0]), 3]"
      ]
     },
     "execution_count": 177,
     "metadata": {},
     "output_type": "execute_result"
    }
   ],
   "source": [
    "conditions[1]"
   ]
  },
  {
   "cell_type": "code",
   "execution_count": 178,
   "metadata": {
    "collapsed": false
   },
   "outputs": [
    {
     "data": {
      "text/plain": [
       "231.25"
      ]
     },
     "execution_count": 178,
     "metadata": {},
     "output_type": "execute_result"
    }
   ],
   "source": [
    "DP(solutions, conditions, products, resources, capacities, consumtions, times)"
   ]
  },
  {
   "cell_type": "code",
   "execution_count": 65,
   "metadata": {
    "collapsed": false
   },
   "outputs": [
    {
     "data": {
      "text/plain": [
       "{43: [[[array([0, 0, 1, 3]), 1], 0.0]],\n",
       " 44: [[[array([0, 0, 1, 3]), 0], 0.0]],\n",
       " 147: [[[array([0, 1, 1, 4]), 2], 38.0]],\n",
       " 148: [[[array([0, 1, 1, 4]), 1], 20.0]],\n",
       " 149: [[[array([0, 1, 1, 4]), 0], 0.0]],\n",
       " 267: [[[array([1, 0, 2, 3]), 2], 75.0]],\n",
       " 268: [[[array([1, 0, 2, 3]), 1], 50.0]],\n",
       " 269: [[[array([1, 0, 2, 3]), 0], 0.0]],\n",
       " 371: [[[array([1, 1, 2, 4]), 3], 141.703125]],\n",
       " 372: [[[array([1, 1, 2, 4]), 2], 113.0]],\n",
       " 373: [[[array([1, 1, 2, 4]), 1], 70.0]],\n",
       " 374: [[[array([1, 1, 2, 4]), 0], 0.0]],\n",
       " 491: [[[array([2, 0, 3, 3]), 3], 137.5]],\n",
       " 492: [[[array([2, 0, 3, 3]), 2], 100.0]],\n",
       " 493: [[[array([2, 0, 3, 3]), 1], 50.0]],\n",
       " 494: [[[array([2, 0, 3, 3]), 0], 0.0]],\n",
       " 595: [[[array([2, 1, 3, 4]), 4], 231.25]],\n",
       " 596: [[[array([2, 1, 3, 4]), 3], 191.6875]],\n",
       " 597: [[[array([2, 1, 3, 4]), 2], 138.0]],\n",
       " 598: [[[array([2, 1, 3, 4]), 1], 70.0]],\n",
       " 599: [[[array([2, 1, 3, 4]), 0], 0.0]]}"
      ]
     },
     "execution_count": 65,
     "metadata": {},
     "output_type": "execute_result"
    }
   ],
   "source": [
    "solutions"
   ]
  }
 ],
 "metadata": {
  "kernelspec": {
   "display_name": "Python 2",
   "language": "python",
   "name": "python2"
  },
  "language_info": {
   "codemirror_mode": {
    "name": "ipython",
    "version": 2
   },
   "file_extension": ".py",
   "mimetype": "text/x-python",
   "name": "python",
   "nbconvert_exporter": "python",
   "pygments_lexer": "ipython2",
   "version": "2.7.9"
  }
 },
 "nbformat": 4,
 "nbformat_minor": 0
}
