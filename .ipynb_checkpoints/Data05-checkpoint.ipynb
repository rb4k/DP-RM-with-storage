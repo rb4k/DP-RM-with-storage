{
 "cells": [
  {
   "cell_type": "code",
   "execution_count": 1,
   "metadata": {
    "collapsed": true
   },
   "outputs": [],
   "source": [
    "__version__ = '0.3'\n",
    "__author__  = \"Robert Matern (r.matern@stud.uni-hannover.de)\"\n",
    "__date__    = ''\n",
    "__url__     = ''\n",
    "__copyright__ = \"(C) 2015 Robert Matern\""
   ]
  },
  {
   "cell_type": "markdown",
   "metadata": {},
   "source": [
    "#Beispieldaten Nr. 1"
   ]
  },
  {
   "cell_type": "code",
   "execution_count": 2,
   "metadata": {
    "collapsed": false
   },
   "outputs": [
    {
     "name": "stdout",
     "output_type": "stream",
     "text": [
      "Python Version 2.7.9 |Anaconda 2.2.0 (x86_64)| (default, Dec 15 2014, 10:37:34) \n",
      "[GCC 4.2.1 (Apple Inc. build 5577)]\n",
      "Numpy Version 1.9.2\n",
      "Matplotlib Version 1.4.3\n",
      "Pandas Version 0.15.2\n"
     ]
    }
   ],
   "source": [
    "%run Parameter.ipynb\n",
    "%run DynamicProgramm.ipynb"
   ]
  },
  {
   "cell_type": "code",
   "execution_count": 3,
   "metadata": {
    "collapsed": false
   },
   "outputs": [
    {
     "name": "stdout",
     "output_type": "stream",
     "text": [
      "0:00:00.000298\n"
     ]
    }
   ],
   "source": [
    "# Produkte\n",
    "products = Product(3)\n",
    "\n",
    "# Ressourcen\n",
    "resources = Resource(1)\n",
    "\n",
    "#Kapazität\n",
    "capacities = Capacity(resources)\n",
    "capacities[1] = 2\n",
    "\n",
    "# Ressourcenverbrauch\n",
    "consumtions = Consumption(products, resources)\n",
    "consumtions[1] = [0,1]\n",
    "consumtions[2] = [0,2]\n",
    "consumtions[3] = [0,3]\n",
    "\n",
    "# Erträge\n",
    "revenues = Revenue(products)\n",
    "revenues[1] = 100\n",
    "revenues[2] = 500\n",
    "revenues[3] = 1000\n",
    "\n",
    "# Buchungshorizont\n",
    "times = Time(3)\n",
    "\n",
    "# Wahrscheinlichkeiten\n",
    "probs = Prob(products, times)\n",
    "probs[1] = [0, 0.1, 0.1, 0.1]\n",
    "probs[2] = [0, 0.1, 0.1, 0.1]\n",
    "probs[3] = [0, 0.1, 0.1, 0.1]\n",
    "\n",
    "# Gegenwahrscheinlichkeiten\n",
    "against_probs = Against_Prob(probs)\n",
    "probs[0] = against_probs\n",
    "\n",
    "# Tat. Nachfrage\n",
    "demands = Demand(products, times)\n",
    "demands[0] = [0, 1, 1, 1] # Keine Anfragen müssen immer möglich sein!\n",
    "demands[1] = [0, 1, 0, 0]\n",
    "demands[2] = [0, 1, 1, 1]\n",
    "\n",
    "# Systemzustände\n",
    "conditions = Condition(capacities, resources, times)\n",
    "\n",
    "# Endzeitpunkte\n",
    "#end_times = End_Time(conditions)"
   ]
  },
  {
   "cell_type": "code",
   "execution_count": 4,
   "metadata": {
    "collapsed": false
   },
   "outputs": [
    {
     "name": "stdout",
     "output_type": "stream",
     "text": [
      "CPU times: user 3 µs, sys: 1e+03 ns, total: 4 µs\n",
      "Wall time: 7.87 µs\n",
      "149.09\n"
     ]
    }
   ],
   "source": [
    "%time\n",
    "print DP(solutions, conditions, products, resources, capacities, consumtions, times)"
   ]
  },
  {
   "cell_type": "code",
   "execution_count": 5,
   "metadata": {
    "collapsed": false
   },
   "outputs": [
    {
     "name": "stdout",
     "output_type": "stream",
     "text": [
      "Optimalen Politik zum Zeitpunkt \"t\" und unter Beachtung der Restkapazitäten \"c[h]\": \n",
      "\n",
      "     Successor  Res_Cap1  Time  Best Politic  r[j]-OC[j,c,t]\n",
      "3   [2, 10, 6]         2     3             2             391\n",
      "10         [9]         0     2             0               0\n",
      "6       [9, 5]         1     2             1              90\n",
      "2    [1, 5, 9]         2     2             2             440\n",
      "5       [8, 4]         1     1             1             100\n",
      "9          [8]         0     1             0               0\n",
      "1    [0, 8, 4]         2     1             2             500\n",
      "8        [end]         0     0             0               0\n",
      "4        [end]         1     0             0               0\n",
      "0        [end]         2     0             0               0 \n",
      "\n",
      "   Opt. Politic  from  to  Revenue  Cum_Rev\n",
      "3             2     3  10      500      500\n",
      "2             0    10   9        0      500\n",
      "1             0     9   8        0      500\n",
      "0             0     0   0        0      500 \n",
      "\n",
      "Optimalen Politik zum Zeitpunkt \"t\" und unter Beachtung der Restkapazitäten \"c[h]\" sowie der tatsächlich eintreffenden Nachfrage \"d[j,t]\": \n",
      "\n",
      "     Successor  Res_Cap1  Time  Best Politic  r[j]-OC[j,c,t]\n",
      "3   [2, 10, 6]         2     3             2             391\n",
      "10         [9]         0     2             0               0\n",
      "6       [9, 5]         1     2             0               0\n",
      "2    [1, 5, 9]         2     2             2             440\n",
      "5       [8, 4]         1     1             1             100\n",
      "9          [8]         0     1             0               0\n",
      "1    [0, 8, 4]         2     1             2             500\n",
      "8        [end]         0     0             0               0\n",
      "4        [end]         1     0             0               0\n",
      "0        [end]         2     0             0               0 \n",
      "\n",
      "   Opt. Politic  from  to  Revenue  Cum_Rev\n",
      "3             2     3  10      500      500\n",
      "2             0    10   9        0      500\n",
      "1             0     9   8        0      500\n",
      "0             0     0   0        0      500 \n",
      "\n",
      "CPU times: user 3 µs, sys: 1 µs, total: 4 µs\n",
      "Wall time: 9.06 µs\n"
     ]
    },
    {
     "data": {
      "image/png": "[encoded data removed]",
      "text/plain": [
       "<matplotlib.figure.Figure at 0x10774ddd0>"
      ]
     },
     "metadata": {},
     "output_type": "display_data"
    }
   ],
   "source": [
    "# Erstellung der Struktur als NetworkX-Graph\n",
    "graph = Structure(solutions, products, consumtions, revenues, probs)\n",
    "\n",
    "# Ermittlung der besten Politik (Dijkstra Algorithmus)\n",
    "Best_Politic(graph, times, resources)\n",
    "Best_Politic_Demand(graph, times, resources, demands)\n",
    "\n",
    "%time"
   ]
  },
  {
   "cell_type": "code",
   "execution_count": 6,
   "metadata": {
    "collapsed": false
   },
   "outputs": [
    {
     "data": {
      "image/png": "[encoded data removed]",
      "text/plain": [
       "<matplotlib.figure.Figure at 0x108043110>"
      ]
     },
     "metadata": {},
     "output_type": "display_data"
    }
   ],
   "source": [
    "Drawing(graph)"
   ]
  },
  {
   "cell_type": "code",
   "execution_count": null,
   "metadata": {
    "collapsed": true
   },
   "outputs": [],
   "source": []
  }
 ],
 "metadata": {
  "kernelspec": {
   "display_name": "Python 2",
   "language": "python",
   "name": "python2"
  },
  "language_info": {
   "codemirror_mode": {
    "name": "ipython",
    "version": 2
   },
   "file_extension": ".py",
   "mimetype": "text/x-python",
   "name": "python",
   "nbconvert_exporter": "python",
   "pygments_lexer": "ipython2",
   "version": "2.7.9"
  }
 },
 "nbformat": 4,
 "nbformat_minor": 0
}
