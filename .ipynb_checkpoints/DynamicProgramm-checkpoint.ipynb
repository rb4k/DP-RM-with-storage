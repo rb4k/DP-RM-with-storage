{
 "cells": [
  {
   "cell_type": "code",
   "execution_count": 1,
   "metadata": {
    "collapsed": true
   },
   "outputs": [],
   "source": [
    "__version__ = '0.3'\n",
    "__author__  = \"Robert Matern (r.matern@stud.uni-hannover.de)\"\n",
    "__date__    = ''\n",
    "__url__     = ''\n",
    "__copyright__ = \"(C) 2015 Robert Matern\""
   ]
  },
  {
   "cell_type": "code",
   "execution_count": 2,
   "metadata": {
    "collapsed": true
   },
   "outputs": [],
   "source": [
    "# import pandas as pd\n",
    "import numpy as np"
   ]
  },
  {
   "cell_type": "code",
   "execution_count": 3,
   "metadata": {
    "collapsed": false
   },
   "outputs": [],
   "source": [
    "import matplotlib.pyplot as plt\n",
    "%matplotlib inline"
   ]
  },
  {
   "cell_type": "markdown",
   "metadata": {},
   "source": [
    "#Dynamisches Programm"
   ]
  },
  {
   "cell_type": "markdown",
   "metadata": {},
   "source": [
    "Die normale Modellformulierung des Auftragsannahmeproblems im Revenue Management von Instandhaltungsprozessen:\n",
    "\n",
    "$$V(\\textbf{c}, t) = \\sum_{j \\in \\mathcal{J}}p_{j}(t)\\max[V(\\textbf{c}, t-1), r_{j} + V(\\textbf{c}-\\textbf{a}_j, t-1)] + p_{0}(t)V(\\textbf{c}, t-1) $$\n",
    "\n",
    "$$= V(\\textbf{c}, t-1) + \\sum_{j \\in \\mathcal{J}}p_{j}(t) \\max[r_j - V(\\textbf{c}, t-1) + V(\\textbf{c}-\\textbf{a}_j, t-1), 0]$$"
   ]
  },
  {
   "cell_type": "markdown",
   "metadata": {},
   "source": [
    "## Algorithmus"
   ]
  },
  {
   "cell_type": "code",
   "execution_count": 4,
   "metadata": {
    "collapsed": false
   },
   "outputs": [],
   "source": [
    "def DP(products, resources, capacities, consumtions, times):\n",
    "    value = 0\n",
    "    if times.any()!=0:\n",
    "        value2 = 0\n",
    "        value3 = np.zeros(shape=(len(products[1:])), dtype=np.uint8)\n",
    "        for t in range(len(times)):\n",
    "            for j in products[1:]:\n",
    "                value2 = (DP(products, resources, capacities, consumtions, times[1:]))\n",
    "                value3[j-1] = probs[j][t]*(revenues[j]-DP(products, resources, capacities, consumtions, times[1:])+DP(products, resources, capacities-consumtions[j], consumtions, times[1:]))\n",
    "        value = value2 + np.sum(value3)  \n",
    "    else:\n",
    "        value_inside = 0\n",
    "        for t in range(len(times)):\n",
    "            for j in products[1:]:\n",
    "                value_inside += (probs[j][t]*revenues[j])\n",
    "        return value_inside\n",
    "    return value"
   ]
  },
  {
   "cell_type": "raw",
   "metadata": {
    "collapsed": false
   },
   "source": [
    "def Value(conditions):\n",
    "    values = [] \n",
    "    for i in range(len(conditions)):\n",
    "        if conditions[i][1] == 0:\n",
    "            values = values + [[conditions[i], 0]]\n",
    "        else:\n",
    "            values = values + [[conditions[i], None]]\n",
    "    return values\n",
    "\n",
    "values = Value(conditions)\n",
    "values"
   ]
  }
 ],
 "metadata": {
  "kernelspec": {
   "display_name": "Python 2",
   "language": "python",
   "name": "python2"
  },
  "language_info": {
   "codemirror_mode": {
    "name": "ipython",
    "version": 2
   },
   "file_extension": ".py",
   "mimetype": "text/x-python",
   "name": "python",
   "nbconvert_exporter": "python",
   "pygments_lexer": "ipython2",
   "version": "2.7.9"
  }
 },
 "nbformat": 4,
 "nbformat_minor": 0
}
