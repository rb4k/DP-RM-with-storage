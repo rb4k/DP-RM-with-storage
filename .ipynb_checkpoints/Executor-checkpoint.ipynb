{
 "cells": [
  {
   "cell_type": "code",
   "execution_count": 1,
   "metadata": {
    "collapsed": true
   },
   "outputs": [],
   "source": [
    "__version__ = '0.3'\n",
    "__author__  = \"Robert Matern (r.matern@stud.uni-hannover.de)\"\n",
    "__date__    = ''\n",
    "__url__     = ''\n",
    "__copyright__ = \"(C) 2015 Robert Matern\""
   ]
  },
  {
   "cell_type": "markdown",
   "metadata": {},
   "source": [
    "# Ausführungsdatei"
   ]
  },
  {
   "cell_type": "code",
   "execution_count": 2,
   "metadata": {
    "collapsed": false
   },
   "outputs": [
    {
     "name": "stdout",
     "output_type": "stream",
     "text": [
      "Python Version 2.7.9 |Anaconda 2.2.0 (x86_64)| (default, Dec 15 2014, 10:37:34) \n",
      "[GCC 4.2.1 (Apple Inc. build 5577)]\n",
      "Numpy Version 1.9.2\n",
      "Matplotlib Version 1.4.3\n",
      "Pandas Version 0.15.2\n"
     ]
    }
   ],
   "source": [
    "# Funktionen werden hinzugeladen.\n",
    "%run Parameter.ipynb\n",
    "%run DynamicProgramm.ipynb"
   ]
  },
  {
   "cell_type": "code",
   "execution_count": 3,
   "metadata": {
    "collapsed": false
   },
   "outputs": [
    {
     "name": "stdout",
     "output_type": "stream",
     "text": [
      "0:00:00.000394\n"
     ]
    }
   ],
   "source": [
    "# Beispiel wird hinzugeladen.\n",
    "%run Data01.ipynb"
   ]
  },
  {
   "cell_type": "code",
   "execution_count": 4,
   "metadata": {
    "collapsed": true
   },
   "outputs": [],
   "source": [
    "# Grafiken werden im IPython Notebook angezeigt.\n",
    "%matplotlib inline"
   ]
  },
  {
   "cell_type": "markdown",
   "metadata": {},
   "source": [
    "Als ersten Schritt werden für alle möglichen Systemzustände des Beispiels die jeweiligen Erwartungswerte berechnet. Dies erfolgt über eine Implementierung der Dynamischen Programmierung der mathematischen Modellformulierung des Problems der Auftragsannahme im Revenue Management (siehe Bellman-Gleichung)."
   ]
  },
  {
   "cell_type": "code",
   "execution_count": 5,
   "metadata": {
    "collapsed": false
   },
   "outputs": [
    {
     "name": "stdout",
     "output_type": "stream",
     "text": [
      "231.25\n",
      "CPU times: user 5.9 ms, sys: 643 µs, total: 6.55 ms\n",
      "Wall time: 6.69 ms\n"
     ]
    }
   ],
   "source": [
    "%time print DP(solutions, conditions, products, resources, capacities, consumtions, times, probs)"
   ]
  },
  {
   "cell_type": "code",
   "execution_count": 6,
   "metadata": {
    "collapsed": false
   },
   "outputs": [
    {
     "name": "stdout",
     "output_type": "stream",
     "text": [
      "CPU times: user 5.51 ms, sys: 42 µs, total: 5.55 ms\n",
      "Wall time: 12.1 ms\n",
      "Optimalen Politik zum Zeitpunkt \"t\" und unter Beachtung der Restkapazitäten \"c[h]\": \n",
      "\n",
      "         Value     Successor  Res_Cap1  Res_Cap2  Time  Best Order  \\\n",
      "4   231.250000    [8, 3, 13]         2         1     4           2   \n",
      "8   137.500000       [17, 7]         2         0     3           1   \n",
      "13  141.703125  [17, 12, 22]         1         1     3           2   \n",
      "17   75.000000      [16, 26]         1         0     2           1   \n",
      "22   38.000000      [26, 21]         0         1     2           2   \n",
      "26    0.000000          [25]         0         0     1           0   \n",
      "3   191.687500    [2, 12, 7]         2         1     3           2   \n",
      "12  113.000000  [16, 11, 21]         1         1     2           2   \n",
      "21   20.000000      [25, 20]         0         1     1           2   \n",
      "7   100.000000       [16, 6]         2         0     2           1   \n",
      "16   50.000000      [25, 15]         1         0     1           1   \n",
      "25    0.000000         [end]         0         0     0           0   \n",
      "2   138.000000    [1, 11, 6]         2         1     2           2   \n",
      "11   70.000000  [10, 20, 15]         1         1     1           2   \n",
      "20    0.000000         [end]         0         1     0           0   \n",
      "6    50.000000       [5, 15]         2         0     1           1   \n",
      "15    0.000000         [end]         1         0     0           0   \n",
      "1    70.000000    [0, 10, 5]         2         1     1           2   \n",
      "10    0.000000         [end]         1         1     0           0   \n",
      "5     0.000000         [end]         2         0     0           0   \n",
      "0     0.000000         [end]         2         1     0           0   \n",
      "\n",
      "    Best Successor  r[j]-OC[j,c,t]  \n",
      "4                8        145.8125  \n",
      "8               17         75.0000  \n",
      "13              17        162.0000  \n",
      "17              26         50.0000  \n",
      "22              26        180.0000  \n",
      "26              25          0.0000  \n",
      "3                7        162.0000  \n",
      "12              16        180.0000  \n",
      "21              25        200.0000  \n",
      "7               16        100.0000  \n",
      "16              25        100.0000  \n",
      "25               0          0.0000  \n",
      "2                6        180.0000  \n",
      "11              15        200.0000  \n",
      "20               0          0.0000  \n",
      "6               15        100.0000  \n",
      "15               0          0.0000  \n",
      "1                5        200.0000  \n",
      "10               0          0.0000  \n",
      "5                0          0.0000  \n",
      "0                0          0.0000   \n",
      "\n",
      "   Opt. Politic  from  to  Revenue  Cum_Rev\n",
      "4             2     4   8      200      200\n",
      "3             1     8  17      100      300\n",
      "2             1    17  26      100      400\n",
      "1             0    26  25        0      400\n",
      "0             0     0   0        0      400 \n",
      "\n",
      "CPU times: user 99.1 ms, sys: 4.45 ms, total: 104 ms\n",
      "Wall time: 215 ms\n",
      "Optimalen Politik zum Zeitpunkt \"t\" und unter Beachtung der Restkapazitäten \"c[h]\" sowie der tatsächlich eintreffenden Nachfrage \"d[j,t]\": \n",
      "\n",
      "         Value     Successor  Res_Cap1  Res_Cap2  Time  Best Order  \\\n",
      "4   231.250000    [8, 3, 13]         2         1     4           2   \n",
      "8   137.500000       [17, 7]         2         0     3           0   \n",
      "13  141.703125  [17, 12, 22]         1         1     3           2   \n",
      "17   75.000000      [16, 26]         1         0     2           0   \n",
      "22   38.000000      [26, 21]         0         1     2           2   \n",
      "26    0.000000          [25]         0         0     1           0   \n",
      "3   191.687500    [2, 12, 7]         2         1     3           2   \n",
      "12  113.000000  [16, 11, 21]         1         1     2           2   \n",
      "21   20.000000      [25, 20]         0         1     1           2   \n",
      "7   100.000000       [16, 6]         2         0     2           0   \n",
      "16   50.000000      [25, 15]         1         0     1           1   \n",
      "25    0.000000         [end]         0         0     0           0   \n",
      "2   138.000000    [1, 11, 6]         2         1     2           2   \n",
      "11   70.000000  [10, 20, 15]         1         1     1           2   \n",
      "20    0.000000         [end]         0         1     0           0   \n",
      "6    50.000000       [5, 15]         2         0     1           1   \n",
      "15    0.000000         [end]         1         0     0           0   \n",
      "1    70.000000    [0, 10, 5]         2         1     1           2   \n",
      "10    0.000000         [end]         1         1     0           0   \n",
      "5     0.000000         [end]         2         0     0           0   \n",
      "0     0.000000         [end]         2         1     0           0   \n",
      "\n",
      "    Best Successor  r[j]-OC[j,c,t]  \n",
      "4                8        145.8125  \n",
      "8                7          0.0000  \n",
      "13              17        162.0000  \n",
      "17              16          0.0000  \n",
      "22              26        180.0000  \n",
      "26              25          0.0000  \n",
      "3                7        162.0000  \n",
      "12              16        180.0000  \n",
      "21              25        200.0000  \n",
      "7                6          0.0000  \n",
      "16              25        100.0000  \n",
      "25               0          0.0000  \n",
      "2                6        180.0000  \n",
      "11              15        200.0000  \n",
      "20               0          0.0000  \n",
      "6               15        100.0000  \n",
      "15               0          0.0000  \n",
      "1                5        200.0000  \n",
      "10               0          0.0000  \n",
      "5                0          0.0000  \n",
      "0                0          0.0000   \n",
      "\n",
      "   Opt. Politic  from  to  Revenue  Cum_Rev_Demand\n",
      "4             2     4   8      200             200\n",
      "3             0     8   7        0             200\n",
      "2             0     7   6        0             200\n",
      "1             1     6  15      100             300\n",
      "0             0     0   0        0             300 \n",
      "\n",
      "CPU times: user 38.8 ms, sys: 923 µs, total: 39.7 ms\n",
      "Wall time: 95.3 ms\n"
     ]
    }
   ],
   "source": [
    "# Erstellung der Struktur als NetworkX-Graph\n",
    "%time graph = Structure(solutions, conditions, products, consumtions, revenues)\n",
    "\n",
    "# Ermittlung der besten Politik (Dijkstra Algorithmus)\n",
    "%time db, df = Best_Politic(graph, times, resources)\n",
    "%time db_demand, df_demand = Best_Politic_Demand(graph, times, resources, demands)"
   ]
  },
  {
   "cell_type": "code",
   "execution_count": 7,
   "metadata": {
    "collapsed": false
   },
   "outputs": [
    {
     "name": "stdout",
     "output_type": "stream",
     "text": [
      "Kürzester Pfad: [4, 13, 22, 26, 25] \n",
      "\n",
      "None\n",
      "CPU times: user 582 µs, sys: 1 µs, total: 583 µs\n",
      "Wall time: 589 µs\n"
     ]
    }
   ],
   "source": [
    "%time print Best_Path(graph, times)"
   ]
  },
  {
   "cell_type": "code",
   "execution_count": 8,
   "metadata": {
    "collapsed": false
   },
   "outputs": [
    {
     "name": "stdout",
     "output_type": "stream",
     "text": [
      "CPU times: user 655 ms, sys: 44.9 ms, total: 700 ms\n",
      "Wall time: 2.95 s\n"
     ]
    },
    {
     "data": {
      "image/png": "[encoded data removed]",
      "text/plain": [
       "<matplotlib.figure.Figure at 0x101f9ff90>"
      ]
     },
     "metadata": {},
     "output_type": "display_data"
    },
    {
     "data": {
      "image/png": "[encoded data removed]",
      "text/plain": [
       "<matplotlib.figure.Figure at 0x107855410>"
      ]
     },
     "metadata": {},
     "output_type": "display_data"
    }
   ],
   "source": [
    "%time Drawing(graph, db, df, db_demand, df_demand)"
   ]
  },
  {
   "cell_type": "code",
   "execution_count": 11,
   "metadata": {
    "collapsed": false
   },
   "outputs": [
    {
     "name": "stderr",
     "output_type": "stream",
     "text": [
      "/Users/Superuser/anaconda/lib/python2.7/site-packages/matplotlib/__init__.py:1318: UserWarning:  This call to matplotlib.use() has no effect\n",
      "because the backend has already been chosen;\n",
      "matplotlib.use() must be called *before* pylab, matplotlib.pyplot,\n",
      "or matplotlib.backends is imported for the first time.\n",
      "\n",
      "  warnings.warn(_use_error_msg)\n"
     ]
    },
    {
     "ename": "KeyError",
     "evalue": "'ffmpeg'",
     "output_type": "error",
     "traceback": [
      "\u001b[0;31m---------------------------------------------------------------------------\u001b[0m",
      "\u001b[0;31mKeyError\u001b[0m                                  Traceback (most recent call last)",
      "\u001b[0;32m<ipython-input-11-8a44a0672cef>\u001b[0m in \u001b[0;36m<module>\u001b[0;34m()\u001b[0m\n\u001b[1;32m     13\u001b[0m \u001b[0;34m\u001b[0m\u001b[0m\n\u001b[1;32m     14\u001b[0m \u001b[0;31m# Set up formatting for the movie files\u001b[0m\u001b[0;34m\u001b[0m\u001b[0;34m\u001b[0m\u001b[0m\n\u001b[0;32m---> 15\u001b[0;31m \u001b[0mWriter\u001b[0m \u001b[0;34m=\u001b[0m \u001b[0manimation\u001b[0m\u001b[0;34m.\u001b[0m\u001b[0mwriters\u001b[0m\u001b[0;34m[\u001b[0m\u001b[0;34m'ffmpeg'\u001b[0m\u001b[0;34m]\u001b[0m\u001b[0;34m\u001b[0m\u001b[0m\n\u001b[0m\u001b[1;32m     16\u001b[0m \u001b[0mwriter\u001b[0m \u001b[0;34m=\u001b[0m \u001b[0mWriter\u001b[0m\u001b[0;34m(\u001b[0m\u001b[0mfps\u001b[0m\u001b[0;34m=\u001b[0m\u001b[0;36m15\u001b[0m\u001b[0;34m,\u001b[0m \u001b[0mmetadata\u001b[0m\u001b[0;34m=\u001b[0m\u001b[0mdict\u001b[0m\u001b[0;34m(\u001b[0m\u001b[0martist\u001b[0m\u001b[0;34m=\u001b[0m\u001b[0;34m'Me'\u001b[0m\u001b[0;34m)\u001b[0m\u001b[0;34m,\u001b[0m \u001b[0mbitrate\u001b[0m\u001b[0;34m=\u001b[0m\u001b[0;36m1800\u001b[0m\u001b[0;34m)\u001b[0m\u001b[0;34m\u001b[0m\u001b[0m\n\u001b[1;32m     17\u001b[0m \u001b[0;34m\u001b[0m\u001b[0m\n",
      "\u001b[0;32m/Users/Superuser/anaconda/lib/python2.7/site-packages/matplotlib/animation.pyc\u001b[0m in \u001b[0;36m__getitem__\u001b[0;34m(self, name)\u001b[0m\n\u001b[1;32m     79\u001b[0m         \u001b[0;32mif\u001b[0m \u001b[0;32mnot\u001b[0m \u001b[0mself\u001b[0m\u001b[0;34m.\u001b[0m\u001b[0mavail\u001b[0m\u001b[0;34m:\u001b[0m\u001b[0;34m\u001b[0m\u001b[0m\n\u001b[1;32m     80\u001b[0m             \u001b[0;32mraise\u001b[0m \u001b[0mRuntimeError\u001b[0m\u001b[0;34m(\u001b[0m\u001b[0;34m\"No MovieWriters available!\"\u001b[0m\u001b[0;34m)\u001b[0m\u001b[0;34m\u001b[0m\u001b[0m\n\u001b[0;32m---> 81\u001b[0;31m         \u001b[0;32mreturn\u001b[0m \u001b[0mself\u001b[0m\u001b[0;34m.\u001b[0m\u001b[0mavail\u001b[0m\u001b[0;34m[\u001b[0m\u001b[0mname\u001b[0m\u001b[0;34m]\u001b[0m\u001b[0;34m\u001b[0m\u001b[0m\n\u001b[0m\u001b[1;32m     82\u001b[0m \u001b[0;34m\u001b[0m\u001b[0m\n\u001b[1;32m     83\u001b[0m \u001b[0mwriters\u001b[0m \u001b[0;34m=\u001b[0m \u001b[0mMovieWriterRegistry\u001b[0m\u001b[0;34m(\u001b[0m\u001b[0;34m)\u001b[0m\u001b[0;34m\u001b[0m\u001b[0m\n",
      "\u001b[0;31mKeyError\u001b[0m: 'ffmpeg'"
     ]
    }
   ],
   "source": [
    "# Same as basic_example, but writes files using a single MovieWriter instance\n",
    "# without putting on screen\n",
    "# -*- noplot -*-\n",
    "import numpy as np\n",
    "import matplotlib\n",
    "matplotlib.use(\"Agg\")\n",
    "import matplotlib.pyplot as plt\n",
    "import matplotlib.animation as animation\n",
    "\n",
    "def update_line(num, data, line):\n",
    "    line.set_data(data[...,:num])\n",
    "    return line,\n",
    "\n",
    "# Set up formatting for the movie files\n",
    "Writer = animation.writers['ffmpeg']\n",
    "writer = Writer(fps=15, metadata=dict(artist='Me'), bitrate=1800)\n",
    "\n",
    "\n",
    "fig1 = plt.figure()\n",
    "\n",
    "data = np.random.rand(2, 25)\n",
    "l, = plt.plot([], [], 'r-')\n",
    "plt.xlim(0, 1)\n",
    "plt.ylim(0, 1)\n",
    "plt.xlabel('x')\n",
    "plt.title('test')\n",
    "line_ani = animation.FuncAnimation(fig1, update_line, 25, fargs=(data, l),\n",
    "    interval=50, blit=True)\n",
    "line_ani.save('lines.mp4', writer=writer)\n",
    "\n",
    "fig2 = plt.figure()\n",
    "\n",
    "x = np.arange(-9, 10)\n",
    "y = np.arange(-9, 10).reshape(-1, 1)\n",
    "base = np.hypot(x, y)\n",
    "ims = []\n",
    "for add in np.arange(15):\n",
    "    ims.append((plt.pcolor(x, y, base + add, norm=plt.Normalize(0, 30)),))\n",
    "\n",
    "im_ani = animation.ArtistAnimation(fig2, ims, interval=50, repeat_delay=3000,\n",
    "    blit=True)\n",
    "im_ani.save('im.mp4', writer=writer)\n"
   ]
  },
  {
   "cell_type": "code",
   "execution_count": null,
   "metadata": {
    "collapsed": true
   },
   "outputs": [],
   "source": []
  }
 ],
 "metadata": {
  "kernelspec": {
   "display_name": "Python 2",
   "language": "python",
   "name": "python2"
  },
  "language_info": {
   "codemirror_mode": {
    "name": "ipython",
    "version": 2
   },
   "file_extension": ".py",
   "mimetype": "text/x-python",
   "name": "python",
   "nbconvert_exporter": "python",
   "pygments_lexer": "ipython2",
   "version": "2.7.9"
  }
 },
 "nbformat": 4,
 "nbformat_minor": 0
}
