{
 "cells": [
  {
   "cell_type": "code",
   "execution_count": 179,
   "metadata": {
    "collapsed": true
   },
   "outputs": [],
   "source": [
    "__version__ = '0.3'\n",
    "__author__  = \"Robert Matern (r.matern@stud.uni-hannover.de)\"\n",
    "__date__    = ''\n",
    "__url__     = ''\n",
    "__copyright__ = \"(C) 2015 Robert Matern\""
   ]
  },
  {
   "cell_type": "markdown",
   "metadata": {},
   "source": [
    "# Ausführungsdatei"
   ]
  },
  {
   "cell_type": "code",
   "execution_count": 180,
   "metadata": {
    "collapsed": false
   },
   "outputs": [
    {
     "name": "stdout",
     "output_type": "stream",
     "text": [
      "Python Version 2.7.9 |Anaconda 2.2.0 (x86_64)| (default, Dec 15 2014, 10:37:34) \n",
      "[GCC 4.2.1 (Apple Inc. build 5577)]\n",
      "Numpy Version 1.9.2\n",
      "Matplotlib Version 1.4.3\n",
      "Pandas Version 0.15.2\n"
     ]
    }
   ],
   "source": [
    "# Funktionen werden hinzugeladen.\n",
    "%run Parameter.ipynb\n",
    "%run DynamicProgramm.ipynb"
   ]
  },
  {
   "cell_type": "code",
   "execution_count": 181,
   "metadata": {
    "collapsed": false
   },
   "outputs": [
    {
     "name": "stdout",
     "output_type": "stream",
     "text": [
      "0:00:00.000329\n"
     ]
    }
   ],
   "source": [
    "# Beispiel wird hinzugeladen.\n",
    "%run Data01.ipynb"
   ]
  },
  {
   "cell_type": "code",
   "execution_count": 182,
   "metadata": {
    "collapsed": true
   },
   "outputs": [],
   "source": [
    "# Grafiken werden im IPython Notebook angezeigt.\n",
    "%matplotlib inline"
   ]
  },
  {
   "cell_type": "markdown",
   "metadata": {},
   "source": [
    "Als ersten Schritt werden für alle möglichen Systemzustände des Beispiels die jeweiligen Erwartungswerte berechnet. Dies erfolgt über eine Implementierung der Dynamischen Programmierung der mathematischen Modellformulierung des Problems der Auftragsannahme im Revenue Management (siehe Bellman-Gleichung)."
   ]
  },
  {
   "cell_type": "code",
   "execution_count": 183,
   "metadata": {
    "collapsed": false
   },
   "outputs": [
    {
     "name": "stdout",
     "output_type": "stream",
     "text": [
      "231.25\n",
      "CPU times: user 6.38 ms, sys: 87 µs, total: 6.47 ms\n",
      "Wall time: 11.7 ms\n",
      "{0: [array([2, 1, 0]), 0.0, 0], 1: [array([2, 1, 1]), 70.0, 2], 2: [array([2, 1, 2]), 138.0, 2], 3: [array([2, 1, 3]), 191.6875, 2], 4: [array([2, 1, 4]), 231.25, 2], 5: [array([2, 0, 0]), 0.0, 0], 6: [array([2, 0, 1]), 50.0, 1], 7: [array([2, 0, 2]), 100.0, 1], 8: [array([2, 0, 3]), 137.5, 1], 10: [array([1, 1, 0]), 0.0, 0], 11: [array([1, 1, 1]), 70.0, 2], 12: [array([1, 1, 2]), 113.0, 2], 13: [array([1, 1, 3]), 141.70312, 2], 15: [array([1, 0, 0]), 0.0, 0], 16: [array([1, 0, 1]), 50.0, 1], 17: [array([1, 0, 2]), 75.0, 1], 20: [array([0, 1, 0]), 0.0, 0], 21: [array([0, 1, 1]), 20.0, 2], 22: [array([0, 1, 2]), 38.0, 2], 25: [array([0, 0, 0]), 0.0, 0], 26: [array([0, 0, 1]), 0.0, 1]}\n"
     ]
    }
   ],
   "source": [
    "%time print DP(solutions, conditions, products, resources, capacities, consumtions, times, probs)"
   ]
  },
  {
   "cell_type": "code",
   "execution_count": 184,
   "metadata": {
    "collapsed": false
   },
   "outputs": [
    {
     "name": "stdout",
     "output_type": "stream",
     "text": [
      "CPU times: user 5.66 ms, sys: 71 µs, total: 5.73 ms\n",
      "Wall time: 15.1 ms\n",
      "Optimalen Politik zum Zeitpunkt \"t\" und unter Beachtung der Restkapazitäten \"c[h]\": \n",
      "\n",
      "         Value     Successor  Res_Cap1  Res_Cap2  Time  Best Order  \\\n",
      "4   231.250000    [8, 3, 13]         2         1     4           2   \n",
      "8   137.500000       [17, 7]         2         0     3           1   \n",
      "13  141.703125  [17, 12, 22]         1         1     3           2   \n",
      "17   75.000000      [16, 26]         1         0     2           1   \n",
      "22   38.000000      [26, 21]         0         1     2           2   \n",
      "26    0.000000          [25]         0         0     1           0   \n",
      "3   191.687500    [2, 12, 7]         2         1     3           2   \n",
      "12  113.000000  [16, 11, 21]         1         1     2           2   \n",
      "21   20.000000      [25, 20]         0         1     1           2   \n",
      "7   100.000000       [16, 6]         2         0     2           1   \n",
      "16   50.000000      [25, 15]         1         0     1           1   \n",
      "25    0.000000         [end]         0         0     0           0   \n",
      "2   138.000000    [1, 11, 6]         2         1     2           2   \n",
      "11   70.000000  [10, 20, 15]         1         1     1           2   \n",
      "20    0.000000         [end]         0         1     0           0   \n",
      "6    50.000000       [5, 15]         2         0     1           1   \n",
      "15    0.000000         [end]         1         0     0           0   \n",
      "1    70.000000    [0, 10, 5]         2         1     1           2   \n",
      "10    0.000000         [end]         1         1     0           0   \n",
      "5     0.000000         [end]         2         0     0           0   \n",
      "0     0.000000         [end]         2         1     0           0   \n",
      "\n",
      "    Best Successor  r[j]-OC[j,c,t]  \n",
      "4                8        145.8125  \n",
      "8               17         75.0000  \n",
      "13              17        162.0000  \n",
      "17              26         50.0000  \n",
      "22              26        180.0000  \n",
      "26              25          0.0000  \n",
      "3                7        162.0000  \n",
      "12              16        180.0000  \n",
      "21              25        200.0000  \n",
      "7               16        100.0000  \n",
      "16              25        100.0000  \n",
      "25               0          0.0000  \n",
      "2                6        180.0000  \n",
      "11              15        200.0000  \n",
      "20               0          0.0000  \n",
      "6               15        100.0000  \n",
      "15               0          0.0000  \n",
      "1                5        200.0000  \n",
      "10               0          0.0000  \n",
      "5                0          0.0000  \n",
      "0                0          0.0000   \n",
      "\n",
      "   Opt. Politic  from  to  Revenue  Cum_Rev\n",
      "4             2     4   8      200      200\n",
      "3             1     8  17      100      300\n",
      "2             1    17  26      100      400\n",
      "1             0    26  25        0      400\n",
      "0             0     0   0        0      400 \n",
      "\n",
      "CPU times: user 38.8 ms, sys: 632 µs, total: 39.5 ms\n",
      "Wall time: 43.3 ms\n",
      "Optimalen Politik zum Zeitpunkt \"t\" und unter Beachtung der Restkapazitäten \"c[h]\" sowie der tatsächlich eintreffenden Nachfrage \"d[j,t]\": \n",
      "\n",
      "         Value     Successor  Res_Cap1  Res_Cap2  Time  Best Order  \\\n",
      "4   231.250000    [8, 3, 13]         2         1     4           2   \n",
      "8   137.500000       [17, 7]         2         0     3           0   \n",
      "13  141.703125  [17, 12, 22]         1         1     3           2   \n",
      "17   75.000000      [16, 26]         1         0     2           0   \n",
      "22   38.000000      [26, 21]         0         1     2           2   \n",
      "26    0.000000          [25]         0         0     1           0   \n",
      "3   191.687500    [2, 12, 7]         2         1     3           2   \n",
      "12  113.000000  [16, 11, 21]         1         1     2           2   \n",
      "21   20.000000      [25, 20]         0         1     1           0   \n",
      "7   100.000000       [16, 6]         2         0     2           0   \n",
      "16   50.000000      [25, 15]         1         0     1           1   \n",
      "25    0.000000         [end]         0         0     0           0   \n",
      "2   138.000000    [1, 11, 6]         2         1     2           2   \n",
      "11   70.000000  [10, 20, 15]         1         1     1           1   \n",
      "20    0.000000         [end]         0         1     0           0   \n",
      "6    50.000000       [5, 15]         2         0     1           1   \n",
      "15    0.000000         [end]         1         0     0           0   \n",
      "1    70.000000    [0, 10, 5]         2         1     1           1   \n",
      "10    0.000000         [end]         1         1     0           0   \n",
      "5     0.000000         [end]         2         0     0           0   \n",
      "0     0.000000         [end]         2         1     0           0   \n",
      "\n",
      "    Best Successor  r[j]-OC[j,c,t]  \n",
      "4                8        145.8125  \n",
      "8                7          0.0000  \n",
      "13              17        162.0000  \n",
      "17              16          0.0000  \n",
      "22              26        180.0000  \n",
      "26              25          0.0000  \n",
      "3                7        162.0000  \n",
      "12              16        180.0000  \n",
      "21              20          0.0000  \n",
      "7                6          0.0000  \n",
      "16              25        100.0000  \n",
      "25               0          0.0000  \n",
      "2                6        180.0000  \n",
      "11              20        100.0000  \n",
      "20               0          0.0000  \n",
      "6               15        100.0000  \n",
      "15               0          0.0000  \n",
      "1               10        100.0000  \n",
      "10               0          0.0000  \n",
      "5                0          0.0000  \n",
      "0                0          0.0000   \n",
      "\n",
      "   Opt. Politic  from  to  Revenue  Cum_Rev_Demand\n",
      "4             2     4   8      200             200\n",
      "3             0     8   7        0             200\n",
      "2             0     7   6        0             200\n",
      "1             1     6  15      100             300\n",
      "0             0     0   0        0             300 \n",
      "\n",
      "CPU times: user 37.7 ms, sys: 735 µs, total: 38.4 ms\n",
      "Wall time: 40.4 ms\n"
     ]
    }
   ],
   "source": [
    "# Erstellung der Struktur als NetworkX-Graph\n",
    "%time graph = Structure(solutions, conditions, products, consumtions, revenues)\n",
    "\n",
    "# Ermittlung der besten Politik (Dijkstra Algorithmus)\n",
    "%time db, df = Best_Politic(graph, times, resources)\n",
    "%time db_demand, df_demand = Best_Politic_Demand(graph, times, resources, demands)"
   ]
  },
  {
   "cell_type": "code",
   "execution_count": 185,
   "metadata": {
    "collapsed": false
   },
   "outputs": [
    {
     "name": "stdout",
     "output_type": "stream",
     "text": [
      "Kürzester Pfad: [4, 13, 22, 26, 25] \n",
      "\n",
      "None\n",
      "CPU times: user 671 µs, sys: 12 µs, total: 683 µs\n",
      "Wall time: 964 µs\n"
     ]
    }
   ],
   "source": [
    "%time print Best_Path(graph, times)"
   ]
  },
  {
   "cell_type": "code",
   "execution_count": 186,
   "metadata": {
    "collapsed": false
   },
   "outputs": [
    {
     "ename": "NameError",
     "evalue": "global name 'styles1' is not defined",
     "output_type": "error",
     "traceback": [
      "\u001b[0;31m---------------------------------------------------------------------------\u001b[0m",
      "\u001b[0;31mNameError\u001b[0m                                 Traceback (most recent call last)",
      "\u001b[0;32m<ipython-input-186-d38abcf72810>\u001b[0m in \u001b[0;36m<module>\u001b[0;34m()\u001b[0m\n\u001b[0;32m----> 1\u001b[0;31m \u001b[0mget_ipython\u001b[0m\u001b[0;34m(\u001b[0m\u001b[0;34m)\u001b[0m\u001b[0;34m.\u001b[0m\u001b[0mmagic\u001b[0m\u001b[0;34m(\u001b[0m\u001b[0;34mu'time Drawing(graph, db, df, db_demand, df_demand)'\u001b[0m\u001b[0;34m)\u001b[0m\u001b[0;34m\u001b[0m\u001b[0m\n\u001b[0m",
      "\u001b[0;32m/Users/Superuser/anaconda/lib/python2.7/site-packages/IPython/core/interactiveshell.pyc\u001b[0m in \u001b[0;36mmagic\u001b[0;34m(self, arg_s)\u001b[0m\n\u001b[1;32m   2305\u001b[0m         \u001b[0mmagic_name\u001b[0m\u001b[0;34m,\u001b[0m \u001b[0m_\u001b[0m\u001b[0;34m,\u001b[0m \u001b[0mmagic_arg_s\u001b[0m \u001b[0;34m=\u001b[0m \u001b[0marg_s\u001b[0m\u001b[0;34m.\u001b[0m\u001b[0mpartition\u001b[0m\u001b[0;34m(\u001b[0m\u001b[0;34m' '\u001b[0m\u001b[0;34m)\u001b[0m\u001b[0;34m\u001b[0m\u001b[0m\n\u001b[1;32m   2306\u001b[0m         \u001b[0mmagic_name\u001b[0m \u001b[0;34m=\u001b[0m \u001b[0mmagic_name\u001b[0m\u001b[0;34m.\u001b[0m\u001b[0mlstrip\u001b[0m\u001b[0;34m(\u001b[0m\u001b[0mprefilter\u001b[0m\u001b[0;34m.\u001b[0m\u001b[0mESC_MAGIC\u001b[0m\u001b[0;34m)\u001b[0m\u001b[0;34m\u001b[0m\u001b[0m\n\u001b[0;32m-> 2307\u001b[0;31m         \u001b[0;32mreturn\u001b[0m \u001b[0mself\u001b[0m\u001b[0;34m.\u001b[0m\u001b[0mrun_line_magic\u001b[0m\u001b[0;34m(\u001b[0m\u001b[0mmagic_name\u001b[0m\u001b[0;34m,\u001b[0m \u001b[0mmagic_arg_s\u001b[0m\u001b[0;34m)\u001b[0m\u001b[0;34m\u001b[0m\u001b[0m\n\u001b[0m\u001b[1;32m   2308\u001b[0m \u001b[0;34m\u001b[0m\u001b[0m\n\u001b[1;32m   2309\u001b[0m     \u001b[0;31m#-------------------------------------------------------------------------\u001b[0m\u001b[0;34m\u001b[0m\u001b[0;34m\u001b[0m\u001b[0m\n",
      "\u001b[0;32m/Users/Superuser/anaconda/lib/python2.7/site-packages/IPython/core/interactiveshell.pyc\u001b[0m in \u001b[0;36mrun_line_magic\u001b[0;34m(self, magic_name, line)\u001b[0m\n\u001b[1;32m   2226\u001b[0m                 \u001b[0mkwargs\u001b[0m\u001b[0;34m[\u001b[0m\u001b[0;34m'local_ns'\u001b[0m\u001b[0;34m]\u001b[0m \u001b[0;34m=\u001b[0m \u001b[0msys\u001b[0m\u001b[0;34m.\u001b[0m\u001b[0m_getframe\u001b[0m\u001b[0;34m(\u001b[0m\u001b[0mstack_depth\u001b[0m\u001b[0;34m)\u001b[0m\u001b[0;34m.\u001b[0m\u001b[0mf_locals\u001b[0m\u001b[0;34m\u001b[0m\u001b[0m\n\u001b[1;32m   2227\u001b[0m             \u001b[0;32mwith\u001b[0m \u001b[0mself\u001b[0m\u001b[0;34m.\u001b[0m\u001b[0mbuiltin_trap\u001b[0m\u001b[0;34m:\u001b[0m\u001b[0;34m\u001b[0m\u001b[0m\n\u001b[0;32m-> 2228\u001b[0;31m                 \u001b[0mresult\u001b[0m \u001b[0;34m=\u001b[0m \u001b[0mfn\u001b[0m\u001b[0;34m(\u001b[0m\u001b[0;34m*\u001b[0m\u001b[0margs\u001b[0m\u001b[0;34m,\u001b[0m\u001b[0;34m**\u001b[0m\u001b[0mkwargs\u001b[0m\u001b[0;34m)\u001b[0m\u001b[0;34m\u001b[0m\u001b[0m\n\u001b[0m\u001b[1;32m   2229\u001b[0m             \u001b[0;32mreturn\u001b[0m \u001b[0mresult\u001b[0m\u001b[0;34m\u001b[0m\u001b[0m\n\u001b[1;32m   2230\u001b[0m \u001b[0;34m\u001b[0m\u001b[0m\n",
      "\u001b[0;32m/Users/Superuser/anaconda/lib/python2.7/site-packages/IPython/core/magics/execution.pyc\u001b[0m in \u001b[0;36mtime\u001b[0;34m(self, line, cell, local_ns)\u001b[0m\n",
      "\u001b[0;32m/Users/Superuser/anaconda/lib/python2.7/site-packages/IPython/core/magic.pyc\u001b[0m in \u001b[0;36m<lambda>\u001b[0;34m(f, *a, **k)\u001b[0m\n\u001b[1;32m    191\u001b[0m     \u001b[0;31m# but it's overkill for just that one bit of state.\u001b[0m\u001b[0;34m\u001b[0m\u001b[0;34m\u001b[0m\u001b[0m\n\u001b[1;32m    192\u001b[0m     \u001b[0;32mdef\u001b[0m \u001b[0mmagic_deco\u001b[0m\u001b[0;34m(\u001b[0m\u001b[0marg\u001b[0m\u001b[0;34m)\u001b[0m\u001b[0;34m:\u001b[0m\u001b[0;34m\u001b[0m\u001b[0m\n\u001b[0;32m--> 193\u001b[0;31m         \u001b[0mcall\u001b[0m \u001b[0;34m=\u001b[0m \u001b[0;32mlambda\u001b[0m \u001b[0mf\u001b[0m\u001b[0;34m,\u001b[0m \u001b[0;34m*\u001b[0m\u001b[0ma\u001b[0m\u001b[0;34m,\u001b[0m \u001b[0;34m**\u001b[0m\u001b[0mk\u001b[0m\u001b[0;34m:\u001b[0m \u001b[0mf\u001b[0m\u001b[0;34m(\u001b[0m\u001b[0;34m*\u001b[0m\u001b[0ma\u001b[0m\u001b[0;34m,\u001b[0m \u001b[0;34m**\u001b[0m\u001b[0mk\u001b[0m\u001b[0;34m)\u001b[0m\u001b[0;34m\u001b[0m\u001b[0m\n\u001b[0m\u001b[1;32m    194\u001b[0m \u001b[0;34m\u001b[0m\u001b[0m\n\u001b[1;32m    195\u001b[0m         \u001b[0;32mif\u001b[0m \u001b[0mcallable\u001b[0m\u001b[0;34m(\u001b[0m\u001b[0marg\u001b[0m\u001b[0;34m)\u001b[0m\u001b[0;34m:\u001b[0m\u001b[0;34m\u001b[0m\u001b[0m\n",
      "\u001b[0;32m/Users/Superuser/anaconda/lib/python2.7/site-packages/IPython/core/magics/execution.pyc\u001b[0m in \u001b[0;36mtime\u001b[0;34m(self, line, cell, local_ns)\u001b[0m\n\u001b[1;32m   1160\u001b[0m         \u001b[0;32mif\u001b[0m \u001b[0mmode\u001b[0m\u001b[0;34m==\u001b[0m\u001b[0;34m'eval'\u001b[0m\u001b[0;34m:\u001b[0m\u001b[0;34m\u001b[0m\u001b[0m\n\u001b[1;32m   1161\u001b[0m             \u001b[0mst\u001b[0m \u001b[0;34m=\u001b[0m \u001b[0mclock2\u001b[0m\u001b[0;34m(\u001b[0m\u001b[0;34m)\u001b[0m\u001b[0;34m\u001b[0m\u001b[0m\n\u001b[0;32m-> 1162\u001b[0;31m             \u001b[0mout\u001b[0m \u001b[0;34m=\u001b[0m \u001b[0meval\u001b[0m\u001b[0;34m(\u001b[0m\u001b[0mcode\u001b[0m\u001b[0;34m,\u001b[0m \u001b[0mglob\u001b[0m\u001b[0;34m,\u001b[0m \u001b[0mlocal_ns\u001b[0m\u001b[0;34m)\u001b[0m\u001b[0;34m\u001b[0m\u001b[0m\n\u001b[0m\u001b[1;32m   1163\u001b[0m             \u001b[0mend\u001b[0m \u001b[0;34m=\u001b[0m \u001b[0mclock2\u001b[0m\u001b[0;34m(\u001b[0m\u001b[0;34m)\u001b[0m\u001b[0;34m\u001b[0m\u001b[0m\n\u001b[1;32m   1164\u001b[0m         \u001b[0;32melse\u001b[0m\u001b[0;34m:\u001b[0m\u001b[0;34m\u001b[0m\u001b[0m\n",
      "\u001b[0;32m<timed eval>\u001b[0m in \u001b[0;36m<module>\u001b[0;34m()\u001b[0m\n",
      "\u001b[0;32m<ipython-input-180-1013729e2418>\u001b[0m in \u001b[0;36mDrawing\u001b[0;34m(graph, db, df, db_demand, df_demand, size_x, size_y)\u001b[0m\n\u001b[1;32m     16\u001b[0m     \u001b[0;31m#Text2 = 'Gesamtrevenue (Nachfrage): ' + str(MaxValue2)\u001b[0m\u001b[0;34m\u001b[0m\u001b[0;34m\u001b[0m\u001b[0m\n\u001b[1;32m     17\u001b[0m \u001b[0;34m\u001b[0m\u001b[0m\n\u001b[0;32m---> 18\u001b[0;31m     \u001b[0mdf\u001b[0m\u001b[0;34m[\u001b[0m\u001b[0;34m'Cum_Rev'\u001b[0m\u001b[0;34m]\u001b[0m\u001b[0;34m.\u001b[0m\u001b[0mplot\u001b[0m\u001b[0;34m(\u001b[0m\u001b[0mstyle\u001b[0m\u001b[0;34m=\u001b[0m\u001b[0mstyles1\u001b[0m\u001b[0;34m,\u001b[0m \u001b[0max\u001b[0m\u001b[0;34m=\u001b[0m\u001b[0max\u001b[0m\u001b[0;34m,\u001b[0m \u001b[0mlegend\u001b[0m\u001b[0;34m=\u001b[0m\u001b[0mTrue\u001b[0m\u001b[0;34m)\u001b[0m\u001b[0;34m\u001b[0m\u001b[0m\n\u001b[0m\u001b[1;32m     19\u001b[0m     \u001b[0mdf_demand\u001b[0m\u001b[0;34m[\u001b[0m\u001b[0;34m'Cum_Rev_Demand'\u001b[0m\u001b[0;34m]\u001b[0m\u001b[0;34m.\u001b[0m\u001b[0mplot\u001b[0m\u001b[0;34m(\u001b[0m\u001b[0mstyle\u001b[0m\u001b[0;34m=\u001b[0m\u001b[0mstyles2\u001b[0m\u001b[0;34m,\u001b[0m \u001b[0max\u001b[0m\u001b[0;34m=\u001b[0m\u001b[0max\u001b[0m\u001b[0;34m,\u001b[0m \u001b[0mlegend\u001b[0m\u001b[0;34m=\u001b[0m\u001b[0mTrue\u001b[0m\u001b[0;34m)\u001b[0m\u001b[0;34m\u001b[0m\u001b[0m\n\u001b[1;32m     20\u001b[0m \u001b[0;34m\u001b[0m\u001b[0m\n",
      "\u001b[0;31mNameError\u001b[0m: global name 'styles1' is not defined"
     ]
    },
    {
     "data": {
      "image/png": "[encoded data removed]",
      "text/plain": [
       "<matplotlib.figure.Figure at 0x1088f6350>"
      ]
     },
     "metadata": {},
     "output_type": "display_data"
    }
   ],
   "source": [
    "%time Drawing(graph, db, df, db_demand, df_demand)"
   ]
  },
  {
   "cell_type": "code",
   "execution_count": null,
   "metadata": {
    "collapsed": true
   },
   "outputs": [],
   "source": []
  }
 ],
 "metadata": {
  "kernelspec": {
   "display_name": "Python 2",
   "language": "python",
   "name": "python2"
  },
  "language_info": {
   "codemirror_mode": {
    "name": "ipython",
    "version": 2
   },
   "file_extension": ".py",
   "mimetype": "text/x-python",
   "name": "python",
   "nbconvert_exporter": "python",
   "pygments_lexer": "ipython2",
   "version": "2.7.9"
  }
 },
 "nbformat": 4,
 "nbformat_minor": 0
}
