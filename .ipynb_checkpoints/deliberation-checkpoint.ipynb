{
 "cells": [
  {
   "cell_type": "code",
   "execution_count": null,
   "metadata": {
    "collapsed": true
   },
   "outputs": [],
   "source": [
    "__version__ = '0.3'\n",
    "__author__  = \"Robert Matern (r.matern@stud.uni-hannover.de)\"\n",
    "__date__    = ''\n",
    "__url__     = ''\n",
    "__copyright__ = \"(C) 2015 Robert Matern\""
   ]
  },
  {
   "cell_type": "code",
   "execution_count": 1,
   "metadata": {
    "collapsed": false
   },
   "outputs": [],
   "source": [
    "# import pandas as pd\n",
    "import numpy as np\n",
    "import matplotlib.pyplot as plt\n",
    "import datetime\n",
    "%matplotlib inline\n",
    "%run Parameter.ipynb\n",
    "\n",
    "#%run Data02.ipynb"
   ]
  },
  {
   "cell_type": "code",
   "execution_count": 2,
   "metadata": {
    "collapsed": false
   },
   "outputs": [
    {
     "name": "stdout",
     "output_type": "stream",
     "text": [
      "0:00:00.000352\n"
     ]
    }
   ],
   "source": [
    "# Beispieldaten\n",
    "# Produkte\n",
    "products = Product(2)\n",
    "\n",
    "# Ressourcen\n",
    "resources = Resource(2)\n",
    "\n",
    "#Kapazität\n",
    "capacities = Capacity(resources)\n",
    "capacities[1] = 2\n",
    "capacities[2] = 1\n",
    "#capacities[3] = 3\n",
    "#capacities[4] = 4\n",
    "#capacities[5] = 5\n",
    "#capacities[6] = 6\n",
    "#capacities[7] = 7\n",
    "#capacities[8] = 8\n",
    "#capacities[9] = 9\n",
    "#capacities[10] = 10\n",
    "\n",
    "# Ressourcenverbrauch\n",
    "consumtions = Consumption(products, resources)\n",
    "consumtions[1] = [0,1,0,]#1,0,1,1,0,1,1,1]\n",
    "consumtions[2] = [0,0,1,]#0,1]#,1,0,0,1,1,0]\n",
    "\n",
    "# Erträge\n",
    "revenues = Revenue(products)\n",
    "revenues[1] = 100\n",
    "revenues[2] = 200\n",
    "\n",
    "# Buchungshorizont\n",
    "times = Time(4)\n",
    "\n",
    "# Wahrscheinlichkeiten\n",
    "probs = Prob(products, times)\n",
    "probs[1] = [0.5, 0.5, 0.5, 0.5, 0]\n",
    "probs[2] = [0.1, 0.1, 0.1, 0.1, 0]\n",
    "\n",
    "# Gegenwahrscheinlichkeiten\n",
    "against_probs = Against_Prob(probs)\n",
    "\n",
    "# Systemzustände\n",
    "conditions = Condition(capacities, resources, times)"
   ]
  },
  {
   "cell_type": "raw",
   "metadata": {
    "collapsed": false
   },
   "source": [
    "def Condition(capacities, resources, times):\n",
    "    '''Berechnung der möglichen Systemzustände eines Netzwerks\n",
    "    mit c Kapazitäten, r Ressourcen und t Perioden.'''\n",
    "    # Ermittlung der Rechenzeit\n",
    "    import datetime\n",
    "    a = datetime.datetime.now()\n",
    "    \n",
    "    # Erstellung eines Multiprozesses\n",
    "    #import multiprocessing as mp\n",
    "    #pool = mp.Pool(processes=4)\n",
    "    \n",
    "    \n",
    "    from itertools import product\n",
    "    array = [range(i) for i in capacities[1:]+1]\n",
    "    scope = (np.asarray(subset) for subset in product(*array))\n",
    "    conditions = [\n",
    "        [subset.copy(), j]\n",
    "        for subset in scope\n",
    "        for j in times\n",
    "    ]\n",
    "    np.savetxt('test.txt', conditions, delimiter=',', fmt=\"%s\")\n",
    "    \n",
    "\n",
    "    \n",
    "    b = datetime.datetime.now()\n",
    "    print (b-a)\n",
    "    return conditions\n",
    "\n",
    "Condition(capacities, resources, times)"
   ]
  },
  {
   "cell_type": "raw",
   "metadata": {
    "collapsed": false
   },
   "source": [
    "conditions = [[[capacities[1:]], times[0]]]\n",
    "def Condition(conditions, capacities, resources, consumtions, times):\n",
    "    if times[0] != 0:\n",
    "        for j in products:\n",
    "            check = capacities-consumtions[j]\n",
    "            if np.all((check) >= 0):\n",
    "                new_capacities = [capacities[1:]-consumtions[j][1:]]\n",
    "                condition = [[new_capacities, times[1]]]\n",
    "                if condition not in conditions:\n",
    "                    conditions += condition\n",
    "                    Condition(conditions, capacities-consumtions[j], resources, consumtions, times[1:])\n",
    "    return conditions\n",
    "\n",
    "conditions = Condition(conditions, capacities, resources, consumtions, times)\n",
    "len(conditions)"
   ]
  },
  {
   "cell_type": "raw",
   "metadata": {
    "collapsed": true
   },
   "source": [
    "from functools import wraps\n",
    "def Memo(func):\n",
    "    '''A Memoizing Decorator. The idea of memoized function is that it caches its return values. If you call it a\n",
    "    second time with the same parameters, it will simply return the cached value. You can certainly (allerdings) \n",
    "    put this sort of caching logic inside your function, but memo function is a more reusable (Mehrweg-) solution.\n",
    "    '''\n",
    "    cache = {}                           # Stored subproblem solutions\n",
    "    @wraps(func)                         # Make wrap look like func\n",
    "    def wrap(*args):                     # The memoized wrapper\n",
    "        if args not in cache:            # Not already computed?\n",
    "            cache[args] = func(*args)    # Compute & cache the solution\n",
    "        return cache[args]               # Return the cached solution\n",
    "    return wrap  "
   ]
  },
  {
   "cell_type": "markdown",
   "metadata": {},
   "source": [
    "#Dynamisches Programm"
   ]
  },
  {
   "cell_type": "markdown",
   "metadata": {},
   "source": [
    "Die normale Modellformulierung des Auftragsannahmeproblems im Revenue Management von Instandhaltungsprozessen:\n",
    "\n",
    "$$V(\\textbf{c}, t) = \\sum_{j \\in \\mathcal{J}}p_{j}(t)\\max[V(\\textbf{c}, t-1), r_{j} + V(\\textbf{c}-\\textbf{a}_j, t-1)] + p_{0}(t)V(\\textbf{c}, t-1) $$\n",
    "\n",
    "$$= V(\\textbf{c}, t-1) + \\sum_{j \\in \\mathcal{J}}p_{j}(t) \\max[r_j - V(\\textbf{c}, t-1) + V(\\textbf{c}-\\textbf{a}_j, t-1), 0]$$"
   ]
  },
  {
   "cell_type": "code",
   "execution_count": 3,
   "metadata": {
    "collapsed": false
   },
   "outputs": [],
   "source": [
    "%run DynamicProgramm.ipynb"
   ]
  },
  {
   "cell_type": "code",
   "execution_count": 4,
   "metadata": {
    "collapsed": false
   },
   "outputs": [
    {
     "data": {
      "text/plain": [
       "231.25"
      ]
     },
     "execution_count": 4,
     "metadata": {},
     "output_type": "execute_result"
    }
   ],
   "source": [
    "DP(solutions, conditions, products, resources, capacities, consumtions, times)"
   ]
  },
  {
   "cell_type": "code",
   "execution_count": 5,
   "metadata": {
    "collapsed": false
   },
   "outputs": [
    {
     "data": {
      "text/plain": [
       "{3: [[array([0, 0]), 1], 0.0],\n",
       " 4: [[array([0, 0]), 0], 0.0],\n",
       " 7: [[array([0, 1]), 2], 38.0],\n",
       " 8: [[array([0, 1]), 1], 20.0],\n",
       " 9: [[array([0, 1]), 0], 0.0],\n",
       " 12: [[array([1, 0]), 2], 75.0],\n",
       " 13: [[array([1, 0]), 1], 50.0],\n",
       " 14: [[array([1, 0]), 0], 0.0],\n",
       " 16: [[array([1, 1]), 3], 141.703125],\n",
       " 17: [[array([1, 1]), 2], 113.0],\n",
       " 18: [[array([1, 1]), 1], 70.0],\n",
       " 19: [[array([1, 1]), 0], 0.0],\n",
       " 21: [[array([2, 0]), 3], 137.5],\n",
       " 22: [[array([2, 0]), 2], 100.0],\n",
       " 23: [[array([2, 0]), 1], 50.0],\n",
       " 24: [[array([2, 0]), 0], 0.0],\n",
       " 25: [[array([2, 1]), 4], 231.25],\n",
       " 26: [[array([2, 1]), 3], 191.6875],\n",
       " 27: [[array([2, 1]), 2], 138.0],\n",
       " 28: [[array([2, 1]), 1], 70.0],\n",
       " 29: [[array([2, 1]), 0], 0.0]}"
      ]
     },
     "execution_count": 5,
     "metadata": {},
     "output_type": "execute_result"
    }
   ],
   "source": [
    "solutions"
   ]
  },
  {
   "cell_type": "code",
   "execution_count": 7,
   "metadata": {
    "collapsed": false
   },
   "outputs": [
    {
     "name": "stdout",
     "output_type": "stream",
     "text": [
      "[[array([0, 0]), 1], 0.0]\n",
      "0.0\n",
      "[array([0, 0]), 1]\n",
      "[0 0]\n",
      "1\n"
     ]
    }
   ],
   "source": [
    "#Zustand mit Erwartungswert\n",
    "print solutions[3]\n",
    "\n",
    "#Erwartungswert\n",
    "print solutions[3][1]\n",
    "\n",
    "#Zustand\n",
    "print solutions[3][0]\n",
    "\n",
    "#Kapa\n",
    "print solutions[3][0][0]\n",
    "\n",
    "#Zeitpunkt\n",
    "print solutions[3][0][1]"
   ]
  },
  {
   "cell_type": "raw",
   "metadata": {
    "collapsed": false,
    "scrolled": false
   },
   "source": [
    "# Falsch, da er auch \"unmöglich\" Schritte aufzeigt.\n",
    "\n",
    "def Best_Policy(solutions, times):\n",
    "    for t in times[:-1]:\n",
    "        a = []\n",
    "        for sol in solutions:\n",
    "            if t == solutions[sol][0][1]:\n",
    "                a.append(solutions[sol][1])\n",
    "        b = min(a)\n",
    "        #b = max(a)\n",
    "        for t in times[:-1]:\n",
    "            for sol in solutions:\n",
    "                if t == solutions[sol][0][1] and b == solutions[sol][1]:\n",
    "                    print \"Zeitpunkt: %i ; Kapazität:\" % (t), solutions[sol][0][0], \"; Erwartungswert: %f\" % (solutions[sol][1])\n",
    "        \n",
    "        \n",
    "Best_Policy(solutions, times)"
   ]
  },
  {
   "cell_type": "markdown",
   "metadata": {},
   "source": [
    "# NetworkX-Versuch"
   ]
  },
  {
   "cell_type": "code",
   "execution_count": 47,
   "metadata": {
    "collapsed": false
   },
   "outputs": [],
   "source": [
    "import networkx as nx\n",
    "\n",
    "def Structure(solutions, products, consumtions):\n",
    "    G=nx.DiGraph()\n",
    "\n",
    "    for key in solutions.iterkeys():\n",
    "        G.add_node(key, label=solutions[key][0])\n",
    "\n",
    "    for i in solutions.iterkeys():\n",
    "        if np.any(solutions[i][0][0]) == 0 or solutions[i][0][1] == 0:\n",
    "            continue\n",
    "        else:\n",
    "            for s in solutions.iterkeys():\n",
    "                for j in products:\n",
    "                    dings = []\n",
    "                    dings = solutions[i][0][0] - consumtions[j][1:]\n",
    "                    if  np.array_equal(dings, solutions[s][0][0]) and solutions[i][0][1] == solutions[s][0][1]+1:\n",
    "                        G.add_edge(i, s, weight=solutions[s][1])\n",
    "    return G\n",
    "                    \n",
    "G = Structure(solutions, products, consumtions)"
   ]
  },
  {
   "cell_type": "code",
   "execution_count": 111,
   "metadata": {
    "collapsed": false
   },
   "outputs": [
    {
     "data": {
      "text/plain": [
       "[3, 4, 7, 8, 9, 12, 13, 14, 16, 17, 18, 19, 21, 22, 23, 24, 25, 26, 27, 28, 29]"
      ]
     },
     "execution_count": 111,
     "metadata": {},
     "output_type": "execute_result"
    }
   ],
   "source": [
    "G.nodes()"
   ]
  },
  {
   "cell_type": "code",
   "execution_count": 112,
   "metadata": {
    "collapsed": false
   },
   "outputs": [
    {
     "name": "stdout",
     "output_type": "stream",
     "text": [
      "3 []\n",
      "4 []\n",
      "7 [8, 3]\n",
      "8 [9, 4]\n",
      "9 []\n",
      "12 [3, 13]\n",
      "13 [4, 14]\n",
      "14 []\n",
      "16 [17, 12, 7]\n",
      "17 [8, 18, 13]\n",
      "18 [9, 19, 14]\n",
      "19 []\n",
      "21 [12, 22]\n",
      "22 [13, 23]\n",
      "23 [24, 14]\n",
      "24 []\n",
      "25 [16, 26, 21]\n",
      "26 [17, 27, 22]\n",
      "27 [18, 28, 23]\n",
      "28 [24, 19, 29]\n",
      "29 []\n"
     ]
    },
    {
     "ename": "Exception",
     "evalue": "Hypergraph has multiple vertices that are not connected: set([25, 26, 27, 28, 29]).",
     "output_type": "error",
     "traceback": [
      "\u001b[0;31m---------------------------------------------------------------------------\u001b[0m",
      "\u001b[0;31mException\u001b[0m                                 Traceback (most recent call last)",
      "\u001b[0;32m<ipython-input-112-654abb45c446>\u001b[0m in \u001b[0;36m<module>\u001b[0;34m()\u001b[0m\n\u001b[1;32m     29\u001b[0m     \u001b[0;32mreturn\u001b[0m \u001b[0mG\u001b[0m\u001b[0;34m\u001b[0m\u001b[0m\n\u001b[1;32m     30\u001b[0m \u001b[0;34m\u001b[0m\u001b[0m\n\u001b[0;32m---> 31\u001b[0;31m \u001b[0mG\u001b[0m \u001b[0;34m=\u001b[0m \u001b[0mStructure\u001b[0m\u001b[0;34m(\u001b[0m\u001b[0msolutions\u001b[0m\u001b[0;34m,\u001b[0m \u001b[0mproducts\u001b[0m\u001b[0;34m,\u001b[0m \u001b[0mconsumtions\u001b[0m\u001b[0;34m)\u001b[0m\u001b[0;34m\u001b[0m\u001b[0m\n\u001b[0m",
      "\u001b[0;32m<ipython-input-112-654abb45c446>\u001b[0m in \u001b[0;36mStructure\u001b[0;34m(solutions, products, consumtions)\u001b[0m\n\u001b[1;32m     26\u001b[0m           [G.successors(g)])\n\u001b[1;32m     27\u001b[0m           \u001b[0;31m#labels=[G.successors(g)])\u001b[0m\u001b[0;34m\u001b[0m\u001b[0;34m\u001b[0m\u001b[0m\n\u001b[0;32m---> 28\u001b[0;31m     \u001b[0mG\u001b[0m \u001b[0;34m=\u001b[0m \u001b[0mpydecode\u001b[0m\u001b[0;34m.\u001b[0m\u001b[0mdraw\u001b[0m\u001b[0;34m(\u001b[0m\u001b[0mchart\u001b[0m\u001b[0;34m.\u001b[0m\u001b[0mfinish\u001b[0m\u001b[0;34m(\u001b[0m\u001b[0;34m)\u001b[0m\u001b[0;34m,\u001b[0m \u001b[0mlabels\u001b[0m\u001b[0;34m=\u001b[0m\u001b[0mFalse\u001b[0m\u001b[0;34m)\u001b[0m\u001b[0;34m\u001b[0m\u001b[0m\n\u001b[0m\u001b[1;32m     29\u001b[0m     \u001b[0;32mreturn\u001b[0m \u001b[0mG\u001b[0m\u001b[0;34m\u001b[0m\u001b[0m\n\u001b[1;32m     30\u001b[0m \u001b[0;34m\u001b[0m\u001b[0m\n",
      "\u001b[0;32m_pydecode.pyx\u001b[0m in \u001b[0;36mpydecode._pydecode.ChartBuilder.finish (python/pydecode/_pydecode.cpp:12389)\u001b[0;34m()\u001b[0m\n",
      "\u001b[0;31mException\u001b[0m: Hypergraph has multiple vertices that are not connected: set([25, 26, 27, 28, 29])."
     ]
    }
   ],
   "source": [
    "import networkx as nx\n",
    "import pydecode as pd\n",
    "\n",
    "def Structure(solutions, products, consumtions):\n",
    "    G=nx.DiGraph()\n",
    "\n",
    "    for key in solutions.iterkeys():\n",
    "        G.add_node(key, label=solutions[key][0])\n",
    "\n",
    "    for i in solutions.iterkeys():\n",
    "        if np.any(solutions[i][0][0]) == 0 or solutions[i][0][1] == 0:\n",
    "            continue\n",
    "        else:\n",
    "            for s in solutions.iterkeys():\n",
    "                for j in products:\n",
    "                    dings = []\n",
    "                    dings = solutions[i][0][0] - consumtions[j][1:]\n",
    "                    if  np.array_equal(dings, solutions[s][0][0]) and solutions[i][0][1] == solutions[s][0][1]+1:\n",
    "                        G.add_edge(i, s, weight=solutions[s][1])\n",
    "    \n",
    "    chart = pydecode.ChartBuilder(G)\n",
    "    chart.init(G)\n",
    "    for g in G.nodes():\n",
    "        print g, G.successors(g)\n",
    "        chart.set(g,\n",
    "          [G.successors(g)])\n",
    "          #labels=[G.successors(g)])\n",
    "    chart_finish = pydecode.draw(chart.finish(), labels=False)\n",
    "    return chart_finish\n",
    "                    \n",
    "chart = Structure(solutions, products, consumtions)"
   ]
  },
  {
   "cell_type": "code",
   "execution_count": 104,
   "metadata": {
    "collapsed": false,
    "scrolled": true
   },
   "outputs": [
    {
     "data": {
      "image/png": "[encoded data removed]",
      "text/plain": [
       "<IPython.core.display.Image object>"
      ]
     },
     "execution_count": 104,
     "metadata": {},
     "output_type": "execute_result"
    }
   ],
   "source": [
    "items = np.arange(10)\n",
    "chart = pydecode.ChartBuilder(items)\n",
    "chart.init(items[0:3])\n",
    "chart.set(items[3],\n",
    "          [[items[0]], [items[1]], [items[2]]],\n",
    "          labels=[0,1,2])\n",
    "pydecode.draw(chart.finish(), labels=True)"
   ]
  },
  {
   "cell_type": "code",
   "execution_count": 66,
   "metadata": {
    "collapsed": false
   },
   "outputs": [
    {
     "ename": "TypeError",
     "evalue": "'instancemethod' object is not iterable",
     "output_type": "error",
     "traceback": [
      "\u001b[0;31m---------------------------------------------------------------------------\u001b[0m",
      "\u001b[0;31mTypeError\u001b[0m                                 Traceback (most recent call last)",
      "\u001b[0;32m<ipython-input-66-c2ce06f37bec>\u001b[0m in \u001b[0;36m<module>\u001b[0;34m()\u001b[0m\n\u001b[0;32m----> 1\u001b[0;31m \u001b[0mpydecode\u001b[0m\u001b[0;34m.\u001b[0m\u001b[0mdraw\u001b[0m\u001b[0;34m(\u001b[0m\u001b[0mG\u001b[0m\u001b[0;34m)\u001b[0m\u001b[0;34m\u001b[0m\u001b[0m\n\u001b[0m",
      "\u001b[0;32m/Users/Superuser/anaconda/lib/python2.7/site-packages/pydecode/__init__.pyc\u001b[0m in \u001b[0;36mdraw\u001b[0;34m(graph, edge_labels, vertex_labels, paths, formatter, labels, out)\u001b[0m\n\u001b[1;32m    279\u001b[0m \u001b[0;34m\u001b[0m\u001b[0m\n\u001b[1;32m    280\u001b[0m     \u001b[0;32mif\u001b[0m \u001b[0mout\u001b[0m \u001b[0;32mis\u001b[0m \u001b[0mNone\u001b[0m\u001b[0;34m:\u001b[0m\u001b[0;34m\u001b[0m\u001b[0m\n\u001b[0;32m--> 281\u001b[0;31m         \u001b[0;32mreturn\u001b[0m \u001b[0mdrawer\u001b[0m\u001b[0;34m.\u001b[0m\u001b[0mto_ipython\u001b[0m\u001b[0;34m(\u001b[0m\u001b[0;34m)\u001b[0m\u001b[0;34m\u001b[0m\u001b[0m\n\u001b[0m\u001b[1;32m    282\u001b[0m     \u001b[0;32melse\u001b[0m\u001b[0;34m:\u001b[0m\u001b[0;34m\u001b[0m\u001b[0m\n\u001b[1;32m    283\u001b[0m         \u001b[0mdrawer\u001b[0m\u001b[0;34m.\u001b[0m\u001b[0mto_image\u001b[0m\u001b[0;34m(\u001b[0m\u001b[0mout\u001b[0m\u001b[0;34m)\u001b[0m\u001b[0;34m\u001b[0m\u001b[0m\n",
      "\u001b[0;32m/Users/Superuser/anaconda/lib/python2.7/site-packages/pydecode/display.pyc\u001b[0m in \u001b[0;36mto_ipython\u001b[0;34m(self)\u001b[0m\n\u001b[1;32m    216\u001b[0m         \u001b[0;32mfrom\u001b[0m \u001b[0mIPython\u001b[0m\u001b[0;34m.\u001b[0m\u001b[0mdisplay\u001b[0m \u001b[0;32mimport\u001b[0m \u001b[0mImage\u001b[0m\u001b[0;34m\u001b[0m\u001b[0m\n\u001b[1;32m    217\u001b[0m         \u001b[0mtemp_file\u001b[0m \u001b[0;34m=\u001b[0m \u001b[0;34m\"/tmp/tmp.png\"\u001b[0m\u001b[0;34m\u001b[0m\u001b[0m\n\u001b[0;32m--> 218\u001b[0;31m         \u001b[0mself\u001b[0m\u001b[0;34m.\u001b[0m\u001b[0mto_image\u001b[0m\u001b[0;34m(\u001b[0m\u001b[0mtemp_file\u001b[0m\u001b[0;34m)\u001b[0m\u001b[0;34m\u001b[0m\u001b[0m\n\u001b[0m\u001b[1;32m    219\u001b[0m         \u001b[0;32mreturn\u001b[0m \u001b[0mImage\u001b[0m\u001b[0;34m(\u001b[0m\u001b[0mfilename\u001b[0m\u001b[0;34m=\u001b[0m\u001b[0mtemp_file\u001b[0m\u001b[0;34m)\u001b[0m\u001b[0;34m\u001b[0m\u001b[0m\n\u001b[1;32m    220\u001b[0m \u001b[0;34m\u001b[0m\u001b[0m\n",
      "\u001b[0;32m/Users/Superuser/anaconda/lib/python2.7/site-packages/pydecode/display.pyc\u001b[0m in \u001b[0;36mto_image\u001b[0;34m(self, filename, layout)\u001b[0m\n\u001b[1;32m    162\u001b[0m         \u001b[0mNetworkX\u001b[0m \u001b[0mGraph\u001b[0m\u001b[0;34m\u001b[0m\u001b[0m\n\u001b[1;32m    163\u001b[0m         \"\"\"\n\u001b[0;32m--> 164\u001b[0;31m         \u001b[0magraph\u001b[0m \u001b[0;34m=\u001b[0m \u001b[0mself\u001b[0m\u001b[0;34m.\u001b[0m\u001b[0mto_graphviz\u001b[0m\u001b[0;34m(\u001b[0m\u001b[0mlayout\u001b[0m\u001b[0;34m)\u001b[0m\u001b[0;34m\u001b[0m\u001b[0m\n\u001b[0m\u001b[1;32m    165\u001b[0m         \u001b[0;31m#agraph.write(\"/tmp/tmp.dot\")\u001b[0m\u001b[0;34m\u001b[0m\u001b[0;34m\u001b[0m\u001b[0m\n\u001b[1;32m    166\u001b[0m         \u001b[0magraph\u001b[0m\u001b[0;34m.\u001b[0m\u001b[0mdraw\u001b[0m\u001b[0;34m(\u001b[0m\u001b[0mfilename\u001b[0m\u001b[0;34m)\u001b[0m\u001b[0;34m\u001b[0m\u001b[0m\n",
      "\u001b[0;32m/Users/Superuser/anaconda/lib/python2.7/site-packages/pydecode/display.pyc\u001b[0m in \u001b[0;36mto_graphviz\u001b[0;34m(self, layout)\u001b[0m\n\u001b[1;32m    175\u001b[0m     \u001b[0;32mdef\u001b[0m \u001b[0mto_graphviz\u001b[0m\u001b[0;34m(\u001b[0m\u001b[0mself\u001b[0m\u001b[0;34m,\u001b[0m \u001b[0mlayout\u001b[0m\u001b[0;34m=\u001b[0m\u001b[0;34m\"dot\"\u001b[0m\u001b[0;34m)\u001b[0m\u001b[0;34m:\u001b[0m\u001b[0;34m\u001b[0m\u001b[0m\n\u001b[1;32m    176\u001b[0m         \u001b[0msubgraphs\u001b[0m \u001b[0;34m=\u001b[0m \u001b[0;34m{\u001b[0m\u001b[0;34m}\u001b[0m\u001b[0;34m\u001b[0m\u001b[0m\n\u001b[0;32m--> 177\u001b[0;31m         \u001b[0mG\u001b[0m \u001b[0;34m=\u001b[0m \u001b[0mself\u001b[0m\u001b[0;34m.\u001b[0m\u001b[0mto_networkx\u001b[0m\u001b[0;34m(\u001b[0m\u001b[0;34m)\u001b[0m\u001b[0;34m\u001b[0m\u001b[0m\n\u001b[0m\u001b[1;32m    178\u001b[0m         \u001b[0magraph\u001b[0m \u001b[0;34m=\u001b[0m \u001b[0mnx\u001b[0m\u001b[0;34m.\u001b[0m\u001b[0mdrawing\u001b[0m\u001b[0;34m.\u001b[0m\u001b[0mto_agraph\u001b[0m\u001b[0;34m(\u001b[0m\u001b[0mG\u001b[0m\u001b[0;34m)\u001b[0m\u001b[0;34m\u001b[0m\u001b[0m\n\u001b[1;32m    179\u001b[0m \u001b[0;34m\u001b[0m\u001b[0m\n",
      "\u001b[0;32m/Users/Superuser/anaconda/lib/python2.7/site-packages/pydecode/display.pyc\u001b[0m in \u001b[0;36mto_networkx\u001b[0;34m(self)\u001b[0m\n\u001b[1;32m    127\u001b[0m             \u001b[0;32mreturn\u001b[0m \u001b[0;34m\"e\"\u001b[0m \u001b[0;34m+\u001b[0m \u001b[0mstr\u001b[0m\u001b[0;34m(\u001b[0m\u001b[0medge\u001b[0m\u001b[0;34m.\u001b[0m\u001b[0mid\u001b[0m\u001b[0;34m)\u001b[0m\u001b[0;34m\u001b[0m\u001b[0m\n\u001b[1;32m    128\u001b[0m \u001b[0;34m\u001b[0m\u001b[0m\n\u001b[0;32m--> 129\u001b[0;31m         \u001b[0;32mfor\u001b[0m \u001b[0mnode\u001b[0m \u001b[0;32min\u001b[0m \u001b[0mself\u001b[0m\u001b[0;34m.\u001b[0m\u001b[0mhypergraph\u001b[0m\u001b[0;34m.\u001b[0m\u001b[0mnodes\u001b[0m\u001b[0;34m:\u001b[0m\u001b[0;34m\u001b[0m\u001b[0m\n\u001b[0m\u001b[1;32m    130\u001b[0m             \u001b[0mgraph\u001b[0m\u001b[0;34m.\u001b[0m\u001b[0madd_node\u001b[0m\u001b[0;34m(\u001b[0m\u001b[0mnode\u001b[0m\u001b[0;34m.\u001b[0m\u001b[0mid\u001b[0m\u001b[0;34m)\u001b[0m\u001b[0;34m\u001b[0m\u001b[0m\n\u001b[1;32m    131\u001b[0m             graph.node[node.id].update(\n",
      "\u001b[0;31mTypeError\u001b[0m: 'instancemethod' object is not iterable"
     ]
    }
   ],
   "source": [
    "pydecode.draw(G)"
   ]
  },
  {
   "cell_type": "markdown",
   "metadata": {},
   "source": [
    "## 0/1 Knapsack lt. http://rosettacode.org/wiki/Knapsack_problem/0-1#Python\n",
    "\n",
    "###Recursive dynamic programming algorithm"
   ]
  },
  {
   "cell_type": "code",
   "execution_count": 224,
   "metadata": {
    "collapsed": false
   },
   "outputs": [
    {
     "name": "stdout",
     "output_type": "stream",
     "text": [
      "items:\n",
      "map\n",
      "compass\n",
      "water\n",
      "sandwich\n",
      "glucose\n",
      "banana\n",
      "suntan cream\n",
      "waterproof trousers\n",
      "waterproof overclothes\n",
      "note-case\n",
      "sunglasses\n",
      "socks\n",
      "value: 1030\n",
      "weight: 396\n"
     ]
    }
   ],
   "source": [
    "def total_value(items, max_weight):\n",
    "    return  sum([x[2] for x in items]) if sum([x[1] for x in items]) < max_weight else 0\n",
    " \n",
    "cache = {}\n",
    "def solve(items, max_weight):\n",
    "    if not items:\n",
    "        return ()\n",
    "    if (items,max_weight) not in cache:\n",
    "        head = items[0]\n",
    "        tail = items[1:]\n",
    "        include = (head,) + solve(tail, max_weight - head[1])\n",
    "        dont_include = solve(tail, max_weight)\n",
    "        if total_value(include, max_weight) > total_value(dont_include, max_weight):\n",
    "            answer = include\n",
    "        else:\n",
    "            answer = dont_include\n",
    "        cache[(items,max_weight)] = answer\n",
    "    return cache[(items,max_weight)]\n",
    " \n",
    "items = (\n",
    "    (\"map\", 9, 150), (\"compass\", 13, 35), (\"water\", 153, 200), (\"sandwich\", 50, 160),\n",
    "    (\"glucose\", 15, 60), (\"tin\", 68, 45), (\"banana\", 27, 60), (\"apple\", 39, 40),\n",
    "    (\"cheese\", 23, 30), (\"beer\", 52, 10), (\"suntan cream\", 11, 70), (\"camera\", 32, 30),\n",
    "    (\"t-shirt\", 24, 15), (\"trousers\", 48, 10), (\"umbrella\", 73, 40),\n",
    "    (\"waterproof trousers\", 42, 70), (\"waterproof overclothes\", 43, 75),\n",
    "    (\"note-case\", 22, 80), (\"sunglasses\", 7, 20), (\"towel\", 18, 12),\n",
    "    (\"socks\", 4, 50), (\"book\", 30, 10),\n",
    "    )\n",
    "max_weight = 400\n",
    " \n",
    "solution = solve(items, max_weight)\n",
    "print \"items:\"\n",
    "for x in solution:\n",
    "    print x[0]\n",
    "print \"value:\", total_value(solution, max_weight)\n",
    "print \"weight:\", sum([x[1] for x in solution])"
   ]
  },
  {
   "cell_type": "markdown",
   "metadata": {},
   "source": [
    "###Dynamic programming solution"
   ]
  },
  {
   "cell_type": "code",
   "execution_count": 223,
   "metadata": {
    "collapsed": false
   },
   "outputs": [
    {
     "name": "stdout",
     "output_type": "stream",
     "text": [
      "Bagged the following items\n",
      "  banana\n",
      "  compass\n",
      "  glucose\n",
      "  map\n",
      "  note-case\n",
      "  sandwich\n",
      "  socks\n",
      "  sunglasses\n",
      "  suntan cream\n",
      "  water\n",
      "  waterproof overclothes\n",
      "  waterproof trousers\n",
      "for a total value of 1030 and a total weight of 396\n"
     ]
    }
   ],
   "source": [
    "try:\n",
    "    xrange\n",
    "except:\n",
    "    xrange = range\n",
    " \n",
    "def totalvalue(comb):\n",
    "    ' Totalise a particular combination of items'\n",
    "    totwt = totval = 0\n",
    "    for item, wt, val in comb:\n",
    "        totwt  += wt\n",
    "        totval += val\n",
    "    return (totval, -totwt) if totwt <= 400 else (0, 0)\n",
    " \n",
    "items = (\n",
    "    (\"map\", 9, 150), (\"compass\", 13, 35), (\"water\", 153, 200), (\"sandwich\", 50, 160),\n",
    "    (\"glucose\", 15, 60), (\"tin\", 68, 45), (\"banana\", 27, 60), (\"apple\", 39, 40),\n",
    "    (\"cheese\", 23, 30), (\"beer\", 52, 10), (\"suntan cream\", 11, 70), (\"camera\", 32, 30),\n",
    "    (\"t-shirt\", 24, 15), (\"trousers\", 48, 10), (\"umbrella\", 73, 40),\n",
    "    (\"waterproof trousers\", 42, 70), (\"waterproof overclothes\", 43, 75),\n",
    "    (\"note-case\", 22, 80), (\"sunglasses\", 7, 20), (\"towel\", 18, 12),\n",
    "    (\"socks\", 4, 50), (\"book\", 30, 10),\n",
    "    )\n",
    " \n",
    "def knapsack01_dp(items, limit):\n",
    "    table = [[0 for w in range(limit + 1)] for j in xrange(len(items) + 1)]\n",
    " \n",
    "    for j in xrange(1, len(items) + 1):\n",
    "        item, wt, val = items[j-1]\n",
    "        for w in xrange(1, limit + 1):\n",
    "            if wt > w:\n",
    "                table[j][w] = table[j-1][w]\n",
    "            else:\n",
    "                table[j][w] = max(table[j-1][w],\n",
    "                                  table[j-1][w-wt] + val)\n",
    " \n",
    "    result = []\n",
    "    w = limit\n",
    "    for j in range(len(items), 0, -1):\n",
    "        was_added = table[j][w] != table[j-1][w]\n",
    " \n",
    "        if was_added:\n",
    "            item, wt, val = items[j-1]\n",
    "            result.append(items[j-1])\n",
    "            w -= wt\n",
    " \n",
    "    return result\n",
    " \n",
    " \n",
    "bagged = knapsack01_dp(items, 400)\n",
    "print(\"Bagged the following items\\n  \" +\n",
    "      '\\n  '.join(sorted(item for item,_,_ in bagged)))\n",
    "val, wt = totalvalue(bagged)\n",
    "print(\"for a total value of %i and a total weight of %i\" % (val, -wt))"
   ]
  },
  {
   "cell_type": "markdown",
   "metadata": {},
   "source": [
    "## Versuche"
   ]
  },
  {
   "cell_type": "raw",
   "metadata": {
    "collapsed": false
   },
   "source": [
    "#kReject, kAccept = 0, 1\n",
    "#operations = np.array([kReject, kAccept])\n",
    "#offsets = np.array([[1,0], [0,1], [1,1]]) \n",
    "#op_names = np.array([\"Reject\",  \"Accept\"])"
   ]
  },
  {
   "cell_type": "markdown",
   "metadata": {},
   "source": [
    "##Networkx"
   ]
  },
  {
   "cell_type": "code",
   "execution_count": null,
   "metadata": {
    "collapsed": true
   },
   "outputs": [],
   "source": [
    "import networkx as nx"
   ]
  },
  {
   "cell_type": "code",
   "execution_count": null,
   "metadata": {
    "collapsed": false
   },
   "outputs": [],
   "source": [
    "G=nx.Graph()\n",
    "G.add_node(\"spam\")\n",
    "G.add_edge(1,2)\n",
    "print(G.nodes())\n",
    "[1, 2, 'spam']\n",
    "print(G.edges())\n",
    "[(1, 2)]"
   ]
  },
  {
   "cell_type": "markdown",
   "metadata": {},
   "source": [
    "##PyDecode"
   ]
  },
  {
   "cell_type": "code",
   "execution_count": 225,
   "metadata": {
    "collapsed": true
   },
   "outputs": [],
   "source": [
    "def test_hypergraph():\n",
    "    \"\"\"\n",
    "    Create a test hypergraph. (C) PyDecode\n",
    "    \"\"\"\n",
    "    enc = np.arange(6) # [0 1 2 3 4 5]\n",
    "\n",
    "    c = pydecode.ChartBuilder(enc, np.arange(10)) # <pydecode._pydecode.ChartBuilder object at 0x10a06d550>\n",
    "\n",
    "    c.init(enc[:4])\n",
    "\n",
    "    c.set_t(enc[4], enc[0:2], enc[1:3], labels=np.arange(2))\n",
    "    c.set_t(enc[5], np.repeat(enc[4], 1), enc[[3]], labels=np.array([2]))\n",
    "    \n",
    "    dp = c.finish() # <pydecode._pydecode.Hypergraph object at 0x10a164d60>\n",
    "\n",
    "    # for edge in hypergraph.edges:\n",
    "    #     assert edge.label in [\"0\", \"1\", \"2\", \"3\", \"4\"]\n",
    "    return dp"
   ]
  },
  {
   "cell_type": "code",
   "execution_count": 226,
   "metadata": {
    "collapsed": false
   },
   "outputs": [
    {
     "name": "stdout",
     "output_type": "stream",
     "text": [
      "[6 3 8]\n"
     ]
    },
    {
     "data": {
      "image/png": "[encoded data removed]",
      "text/plain": [
       "<IPython.core.display.Image object>"
      ]
     },
     "execution_count": 226,
     "metadata": {},
     "output_type": "execute_result"
    }
   ],
   "source": [
    "graph = test_hypergraph()\n",
    "weights = np.random.randint(10, size=(len(graph.edges)))\n",
    "print weights\n",
    "pydecode.draw(graph, weights)"
   ]
  },
  {
   "cell_type": "code",
   "execution_count": 2,
   "metadata": {
    "collapsed": true
   },
   "outputs": [],
   "source": [
    "import pydecode\n",
    "import pydecode.test.utils\n",
    "import numpy as np"
   ]
  },
  {
   "cell_type": "code",
   "execution_count": 6,
   "metadata": {
    "collapsed": false
   },
   "outputs": [
    {
     "ename": "IndexError",
     "evalue": "index 3 is out of bounds for axis 0 with size 3",
     "output_type": "error",
     "traceback": [
      "\u001b[0;31m---------------------------------------------------------------------------\u001b[0m",
      "\u001b[0;31mIndexError\u001b[0m                                Traceback (most recent call last)",
      "\u001b[0;32m<ipython-input-6-fea6a5d130bd>\u001b[0m in \u001b[0;36m<module>\u001b[0;34m()\u001b[0m\n\u001b[1;32m      6\u001b[0m \u001b[0;32mfor\u001b[0m \u001b[0mi\u001b[0m \u001b[0;32min\u001b[0m \u001b[0mrange\u001b[0m\u001b[0;34m(\u001b[0m\u001b[0;36m6\u001b[0m\u001b[0;34m)\u001b[0m\u001b[0;34m:\u001b[0m\u001b[0;34m\u001b[0m\u001b[0m\n\u001b[1;32m      7\u001b[0m     \u001b[0mchart\u001b[0m\u001b[0;34m.\u001b[0m\u001b[0minit\u001b[0m\u001b[0;34m(\u001b[0m\u001b[0mitems\u001b[0m\u001b[0;34m[\u001b[0m\u001b[0mi\u001b[0m\u001b[0;34m:\u001b[0m\u001b[0mi\u001b[0m\u001b[0;34m+\u001b[0m\u001b[0;36m2\u001b[0m\u001b[0;34m]\u001b[0m\u001b[0;34m)\u001b[0m\u001b[0;34m\u001b[0m\u001b[0m\n\u001b[0;32m----> 8\u001b[0;31m     chart.set(items[i+3],\n\u001b[0m\u001b[1;32m      9\u001b[0m               \u001b[0;34m[\u001b[0m\u001b[0;34m[\u001b[0m\u001b[0mitems\u001b[0m\u001b[0;34m[\u001b[0m\u001b[0mi\u001b[0m\u001b[0;34m]\u001b[0m\u001b[0;34m]\u001b[0m\u001b[0;34m,\u001b[0m \u001b[0;34m[\u001b[0m\u001b[0mitems\u001b[0m\u001b[0;34m[\u001b[0m\u001b[0mi\u001b[0m\u001b[0;34m+\u001b[0m\u001b[0;36m1\u001b[0m\u001b[0;34m]\u001b[0m\u001b[0;34m]\u001b[0m\u001b[0;34m]\u001b[0m\u001b[0;34m,\u001b[0m\u001b[0;34m\u001b[0m\u001b[0m\n\u001b[1;32m     10\u001b[0m               labels=[i,i+1])\n",
      "\u001b[0;31mIndexError\u001b[0m: index 3 is out of bounds for axis 0 with size 3"
     ]
    }
   ],
   "source": [
    "items = np.arange(3)\n",
    "\n",
    "chart = pydecode.ChartBuilder(items)\n",
    "\n",
    "\n",
    "for i in range(6):\n",
    "    chart.init(items[i:i+2])\n",
    "    chart.set(items[i+3],\n",
    "              [[items[i]], [items[i+1]]],\n",
    "              labels=[i,i+1])\n",
    "\n",
    "pydecode.draw(chart.finish(), labels=True)"
   ]
  },
  {
   "cell_type": "code",
   "execution_count": 73,
   "metadata": {
    "collapsed": false
   },
   "outputs": [
    {
     "name": "stdout",
     "output_type": "stream",
     "text": [
      "0 True\n",
      "1 True\n",
      "2 True\n",
      "3 True\n",
      "4 False\n",
      "\t0 0\n",
      "\t1 1\n",
      "5 False\n",
      "\t2 2\n",
      "6 False\n",
      "\t3 3\n"
     ]
    }
   ],
   "source": [
    "def simple_hypergraph():\n",
    "    \"\"\"\n",
    "    Create a simple hypergraph.\n",
    "    \"\"\"\n",
    "    enc = np.arange(7)                                          # array([0, 1, 2, 3, 4, 5])\n",
    "    c = pydecode.ChartBuilder(enc, np.arange(10))               # <pydecode._pydecode.ChartBuilder at 0x105604150>\n",
    "\n",
    "    c.init(enc[:4])                                             # None\n",
    "    \n",
    "    c.set_t(enc[4], enc[0:2], enc[1:3], labels=np.arange(2))    # None\n",
    "    \n",
    "    c.set_t(enc[5], np.repeat(enc[4], 1), enc[[3]], labels=np.array([2])) # None\n",
    "    \n",
    "    c.set_t(enc[6], np.repeat(enc[5], 1), enc[[4]], labels=np.array([3])) # None\n",
    "    \n",
    "    dp = c.finish()                                             # <pydecode._pydecode.Hypergraph object at 0x1079d2aa0>\n",
    "    # for edge in hypergraph.edges:\n",
    "    #     assert edge.label in [\"0\", \"1\", \"2\", \"3\", \"4\"]\n",
    "    return dp\n",
    "\n",
    "hypergraph = simple_hypergraph()\n",
    "\n",
    "for vertex in hypergraph.vertices:\n",
    "    print vertex.id, vertex.is_terminal\n",
    "    for edge in vertex.edges:\n",
    "        print \"\\t\", edge.id, edge.label"
   ]
  },
  {
   "cell_type": "code",
   "execution_count": 74,
   "metadata": {
    "collapsed": false
   },
   "outputs": [
    {
     "data": {
      "image/png": "[encoded data removed]",
      "text/plain": [
       "<IPython.core.display.Image object>"
      ]
     },
     "execution_count": 74,
     "metadata": {},
     "output_type": "execute_result"
    }
   ],
   "source": [
    "inside = pydecode.inside(graph, np.array(weights, dtype=np.double),\n",
    "                weight_type=pydecode.LogViterbi)\n",
    "pydecode.draw(graph, weights, inside)"
   ]
  },
  {
   "cell_type": "code",
   "execution_count": 75,
   "metadata": {
    "collapsed": false
   },
   "outputs": [
    {
     "data": {
      "image/png": "[encoded data removed]",
      "text/plain": [
       "<IPython.core.display.Image object>"
      ]
     },
     "execution_count": 75,
     "metadata": {},
     "output_type": "execute_result"
    }
   ],
   "source": [
    "path = pydecode.best_path(graph, weights * 1.)\n",
    "pydecode.draw(graph, weights, inside, paths=[path])"
   ]
  },
  {
   "cell_type": "code",
   "execution_count": 76,
   "metadata": {
    "collapsed": false,
    "scrolled": true
   },
   "outputs": [
    {
     "data": {
      "image/png": "[encoded data removed]",
      "text/plain": [
       "<IPython.core.display.Image object>"
      ]
     },
     "execution_count": 76,
     "metadata": {},
     "output_type": "execute_result"
    }
   ],
   "source": [
    "items = np.arange(100)\n",
    "#print items\n",
    "chart = pydecode.ChartBuilder(items)   \n",
    "\n",
    "i=1\n",
    "n=0\n",
    "m=2\n",
    "\n",
    "chart.init(items[0:m]) # Die Quadrate werden erstellt\n",
    "\n",
    "#for i in range(m):\n",
    "\n",
    "chart.set_t(items[10],                  # 1 ist verbunden...\n",
    "            items[n:m],                # ...mit den Ovalen.\n",
    "            labels=np.arange(m)\n",
    "           )       # Bezeichnung der Ovale\n",
    "chart.set_t(items[10],                  # 1 ist verbunden...\n",
    "            items[n:m],                # ...mit den Ovalen.\n",
    "            labels=np.arange(m)\n",
    "           )       # Bezeichnung der Ovale\n",
    "pydecode.draw(chart.finish(), labels=True)"
   ]
  },
  {
   "cell_type": "code",
   "execution_count": null,
   "metadata": {
    "collapsed": true
   },
   "outputs": [],
   "source": []
  }
 ],
 "metadata": {
  "kernelspec": {
   "display_name": "Python 2",
   "language": "python",
   "name": "python2"
  },
  "language_info": {
   "codemirror_mode": {
    "name": "ipython",
    "version": 2
   },
   "file_extension": ".py",
   "mimetype": "text/x-python",
   "name": "python",
   "nbconvert_exporter": "python",
   "pygments_lexer": "ipython2",
   "version": "2.7.9"
  }
 },
 "nbformat": 4,
 "nbformat_minor": 0
}
