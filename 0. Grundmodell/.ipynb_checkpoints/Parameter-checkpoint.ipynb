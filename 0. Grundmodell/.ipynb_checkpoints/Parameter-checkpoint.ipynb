{
 "cells": [
  {
   "cell_type": "code",
   "execution_count": 1,
   "metadata": {
    "collapsed": true
   },
   "outputs": [],
   "source": [
    "__version__ = '1.0'\n",
    "__author__  = \"Robert Matern (r.matern@stud.uni-hannover.de)\"\n",
    "__date__    = 'Sonntag, 16. August 2015 (MESZ)'\n",
    "__copyright__ = \"(C) 2015 Robert Matern\""
   ]
  },
  {
   "cell_type": "code",
   "execution_count": 2,
   "metadata": {
    "collapsed": true
   },
   "outputs": [],
   "source": [
    "import numpy as np\n",
    "import datetime"
   ]
  },
  {
   "cell_type": "markdown",
   "metadata": {},
   "source": [
    "#Parameter"
   ]
  },
  {
   "cell_type": "markdown",
   "metadata": {},
   "source": [
    "## Parameter für das Grundmodell\n",
    "###Produktanfrage\n",
    "Eine Produktanfrage $j$ aus der Menge an Produktanfragen $\\mathcal{J}$:"
   ]
  },
  {
   "cell_type": "code",
   "execution_count": 3,
   "metadata": {
    "collapsed": false
   },
   "outputs": [],
   "source": [
    "def Product(j):\n",
    "    '''Produkte 'j' aus 'J'.'''\n",
    "    return np.arange(j+1, dtype=np.uint16)"
   ]
  },
  {
   "cell_type": "markdown",
   "metadata": {},
   "source": [
    "###Ressourcen\n",
    "\n",
    "Eine Ressourcen $h$ aus der Menge an Ressourcen $\\mathcal{H}$:"
   ]
  },
  {
   "cell_type": "code",
   "execution_count": 4,
   "metadata": {
    "collapsed": false
   },
   "outputs": [],
   "source": [
    "def Resource(h):\n",
    "    '''Ressourcen 'h' aus 'H'.'''\n",
    "    return np.arange(h+1, dtype=np.uint16)"
   ]
  },
  {
   "cell_type": "markdown",
   "metadata": {},
   "source": [
    "### Kapazität der Ressourcen\n",
    "\n",
    "Für jeder Ressource $h \\in \\mathcal{H}$ gibt es eine vordefinierte Kapazität $c_h$:"
   ]
  },
  {
   "cell_type": "code",
   "execution_count": 5,
   "metadata": {
    "collapsed": false
   },
   "outputs": [],
   "source": [
    "def Capacity(h):\n",
    "    '''Kapazität 'c[h]' der Ressourcen 'h' aus 'H'.'''\n",
    "    matrix = np.zeros(shape=(len(h)), dtype=np.int16)\n",
    "    return matrix"
   ]
  },
  {
   "cell_type": "markdown",
   "metadata": {},
   "source": [
    "### Ressourcenverbrauch\n",
    "\n",
    "Die Matrix $\\textbf{A}$ zeigt für eine jede Produktanfrage $j \\in \\mathcal{J}$ den dafür notwendigen Ressourcenverbrauch. Ein Vektor $\\textbf{a}_{j}$ zeigt für eine Produktanfrage $j \\in \\mathcal{J}$ den jeweiligen Ressourcenverbrauch:"
   ]
  },
  {
   "cell_type": "code",
   "execution_count": 6,
   "metadata": {
    "collapsed": false
   },
   "outputs": [],
   "source": [
    "def Consumption(j, h):\n",
    "    '''Matrix 'A' mit den Parametern der Ressourcen-\n",
    "    verbräuchen 'a[j,h]' für die Produkte 'j' aus 'J'\n",
    "    und die Ressourcen 'h' aus 'H'.'''\n",
    "    matrix = np.zeros(shape=(len(j),len(h)), dtype=np.uint16)\n",
    "    return matrix"
   ]
  },
  {
   "cell_type": "markdown",
   "metadata": {},
   "source": [
    "### Ertrag (Revenue)\n",
    "\n",
    "Jede Produktanfrage $j\\in\\mathcal{J}$ erzielt einen Ertrag $r_j$:"
   ]
  },
  {
   "cell_type": "code",
   "execution_count": 7,
   "metadata": {
    "collapsed": false
   },
   "outputs": [],
   "source": [
    "def Revenue(j):\n",
    "    '''Erträge 'r[j]' der Produkte 'j' aus 'J'.'''\n",
    "    vector = np.zeros(shape=(len(j)), dtype=np.uint16)\n",
    "    return vector"
   ]
  },
  {
   "cell_type": "markdown",
   "metadata": {},
   "source": [
    "### Buchungsperioden\n",
    "\n",
    "Der Buchungshorizont wird durch den Paramter $T$ definiert. Die jeweilig betrachtete Periode entspricht dem Parameter $t$. Dabei verläuft der Buchungshorizont rückwärts in der Zeit, so dass die erste Buchungsperiode $t=T$ und die letzte Buchungsperiode $t=0$ entspricht:"
   ]
  },
  {
   "cell_type": "code",
   "execution_count": 8,
   "metadata": {
    "collapsed": false
   },
   "outputs": [],
   "source": [
    "def Time(t):\n",
    "    '''Buchungshorizont 'T' mit einem Buchungs-\n",
    "    zeitpunkt 't'.'''\n",
    "    time = np.arange(t+1, dtype=np.uint16)\n",
    "    time = time[::-1]\n",
    "    return time"
   ]
  },
  {
   "cell_type": "markdown",
   "metadata": {},
   "source": [
    "### Wahrscheinlichkeit der Produktanfrage $j$\n",
    "\n",
    "Eine Produktanfrage $j$ zum Zeitpunkt $t$ hat eine bestimmte Eintrittfahrscheinlichkeit $p_j(t)$:"
   ]
  },
  {
   "cell_type": "code",
   "execution_count": 9,
   "metadata": {
    "collapsed": false
   },
   "outputs": [],
   "source": [
    "def Prob(j, t):\n",
    "    '''Matrix 'Prob' mit den Parametern 'p[j,t]', die\n",
    "    den Wahrscheinlichkeiten der Nachfrage nach einem\n",
    "    Produkt 'j' in der Buchungsperiode 't' entspricht.\n",
    "    --------------------------------------------------\n",
    "    ACHTUNG: Perioden aufsteigend sortiert!!!\n",
    "    --------------------------------------------------'''\n",
    "    matrix = np.zeros(shape=(len(j),len(t)))\n",
    "    return matrix"
   ]
  },
  {
   "cell_type": "markdown",
   "metadata": {},
   "source": [
    "### Gegenwahrscheinlichkeit keiner Produktanfrage \n",
    "\n",
    "Die Wahrscheinlichkeit, dass keine Anfrage eintrifft entspricht $p_0(t)$"
   ]
  },
  {
   "cell_type": "code",
   "execution_count": 10,
   "metadata": {
    "collapsed": false
   },
   "outputs": [],
   "source": [
    "def Against_Prob(prob):\n",
    "    ''' Gegenwahrscheinlichkeit keiner Produktanfrage.\n",
    "    Dabei entspricht der Paramter 'prob'\n",
    "    der Wahrscheinlichkeit der Produktanfragen.'''\n",
    "    matrix = prob.T\n",
    "    matrix2 = np.zeros(shape=(len(matrix)), dtype=np.float32)\n",
    "    for i in range(0, len(matrix)):\n",
    "        if matrix[i].sum() > np.float32(1.0):\n",
    "            raise ValueError('Wahrscheinlichkeit ist > 1 in der Buchungsperiode %i.' % i)\n",
    "        else:\n",
    "            matrix2[i] = np.float32(1.0)-np.float32(matrix[i].sum())\n",
    "    return matrix2"
   ]
  },
  {
   "cell_type": "markdown",
   "metadata": {},
   "source": [
    "## Parameter für die Memofunktion\n",
    "### Mögliche Systemzustände\n",
    "\n",
    "Die möglichen Systemzustände werden in Abhängigkeit der Kapazitäten der Ressourcen ermittelt. Es handelt sich um das Kartesisches Produkt der Ressourcenkapazitäten."
   ]
  },
  {
   "cell_type": "code",
   "execution_count": 11,
   "metadata": {
    "collapsed": false
   },
   "outputs": [],
   "source": [
    "def cartesian(arrays, out=None):\n",
    "    \"\"\"\n",
    "    Generate a cartesian product of input arrays.\n",
    "    \n",
    "    Quelle: http://stackoverflow.com/a/1235363/4913569\n",
    "    \n",
    "    Parameters\n",
    "    ----------\n",
    "    arrays : list of array-like\n",
    "        1-D arrays to form the cartesian product of.\n",
    "    out : ndarray\n",
    "        Array to place the cartesian product in.\n",
    "\n",
    "    Returns\n",
    "    -------\n",
    "    out : ndarray\n",
    "        2-D array of shape (M, len(arrays)) containing cartesian products\n",
    "        formed of input arrays.\n",
    "        \"\"\"\n",
    "\n",
    "    arrays = [np.asarray(x) for x in arrays]\n",
    "    dtype = arrays[0].dtype\n",
    "\n",
    "    n = np.prod([x.size for x in arrays])\n",
    "    if out is None:\n",
    "        out = np.zeros([n, len(arrays)], dtype=dtype)\n",
    "\n",
    "    m = n / arrays[0].size\n",
    "    out[:,0] = np.repeat(arrays[0], m)\n",
    "    if arrays[1:]:\n",
    "        cartesian(arrays[1:], out=out[0:m,1:])\n",
    "        for j in xrange(1, arrays[0].size):\n",
    "            out[j*m:(j+1)*m,1:] = out[0:m,1:]\n",
    "    \n",
    "    return out\n",
    "\n",
    "\n",
    "def Condition(capacities, resources, times):\n",
    "    '''Berechnung der möglichen Systemzustände eines Netzwerks\n",
    "    mit c Kapazitäten, r Ressourcen und t Perioden.'''\n",
    "\n",
    "    a = datetime.datetime.now()\n",
    "    \n",
    "    arrays = [range(i) for i in capacities[1:]+1]\n",
    "    arrays.append(times)\n",
    "    for i in arrays:\n",
    "        np.append(arrays, np.array(i))\n",
    "    \n",
    "    conditions = cartesian(arrays)\n",
    "    \n",
    "    b = datetime.datetime.now()\n",
    "    print (b-a)\n",
    "    return conditions[::-1]"
   ]
  },
  {
   "cell_type": "markdown",
   "metadata": {},
   "source": [
    "### Mögliche Systemzustände inkl. Lagerhaltung\n",
    "\n",
    "Die möglichen Systemzustände werden bei der Auftragsannahme mit Lagerhaltung in Abhängigkeit der Kapazitäten der Ressourcen und des Lagerbestands ermittelt. Es handelt sich um das Kartesisches Produkt der Ressourcenkapazitäten."
   ]
  },
  {
   "cell_type": "code",
   "execution_count": 12,
   "metadata": {
    "collapsed": true
   },
   "outputs": [],
   "source": [
    "def Condition_Storage(capacities, resources, stocks, times):\n",
    "    '''Berechnung der möglichen Systemzustände eines Netzwerks\n",
    "    mit c Kapazitäten, r Ressourcen und t Perioden.'''\n",
    "\n",
    "    a = datetime.datetime.now()\n",
    "    \n",
    "    arrays = [range(i) for i in capacities[1:]+1]\n",
    "    stock_arrays = [range(i) for i in stocks[1:]+1]\n",
    "    for i in stock_arrays:\n",
    "        arrays.append(i)\n",
    "    arrays.append(times)\n",
    "    conditions = cartesian(arrays)\n",
    "    \n",
    "    b = datetime.datetime.now()\n",
    "    print (b-a)\n",
    "    return conditions[::-1]"
   ]
  },
  {
   "cell_type": "markdown",
   "metadata": {},
   "source": [
    "## Parameter für die Lagerhaltung\n",
    "###Lagerbestand\n",
    "Es existiert ein Lagerbestand $y_{h}$ an bereits reparierten Produkten. Dabei sind die Produkte mit den jeweiligen Ressourcen substituierbar. Die Lagerbestände lassen sich in Vektorschreibweise als $\\textbf{y}$ schreiben:"
   ]
  },
  {
   "cell_type": "code",
   "execution_count": 16,
   "metadata": {
    "collapsed": true
   },
   "outputs": [],
   "source": [
    "def Stock_Resource(h):\n",
    "    '''Lagerbestand 'y[h]' der Ressource 'h' aus 'H'.'''\n",
    "    vector = np.zeros(shape=(len(h)), dtype=np.int16)\n",
    "    return vector"
   ]
  },
  {
   "cell_type": "markdown",
   "metadata": {},
   "source": [
    "###Maximal möglicher Lagerbestand\n",
    "\n",
    "Es existiert für ein jedes bereits repariertes Produkt ein maximal möglicher Lagerbestand $y_{h}^{max}$. Die Lagerbestände aller reparierten Produkte lassen sich in Vektorschreibweise als $\\textbf{y}^{max}$ schreiben:"
   ]
  },
  {
   "cell_type": "code",
   "execution_count": 17,
   "metadata": {
    "collapsed": true
   },
   "outputs": [],
   "source": [
    "def Max_Stock_Resource(h):\n",
    "    '''Max. Lagerbestand 'ymax[h]' der Ressource 'h' aus 'H'.'''\n",
    "    vector = np.zeros(shape=(len(h)), dtype=np.int16)\n",
    "    return vector"
   ]
  }
 ],
 "metadata": {
  "kernelspec": {
   "display_name": "Python 2",
   "language": "python",
   "name": "python2"
  },
  "language_info": {
   "codemirror_mode": {
    "name": "ipython",
    "version": 2
   },
   "file_extension": ".py",
   "mimetype": "text/x-python",
   "name": "python",
   "nbconvert_exporter": "python",
   "pygments_lexer": "ipython2",
   "version": "2.7.10"
  }
 },
 "nbformat": 4,
 "nbformat_minor": 0
}
