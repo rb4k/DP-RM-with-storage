{
 "cells": [
  {
   "cell_type": "code",
   "execution_count": 5,
   "metadata": {
    "collapsed": true
   },
   "outputs": [],
   "source": [
    "__version__ = '0.3'\n",
    "__author__  = \"Robert Matern (r.matern@stud.uni-hannover.de)\"\n",
    "__date__    = ''\n",
    "__url__     = ''\n",
    "__copyright__ = \"(C) 2015 Robert Matern\""
   ]
  },
  {
   "cell_type": "code",
   "execution_count": 6,
   "metadata": {
    "collapsed": true
   },
   "outputs": [],
   "source": [
    "import numpy as np\n",
    "import datetime"
   ]
  },
  {
   "cell_type": "markdown",
   "metadata": {},
   "source": [
    "#Parameter"
   ]
  },
  {
   "cell_type": "markdown",
   "metadata": {},
   "source": [
    "Es werden für die Lagerhaltungsentscheidung neue Parameter benötigt:"
   ]
  },
  {
   "cell_type": "markdown",
   "metadata": {},
   "source": [
    "###Lagerbestand an Produkten\n",
    "Für ein Produkt $j$ aus der Menge an Produkten $\\mathcal{J}$ existiert ein Lagerbestand $y_{j}$. Die Lagerbestände aller Produkte lassen sich in Vektorschreibweise als $\\textbf{y}$ schreiben:"
   ]
  },
  {
   "cell_type": "code",
   "execution_count": 7,
   "metadata": {
    "collapsed": false
   },
   "outputs": [],
   "source": [
    "def Stock(j):\n",
    "    '''Lagerbestand 'y[j]' des Produkts 'j' aus 'J'.'''\n",
    "    vector = np.zeros(shape=(len(j)), dtype=np.int16)\n",
    "    return vector"
   ]
  },
  {
   "cell_type": "markdown",
   "metadata": {},
   "source": [
    "###Maximal möglicher Lagerbestand an Produkten\n",
    "\n",
    "Für ein Produkt $j$ aus der Menge an Produkten $\\mathcal{J}$ existiert ein maximal möglicher Lagerbestand $y_{j}^{max}$. Die Lagerbestände aller Produkte lassen sich in Vektorschreibweise als $\\textbf{y}^{max}$ schreiben:"
   ]
  },
  {
   "cell_type": "code",
   "execution_count": 8,
   "metadata": {
    "collapsed": true
   },
   "outputs": [],
   "source": [
    "def Max_Stock(j):\n",
    "    '''Max. Lagerbestand 'ymax[j]' des Produkts 'j' aus 'J'.'''\n",
    "    vector = np.zeros(shape=(len(j)), dtype=np.int16)\n",
    "    return vector"
   ]
  },
  {
   "cell_type": "markdown",
   "metadata": {},
   "source": [
    "###Lagerbestandsveränderung für das Produktlager\n",
    "Für ein Produkt $j$ aus der Menge an Produkten $\\mathcal{J}$ existiert ein Vektor $\\textbf{s}_{j}$, der die Veränderung des Lagerbestand definiert. Die Lagerbestandsveränderungen aller Produkte lassen sich in Matrixschreibweise als $\\textbf{S}$ schreiben (Einheitsmatrix):"
   ]
  },
  {
   "cell_type": "code",
   "execution_count": 9,
   "metadata": {
    "collapsed": true
   },
   "outputs": [],
   "source": [
    "def Shift(j):\n",
    "    '''Lagerbestandsveränderung 's[j]' des Produkts 'j' aus 'J'.'''\n",
    "    matrix = np.identity(len(j), dtype=np.int16)\n",
    "    return matrix"
   ]
  },
  {
   "cell_type": "markdown",
   "metadata": {},
   "source": [
    "###Lagerbestand an Ressourcen\n",
    "Für eine Ressource $h$ aus der Menge der Ressourcen $\\mathcal{H}$ existiert ein Lagerbestand $y_{h}^{res}$. Die Lagerbestände aller Ressourcen lassen sich in Vektorschreibweise als $\\textbf{y}^{res}$ schreiben:"
   ]
  },
  {
   "cell_type": "code",
   "execution_count": 10,
   "metadata": {
    "collapsed": false
   },
   "outputs": [],
   "source": [
    "def Stock_Resource(h):\n",
    "    '''Lagerbestand 'y[h]' der Ressource 'h' aus 'H'.'''\n",
    "    vector = np.zeros(shape=(len(h)), dtype=np.int16)\n",
    "    return vector"
   ]
  },
  {
   "cell_type": "markdown",
   "metadata": {},
   "source": [
    "###Maximal möglicher Lagerbestand an Ressourcen\n",
    "\n",
    "Für eine Ressource $h$ aus der Menge an Produkten $\\mathcal{H}$ existiert ein maximal möglicher Lagerbestand $y_{h}^{max,res}$. Die Lagerbestände aller Produkte lassen sich in Vektorschreibweise als $\\textbf{y}^{max,res}$ schreiben:"
   ]
  },
  {
   "cell_type": "code",
   "execution_count": 11,
   "metadata": {
    "collapsed": true
   },
   "outputs": [],
   "source": [
    "def Max_Stock_Resource(h):\n",
    "    '''Max. Lagerbestand 'ymax[h]' der Ressource 'h' aus 'H'.'''\n",
    "    vector = np.zeros(shape=(len(h)), dtype=np.int16)\n",
    "    return vector"
   ]
  },
  {
   "cell_type": "markdown",
   "metadata": {},
   "source": [
    "##Systemzustände\n",
    "\n",
    "### Mögliche Systemzustände\n",
    "\n",
    "Die möglichen Systemzustände werden bei der Auftragsannahme mit Lagerhaltung in Abhängigkeit der Kapazitäten der Ressourcen und des Lagerbestands ermittelt. Es handelt sich um das Kartesisches Produkt der Ressourcenkapazitäten."
   ]
  },
  {
   "cell_type": "code",
   "execution_count": 12,
   "metadata": {
    "collapsed": true
   },
   "outputs": [],
   "source": [
    "def cartesian(arrays, out=None):\n",
    "    \"\"\"\n",
    "    Generate a cartesian product of input arrays.\n",
    "    \n",
    "    Quelle: http://stackoverflow.com/a/1235363/4913569\n",
    "    \n",
    "    Parameters\n",
    "    ----------\n",
    "    arrays : list of array-like\n",
    "        1-D arrays to form the cartesian product of.\n",
    "    out : ndarray\n",
    "        Array to place the cartesian product in.\n",
    "\n",
    "    Returns\n",
    "    -------\n",
    "    out : ndarray\n",
    "        2-D array of shape (M, len(arrays)) containing cartesian products\n",
    "        formed of input arrays.\n",
    "        \"\"\"\n",
    "\n",
    "    arrays = [np.asarray(x) for x in arrays]\n",
    "    dtype = arrays[0].dtype\n",
    "\n",
    "    n = np.prod([x.size for x in arrays])\n",
    "    if out is None:\n",
    "        out = np.zeros([n, len(arrays)], dtype=dtype)\n",
    "\n",
    "    m = n / arrays[0].size\n",
    "    out[:,0] = np.repeat(arrays[0], m)\n",
    "    if arrays[1:]:\n",
    "        cartesian(arrays[1:], out=out[0:m,1:])\n",
    "        for j in xrange(1, arrays[0].size):\n",
    "            out[j*m:(j+1)*m,1:] = out[0:m,1:]\n",
    "    \n",
    "    return out\n",
    "\n",
    "\n",
    "def Condition_Storage(capacities, resources, stocks, times):\n",
    "    '''Berechnung der möglichen Systemzustände eines Netzwerks\n",
    "    mit c Kapazitäten, r Ressourcen und t Perioden.'''\n",
    "\n",
    "    a = datetime.datetime.now()\n",
    "    \n",
    "    arrays = [range(i) for i in capacities[1:]+1]\n",
    "    stock_arrays = [range(i) for i in stocks[1:]+1]\n",
    "    for i in stock_arrays:\n",
    "        arrays.append(i)\n",
    "    arrays.append(times)\n",
    "    conditions = cartesian(arrays)\n",
    "    \n",
    "    b = datetime.datetime.now()\n",
    "    print (b-a)\n",
    "    return conditions[::-1]"
   ]
  },
  {
   "cell_type": "markdown",
   "metadata": {},
   "source": [
    "### Leistungsperioden"
   ]
  },
  {
   "cell_type": "code",
   "execution_count": null,
   "metadata": {
    "collapsed": true
   },
   "outputs": [],
   "source": [
    "def Performance_Time(times, k):\n",
    "    if len(times) == 4:\n",
    "        array = np.split(times[:-1], 3)\n",
    "    else:\n",
    "        array = np.split(times[:-1], len(times[:-1])//k)\n",
    "    return array"
   ]
  }
 ],
 "metadata": {
  "kernelspec": {
   "display_name": "Python 2",
   "language": "python",
   "name": "python2"
  },
  "language_info": {
   "codemirror_mode": {
    "name": "ipython",
    "version": 2
   },
   "file_extension": ".py",
   "mimetype": "text/x-python",
   "name": "python",
   "nbconvert_exporter": "python",
   "pygments_lexer": "ipython2",
   "version": "2.7.10"
  }
 },
 "nbformat": 4,
 "nbformat_minor": 0
}
