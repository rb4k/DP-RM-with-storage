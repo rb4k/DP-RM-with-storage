{
 "cells": [
  {
   "cell_type": "code",
   "execution_count": 106,
   "metadata": {
    "collapsed": false
   },
   "outputs": [],
   "source": [
    "__version__ = '0.3'\n",
    "__author__  = \"Robert Matern (r.matern@stud.uni-hannover.de)\"\n",
    "__date__    = ''\n",
    "__url__     = ''\n",
    "__copyright__ = \"(C) 2015 Robert Matern\""
   ]
  },
  {
   "cell_type": "markdown",
   "metadata": {},
   "source": [
    "#Beispieldaten Nr. 1"
   ]
  },
  {
   "cell_type": "code",
   "execution_count": 107,
   "metadata": {
    "collapsed": true
   },
   "outputs": [],
   "source": [
    "# Funktionen werden hinzugeladen.\n",
    "%run Parameter.ipynb"
   ]
  },
  {
   "cell_type": "code",
   "execution_count": 108,
   "metadata": {
    "collapsed": false
   },
   "outputs": [
    {
     "name": "stdout",
     "output_type": "stream",
     "text": [
      "0:00:00.000322\n"
     ]
    }
   ],
   "source": [
    "# Produkte\n",
    "products = Product(2)\n",
    "\n",
    "# Ressourcen\n",
    "resources = Resource(2)\n",
    "\n",
    "#Kapazität\n",
    "capacities = Capacity(resources)\n",
    "capacities[1] = 2\n",
    "capacities[2] = 1\n",
    "\n",
    "# Ressourcenverbrauch\n",
    "consumtions = Consumption(products, resources)\n",
    "consumtions[1] = [0,1,0]\n",
    "consumtions[2] = [0,0,1]\n",
    "\n",
    "# Erträge\n",
    "revenues = Revenue(products)\n",
    "revenues[1] = 100\n",
    "revenues[2] = 200\n",
    "\n",
    "# Buchungshorizont\n",
    "times = Time(4)\n",
    "\n",
    "# Wahrscheinlichkeiten\n",
    "probs = Prob(products, times)\n",
    "probs[1] = [0, 0.5, 0.5, 0.5, 0.5]\n",
    "probs[2] = [0, 0.1, 0.1, 0.1, 0.1]\n",
    "\n",
    "# Gegenwahrscheinlichkeiten\n",
    "against_probs = Against_Prob(probs)\n",
    "probs[0] = against_probs\n",
    "\n",
    "# Systemzustände\n",
    "conditions = Condition(capacities, resources, times)\n",
    "\n",
    "# Endzeitpunkte\n",
    "#end_times = End_Time(conditions)"
   ]
  },
  {
   "cell_type": "code",
   "execution_count": 109,
   "metadata": {
    "collapsed": false
   },
   "outputs": [
    {
     "name": "stdout",
     "output_type": "stream",
     "text": [
      "Python Version 2.7.10 |Anaconda 2.2.0 (x86_64)| (default, May 28 2015, 17:04:42) \n",
      "[GCC 4.2.1 (Apple Inc. build 5577)]\n",
      "Numpy Version 1.9.2\n",
      "Matplotlib Version 1.4.3\n",
      "Pandas Version 0.16.2\n"
     ]
    }
   ],
   "source": [
    "%run DynamicProgramm.ipynb"
   ]
  },
  {
   "cell_type": "code",
   "execution_count": 110,
   "metadata": {
    "collapsed": false
   },
   "outputs": [
    {
     "name": "stdout",
     "output_type": "stream",
     "text": [
      "c[h]: [2 1] - t: 0 - d(c,t): [0 0] - V(c,t): 0.0 - j*: 0 - OC[j*]: 0\n",
      "c[h]: [1 1] - t: 0 - d(c,t): [0 0] - V(c,t): 0.0 - j*: 0 - OC[j*]: 0\n",
      "c[h]: [2 0] - t: 0 - d(c,t): [0 0] - V(c,t): 0.0 - j*: 0 - OC[j*]: 0\n",
      "c[h]: [2 1] - t: 1 - d(c,t): [1 1] - V(c,t): 70.0 - j*: 2 - OC[j*]: 200.0\n",
      "c[h]: [0 1] - t: 0 - d(c,t): [0 0] - V(c,t): 0.0 - j*: 0 - OC[j*]: 0\n",
      "c[h]: [1 0] - t: 0 - d(c,t): [0 0] - V(c,t): 0.0 - j*: 0 - OC[j*]: 0\n",
      "c[h]: [1 1] - t: 1 - d(c,t): [1 1] - V(c,t): 70.0 - j*: 2 - OC[j*]: 200.0\n",
      "c[h]: [2 0] - t: 1 - d(c,t): [1 0] - V(c,t): 50.0 - j*: 1 - OC[j*]: 100.0\n",
      "c[h]: [2 1] - t: 2 - d(c,t): [1 1] - V(c,t): 138.0 - j*: 2 - OC[j*]: 180.0\n",
      "c[h]: [0 0] - t: 0 - d(c,t): [0 0] - V(c,t): 0.0 - j*: 0 - OC[j*]: 0\n",
      "c[h]: [0 1] - t: 1 - d(c,t): [0 1] - V(c,t): 20.0 - j*: 2 - OC[j*]: 200.0\n",
      "c[h]: [1 0] - t: 1 - d(c,t): [1 0] - V(c,t): 50.0 - j*: 1 - OC[j*]: 100.0\n",
      "c[h]: [1 1] - t: 2 - d(c,t): [1 1] - V(c,t): 113.0 - j*: 2 - OC[j*]: 180.0\n",
      "c[h]: [2 0] - t: 2 - d(c,t): [1 0] - V(c,t): 100.0 - j*: 1 - OC[j*]: 100.0\n",
      "c[h]: [2 1] - t: 3 - d(c,t): [1 1] - V(c,t): 191.688 - j*: 2 - OC[j*]: 162.0\n",
      "c[h]: [0 0] - t: 1 - d(c,t): [0 0] - V(c,t): 0.0 - j*: 0 - OC[j*]: 0\n",
      "c[h]: [0 1] - t: 2 - d(c,t): [0 1] - V(c,t): 38.0 - j*: 2 - OC[j*]: 180.0\n",
      "c[h]: [1 0] - t: 2 - d(c,t): [1 0] - V(c,t): 75.0 - j*: 1 - OC[j*]: 50.0\n",
      "c[h]: [1 1] - t: 3 - d(c,t): [1 1] - V(c,t): 141.703 - j*: 2 - OC[j*]: 162.0\n",
      "c[h]: [2 0] - t: 3 - d(c,t): [1 0] - V(c,t): 137.5 - j*: 1 - OC[j*]: 75.0\n",
      "c[h]: [2 1] - t: 4 - d(c,t): [1 1] - V(c,t): 231.25 - j*: 2 - OC[j*]: 145.812\n"
     ]
    },
    {
     "data": {
      "text/plain": [
       "231.25"
      ]
     },
     "execution_count": 110,
     "metadata": {},
     "output_type": "execute_result"
    }
   ],
   "source": [
    "solutions={}\n",
    "\n",
    "DP(solutions, conditions, products, resources, capacities, consumtions, times, revenues, probs)"
   ]
  },
  {
   "cell_type": "code",
   "execution_count": 111,
   "metadata": {
    "collapsed": false
   },
   "outputs": [],
   "source": [
    "graph = Structure(solutions, conditions, products, consumtions, revenues, probs)"
   ]
  },
  {
   "cell_type": "code",
   "execution_count": 112,
   "metadata": {
    "collapsed": false
   },
   "outputs": [
    {
     "data": {
      "text/html": [
       "<div>\n",
       "<table border=\"1\" class=\"dataframe\">\n",
       "  <thead>\n",
       "    <tr style=\"text-align: right;\">\n",
       "      <th></th>\n",
       "      <th>$c_{1}$</th>\n",
       "      <th>$c_{2}$</th>\n",
       "      <th>$t$</th>\n",
       "      <th>ExpValue</th>\n",
       "      <th>$j={1}$</th>\n",
       "      <th>$j={2}$</th>\n",
       "    </tr>\n",
       "  </thead>\n",
       "  <tbody>\n",
       "    <tr>\n",
       "      <th>4</th>\n",
       "      <td>2</td>\n",
       "      <td>1</td>\n",
       "      <td>4</td>\n",
       "      <td>231.250000</td>\n",
       "      <td>1</td>\n",
       "      <td>1</td>\n",
       "    </tr>\n",
       "    <tr>\n",
       "      <th>3</th>\n",
       "      <td>2</td>\n",
       "      <td>1</td>\n",
       "      <td>3</td>\n",
       "      <td>191.687500</td>\n",
       "      <td>1</td>\n",
       "      <td>1</td>\n",
       "    </tr>\n",
       "    <tr>\n",
       "      <th>8</th>\n",
       "      <td>2</td>\n",
       "      <td>0</td>\n",
       "      <td>3</td>\n",
       "      <td>137.500000</td>\n",
       "      <td>1</td>\n",
       "      <td>0</td>\n",
       "    </tr>\n",
       "    <tr>\n",
       "      <th>13</th>\n",
       "      <td>1</td>\n",
       "      <td>1</td>\n",
       "      <td>3</td>\n",
       "      <td>141.703125</td>\n",
       "      <td>1</td>\n",
       "      <td>1</td>\n",
       "    </tr>\n",
       "    <tr>\n",
       "      <th>17</th>\n",
       "      <td>1</td>\n",
       "      <td>0</td>\n",
       "      <td>2</td>\n",
       "      <td>75.000000</td>\n",
       "      <td>1</td>\n",
       "      <td>0</td>\n",
       "    </tr>\n",
       "    <tr>\n",
       "      <th>2</th>\n",
       "      <td>2</td>\n",
       "      <td>1</td>\n",
       "      <td>2</td>\n",
       "      <td>138.000000</td>\n",
       "      <td>1</td>\n",
       "      <td>1</td>\n",
       "    </tr>\n",
       "    <tr>\n",
       "      <th>22</th>\n",
       "      <td>0</td>\n",
       "      <td>1</td>\n",
       "      <td>2</td>\n",
       "      <td>38.000000</td>\n",
       "      <td>0</td>\n",
       "      <td>1</td>\n",
       "    </tr>\n",
       "    <tr>\n",
       "      <th>7</th>\n",
       "      <td>2</td>\n",
       "      <td>0</td>\n",
       "      <td>2</td>\n",
       "      <td>100.000000</td>\n",
       "      <td>1</td>\n",
       "      <td>0</td>\n",
       "    </tr>\n",
       "    <tr>\n",
       "      <th>12</th>\n",
       "      <td>1</td>\n",
       "      <td>1</td>\n",
       "      <td>2</td>\n",
       "      <td>113.000000</td>\n",
       "      <td>1</td>\n",
       "      <td>1</td>\n",
       "    </tr>\n",
       "    <tr>\n",
       "      <th>11</th>\n",
       "      <td>1</td>\n",
       "      <td>1</td>\n",
       "      <td>1</td>\n",
       "      <td>70.000000</td>\n",
       "      <td>1</td>\n",
       "      <td>1</td>\n",
       "    </tr>\n",
       "    <tr>\n",
       "      <th>6</th>\n",
       "      <td>2</td>\n",
       "      <td>0</td>\n",
       "      <td>1</td>\n",
       "      <td>50.000000</td>\n",
       "      <td>1</td>\n",
       "      <td>0</td>\n",
       "    </tr>\n",
       "    <tr>\n",
       "      <th>21</th>\n",
       "      <td>0</td>\n",
       "      <td>1</td>\n",
       "      <td>1</td>\n",
       "      <td>20.000000</td>\n",
       "      <td>0</td>\n",
       "      <td>1</td>\n",
       "    </tr>\n",
       "    <tr>\n",
       "      <th>1</th>\n",
       "      <td>2</td>\n",
       "      <td>1</td>\n",
       "      <td>1</td>\n",
       "      <td>70.000000</td>\n",
       "      <td>1</td>\n",
       "      <td>1</td>\n",
       "    </tr>\n",
       "    <tr>\n",
       "      <th>16</th>\n",
       "      <td>1</td>\n",
       "      <td>0</td>\n",
       "      <td>1</td>\n",
       "      <td>50.000000</td>\n",
       "      <td>1</td>\n",
       "      <td>0</td>\n",
       "    </tr>\n",
       "    <tr>\n",
       "      <th>20</th>\n",
       "      <td>0</td>\n",
       "      <td>1</td>\n",
       "      <td>0</td>\n",
       "      <td>0.000000</td>\n",
       "      <td>0</td>\n",
       "      <td>0</td>\n",
       "    </tr>\n",
       "    <tr>\n",
       "      <th>0</th>\n",
       "      <td>2</td>\n",
       "      <td>1</td>\n",
       "      <td>0</td>\n",
       "      <td>0.000000</td>\n",
       "      <td>0</td>\n",
       "      <td>0</td>\n",
       "    </tr>\n",
       "    <tr>\n",
       "      <th>15</th>\n",
       "      <td>1</td>\n",
       "      <td>0</td>\n",
       "      <td>0</td>\n",
       "      <td>0.000000</td>\n",
       "      <td>0</td>\n",
       "      <td>0</td>\n",
       "    </tr>\n",
       "    <tr>\n",
       "      <th>10</th>\n",
       "      <td>1</td>\n",
       "      <td>1</td>\n",
       "      <td>0</td>\n",
       "      <td>0.000000</td>\n",
       "      <td>0</td>\n",
       "      <td>0</td>\n",
       "    </tr>\n",
       "    <tr>\n",
       "      <th>5</th>\n",
       "      <td>2</td>\n",
       "      <td>0</td>\n",
       "      <td>0</td>\n",
       "      <td>0.000000</td>\n",
       "      <td>0</td>\n",
       "      <td>0</td>\n",
       "    </tr>\n",
       "    <tr>\n",
       "      <th>25</th>\n",
       "      <td>0</td>\n",
       "      <td>0</td>\n",
       "      <td>0</td>\n",
       "      <td>0.000000</td>\n",
       "      <td>0</td>\n",
       "      <td>0</td>\n",
       "    </tr>\n",
       "  </tbody>\n",
       "</table>\n",
       "</div>"
      ],
      "text/plain": [
       "    $c_{1}$  $c_{2}$  $t$    ExpValue  $j={1}$  $j={2}$\n",
       "4         2        1    4  231.250000        1        1\n",
       "3         2        1    3  191.687500        1        1\n",
       "8         2        0    3  137.500000        1        0\n",
       "13        1        1    3  141.703125        1        1\n",
       "17        1        0    2   75.000000        1        0\n",
       "2         2        1    2  138.000000        1        1\n",
       "22        0        1    2   38.000000        0        1\n",
       "7         2        0    2  100.000000        1        0\n",
       "12        1        1    2  113.000000        1        1\n",
       "11        1        1    1   70.000000        1        1\n",
       "6         2        0    1   50.000000        1        0\n",
       "21        0        1    1   20.000000        0        1\n",
       "1         2        1    1   70.000000        1        1\n",
       "16        1        0    1   50.000000        1        0\n",
       "20        0        1    0    0.000000        0        0\n",
       "0         2        1    0    0.000000        0        0\n",
       "15        1        0    0    0.000000        0        0\n",
       "10        1        1    0    0.000000        0        0\n",
       "5         2        0    0    0.000000        0        0\n",
       "25        0        0    0    0.000000        0        0"
      ]
     },
     "execution_count": 112,
     "metadata": {},
     "output_type": "execute_result"
    }
   ],
   "source": [
    "Opt_Politic(solutions, resources, products)"
   ]
  }
 ],
 "metadata": {
  "kernelspec": {
   "display_name": "Python 2",
   "language": "python",
   "name": "python2"
  },
  "language_info": {
   "codemirror_mode": {
    "name": "ipython",
    "version": 2
   },
   "file_extension": ".py",
   "mimetype": "text/x-python",
   "name": "python",
   "nbconvert_exporter": "python",
   "pygments_lexer": "ipython2",
   "version": "2.7.10"
  }
 },
 "nbformat": 4,
 "nbformat_minor": 0
}
