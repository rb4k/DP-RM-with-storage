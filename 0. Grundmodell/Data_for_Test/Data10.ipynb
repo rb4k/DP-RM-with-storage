{
 "cells": [
  {
   "cell_type": "code",
   "execution_count": 1,
   "metadata": {
    "collapsed": true
   },
   "outputs": [],
   "source": [
    "__version__ = '0.3'\n",
    "__author__  = \"Robert Matern (r.matern@stud.uni-hannover.de)\"\n",
    "__date__    = ''\n",
    "__url__     = ''\n",
    "__copyright__ = \"(C) 2015 Robert Matern\""
   ]
  },
  {
   "cell_type": "markdown",
   "metadata": {},
   "source": [
    "#Beispieldaten Nr. 10"
   ]
  },
  {
   "cell_type": "code",
   "execution_count": 3,
   "metadata": {
    "collapsed": false
   },
   "outputs": [
    {
     "name": "stdout",
     "output_type": "stream",
     "text": [
      "0:00:00.015335\n"
     ]
    }
   ],
   "source": [
    "# Produkte\n",
    "products = Product(5)\n",
    "\n",
    "# Ressourcen\n",
    "resources = Resource(4)\n",
    "\n",
    "#Kapazität\n",
    "capacities = Capacity(resources)\n",
    "capacities[1] = 10\n",
    "capacities[2] = 10\n",
    "capacities[3] = 10\n",
    "capacities[4] = 10\n",
    "#capacities[5] = 5\n",
    "#capacities[6] = 5\n",
    "#capacities[7] = 5\n",
    "#capacities[8] = 5\n",
    "#capacities[9] = 5\n",
    "#capacities[10] = 5\n",
    "#capacities[11] = 5\n",
    "#capacities[12] = 5\n",
    "#capacities[13] = 5\n",
    "\n",
    "# Ressourcenverbrauch\n",
    "consumtions = Consumption(products, resources)\n",
    "consumtions[1] = [0,1,0,1,0]#,1,1,0,1,1,1,1,0,1]\n",
    "consumtions[2] = [0,0,1,0,1]#,1,0,0,1,1,0,1,1,0]\n",
    "consumtions[3] = [0,1,1,1,0]#,0]#,1,1,0,0,0,1,0,0]\n",
    "consumtions[4] = [0,1,1,0,1]#,1]#,1,0,1,1,0,0,0,0]\n",
    "consumtions[5] = [0,0,1,1,0]#,0]#,0,0,1,1,1,1,0,1]\n",
    "\n",
    "# Erträge\n",
    "revenues = Revenue(products)\n",
    "revenues[1] = 100\n",
    "revenues[2] = 200\n",
    "revenues[3] = 200\n",
    "revenues[4] = 220\n",
    "revenues[5] = 150\n",
    "\n",
    "# Buchungshorizont\n",
    "times = Time(10)\n",
    "\n",
    "# Wahrscheinlichkeiten\n",
    "probs = Prob(products, times)\n",
    "probs[1] = [0, 0.3, 0.1, 0.2, 0.1, 0.3, 0.2, 0.1, 0.2, 0.3, 0.5]\n",
    "probs[2] = [0, 0.2, 0.1, 0.5, 0.1, 0.3, 0.2, 0.1, 0.2, 0.3, 0.2]\n",
    "probs[3] = [0, 0.3, 0.2, 0.1, 0.0, 0.3, 0.1, 0.1, 0.2, 0.0, 0.1]\n",
    "probs[4] = [0, 0.0, 0.1, 0.0, 0.6, 0.0, 0.2, 0.1, 0.1, 0.1, 0.1]\n",
    "probs[5] = [0, 0.1, 0.2, 0.1, 0.1, 0.1, 0.2, 0.0, 0.2, 0.1, 0.0]\n",
    "\n",
    "# Gegenwahrscheinlichkeiten\n",
    "against_probs = Against_Prob(probs)\n",
    "probs[0] = against_probs\n",
    "\n",
    "# Tat. Nachfrage\n",
    "demands = Demand(products, times)\n",
    "demands[0] = [0, 1, 1, 1, 1, 1, 1, 1, 1, 1, 1] # Keine Anfragen müssen immer möglich sein!\n",
    "demands[1] = [0, 1, 1, 1, 1, 1, 0, 0, 1, 1, 0]\n",
    "demands[2] = [0, 0, 0, 0, 1, 0, 0, 1, 0, 1, 0]\n",
    "demands[3] = [0, 1, 0, 0, 1, 1, 0, 1, 1, 0, 0]\n",
    "demands[4] = [0, 1, 1, 0, 0, 0, 1, 1, 1, 1, 0]\n",
    "demands[5] = [0, 0, 0, 0, 0, 0, 0, 0, 0, 1, 0]\n",
    "\n",
    "# Systemzustände\n",
    "conditions = Condition(capacities, resources, times)\n",
    "\n",
    "# Endzeitpunkte\n",
    "#end_times = End_Time(conditions)"
   ]
  }
 ],
 "metadata": {
  "kernelspec": {
   "display_name": "Python 2",
   "language": "python",
   "name": "python2"
  },
  "language_info": {
   "codemirror_mode": {
    "name": "ipython",
    "version": 2
   },
   "file_extension": ".py",
   "mimetype": "text/x-python",
   "name": "python",
   "nbconvert_exporter": "python",
   "pygments_lexer": "ipython2",
   "version": "2.7.9"
  }
 },
 "nbformat": 4,
 "nbformat_minor": 0
}
