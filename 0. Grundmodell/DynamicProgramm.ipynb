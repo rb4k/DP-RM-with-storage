{
 "cells": [
  {
   "cell_type": "code",
   "execution_count": 6,
   "metadata": {
    "collapsed": true
   },
   "outputs": [],
   "source": [
    "__version__ = '1.0'\n",
    "__author__  = \"Robert Matern (r.matern@stud.uni-hannover.de)\"\n",
    "__date__    = 'Sonntag, 16. August 2015 (MESZ)'\n",
    "__copyright__ = \"(C) 2015 Robert Matern\""
   ]
  },
  {
   "cell_type": "code",
   "execution_count": 7,
   "metadata": {
    "collapsed": false
   },
   "outputs": [
    {
     "name": "stdout",
     "output_type": "stream",
     "text": [
      "Python Version 2.7.10 |Anaconda 2.2.0 (x86_64)| (default, May 28 2015, 17:04:42) \n",
      "[GCC 4.2.1 (Apple Inc. build 5577)]\n",
      "Numpy Version 1.9.2\n",
      "Matplotlib Version 1.4.3\n",
      "Pandas Version 0.16.2\n"
     ]
    }
   ],
   "source": [
    "import numpy as np\n",
    "import pandas as pd\n",
    "import matplotlib as plt\n",
    "import sys\n",
    "\n",
    "print 'Python Version ' + sys.version\n",
    "print 'Numpy Version ' + np.__version__\n",
    "print 'Matplotlib Version ' + plt.__version__\n",
    "print 'Pandas Version ' + pd.__version__"
   ]
  },
  {
   "cell_type": "markdown",
   "metadata": {},
   "source": [
    "#Dynamisches Programm"
   ]
  },
  {
   "cell_type": "markdown",
   "metadata": {},
   "source": [
    "Die normale Modellformulierung des Auftragsannahmeproblems im Revenue Management:\n",
    "\n",
    "$$V(\\textbf{c}, t) = \\sum_{j \\in \\mathcal{J}}p_{j}(t)\\max[V(\\textbf{c}, t-1), r_{j} + V(\\textbf{c}-\\textbf{a}_j, t-1)] + p_{0}(t)V(\\textbf{c}, t-1) $$\n",
    "\n",
    "$$= V(\\textbf{c}, t-1) + \\sum_{j \\in \\mathcal{J}}p_{j}(t) \\max[r_j - V(\\textbf{c}, t-1) + V(\\textbf{c}-\\textbf{a}_j, t-1), 0]$$"
   ]
  },
  {
   "cell_type": "markdown",
   "metadata": {},
   "source": [
    "## Algorithmus"
   ]
  },
  {
   "cell_type": "code",
   "execution_count": 8,
   "metadata": {
    "collapsed": false
   },
   "outputs": [],
   "source": [
    "def DP(solutions, conditions, products, resources, capacities, consumtions, times, revenues, probs):\n",
    "    '''Berechnung der Erwartungswerte des Auftragsannahmeproblems.'''\n",
    "    \n",
    "    # Leere Wert für den Erwartungswert des aktuellen Systemzustands.\n",
    "    value = 0\n",
    "    \n",
    "    #Aktueller Systemzustand wird generiert.\n",
    "    condition = np.append(capacities[1:], times[0])\n",
    "    \n",
    "    #Aktueller Systemzustand wird in dem 'np.array' aller möglichen Systemzustände gesucht.\n",
    "    state = np.where((conditions == condition).all(axis=1))[0][0]\n",
    "    \n",
    "    # Memofunktion: Die Rechnung wird nur fortgeführt, sofern es nicht schon berechnet wurde.\n",
    "    if state not in solutions:\n",
    "                \n",
    "        # Sofern es sich nicht um einen Endknoten des Entscheidungsbaums handelt,\n",
    "        # werden folgende Schritte eingeleitet:\n",
    "        if times[0]!=0:\n",
    "            \n",
    "            # Der Erwartungswert t-1 ohne Akeptanz wird ermittelt und im Wert 'reject' gespeichert.\n",
    "            reject = DP(solutions, conditions, products, resources, capacities, consumtions, times[1:], revenues, probs)\n",
    "            \n",
    "            # Für die Aufträge wird ein Numpy-Array in der Länge der Anzahl an Produkten erstellt.\n",
    "            max_order = np.zeros(shape=(len(products[1:])), dtype=np.float16)\n",
    "            accept = np.zeros(shape=(len(products[1:])), dtype=np.float16)\n",
    "            index_order = np.zeros(shape=(len(products[1:])), dtype=np.uint8)\n",
    "            oc_order = np.zeros(shape=(len(products[1:])), dtype=np.float16)\n",
    "            \n",
    "            # For-Schleife über alle möglichen Produktanfragen.\n",
    "            product = (j for j in products[1:] if probs[j][times[0]] > 0)\n",
    "            for j in product:\n",
    "                \n",
    "                # Veränderung der Kapazität.\n",
    "                change = capacities-consumtions[j]\n",
    "                \n",
    "                # Prüfung, ob Kapazität einen negativen Wert annimmt.\n",
    "                if np.all((change) >= np.float32(0)):\n",
    "                    # Initialisierung der Rechnung für Auftragsannahme.\n",
    "                    accept_j = DP(solutions, conditions, products, resources, change, consumtions, times[1:], revenues, probs)\n",
    "                    oc = reject-accept_j\n",
    "                    order = np.float32(revenues[j]-reject+accept_j)\n",
    "                else:    \n",
    "                    # Erwartungswert der Produktanfrage j enspricht\n",
    "                    # der Grenzbedingung V(c,st)=-∞, falls c[j] < 0.\n",
    "                    order = np.float16(0)\n",
    "                    oc = np.float16(0)\n",
    "                \n",
    "                # Speicherung der ermittelten Ergebnisse.\n",
    "                list_order = np.hstack((0, order))\n",
    "                max_order[j-1] = np.amax(list_order)\n",
    "                index_order[j-1] = np.argmax(list_order)\n",
    "                accept[j-1] = probs[j][times[0]]*max_order[j-1]\n",
    "                list_oc = np.hstack((0, oc))\n",
    "                oc_order[j-1] = list_oc[index_order[j-1]]\n",
    "                \n",
    "            # Summierung zum Erwartungswert.\n",
    "            value = np.float32(reject + np.sum(accept))\n",
    "            # Beste Anfrage wird ermittelt.\n",
    "            index = np.argmax(max_order)\n",
    "            # Ein Zustand wird in das Dict \"solutions\" gespeichert.\n",
    "            if np.all(max_order == 0):\n",
    "                solutions[state] = [conditions[state], value, 0, 0, 0, index_order]\n",
    "            else:\n",
    "                solutions[state] = [conditions[state], value, index+1, index_order[index], revenues[index+1]-oc_order[index], index_order]\n",
    "            print 'c[h]:', solutions[state][0][:-1], '- t:', solutions[state][0][-1], '- d(c,t):', solutions[state][5], '- V(c,t):', solutions[state][1], '- j*:', solutions[state][2], '- OC[j*]:', solutions[state][4] \n",
    "            \n",
    "        # Sofern es sich um einen Endknoten des Entscheidungsbaums handelt, werden folgende Schritte eingeleitet:\n",
    "        else:\n",
    "            # Erwartungswert enspricht der Grenzbedingung V(c,0)=0, für c >= 0.\n",
    "            value = np.float32(0)\n",
    "            # Ein Endzustand wird mit einem Erwartungswert 0 in das Dict \"solutions\" gespeichert.\n",
    "            solutions[state] = [conditions[state], value, 0, 0, 0, np.zeros(len(products)-1, dtype=np.uint8)]\n",
    "            print 'c[h]:', solutions[state][0][:-1], '- t:', solutions[state][0][-1], '- d(c,t):', solutions[state][5], '- V(c,t):', solutions[state][1], '- j*:', solutions[state][2], '- OC[j*]:', solutions[state][4]\n",
    "            \n",
    "    # Memofunktion: Sofern das Ergebnis breits berechnet wurde, wird der Wert aus dem Dict \"solutions\" verwendet.\n",
    "    else:\n",
    "        value = solutions[state][1]\n",
    "               \n",
    "    return value"
   ]
  },
  {
   "cell_type": "markdown",
   "metadata": {},
   "source": [
    "## Erstellung der Struktur als NetworkX-Graph"
   ]
  },
  {
   "cell_type": "code",
   "execution_count": 9,
   "metadata": {
    "collapsed": false
   },
   "outputs": [],
   "source": [
    "import networkx as nx\n",
    "\n",
    "def Structure(solutions, conditions, products, consumtions, revenues, probs):\n",
    "    '''Generierung der Stuktur der Problemstellung.'''\n",
    "    \n",
    "    # MultiDiGraph erstellen.\n",
    "    graph=nx.MultiDiGraph()\n",
    "    \n",
    "    # Knoten für alle Lösungen (solutions) erstellen.\n",
    "    for key in solutions.iterkeys():\n",
    "        graph.add_node(key, label=solutions[key][0], value=solutions[key][1],\n",
    "                   capacity=solutions[key][0][:-1], time=solutions[key][0][-1])\n",
    "    \n",
    "    # Endknoten zur Nutzung der NetworkX-Algorithmen anlegen.\n",
    "    graph.add_node(\"end\", label='end', value=0,\n",
    "                   capacity=0, time=0)\n",
    "    \n",
    "    # Kanten erstellen.\n",
    "    # Schleife über alle Lösungen.\n",
    "    for i in solutions.iterkeys():\n",
    "        # Handelt es sich um einen Zeitpunkt 0, dann wird der Systemzustand mit dem 'end'-Knoten verbunden.\n",
    "        if solutions[i][0][-1] == 0:\n",
    "            graph.add_edge(i, \"end\", key=0, label='j=0', weight=0, revenue=0, time=0)\n",
    "        # Sonst führe die Schleife aus.\n",
    "        else:\n",
    "            # Aufgrund der differenzierten Auftragsannahme erfolgt eine Schleife über alle Produktanfragen.\n",
    "            for j in products:\n",
    "                # Kapazitätsveränderung aufgrund der Anfragen nach Produktanfrage 'j' wird erfasst.\n",
    "                change = solutions[i][0][:-1]-consumtions[j][1:]\n",
    "                # Keine negativen Kapazitätsbestände möglich.\n",
    "                if np.all((change) >= np.float32(0)): \n",
    "                    # Zielzustand wird ermittelt. \n",
    "                    reduction = np.append(change, solutions[i][0][-1]-1)\n",
    "                    state = np.where((conditions == reduction).all(axis=1))[0][0]\n",
    "                    # Zielzustand zur Ermittlung der Opportunitätskosten wird ermittelt.\n",
    "                    no_reduction = np.append(solutions[i][0][:-1], solutions[i][0][-1]-1)\n",
    "                    state2 = np.where((conditions == no_reduction).all(axis=1))[0][0]\n",
    "                    # Prüfung und Verknüpfung der Anfragen     \n",
    "                    if j == 0:\n",
    "                        graph.add_edge(i, state, key=j, modus='KA', label='KA', weight=revenues[j]-solutions[state2][1]+solutions[state][1], weight_goal=solutions[state][1], revenue=revenues[j], goal=solutions[state][0], time=solutions[i][0][-1])\n",
    "                    elif probs[j][solutions[i][0][-1]] > 0:\n",
    "                        # Abfrage, ob die Kante der optimalen Politik entspricht.\n",
    "                        if solutions[i][5][j-1]==1:\n",
    "                            graph.add_edge(i, state, key=j, modus='AA', label='j='+str(j), weight=revenues[j]-solutions[state2][1]+solutions[state][1], weight_goal=solutions[state][1], revenue=revenues[j], goal=solutions[state][0], time=solutions[i][0][-1])\n",
    "                        else:\n",
    "                            graph.add_edge(i, state, key=j, modus='AA', label='j='+str(j), style=\"dotted\", weight=0, weight_goal=solutions[state][1], revenue=0, goal=solutions[state][0], time=solutions[i][0][-1])\n",
    "    draw = graph.copy()\n",
    "    draw.remove_node('end')\n",
    "        # Quelle: http://stackoverflow.com/a/11484144/4913569\n",
    "        # ----\n",
    "        # write dot file to use with graphviz\n",
    "        # run \"dot -Tpng test.dot >test.png\"\n",
    "    nx.write_dot(draw,'graph.dot')\n",
    "\n",
    "        # same layout using matplotlib with no labels\n",
    "    #pos=nx.graphviz_layout(draw,prog='dot')\n",
    "    #plt.figure(figsize=(size_x,size_y))\n",
    "    #plt.title(\"Entscheidungsbaum\")\n",
    "    #nx.draw(draw,pos,with_labels=True, node_size=500)\n",
    "    #plt.savefig('GraphTest.png')\n",
    "    return graph"
   ]
  },
  {
   "cell_type": "markdown",
   "metadata": {},
   "source": [
    "## Speicherung der Ergebnisse"
   ]
  },
  {
   "cell_type": "code",
   "execution_count": 10,
   "metadata": {
    "collapsed": true
   },
   "outputs": [],
   "source": [
    "def Opt_Politic(solutions, resources, products):\n",
    "    \n",
    "    db = pd.DataFrame(index=solutions)\n",
    "    \n",
    "    db_res = []\n",
    "    db_time = []\n",
    "    db_sol = []\n",
    "    db_op = []\n",
    "    \n",
    "    \n",
    "    # Spalten für die Ressourcenkapazitäten erstellen.\n",
    "    for res in resources[1:]:\n",
    "        db_res.append('$c_{'+str(res)+'}$')\n",
    "    db_cap = []\n",
    "    for c in range(len(db_res)):\n",
    "        cap = []\n",
    "        for s in solutions:\n",
    "            cap.append(solutions[s][0][c])\n",
    "        db_cap.append(cap)\n",
    "\n",
    "    # Spalten für die optimale Politik.\n",
    "    for j in range(len(products[1:])):\n",
    "        db_op.append('$j={'+str(j+1)+'}$')          \n",
    "    db_ops = []\n",
    "    for i in range(len(products[1:])):\n",
    "        ops = []\n",
    "        for s in solutions:\n",
    "            ops.append(solutions[s][5][i]*1)\n",
    "        db_ops.append(ops)\n",
    "    \n",
    "    for s in solutions:\n",
    "        db_time.append(solutions[s][0][-1])\n",
    "        db_sol.append(solutions[s][1])\n",
    "     \n",
    "    for i, res in enumerate(db_res):\n",
    "        db[res] = db_cap[i]\n",
    "    db['$t$'] = db_time\n",
    "    db['ExpValue'] = db_sol\n",
    "    for i, op in enumerate(db_op):\n",
    "        db[op] = db_ops[i]\n",
    "    \n",
    "    # Tabelle ausgeben.\n",
    "    db = db[:-1]\n",
    "    db = db.sort(['$t$'], ascending=0)\n",
    "    db.to_csv('Table_Optimal.csv', index=0)\n",
    "    \n",
    "    return db\n",
    "    "
   ]
  }
 ],
 "metadata": {
  "kernelspec": {
   "display_name": "Python 2",
   "language": "python",
   "name": "python2"
  },
  "language_info": {
   "codemirror_mode": {
    "name": "ipython",
    "version": 2
   },
   "file_extension": ".py",
   "mimetype": "text/x-python",
   "name": "python",
   "nbconvert_exporter": "python",
   "pygments_lexer": "ipython2",
   "version": "2.7.10"
  }
 },
 "nbformat": 4,
 "nbformat_minor": 0
}
