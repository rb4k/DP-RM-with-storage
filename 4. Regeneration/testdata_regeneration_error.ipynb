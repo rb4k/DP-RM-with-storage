{
 "cells": [
  {
   "cell_type": "code",
   "execution_count": 1,
   "metadata": {
    "collapsed": false
   },
   "outputs": [],
   "source": [
    "__version__ = '0.3'\n",
    "__author__  = \"Robert Matern (r.matern@stud.uni-hannover.de)\"\n",
    "__date__    = ''\n",
    "__url__     = ''\n",
    "__copyright__ = \"(C) 2015 Robert Matern\""
   ]
  },
  {
   "cell_type": "markdown",
   "metadata": {},
   "source": [
    "#Beispieldaten Nr. 1"
   ]
  },
  {
   "cell_type": "code",
   "execution_count": 2,
   "metadata": {
    "collapsed": false
   },
   "outputs": [],
   "source": [
    "# Funktionen werden hinzugeladen.\n",
    "%run Parameter.ipynb"
   ]
  },
  {
   "cell_type": "code",
   "execution_count": 3,
   "metadata": {
    "collapsed": false
   },
   "outputs": [
    {
     "name": "stdout",
     "output_type": "stream",
     "text": [
      "0:00:00.000331\n"
     ]
    }
   ],
   "source": [
    "# Produkte\n",
    "products = Product(2)\n",
    "\n",
    "# Ressourcen\n",
    "resources = Resource(1)\n",
    "\n",
    "#Kapazität\n",
    "capacities = Capacity(resources)\n",
    "capacities[1] = 2\n",
    "\n",
    "# Ressourcenverbrauch\n",
    "consumtions = Consumption(products, resources)\n",
    "consumtions[1] = [0,1]\n",
    "consumtions[2] = [0,2]\n",
    "\n",
    "# Erträge\n",
    "revenues = Revenue(products)\n",
    "revenues[1] = 100\n",
    "revenues[2] = 5000\n",
    "\n",
    "# Buchungshorizont\n",
    "times = Time(4)\n",
    "\n",
    "# Wahrscheinlichkeiten\n",
    "probs = Prob(products, times)\n",
    "probs[1] = [0, 0.5, 0.5, 0.5, 0.5]\n",
    "probs[2] = [0, 0.1, 0.1, 0.1, 0.1]\n",
    "\n",
    "# Gegenwahrscheinlichkeiten\n",
    "against_probs = Against_Prob(probs)\n",
    "probs[0] = against_probs\n",
    "\n",
    "# Tat. Nachfrage\n",
    "demands = Demand(products, times)\n",
    "demands[0] = [0, 1, 1, 1, 1] # Keine Anfragen müssen immer möglich sein!\n",
    "demands[1] = [0, 0, 1, 1, 1]\n",
    "demands[2] = [0, 1, 0, 0, 1]\n",
    "\n",
    "# Systemzustände\n",
    "conditions = Condition(capacities, resources, times)\n",
    "\n",
    "\n",
    "# Endzeitpunkte\n",
    "#end_times = End_Time(conditions)"
   ]
  },
  {
   "cell_type": "markdown",
   "metadata": {},
   "source": [
    "inkl. Lagerhaltung"
   ]
  },
  {
   "cell_type": "code",
   "execution_count": 4,
   "metadata": {
    "collapsed": false
   },
   "outputs": [],
   "source": [
    "%run Parameter-storage.ipynb"
   ]
  },
  {
   "cell_type": "code",
   "execution_count": 5,
   "metadata": {
    "collapsed": false
   },
   "outputs": [
    {
     "name": "stdout",
     "output_type": "stream",
     "text": [
      "0:00:00.000938\n"
     ]
    }
   ],
   "source": [
    "#Lagerbestand\n",
    "stock_resources = Stock_Resource(resources)\n",
    "stock_resources[1] = 0\n",
    "\n",
    "max_stock_resources = Max_Stock_Resource(resources)\n",
    "max_stock_resources[1] = 2\n",
    "\n",
    "# Systemzustände\n",
    "condition_storages = Condition_Storage(capacities, resources, max_stock_resources, times)\n",
    "# Bei der Modelformulierung mit Lagerproduktion wird der Parameter 'max_stocks' benötigt."
   ]
  },
  {
   "cell_type": "code",
   "execution_count": 6,
   "metadata": {
    "collapsed": false
   },
   "outputs": [],
   "source": [
    "#Regenerationsperiode\n",
    "time_regenerations = Time_Regeneration(times)\n",
    "#time_regenerations[2]=True\n",
    "\n",
    "#Max. Kapazität\n",
    "max_capacities = Max_Capacity(capacities)"
   ]
  },
  {
   "cell_type": "code",
   "execution_count": 7,
   "metadata": {
    "collapsed": false
   },
   "outputs": [
    {
     "name": "stdout",
     "output_type": "stream",
     "text": [
      "Couldn't import dot_parser, loading of dot files will not be possible.\n"
     ]
    }
   ],
   "source": [
    "%run DynamicProgramm-regeneration.ipynb"
   ]
  },
  {
   "cell_type": "code",
   "execution_count": 8,
   "metadata": {
    "collapsed": false
   },
   "outputs": [
    {
     "name": "stdout",
     "output_type": "stream",
     "text": [
      "Bestände: [2 0] - Periode: 0 - Erwartungswert: 0.0 - Optimale Politik: 0 KA\n",
      "Bestände: [1 0] - Periode: 0 - Erwartungswert: 0.0 - Optimale Politik: 0 KA\n",
      "Bestände: [1 1] - Periode: 0 - Erwartungswert: 0.0 - Optimale Politik: 0 KA\n",
      "Bestände: [0 0] - Periode: 0 - Erwartungswert: 0.0 - Optimale Politik: 0 KA\n",
      "Bestände: [0 2] - Periode: 0 - Erwartungswert: 0.0 - Optimale Politik: 0 KA\n",
      "Bestände: [2 0] - Periode: 1 - Erwartungswert: 550.0 - Optimale Politik: 2 AA\n",
      "Bestände: [0 1] - Periode: 0 - Erwartungswert: 0.0 - Optimale Politik: 0 KA\n",
      "Bestände: [1 0] - Periode: 1 - Erwartungswert: 50.0 - Optimale Politik: 1 AA\n",
      "Bestände: [1 1] - Periode: 1 - Erwartungswert: 100.0 - Optimale Politik: 1 AA\n",
      "Bestände: [0 0] - Periode: 1 - Erwartungswert: 0.0 - Optimale Politik: 0 KA\n",
      "Bestände: [0 2] - Periode: 1 - Erwartungswert: 550.0 - Optimale Politik: 2 LE\n",
      "Bestände: [2 0] - Periode: 2 - Erwartungswert: 994.75 - Optimale Politik: 2 AA\n",
      "Bestände: [0 1] - Periode: 1 - Erwartungswert: 50.0 - Optimale Politik: 1 LE\n",
      "Bestände: [1 0] - Periode: 2 - Erwartungswert: 75.0 - Optimale Politik: 1 AA\n",
      "Bestände: [1 1] - Periode: 2 - Erwartungswert: 375.0 - Optimale Politik: 1 LP\n",
      "Bestände: [0 0] - Periode: 2 - Erwartungswert: 0.0 - Optimale Politik: 0 KA\n",
      "Bestände: [0 2] - Periode: 2 - Erwartungswert: 994.75 - Optimale Politik: 2 LE\n",
      "Bestände: [2 0] - Periode: 3 - Erwartungswert: 1395.25 - Optimale Politik: 2 AA\n",
      "Bestände: [0 1] - Periode: 2 - Erwartungswert: 75.0 - Optimale Politik: 1 LE\n",
      "Bestände: [1 0] - Periode: 3 - Erwartungswert: 87.5 - Optimale Politik: 1 AA\n",
      "Bestände: [1 1] - Periode: 3 - Erwartungswert: 685.0 - Optimale Politik: 1 LP\n",
      "Bestände: [0 0] - Periode: 3 - Erwartungswert: 0.0 - Optimale Politik: 0 KA\n",
      "Bestände: [0 2] - Periode: 3 - Erwartungswert: 1395.25 - Optimale Politik: 2 LE\n",
      "Bestände: [2 0] - Periode: 4 - Erwartungswert: 1755.75 - Optimale Politik: 2 AA\n"
     ]
    },
    {
     "data": {
      "text/plain": [
       "1755.75"
      ]
     },
     "execution_count": 8,
     "metadata": {},
     "output_type": "execute_result"
    }
   ],
   "source": [
    "DP_Regeneration(solutions, condition_storages, products, resources, capacities, consumtions, times, revenues, probs, stock_resources, max_stock_resources, time_regenerations, max_capacities)"
   ]
  },
  {
   "cell_type": "code",
   "execution_count": 9,
   "metadata": {
    "collapsed": false
   },
   "outputs": [
    {
     "name": "stdout",
     "output_type": "stream",
     "text": [
      "Optimalen Politik zum Zeitpunkt \"t\" und unter Beachtung der Restkapazitäten \"c[h]\": \n",
      "\n",
      "    $c_{1}$  $y_{1}$  $t$  ExpValue             Successor  $j^*$ $m$  \\\n",
      "14        2        0    4   1755.75  [33, 43, 28, 13, 23]      2  AA   \n",
      "33        0        2    3   1395.25          [32, 42, 37]      2  LE   \n",
      "43        0        0    3      0.00                  [42]      0  KA   \n",
      "28        1        0    3     87.50          [42, 27, 37]      1  AA   \n",
      "23        1        1    3    685.00      [32, 27, 37, 22]      1  LP   \n",
      "37        0        1    2     75.00              [41, 36]      1  LE   \n",
      "13        2        0    3   1395.25  [32, 42, 27, 12, 22]      2  AA   \n",
      "32        0        2    2    994.75          [41, 36, 31]      2  LE   \n",
      "42        0        0    2      0.00                  [41]      0  KA   \n",
      "27        1        0    2     75.00          [41, 26, 36]      1  AA   \n",
      "22        1        1    2    375.00      [26, 36, 21, 31]      1  LP   \n",
      "36        0        1    1     50.00              [40, 35]      1  LE   \n",
      "12        2        0    2    994.75  [41, 26, 11, 21, 31]      2  AA   \n",
      "41        0        0    1      0.00                  [40]      0  KA   \n",
      "26        1        0    1     50.00          [40, 25, 35]      1  AA   \n",
      "21        1        1    1    100.00      [25, 35, 20, 30]      1  AA   \n",
      "31        0        2    1    550.00          [40, 35, 30]      2  LE   \n",
      "35        0        1    0      0.00                 [end]      0   -   \n",
      "11        2        0    1    550.00  [40, 25, 10, 20, 30]      2  AA   \n",
      "40        0        0    0      0.00                 [end]      0   -   \n",
      "25        1        0    0      0.00                 [end]      0   -   \n",
      "20        1        1    0      0.00                 [end]      0   -   \n",
      "30        0        2    0      0.00                 [end]      0   -   \n",
      "10        2        0    0      0.00                 [end]      0   -   \n",
      "\n",
      "    $r_{j}-OC_{j}$  \n",
      "14            3605  \n",
      "33            4005  \n",
      "43               0  \n",
      "28              25  \n",
      "23             720  \n",
      "37              50  \n",
      "13            4005  \n",
      "32            4450  \n",
      "42               0  \n",
      "27              50  \n",
      "22             550  \n",
      "36             100  \n",
      "12            4450  \n",
      "41               0  \n",
      "26             100  \n",
      "21             100  \n",
      "31            5000  \n",
      "35               0  \n",
      "11            5000  \n",
      "40               0  \n",
      "25               0  \n",
      "20               0  \n",
      "30               0  \n",
      "10               0   \n",
      "\n",
      "   Opt. Politic  from  to  Revenue  Cum_Rev\n",
      "4             2    14  43     5000     5000\n",
      "3             0    43  42        0     5000\n",
      "2             0    42  41        0     5000\n",
      "1             0    41  40        0     5000 \n",
      "\n"
     ]
    },
    {
     "data": {
      "text/plain": [
       "(    $c_{1}$  $y_{1}$  $t$  ExpValue             Successor  $j^*$ $m$  \\\n",
       " 14        2        0    4   1755.75  [33, 43, 28, 13, 23]      2  AA   \n",
       " 33        0        2    3   1395.25          [32, 42, 37]      2  LE   \n",
       " 43        0        0    3      0.00                  [42]      0  KA   \n",
       " 28        1        0    3     87.50          [42, 27, 37]      1  AA   \n",
       " 23        1        1    3    685.00      [32, 27, 37, 22]      1  LP   \n",
       " 37        0        1    2     75.00              [41, 36]      1  LE   \n",
       " 13        2        0    3   1395.25  [32, 42, 27, 12, 22]      2  AA   \n",
       " 32        0        2    2    994.75          [41, 36, 31]      2  LE   \n",
       " 42        0        0    2      0.00                  [41]      0  KA   \n",
       " 27        1        0    2     75.00          [41, 26, 36]      1  AA   \n",
       " 22        1        1    2    375.00      [26, 36, 21, 31]      1  LP   \n",
       " 36        0        1    1     50.00              [40, 35]      1  LE   \n",
       " 12        2        0    2    994.75  [41, 26, 11, 21, 31]      2  AA   \n",
       " 41        0        0    1      0.00                  [40]      0  KA   \n",
       " 26        1        0    1     50.00          [40, 25, 35]      1  AA   \n",
       " 21        1        1    1    100.00      [25, 35, 20, 30]      1  AA   \n",
       " 31        0        2    1    550.00          [40, 35, 30]      2  LE   \n",
       " 35        0        1    0      0.00                 [end]      0   -   \n",
       " 11        2        0    1    550.00  [40, 25, 10, 20, 30]      2  AA   \n",
       " 40        0        0    0      0.00                 [end]      0   -   \n",
       " 25        1        0    0      0.00                 [end]      0   -   \n",
       " 20        1        1    0      0.00                 [end]      0   -   \n",
       " 30        0        2    0      0.00                 [end]      0   -   \n",
       " 10        2        0    0      0.00                 [end]      0   -   \n",
       " \n",
       "     $r_{j}-OC_{j}$  \n",
       " 14            3605  \n",
       " 33            4005  \n",
       " 43               0  \n",
       " 28              25  \n",
       " 23             720  \n",
       " 37              50  \n",
       " 13            4005  \n",
       " 32            4450  \n",
       " 42               0  \n",
       " 27              50  \n",
       " 22             550  \n",
       " 36             100  \n",
       " 12            4450  \n",
       " 41               0  \n",
       " 26             100  \n",
       " 21             100  \n",
       " 31            5000  \n",
       " 35               0  \n",
       " 11            5000  \n",
       " 40               0  \n",
       " 25               0  \n",
       " 20               0  \n",
       " 30               0  \n",
       " 10               0  ,    Opt. Politic  from  to  Revenue  Cum_Rev\n",
       " 4             2    14  43     5000     5000\n",
       " 3             0    43  42        0     5000\n",
       " 2             0    42  41        0     5000\n",
       " 1             0    41  40        0     5000)"
      ]
     },
     "execution_count": 9,
     "metadata": {},
     "output_type": "execute_result"
    }
   ],
   "source": [
    "graph = Structure_Regeneration(solutions, condition_storages, products, resources, consumtions, revenues, stock_resources, max_stock_resources, time_regenerations, max_capacities)\n",
    "\n",
    "Best_Politic_Stock(graph, times, resources, stock_resources, solutions)"
   ]
  },
  {
   "cell_type": "code",
   "execution_count": 10,
   "metadata": {
    "collapsed": false
   },
   "outputs": [
    {
     "ename": "AttributeError",
     "evalue": "'module' object has no attribute 'figure'",
     "output_type": "error",
     "traceback": [
      "\u001b[0;31m---------------------------------------------------------------------------\u001b[0m",
      "\u001b[0;31mAttributeError\u001b[0m                            Traceback (most recent call last)",
      "\u001b[0;32m<ipython-input-10-ec0a85ebe107>\u001b[0m in \u001b[0;36m<module>\u001b[0;34m()\u001b[0m\n\u001b[1;32m     11\u001b[0m         \u001b[0;31m# same layout using matplotlib with no labels\u001b[0m\u001b[0;34m\u001b[0m\u001b[0;34m\u001b[0m\u001b[0m\n\u001b[1;32m     12\u001b[0m \u001b[0mpos\u001b[0m\u001b[0;34m=\u001b[0m\u001b[0mnx\u001b[0m\u001b[0;34m.\u001b[0m\u001b[0mgraphviz_layout\u001b[0m\u001b[0;34m(\u001b[0m\u001b[0mdraw\u001b[0m\u001b[0;34m,\u001b[0m\u001b[0mprog\u001b[0m\u001b[0;34m=\u001b[0m\u001b[0;34m'dot'\u001b[0m\u001b[0;34m)\u001b[0m\u001b[0;34m\u001b[0m\u001b[0m\n\u001b[0;32m---> 13\u001b[0;31m \u001b[0mplt\u001b[0m\u001b[0;34m.\u001b[0m\u001b[0mfigure\u001b[0m\u001b[0;34m(\u001b[0m\u001b[0mfigsize\u001b[0m\u001b[0;34m=\u001b[0m\u001b[0;34m(\u001b[0m\u001b[0msize_x\u001b[0m\u001b[0;34m,\u001b[0m\u001b[0msize_y\u001b[0m\u001b[0;34m)\u001b[0m\u001b[0;34m)\u001b[0m\u001b[0;34m\u001b[0m\u001b[0m\n\u001b[0m\u001b[1;32m     14\u001b[0m \u001b[0mplt\u001b[0m\u001b[0;34m.\u001b[0m\u001b[0mtitle\u001b[0m\u001b[0;34m(\u001b[0m\u001b[0;34m\"Entscheidungsbaum\"\u001b[0m\u001b[0;34m)\u001b[0m\u001b[0;34m\u001b[0m\u001b[0m\n\u001b[1;32m     15\u001b[0m \u001b[0mnx\u001b[0m\u001b[0;34m.\u001b[0m\u001b[0mdraw\u001b[0m\u001b[0;34m(\u001b[0m\u001b[0mdraw\u001b[0m\u001b[0;34m,\u001b[0m\u001b[0mpos\u001b[0m\u001b[0;34m,\u001b[0m\u001b[0mwith_labels\u001b[0m\u001b[0;34m=\u001b[0m\u001b[0mTrue\u001b[0m\u001b[0;34m,\u001b[0m \u001b[0mnode_size\u001b[0m\u001b[0;34m=\u001b[0m\u001b[0;36m500\u001b[0m\u001b[0;34m)\u001b[0m\u001b[0;34m\u001b[0m\u001b[0m\n",
      "\u001b[0;31mAttributeError\u001b[0m: 'module' object has no attribute 'figure'"
     ]
    }
   ],
   "source": [
    "import matplotlib as plt\n",
    "\n",
    "draw = graph.copy()\n",
    "draw.remove_node('end')\n",
    "        # Quelle: http://stackoverflow.com/a/11484144/4913569\n",
    "        # ----\n",
    "        # write dot file to use with graphviz\n",
    "        # run \"dot -Tpng test.dot >test.png\"\n",
    "nx.write_dot(draw,'test.dot')\n",
    "\n",
    "        # same layout using matplotlib with no labels\n",
    "pos=nx.graphviz_layout(draw,prog='dot')\n",
    "plt.figure(figsize=(size_x,size_y))\n",
    "plt.title(\"Entscheidungsbaum\")\n",
    "nx.draw(draw,pos,with_labels=True, node_size=500)\n",
    "plt.savefig('GraphTest.png')"
   ]
  },
  {
   "cell_type": "code",
   "execution_count": null,
   "metadata": {
    "collapsed": false
   },
   "outputs": [],
   "source": [
    "Best_Politic(graph, times, resources, start=None)"
   ]
  },
  {
   "cell_type": "code",
   "execution_count": null,
   "metadata": {
    "collapsed": false
   },
   "outputs": [],
   "source": [
    "opt = [0.0, 0.0, 0.0]\n",
    "index = opt.index(max(opt))\n",
    "print index"
   ]
  },
  {
   "cell_type": "code",
   "execution_count": null,
   "metadata": {
    "collapsed": true
   },
   "outputs": [],
   "source": []
  }
 ],
 "metadata": {
  "kernelspec": {
   "display_name": "Python 2",
   "language": "python",
   "name": "python2"
  },
  "language_info": {
   "codemirror_mode": {
    "name": "ipython",
    "version": 2
   },
   "file_extension": ".py",
   "mimetype": "text/x-python",
   "name": "python",
   "nbconvert_exporter": "python",
   "pygments_lexer": "ipython2",
   "version": "2.7.10"
  }
 },
 "nbformat": 4,
 "nbformat_minor": 0
}
