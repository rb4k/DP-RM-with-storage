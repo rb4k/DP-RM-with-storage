{
 "cells": [
  {
   "cell_type": "code",
   "execution_count": 1,
   "metadata": {
    "collapsed": false
   },
   "outputs": [],
   "source": [
    "__version__ = '0.3'\n",
    "__author__  = \"Robert Matern (r.matern@stud.uni-hannover.de)\"\n",
    "__date__    = ''\n",
    "__url__     = ''\n",
    "__copyright__ = \"(C) 2015 Robert Matern\""
   ]
  },
  {
   "cell_type": "markdown",
   "metadata": {},
   "source": [
    "# Beispieldaten Nr. 1"
   ]
  },
  {
   "cell_type": "code",
   "execution_count": null,
   "metadata": {
    "collapsed": true
   },
   "outputs": [],
   "source": [
    "import numpy as np\n",
    "import pandas as pd\n",
    "import matplotlib as plt\n",
    "import sys\n",
    "\n",
    "print 'Python Version ' + sys.version\n",
    "print 'Numpy Version ' + np.__version__\n",
    "print 'Matplotlib Version ' + plt.__version__\n",
    "print 'Pandas Version ' + pd.__version__\n",
    "\n",
    "%matplotlib inline\n",
    "import networkx as nx\n",
    "import matplotlib.pyplot as plt\n",
    "import graphviz as gv"
   ]
  },
  {
   "cell_type": "code",
   "execution_count": 2,
   "metadata": {
    "collapsed": false
   },
   "outputs": [],
   "source": [
    "# Funktionen werden hinzugeladen.\n",
    "%run Parameter.ipynb"
   ]
  },
  {
   "cell_type": "code",
   "execution_count": 3,
   "metadata": {
    "collapsed": false
   },
   "outputs": [
    {
     "name": "stdout",
     "output_type": "stream",
     "text": [
      "0:00:00.000355\n"
     ]
    }
   ],
   "source": [
    "# Produkte\n",
    "products = Product(4)\n",
    "\n",
    "# Ressourcen \n",
    "resources = Resource(2)\n",
    "\n",
    "#Kapazität\n",
    "capacities = Capacity(resources)\n",
    "capacities[1] = 1\n",
    "capacities[2] = 1\n",
    "\n",
    "# Ressourcenverbrauch\n",
    "consumtions = Consumption(products, resources)\n",
    "consumtions[1] = [0,1,0]\n",
    "consumtions[2] = [0,1,0]\n",
    "consumtions[3] = [0,0,1]\n",
    "consumtions[4] = [0,0,1]\n",
    "\n",
    "\n",
    "# Erträge\n",
    "revenues = Revenue(products)\n",
    "revenues[1] = 100\n",
    "revenues[2] = 5000\n",
    "revenues[3] = 100\n",
    "revenues[4] = 5000\n",
    "\n",
    "# Buchungsperioden\n",
    "times = Time(10)\n",
    "\n",
    "# Wahrscheinlichkeiten\n",
    "probs = Prob(products, times)\n",
    "probs[1] = [0, 0, 0, 0, 0, 0, 0.2, 0.2, 0.2, 0.2, 0.2]\n",
    "probs[2] = [0, 0, 0, 0, 0, 0, 0.2, 0.2, 0.2, 0.2, 0.2]\n",
    "probs[3] = [0, 0.2, 0.2, 0.2, 0.2, 0.2, 0.2, 0.2, 0.2, 0.2, 0.2]\n",
    "probs[4] = [0, 0.2, 0.2, 0.2, 0.2, 0.2, 0.2, 0.2, 0.2, 0.2, 0.2]\n",
    "\n",
    "# Gegenwahrscheinlichkeiten\n",
    "against_probs = Against_Prob(probs)\n",
    "probs[0] = against_probs\n",
    "\n",
    "# Systemzustände\n",
    "conditions = Condition(capacities, resources, times)"
   ]
  },
  {
   "cell_type": "markdown",
   "metadata": {},
   "source": [
    "inkl. Lagerhaltung"
   ]
  },
  {
   "cell_type": "code",
   "execution_count": 4,
   "metadata": {
    "collapsed": false
   },
   "outputs": [
    {
     "name": "stdout",
     "output_type": "stream",
     "text": [
      "0:00:00.000397\n"
     ]
    }
   ],
   "source": [
    "#Lagerbestand\n",
    "stock_resources = Stock_Resource(resources)\n",
    "stock_resources[1] = 0\n",
    "\n",
    "max_stock_resources = Max_Stock_Resource(resources)\n",
    "max_stock_resources[1] = 1\n",
    "max_stock_resources[2] = 1\n",
    "\n",
    "# Systemzustände\n",
    "condition_storages = Condition_Storage(capacities, resources, max_stock_resources, times)\n",
    "# Bei der Modelformulierung mit Lagerproduktion wird der Parameter 'max_stocks' benötigt."
   ]
  },
  {
   "cell_type": "code",
   "execution_count": 5,
   "metadata": {
    "collapsed": false
   },
   "outputs": [],
   "source": [
    "%run DynamicProgramm_Stock.ipynb"
   ]
  },
  {
   "cell_type": "code",
   "execution_count": 6,
   "metadata": {
    "collapsed": false
   },
   "outputs": [
    {
     "name": "stdout",
     "output_type": "stream",
     "text": [
      "c[h]: [1 1] - y[h]: [0 0] - t: 1 - V(c,y,t): 1020.0 - d[0]: [0] - d[j]: [0 0 1 1] - j*: 4 - OC[j*]: 5000.0\n",
      "c[h]: [1 0] - y[h]: [0 0] - t: 1 - V(c,y,t): 0.0 - d[0]: [0] - d[j]: [0 0 0 0] - j*: 0 - OC[j*]: 0\n",
      "c[h]: [1 1] - y[h]: [0 0] - t: 2 - V(c,y,t): 1816.0 - d[0]: [0] - d[j]: [0 0 0 1] - j*: 4 - OC[j*]: 5000.0\n",
      "c[h]: [1 0] - y[h]: [0 0] - t: 2 - V(c,y,t): 0.0 - d[0]: [0] - d[j]: [0 0 0 0] - j*: 0 - OC[j*]: 0\n",
      "c[h]: [1 1] - y[h]: [0 0] - t: 3 - V(c,y,t): 2453.0 - d[0]: [0] - d[j]: [0 0 0 1] - j*: 4 - OC[j*]: 5000.0\n",
      "c[h]: [1 0] - y[h]: [0 0] - t: 3 - V(c,y,t): 0.0 - d[0]: [0] - d[j]: [0 0 0 0] - j*: 0 - OC[j*]: 0\n",
      "c[h]: [1 1] - y[h]: [0 0] - t: 4 - V(c,y,t): 2962.5 - d[0]: [0] - d[j]: [0 0 0 1] - j*: 4 - OC[j*]: 5000.0\n",
      "c[h]: [1 0] - y[h]: [0 0] - t: 4 - V(c,y,t): 0.0 - d[0]: [0] - d[j]: [0 0 0 0] - j*: 0 - OC[j*]: 0\n",
      "c[h]: [1 1] - y[h]: [0 0] - t: 5 - V(c,y,t): 3370.0 - d[0]: [0] - d[j]: [0 0 0 1] - j*: 4 - OC[j*]: 5000.0\n",
      "c[h]: [0 1] - y[h]: [0 0] - t: 1 - V(c,y,t): 1020.0 - d[0]: [0] - d[j]: [0 0 1 1] - j*: 4 - OC[j*]: 5000.0\n",
      "c[h]: [0 0] - y[h]: [0 0] - t: 1 - V(c,y,t): 0.0 - d[0]: [0] - d[j]: [0 0 0 0] - j*: 0 - OC[j*]: 0\n",
      "c[h]: [0 1] - y[h]: [0 0] - t: 2 - V(c,y,t): 1816.0 - d[0]: [0] - d[j]: [0 0 0 1] - j*: 4 - OC[j*]: 5000.0\n",
      "c[h]: [0 0] - y[h]: [0 0] - t: 2 - V(c,y,t): 0.0 - d[0]: [0] - d[j]: [0 0 0 0] - j*: 0 - OC[j*]: 0\n",
      "c[h]: [0 1] - y[h]: [0 0] - t: 3 - V(c,y,t): 2453.0 - d[0]: [0] - d[j]: [0 0 0 1] - j*: 4 - OC[j*]: 5000.0\n",
      "c[h]: [0 0] - y[h]: [0 0] - t: 3 - V(c,y,t): 0.0 - d[0]: [0] - d[j]: [0 0 0 0] - j*: 0 - OC[j*]: 0\n",
      "c[h]: [0 1] - y[h]: [0 0] - t: 4 - V(c,y,t): 2962.5 - d[0]: [0] - d[j]: [0 0 0 1] - j*: 4 - OC[j*]: 5000.0\n",
      "c[h]: [0 0] - y[h]: [0 0] - t: 4 - V(c,y,t): 0.0 - d[0]: [0] - d[j]: [0 0 0 0] - j*: 0 - OC[j*]: 0\n",
      "c[h]: [0 1] - y[h]: [0 0] - t: 5 - V(c,y,t): 3370.0 - d[0]: [0] - d[j]: [0 0 0 1] - j*: 4 - OC[j*]: 5000.0\n",
      "c[h]: [0 1] - y[h]: [0 1] - t: 1 - V(c,y,t): 1020.0 - d[0]: [0] - d[j]: [0 0 1 1] - j*: 4 - OC[j*]: 5000.0\n",
      "c[h]: [0 0] - y[h]: [0 1] - t: 1 - V(c,y,t): 1020.0 - d[0]: [0] - d[j]: [0 0 2 2] - j*: 4 - OC[j*]: 5000.0\n",
      "c[h]: [0 1] - y[h]: [0 1] - t: 2 - V(c,y,t): 2040.0 - d[0]: [0] - d[j]: [0 0 1 1] - j*: 4 - OC[j*]: 5000.0\n",
      "c[h]: [0 0] - y[h]: [0 1] - t: 2 - V(c,y,t): 1816.0 - d[0]: [0] - d[j]: [0 0 0 2] - j*: 4 - OC[j*]: 5000.0\n",
      "c[h]: [0 1] - y[h]: [0 1] - t: 3 - V(c,y,t): 2995.0 - d[0]: [0] - d[j]: [0 0 0 1] - j*: 4 - OC[j*]: 5000.0\n",
      "c[h]: [0 0] - y[h]: [0 1] - t: 3 - V(c,y,t): 2453.0 - d[0]: [0] - d[j]: [0 0 0 2] - j*: 4 - OC[j*]: 5000.0\n",
      "c[h]: [0 1] - y[h]: [0 1] - t: 4 - V(c,y,t): 3886.0 - d[0]: [0] - d[j]: [0 0 0 1] - j*: 4 - OC[j*]: 5000.0\n",
      "c[h]: [0 0] - y[h]: [0 1] - t: 4 - V(c,y,t): 2962.5 - d[0]: [0] - d[j]: [0 0 0 2] - j*: 4 - OC[j*]: 5000.0\n",
      "c[h]: [0 1] - y[h]: [0 1] - t: 5 - V(c,y,t): 4701.0 - d[0]: [0] - d[j]: [0 0 0 1] - j*: 4 - OC[j*]: 5000.0\n",
      "c[h]: [1 0] - y[h]: [0 0] - t: 5 - V(c,y,t): 0.0 - d[0]: [0] - d[j]: [0 0 0 0] - j*: 0 - OC[j*]: 0\n",
      "c[h]: [1 1] - y[h]: [0 0] - t: 6 - V(c,y,t): 5228.2 - d[0]: [1] - d[j]: [3 1 0 1] - j*: 2 - OC[j*]: 6331.0\n",
      "c[h]: [0 0] - y[h]: [0 0] - t: 5 - V(c,y,t): 0.0 - d[0]: [0] - d[j]: [0 0 0 0] - j*: 0 - OC[j*]: 0\n",
      "c[h]: [0 1] - y[h]: [0 0] - t: 6 - V(c,y,t): 3696.0 - d[0]: [0] - d[j]: [0 0 0 1] - j*: 4 - OC[j*]: 5000.0\n",
      "c[h]: [0 0] - y[h]: [0 1] - t: 5 - V(c,y,t): 3370.0 - d[0]: [0] - d[j]: [0 0 0 2] - j*: 4 - OC[j*]: 5000.0\n",
      "c[h]: [0 1] - y[h]: [0 1] - t: 6 - V(c,y,t): 5434.5 - d[0]: [0] - d[j]: [0 0 0 1] - j*: 4 - OC[j*]: 5000.0\n",
      "c[h]: [1 0] - y[h]: [0 0] - t: 6 - V(c,y,t): 2348.0 - d[0]: [1] - d[j]: [3 1 0 0] - j*: 2 - OC[j*]: 8370.0\n",
      "c[h]: [1 1] - y[h]: [0 0] - t: 7 - V(c,y,t): 6428.45 - d[0]: [1] - d[j]: [3 1 0 1] - j*: 2 - OC[j*]: 5206.25\n",
      "c[h]: [0 0] - y[h]: [0 0] - t: 6 - V(c,y,t): 0.0 - d[0]: [0] - d[j]: [0 0 0 0] - j*: 0 - OC[j*]: 0\n",
      "c[h]: [0 1] - y[h]: [0 0] - t: 7 - V(c,y,t): 3956.75 - d[0]: [0] - d[j]: [0 0 0 1] - j*: 4 - OC[j*]: 5000.0\n",
      "c[h]: [0 0] - y[h]: [0 1] - t: 6 - V(c,y,t): 3696.0 - d[0]: [0] - d[j]: [0 0 0 2] - j*: 4 - OC[j*]: 5000.0\n",
      "c[h]: [0 1] - y[h]: [0 1] - t: 7 - V(c,y,t): 6087.0 - d[0]: [0] - d[j]: [0 0 0 1] - j*: 4 - OC[j*]: 5000.0\n",
      "c[h]: [1 0] - y[h]: [0 0] - t: 7 - V(c,y,t): 3417.6 - d[0]: [1] - d[j]: [3 1 0 0] - j*: 2 - OC[j*]: 6348.0\n",
      "c[h]: [1 1] - y[h]: [0 0] - t: 8 - V(c,y,t): 7331.45 - d[0]: [0] - d[j]: [0 1 0 1] - j*: 2 - OC[j*]: 5000.0\n",
      "c[h]: [0 0] - y[h]: [0 0] - t: 7 - V(c,y,t): 0.0 - d[0]: [0] - d[j]: [0 0 0 0] - j*: 0 - OC[j*]: 0\n",
      "c[h]: [0 1] - y[h]: [0 0] - t: 8 - V(c,y,t): 4165.38 - d[0]: [0] - d[j]: [0 0 0 1] - j*: 4 - OC[j*]: 5000.0\n",
      "c[h]: [0 0] - y[h]: [0 1] - t: 7 - V(c,y,t): 3956.75 - d[0]: [0] - d[j]: [0 0 0 2] - j*: 4 - OC[j*]: 5000.0\n",
      "c[h]: [0 1] - y[h]: [0 1] - t: 8 - V(c,y,t): 6661.0 - d[0]: [0] - d[j]: [0 0 0 1] - j*: 4 - OC[j*]: 5000.0\n",
      "c[h]: [1 0] - y[h]: [0 0] - t: 8 - V(c,y,t): 3949.65 - d[0]: [1] - d[j]: [3 1 0 0] - j*: 2 - OC[j*]: 5539.0\n",
      "c[h]: [1 1] - y[h]: [0 0] - t: 9 - V(c,y,t): 8021.45 - d[0]: [0] - d[j]: [0 1 0 1] - j*: 2 - OC[j*]: 5000.0\n",
      "c[h]: [0 0] - y[h]: [0 0] - t: 8 - V(c,y,t): 0.0 - d[0]: [0] - d[j]: [0 0 0 0] - j*: 0 - OC[j*]: 0\n",
      "c[h]: [0 1] - y[h]: [0 0] - t: 9 - V(c,y,t): 4332.25 - d[0]: [0] - d[j]: [0 0 0 1] - j*: 4 - OC[j*]: 5000.0\n",
      "c[h]: [0 0] - y[h]: [0 1] - t: 8 - V(c,y,t): 4165.38 - d[0]: [0] - d[j]: [0 0 0 2] - j*: 4 - OC[j*]: 5000.0\n",
      "c[h]: [0 1] - y[h]: [0 1] - t: 9 - V(c,y,t): 7161.75 - d[0]: [0] - d[j]: [0 0 0 1] - j*: 4 - OC[j*]: 5000.0\n",
      "c[h]: [1 0] - y[h]: [0 0] - t: 9 - V(c,y,t): 4245.93 - d[0]: [1] - d[j]: [3 1 0 0] - j*: 2 - OC[j*]: 5215.75\n",
      "c[h]: [1 1] - y[h]: [0 0] - t: 10 - V(c,y,t): 8528.45 - d[0]: [0] - d[j]: [0 1 0 1] - j*: 2 - OC[j*]: 5000.0\n"
     ]
    },
    {
     "data": {
      "text/plain": [
       "8528.4502"
      ]
     },
     "execution_count": 6,
     "metadata": {},
     "output_type": "execute_result"
    }
   ],
   "source": [
    "solutions={}\n",
    "\n",
    "DP_Stock(solutions, condition_storages, products, resources, capacities, consumtions, times, revenues, probs, stock_resources, max_stock_resources)"
   ]
  },
  {
   "cell_type": "code",
   "execution_count": 7,
   "metadata": {
    "collapsed": false
   },
   "outputs": [
    {
     "ename": "NameError",
     "evalue": "global name 'nx' is not defined",
     "output_type": "error",
     "traceback": [
      "\u001b[0;31m---------------------------------------------------------------------------\u001b[0m",
      "\u001b[0;31mNameError\u001b[0m                                 Traceback (most recent call last)",
      "\u001b[0;32m<ipython-input-7-8aebaaaee256>\u001b[0m in \u001b[0;36m<module>\u001b[0;34m()\u001b[0m\n\u001b[0;32m----> 1\u001b[0;31m \u001b[0mgraph\u001b[0m \u001b[0;34m=\u001b[0m \u001b[0mStructure_Stock\u001b[0m\u001b[0;34m(\u001b[0m\u001b[0msolutions\u001b[0m\u001b[0;34m,\u001b[0m \u001b[0mcondition_storages\u001b[0m\u001b[0;34m,\u001b[0m \u001b[0mproducts\u001b[0m\u001b[0;34m,\u001b[0m \u001b[0mresources\u001b[0m\u001b[0;34m,\u001b[0m \u001b[0mconsumtions\u001b[0m\u001b[0;34m,\u001b[0m \u001b[0mrevenues\u001b[0m\u001b[0;34m,\u001b[0m \u001b[0mprobs\u001b[0m\u001b[0;34m,\u001b[0m \u001b[0mstock_resources\u001b[0m\u001b[0;34m,\u001b[0m \u001b[0mmax_stock_resources\u001b[0m\u001b[0;34m)\u001b[0m\u001b[0;34m\u001b[0m\u001b[0m\n\u001b[0m",
      "\u001b[0;32m<ipython-input-5-6a79e92015c4>\u001b[0m in \u001b[0;36mStructure_Stock\u001b[0;34m(solutions, conditions, products, resources, consumtions, revenues, probs, stocks, max_stocks)\u001b[0m\n\u001b[1;32m      3\u001b[0m \u001b[0;34m\u001b[0m\u001b[0m\n\u001b[1;32m      4\u001b[0m     \u001b[0;31m# MultiDiGraph erstellen.\u001b[0m\u001b[0;34m\u001b[0m\u001b[0;34m\u001b[0m\u001b[0m\n\u001b[0;32m----> 5\u001b[0;31m     \u001b[0mgraph\u001b[0m\u001b[0;34m=\u001b[0m\u001b[0mnx\u001b[0m\u001b[0;34m.\u001b[0m\u001b[0mMultiDiGraph\u001b[0m\u001b[0;34m(\u001b[0m\u001b[0;34m)\u001b[0m\u001b[0;34m\u001b[0m\u001b[0m\n\u001b[0m\u001b[1;32m      6\u001b[0m \u001b[0;34m\u001b[0m\u001b[0m\n\u001b[1;32m      7\u001b[0m     \u001b[0;31m# Knoten für alle Lösungen (solutions) erstellen.\u001b[0m\u001b[0;34m\u001b[0m\u001b[0;34m\u001b[0m\u001b[0m\n",
      "\u001b[0;31mNameError\u001b[0m: global name 'nx' is not defined"
     ]
    }
   ],
   "source": [
    "graph = Structure_Stock(solutions, condition_storages, products, resources, consumtions, revenues, probs, stock_resources, max_stock_resources)"
   ]
  },
  {
   "cell_type": "code",
   "execution_count": null,
   "metadata": {
    "collapsed": false
   },
   "outputs": [],
   "source": [
    "Opt_Politic_Stock(solutions, resources, stock_resources, products)"
   ]
  }
 ],
 "metadata": {
  "kernelspec": {
   "display_name": "Python 2",
   "language": "python",
   "name": "python2"
  },
  "language_info": {
   "codemirror_mode": {
    "name": "ipython",
    "version": 2
   },
   "file_extension": ".py",
   "mimetype": "text/x-python",
   "name": "python",
   "nbconvert_exporter": "python",
   "pygments_lexer": "ipython2",
   "version": "2.7.10"
  }
 },
 "nbformat": 4,
 "nbformat_minor": 0
}
