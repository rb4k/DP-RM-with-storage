{
 "cells": [
  {
   "cell_type": "code",
   "execution_count": 18,
   "metadata": {
    "collapsed": false
   },
   "outputs": [],
   "source": [
    "__version__ = '0.3'\n",
    "__author__  = \"Robert Matern (r.matern@stud.uni-hannover.de)\"\n",
    "__date__    = ''\n",
    "__url__     = ''\n",
    "__copyright__ = \"(C) 2015 Robert Matern\""
   ]
  },
  {
   "cell_type": "markdown",
   "metadata": {},
   "source": [
    "#Beispieldaten Nr. 1"
   ]
  },
  {
   "cell_type": "code",
   "execution_count": 19,
   "metadata": {
    "collapsed": false
   },
   "outputs": [],
   "source": [
    "# Funktionen werden hinzugeladen.\n",
    "%run Parameter.ipynb"
   ]
  },
  {
   "cell_type": "code",
   "execution_count": 20,
   "metadata": {
    "collapsed": false
   },
   "outputs": [
    {
     "name": "stdout",
     "output_type": "stream",
     "text": [
      "0:00:00.000362\n"
     ]
    }
   ],
   "source": [
    "# Produkte\n",
    "products = Product(2)\n",
    "\n",
    "# Ressourcen\n",
    "resources = Resource(1)\n",
    "\n",
    "#Kapazität\n",
    "capacities = Capacity(resources)\n",
    "capacities[1] = 2\n",
    "\n",
    "# Ressourcenverbrauch\n",
    "consumtions = Consumption(products, resources)\n",
    "consumtions[1] = [0,1]\n",
    "consumtions[2] = [0,1]\n",
    "\n",
    "# Erträge\n",
    "revenues = Revenue(products)\n",
    "revenues[1] = 100\n",
    "revenues[2] = 200\n",
    "\n",
    "# Buchungshorizont\n",
    "times = Time(4)\n",
    "\n",
    "# Wahrscheinlichkeiten\n",
    "probs = Prob(products, times)\n",
    "probs[1] = [0, 0.5, 0.5, 0.5, 0.5]\n",
    "probs[2] = [0, 0.1, 0.1, 0.1, 0.1]\n",
    "\n",
    "# Gegenwahrscheinlichkeiten\n",
    "against_probs = Against_Prob(probs)\n",
    "probs[0] = against_probs\n",
    "\n",
    "# Systemzustände\n",
    "conditions = Condition(capacities, resources, times)\n",
    "\n",
    "\n",
    "# Endzeitpunkte\n",
    "#end_times = End_Time(conditions)"
   ]
  },
  {
   "cell_type": "markdown",
   "metadata": {},
   "source": [
    "inkl. Lagerhaltung"
   ]
  },
  {
   "cell_type": "code",
   "execution_count": 22,
   "metadata": {
    "collapsed": false
   },
   "outputs": [
    {
     "name": "stdout",
     "output_type": "stream",
     "text": [
      "0:00:00.000325\n"
     ]
    }
   ],
   "source": [
    "#Lagerbestand\n",
    "stocks = Stock(products)\n",
    "stocks[1] = 1\n",
    "stocks[2] = 0\n",
    "\n",
    "#Lagerveränderung\n",
    "shifts = Shift(products)\n",
    "\n",
    "# Systemzustände\n",
    "condition_storages = Condition_Storage(capacities, resources, stocks, times)"
   ]
  },
  {
   "cell_type": "code",
   "execution_count": 23,
   "metadata": {
    "collapsed": false
   },
   "outputs": [],
   "source": [
    "%run DynamicProgramm_stock.ipynb"
   ]
  },
  {
   "cell_type": "code",
   "execution_count": 24,
   "metadata": {
    "collapsed": false
   },
   "outputs": [
    {
     "name": "stdout",
     "output_type": "stream",
     "text": [
      "Bestände: [2 1 0] - Periode: 0 - Erwartungswert: 0.0 - Optimale Politik: 0 KA\n",
      "Bestände: [1 1 0] - Periode: 0 - Erwartungswert: 0.0 - Optimale Politik: 0 KA\n",
      "Bestände: [2 0 0] - Periode: 0 - Erwartungswert: 0.0 - Optimale Politik: 0 KA\n",
      "Bestände: [2 1 0] - Periode: 1 - Erwartungswert: 120.0 - Optimale Politik: 2 AA\n",
      "Bestände: [0 1 0] - Periode: 0 - Erwartungswert: 0.0 - Optimale Politik: 0 KA\n",
      "Bestände: [1 0 0] - Periode: 0 - Erwartungswert: 0.0 - Optimale Politik: 0 KA\n",
      "Bestände: [1 1 0] - Periode: 1 - Erwartungswert: 120.0 - Optimale Politik: 2 AA\n",
      "Bestände: [2 0 0] - Periode: 1 - Erwartungswert: 70.0 - Optimale Politik: 2 AA\n",
      "Bestände: [2 1 0] - Periode: 2 - Erwartungswert: 215.0 - Optimale Politik: 2 AA\n",
      "Bestände: [0 0 0] - Periode: 0 - Erwartungswert: 0.0 - Optimale Politik: 0 KA\n",
      "Bestände: [0 1 0] - Periode: 1 - Erwartungswert: 50.0 - Optimale Politik: 1 LE\n",
      "Bestände: [1 0 0] - Periode: 1 - Erwartungswert: 70.0 - Optimale Politik: 2 AA\n",
      "Bestände: [1 1 0] - Periode: 2 - Erwartungswert: 173.0 - Optimale Politik: 2 AA\n",
      "Bestände: [2 0 0] - Periode: 2 - Erwartungswert: 140.0 - Optimale Politik: 2 AA\n",
      "Bestände: [2 1 0] - Periode: 3 - Erwartungswert: 272.312 - Optimale Politik: 2 AA\n",
      "Bestände: [0 0 0] - Periode: 1 - Erwartungswert: 0.0 - Optimale Politik: 0 KA\n",
      "Bestände: [0 1 0] - Periode: 2 - Erwartungswert: 75.0 - Optimale Politik: 1 LE\n",
      "Bestände: [1 0 0] - Periode: 2 - Erwartungswert: 98.0 - Optimale Politik: 2 AA\n",
      "Bestände: [1 1 0] - Periode: 3 - Erwartungswert: 196.703 - Optimale Politik: 2 AA\n",
      "Bestände: [2 0 0] - Periode: 3 - Erwartungswert: 184.812 - Optimale Politik: 2 AA\n",
      "Bestände: [2 1 0] - Periode: 4 - Erwartungswert: 303.188 - Optimale Politik: 2 AA\n"
     ]
    },
    {
     "data": {
      "text/plain": [
       "303.1875"
      ]
     },
     "execution_count": 24,
     "metadata": {},
     "output_type": "execute_result"
    }
   ],
   "source": [
    "DP_Stock(solutions, condition_storages, products, resources, capacities, consumtions, times, revenues, probs, stocks, shifts)"
   ]
  },
  {
   "cell_type": "code",
   "execution_count": 25,
   "metadata": {
    "collapsed": false
   },
   "outputs": [
    {
     "name": "stdout",
     "output_type": "stream",
     "text": [
      "Optimalen Politik zum Zeitpunkt \"t\" und unter Beachtung der Restkapazitäten \"c[h]\": \n",
      "\n",
      "    $c_{1}$  $y_{1}$  $y_{2}$  $t$    ExpValue     Successor  $j^*$ $m$  \\\n",
      "4         2        1        0    4  303.187500    [8, 3, 13]      2  AA   \n",
      "8         2        0        0    3  184.812500       [17, 7]      2  AA   \n",
      "13        1        1        0    3  196.703125  [17, 12, 22]      2  AA   \n",
      "17        1        0        0    2   98.000000      [16, 26]      2  AA   \n",
      "22        0        1        0    2   75.000000      [26, 21]      1  LE   \n",
      "26        0        0        0    1    0.000000          [25]      0  KA   \n",
      "3         2        1        0    3  272.312500    [2, 12, 7]      2  AA   \n",
      "12        1        1        0    2  173.000000  [16, 11, 21]      2  AA   \n",
      "21        0        1        0    1   50.000000      [25, 20]      1  LE   \n",
      "7         2        0        0    2  140.000000       [16, 6]      2  AA   \n",
      "16        1        0        0    1   70.000000      [25, 15]      2  AA   \n",
      "25        0        0        0    0    0.000000         [end]      0   -   \n",
      "2         2        1        0    2  215.000000    [1, 11, 6]      2  AA   \n",
      "11        1        1        0    1  120.000000  [10, 20, 15]      2  AA   \n",
      "20        0        1        0    0    0.000000         [end]      0   -   \n",
      "6         2        0        0    1   70.000000       [5, 15]      2  AA   \n",
      "15        1        0        0    0    0.000000         [end]      0   -   \n",
      "1         2        1        0    1  120.000000    [0, 10, 5]      2  AA   \n",
      "10        1        1        0    0    0.000000         [end]      0   -   \n",
      "5         2        0        0    0    0.000000         [end]      0   -   \n",
      "0         2        1        0    0    0.000000         [end]      0   -   \n",
      "\n",
      "    $r_{j}-OC_{j}$  \n",
      "4          124.375  \n",
      "8          158.000  \n",
      "13         102.000  \n",
      "17         130.000  \n",
      "22         100.000  \n",
      "26           0.000  \n",
      "3          158.000  \n",
      "12         130.000  \n",
      "21         100.000  \n",
      "7          200.000  \n",
      "16         200.000  \n",
      "25           0.000  \n",
      "2          200.000  \n",
      "11         200.000  \n",
      "20           0.000  \n",
      "6          200.000  \n",
      "15           0.000  \n",
      "1          200.000  \n",
      "10           0.000  \n",
      "5            0.000  \n",
      "0            0.000   \n",
      "\n",
      "   Opt. Politic  from  to  Revenue  Cum_Rev\n",
      "4             2     4  13      200      200\n",
      "3             2    13  22      200      400\n",
      "2             1    22  26      100      500\n",
      "1             0    26  25        0      500 \n",
      "\n"
     ]
    },
    {
     "data": {
      "text/plain": [
       "(    $c_{1}$  $y_{1}$  $y_{2}$  $t$    ExpValue     Successor  $j^*$ $m$  \\\n",
       " 4         2        1        0    4  303.187500    [8, 3, 13]      2  AA   \n",
       " 8         2        0        0    3  184.812500       [17, 7]      2  AA   \n",
       " 13        1        1        0    3  196.703125  [17, 12, 22]      2  AA   \n",
       " 17        1        0        0    2   98.000000      [16, 26]      2  AA   \n",
       " 22        0        1        0    2   75.000000      [26, 21]      1  LE   \n",
       " 26        0        0        0    1    0.000000          [25]      0  KA   \n",
       " 3         2        1        0    3  272.312500    [2, 12, 7]      2  AA   \n",
       " 12        1        1        0    2  173.000000  [16, 11, 21]      2  AA   \n",
       " 21        0        1        0    1   50.000000      [25, 20]      1  LE   \n",
       " 7         2        0        0    2  140.000000       [16, 6]      2  AA   \n",
       " 16        1        0        0    1   70.000000      [25, 15]      2  AA   \n",
       " 25        0        0        0    0    0.000000         [end]      0   -   \n",
       " 2         2        1        0    2  215.000000    [1, 11, 6]      2  AA   \n",
       " 11        1        1        0    1  120.000000  [10, 20, 15]      2  AA   \n",
       " 20        0        1        0    0    0.000000         [end]      0   -   \n",
       " 6         2        0        0    1   70.000000       [5, 15]      2  AA   \n",
       " 15        1        0        0    0    0.000000         [end]      0   -   \n",
       " 1         2        1        0    1  120.000000    [0, 10, 5]      2  AA   \n",
       " 10        1        1        0    0    0.000000         [end]      0   -   \n",
       " 5         2        0        0    0    0.000000         [end]      0   -   \n",
       " 0         2        1        0    0    0.000000         [end]      0   -   \n",
       " \n",
       "     $r_{j}-OC_{j}$  \n",
       " 4          124.375  \n",
       " 8          158.000  \n",
       " 13         102.000  \n",
       " 17         130.000  \n",
       " 22         100.000  \n",
       " 26           0.000  \n",
       " 3          158.000  \n",
       " 12         130.000  \n",
       " 21         100.000  \n",
       " 7          200.000  \n",
       " 16         200.000  \n",
       " 25           0.000  \n",
       " 2          200.000  \n",
       " 11         200.000  \n",
       " 20           0.000  \n",
       " 6          200.000  \n",
       " 15           0.000  \n",
       " 1          200.000  \n",
       " 10           0.000  \n",
       " 5            0.000  \n",
       " 0            0.000  ,    Opt. Politic  from  to  Revenue  Cum_Rev\n",
       " 4             2     4  13      200      200\n",
       " 3             2    13  22      200      400\n",
       " 2             1    22  26      100      500\n",
       " 1             0    26  25        0      500)"
      ]
     },
     "execution_count": 25,
     "metadata": {},
     "output_type": "execute_result"
    }
   ],
   "source": [
    "graph = Structure_Stock(solutions, condition_storages, products, resources, consumtions, revenues, probs, stocks, shifts)\n",
    "\n",
    "Best_Politic_Stock(graph, times, resources, stocks, solutions)"
   ]
  },
  {
   "cell_type": "code",
   "execution_count": 26,
   "metadata": {
    "collapsed": false
   },
   "outputs": [],
   "source": [
    "import matplotlib as plt\n",
    "\n",
    "draw = graph.copy()\n",
    "draw.remove_node('end')\n",
    "        # Quelle: http://stackoverflow.com/a/11484144/4913569\n",
    "        # ----\n",
    "        # write dot file to use with graphviz\n",
    "        # run \"dot -Tpng test.dot >test.png\"\n",
    "nx.write_dot(draw,'test.dot')\n",
    "\n",
    "        # same layout using matplotlib with no labels\n",
    "#pos=nx.graphviz_layout(draw,prog='dot')\n",
    "#plt.figure(figsize=(size_x,size_y))\n",
    "#plt.title(\"Entscheidungsbaum\")\n",
    "#nx.draw(draw,pos,with_labels=True, node_size=500)\n",
    "#plt.savefig('GraphTest.png')"
   ]
  }
 ],
 "metadata": {
  "kernelspec": {
   "display_name": "Python 2",
   "language": "python",
   "name": "python2"
  },
  "language_info": {
   "codemirror_mode": {
    "name": "ipython",
    "version": 2
   },
   "file_extension": ".py",
   "mimetype": "text/x-python",
   "name": "python",
   "nbconvert_exporter": "python",
   "pygments_lexer": "ipython2",
   "version": "2.7.10"
  }
 },
 "nbformat": 4,
 "nbformat_minor": 0
}
