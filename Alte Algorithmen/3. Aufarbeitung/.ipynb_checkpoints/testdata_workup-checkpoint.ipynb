{
 "cells": [
  {
   "cell_type": "code",
   "execution_count": 16,
   "metadata": {
    "collapsed": false
   },
   "outputs": [],
   "source": [
    "__version__ = '0.3'\n",
    "__author__  = \"Robert Matern (r.matern@stud.uni-hannover.de)\"\n",
    "__date__    = ''\n",
    "__url__     = ''\n",
    "__copyright__ = \"(C) 2015 Robert Matern\""
   ]
  },
  {
   "cell_type": "markdown",
   "metadata": {},
   "source": [
    "#Beispieldaten Nr. 1"
   ]
  },
  {
   "cell_type": "code",
   "execution_count": 17,
   "metadata": {
    "collapsed": false
   },
   "outputs": [],
   "source": [
    "# Funktionen werden hinzugeladen.\n",
    "%run Parameter.ipynb"
   ]
  },
  {
   "cell_type": "code",
   "execution_count": 18,
   "metadata": {
    "collapsed": false
   },
   "outputs": [
    {
     "name": "stdout",
     "output_type": "stream",
     "text": [
      "0:00:00.000251\n"
     ]
    }
   ],
   "source": [
    "# Produkte\n",
    "products = Product(2)\n",
    "\n",
    "# Ressourcen\n",
    "resources = Resource(1)\n",
    "\n",
    "#Kapazität\n",
    "capacities = Capacity(resources)\n",
    "capacities[1] = 2\n",
    "\n",
    "# Ressourcenverbrauch\n",
    "consumtions = Consumption(products, resources)\n",
    "consumtions[1] = [0,1]\n",
    "consumtions[2] = [0,7]\n",
    "\n",
    "# Erträge\n",
    "revenues = Revenue(products)\n",
    "revenues[1] = 100\n",
    "revenues[2] = 5000\n",
    "\n",
    "# Buchungshorizont\n",
    "times = Time(3)\n",
    "\n",
    "# Wahrscheinlichkeiten\n",
    "probs = Prob(products, times)\n",
    "probs[1] = [0, 0.5, 0.5, 0.5]\n",
    "probs[2] = [0, 0.1, 0.1, 0.1]\n",
    "\n",
    "# Gegenwahrscheinlichkeiten\n",
    "against_probs = Against_Prob(probs)\n",
    "probs[0] = against_probs\n",
    "\n",
    "# Systemzustände\n",
    "conditions = Condition(capacities, resources, times)"
   ]
  },
  {
   "cell_type": "markdown",
   "metadata": {},
   "source": [
    "inkl. Lagerhaltung"
   ]
  },
  {
   "cell_type": "code",
   "execution_count": 19,
   "metadata": {
    "collapsed": false
   },
   "outputs": [
    {
     "name": "stdout",
     "output_type": "stream",
     "text": [
      "0:00:00.000300\n"
     ]
    }
   ],
   "source": [
    "#Lagerbestand\n",
    "stock_resources = Stock_Resource(resources)\n",
    "stock_resources[1] = 5\n",
    "\n",
    "max_stock_resources = Max_Stock_Resource(resources)\n",
    "max_stock_resources[1] = 7\n",
    "\n",
    "# Systemzustände\n",
    "condition_storages = Condition_Storage(capacities, resources, max_stock_resources, times)\n",
    "# Bei der Modelformulierung mit Lagerproduktion wird der Parameter 'max_stocks' benötigt."
   ]
  },
  {
   "cell_type": "code",
   "execution_count": 20,
   "metadata": {
    "collapsed": false
   },
   "outputs": [],
   "source": [
    "%run DynamicProgramm_workup.ipynb"
   ]
  },
  {
   "cell_type": "code",
   "execution_count": 21,
   "metadata": {
    "collapsed": false
   },
   "outputs": [
    {
     "name": "stdout",
     "output_type": "stream",
     "text": [
      "Bestände: [2 5] - Periode: 0 - Erwartungswert: 0.0 - Optimale Politik: 0 KA\n",
      "Bestände: [1 5] - Periode: 0 - Erwartungswert: 0.0 - Optimale Politik: 0 KA\n",
      "Bestände: [2 4] - Periode: 0 - Erwartungswert: 0.0 - Optimale Politik: 0 KA\n",
      "Bestände: [1 6] - Periode: 0 - Erwartungswert: 0.0 - Optimale Politik: 0 KA\n",
      "Bestände: [2 5] - Periode: 1 - Erwartungswert: 100.0 - Optimale Politik: 1 AA\n",
      "Bestände: [0 5] - Periode: 0 - Erwartungswert: 0.0 - Optimale Politik: 0 KA\n",
      "Bestände: [1 4] - Periode: 0 - Erwartungswert: 0.0 - Optimale Politik: 0 KA\n",
      "Bestände: [0 6] - Periode: 0 - Erwartungswert: 0.0 - Optimale Politik: 0 KA\n",
      "Bestände: [1 5] - Periode: 1 - Erwartungswert: 100.0 - Optimale Politik: 1 AA\n",
      "Bestände: [2 3] - Periode: 0 - Erwartungswert: 0.0 - Optimale Politik: 0 KA\n",
      "Bestände: [2 4] - Periode: 1 - Erwartungswert: 100.0 - Optimale Politik: 1 AA\n",
      "Bestände: [0 7] - Periode: 0 - Erwartungswert: 0.0 - Optimale Politik: 0 KA\n",
      "Bestände: [1 6] - Periode: 1 - Erwartungswert: 100.0 - Optimale Politik: 1 AA\n",
      "Bestände: [2 5] - Periode: 2 - Erwartungswert: 200.0 - Optimale Politik: 1 AA\n",
      "Bestände: [0 4] - Periode: 0 - Erwartungswert: 0.0 - Optimale Politik: 0 KA\n",
      "Bestände: [0 5] - Periode: 1 - Erwartungswert: 50.0 - Optimale Politik: 1 LE\n",
      "Bestände: [1 3] - Periode: 0 - Erwartungswert: 0.0 - Optimale Politik: 0 KA\n",
      "Bestände: [1 4] - Periode: 1 - Erwartungswert: 100.0 - Optimale Politik: 1 AA\n",
      "Bestände: [0 6] - Periode: 1 - Erwartungswert: 50.0 - Optimale Politik: 1 LE\n",
      "Bestände: [1 5] - Periode: 2 - Erwartungswert: 175.0 - Optimale Politik: 1 LE\n",
      "Bestände: [2 2] - Periode: 0 - Erwartungswert: 0.0 - Optimale Politik: 0 KA\n",
      "Bestände: [2 3] - Periode: 1 - Erwartungswert: 100.0 - Optimale Politik: 1 AA\n",
      "Bestände: [2 4] - Periode: 2 - Erwartungswert: 200.0 - Optimale Politik: 1 AA\n",
      "Bestände: [0 0] - Periode: 0 - Erwartungswert: 0.0 - Optimale Politik: 0 KA\n",
      "Bestände: [0 7] - Periode: 1 - Erwartungswert: 550.0 - Optimale Politik: 2 LE\n",
      "Bestände: [1 6] - Periode: 2 - Erwartungswert: 400.0 - Optimale Politik: 1 IH\n",
      "Bestände: [2 5] - Periode: 3 - Erwartungswert: 387.5 - Optimale Politik: 1 IH\n"
     ]
    },
    {
     "data": {
      "text/plain": [
       "{8: [array([2, 5, 0]), 0.0, 0, 'KA', 0],\n",
       " 9: [array([2, 5, 1]), 100.0, 1, 'AA', 100.0],\n",
       " 10: [array([2, 5, 2]), 200.0, 1, 'AA', 100.0],\n",
       " 11: [array([2, 5, 3]), 387.5, 1, 'IH', 300.0],\n",
       " 12: [array([2, 4, 0]), 0.0, 0, 'KA', 0],\n",
       " 13: [array([2, 4, 1]), 100.0, 1, 'AA', 100.0],\n",
       " 14: [array([2, 4, 2]), 200.0, 1, 'AA', 100.0],\n",
       " 16: [array([2, 3, 0]), 0.0, 0, 'KA', 0],\n",
       " 17: [array([2, 3, 1]), 100.0, 1, 'AA', 100.0],\n",
       " 20: [array([2, 2, 0]), 0.0, 0, 'KA', 0],\n",
       " 36: [array([1, 6, 0]), 0.0, 0, 'KA', 0],\n",
       " 37: [array([1, 6, 1]), 100.0, 1, 'AA', 100.0],\n",
       " 38: [array([1, 6, 2]), 400.0, 1, 'IH', 550.0],\n",
       " 40: [array([1, 5, 0]), 0.0, 0, 'KA', 0],\n",
       " 41: [array([1, 5, 1]), 100.0, 1, 'AA', 100.0],\n",
       " 42: [array([1, 5, 2]), 175.0, 1, 'LE', 100.0],\n",
       " 44: [array([1, 4, 0]), 0.0, 0, 'KA', 0],\n",
       " 45: [array([1, 4, 1]), 100.0, 1, 'AA', 100.0],\n",
       " 48: [array([1, 3, 0]), 0.0, 0, 'KA', 0],\n",
       " 64: [array([0, 7, 0]), 0.0, 0, 'KA', 0],\n",
       " 65: [array([0, 7, 1]), 550.0, 2, 'LE', 5000.0],\n",
       " 68: [array([0, 6, 0]), 0.0, 0, 'KA', 0],\n",
       " 69: [array([0, 6, 1]), 50.0, 1, 'LE', 100.0],\n",
       " 72: [array([0, 5, 0]), 0.0, 0, 'KA', 0],\n",
       " 73: [array([0, 5, 1]), 50.0, 1, 'LE', 100.0],\n",
       " 76: [array([0, 4, 0]), 0.0, 0, 'KA', 0],\n",
       " 92: [array([0, 0, 0]), 0.0, 0, 'KA', 0]}"
      ]
     },
     "execution_count": 21,
     "metadata": {},
     "output_type": "execute_result"
    }
   ],
   "source": [
    "DP_Workup(solutions, condition_storages, products, resources, capacities, consumtions, times, revenues, probs, stock_resources, max_stock_resources)\n",
    "solutions"
   ]
  },
  {
   "cell_type": "code",
   "execution_count": 22,
   "metadata": {
    "collapsed": false
   },
   "outputs": [
    {
     "name": "stdout",
     "output_type": "stream",
     "text": [
      "Optimalen Politik zum Zeitpunkt \"t\" und unter Beachtung der Restkapazitäten \"c[h]\": \n",
      "\n",
      "    $c_{1}$  $y_{1}$  $t$  ExpValue         Successor  $j^*$ $m$  \\\n",
      "11        2        5    3     387.5  [10, 38, 42, 14]      1  IH   \n",
      "38        1        6    2     400.0  [41, 37, 65, 69]      1  IH   \n",
      "65        0        7    1     550.0      [64, 92, 68]      2  LE   \n",
      "92        0        0    0       0.0             [end]      0   -   \n",
      "42        1        5    2     175.0  [41, 45, 69, 73]      1  LE   \n",
      "69        0        6    1      50.0          [72, 68]      1  LE   \n",
      "73        0        5    1      50.0          [72, 76]      1  LE   \n",
      "14        2        4    2     200.0  [17, 41, 13, 45]      1  AA   \n",
      "17        2        3    1     100.0  [16, 48, 20, 44]      1  AA   \n",
      "20        2        2    0       0.0             [end]      0   -   \n",
      "45        1        4    1     100.0  [48, 76, 44, 72]      1  AA   \n",
      "48        1        3    0       0.0             [end]      0   -   \n",
      "76        0        4    0       0.0             [end]      0   -   \n",
      "10        2        5    2     200.0   [9, 37, 13, 41]      1  AA   \n",
      "37        1        6    1     100.0  [40, 68, 36, 64]      1  AA   \n",
      "64        0        7    0       0.0             [end]      0   -   \n",
      "13        2        4    1     100.0  [16, 44, 12, 40]      1  AA   \n",
      "16        2        3    0       0.0             [end]      0   -   \n",
      "41        1        5    1     100.0  [40, 72, 44, 68]      1  AA   \n",
      "72        0        5    0       0.0             [end]      0   -   \n",
      "44        1        4    0       0.0             [end]      0   -   \n",
      "68        0        6    0       0.0             [end]      0   -   \n",
      "9         2        5    1     100.0   [8, 40, 12, 36]      1  AA   \n",
      "40        1        5    0       0.0             [end]      0   -   \n",
      "12        2        4    0       0.0             [end]      0   -   \n",
      "36        1        6    0       0.0             [end]      0   -   \n",
      "8         2        5    0       0.0             [end]      0   -   \n",
      "\n",
      "    $r_{j}-OC_{j}$  \n",
      "11             300  \n",
      "38             550  \n",
      "65            5000  \n",
      "92               0  \n",
      "42             100  \n",
      "69             100  \n",
      "73             100  \n",
      "14             100  \n",
      "17             100  \n",
      "20               0  \n",
      "45             100  \n",
      "48               0  \n",
      "76               0  \n",
      "10             100  \n",
      "37             100  \n",
      "64               0  \n",
      "13             100  \n",
      "16               0  \n",
      "41             100  \n",
      "72               0  \n",
      "44               0  \n",
      "68               0  \n",
      "9              100  \n",
      "40               0  \n",
      "12               0  \n",
      "36               0  \n",
      "8                0   \n",
      "\n",
      "   Opt. Politic  from  to  Revenue  Cum_Rev\n",
      "3             1    11  38        0        0\n",
      "2             1    38  65        0        0\n",
      "1             2    65  92     5000     5000 \n",
      "\n"
     ]
    },
    {
     "data": {
      "text/plain": [
       "(    $c_{1}$  $y_{1}$  $t$  ExpValue         Successor  $j^*$ $m$  \\\n",
       " 11        2        5    3     387.5  [10, 38, 42, 14]      1  IH   \n",
       " 38        1        6    2     400.0  [41, 37, 65, 69]      1  IH   \n",
       " 65        0        7    1     550.0      [64, 92, 68]      2  LE   \n",
       " 92        0        0    0       0.0             [end]      0   -   \n",
       " 42        1        5    2     175.0  [41, 45, 69, 73]      1  LE   \n",
       " 69        0        6    1      50.0          [72, 68]      1  LE   \n",
       " 73        0        5    1      50.0          [72, 76]      1  LE   \n",
       " 14        2        4    2     200.0  [17, 41, 13, 45]      1  AA   \n",
       " 17        2        3    1     100.0  [16, 48, 20, 44]      1  AA   \n",
       " 20        2        2    0       0.0             [end]      0   -   \n",
       " 45        1        4    1     100.0  [48, 76, 44, 72]      1  AA   \n",
       " 48        1        3    0       0.0             [end]      0   -   \n",
       " 76        0        4    0       0.0             [end]      0   -   \n",
       " 10        2        5    2     200.0   [9, 37, 13, 41]      1  AA   \n",
       " 37        1        6    1     100.0  [40, 68, 36, 64]      1  AA   \n",
       " 64        0        7    0       0.0             [end]      0   -   \n",
       " 13        2        4    1     100.0  [16, 44, 12, 40]      1  AA   \n",
       " 16        2        3    0       0.0             [end]      0   -   \n",
       " 41        1        5    1     100.0  [40, 72, 44, 68]      1  AA   \n",
       " 72        0        5    0       0.0             [end]      0   -   \n",
       " 44        1        4    0       0.0             [end]      0   -   \n",
       " 68        0        6    0       0.0             [end]      0   -   \n",
       " 9         2        5    1     100.0   [8, 40, 12, 36]      1  AA   \n",
       " 40        1        5    0       0.0             [end]      0   -   \n",
       " 12        2        4    0       0.0             [end]      0   -   \n",
       " 36        1        6    0       0.0             [end]      0   -   \n",
       " 8         2        5    0       0.0             [end]      0   -   \n",
       " \n",
       "     $r_{j}-OC_{j}$  \n",
       " 11             300  \n",
       " 38             550  \n",
       " 65            5000  \n",
       " 92               0  \n",
       " 42             100  \n",
       " 69             100  \n",
       " 73             100  \n",
       " 14             100  \n",
       " 17             100  \n",
       " 20               0  \n",
       " 45             100  \n",
       " 48               0  \n",
       " 76               0  \n",
       " 10             100  \n",
       " 37             100  \n",
       " 64               0  \n",
       " 13             100  \n",
       " 16               0  \n",
       " 41             100  \n",
       " 72               0  \n",
       " 44               0  \n",
       " 68               0  \n",
       " 9              100  \n",
       " 40               0  \n",
       " 12               0  \n",
       " 36               0  \n",
       " 8                0  ,    Opt. Politic  from  to  Revenue  Cum_Rev\n",
       " 3             1    11  38        0        0\n",
       " 2             1    38  65        0        0\n",
       " 1             2    65  92     5000     5000)"
      ]
     },
     "execution_count": 22,
     "metadata": {},
     "output_type": "execute_result"
    }
   ],
   "source": [
    "graph = Structure_Workup(solutions, condition_storages, products, resources, consumtions, revenues, probs, stock_resources, max_stock_resources)\n",
    "\n",
    "Best_Politic_Stock(graph, times, resources, stock_resources, solutions)"
   ]
  },
  {
   "cell_type": "code",
   "execution_count": 27,
   "metadata": {
    "collapsed": false
   },
   "outputs": [
    {
     "ename": "AttributeError",
     "evalue": "'module' object has no attribute 'figure'",
     "output_type": "error",
     "traceback": [
      "\u001b[0;31m---------------------------------------------------------------------------\u001b[0m",
      "\u001b[0;31mAttributeError\u001b[0m                            Traceback (most recent call last)",
      "\u001b[0;32m<ipython-input-27-ec0a85ebe107>\u001b[0m in \u001b[0;36m<module>\u001b[0;34m()\u001b[0m\n\u001b[1;32m     11\u001b[0m         \u001b[0;31m# same layout using matplotlib with no labels\u001b[0m\u001b[0;34m\u001b[0m\u001b[0;34m\u001b[0m\u001b[0m\n\u001b[1;32m     12\u001b[0m \u001b[0mpos\u001b[0m\u001b[0;34m=\u001b[0m\u001b[0mnx\u001b[0m\u001b[0;34m.\u001b[0m\u001b[0mgraphviz_layout\u001b[0m\u001b[0;34m(\u001b[0m\u001b[0mdraw\u001b[0m\u001b[0;34m,\u001b[0m\u001b[0mprog\u001b[0m\u001b[0;34m=\u001b[0m\u001b[0;34m'dot'\u001b[0m\u001b[0;34m)\u001b[0m\u001b[0;34m\u001b[0m\u001b[0m\n\u001b[0;32m---> 13\u001b[0;31m \u001b[0mplt\u001b[0m\u001b[0;34m.\u001b[0m\u001b[0mfigure\u001b[0m\u001b[0;34m(\u001b[0m\u001b[0mfigsize\u001b[0m\u001b[0;34m=\u001b[0m\u001b[0;34m(\u001b[0m\u001b[0msize_x\u001b[0m\u001b[0;34m,\u001b[0m\u001b[0msize_y\u001b[0m\u001b[0;34m)\u001b[0m\u001b[0;34m)\u001b[0m\u001b[0;34m\u001b[0m\u001b[0m\n\u001b[0m\u001b[1;32m     14\u001b[0m \u001b[0mplt\u001b[0m\u001b[0;34m.\u001b[0m\u001b[0mtitle\u001b[0m\u001b[0;34m(\u001b[0m\u001b[0;34m\"Entscheidungsbaum\"\u001b[0m\u001b[0;34m)\u001b[0m\u001b[0;34m\u001b[0m\u001b[0m\n\u001b[1;32m     15\u001b[0m \u001b[0mnx\u001b[0m\u001b[0;34m.\u001b[0m\u001b[0mdraw\u001b[0m\u001b[0;34m(\u001b[0m\u001b[0mdraw\u001b[0m\u001b[0;34m,\u001b[0m\u001b[0mpos\u001b[0m\u001b[0;34m,\u001b[0m\u001b[0mwith_labels\u001b[0m\u001b[0;34m=\u001b[0m\u001b[0mTrue\u001b[0m\u001b[0;34m,\u001b[0m \u001b[0mnode_size\u001b[0m\u001b[0;34m=\u001b[0m\u001b[0;36m500\u001b[0m\u001b[0;34m)\u001b[0m\u001b[0;34m\u001b[0m\u001b[0m\n",
      "\u001b[0;31mAttributeError\u001b[0m: 'module' object has no attribute 'figure'"
     ]
    }
   ],
   "source": [
    "import matplotlib as plt\n",
    "\n",
    "draw = graph.copy()\n",
    "draw.remove_node('end')\n",
    "        # Quelle: http://stackoverflow.com/a/11484144/4913569\n",
    "        # ----\n",
    "        # write dot file to use with graphviz\n",
    "        # run \"dot -Tpng test.dot >test.png\"\n",
    "nx.write_dot(draw,'test.dot')\n",
    "\n",
    "        # same layout using matplotlib with no labels\n",
    "#pos=nx.graphviz_layout(draw,prog='dot')\n",
    "#plt.figure(figsize=(size_x,size_y))\n",
    "#plt.title(\"Entscheidungsbaum\")\n",
    "#nx.draw(draw,pos,with_labels=True, node_size=500)\n",
    "#plt.savefig('GraphTest.png')"
   ]
  },
  {
   "cell_type": "code",
   "execution_count": null,
   "metadata": {
    "collapsed": true
   },
   "outputs": [],
   "source": []
  }
 ],
 "metadata": {
  "kernelspec": {
   "display_name": "Python 2",
   "language": "python",
   "name": "python2"
  },
  "language_info": {
   "codemirror_mode": {
    "name": "ipython",
    "version": 2
   },
   "file_extension": ".py",
   "mimetype": "text/x-python",
   "name": "python",
   "nbconvert_exporter": "python",
   "pygments_lexer": "ipython2",
   "version": "2.7.10"
  }
 },
 "nbformat": 4,
 "nbformat_minor": 0
}
