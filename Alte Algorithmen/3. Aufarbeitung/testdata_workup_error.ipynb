{
 "cells": [
  {
   "cell_type": "code",
   "execution_count": 1,
   "metadata": {
    "collapsed": false
   },
   "outputs": [],
   "source": [
    "__version__ = '0.3'\n",
    "__author__  = \"Robert Matern (r.matern@stud.uni-hannover.de)\"\n",
    "__date__    = ''\n",
    "__url__     = ''\n",
    "__copyright__ = \"(C) 2015 Robert Matern\""
   ]
  },
  {
   "cell_type": "markdown",
   "metadata": {},
   "source": [
    "#Beispieldaten Nr. 1"
   ]
  },
  {
   "cell_type": "code",
   "execution_count": 2,
   "metadata": {
    "collapsed": false
   },
   "outputs": [],
   "source": [
    "# Funktionen werden hinzugeladen.\n",
    "%run Parameter.ipynb"
   ]
  },
  {
   "cell_type": "code",
   "execution_count": 3,
   "metadata": {
    "collapsed": false
   },
   "outputs": [
    {
     "name": "stdout",
     "output_type": "stream",
     "text": [
      "0:00:00.000403\n"
     ]
    }
   ],
   "source": [
    "# Produkte\n",
    "products = Product(2)\n",
    "\n",
    "# Ressourcen\n",
    "resources = Resource(1)\n",
    "\n",
    "#Kapazität\n",
    "capacities = Capacity(resources)\n",
    "capacities[1] = 2\n",
    "\n",
    "# Ressourcenverbrauch\n",
    "consumtions = Consumption(products, resources)\n",
    "consumtions[1] = [0,1]\n",
    "consumtions[2] = [0,7]\n",
    "\n",
    "# Erträge\n",
    "revenues = Revenue(products)\n",
    "revenues[1] = 100\n",
    "revenues[2] = 5000\n",
    "\n",
    "# Buchungshorizont\n",
    "times = Time(3)\n",
    "\n",
    "# Wahrscheinlichkeiten\n",
    "probs = Prob(products, times)\n",
    "probs[1] = [0, 0.5, 0.5, 0.5]\n",
    "probs[2] = [0, 0.5, 0.5, 0.5]\n",
    "\n",
    "# Gegenwahrscheinlichkeiten\n",
    "against_probs = Against_Prob(probs)\n",
    "probs[0] = against_probs\n",
    "\n",
    "# Tat. Nachfrage\n",
    "demands = Demand(products, times)\n",
    "demands[0] = [0, 1, 1, 1] # Keine Anfragen müssen immer möglich sein!\n",
    "demands[1] = [0, 1, 1, 1]\n",
    "demands[2] = [0, 0, 0, 0]\n",
    "\n",
    "# Systemzustände\n",
    "conditions = Condition(capacities, resources, times)\n",
    "\n",
    "\n",
    "# Endzeitpunkte\n",
    "#end_times = End_Time(conditions)"
   ]
  },
  {
   "cell_type": "markdown",
   "metadata": {},
   "source": [
    "inkl. Lagerhaltung"
   ]
  },
  {
   "cell_type": "code",
   "execution_count": 4,
   "metadata": {
    "collapsed": true
   },
   "outputs": [],
   "source": [
    "%run Parameter-storage.ipynb"
   ]
  },
  {
   "cell_type": "code",
   "execution_count": 5,
   "metadata": {
    "collapsed": false
   },
   "outputs": [
    {
     "name": "stdout",
     "output_type": "stream",
     "text": [
      "0:00:00.000555\n"
     ]
    }
   ],
   "source": [
    "#Lagerbestand\n",
    "stocks = Stock(products)\n",
    "stocks[1] = 0\n",
    "stocks[2] = 5\n",
    "\n",
    "max_stocks = Max_Stock(products)\n",
    "max_stocks[1] = 2\n",
    "max_stocks[2] = 7\n",
    "\n",
    "#Lagerveränderung\n",
    "shifts = Shift(products)\n",
    "\n",
    "# Systemzustände\n",
    "condition_storages = Condition_Storage(capacities, resources, max_stocks, times)\n",
    "# Bei der Modelformulierung mit Lagerproduktion wird der Parameter 'max_stocks' benötigt."
   ]
  },
  {
   "cell_type": "code",
   "execution_count": 6,
   "metadata": {
    "collapsed": false
   },
   "outputs": [
    {
     "name": "stdout",
     "output_type": "stream",
     "text": [
      "Couldn't import dot_parser, loading of dot files will not be possible.\n"
     ]
    }
   ],
   "source": [
    "%run DynamicProgramm-storage.ipynb"
   ]
  },
  {
   "cell_type": "code",
   "execution_count": 7,
   "metadata": {
    "collapsed": false
   },
   "outputs": [
    {
     "name": "stdout",
     "output_type": "stream",
     "text": [
      "Systemzustand: [2 0 5] - Periode: 0 - Erwartungswert: 0.0 - Optimale Politik: 0 KA\n",
      "Systemzustand: [1 0 5] - Periode: 0 - Erwartungswert: 0.0 - Optimale Politik: 0 KA\n",
      "Systemzustand: [1 1 5] - Periode: 0 - Erwartungswert: 0.0 - Optimale Politik: 0 KA\n",
      "Systemzustand: [2 0 4] - Periode: 0 - Erwartungswert: 0.0 - Optimale Politik: 0 KA\n",
      "Systemzustand: [2 0 5] - Periode: 1 - Erwartungswert: 2550.0 - Optimale Politik: 2 LE\n",
      "Systemzustand: [0 0 5] - Periode: 0 - Erwartungswert: 0.0 - Optimale Politik: 0 KA\n",
      "Systemzustand: [0 1 5] - Periode: 0 - Erwartungswert: 0.0 - Optimale Politik: 0 KA\n",
      "Systemzustand: [1 0 4] - Periode: 0 - Erwartungswert: 0.0 - Optimale Politik: 0 KA\n",
      "Systemzustand: [1 0 5] - Periode: 1 - Erwartungswert: 2550.0 - Optimale Politik: 2 LE\n",
      "Systemzustand: [0 2 5] - Periode: 0 - Erwartungswert: 0.0 - Optimale Politik: 0 KA\n",
      "Systemzustand: [1 1 4] - Periode: 0 - Erwartungswert: 0.0 - Optimale Politik: 0 KA\n",
      "Systemzustand: [1 1 5] - Periode: 1 - Erwartungswert: 2600.0 - Optimale Politik: 2 LE\n",
      "Systemzustand: [2 0 3] - Periode: 0 - Erwartungswert: 0.0 - Optimale Politik: 0 KA\n",
      "Systemzustand: [2 0 4] - Periode: 1 - Erwartungswert: 2550.0 - Optimale Politik: 2 LE\n",
      "Systemzustand: [2 0 5] - Periode: 2 - Erwartungswert: 5125.0 - Optimale Politik: 2 LE\n",
      "Systemzustand: [0 0 4] - Periode: 0 - Erwartungswert: 0.0 - Optimale Politik: 0 KA\n",
      "Systemzustand: [0 0 5] - Periode: 1 - Erwartungswert: 2500.0 - Optimale Politik: 2 LE\n",
      "Systemzustand: [0 1 4] - Periode: 0 - Erwartungswert: 0.0 - Optimale Politik: 0 KA\n",
      "Systemzustand: [0 1 5] - Periode: 1 - Erwartungswert: 2550.0 - Optimale Politik: 2 LE\n",
      "Systemzustand: [1 0 3] - Periode: 0 - Erwartungswert: 0.0 - Optimale Politik: 0 KA\n",
      "Systemzustand: [1 0 4] - Periode: 1 - Erwartungswert: 2550.0 - Optimale Politik: 2 LE\n",
      "Systemzustand: [1 0 5] - Periode: 2 - Erwartungswert: 5075.0 - Optimale Politik: 2 LE\n",
      "Systemzustand: [0 2 4] - Periode: 0 - Erwartungswert: 0.0 - Optimale Politik: 0 KA\n",
      "Systemzustand: [0 2 5] - Periode: 1 - Erwartungswert: 2550.0 - Optimale Politik: 2 LE\n",
      "Systemzustand: [1 1 3] - Periode: 0 - Erwartungswert: 0.0 - Optimale Politik: 0 KA\n",
      "Systemzustand: [1 1 4] - Periode: 1 - Erwartungswert: 2600.0 - Optimale Politik: 2 LE\n",
      "Systemzustand: [1 1 5] - Periode: 2 - Erwartungswert: 5149.0 - Optimale Politik: 2 LE\n",
      "Systemzustand: [2 0 2] - Periode: 0 - Erwartungswert: 0.0 - Optimale Politik: 0 KA\n",
      "Systemzustand: [2 0 3] - Periode: 1 - Erwartungswert: 2550.0 - Optimale Politik: 2 LE\n",
      "Systemzustand: [2 0 4] - Periode: 2 - Erwartungswert: 5125.0 - Optimale Politik: 2 LE\n",
      "Systemzustand: [2 0 5] - Periode: 3 - Erwartungswert: 7662.0 - Optimale Politik: 2 LE\n"
     ]
    },
    {
     "data": {
      "text/plain": [
       "7662.0"
      ]
     },
     "execution_count": 7,
     "metadata": {},
     "output_type": "execute_result"
    }
   ],
   "source": [
    "DP_Storage(solutions, condition_storages, products, resources, capacities, consumtions, times, probs, stocks, shifts, max_stocks)"
   ]
  },
  {
   "cell_type": "code",
   "execution_count": 8,
   "metadata": {
    "collapsed": false
   },
   "outputs": [
    {
     "name": "stdout",
     "output_type": "stream",
     "text": [
      "Optimalen Politik zum Zeitpunkt \"t\" und unter Beachtung der Restkapazitäten \"c[h]\": \n",
      "\n",
      "     Value                  Successor  Res_Cap1  Stock1  Stock2  Time  \\\n",
      "75    7662         [74, 78, 170, 138]         2       0       5     3   \n",
      "78    5125         [141, 81, 77, 173]         2       0       4     2   \n",
      "81    2550         [80, 176, 144, 84]         2       0       3     1   \n",
      "84       0                      [end]         2       0       2     0   \n",
      "74    5125         [137, 73, 77, 169]         2       0       5     2   \n",
      "77    2550         [80, 172, 140, 76]         2       0       4     1   \n",
      "80       0                      [end]         2       0       3     0   \n",
      "73    2550         [72, 168, 136, 76]         2       0       5     1   \n",
      "76       0                      [end]         2       0       4     0   \n",
      "72       0                      [end]         2       0       5     0   \n",
      "170   5075       [169, 233, 173, 265]         1       0       5     2   \n",
      "173   2550       [176, 268, 172, 236]         1       0       4     1   \n",
      "176      0                      [end]         1       0       3     0   \n",
      "138   5149  [137, 201, 141, 169, 233]         1       1       5     2   \n",
      "137   2600  [136, 232, 140, 168, 200]         1       1       5     1   \n",
      "201   2550            [200, 232, 204]         0       2       5     1   \n",
      "200      0                      [end]         0       2       5     0   \n",
      "141   2600  [144, 236, 172, 140, 204]         1       1       4     1   \n",
      "144      0                      [end]         1       1       3     0   \n",
      "140      0                      [end]         1       1       4     0   \n",
      "204      0                      [end]         0       2       4     0   \n",
      "169   2550       [168, 264, 172, 232]         1       0       5     1   \n",
      "168      0                      [end]         1       0       5     0   \n",
      "172      0                      [end]         1       0       4     0   \n",
      "233   2550            [232, 264, 236]         0       1       5     1   \n",
      "232      0                      [end]         0       1       5     0   \n",
      "236      0                      [end]         0       1       4     0   \n",
      "265   2500                 [264, 268]         0       0       5     1   \n",
      "264      0                      [end]         0       0       5     0   \n",
      "268      0                      [end]         0       0       4     0   \n",
      "136      0                      [end]         1       1       5     0   \n",
      "\n",
      "     Best Order Modus  OC  \n",
      "75            2    LE   0  \n",
      "78            2    LE   0  \n",
      "81            2    LE   0  \n",
      "84            0     -   0  \n",
      "74            2    LE   0  \n",
      "77            2    LE   0  \n",
      "80            0     -   0  \n",
      "73            2    LE   0  \n",
      "76            0     -   0  \n",
      "72            0     -   0  \n",
      "170           2    LE   0  \n",
      "173           2    LE   0  \n",
      "176           0     -   0  \n",
      "138           2    LE   0  \n",
      "137           2    LE   0  \n",
      "201           2    LE   0  \n",
      "200           0     -   0  \n",
      "141           2    LE   0  \n",
      "144           0     -   0  \n",
      "140           0     -   0  \n",
      "204           0     -   0  \n",
      "169           2    LE   0  \n",
      "168           0     -   0  \n",
      "172           0     -   0  \n",
      "233           2    LE   0  \n",
      "232           0     -   0  \n",
      "236           0     -   0  \n",
      "265           2    LE   0  \n",
      "264           0     -   0  \n",
      "268           0     -   0  \n",
      "136           0     -   0   \n",
      "\n",
      "   Opt. Politic  from  to  Revenue  Cum_Rev\n",
      "3             2    75  78     5000     5000\n",
      "2             2    78  81     5000    10000\n",
      "1             2    81  84     5000    15000 \n",
      "\n"
     ]
    },
    {
     "data": {
      "text/plain": [
       "(     Value                  Successor  Res_Cap1  Stock1  Stock2  Time  \\\n",
       " 75    7662         [74, 78, 170, 138]         2       0       5     3   \n",
       " 78    5125         [141, 81, 77, 173]         2       0       4     2   \n",
       " 81    2550         [80, 176, 144, 84]         2       0       3     1   \n",
       " 84       0                      [end]         2       0       2     0   \n",
       " 74    5125         [137, 73, 77, 169]         2       0       5     2   \n",
       " 77    2550         [80, 172, 140, 76]         2       0       4     1   \n",
       " 80       0                      [end]         2       0       3     0   \n",
       " 73    2550         [72, 168, 136, 76]         2       0       5     1   \n",
       " 76       0                      [end]         2       0       4     0   \n",
       " 72       0                      [end]         2       0       5     0   \n",
       " 170   5075       [169, 233, 173, 265]         1       0       5     2   \n",
       " 173   2550       [176, 268, 172, 236]         1       0       4     1   \n",
       " 176      0                      [end]         1       0       3     0   \n",
       " 138   5149  [137, 201, 141, 169, 233]         1       1       5     2   \n",
       " 137   2600  [136, 232, 140, 168, 200]         1       1       5     1   \n",
       " 201   2550            [200, 232, 204]         0       2       5     1   \n",
       " 200      0                      [end]         0       2       5     0   \n",
       " 141   2600  [144, 236, 172, 140, 204]         1       1       4     1   \n",
       " 144      0                      [end]         1       1       3     0   \n",
       " 140      0                      [end]         1       1       4     0   \n",
       " 204      0                      [end]         0       2       4     0   \n",
       " 169   2550       [168, 264, 172, 232]         1       0       5     1   \n",
       " 168      0                      [end]         1       0       5     0   \n",
       " 172      0                      [end]         1       0       4     0   \n",
       " 233   2550            [232, 264, 236]         0       1       5     1   \n",
       " 232      0                      [end]         0       1       5     0   \n",
       " 236      0                      [end]         0       1       4     0   \n",
       " 265   2500                 [264, 268]         0       0       5     1   \n",
       " 264      0                      [end]         0       0       5     0   \n",
       " 268      0                      [end]         0       0       4     0   \n",
       " 136      0                      [end]         1       1       5     0   \n",
       " \n",
       "      Best Order Modus  OC  \n",
       " 75            2    LE   0  \n",
       " 78            2    LE   0  \n",
       " 81            2    LE   0  \n",
       " 84            0     -   0  \n",
       " 74            2    LE   0  \n",
       " 77            2    LE   0  \n",
       " 80            0     -   0  \n",
       " 73            2    LE   0  \n",
       " 76            0     -   0  \n",
       " 72            0     -   0  \n",
       " 170           2    LE   0  \n",
       " 173           2    LE   0  \n",
       " 176           0     -   0  \n",
       " 138           2    LE   0  \n",
       " 137           2    LE   0  \n",
       " 201           2    LE   0  \n",
       " 200           0     -   0  \n",
       " 141           2    LE   0  \n",
       " 144           0     -   0  \n",
       " 140           0     -   0  \n",
       " 204           0     -   0  \n",
       " 169           2    LE   0  \n",
       " 168           0     -   0  \n",
       " 172           0     -   0  \n",
       " 233           2    LE   0  \n",
       " 232           0     -   0  \n",
       " 236           0     -   0  \n",
       " 265           2    LE   0  \n",
       " 264           0     -   0  \n",
       " 268           0     -   0  \n",
       " 136           0     -   0  ,    Opt. Politic  from  to  Revenue  Cum_Rev\n",
       " 3             2    75  78     5000     5000\n",
       " 2             2    78  81     5000    10000\n",
       " 1             2    81  84     5000    15000)"
      ]
     },
     "execution_count": 8,
     "metadata": {},
     "output_type": "execute_result"
    }
   ],
   "source": [
    "graph = Structure_Storage(solutions, condition_storages, products, resources, consumtions, revenues, stocks, shifts, max_stocks)\n",
    "\n",
    "Best_Politic_Stock(graph, times, resources, stocks, solutions)"
   ]
  },
  {
   "cell_type": "code",
   "execution_count": 9,
   "metadata": {
    "collapsed": false
   },
   "outputs": [
    {
     "ename": "KeyError",
     "evalue": "10",
     "output_type": "error",
     "traceback": [
      "\u001b[0;31m---------------------------------------------------------------------------\u001b[0m",
      "\u001b[0;31mKeyError\u001b[0m                                  Traceback (most recent call last)",
      "\u001b[0;32m<ipython-input-9-60247497b00a>\u001b[0m in \u001b[0;36m<module>\u001b[0;34m()\u001b[0m\n\u001b[0;32m----> 1\u001b[0;31m \u001b[0;32mprint\u001b[0m \u001b[0mgraph\u001b[0m\u001b[0;34m.\u001b[0m\u001b[0medge\u001b[0m\u001b[0;34m[\u001b[0m\u001b[0;36m10\u001b[0m\u001b[0;34m]\u001b[0m\u001b[0;34m[\u001b[0m\u001b[0;36m13\u001b[0m\u001b[0;34m]\u001b[0m\u001b[0;34m\u001b[0m\u001b[0m\n\u001b[0m\u001b[1;32m      2\u001b[0m \u001b[0;32mprint\u001b[0m \u001b[0mgraph\u001b[0m\u001b[0;34m.\u001b[0m\u001b[0medge\u001b[0m\u001b[0;34m[\u001b[0m\u001b[0;36m10\u001b[0m\u001b[0;34m]\u001b[0m\u001b[0;34m[\u001b[0m\u001b[0;36m25\u001b[0m\u001b[0;34m]\u001b[0m\u001b[0;34m\u001b[0m\u001b[0m\n\u001b[1;32m      3\u001b[0m \u001b[0;34m\u001b[0m\u001b[0m\n\u001b[1;32m      4\u001b[0m \u001b[0msolutions\u001b[0m\u001b[0;34m\u001b[0m\u001b[0m\n",
      "\u001b[0;31mKeyError\u001b[0m: 10"
     ]
    }
   ],
   "source": [
    "print graph.edge[10][13]\n",
    "print graph.edge[10][25]\n",
    "\n",
    "solutions"
   ]
  },
  {
   "cell_type": "code",
   "execution_count": null,
   "metadata": {
    "collapsed": false
   },
   "outputs": [],
   "source": [
    "import matplotlib as plt\n",
    "\n",
    "draw = graph.copy()\n",
    "draw.remove_node('end')\n",
    "        # Quelle: http://stackoverflow.com/a/11484144/4913569\n",
    "        # ----\n",
    "        # write dot file to use with graphviz\n",
    "        # run \"dot -Tpng test.dot >test.png\"\n",
    "nx.write_dot(draw,'test.dot')\n",
    "\n",
    "        # same layout using matplotlib with no labels\n",
    "pos=nx.graphviz_layout(draw,prog='dot')\n",
    "plt.figure(figsize=(size_x,size_y))\n",
    "plt.title(\"Entscheidungsbaum\")\n",
    "nx.draw(draw,pos,with_labels=True, node_size=500)\n",
    "plt.savefig('GraphTest.png')"
   ]
  },
  {
   "cell_type": "code",
   "execution_count": null,
   "metadata": {
    "collapsed": false
   },
   "outputs": [],
   "source": [
    "Best_Politic(graph, times, resources, start=None)"
   ]
  },
  {
   "cell_type": "code",
   "execution_count": null,
   "metadata": {
    "collapsed": false
   },
   "outputs": [],
   "source": [
    "import numpy as np\n",
    "test = np.array([1, 3, 3])\n",
    "test2 = np.array([2, 2, 2])\n",
    "\n",
    "print np.all(test > test2)"
   ]
  }
 ],
 "metadata": {
  "kernelspec": {
   "display_name": "Python 2",
   "language": "python",
   "name": "python2"
  },
  "language_info": {
   "codemirror_mode": {
    "name": "ipython",
    "version": 2
   },
   "file_extension": ".py",
   "mimetype": "text/x-python",
   "name": "python",
   "nbconvert_exporter": "python",
   "pygments_lexer": "ipython2",
   "version": "2.7.10"
  }
 },
 "nbformat": 4,
 "nbformat_minor": 0
}
