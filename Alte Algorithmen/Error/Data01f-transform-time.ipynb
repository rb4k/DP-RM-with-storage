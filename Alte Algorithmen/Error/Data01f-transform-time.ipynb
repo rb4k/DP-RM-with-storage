{
 "cells": [
  {
   "cell_type": "code",
   "execution_count": 1,
   "metadata": {
    "collapsed": false
   },
   "outputs": [],
   "source": [
    "__version__ = '0.3'\n",
    "__author__  = \"Robert Matern (r.matern@stud.uni-hannover.de)\"\n",
    "__date__    = ''\n",
    "__url__     = ''\n",
    "__copyright__ = \"(C) 2015 Robert Matern\""
   ]
  },
  {
   "cell_type": "markdown",
   "metadata": {},
   "source": [
    "#Beispieldaten Nr. 1"
   ]
  },
  {
   "cell_type": "code",
   "execution_count": 2,
   "metadata": {
    "collapsed": false
   },
   "outputs": [],
   "source": [
    "# Funktionen werden hinzugeladen.\n",
    "%run Parameter.ipynb"
   ]
  },
  {
   "cell_type": "code",
   "execution_count": 3,
   "metadata": {
    "collapsed": false
   },
   "outputs": [
    {
     "name": "stdout",
     "output_type": "stream",
     "text": [
      "0:00:00.000499\n"
     ]
    }
   ],
   "source": [
    "# Produkte\n",
    "products = Product(3)\n",
    "\n",
    "# Ressourcen\n",
    "resources = Resource(3)\n",
    "\n",
    "#Kapazität\n",
    "capacities = Capacity(resources)\n",
    "capacities[1] = 1\n",
    "capacities[2] = 1\n",
    "capacities[3] = 1\n",
    "\n",
    "# Ressourcenverbrauch\n",
    "consumtions = Consumption(products, resources)\n",
    "consumtions[1] = [0,1,0,0]\n",
    "consumtions[2] = [0,0,1,0]\n",
    "consumtions[3] = [0,0,0,2]\n",
    "\n",
    "# Erträge\n",
    "revenues = Revenue(products)\n",
    "revenues[1] = 100\n",
    "revenues[2] = 200\n",
    "revenues[3] = 5000\n",
    "\n",
    "# Buchungshorizont\n",
    "times = Time(3)\n",
    "\n",
    "# Wahrscheinlichkeiten\n",
    "probs = Prob(products, times)\n",
    "probs[1] = [0, 0.3, 0.3, 0.3]\n",
    "probs[2] = [0, 0.5, 0.5, 0]\n",
    "probs[3] = [0, 0.2, 0, 0]\n",
    "\n",
    "# Gegenwahrscheinlichkeiten\n",
    "against_probs = Against_Prob(probs)\n",
    "probs[0] = against_probs\n",
    "\n",
    "# Tat. Nachfrage\n",
    "demands = Demand(products, times)\n",
    "demands[0] = [0, 1, 1, 1] # Keine Anfragen müssen immer möglich sein!\n",
    "demands[1] = [0, 0, 1, 1]\n",
    "demands[2] = [0, 1, 0, 0]\n",
    "demands[3] = [0, 1, 0, 0]\n",
    "\n",
    "# Systemzustände\n",
    "conditions = Condition(capacities, resources, times)\n",
    "\n",
    "\n",
    "# Endzeitpunkte\n",
    "#end_times = End_Time(conditions)"
   ]
  },
  {
   "cell_type": "markdown",
   "metadata": {},
   "source": [
    "inkl. Lagerhaltung"
   ]
  },
  {
   "cell_type": "code",
   "execution_count": 4,
   "metadata": {
    "collapsed": false
   },
   "outputs": [],
   "source": [
    "%run Parameter-transform.ipynb"
   ]
  },
  {
   "cell_type": "code",
   "execution_count": 5,
   "metadata": {
    "collapsed": false
   },
   "outputs": [
    {
     "name": "stdout",
     "output_type": "stream",
     "text": [
      "0:00:00.000790\n"
     ]
    }
   ],
   "source": [
    "#Lagerbestand\n",
    "stock_resources = Stock_Resource(resources)\n",
    "stock_resources[1] = 0\n",
    "\n",
    "max_stock_resources = Max_Stock_Resource(resources)\n",
    "max_stock_resources[1] = 1\n",
    "max_stock_resources[2] = 1\n",
    "max_stock_resources[3] = 2\n",
    "\n",
    "# Systemzustände\n",
    "condition_storages = Condition_Storage(capacities, resources, max_stock_resources, times)\n",
    "# Bei der Modelformulierung mit Lagerproduktion wird der Parameter 'max_stocks' benötigt."
   ]
  },
  {
   "cell_type": "code",
   "execution_count": 6,
   "metadata": {
    "collapsed": false
   },
   "outputs": [],
   "source": [
    "#Regenerationsperiode\n",
    "time_regenerations = Time_Regeneration(times)\n",
    "#time_regenerations[2]=True\n",
    "\n",
    "#Max. Kapazität\n",
    "max_capacities = Max_Capacity(capacities)"
   ]
  },
  {
   "cell_type": "code",
   "execution_count": 7,
   "metadata": {
    "collapsed": false
   },
   "outputs": [
    {
     "name": "stdout",
     "output_type": "stream",
     "text": [
      "Couldn't import dot_parser, loading of dot files will not be possible.\n"
     ]
    }
   ],
   "source": [
    "%run DynamicProgramm-transform-time.ipynb"
   ]
  },
  {
   "cell_type": "code",
   "execution_count": 8,
   "metadata": {
    "collapsed": false
   },
   "outputs": [
    {
     "name": "stdout",
     "output_type": "stream",
     "text": [
      "Bestände: [1 1 1 0 0 0] - Periode: 0 - Erwartungswert: 0.0 - Optimale Politik: 0 KA\n",
      "Bestände: [0 1 1 0 0 0] - Periode: 0 - Erwartungswert: 0.0 - Optimale Politik: 0 KA\n",
      "Bestände: [0 1 1 0 1 0] - Periode: 0 - Erwartungswert: 0.0 - Optimale Politik: 0 KA\n",
      "Bestände: [0 1 1 0 0 1] - Periode: 0 - Erwartungswert: 0.0 - Optimale Politik: 0 KA\n",
      "Bestände: [1 0 1 0 0 0] - Periode: 0 - Erwartungswert: 0.0 - Optimale Politik: 0 KA\n",
      "Bestände: [1 0 1 0 0 1] - Periode: 0 - Erwartungswert: 0.0 - Optimale Politik: 0 KA\n",
      "Bestände: [1 1 1 0 0 0] - Periode: 1 - Erwartungswert: 130.0 - Optimale Politik: 2 AA\n",
      "Bestände: [0 0 1 0 0 0] - Periode: 0 - Erwartungswert: 0.0 - Optimale Politik: 0 KA\n",
      "Bestände: [0 0 1 0 0 1] - Periode: 0 - Erwartungswert: 0.0 - Optimale Politik: 0 KA\n",
      "Bestände: [0 1 1 0 0 0] - Periode: 1 - Erwartungswert: 100.0 - Optimale Politik: 2 AA\n",
      "Bestände: [0 0 1 0 1 0] - Periode: 0 - Erwartungswert: 0.0 - Optimale Politik: 0 KA\n",
      "Bestände: [0 0 1 0 1 1] - Periode: 0 - Erwartungswert: 0.0 - Optimale Politik: 0 KA\n",
      "Bestände: [0 1 1 0 1 0] - Periode: 1 - Erwartungswert: 200.0 - Optimale Politik: 2 AA\n",
      "Bestände: [0 0 1 0 0 2] - Periode: 0 - Erwartungswert: 0.0 - Optimale Politik: 0 KA\n",
      "Bestände: [0 1 1 0 0 1] - Periode: 1 - Erwartungswert: 100.0 - Optimale Politik: 2 AA\n",
      "Bestände: [1 0 1 0 0 0] - Periode: 1 - Erwartungswert: 30.0 - Optimale Politik: 1 AA\n",
      "Bestände: [1 0 1 0 0 1] - Periode: 1 - Erwartungswert: 30.0 - Optimale Politik: 1 AA\n",
      "Bestände: [1 1 1 0 0 0] - Periode: 2 - Erwartungswert: 201.0 - Optimale Politik: 2 AA\n",
      "Bestände: [0 0 1 0 0 0] - Periode: 1 - Erwartungswert: 0.0 - Optimale Politik: 0 KA\n",
      "Bestände: [0 0 1 0 0 1] - Periode: 1 - Erwartungswert: 0.0 - Optimale Politik: 0 KA\n",
      "Bestände: [0 1 1 0 0 0] - Periode: 2 - Erwartungswert: 150.0 - Optimale Politik: 2 AA\n",
      "Bestände: [0 0 1 0 1 0] - Periode: 1 - Erwartungswert: 100.0 - Optimale Politik: 2 LE\n",
      "Bestände: [0 0 1 0 1 1] - Periode: 1 - Erwartungswert: 100.0 - Optimale Politik: 2 LE\n",
      "Bestände: [0 1 1 0 1 0] - Periode: 2 - Erwartungswert: 300.0 - Optimale Politik: 2 AA\n",
      "Bestände: [0 0 1 0 0 2] - Periode: 1 - Erwartungswert: 1000.0 - Optimale Politik: 3 LE\n",
      "Bestände: [0 1 1 0 0 1] - Periode: 2 - Erwartungswert: 600.0 - Optimale Politik: 2 LP - Modus: [0 0 0 1]\n",
      "Bestände: [1 1 1 0 0 0] - Periode: 3 - Erwartungswert: 335.391 - Optimale Politik: 1 LP - Modus: [0 0 0 1]\n"
     ]
    },
    {
     "data": {
      "text/plain": [
       "335.39062"
      ]
     },
     "execution_count": 8,
     "metadata": {},
     "output_type": "execute_result"
    }
   ],
   "source": [
    "DP_Transform(solutions, condition_storages, products, resources, capacities, consumtions, times, revenues, probs, stock_resources, max_stock_resources, time_regenerations, max_capacities)"
   ]
  },
  {
   "cell_type": "code",
   "execution_count": 9,
   "metadata": {
    "collapsed": false
   },
   "outputs": [
    {
     "name": "stdout",
     "output_type": "stream",
     "text": [
      "Optimalen Politik zum Zeitpunkt \"t\" und unter Beachtung der Restkapazitäten \"c[h]\": \n",
      "\n",
      "     $c_{1}$  $c_{2}$  $c_{3}$  $y_{1}$  $y_{2}$  $y_{3}$  $t$     ExpValue  \\\n",
      "47         1        1        1        0        0        0    3   335.390625   \n",
      "234        0        1        1        0        0        1    2   600.000000   \n",
      "325        0        0        1        0        0        2    1  1000.000000   \n",
      "226        0        1        1        0        1        0    2   300.000000   \n",
      "317        0        0        1        0        1        1    1   100.000000   \n",
      "321        0        0        1        0        1        0    1   100.000000   \n",
      "238        0        1        1        0        0        0    2   150.000000   \n",
      "329        0        0        1        0        0        1    1     0.000000   \n",
      "333        0        0        1        0        0        0    1     0.000000   \n",
      "46         1        1        1        0        0        0    2   201.000000   \n",
      "225        0        1        1        0        1        0    1   200.000000   \n",
      "233        0        1        1        0        0        1    1   100.000000   \n",
      "237        0        1        1        0        0        0    1   100.000000   \n",
      "45         1        1        1        0        0        0    1   130.000000   \n",
      "224        0        1        1        0        1        0    0     0.000000   \n",
      "236        0        1        1        0        0        0    0     0.000000   \n",
      "232        0        1        1        0        0        1    0     0.000000   \n",
      "44         1        1        1        0        0        0    0     0.000000   \n",
      "141        1        0        1        0        0        0    1    30.000000   \n",
      "320        0        0        1        0        1        0    0     0.000000   \n",
      "332        0        0        1        0        0        0    0     0.000000   \n",
      "140        1        0        1        0        0        0    0     0.000000   \n",
      "137        1        0        1        0        0        1    1    30.000000   \n",
      "328        0        0        1        0        0        1    0     0.000000   \n",
      "316        0        0        1        0        1        1    0     0.000000   \n",
      "324        0        0        1        0        0        2    0     0.000000   \n",
      "136        1        0        1        0        0        1    0     0.000000   \n",
      "\n",
      "                         Successor  $j^*$        $m$  $r_{j}-OC_{j}$  \n",
      "47             [234, 226, 238, 46]      1  LP[0 0 1]             499  \n",
      "234                [233, 325, 329]      2  LP[0 0 1]            1100  \n",
      "325                     [332, 324]      3         LE            5000  \n",
      "226           [225, 317, 237, 321]      2         AA             100  \n",
      "317                     [328, 316]      2         LE             200  \n",
      "321                     [320, 332]      2         LE             200  \n",
      "238                [329, 237, 333]      2         AA             100  \n",
      "329                          [328]      0         KA               0  \n",
      "333                          [332]      0         KA               0  \n",
      "46   [225, 233, 141, 45, 237, 137]      2         AA             100  \n",
      "225           [224, 320, 236, 316]      2         AA             200  \n",
      "233                [232, 328, 324]      2         AA             200  \n",
      "237                [328, 332, 236]      2         AA             200  \n",
      "45   [224, 136, 140, 236, 44, 232]      2         AA             200  \n",
      "224                          [end]      0          -               0  \n",
      "236                          [end]      0          -               0  \n",
      "232                          [end]      0          -               0  \n",
      "44                           [end]      0          -               0  \n",
      "141           [320, 332, 140, 328]      1         AA             100  \n",
      "320                          [end]      0          -               0  \n",
      "332                          [end]      0          -               0  \n",
      "140                          [end]      0          -               0  \n",
      "137           [136, 328, 316, 324]      1         AA             100  \n",
      "328                          [end]      0          -               0  \n",
      "316                          [end]      0          -               0  \n",
      "324                          [end]      0          -               0  \n",
      "136                          [end]      0          -               0   \n",
      "\n",
      "   Opt. Politic  from   to  Revenue  Cum_Rev\n",
      "3             1    47  234        0        0\n",
      "2             2   234  325        0        0\n",
      "1             3   325  332     5000     5000 \n",
      "\n"
     ]
    },
    {
     "data": {
      "text/plain": [
       "(     $c_{1}$  $c_{2}$  $c_{3}$  $y_{1}$  $y_{2}$  $y_{3}$  $t$     ExpValue  \\\n",
       " 47         1        1        1        0        0        0    3   335.390625   \n",
       " 234        0        1        1        0        0        1    2   600.000000   \n",
       " 325        0        0        1        0        0        2    1  1000.000000   \n",
       " 226        0        1        1        0        1        0    2   300.000000   \n",
       " 317        0        0        1        0        1        1    1   100.000000   \n",
       " 321        0        0        1        0        1        0    1   100.000000   \n",
       " 238        0        1        1        0        0        0    2   150.000000   \n",
       " 329        0        0        1        0        0        1    1     0.000000   \n",
       " 333        0        0        1        0        0        0    1     0.000000   \n",
       " 46         1        1        1        0        0        0    2   201.000000   \n",
       " 225        0        1        1        0        1        0    1   200.000000   \n",
       " 233        0        1        1        0        0        1    1   100.000000   \n",
       " 237        0        1        1        0        0        0    1   100.000000   \n",
       " 45         1        1        1        0        0        0    1   130.000000   \n",
       " 224        0        1        1        0        1        0    0     0.000000   \n",
       " 236        0        1        1        0        0        0    0     0.000000   \n",
       " 232        0        1        1        0        0        1    0     0.000000   \n",
       " 44         1        1        1        0        0        0    0     0.000000   \n",
       " 141        1        0        1        0        0        0    1    30.000000   \n",
       " 320        0        0        1        0        1        0    0     0.000000   \n",
       " 332        0        0        1        0        0        0    0     0.000000   \n",
       " 140        1        0        1        0        0        0    0     0.000000   \n",
       " 137        1        0        1        0        0        1    1    30.000000   \n",
       " 328        0        0        1        0        0        1    0     0.000000   \n",
       " 316        0        0        1        0        1        1    0     0.000000   \n",
       " 324        0        0        1        0        0        2    0     0.000000   \n",
       " 136        1        0        1        0        0        1    0     0.000000   \n",
       " \n",
       "                          Successor  $j^*$        $m$  $r_{j}-OC_{j}$  \n",
       " 47             [234, 226, 238, 46]      1  LP[0 0 1]             499  \n",
       " 234                [233, 325, 329]      2  LP[0 0 1]            1100  \n",
       " 325                     [332, 324]      3         LE            5000  \n",
       " 226           [225, 317, 237, 321]      2         AA             100  \n",
       " 317                     [328, 316]      2         LE             200  \n",
       " 321                     [320, 332]      2         LE             200  \n",
       " 238                [329, 237, 333]      2         AA             100  \n",
       " 329                          [328]      0         KA               0  \n",
       " 333                          [332]      0         KA               0  \n",
       " 46   [225, 233, 141, 45, 237, 137]      2         AA             100  \n",
       " 225           [224, 320, 236, 316]      2         AA             200  \n",
       " 233                [232, 328, 324]      2         AA             200  \n",
       " 237                [328, 332, 236]      2         AA             200  \n",
       " 45   [224, 136, 140, 236, 44, 232]      2         AA             200  \n",
       " 224                          [end]      0          -               0  \n",
       " 236                          [end]      0          -               0  \n",
       " 232                          [end]      0          -               0  \n",
       " 44                           [end]      0          -               0  \n",
       " 141           [320, 332, 140, 328]      1         AA             100  \n",
       " 320                          [end]      0          -               0  \n",
       " 332                          [end]      0          -               0  \n",
       " 140                          [end]      0          -               0  \n",
       " 137           [136, 328, 316, 324]      1         AA             100  \n",
       " 328                          [end]      0          -               0  \n",
       " 316                          [end]      0          -               0  \n",
       " 324                          [end]      0          -               0  \n",
       " 136                          [end]      0          -               0  ,\n",
       "    Opt. Politic  from   to  Revenue  Cum_Rev\n",
       " 3             1    47  234        0        0\n",
       " 2             2   234  325        0        0\n",
       " 1             3   325  332     5000     5000)"
      ]
     },
     "execution_count": 9,
     "metadata": {},
     "output_type": "execute_result"
    }
   ],
   "source": [
    "graph = Structure_Transform(solutions, condition_storages, products, resources, consumtions, revenues, probs, stock_resources, max_stock_resources, time_regenerations, max_capacities)\n",
    "\n",
    "Best_Politic_Stock(graph, times, resources, stock_resources, solutions)"
   ]
  },
  {
   "cell_type": "code",
   "execution_count": 10,
   "metadata": {
    "collapsed": false
   },
   "outputs": [
    {
     "ename": "AttributeError",
     "evalue": "'module' object has no attribute 'figure'",
     "output_type": "error",
     "traceback": [
      "\u001b[0;31m---------------------------------------------------------------------------\u001b[0m",
      "\u001b[0;31mAttributeError\u001b[0m                            Traceback (most recent call last)",
      "\u001b[0;32m<ipython-input-10-ec0a85ebe107>\u001b[0m in \u001b[0;36m<module>\u001b[0;34m()\u001b[0m\n\u001b[1;32m     11\u001b[0m         \u001b[0;31m# same layout using matplotlib with no labels\u001b[0m\u001b[0;34m\u001b[0m\u001b[0;34m\u001b[0m\u001b[0m\n\u001b[1;32m     12\u001b[0m \u001b[0mpos\u001b[0m\u001b[0;34m=\u001b[0m\u001b[0mnx\u001b[0m\u001b[0;34m.\u001b[0m\u001b[0mgraphviz_layout\u001b[0m\u001b[0;34m(\u001b[0m\u001b[0mdraw\u001b[0m\u001b[0;34m,\u001b[0m\u001b[0mprog\u001b[0m\u001b[0;34m=\u001b[0m\u001b[0;34m'dot'\u001b[0m\u001b[0;34m)\u001b[0m\u001b[0;34m\u001b[0m\u001b[0m\n\u001b[0;32m---> 13\u001b[0;31m \u001b[0mplt\u001b[0m\u001b[0;34m.\u001b[0m\u001b[0mfigure\u001b[0m\u001b[0;34m(\u001b[0m\u001b[0mfigsize\u001b[0m\u001b[0;34m=\u001b[0m\u001b[0;34m(\u001b[0m\u001b[0msize_x\u001b[0m\u001b[0;34m,\u001b[0m\u001b[0msize_y\u001b[0m\u001b[0;34m)\u001b[0m\u001b[0;34m)\u001b[0m\u001b[0;34m\u001b[0m\u001b[0m\n\u001b[0m\u001b[1;32m     14\u001b[0m \u001b[0mplt\u001b[0m\u001b[0;34m.\u001b[0m\u001b[0mtitle\u001b[0m\u001b[0;34m(\u001b[0m\u001b[0;34m\"Entscheidungsbaum\"\u001b[0m\u001b[0;34m)\u001b[0m\u001b[0;34m\u001b[0m\u001b[0m\n\u001b[1;32m     15\u001b[0m \u001b[0mnx\u001b[0m\u001b[0;34m.\u001b[0m\u001b[0mdraw\u001b[0m\u001b[0;34m(\u001b[0m\u001b[0mdraw\u001b[0m\u001b[0;34m,\u001b[0m\u001b[0mpos\u001b[0m\u001b[0;34m,\u001b[0m\u001b[0mwith_labels\u001b[0m\u001b[0;34m=\u001b[0m\u001b[0mTrue\u001b[0m\u001b[0;34m,\u001b[0m \u001b[0mnode_size\u001b[0m\u001b[0;34m=\u001b[0m\u001b[0;36m500\u001b[0m\u001b[0;34m)\u001b[0m\u001b[0;34m\u001b[0m\u001b[0m\n",
      "\u001b[0;31mAttributeError\u001b[0m: 'module' object has no attribute 'figure'"
     ]
    }
   ],
   "source": [
    "import matplotlib as plt\n",
    "\n",
    "draw = graph.copy()\n",
    "draw.remove_node('end')\n",
    "        # Quelle: http://stackoverflow.com/a/11484144/4913569\n",
    "        # ----\n",
    "        # write dot file to use with graphviz\n",
    "        # run \"dot -Tpng test.dot >test.png\"\n",
    "nx.write_dot(draw,'test.dot')\n",
    "\n",
    "        # same layout using matplotlib with no labels\n",
    "pos=nx.graphviz_layout(draw,prog='dot')\n",
    "plt.figure(figsize=(size_x,size_y))\n",
    "plt.title(\"Entscheidungsbaum\")\n",
    "nx.draw(draw,pos,with_labels=True, node_size=500)\n",
    "plt.savefig('GraphTest.png')"
   ]
  },
  {
   "cell_type": "code",
   "execution_count": null,
   "metadata": {
    "collapsed": false
   },
   "outputs": [],
   "source": [
    "Best_Politic(graph, times, resources, start=None)"
   ]
  },
  {
   "cell_type": "code",
   "execution_count": null,
   "metadata": {
    "collapsed": true
   },
   "outputs": [],
   "source": []
  }
 ],
 "metadata": {
  "kernelspec": {
   "display_name": "Python 2",
   "language": "python",
   "name": "python2"
  },
  "language_info": {
   "codemirror_mode": {
    "name": "ipython",
    "version": 2
   },
   "file_extension": ".py",
   "mimetype": "text/x-python",
   "name": "python",
   "nbconvert_exporter": "python",
   "pygments_lexer": "ipython2",
   "version": "2.7.10"
  }
 },
 "nbformat": 4,
 "nbformat_minor": 0
}
