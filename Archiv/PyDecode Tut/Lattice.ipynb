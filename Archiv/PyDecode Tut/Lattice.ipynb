{
 "metadata": {
  "name": ""
 },
 "nbformat": 3,
 "nbformat_minor": 0,
 "worksheets": [
  {
   "cells": [
    {
     "cell_type": "code",
     "collapsed": false,
     "input": [],
     "language": "python",
     "outputs": []
    },
    {
     "cell_type": "code",
     "collapsed": false,
     "input": [
      "n = 15"
     ],
     "language": "python",
     "outputs": [],
     "prompt_number": 1
    },
    {
     "cell_type": "code",
     "collapsed": false,
     "input": [
      "import pydecode.hyper as ph\n",
      "import pydecode.chart as chart\n",
      "import pydecode.constraints as constraints\n",
      "import numpy as np"
     ],
     "language": "python",
     "outputs": [],
     "prompt_number": 1
    },
    {
     "cell_type": "code",
     "collapsed": false,
     "input": [
      "print [ [j for j in range(3)] for i in range(3) ]"
     ],
     "language": "python",
     "outputs": [
      {
       "output_type": "stream",
       "stream": "stdout",
       "text": [
        "[[0, 1, 2], [0, 1, 2], [0, 1, 2]]\n"
       ]
      }
     ],
     "prompt_number": 2
    },
    {
     "cell_type": "code",
     "collapsed": false,
     "input": [
      "h = ph.make_lattice(3, 3, [ [j for j in range(3)] for i in range(3) ])"
     ],
     "language": "python",
     "outputs": [],
     "prompt_number": 3
    },
    {
     "cell_type": "code",
     "collapsed": false,
     "input": [
      "class Form(d.HypergraphFormatter):\n",
      "    def hyperedge_node_attrs(self, n):\n",
      "        return {}\n"
     ],
     "language": "python",
     "outputs": [],
     "prompt_number": 8
    },
    {
     "cell_type": "code",
     "collapsed": false,
     "input": [
      "len(h.nodes)\n",
      "for n in h.nodes:\n",
      "    print n.label"
     ],
     "language": "python",
     "outputs": [
      {
       "output_type": "stream",
       "stream": "stdout",
       "text": [
        "0 0\n",
        "1 0\n",
        "1 1\n",
        "1 2\n",
        "1 0\n",
        "1 1\n",
        "1 2\n",
        "2 0\n",
        "2 1\n",
        "2 2\n",
        "3 0\n",
        "3 1\n",
        "3 2\n",
        "4 0\n"
       ]
      }
     ],
     "prompt_number": 4
    },
    {
     "cell_type": "code",
     "collapsed": false,
     "input": [
      "import pydecode.display as d\n",
      "a =Form(h).to_image(\"/tmp/fig.png\")"
     ],
     "language": "python",
     "outputs": [],
     "prompt_number": 9
    },
    {
     "cell_type": "code",
     "collapsed": false,
     "input": [
      "a.to_image"
     ],
     "language": "python",
     "outputs": []
    },
    {
     "cell_type": "code",
     "collapsed": false,
     "input": [
      "def make_lattice(c):\n",
      "    for k in range(n):\n",
      "        c.init((0,k))\n",
      "    for i in range(1,n):\n",
      "        for j in range(n-1):\n",
      "            c[(i,j)] = c.sum([c[i-1,k] for k in range((n -1) if i > 1 else 1) ])\n",
      "    return c"
     ],
     "language": "python",
     "outputs": [],
     "prompt_number": 41
    },
    {
     "cell_type": "code",
     "collapsed": false,
     "input": [
      "c = chart.ChartBuilder(lambda a: a, semiring=chart.HypergraphSemiRing, build_hypergraph=True)\n",
      "h = make_lattice(c).finish()"
     ],
     "language": "python",
     "outputs": [],
     "prompt_number": 42
    },
    {
     "cell_type": "code",
     "collapsed": false,
     "input": [
      "# import pydecode.display as display\n",
      "# display.HypergraphFormatter(h).to_ipython()"
     ],
     "language": "python",
     "outputs": [],
     "prompt_number": 43
    },
    {
     "cell_type": "code",
     "collapsed": false,
     "input": [
      "p = np.random.random(len(h.edges))\n",
      "w = ph.LogViterbiPotentials(h).from_array(p)"
     ],
     "language": "python",
     "outputs": [],
     "prompt_number": 44
    },
    {
     "cell_type": "code",
     "collapsed": false,
     "input": [
      "ins = ph.inside(h, w)\n",
      "out = ph.outside(h, w, ins)"
     ],
     "language": "python",
     "outputs": [],
     "prompt_number": 45
    },
    {
     "cell_type": "code",
     "collapsed": false,
     "input": [
      "def build_constraints(edge):\n",
      "    b = ph.Bitset()\n",
      "    i, j = edge.head.label\n",
      "    b[j] = 1\n",
      "    return b\n",
      "cons3 = ph.BinaryVectorPotentials(h).from_vector(\n",
      "           [build_constraints(edge) for edge in h.edges])"
     ],
     "language": "python",
     "outputs": [],
     "prompt_number": 46
    },
    {
     "cell_type": "code",
     "collapsed": false,
     "input": [
      "def build_constraints(edge):\n",
      "    b = []\n",
      "    i, j = edge.head.label\n",
      "    b.append((j, 1))\n",
      "    return b\n",
      "cons1 = constraints.Constraints(h, [(i,-1) for i in range(0,n-1)])\\\n",
      "            .from_vector([build_constraints(edge) for edge in h.edges])"
     ],
     "language": "python",
     "outputs": [],
     "prompt_number": 47
    },
    {
     "cell_type": "code",
     "collapsed": false,
     "input": [
      "# k = [0, 1, 2, 1, 5, 2] \n",
      "# def build_constraints(edge):\n",
      "#     b = [-1] * 26\n",
      "#     i, j = edge.head.label\n",
      "#     b[k[i]] = j\n",
      "#     return b\n",
      "# cons2 = ph.AlphabetPotentials(h).from_vector([build_constraints(edge) \n",
      "#                                              for edge in h.edges])"
     ],
     "language": "python",
     "outputs": [],
     "prompt_number": 48
    },
    {
     "cell_type": "code",
     "collapsed": false,
     "input": [
      "# for edge in h.edges:\n",
      "#     print cons[edge]"
     ],
     "language": "python",
     "outputs": [],
     "prompt_number": 49
    },
    {
     "cell_type": "code",
     "collapsed": false,
     "input": [
      "# groups = [node.label[0] for node in h.nodes]\n",
      "# num_groups = max(groups) + 1\n",
      "# beam_chart = ph.beam_search_Alphabet(h, w, cons1, out, -10000, [node.label[0] for node in h.nodes], [1000] * num_groups, num_groups)"
     ],
     "language": "python",
     "outputs": [],
     "prompt_number": 50
    },
    {
     "cell_type": "code",
     "collapsed": false,
     "input": [
      "groups = [node.label[0] for node in h.nodes]\n",
      "num_groups = max(groups) + 1\n",
      "beam_chart = ph.beam_search_BinaryVector(h, w, cons3, out, -10000, [node.label[0] for node in h.nodes], [1000] * num_groups, num_groups)"
     ],
     "language": "python",
     "outputs": [],
     "prompt_number": 51
    },
    {
     "cell_type": "code",
     "collapsed": false,
     "input": [
      "from collections import defaultdict\n",
      "d = defaultdict(list)\n",
      "for i, g in enumerate(groups):\n",
      "    d[g].append(i)"
     ],
     "language": "python",
     "outputs": [],
     "prompt_number": 52
    },
    {
     "cell_type": "code",
     "collapsed": false,
     "input": [
      "def show_alphabet(alpha):\n",
      "    for i, a in enumerate(alpha):\n",
      "        if a != -1:\n",
      "            print chr(ord(\"A\")+ i) + \"->\"+  chr(ord(\"A\")+ a),\n",
      "    print"
     ],
     "language": "python",
     "outputs": [],
     "prompt_number": 53
    },
    {
     "cell_type": "code",
     "collapsed": false,
     "input": [
      "# for g in d:\n",
      "#     print \"Group \" + str(g)\n",
      "#     for node in [h.nodes[i] for i in d[g]] :\n",
      "#         print node.label\n",
      "#         for (hyp, score, future) in beam_chart[node]:\n",
      "#             print \"\\t\", score + future, \n",
      "#             # show_alphabet(hyp)\n",
      "#             print \" \".join(str(hyp[i]) for i in range(10))\n",
      "#         print "
     ],
     "language": "python",
     "outputs": [],
     "prompt_number": 56
    },
    {
     "cell_type": "code",
     "collapsed": false,
     "input": [
      "import pydecode.lp as lp\n",
      "l = lp.HypergraphLP.make_lp(h, w, integral=True)\n",
      "l.add_constraints(cons1)\n",
      "l.solve()\n",
      "print l.objective\n",
      "for node in l.path.nodes:\n",
      "    print node.label"
     ],
     "language": "python",
     "outputs": [
      {
       "output_type": "stream",
       "stream": "stdout",
       "text": [
        "12.6431069308\n",
        "(0, 0)\n",
        "(1, 9)\n",
        "(2, 10)\n",
        "(3, 4)\n",
        "(4, 7)\n",
        "(5, 12)\n",
        "(6, 2)\n",
        "(7, 8)\n",
        "(8, 6)\n",
        "(9, 3)\n",
        "(10, 5)\n",
        "(11, 11)\n",
        "(12, 1)\n",
        "(13, 0)\n",
        "(14, 13)\n"
       ]
      }
     ],
     "prompt_number": 55
    }
   ]
  }
 ]
}