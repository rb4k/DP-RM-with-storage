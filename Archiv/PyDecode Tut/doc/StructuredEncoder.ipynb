{
 "metadata": {
  "name": ""
 },
 "nbformat": 3,
 "nbformat_minor": 0,
 "worksheets": [
  {
   "cells": [
    {
     "cell_type": "heading",
     "level": 1,
     "source": [
      "pydecode.StructuredEncoder"
     ]
    },
    {
     "cell_type": "raw",
     "source": [
      ".. currentmodule:: pydecode.nlp\n",
      ".. autofunction:: StructuredEncoder"
     ]
    },
    {
     "cell_type": "heading",
     "level": 2,
     "source": [
      "Examples"
     ]
    },
    {
     "cell_type": "code",
     "collapsed": false,
     "input": [
      "import pydecode\n",
      "import pydecode.encoder\n",
      "import numpy as np"
     ],
     "language": "python",
     "outputs": [],
     "prompt_number": 7
    },
    {
     "cell_type": "code",
     "collapsed": false,
     "input": [
      "tags = [\"D\", \"V\", \"N\", \"A\"]\n",
      "sentence = \"the dog walked to the park\".split()"
     ],
     "language": "python",
     "outputs": [],
     "prompt_number": 1
    },
    {
     "cell_type": "code",
     "collapsed": false,
     "input": [
      "class TaggingEncoder(pydecode.encoder.StructuredEncoder):\n",
      "    def __init__(self, tags, sentence):\n",
      "        self.T = len(tags)\n",
      "        self.n = len(sentence)\n",
      "        shape = (self.n, self.T)\n",
      "        super(TaggingEncoder, self).__init__(shape)\n",
      "\n",
      "    def from_parts(self, parts):\n",
      "        tag_sequence = np.zeros(self.n)\n",
      "        for part in parts:\n",
      "            tag_sequence[part[0]] = part[1]\n",
      "        return tag_sequence\n",
      "\n",
      "    def transform_structure(self, structure):\n",
      "        parts = []\n",
      "        for i, t in enumerate(structure):\n",
      "            parts.append((i,t)) \n",
      "        return np.array(parts)\n",
      "\n",
      "encoder = TaggingEncoder(tags, sentence)"
     ],
     "language": "python",
     "outputs": [],
     "prompt_number": 79
    },
    {
     "cell_type": "code",
     "collapsed": false,
     "input": [
      "tag_sequence = np.array([3,2,3,1,0, 2])\n",
      "parts = encoder.transform_structure(tag_sequence)\n",
      "parts"
     ],
     "language": "python",
     "outputs": [
      {
       "output_type": "pyout",
       "prompt_number": 80,
       "text": [
        "array([[0, 3],\n",
        "       [1, 2],\n",
        "       [2, 3],\n",
        "       [3, 1],\n",
        "       [4, 0],\n",
        "       [5, 2]])"
       ]
      }
     ],
     "prompt_number": 80
    },
    {
     "cell_type": "code",
     "collapsed": false,
     "input": [
      "encoder.from_parts(parts)"
     ],
     "language": "python",
     "outputs": [
      {
       "output_type": "pyout",
       "prompt_number": 81,
       "text": [
        "array([ 3.,  2.,  3.,  1.,  0.,  2.])"
       ]
      }
     ],
     "prompt_number": 81
    },
    {
     "cell_type": "code",
     "collapsed": false,
     "input": [
      "labels = encoder.encoder[tuple(parts.T)]\n",
      "labels"
     ],
     "language": "python",
     "outputs": [
      {
       "output_type": "pyout",
       "prompt_number": 114,
       "text": [
        "array([ 3,  6, 11, 13, 16, 22])"
       ]
      }
     ],
     "prompt_number": 114
    },
    {
     "cell_type": "code",
     "collapsed": false,
     "input": [
      "parts = encoder.transform_labels(labels)\n",
      "parts"
     ],
     "language": "python",
     "outputs": [
      {
       "output_type": "pyout",
       "prompt_number": 116,
       "text": [
        "array([[0, 3],\n",
        "       [1, 2],\n",
        "       [2, 3],\n",
        "       [3, 1],\n",
        "       [4, 0],\n",
        "       [5, 2]])"
       ]
      }
     ],
     "prompt_number": 116
    },
    {
     "cell_type": "heading",
     "level": 2,
     "source": [
      "Invariants"
     ]
    },
    {
     "cell_type": "markdown",
     "source": [
      "Transform between parts and labels and parts is identity."
     ]
    },
    {
     "cell_type": "code",
     "collapsed": false,
     "input": [
      "def test_transform():\n",
      "    shape = (10, 15)\n",
      "    encoder = pydecode.encoder.StructuredEncoder(shape)\n",
      "    a = np.random.randint(10, size=10)\n",
      "    b = np.random.randint(15, size=10)\n",
      "\n",
      "    parts = np.vstack((a.T, b.T)).T\n",
      "    labels = encoder.encoder[tuple(parts.T)]\n",
      "    reparts = encoder.transform_labels(labels)\n",
      "    assert (parts == reparts).all()\n",
      "test_transform()"
     ],
     "language": "python",
     "outputs": [],
     "prompt_number": 135
    }
   ]
  }
 ]
}