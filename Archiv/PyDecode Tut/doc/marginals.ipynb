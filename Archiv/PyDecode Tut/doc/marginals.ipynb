{
 "metadata": {
  "name": ""
 },
 "nbformat": 3,
 "nbformat_minor": 0,
 "worksheets": [
  {
   "cells": [
    {
     "cell_type": "heading",
     "level": 1,
     "source": [
      "pydecode.marginals"
     ]
    },
    {
     "cell_type": "raw",
     "source": [
      ".. currentmodule:: pydecode                             \n",
      ".. autofunction:: marginals "
     ]
    },
    {
     "cell_type": "heading",
     "level": 2,
     "source": [
      "Example"
     ]
    },
    {
     "cell_type": "code",
     "collapsed": false,
     "input": [
      "import pydecode, pydecode.test\n",
      "import numpy as np"
     ],
     "language": "python",
     "outputs": [],
     "prompt_number": 1
    },
    {
     "cell_type": "heading",
     "level": 2,
     "source": [
      "Invariants"
     ]
    },
    {
     "cell_type": "code",
     "collapsed": false,
     "input": [],
     "language": "python",
     "outputs": [],
     "prompt_number": 12
    },
    {
     "cell_type": "markdown",
     "source": [
      "Marginals represent to the sum of all paths through each edge."
     ]
    },
    {
     "cell_type": "code",
     "collapsed": false,
     "input": [
      "@pydecode.test.property()\n",
      "def test_all_marginals(graph, weights, weight_type):\n",
      "    marginals = pydecode.marginals(graph, weights, weight_type=weight_type)\n",
      "    marginals2 = [weight_type.Value.zero()] * len(graph.edges)\n",
      "    for path in pydecode.test.all_paths(graph):\n",
      "        score = pydecode.score(path, weights, weight_type)\n",
      "        for edge in path:\n",
      "            marginals2[edge.id] += score\n",
      "    \n",
      "    marginals2 = np.array([m.value for m in marginals2])\n",
      "    pydecode.test.assert_almost_equal(marginals, \n",
      "                                      marginals2, 5)\n",
      "test_all_marginals()"
     ],
     "language": "python",
     "outputs": [],
     "prompt_number": 16
    }
   ]
  }
 ]
}