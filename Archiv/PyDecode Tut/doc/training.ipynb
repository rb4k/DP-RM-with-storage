{
 "metadata": {
  "name": ""
 },
 "nbformat": 3,
 "nbformat_minor": 0,
 "worksheets": [
  {
   "cells": [
    {
     "cell_type": "heading",
     "level": 1,
     "source": [
      "pydecode.model.DynamicProgrammingModel"
     ]
    },
    {
     "cell_type": "raw",
     "source": [
      ".. currentmodule:: pydecode.nlp\n",
      ".. autofunction:: StructuredEncoder"
     ]
    },
    {
     "cell_type": "heading",
     "level": 2,
     "source": [
      "Examples"
     ]
    },
    {
     "cell_type": "code",
     "collapsed": false,
     "input": [
      "import pydecode\n",
      "import pydecode.nlp\n",
      "from pydecode.model import DynamicProgrammingModel, HammingLossModel\n",
      "from pystruct.learners import StructuredPerceptron\n",
      "import numpy as np"
     ],
     "language": "python",
     "outputs": [],
     "prompt_number": 1
    },
    {
     "cell_type": "code",
     "collapsed": false,
     "input": [
      "tags = [\"D\", \"V\", \"N\", \"P\"]\n",
      "n_tags = len(tags)\n",
      "n_words = 10"
     ],
     "language": "python",
     "outputs": [],
     "prompt_number": 2
    },
    {
     "cell_type": "code",
     "collapsed": false,
     "input": [
      "class SimpleTagModel(HammingLossModel, DynamicProgrammingModel):\n",
      "    def templates(self): \n",
      "        return [(n_tags, n_tags),\n",
      "                (n_tags, n_words),\n",
      "                (n_tags, n_tags, n_words)]\n",
      "    \n",
      "    def parts_features(self, x, parts): \n",
      "        x_arr = np.array(x)\n",
      "        return [(parts[:,1], parts[:,2]),\n",
      "                (parts[:,1], x_arr[parts[:,0]]),\n",
      "                (parts[:,1], parts[:,2], x_arr[parts[:,0]])]\n",
      "\n",
      "    def dynamic_program(self, x): \n",
      "        n = len(x)\n",
      "        return pydecode.nlp.tagger(n, [1]+[len(tags)] * (n-2) +[1])"
     ],
     "language": "python",
     "outputs": [],
     "prompt_number": 29
    },
    {
     "cell_type": "code",
     "collapsed": false,
     "input": [
      "model = SimpleTagModel()\n",
      "sp = StructuredPerceptron(model, verbose=True, max_iter=10, average=True)"
     ],
     "language": "python",
     "outputs": [],
     "prompt_number": 40
    },
    {
     "cell_type": "code",
     "collapsed": false,
     "input": [
      "X = [(0,1,2,3, 0), (0,2,2,3,0)]\n",
      "Y = [(0,1,2,3, 0), (0,2,2,3,0)]\n",
      "sp.fit(X, Y)\n",
      "None"
     ],
     "language": "python",
     "outputs": [
      {
       "output_type": "stream",
       "stream": "stdout",
       "text": [
        "iteration 0\n",
        "avg loss: 0.400000 w: [[-1.]\n",
        " [ 0.]\n",
        " ..., \n",
        " [ 0.]\n",
        " [ 0.]]\n",
        "effective learning rate: 1.000000\n",
        "iteration 1\n",
        "avg loss: 0.200000 w: [[-1.]\n",
        " [ 0.]\n",
        " ..., \n",
        " [ 0.]\n",
        " [ 0.]]\n",
        "effective learning rate: 1.000000\n",
        "iteration 2\n",
        "avg loss: 0.200000 w: [[-1.]\n",
        " [ 0.]\n",
        " ..., \n",
        " [ 0.]\n",
        " [ 0.]]\n",
        "effective learning rate: 1.000000\n",
        "iteration 3\n",
        "avg loss: 0.000000 w: [[-1.]\n",
        " [ 0.]\n",
        " ..., \n",
        " [ 0.]\n",
        " [ 0.]]\n",
        "effective learning rate: 1.000000\n",
        "Loss zero. Stopping.\n"
       ]
      }
     ],
     "prompt_number": 41
    },
    {
     "cell_type": "code",
     "collapsed": false,
     "input": [
      "sp.predict(X)"
     ],
     "language": "python",
     "outputs": [
      {
       "output_type": "pyout",
       "prompt_number": 35,
       "text": [
        "[array([0, 1, 2, 3, 0], dtype=int32), array([0, 2, 2, 3, 0], dtype=int32)]"
       ]
      }
     ],
     "prompt_number": 35
    },
    {
     "cell_type": "heading",
     "level": 2,
     "source": [
      "Bibliography"
     ]
    },
    {
     "cell_type": "raw",
     "source": [
      ".. bibliography:: ../../full.bib \n",
      "   :filter: key in {\"collins02perc\"}\n",
      "   :style: plain"
     ]
    },
    {
     "cell_type": "heading",
     "level": 2,
     "source": [
      "Invariants"
     ]
    },
    {
     "cell_type": "code",
     "collapsed": false,
     "input": [],
     "language": "python",
     "outputs": []
    }
   ]
  }
 ]
}