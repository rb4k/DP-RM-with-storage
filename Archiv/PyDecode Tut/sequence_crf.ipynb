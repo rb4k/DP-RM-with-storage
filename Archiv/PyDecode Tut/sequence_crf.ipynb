{
 "metadata": {
  "name": ""
 },
 "nbformat": 3,
 "nbformat_minor": 0,
 "worksheets": [
  {
   "cells": [
    {
     "cell_type": "heading",
     "level": 1,
     "source": [
      "Tutorial 5: Training a CRF"
     ]
    },
    {
     "cell_type": "code",
     "collapsed": false,
     "input": [
      "from sklearn.feature_extraction import DictVectorizer\n",
      "from collections import namedtuple\n",
      "import pydecode.model as model\n",
      "import pydecode.chart as chart\n",
      "import pydecode.hyper as ph\n",
      "from collections import Counter, defaultdict\n",
      "from itertools import izip\n",
      "import warnings"
     ],
     "language": "python",
     "outputs": [],
     "prompt_number": 1
    },
    {
     "cell_type": "code",
     "collapsed": false,
     "input": [
      "class Dictionary:\n",
      "    def __init__(self, counts, word_counts, tag_set):\n",
      "        self.counts = counts \n",
      "        self.word_counts = word_counts\n",
      "        self.tag_set = tag_set\n",
      "        self.tag_num = {tag:i for i, tag in enumerate(tag_set)}\n",
      "        self.word_num = {word:i for i, word in enumerate(word_counts.iterkeys())}\n",
      "\n",
      "    def emission(self, word):\n",
      "        if word == \"ROOT\": return [\"<t>\"]\n",
      "        if word == \"END\": return [\"</t>\"]\n",
      "        if self.word_counts[word] > 5:\n",
      "            return self.counts[word].keys()\n",
      "        return self.tag_set\n",
      "\n",
      "    def tag_id(self, tag):\n",
      "        return self.tag_num.get(tag, 0)\n",
      "\n",
      "    def word_id(self, word):\n",
      "        return self.word_num.get(word, 0)\n",
      "\n",
      "    @staticmethod\n",
      "    def make(sentences, taggings):\n",
      "        tag_set = set()\n",
      "        word_counts = Counter()\n",
      "        counts = defaultdict(Counter)\n",
      "        for sentence, tags in izip(sentences, taggings):\n",
      "            #print sentence, tags\n",
      "            for word, tag in izip(sentence, tags):\n",
      "                counts[word][tag.tag] += 1\n",
      "                word_counts[word] += 1\n",
      "                tag_set.add(tag.tag)\n",
      "        print tag_set\n",
      "        return Dictionary(counts, word_counts, tag_set)\n",
      "\n",
      "    "
     ],
     "language": "python",
     "outputs": [],
     "prompt_number": 2
    },
    {
     "cell_type": "code",
     "collapsed": false,
     "input": [
      "class Bigram(namedtuple(\"Bigram\", [\"position\", \"prevtag\", \"tag\"])):\n",
      "    def __str__(self): return \"%s -> %s\"%(self.prevtag, self.tag)\n",
      "    \n",
      "    @staticmethod\n",
      "    def from_tagging(tagging):\n",
      "        return [Bigram(i, tag=tag, prevtag=tagging[i-1] if i > 0 else \"<t>\")\n",
      "                for i, tag in enumerate(tagging)] + [Bigram(len(tagging), tag=\"</t>\", prevtag=tagging[-1])] \n",
      "      \n",
      "class Tagged(namedtuple(\"Tagged\", [\"position\",  \"tag\"])):\n",
      "    def __str__(self): return \"%s\"%(self.tag,)"
     ],
     "language": "python",
     "outputs": [],
     "prompt_number": 3
    },
    {
     "cell_type": "code",
     "collapsed": false,
     "input": [
      "class TaggingCRFModel(model.DynamicProgrammingModel):\n",
      "    def initialize(self, sentences, tags):\n",
      "        self.dictionary = Dictionary.make(sentences, tags)\n",
      "        super(TaggingCRFModel, self).initialize(sentences, tags)\n",
      "\n",
      "\n",
      "    def dynamic_program(self, sentence, c):\n",
      "        words = [\"ROOT\"] + sentence + [\"END\"]\n",
      "        c.init(Tagged(0, \"<t>\"))\n",
      "        for i, word in enumerate(words[1:], 1):\n",
      "            prev_tags = self.dictionary.emission(words[i-1])\n",
      "            for tag in self.dictionary.emission(word):\n",
      "                c[Tagged(i, tag)] = \\\n",
      "                    c.sum([c[key] * c.sr(Bigram(i - 1, prev, tag))\n",
      "                           for prev in prev_tags \n",
      "                           for key in [Tagged(i - 1, prev)] \n",
      "                           if key in c])\n",
      "        return c\n",
      "\n",
      "    def initialize_features(self, sentence):\n",
      "        return [self.dictionary.word_id(word) for word in sentence]\n",
      "\n",
      "    def factored_joint_feature(self, sentence, bigram, data):\n",
      "        word = sentence[bigram.position] if bigram.position < len(sentence) else \"END\"\n",
      "        return {\"word:tag:%s:%s\" % (bigram.tag, word) : 1, \n",
      "                \"suff:word:tag:%d:%s:%s\" % (1, bigram.tag, word[-1:]) : 1, \n",
      "                \"suff:word:tag:%d:%s:%s\" % (2, bigram.tag, word[-2:]) : 1, \n",
      "                \"suff:word:tag:%d:%s:%s\" % (3, bigram.tag, word[-3:]) : 1, \n",
      "                \"pre:word:tag:%d:%s:%s\" % (1, bigram.tag, word[:1]) : 1, \n",
      "                \"pre:word:tag:%d:%s:%s\" % (2, bigram.tag, word[:2]) : 1, \n",
      "                \"pre:word:tag:%d:%s:%s\" % (3, bigram.tag, word[:3]) : 1, \n",
      "                \"word:%s\" %  word : 1, \n",
      "                \"tag-1:%s\" % bigram.prevtag : 1, \n",
      "                \"tag:%s\" % bigram.tag : 1,\n",
      "                \"bi:%s:%s\" % (bigram.prevtag, bigram.tag): 1,\n",
      "                }"
     ],
     "language": "python",
     "outputs": [],
     "prompt_number": 4
    },
    {
     "cell_type": "code",
     "collapsed": false,
     "input": [
      "data_X = map(lambda a: a.split(),\n",
      "             [\"the dog walked\",\n",
      "              \"in the park\",\n",
      "              \"in the dog\"])\n",
      "data_Y = map(lambda a: Bigram.from_tagging(a.split()),\n",
      "             [\"D N V\", \"I D N\", \"I D N\"])"
     ],
     "language": "python",
     "outputs": [],
     "prompt_number": 5
    },
    {
     "cell_type": "code",
     "collapsed": false,
     "input": [
      "# def parse_training(handle):\n",
      "#     x = []\n",
      "#     y = []\n",
      "#     for l in handle:\n",
      "#         if not l.strip():\n",
      "#             yield (x, y)\n",
      "#             x = []\n",
      "#             y = []\n",
      "#         else:\n",
      "#             word, tag = l.split()\n",
      "#             x.append(word)\n",
      "#             y.append(tag)\n",
      "#     yield (x, y)\n",
      "# data_X, data_Y = zip(*parse_training(open(\"tag/tag_train_small.dat\")))\n",
      "# data_Y = [Bigram.from_tagging(t) for t in data_Y] "
     ],
     "language": "python",
     "outputs": [],
     "prompt_number": 35
    },
    {
     "cell_type": "code",
     "collapsed": false,
     "input": [
      "hm = TaggingCRFModel()\n",
      "hm.initialize(data_X, data_Y)\n",
      "for i in range(len(data_X))[:10]:\n",
      "    s = set(data_Y[i])\n",
      "    c = chart.ChartBuilder(lambda a: a,\n",
      "                           chart.HypergraphSemiRing, True)\n",
      "    hm.dynamic_program(data_X[i], c)\n",
      "    h = c.finish()\n",
      "    bool_pot = ph.BoolPotentials(h).from_vector(edge.label in s for edge in h.edges)\n",
      "    path = ph.best_path(h, bool_pot)\n",
      "    #for edge in path: print h.label(edge)\n",
      "    assert bool_pot.dot(path)"
     ],
     "language": "python",
     "outputs": [
      {
       "output_type": "stream",
       "stream": "stdout",
       "text": [
        "set(['I', 'V', 'D', 'N'])\n"
       ]
      }
     ],
     "prompt_number": 6
    },
    {
     "cell_type": "code",
     "collapsed": false,
     "input": [
      "print data_Y[0]"
     ],
     "language": "python",
     "outputs": [
      {
       "output_type": "stream",
       "stream": "stdout",
       "text": [
        "[Bigram(position=0, prevtag='<t>', tag='D'), Bigram(position=1, prevtag='D', tag='N'), Bigram(position=2, prevtag='N', tag='V'), Bigram(position=3, prevtag='V', tag='</t>')]\n"
       ]
      }
     ],
     "prompt_number": 7
    },
    {
     "cell_type": "code",
     "collapsed": false,
     "input": [
      "from pystruct.learners import StructuredPerceptron\n",
      "hm = TaggingCRFModel()\n",
      "sp = StructuredPerceptron(hm, verbose=1, max_iter=25)\n",
      "\n",
      "with warnings.catch_warnings():\n",
      "    warnings.simplefilter(\"ignore\")\n",
      "    sp.fit(data_X, data_Y)\n"
     ],
     "language": "python",
     "outputs": [
      {
       "output_type": "stream",
       "stream": "stdout",
       "text": [
        "set(['I', 'V', 'D', 'N'])\n",
        "iteration 0\n",
        "avg loss: 0.666667 w: [ 0.  0.  2.  1.  1.  1.  0.  0.  1.  1.  1.  1.  1.  0.  1.  1.  1.  1.\n",
        "  1.  0.  1.  1.  1.  1.  1.  0.  1.  1.  1.  1.  1.  0.  1.  1.  1.  1.\n",
        "  1.  0.  1.  1.  1.  1.  1.  0.  0. -2.  2.  0.  0.  0. -2.  2.  0.  0.\n",
        "  0.  0.  0.  0.  1.  1.  1.  1.  1.  0.  0.]\n",
        "effective learning rate: 1.000000\n",
        "iteration 1\n",
        "avg loss: 0.000000 w: [ 0.  0.  2.  1.  1.  1.  0.  0.  1.  1.  1.  1.  1.  0.  1.  1.  1.  1.\n",
        "  1.  0.  1.  1.  1.  1.  1.  0.  1.  1.  1.  1.  1.  0.  1.  1.  1.  1.\n",
        "  1.  0.  1.  1.  1.  1.  1.  0.  0. -2.  2.  0.  0.  0. -2.  2.  0.  0.\n",
        "  0.  0.  0.  0.  1.  1.  1.  1.  1.  0.  0.]"
       ]
      },
      {
       "output_type": "stream",
       "stream": "stdout",
       "text": [
        "\n",
        "effective learning rate: 1.000000\n",
        "Loss zero. Stopping.\n"
       ]
      }
     ],
     "prompt_number": 8
    },
    {
     "cell_type": "code",
     "collapsed": false,
     "input": [
      "words = \"Ms. Haag plays Elianti .\".split()\n",
      "sp.predict([words])"
     ],
     "language": "python",
     "outputs": [
      {
       "output_type": "pyout",
       "prompt_number": 9,
       "text": [
        "[{Bigram(position=0, prevtag='<t>', tag='N'),\n",
        "  Bigram(position=1, prevtag='N', tag='N'),\n",
        "  Bigram(position=2, prevtag='N', tag='N'),\n",
        "  Bigram(position=3, prevtag='N', tag='N'),\n",
        "  Bigram(position=4, prevtag='N', tag='N'),\n",
        "  Bigram(position=5, prevtag='N', tag='</t>')}]"
       ]
      }
     ],
     "prompt_number": 9
    },
    {
     "cell_type": "code",
     "collapsed": false,
     "input": [
      "# c = Counter()\n",
      "# c[\"ell\"] += 20\n",
      "# c.keys()"
     ],
     "language": "python",
     "outputs": [],
     "prompt_number": 10
    },
    {
     "cell_type": "code",
     "collapsed": false,
     "input": [
      "# from  pystruct.plot_learning import plot_learning\n",
      "# plot_learning(sp)"
     ],
     "language": "python",
     "outputs": [],
     "prompt_number": 11
    }
   ]
  }
 ]
}