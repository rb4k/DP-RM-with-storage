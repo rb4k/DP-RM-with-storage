{
 "cells": [
  {
   "cell_type": "markdown",
   "metadata": {},
   "source": [
    "# Kapitel 8 aus dem Buch ..."
   ]
  },
  {
   "cell_type": "markdown",
   "metadata": {},
   "source": [
    "Say you have a sequence of numbers, and you want to find its longest increasing subsequence - or one of them, if there are more."
   ]
  },
  {
   "cell_type": "code",
   "execution_count": 1,
   "metadata": {
    "collapsed": true
   },
   "outputs": [],
   "source": [
    "from itertools import combinations\n",
    "\n",
    "def naive_lis(seq):\n",
    "    '''A Naive Solution to the Longest Increasing Subsequence Problem'''\n",
    "    for length in range(len(seq), 0, -1):      # n, n-1, ..., 1\n",
    "        for sub in combinations(seq, length):  # Subsequences of given length\n",
    "            if list(sub) == sorted(sub):       # An increasing subsequence?\n",
    "                return sub                     # Return it!"
   ]
  },
  {
   "cell_type": "code",
   "execution_count": 2,
   "metadata": {
    "collapsed": false
   },
   "outputs": [
    {
     "data": {
      "text/plain": [
       "(1, 2, 4)"
      ]
     },
     "execution_count": 2,
     "metadata": {},
     "output_type": "execute_result"
    }
   ],
   "source": [
    "naive_lis([3,1,0,2,4])"
   ]
  },
  {
   "cell_type": "markdown",
   "metadata": {},
   "source": [
    "### Don't Repeat Yourself\n",
    "The basic idea of this chapter is to avoid (vermeiden) having your 'algorithm' repeat itself.\n",
    "The principle is so simple, and even really easy to implement (at least (geringer) in Python), but the mojo (Glücksbringer) here is really deep (tiefgründig), as you'll see as we progress."
   ]
  },
  {
   "cell_type": "code",
   "execution_count": 3,
   "metadata": {
    "collapsed": true
   },
   "outputs": [],
   "source": [
    "def fib(i):\n",
    "    if i < 2: return 1\n",
    "    return fib(i-1) + fib(i-2)\n",
    "\n",
    "\n",
    "from functools import wraps\n",
    "\n",
    "def memo(func):\n",
    "    '''A Memoizing Decorator. The idea of memoized function is that it caches its return values. If you call it a\n",
    "    second time with the same parameters, it will simply return the cached value. You can certainly (allerdings) \n",
    "    put this sort of caching logic inside your function, but memo function is a more reusable (Mehrweg-) solution.\n",
    "    '''\n",
    "    cache = {}                           # Stored subproblem solutions\n",
    "    @wraps(func)                         # Make wrap look like func\n",
    "    def wrap(*args):                     # The memoized wrapper\n",
    "        if args not in cache:            # Not already computed?\n",
    "            cache[args] = func(*args)    # Compute & cache the solution\n",
    "        return cache[args]               # Return the cached solution\n",
    "    return wrap                          # Return the wrapper\n",
    "\n",
    "fib = memo(fib)"
   ]
  },
  {
   "cell_type": "code",
   "execution_count": 4,
   "metadata": {
    "collapsed": false
   },
   "outputs": [
    {
     "data": {
      "text/plain": [
       "573147844013817084101L"
      ]
     },
     "execution_count": 4,
     "metadata": {},
     "output_type": "execute_result"
    }
   ],
   "source": [
    "fib(100)"
   ]
  },
  {
   "cell_type": "markdown",
   "metadata": {},
   "source": [
    "It's even designed to be used as a decorator:"
   ]
  },
  {
   "cell_type": "code",
   "execution_count": 5,
   "metadata": {
    "collapsed": false
   },
   "outputs": [
    {
     "data": {
      "text/plain": [
       "573147844013817084101L"
      ]
     },
     "execution_count": 5,
     "metadata": {},
     "output_type": "execute_result"
    }
   ],
   "source": [
    "@memo\n",
    "def fib(i):\n",
    "    if i < 2: return 1\n",
    "    return fib(i-1) + fib(i-2)\n",
    "\n",
    "fib(100)"
   ]
  },
  {
   "cell_type": "markdown",
   "metadata": {},
   "source": [
    "- overlapping subproblems\n",
    "- a recursion formulation of the powers of two."
   ]
  },
  {
   "cell_type": "markdown",
   "metadata": {},
   "source": [
    "### Option 1"
   ]
  },
  {
   "cell_type": "code",
   "execution_count": 6,
   "metadata": {
    "collapsed": false
   },
   "outputs": [
    {
     "name": "stdout",
     "output_type": "stream",
     "text": [
      "1024\n",
      "1267650600228229401496703205376\n"
     ]
    }
   ],
   "source": [
    "@memo \n",
    "def two_pow(i):\n",
    "    if i == 0: return 1\n",
    "    return two_pow(i-1) + two_pow(i-1)\n",
    "\n",
    "print(two_pow(10))\n",
    "print(two_pow(100))"
   ]
  },
  {
   "cell_type": "markdown",
   "metadata": {},
   "source": [
    "overlapping subproblems\n",
    "a recursion formulation of the powers of two.\n",
    "### Option 2"
   ]
  },
  {
   "cell_type": "code",
   "execution_count": 7,
   "metadata": {
    "collapsed": false
   },
   "outputs": [
    {
     "name": "stdout",
     "output_type": "stream",
     "text": [
      "1024\n",
      "1267650600228229401496703205376\n"
     ]
    }
   ],
   "source": [
    "def two_pow(i):\n",
    "    if i == 0: return 1\n",
    "    return 2 * two_pow(i-1)\n",
    "\n",
    "print(two_pow(10))\n",
    "print(two_pow(100))"
   ]
  },
  {
   "cell_type": "markdown",
   "metadata": {},
   "source": [
    "## Calculating binomial coefficients (Pascal's triangle)\n",
    "We decompose the problem by conditioning (Aufbereitung) on whether some element is included.\n",
    "$C(n,0) = 1$ for the single empty subset, and $C(0,k) = 0, k > 0$, for nonempty subsets of an empty set.\n",
    "- path counting (abzählen)"
   ]
  },
  {
   "cell_type": "code",
   "execution_count": 8,
   "metadata": {
    "collapsed": false
   },
   "outputs": [
    {
     "name": "stdout",
     "output_type": "stream",
     "text": [
      "6\n",
      "120\n",
      "100891344545564193334812497256\n"
     ]
    }
   ],
   "source": [
    "@memo\n",
    "def C(n,k):\n",
    "    if k == 0: return 1\n",
    "    if n == 0: return 0\n",
    "    return C(n-1,k-1) + C(n-1,k)\n",
    "\n",
    "print(C(4,2))\n",
    "print(C(10,7))\n",
    "print(C(100,50))"
   ]
  },
  {
   "cell_type": "code",
   "execution_count": 9,
   "metadata": {
    "collapsed": false
   },
   "outputs": [
    {
     "data": {
      "text/plain": [
       "120"
      ]
     },
     "execution_count": 9,
     "metadata": {},
     "output_type": "execute_result"
    }
   ],
   "source": [
    "from collections import defaultdict\n",
    "\n",
    "n, k = 10, 7\n",
    "C = defaultdict(int)\n",
    "for row in range(n+1):\n",
    "    C[row, 0] = 1\n",
    "    for col in range(1,k+1):\n",
    "        C[row,col] = C[row-1,col-1] + C[row-1,col]\n",
    "        \n",
    "C[n,k]"
   ]
  },
  {
   "cell_type": "markdown",
   "metadata": {},
   "source": [
    "## Shortest Path in Directed Acyclic Graphs\n",
    "\n",
    "not the classical way of expressing this alogirthm.\n",
    "What is customarily done here, as in so many other DP algorithms, is to turn the algorithm \"upside down\" and make it iterative."
   ]
  },
  {
   "cell_type": "code",
   "execution_count": 10,
   "metadata": {
    "collapsed": false
   },
   "outputs": [],
   "source": [
    "def celeb(G):\n",
    "    n = len(G)\n",
    "    u, v = 0, 1\n",
    "    for c in range(2,n+1):\n",
    "        if G[u][v]: u = c\n",
    "        else:       v = c\n",
    "    if u == n:      c = v\n",
    "    else:           c = u\n",
    "    for v in range(n):\n",
    "        if c == v: continue\n",
    "        if G[c][v]: break\n",
    "        if not G[v][c]: break\n",
    "    else:\n",
    "        return c\n",
    "    return None"
   ]
  },
  {
   "cell_type": "code",
   "execution_count": 11,
   "metadata": {
    "collapsed": false
   },
   "outputs": [],
   "source": [
    "from random import randrange\n",
    "n = 100\n",
    "G = [[randrange(2) for i in range(n)] for i in range(n)]\n",
    "c = randrange(n)\n",
    "for i in range(n):\n",
    "    G[i][c] = True\n",
    "    G[c][i] = False"
   ]
  },
  {
   "cell_type": "code",
   "execution_count": 12,
   "metadata": {
    "collapsed": false
   },
   "outputs": [
    {
     "name": "stdout",
     "output_type": "stream",
     "text": [
      "54\n"
     ]
    }
   ],
   "source": [
    "print(celeb(G))"
   ]
  },
  {
   "cell_type": "code",
   "execution_count": 13,
   "metadata": {
    "collapsed": true
   },
   "outputs": [],
   "source": [
    "def naive_topsort(G, S=None):\n",
    "    if S is None: S = set(G)                   # Default: All nodes\n",
    "    if len(S) == 1: return list(S)             # Base case, single node\n",
    "    v = S.pop()                                # Reduction: Remove a node\n",
    "    seq = naive_topsort(G, S)                  # Recursion (assumption), n-1\n",
    "    min_i = 0\n",
    "    for i, u in enumerate(seq):\n",
    "        if v in G[u]: min_i = i+1              # After all dependencies\n",
    "    seq.insert(min_i, v)\n",
    "    return seq"
   ]
  },
  {
   "cell_type": "code",
   "execution_count": 14,
   "metadata": {
    "collapsed": false
   },
   "outputs": [
    {
     "data": {
      "text/plain": [
       "'c'"
      ]
     },
     "execution_count": 14,
     "metadata": {},
     "output_type": "execute_result"
    }
   ],
   "source": [
    "class bTree:\n",
    "    def __init__(self, left, right):\n",
    "        self.left = left\n",
    "        self.right = right\n",
    "        \n",
    "t = bTree(bTree(\"a\", \"b\"), bTree(\"c\", \"d\"))\n",
    "t.right.left"
   ]
  },
  {
   "cell_type": "code",
   "execution_count": 15,
   "metadata": {
    "collapsed": false
   },
   "outputs": [
    {
     "data": {
      "text/plain": [
       "'c'"
      ]
     },
     "execution_count": 15,
     "metadata": {},
     "output_type": "execute_result"
    }
   ],
   "source": [
    "class Tree:\n",
    "    def __init__(self, kids, next=None):\n",
    "        self.kids = self.val = kids\n",
    "        self.next = next\n",
    "        \n",
    "t = Tree(Tree(\"a\", Tree(\"b\", Tree(\"c\", Tree(\"d\")))))\n",
    "t.kids.next.next.val"
   ]
  },
  {
   "cell_type": "code",
   "execution_count": 16,
   "metadata": {
    "collapsed": true
   },
   "outputs": [],
   "source": [
    "def topsort(G):\n",
    "    count = dict((u, 0) for u in G)            # The in-degree for each node\n",
    "    for u in G:\n",
    "        for v in G[u]:                         \n",
    "            count[v] += 1                      # Count every in-edge\n",
    "    Q = [u for u in G if count[u] == 0]        # Valid initial nodes\n",
    "    S = []                                     # The result\n",
    "    while Q:                                   # While we have start nodes...\n",
    "        u = Q.pop()                            # Pick one\n",
    "        S.append(u)                            # Use it as first of the rest\n",
    "        for v in G[u]:\n",
    "            count[v] -= 1                      # \"Uncount\" its out-edges\n",
    "            if count[v] == 0:                  # New valid start nodes?\n",
    "                Q.append(v)                    # Deal with them next\n",
    "    return S"
   ]
  },
  {
   "cell_type": "code",
   "execution_count": 17,
   "metadata": {
    "collapsed": false
   },
   "outputs": [
    {
     "data": {
      "text/plain": [
       "[1, 2, 3]"
      ]
     },
     "execution_count": 17,
     "metadata": {},
     "output_type": "execute_result"
    }
   ],
   "source": [
    "graph = { 1: [2,3], 2: [3], 3: [] } # QUELLE: https://pypi.python.org/pypi/digraphtools/0.1.0\n",
    "topsort(graph)"
   ]
  },
  {
   "cell_type": "code",
   "execution_count": 18,
   "metadata": {
    "collapsed": false
   },
   "outputs": [
    {
     "data": {
      "text/plain": [
       "['E', 'F', 'A', 'B']"
      ]
     },
     "execution_count": 18,
     "metadata": {},
     "output_type": "execute_result"
    }
   ],
   "source": [
    "graph_py = {'A': ['B', 'C'], # Quelle: https://www.python.org/doc/essays/graphs/\n",
    "             'B': ['C', 'D'],\n",
    "             'C': ['D'],\n",
    "             'D': ['C'],\n",
    "             'E': ['F'],\n",
    "             'F': ['C']}\n",
    "topsort(graph_py)"
   ]
  },
  {
   "cell_type": "code",
   "execution_count": 19,
   "metadata": {
    "collapsed": false
   },
   "outputs": [
    {
     "name": "stdout",
     "output_type": "stream",
     "text": [
      "['A', 'B', 'D']\n"
     ]
    }
   ],
   "source": [
    "def find_shortest_path(graph, start, end, path=[]):\n",
    "        path = path + [start]\n",
    "        if start == end:\n",
    "            return path\n",
    "        if not graph.has_key(start):\n",
    "            return None\n",
    "        shortest = None\n",
    "        for node in graph[start]:\n",
    "            if node not in path:\n",
    "                newpath = find_shortest_path(graph, node, end, path)\n",
    "                if newpath:\n",
    "                    if not shortest or len(newpath) < len(shortest):\n",
    "                        shortest = newpath\n",
    "        return shortest\n",
    "\n",
    "print(find_shortest_path(graph_py, \"A\", \"D\"))"
   ]
  },
  {
   "cell_type": "markdown",
   "metadata": {},
   "source": [
    "## Gewichtet Graph"
   ]
  },
  {
   "cell_type": "markdown",
   "metadata": {},
   "source": [
    "Gewicht: $w(u,v)$,\n",
    "Distanz: $d(v)$,\n",
    "Knoten (Node): $v, u$"
   ]
  },
  {
   "cell_type": "code",
   "execution_count": 20,
   "metadata": {
    "collapsed": false
   },
   "outputs": [
    {
     "data": {
      "text/plain": [
       "{'a': ['b', 'f'],\n",
       " 'b': ['c', 'd', 'f'],\n",
       " 'c': ['d'],\n",
       " 'd': ['e', 'f'],\n",
       " 'e': ['f'],\n",
       " 'f': []}"
      ]
     },
     "execution_count": 20,
     "metadata": {},
     "output_type": "execute_result"
    }
   ],
   "source": [
    "DAG = { \"a\": [\"b\", \"f\"], \"b\": [\"c\", \"d\", \"f\"],\n",
    "          \"c\": [\"d\"], \"d\": [\"e\", \"f\"],\n",
    "          \"e\": [\"f\"],\"f\": [] }\n",
    "DAG"
   ]
  },
  {
   "cell_type": "code",
   "execution_count": 21,
   "metadata": {
    "collapsed": false
   },
   "outputs": [
    {
     "data": {
      "text/plain": [
       "{'a': {'b': 2, 'f': 9},\n",
       " 'b': {'c': 1, 'd': 2, 'f': 6},\n",
       " 'c': {'d': 7},\n",
       " 'd': {'e': 2, 'f': 3},\n",
       " 'e': {'f': 4},\n",
       " 'f': {}}"
      ]
     },
     "execution_count": 21,
     "metadata": {},
     "output_type": "execute_result"
    }
   ],
   "source": [
    "gDAG = {'a': {'b':2, 'f':9},\n",
    "     'b': {'c':1, 'd':2, 'f':6},\n",
    "     'c': {'d':7},\n",
    "     'd': {'e':2, 'f':3},\n",
    "     'e': {'f':4},\n",
    "     'f': {}}\n",
    "gDAG"
   ]
  },
  {
   "cell_type": "code",
   "execution_count": 22,
   "metadata": {
    "collapsed": true
   },
   "outputs": [],
   "source": [
    "def rec_dag_sp(W, s, t):                       # Shortest path from s to t\n",
    "    '''Recursive, Memoized DAG Shortest Path'''\n",
    "    @memo                                      # Memoize f\n",
    "    def d(u):                                  # Distance from u to t\n",
    "        if u == t: return 0                    # We're there!\n",
    "        return min(W[u][v]+d(v) for v in W[u]) # Best of every first step\n",
    "    return d(s)"
   ]
  },
  {
   "cell_type": "code",
   "execution_count": 23,
   "metadata": {
    "collapsed": true
   },
   "outputs": [],
   "source": [
    "def dag_sp(W, s, t):                           # Shortest path from s to t\n",
    "    '''DAG Shortest Path'''\n",
    "    d = {u:float('inf') for u in W}            # Distance estimates\n",
    "    d[s] = 0                                   # Start node: Zero distance\n",
    "    for u in topsort(W):                       # In top-sorted order...\n",
    "        if u == t: break                       # Have we arrived?\n",
    "        for v in W[u]:                         # For each out-edge...\n",
    "            d[v] = min(d[v], d[u] + W[u][v])   # Relax the edge\n",
    "    return d[t]                                # Distance to t (from s)"
   ]
  },
  {
   "cell_type": "code",
   "execution_count": 24,
   "metadata": {
    "collapsed": false
   },
   "outputs": [
    {
     "data": {
      "text/plain": [
       "7"
      ]
     },
     "execution_count": 24,
     "metadata": {},
     "output_type": "execute_result"
    }
   ],
   "source": [
    "rec_dag_sp(gDAG, \"a\", \"f\")"
   ]
  },
  {
   "cell_type": "code",
   "execution_count": 25,
   "metadata": {
    "collapsed": false
   },
   "outputs": [
    {
     "data": {
      "text/plain": [
       "7"
      ]
     },
     "execution_count": 25,
     "metadata": {},
     "output_type": "execute_result"
    }
   ],
   "source": [
    "dag_sp(gDAG, \"a\", \"f\")"
   ]
  },
  {
   "cell_type": "markdown",
   "metadata": {},
   "source": [
    "The idea of the iterative algorithm is that as long as we have relaxed each edge out from each of your possible predecessors (that is, those earlier in topologically sorted order), we must necessarily (zwangsläufig) have relaxed all the in-edges (sich eindrängen) to you."
   ]
  },
  {
   "cell_type": "markdown",
   "metadata": {},
   "source": [
    "## Knapsack Strikes Back"
   ]
  },
  {
   "cell_type": "markdown",
   "metadata": {},
   "source": [
    "we need to somehow define the subproblems, relate them to each other recursively, and then make sure we compute each subproblem only once (by using memoization, implicitly or explicitly).\n",
    "\n",
    "- object $i$;\n",
    "- weight $w[i]$;\n",
    "- value $v[i]$;\n",
    "- maximum value $m(r)$\n",
    "\n",
    "$m(r)$ is the maximum value we can get with a (remaining) capacity $r$, each value of $r$ gives us a subproblem.\n",
    "The recursiv decomposition is based in either (entweder) using or not using the last unit of the capacity.\n",
    "If we don't use it, we have $m(r)=m(r-1)$.\n",
    "If we do use it, we have to choose the right object to use.\n",
    "If we choose (auswählen) object $i$ (provided (vorausgesetzt) it will fit in the remaining capacity), we would have $m(r)=v[i]+m(r-w[i])$, because we'd add the value of $i$, but we'd also have used up a portion of the remaining capacity equal to its weight.\n",
    "We can choose whether or not to use the last capacity unit, and if we do use it, we can choose which object to add."
   ]
  },
  {
   "cell_type": "code",
   "execution_count": 26,
   "metadata": {
    "collapsed": false
   },
   "outputs": [
    {
     "name": "stdout",
     "output_type": "stream",
     "text": [
      "Diamant\n",
      "{'Apple Watch': 1, 'Holz': 3, 'Gold': 4, 'Rubin': 2, 'Schatzkarte': 1, 'Diamant': 2}\n",
      "{'Apple Watch': 18, 'Holz': 1, 'Gold': 8, 'Rubin': 7, 'Schatzkarte': 5, 'Diamant': 1}\n"
     ]
    }
   ],
   "source": [
    "i = [\"Diamant\", \"Schatzkarte\", \"Gold\", \"Rubin\", \"Holz\", \"Apple Watch\"]\n",
    "w = {i[0]: 2, i[1]: 1, i[2]: 4, i[3]: 2, i[4]: 3, i[5]: 1  }\n",
    "v = {i[0]: 1, i[1]: 5, i[2]: 8, i[3]: 7, i[4]: 1, i[5]: 18 }\n",
    "c = 10\n",
    "print(i[0])\n",
    "print(w)\n",
    "print(v)"
   ]
  },
  {
   "cell_type": "code",
   "execution_count": 27,
   "metadata": {
    "collapsed": false
   },
   "outputs": [],
   "source": [
    "def rec_unbounded_knapsack(w, v, c):            # Weights, values and capacity\n",
    "    '''A Memoized Recursive Solution to the Unbounded Integer Knapsack Problem'''\n",
    "    @memo                                       # m is memoized\n",
    "    def m(r):                                   # Max val. w/remaining cap. r\n",
    "        if r == 0: return \"Irgendwie funkt es nicht\"                     # No capacity? No value\n",
    "        val = m(r-1)                            # Ignore the last cap. unit?\n",
    "        for i, wi in enumerate(w):              # Try every object\n",
    "            if wi > r: continue                 # Too heavy? Ignore it\n",
    "            val = max(val, v[i] + m(r-wi))      # Add value, remove weight\n",
    "        return val                              # Max over all last objects\n",
    "    return m(c)                                 # Full capacity available"
   ]
  },
  {
   "cell_type": "code",
   "execution_count": 28,
   "metadata": {
    "collapsed": false
   },
   "outputs": [
    {
     "data": {
      "text/plain": [
       "'Irgendwie funkt es nicht'"
      ]
     },
     "execution_count": 28,
     "metadata": {},
     "output_type": "execute_result"
    }
   ],
   "source": [
    "rec_unbounded_knapsack(w, v, c)"
   ]
  },
  {
   "cell_type": "markdown",
   "metadata": {},
   "source": [
    "The running time here depends on the capacity and the number of objects.\n",
    "Each memoized call $m(r)$ is computed only once, which means that for a capacity c, we have $O(c)$ calls.\n",
    "Each call goes through all the $n$ objects, so the resulting running time is $O(cn)$.\n",
    "Note that this is not a polynomial running time, because $c$ can grow exponentially with the actual problem size (the number of bits).\n",
    "As mentioned earlier (genannt Abruf), this sort of running time is called \"pseudopolynomial\", and for reasonably (halbwegs) sized capacities, the solution is actually quite (ziemlich) efficient."
   ]
  },
  {
   "cell_type": "code",
   "execution_count": 29,
   "metadata": {
    "collapsed": false
   },
   "outputs": [],
   "source": [
    "def unbounded_knapsack(w, v, c):\n",
    "    '''An Iterative Solution to the Unbounded Integer Knapsack-Problem.\n",
    "    As you can see, the two implementations are virtually identical,\n",
    "    expect that the recursion is replaced with a for loop, and the\n",
    "    cache is now a list.'''\n",
    "    m = [0]  # Wieso spuckt er immer diesen Wert aus?\n",
    "    for r in range(1,c+1):\n",
    "        val = m[r-1]\n",
    "        for i, wi in enumerate(w):\n",
    "            if wi > r: continue\n",
    "            val = max(val, v[i] + m[r-wi])\n",
    "        m.append(val)\n",
    "    return m[c]\n"
   ]
  },
  {
   "cell_type": "code",
   "execution_count": 30,
   "metadata": {
    "collapsed": false
   },
   "outputs": [
    {
     "data": {
      "text/plain": [
       "0"
      ]
     },
     "execution_count": 30,
     "metadata": {},
     "output_type": "execute_result"
    }
   ],
   "source": [
    "unbounded_knapsack(w, v, c)"
   ]
  },
  {
   "cell_type": "markdown",
   "metadata": {},
   "source": [
    "## 0-1 Knapsack Problem"
   ]
  },
  {
   "cell_type": "markdown",
   "metadata": {},
   "source": [
    "Simular to the unbounded one. Defference is that we now add another parameter to the subproblem: in addition to restricting the capacity, we add the \"in or out\" idea and restrict how many of the objects we're allowed to use. $m(k,r)$ be the maximum value we can have with the first $k$ objects and a remaining capacity $r$.\n",
    "$$k=0\\oplus r=0 \\widehat{=} m(i,r)=0$$\n",
    "\n",
    "We only have to consider whether we want to include the last object $i=k-1$. If we don't, we will have $m(k,r)=m(k-1,r)$.\n",
    "If the object is small enough, though, we can include it, meaning that $m(k,r)=v[i]+m(k-1,r.w[i])$, which is quite similar to the unbounded case, expect for the extra parameter $(k)$."
   ]
  },
  {
   "cell_type": "code",
   "execution_count": 31,
   "metadata": {
    "collapsed": true
   },
   "outputs": [],
   "source": [
    "def rec_knapsack(w, v, c):                            # Weights, values and capacity\n",
    "    '''A Memoized Recursiv Solution to the 0-1 Knapsack Problem'''\n",
    "    @memo                                             # m is memoized\n",
    "    def m(k, r):                                      # Max val., k objs and cap r\n",
    "        if k == 0 or r == 0: return 0                 # No objects/no capacity\n",
    "        i = k-1                                       # Object under consideration\n",
    "        drop = m(k-1, r)                              # What if we drop the object?\n",
    "        if w[i] > r: return drop                      # Too heavy: Must drop it\n",
    "        return max(drop, v[i] + m(k-1, r-w[i]))       # Include it? Max of in/out\n",
    "    return m(len(w), c)                               # All objects, all capacity"
   ]
  },
  {
   "cell_type": "code",
   "execution_count": 32,
   "metadata": {
    "collapsed": false
   },
   "outputs": [],
   "source": [
    "# rec_knapsack(w, v, c)"
   ]
  },
  {
   "cell_type": "code",
   "execution_count": 33,
   "metadata": {
    "collapsed": true
   },
   "outputs": [],
   "source": [
    "def knapsack(w, v, c):                                # Returns solution matrices\n",
    "    '''An Iterative Solution to the 0-1 Knapsack Problem'''\n",
    "    n = len(w)                                        # Number of available items\n",
    "    m = [[0]*(c+1) for i in range(n+1)]               # Empty max-value matrix\n",
    "    P = [[False]*(c+1) for i in range(n+1)]           # Empty keep/drop matrix\n",
    "    for k in range(1, n+1):                           # We can use k first objects\n",
    "        i = k-1                                       # Object under consideration\n",
    "        for r in range(1,c+1):                        # Every positive capacity\n",
    "            m[k][r] = drop = m[k-1][r]                # By default: drop the object\n",
    "            if w[i] > r: continue                     # Too heavy? Ignore it\n",
    "            keep = v[i] + m[k-1][r-w[i]]              # Value of keeping it\n",
    "            m[k][r] = max(drop, keep)                 # Best of dropping and keeping\n",
    "            P[k][r] = keep > drop                     # Did we keep it?\n",
    "    return m, P                                       # Return full results"
   ]
  },
  {
   "cell_type": "code",
   "execution_count": 34,
   "metadata": {
    "collapsed": false
   },
   "outputs": [],
   "source": [
    "# knapsack(w, v, c)"
   ]
  },
  {
   "cell_type": "code",
   "execution_count": null,
   "metadata": {
    "collapsed": true
   },
   "outputs": [],
   "source": []
  }
 ],
 "metadata": {
  "kernelspec": {
   "display_name": "Python 2",
   "language": "python",
   "name": "python2"
  },
  "language_info": {
   "codemirror_mode": {
    "name": "ipython",
    "version": 2
   },
   "file_extension": ".py",
   "mimetype": "text/x-python",
   "name": "python",
   "nbconvert_exporter": "python",
   "pygments_lexer": "ipython2",
   "version": "2.7.9"
  }
 },
 "nbformat": 4,
 "nbformat_minor": 0
}
