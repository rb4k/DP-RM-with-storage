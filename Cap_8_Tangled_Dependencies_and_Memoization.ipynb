{
 "cells": [
  {
   "cell_type": "code",
   "execution_count": 3,
   "metadata": {
    "collapsed": true
   },
   "outputs": [],
   "source": [
    "# Say you have a sequence of numbers, and you want to find its longest increasing subsequence - or one of them,\n",
    "# if there are more.\n",
    "from itertools import combinations\n",
    "\n",
    "def naive_lis(seq):\n",
    "    '''A Naive Solution to the Longest Increasing Subsequence Problem'''\n",
    "    for length in range(len(seq), 0, -1):      # n, n-1, ..., 1\n",
    "        for sub in combinations(seq, length):  # Subsequences of given length\n",
    "            if list(sub) == sorted(sub):       # An increasing subsequence?\n",
    "                return sub                     # Return it!"
   ]
  },
  {
   "cell_type": "code",
   "execution_count": 4,
   "metadata": {
    "collapsed": false
   },
   "outputs": [
    {
     "data": {
      "text/plain": [
       "(1, 2, 4)"
      ]
     },
     "execution_count": 4,
     "metadata": {},
     "output_type": "execute_result"
    }
   ],
   "source": [
    "naive_lis([3,1,0,2,4])"
   ]
  },
  {
   "cell_type": "code",
   "execution_count": 6,
   "metadata": {
    "collapsed": true
   },
   "outputs": [],
   "source": [
    "# Don't Repeat Yourself\n",
    "# The basic idea of this chapter is to avoid (vermeiden) having your 'algorithm' repeat itself.\n",
    "# The principle is so simple, and even really easy to implement (at least (geringer) in Python),\n",
    "# but the mojo (Glücksbringer) here is really deep (tiefgründig), as you'll see as we progress.\n",
    "def fib(i):\n",
    "    if i < 2: return 1\n",
    "    return fib(i-1) + fib(i-2)\n",
    "\n",
    "\n",
    "from functools import wraps\n",
    "\n",
    "def memo(func):\n",
    "    '''A Memoizing Decorator. The idea of memoized function is that it caches its return values. If you call it a\n",
    "    second time with the same parameters, it will simply return the cached value. You can certainly (allerdings) \n",
    "    put this sort of caching logic inside your function, but memo function is a more reusable (Mehrweg-) solution.\n",
    "    '''\n",
    "    cache = {}                           # Stored subproblem solutions\n",
    "    @wraps(func)                         # Make wrap look like func\n",
    "    def wrap(*args):                     # The memoized wrapper\n",
    "        if args not in cache:            # Not already computed?\n",
    "            cache[args] = func(*args)    # Compute & cache the solution\n",
    "        return cache[args]               # Return the cached solution\n",
    "    return wrap                          # Return the wrapper\n",
    "\n",
    "fib = memo(fib)"
   ]
  },
  {
   "cell_type": "code",
   "execution_count": 10,
   "metadata": {
    "collapsed": false
   },
   "outputs": [
    {
     "data": {
      "text/plain": [
       "573147844013817084101L"
      ]
     },
     "execution_count": 10,
     "metadata": {},
     "output_type": "execute_result"
    }
   ],
   "source": [
    "fib(100)"
   ]
  },
  {
   "cell_type": "code",
   "execution_count": 12,
   "metadata": {
    "collapsed": false
   },
   "outputs": [
    {
     "data": {
      "text/plain": [
       "573147844013817084101L"
      ]
     },
     "execution_count": 12,
     "metadata": {},
     "output_type": "execute_result"
    }
   ],
   "source": [
    "# It's even designed to be used as a decorator:\n",
    "@memo\n",
    "def fib(i):\n",
    "    if i < 2: return 1\n",
    "    return fib(i-1) + fib(i-2)\n",
    "\n",
    "fib(100)"
   ]
  },
  {
   "cell_type": "code",
   "execution_count": 15,
   "metadata": {
    "collapsed": false
   },
   "outputs": [
    {
     "name": "stdout",
     "output_type": "stream",
     "text": [
      "1024\n",
      "1267650600228229401496703205376\n"
     ]
    }
   ],
   "source": [
    "# overlapping subproblems\n",
    "# a recursion formulation of the powers of two.\n",
    "@memo # Option 1\n",
    "def two_pow(i):\n",
    "    if i == 0: return 1\n",
    "    return two_pow(i-1) + two_pow(i-1)\n",
    "\n",
    "print(two_pow(10))\n",
    "print(two_pow(100))"
   ]
  },
  {
   "cell_type": "code",
   "execution_count": 17,
   "metadata": {
    "collapsed": false
   },
   "outputs": [
    {
     "name": "stdout",
     "output_type": "stream",
     "text": [
      "1024\n",
      "1267650600228229401496703205376\n"
     ]
    }
   ],
   "source": [
    "# overlapping subproblems\n",
    "# a recursion formulation of the powers of two.\n",
    "# Option 2\n",
    "def two_pow(i):\n",
    "    if i == 0: return 1\n",
    "    return 2 * two_pow(i-1)\n",
    "\n",
    "print(two_pow(10))\n",
    "print(two_pow(100))"
   ]
  },
  {
   "cell_type": "code",
   "execution_count": 19,
   "metadata": {
    "collapsed": false
   },
   "outputs": [
    {
     "name": "stdout",
     "output_type": "stream",
     "text": [
      "6\n",
      "120\n",
      "100891344545564193334812497256\n"
     ]
    }
   ],
   "source": [
    "# Calculating binomial coefficients (Pascal's triangle)\n",
    "# We decompose the problem by conditioning (Aufbereitung) on whether some element is included.\n",
    "# C(n,0) = 1 for the single empty subset, and C(0,k) = 0, k > 0, for nonempty subsets of an empty set.\n",
    "# path counting (abzählen)\n",
    "\n",
    "@memo\n",
    "def C(n,k):\n",
    "    if k == 0: return 1\n",
    "    if n == 0: return 0\n",
    "    return C(n-1,k-1) + C(n-1,k)\n",
    "\n",
    "print(C(4,2))\n",
    "print(C(10,7))\n",
    "print(C(100,50))"
   ]
  },
  {
   "cell_type": "code",
   "execution_count": 20,
   "metadata": {
    "collapsed": false
   },
   "outputs": [
    {
     "data": {
      "text/plain": [
       "120"
      ]
     },
     "execution_count": 20,
     "metadata": {},
     "output_type": "execute_result"
    }
   ],
   "source": [
    "from collections import defaultdict\n",
    "\n",
    "n, k = 10, 7\n",
    "C = defaultdict(int)\n",
    "for row in range(n+1):\n",
    "    C[row, 0] = 1\n",
    "    for col in range(1,k+1):\n",
    "        C[row,col] = C[row-1,col-1] + C[row-1,col]\n",
    "        \n",
    "C[n,k]"
   ]
  },
  {
   "cell_type": "code",
   "execution_count": null,
   "metadata": {
    "collapsed": true
   },
   "outputs": [],
   "source": []
  }
 ],
 "metadata": {
  "kernelspec": {
   "display_name": "Python 2",
   "language": "python",
   "name": "python2"
  },
  "language_info": {
   "codemirror_mode": {
    "name": "ipython",
    "version": 2
   },
   "file_extension": ".py",
   "mimetype": "text/x-python",
   "name": "python",
   "nbconvert_exporter": "python",
   "pygments_lexer": "ipython2",
   "version": "2.7.9"
  }
 },
 "nbformat": 4,
 "nbformat_minor": 0
}
