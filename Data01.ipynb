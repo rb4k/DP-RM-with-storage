{
 "cells": [
  {
   "cell_type": "code",
   "execution_count": 34,
   "metadata": {
    "collapsed": true
   },
   "outputs": [],
   "source": [
    "__version__ = '0.3'\n",
    "__author__  = \"Robert Matern (r.matern@stud.uni-hannover.de)\"\n",
    "__date__    = ''\n",
    "__url__     = ''\n",
    "__copyright__ = \"(C) 2015 Robert Matern\""
   ]
  },
  {
   "cell_type": "markdown",
   "metadata": {},
   "source": [
    "#Beispieldaten Nr. 1"
   ]
  },
  {
   "cell_type": "code",
   "execution_count": 35,
   "metadata": {
    "collapsed": false
   },
   "outputs": [],
   "source": [
    "%run Parameter.ipynb\n",
    "%run DynamicProgramm.ipynb"
   ]
  },
  {
   "cell_type": "code",
   "execution_count": 36,
   "metadata": {
    "collapsed": false
   },
   "outputs": [
    {
     "name": "stdout",
     "output_type": "stream",
     "text": [
      "0:00:00.000335\n"
     ]
    }
   ],
   "source": [
    "# Produkte\n",
    "products = Product(2)\n",
    "\n",
    "# Ressourcen\n",
    "resources = Resource(2)\n",
    "\n",
    "#Kapazität\n",
    "capacities = Capacity(resources)\n",
    "capacities[1] = 2\n",
    "capacities[2] = 1\n",
    "\n",
    "# Ressourcenverbrauch\n",
    "consumtions = Consumption(products, resources)\n",
    "consumtions[1] = [0,1,0]\n",
    "consumtions[2] = [0,0,1]\n",
    "\n",
    "# Erträge\n",
    "revenues = Revenue(products)\n",
    "revenues[1] = 100\n",
    "revenues[2] = 200\n",
    "\n",
    "# Buchungshorizont\n",
    "times = Time(4)\n",
    "\n",
    "# Wahrscheinlichkeiten\n",
    "probs = Prob(products, times)\n",
    "probs[1] = [0.5, 0.5, 0.5, 0.5, 0]\n",
    "probs[2] = [0.1, 0.1, 0.1, 0.1, 0]\n",
    "\n",
    "# Gegenwahrscheinlichkeiten\n",
    "against_probs = Against_Prob(probs)\n",
    "\n",
    "# Systemzustände\n",
    "conditions = Condition(capacities, resources, times)\n",
    "\n",
    "# Endzeitpunkte\n",
    "#end_times = End_Time(conditions)"
   ]
  },
  {
   "cell_type": "code",
   "execution_count": 37,
   "metadata": {
    "collapsed": false
   },
   "outputs": [
    {
     "data": {
      "text/plain": [
       "231.25"
      ]
     },
     "execution_count": 37,
     "metadata": {},
     "output_type": "execute_result"
    }
   ],
   "source": [
    "DP(solutions, conditions, products, resources, capacities, consumtions, times)"
   ]
  },
  {
   "cell_type": "code",
   "execution_count": 38,
   "metadata": {
    "collapsed": false
   },
   "outputs": [
    {
     "data": {
      "text/plain": [
       "{0: [array([2, 1, 0]), 0],\n",
       " 1: [array([2, 1, 1]), 70.0],\n",
       " 2: [array([2, 1, 2]), 138.0],\n",
       " 3: [array([2, 1, 3]), 191.69],\n",
       " 4: [array([2, 1, 4]), 231.25],\n",
       " 5: [array([2, 0, 0]), 0],\n",
       " 6: [array([2, 0, 1]), 50.0],\n",
       " 7: [array([2, 0, 2]), 100.0],\n",
       " 8: [array([2, 0, 3]), 137.5],\n",
       " 10: [array([1, 1, 0]), 0],\n",
       " 11: [array([1, 1, 1]), 70.0],\n",
       " 12: [array([1, 1, 2]), 113.0],\n",
       " 13: [array([1, 1, 3]), 141.69999999999999],\n",
       " 15: [array([1, 0, 0]), 0],\n",
       " 16: [array([1, 0, 1]), 50.0],\n",
       " 17: [array([1, 0, 2]), 75.0],\n",
       " 20: [array([0, 1, 0]), 0],\n",
       " 21: [array([0, 1, 1]), 20.0],\n",
       " 22: [array([0, 1, 2]), 38.0],\n",
       " 25: [array([0, 0, 0]), 0],\n",
       " 26: [array([0, 0, 1]), 0.0]}"
      ]
     },
     "execution_count": 38,
     "metadata": {},
     "output_type": "execute_result"
    }
   ],
   "source": [
    "solutions"
   ]
  },
  {
   "cell_type": "code",
   "execution_count": 39,
   "metadata": {
    "collapsed": false
   },
   "outputs": [
    {
     "name": "stdout",
     "output_type": "stream",
     "text": [
      "Für den Zeitpung 4 ist die Annahme des Auftrags 1 die beste Politik.\n",
      "Für den Zeitpung 3 ist die Annahme des Auftrags 1 die beste Politik.\n",
      "Für den Zeitpung 2 ist die Annahme des Auftrags 2 die beste Politik.\n",
      "Für den Zeitpung 1 ist die Annahme des Auftrags 0 die beste Politik.\n"
     ]
    }
   ],
   "source": [
    "# Erstellung der Struktur als NetworkX-Graph\n",
    "graph = Structure(solutions, products, consumtions, revenues)\n",
    "\n",
    "# Ermittlung der besten Politik (Dijkstra Algorithmus)\n",
    "best_politic = Best_Politic(graph, times)\n",
    "\n",
    "for index in enumerate(best_politic[:-1]):\n",
    "    print \"Für den Zeitpung %i ist die Annahme des Auftrags %i die beste Politik.\" % (times[index[0]], graph.edge[index[1]][best_politic[index[0]+1]]['adoption'])"
   ]
  }
 ],
 "metadata": {
  "kernelspec": {
   "display_name": "Python 2",
   "language": "python",
   "name": "python2"
  },
  "language_info": {
   "codemirror_mode": {
    "name": "ipython",
    "version": 2
   },
   "file_extension": ".py",
   "mimetype": "text/x-python",
   "name": "python",
   "nbconvert_exporter": "python",
   "pygments_lexer": "ipython2",
   "version": "2.7.9"
  }
 },
 "nbformat": 4,
 "nbformat_minor": 0
}
