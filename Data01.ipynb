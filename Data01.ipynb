{
 "cells": [
  {
   "cell_type": "code",
   "execution_count": 476,
   "metadata": {
    "collapsed": false
   },
   "outputs": [],
   "source": [
    "__version__ = '0.3'\n",
    "__author__  = \"Robert Matern (r.matern@stud.uni-hannover.de)\"\n",
    "__date__    = ''\n",
    "__url__     = ''\n",
    "__copyright__ = \"(C) 2015 Robert Matern\""
   ]
  },
  {
   "cell_type": "markdown",
   "metadata": {},
   "source": [
    "#Beispieldaten Nr. 1"
   ]
  },
  {
   "cell_type": "code",
   "execution_count": 477,
   "metadata": {
    "collapsed": false
   },
   "outputs": [],
   "source": [
    "%run Parameter.ipynb\n",
    "%run DynamicProgramm.ipynb"
   ]
  },
  {
   "cell_type": "code",
   "execution_count": 478,
   "metadata": {
    "collapsed": false
   },
   "outputs": [
    {
     "name": "stdout",
     "output_type": "stream",
     "text": [
      "0:00:00.000313\n"
     ]
    }
   ],
   "source": [
    "# Produkte\n",
    "products = Product(2)\n",
    "\n",
    "# Ressourcen\n",
    "resources = Resource(2)\n",
    "\n",
    "#Kapazität\n",
    "capacities = Capacity(resources)\n",
    "capacities[1] = 2\n",
    "capacities[2] = 1\n",
    "\n",
    "# Ressourcenverbrauch\n",
    "consumtions = Consumption(products, resources)\n",
    "consumtions[1] = [0,1,0]\n",
    "consumtions[2] = [0,0,1]\n",
    "\n",
    "# Erträge\n",
    "revenues = Revenue(products)\n",
    "revenues[1] = 100\n",
    "revenues[2] = 200\n",
    "\n",
    "# Buchungshorizont\n",
    "times = Time(4)\n",
    "\n",
    "# Wahrscheinlichkeiten\n",
    "probs = Prob(products, times)\n",
    "probs[1] = [0, 0.5, 0.5, 0.5, 0.5]\n",
    "probs[2] = [0, 0.1, 0.1, 0.1, 0.1]\n",
    "\n",
    "# Gegenwahrscheinlichkeiten\n",
    "against_probs = Against_Prob(probs)\n",
    "probs[0] = against_probs\n",
    "\n",
    "# Systemzustände\n",
    "conditions = Condition(capacities, resources, times)\n",
    "\n",
    "# Endzeitpunkte\n",
    "#end_times = End_Time(conditions)"
   ]
  },
  {
   "cell_type": "code",
   "execution_count": 479,
   "metadata": {
    "collapsed": false
   },
   "outputs": [
    {
     "name": "stdout",
     "output_type": "stream",
     "text": [
      "231.25\n",
      "0:00:00.031251\n"
     ]
    }
   ],
   "source": [
    "import datetime\n",
    "a = datetime.datetime.now()\n",
    "print DP(solutions, conditions, products, resources, capacities, consumtions, times)\n",
    "print datetime.datetime.now()-a"
   ]
  },
  {
   "cell_type": "code",
   "execution_count": 480,
   "metadata": {
    "collapsed": false
   },
   "outputs": [
    {
     "name": "stdout",
     "output_type": "stream",
     "text": [
      "Bei der Bestimmung der optimalen Politik zum Zeitpunkt t wird davon ausgegangen, dass alle Anfragetypen eintreffen. \n",
      "\n",
      "Zum Zeitpunkt 4 mit einer Kapazität von [2 1] ist die optimale Politik:\n",
      "Annahme des Auftrags 2\n",
      "Der Ertrag r[j] abzgl. Opportunitätskosten OC[j,c,t] beträgt: 145.81 \n",
      "\n",
      "Zum Zeitpunkt 3 mit einer Kapazität von [2 0] ist die optimale Politik:\n",
      "Annahme des Auftrags 1\n",
      "Der Ertrag r[j] abzgl. Opportunitätskosten OC[j,c,t] beträgt: 75.0 \n",
      "\n",
      "Zum Zeitpunkt 3 mit einer Kapazität von [1 1] ist die optimale Politik:\n",
      "Annahme des Auftrags 2\n",
      "Der Ertrag r[j] abzgl. Opportunitätskosten OC[j,c,t] beträgt: 162.0 \n",
      "\n",
      "Zum Zeitpunkt 2 mit einer Kapazität von [1 0] ist die optimale Politik:\n",
      "Annahme des Auftrags 1\n",
      "Der Ertrag r[j] abzgl. Opportunitätskosten OC[j,c,t] beträgt: 50.0 \n",
      "\n",
      "Zum Zeitpunkt 2 mit einer Kapazität von [0 1] ist die optimale Politik:\n",
      "Annahme des Auftrags 2\n",
      "Der Ertrag r[j] abzgl. Opportunitätskosten OC[j,c,t] beträgt: 180.0 \n",
      "\n",
      "Zum Zeitpunkt 1 mit einer Kapazität von [0 0] ist die optimale Politik:\n",
      "Annahme des Auftrags 0\n",
      "Der Ertrag r[j] abzgl. Opportunitätskosten OC[j,c,t] beträgt: 0 \n",
      "\n",
      "Zum Zeitpunkt 3 mit einer Kapazität von [2 1] ist die optimale Politik:\n",
      "Annahme des Auftrags 2\n",
      "Der Ertrag r[j] abzgl. Opportunitätskosten OC[j,c,t] beträgt: 162.0 \n",
      "\n",
      "Zum Zeitpunkt 2 mit einer Kapazität von [1 1] ist die optimale Politik:\n",
      "Annahme des Auftrags 2\n",
      "Der Ertrag r[j] abzgl. Opportunitätskosten OC[j,c,t] beträgt: 180.0 \n",
      "\n",
      "Zum Zeitpunkt 1 mit einer Kapazität von [0 1] ist die optimale Politik:\n",
      "Annahme des Auftrags 2\n",
      "Der Ertrag r[j] abzgl. Opportunitätskosten OC[j,c,t] beträgt: 200 \n",
      "\n",
      "Zum Zeitpunkt 2 mit einer Kapazität von [2 0] ist die optimale Politik:\n",
      "Annahme des Auftrags 1\n",
      "Der Ertrag r[j] abzgl. Opportunitätskosten OC[j,c,t] beträgt: 100.0 \n",
      "\n",
      "Zum Zeitpunkt 1 mit einer Kapazität von [1 0] ist die optimale Politik:\n",
      "Annahme des Auftrags 1\n",
      "Der Ertrag r[j] abzgl. Opportunitätskosten OC[j,c,t] beträgt: 100 \n",
      "\n",
      "Zum Zeitpunkt 2 mit einer Kapazität von [2 1] ist die optimale Politik:\n",
      "Annahme des Auftrags 2\n",
      "Der Ertrag r[j] abzgl. Opportunitätskosten OC[j,c,t] beträgt: 180.0 \n",
      "\n",
      "Zum Zeitpunkt 1 mit einer Kapazität von [1 1] ist die optimale Politik:\n",
      "Annahme des Auftrags 2\n",
      "Der Ertrag r[j] abzgl. Opportunitätskosten OC[j,c,t] beträgt: 200 \n",
      "\n",
      "Zum Zeitpunkt 1 mit einer Kapazität von [2 0] ist die optimale Politik:\n",
      "Annahme des Auftrags 1\n",
      "Der Ertrag r[j] abzgl. Opportunitätskosten OC[j,c,t] beträgt: 100 \n",
      "\n",
      "Zum Zeitpunkt 1 mit einer Kapazität von [2 1] ist die optimale Politik:\n",
      "Annahme des Auftrags 2\n",
      "Der Ertrag r[j] abzgl. Opportunitätskosten OC[j,c,t] beträgt: 200 \n",
      "\n"
     ]
    }
   ],
   "source": [
    "# Erstellung der Struktur als NetworkX-Graph\n",
    "graph = Structure(solutions, products, consumtions, revenues, probs)\n",
    "\n",
    "#print nx.is_directed_acyclic_graph(graph)\n",
    "\n",
    "# Ermittlung der besten Politik (Dijkstra Algorithmus)\n",
    "best_politic = Best_Politic(graph, times, products)\n",
    "\n",
    "#Best_Path(graph, times)"
   ]
  },
  {
   "cell_type": "code",
   "execution_count": 481,
   "metadata": {
    "collapsed": false
   },
   "outputs": [
    {
     "data": {
      "image/png": "[encoded data removed]",
      "text/plain": [
       "<matplotlib.figure.Figure at 0x10763c350>"
      ]
     },
     "metadata": {},
     "output_type": "display_data"
    }
   ],
   "source": [
    "Drawing(graph)"
   ]
  }
 ],
 "metadata": {
  "kernelspec": {
   "display_name": "Python 2",
   "language": "python",
   "name": "python2"
  },
  "language_info": {
   "codemirror_mode": {
    "name": "ipython",
    "version": 2
   },
   "file_extension": ".py",
   "mimetype": "text/x-python",
   "name": "python",
   "nbconvert_exporter": "python",
   "pygments_lexer": "ipython2",
   "version": "2.7.9"
  }
 },
 "nbformat": 4,
 "nbformat_minor": 0
}
