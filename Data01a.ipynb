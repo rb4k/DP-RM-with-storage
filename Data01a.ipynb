{
 "cells": [
  {
   "cell_type": "code",
   "execution_count": 23,
   "metadata": {
    "collapsed": false
   },
   "outputs": [],
   "source": [
    "__version__ = '0.3'\n",
    "__author__  = \"Robert Matern (r.matern@stud.uni-hannover.de)\"\n",
    "__date__    = ''\n",
    "__url__     = ''\n",
    "__copyright__ = \"(C) 2015 Robert Matern\""
   ]
  },
  {
   "cell_type": "markdown",
   "metadata": {},
   "source": [
    "#Beispieldaten Nr. 1"
   ]
  },
  {
   "cell_type": "code",
   "execution_count": 24,
   "metadata": {
    "collapsed": false
   },
   "outputs": [],
   "source": [
    "# Funktionen werden hinzugeladen.\n",
    "%run Parameter.ipynb"
   ]
  },
  {
   "cell_type": "code",
   "execution_count": 25,
   "metadata": {
    "collapsed": false
   },
   "outputs": [
    {
     "name": "stdout",
     "output_type": "stream",
     "text": [
      "0:00:00.000410\n"
     ]
    }
   ],
   "source": [
    "# Produkte\n",
    "products = Product(2)\n",
    "\n",
    "# Ressourcen\n",
    "resources = Resource(2)\n",
    "\n",
    "#Kapazität\n",
    "capacities = Capacity(resources)\n",
    "capacities[1] = 1\n",
    "capacities[2] = 1\n",
    "\n",
    "# Ressourcenverbrauch\n",
    "consumtions = Consumption(products, resources)\n",
    "consumtions[1] = [0,1,0]\n",
    "consumtions[2] = [0,0,1]\n",
    "\n",
    "# Erträge\n",
    "revenues = Revenue(products)\n",
    "revenues[1] = 100\n",
    "revenues[2] = 200\n",
    "\n",
    "# Buchungshorizont\n",
    "times = Time(3)\n",
    "\n",
    "# Wahrscheinlichkeiten\n",
    "probs = Prob(products, times)\n",
    "probs[1] = [0, 0.5, 0.5, 0.5]\n",
    "probs[2] = [0, 0.1, 0.1, 0.1]\n",
    "\n",
    "# Gegenwahrscheinlichkeiten\n",
    "against_probs = Against_Prob(probs)\n",
    "probs[0] = against_probs\n",
    "\n",
    "# Tat. Nachfrage\n",
    "demands = Demand(products, times)\n",
    "demands[0] = [0, 1, 1, 1] # Keine Anfragen müssen immer möglich sein!\n",
    "demands[1] = [0, 1, 1, 1]\n",
    "demands[2] = [0, 0, 0, 0]\n",
    "\n",
    "# Systemzustände\n",
    "conditions = Condition(capacities, resources, times)\n",
    "\n",
    "\n",
    "# Endzeitpunkte\n",
    "#end_times = End_Time(conditions)"
   ]
  },
  {
   "cell_type": "markdown",
   "metadata": {},
   "source": [
    "inkl. Lagerhaltung"
   ]
  },
  {
   "cell_type": "code",
   "execution_count": 26,
   "metadata": {
    "collapsed": true
   },
   "outputs": [],
   "source": [
    "%run Parameter-storage.ipynb"
   ]
  },
  {
   "cell_type": "code",
   "execution_count": 27,
   "metadata": {
    "collapsed": false
   },
   "outputs": [
    {
     "name": "stdout",
     "output_type": "stream",
     "text": [
      "0:00:00.000493\n"
     ]
    }
   ],
   "source": [
    "#Lagerbestand\n",
    "stocks = Stock(products)\n",
    "stocks[1] = 1\n",
    "stocks[2] = 0\n",
    "\n",
    "#Lagerveränderung\n",
    "shifts = Shift(products)\n",
    "\n",
    "# Systemzustände\n",
    "condition_storages = Condition_Storage(capacities, resources, stocks, times)"
   ]
  },
  {
   "cell_type": "code",
   "execution_count": 28,
   "metadata": {
    "collapsed": false
   },
   "outputs": [],
   "source": [
    "%run DynamicProgramm-stock.ipynb"
   ]
  },
  {
   "cell_type": "code",
   "execution_count": 29,
   "metadata": {
    "collapsed": false
   },
   "outputs": [
    {
     "name": "stdout",
     "output_type": "stream",
     "text": [
      "Systemzustand: [1 1 1 0] - Periode: 0 - Erwartungswert: 0.0 - Optimale Politik: 0 KA\n",
      "Systemzustand: [0 1 1 0] - Periode: 0 - Erwartungswert: 0.0 - Optimale Politik: 0 KA\n",
      "Systemzustand: [1 1 0 0] - Periode: 0 - Erwartungswert: 0.0 - Optimale Politik: 0 KA\n",
      "Systemzustand: [1 0 1 0] - Periode: 0 - Erwartungswert: 0.0 - Optimale Politik: 0 KA\n",
      "Systemzustand: [1 1 1 0] - Periode: 1 - Erwartungswert: 120.0 - Optimale Politik: 2 AA\n",
      "Systemzustand: [0 1 0 0] - Periode: 0 - Erwartungswert: 0.0 - Optimale Politik: 0 KA\n",
      "Systemzustand: [0 0 1 0] - Periode: 0 - Erwartungswert: 0.0 - Optimale Politik: 0 KA\n",
      "Systemzustand: [0 1 1 0] - Periode: 1 - Erwartungswert: 70.0 - Optimale Politik: 2 AA\n",
      "Systemzustand: [1 0 0 0] - Periode: 0 - Erwartungswert: 0.0 - Optimale Politik: 0 KA\n",
      "Systemzustand: [1 1 0 0] - Periode: 1 - Erwartungswert: 70.0 - Optimale Politik: 2 AA\n",
      "Systemzustand: [1 0 1 0] - Periode: 1 - Erwartungswert: 100.0 - Optimale Politik: 1 AA\n",
      "Systemzustand: [1 1 1 0] - Periode: 2 - Erwartungswert: 188.0 - Optimale Politik: 2 AA\n",
      "Systemzustand: [0 0 0 0] - Periode: 0 - Erwartungswert: 0.0 - Optimale Politik: 0 KA\n",
      "Systemzustand: [0 1 0 0] - Periode: 1 - Erwartungswert: 20.0 - Optimale Politik: 2 AA\n",
      "Systemzustand: [0 0 1 0] - Periode: 1 - Erwartungswert: 50.0 - Optimale Politik: 1 LE\n",
      "Systemzustand: [0 1 1 0] - Periode: 2 - Erwartungswert: 113.0 - Optimale Politik: 2 AA\n",
      "Systemzustand: [1 0 0 0] - Periode: 1 - Erwartungswert: 50.0 - Optimale Politik: 1 AA\n",
      "Systemzustand: [1 1 0 0] - Periode: 2 - Erwartungswert: 113.0 - Optimale Politik: 2 AA\n",
      "Systemzustand: [1 0 1 0] - Periode: 2 - Erwartungswert: 150.0 - Optimale Politik: 1 AA\n",
      "Systemzustand: [1 1 1 0] - Periode: 3 - Erwartungswert: 229.203 - Optimale Politik: 2 AA\n"
     ]
    },
    {
     "data": {
      "text/plain": [
       "229.20312"
      ]
     },
     "execution_count": 29,
     "metadata": {},
     "output_type": "execute_result"
    }
   ],
   "source": [
    "DP_Stock(solutions, condition_storages, products, resources, capacities, consumtions, times, probs, stocks, shifts)"
   ]
  },
  {
   "cell_type": "code",
   "execution_count": 30,
   "metadata": {
    "collapsed": false
   },
   "outputs": [
    {
     "data": {
      "text/plain": [
       "{0: [array([1, 1, 1, 0, 0]), 0.0, 0, 'KA', 0],\n",
       " 1: [array([1, 1, 1, 0, 1]), 120.0, 2, 'AA', 0.0],\n",
       " 2: [array([1, 1, 1, 0, 2]), 188.0, 2, 'AA', 20.0],\n",
       " 3: [array([1, 1, 1, 0, 3]), 229.20312, 2, 'AA', 38.0],\n",
       " 4: [array([1, 1, 0, 0, 0]), 0.0, 0, 'KA', 0],\n",
       " 5: [array([1, 1, 0, 0, 1]), 70.0, 2, 'AA', 0.0],\n",
       " 6: [array([1, 1, 0, 0, 2]), 113.0, 2, 'AA', 20.0],\n",
       " 8: [array([1, 0, 1, 0, 0]), 0.0, 0, 'KA', 0],\n",
       " 9: [array([1, 0, 1, 0, 1]), 100.0, 1, 'AA', 0.0],\n",
       " 10: [array([1, 0, 1, 0, 2]), 150.0, 1, 'AA', 50.0],\n",
       " 12: [array([1, 0, 0, 0, 0]), 0.0, 0, 'KA', 0],\n",
       " 13: [array([1, 0, 0, 0, 1]), 50.0, 1, 'AA', 0.0],\n",
       " 16: [array([0, 1, 1, 0, 0]), 0.0, 0, 'KA', 0],\n",
       " 17: [array([0, 1, 1, 0, 1]), 70.0, 2, 'AA', 0.0],\n",
       " 18: [array([0, 1, 1, 0, 2]), 113.0, 2, 'AA', 20.0],\n",
       " 20: [array([0, 1, 0, 0, 0]), 0.0, 0, 'KA', 0],\n",
       " 21: [array([0, 1, 0, 0, 1]), 20.0, 2, 'AA', 0.0],\n",
       " 24: [array([0, 0, 1, 0, 0]), 0.0, 0, 'KA', 0],\n",
       " 25: [array([0, 0, 1, 0, 1]), 50.0, 1, 'LE', 0.0],\n",
       " 28: [array([0, 0, 0, 0, 0]), 0.0, 0, 'KA', 0]}"
      ]
     },
     "execution_count": 30,
     "metadata": {},
     "output_type": "execute_result"
    }
   ],
   "source": [
    "solutions"
   ]
  },
  {
   "cell_type": "code",
   "execution_count": 31,
   "metadata": {
    "collapsed": false
   },
   "outputs": [
    {
     "name": "stdout",
     "output_type": "stream",
     "text": [
      "Optimalen Politik zum Zeitpunkt \"t\" und unter Beachtung der Restkapazitäten \"c[h]\": \n",
      "\n",
      "         Value       Successor  Res_Cap1  Res_Cap2  Stock1  Stock2  Time  \\\n",
      "3   229.203125  [2, 10, 18, 6]         1         1       1       0     3   \n",
      "10  150.000000     [9, 13, 25]         1         0       1       0     2   \n",
      "18  113.000000    [17, 21, 25]         0         1       1       0     2   \n",
      "25   50.000000        [24, 28]         0         0       1       0     1   \n",
      "6   113.000000     [13, 5, 21]         1         1       0       0     2   \n",
      "13   50.000000        [28, 12]         1         0       0       0     1   \n",
      "21   20.000000        [28, 20]         0         1       0       0     1   \n",
      "28    0.000000           [end]         0         0       0       0     0   \n",
      "2   188.000000   [1, 9, 5, 17]         1         1       1       0     2   \n",
      "9   100.000000     [8, 24, 12]         1         0       1       0     1   \n",
      "5    70.000000     [20, 4, 12]         1         1       0       0     1   \n",
      "12    0.000000           [end]         1         0       0       0     0   \n",
      "17   70.000000    [16, 24, 20]         0         1       1       0     1   \n",
      "24    0.000000           [end]         0         0       1       0     0   \n",
      "20    0.000000           [end]         0         1       0       0     0   \n",
      "1   120.000000   [0, 16, 4, 8]         1         1       1       0     1   \n",
      "16    0.000000           [end]         0         1       1       0     0   \n",
      "4     0.000000           [end]         1         1       0       0     0   \n",
      "8     0.000000           [end]         1         0       1       0     0   \n",
      "0     0.000000           [end]         1         1       1       0     0   \n",
      "\n",
      "    Best Order Modus  OC  \n",
      "3            2    AA  38  \n",
      "10           1    AA  50  \n",
      "18           2    AA  20  \n",
      "25           1    LE   0  \n",
      "6            2    AA  20  \n",
      "13           1    AA   0  \n",
      "21           2    AA   0  \n",
      "28           0     -   0  \n",
      "2            2    AA  20  \n",
      "9            1    AA   0  \n",
      "5            2    AA   0  \n",
      "12           0     -   0  \n",
      "17           2    AA   0  \n",
      "24           0     -   0  \n",
      "20           0     -   0  \n",
      "1            2    AA   0  \n",
      "16           0     -   0  \n",
      "4            0     -   0  \n",
      "8            0     -   0  \n",
      "0            0     -   0   \n",
      "\n",
      "   Opt. Politic  from  to  Revenue  Cum_Rev\n",
      "3             2     3  10      200      200\n",
      "2             1    10  25      100      300\n",
      "1             1    25  28      100      400 \n",
      "\n"
     ]
    },
    {
     "data": {
      "text/plain": [
       "(         Value       Successor  Res_Cap1  Res_Cap2  Stock1  Stock2  Time  \\\n",
       " 3   229.203125  [2, 10, 18, 6]         1         1       1       0     3   \n",
       " 10  150.000000     [9, 13, 25]         1         0       1       0     2   \n",
       " 18  113.000000    [17, 21, 25]         0         1       1       0     2   \n",
       " 25   50.000000        [24, 28]         0         0       1       0     1   \n",
       " 6   113.000000     [13, 5, 21]         1         1       0       0     2   \n",
       " 13   50.000000        [28, 12]         1         0       0       0     1   \n",
       " 21   20.000000        [28, 20]         0         1       0       0     1   \n",
       " 28    0.000000           [end]         0         0       0       0     0   \n",
       " 2   188.000000   [1, 9, 5, 17]         1         1       1       0     2   \n",
       " 9   100.000000     [8, 24, 12]         1         0       1       0     1   \n",
       " 5    70.000000     [20, 4, 12]         1         1       0       0     1   \n",
       " 12    0.000000           [end]         1         0       0       0     0   \n",
       " 17   70.000000    [16, 24, 20]         0         1       1       0     1   \n",
       " 24    0.000000           [end]         0         0       1       0     0   \n",
       " 20    0.000000           [end]         0         1       0       0     0   \n",
       " 1   120.000000   [0, 16, 4, 8]         1         1       1       0     1   \n",
       " 16    0.000000           [end]         0         1       1       0     0   \n",
       " 4     0.000000           [end]         1         1       0       0     0   \n",
       " 8     0.000000           [end]         1         0       1       0     0   \n",
       " 0     0.000000           [end]         1         1       1       0     0   \n",
       " \n",
       "     Best Order Modus  OC  \n",
       " 3            2    AA  38  \n",
       " 10           1    AA  50  \n",
       " 18           2    AA  20  \n",
       " 25           1    LE   0  \n",
       " 6            2    AA  20  \n",
       " 13           1    AA   0  \n",
       " 21           2    AA   0  \n",
       " 28           0     -   0  \n",
       " 2            2    AA  20  \n",
       " 9            1    AA   0  \n",
       " 5            2    AA   0  \n",
       " 12           0     -   0  \n",
       " 17           2    AA   0  \n",
       " 24           0     -   0  \n",
       " 20           0     -   0  \n",
       " 1            2    AA   0  \n",
       " 16           0     -   0  \n",
       " 4            0     -   0  \n",
       " 8            0     -   0  \n",
       " 0            0     -   0  ,    Opt. Politic  from  to  Revenue  Cum_Rev\n",
       " 3             2     3  10      200      200\n",
       " 2             1    10  25      100      300\n",
       " 1             1    25  28      100      400)"
      ]
     },
     "execution_count": 31,
     "metadata": {},
     "output_type": "execute_result"
    }
   ],
   "source": [
    "graph = Structure_Stock(solutions, condition_storages, products, resources, consumtions, revenues, stocks, shifts)\n",
    "\n",
    "Best_Politic_Stock(graph, times, resources, stocks, solutions)"
   ]
  },
  {
   "cell_type": "code",
   "execution_count": 32,
   "metadata": {
    "collapsed": false
   },
   "outputs": [
    {
     "name": "stdout",
     "output_type": "stream",
     "text": [
      "{1: {'weight_goal': 50.0, 'not_best_politic': True, 'goal': array([1, 0, 0, 0, 1]), 'weight': 50.0, 'revenue': 100, 'time': 2, 'modus': 'LE'}}\n",
      "{1: {'weight_goal': 50.0, 'not_best_politic': False, 'goal': array([0, 0, 1, 0, 1]), 'weight': 50.0, 'revenue': 100, 'time': 2, 'modus': 'AA'}}\n"
     ]
    },
    {
     "data": {
      "text/plain": [
       "{0: [array([1, 1, 1, 0, 0]), 0.0, 0, 'KA', 0],\n",
       " 1: [array([1, 1, 1, 0, 1]), 120.0, 2, 'AA', 0.0],\n",
       " 2: [array([1, 1, 1, 0, 2]), 188.0, 2, 'AA', 20.0],\n",
       " 3: [array([1, 1, 1, 0, 3]), 229.20312, 2, 'AA', 38.0],\n",
       " 4: [array([1, 1, 0, 0, 0]), 0.0, 0, 'KA', 0],\n",
       " 5: [array([1, 1, 0, 0, 1]), 70.0, 2, 'AA', 0.0],\n",
       " 6: [array([1, 1, 0, 0, 2]), 113.0, 2, 'AA', 20.0],\n",
       " 8: [array([1, 0, 1, 0, 0]), 0.0, 0, 'KA', 0],\n",
       " 9: [array([1, 0, 1, 0, 1]), 100.0, 1, 'AA', 0.0],\n",
       " 10: [array([1, 0, 1, 0, 2]), 150.0, 1, 'AA', 50.0],\n",
       " 12: [array([1, 0, 0, 0, 0]), 0.0, 0, 'KA', 0],\n",
       " 13: [array([1, 0, 0, 0, 1]), 50.0, 1, 'AA', 0.0],\n",
       " 16: [array([0, 1, 1, 0, 0]), 0.0, 0, 'KA', 0],\n",
       " 17: [array([0, 1, 1, 0, 1]), 70.0, 2, 'AA', 0.0],\n",
       " 18: [array([0, 1, 1, 0, 2]), 113.0, 2, 'AA', 20.0],\n",
       " 20: [array([0, 1, 0, 0, 0]), 0.0, 0, 'KA', 0],\n",
       " 21: [array([0, 1, 0, 0, 1]), 20.0, 2, 'AA', 0.0],\n",
       " 24: [array([0, 0, 1, 0, 0]), 0.0, 0, 'KA', 0],\n",
       " 25: [array([0, 0, 1, 0, 1]), 50.0, 1, 'LE', 0.0],\n",
       " 28: [array([0, 0, 0, 0, 0]), 0.0, 0, 'KA', 0]}"
      ]
     },
     "execution_count": 32,
     "metadata": {},
     "output_type": "execute_result"
    }
   ],
   "source": [
    "print graph.edge[10][13]\n",
    "print graph.edge[10][25]\n",
    "\n",
    "solutions"
   ]
  },
  {
   "cell_type": "code",
   "execution_count": 33,
   "metadata": {
    "collapsed": false
   },
   "outputs": [
    {
     "ename": "AttributeError",
     "evalue": "'module' object has no attribute 'figure'",
     "output_type": "error",
     "traceback": [
      "\u001b[0;31m---------------------------------------------------------------------------\u001b[0m",
      "\u001b[0;31mAttributeError\u001b[0m                            Traceback (most recent call last)",
      "\u001b[0;32m<ipython-input-33-ec0a85ebe107>\u001b[0m in \u001b[0;36m<module>\u001b[0;34m()\u001b[0m\n\u001b[1;32m     11\u001b[0m         \u001b[0;31m# same layout using matplotlib with no labels\u001b[0m\u001b[0;34m\u001b[0m\u001b[0;34m\u001b[0m\u001b[0m\n\u001b[1;32m     12\u001b[0m \u001b[0mpos\u001b[0m\u001b[0;34m=\u001b[0m\u001b[0mnx\u001b[0m\u001b[0;34m.\u001b[0m\u001b[0mgraphviz_layout\u001b[0m\u001b[0;34m(\u001b[0m\u001b[0mdraw\u001b[0m\u001b[0;34m,\u001b[0m\u001b[0mprog\u001b[0m\u001b[0;34m=\u001b[0m\u001b[0;34m'dot'\u001b[0m\u001b[0;34m)\u001b[0m\u001b[0;34m\u001b[0m\u001b[0m\n\u001b[0;32m---> 13\u001b[0;31m \u001b[0mplt\u001b[0m\u001b[0;34m.\u001b[0m\u001b[0mfigure\u001b[0m\u001b[0;34m(\u001b[0m\u001b[0mfigsize\u001b[0m\u001b[0;34m=\u001b[0m\u001b[0;34m(\u001b[0m\u001b[0msize_x\u001b[0m\u001b[0;34m,\u001b[0m\u001b[0msize_y\u001b[0m\u001b[0;34m)\u001b[0m\u001b[0;34m)\u001b[0m\u001b[0;34m\u001b[0m\u001b[0m\n\u001b[0m\u001b[1;32m     14\u001b[0m \u001b[0mplt\u001b[0m\u001b[0;34m.\u001b[0m\u001b[0mtitle\u001b[0m\u001b[0;34m(\u001b[0m\u001b[0;34m\"Entscheidungsbaum\"\u001b[0m\u001b[0;34m)\u001b[0m\u001b[0;34m\u001b[0m\u001b[0m\n\u001b[1;32m     15\u001b[0m \u001b[0mnx\u001b[0m\u001b[0;34m.\u001b[0m\u001b[0mdraw\u001b[0m\u001b[0;34m(\u001b[0m\u001b[0mdraw\u001b[0m\u001b[0;34m,\u001b[0m\u001b[0mpos\u001b[0m\u001b[0;34m,\u001b[0m\u001b[0mwith_labels\u001b[0m\u001b[0;34m=\u001b[0m\u001b[0mTrue\u001b[0m\u001b[0;34m,\u001b[0m \u001b[0mnode_size\u001b[0m\u001b[0;34m=\u001b[0m\u001b[0;36m500\u001b[0m\u001b[0;34m)\u001b[0m\u001b[0;34m\u001b[0m\u001b[0m\n",
      "\u001b[0;31mAttributeError\u001b[0m: 'module' object has no attribute 'figure'"
     ]
    }
   ],
   "source": [
    "import matplotlib as plt\n",
    "\n",
    "draw = graph.copy()\n",
    "draw.remove_node('end')\n",
    "        # Quelle: http://stackoverflow.com/a/11484144/4913569\n",
    "        # ----\n",
    "        # write dot file to use with graphviz\n",
    "        # run \"dot -Tpng test.dot >test.png\"\n",
    "nx.write_dot(draw,'test.dot')\n",
    "\n",
    "        # same layout using matplotlib with no labels\n",
    "pos=nx.graphviz_layout(draw,prog='dot')\n",
    "plt.figure(figsize=(size_x,size_y))\n",
    "plt.title(\"Entscheidungsbaum\")\n",
    "nx.draw(draw,pos,with_labels=True, node_size=500)\n",
    "plt.savefig('GraphTest.png')"
   ]
  },
  {
   "cell_type": "code",
   "execution_count": null,
   "metadata": {
    "collapsed": false
   },
   "outputs": [],
   "source": [
    "Best_Politic(graph, times, resources, start=None)"
   ]
  },
  {
   "cell_type": "code",
   "execution_count": null,
   "metadata": {
    "collapsed": true
   },
   "outputs": [],
   "source": []
  }
 ],
 "metadata": {
  "kernelspec": {
   "display_name": "Python 2",
   "language": "python",
   "name": "python2"
  },
  "language_info": {
   "codemirror_mode": {
    "name": "ipython",
    "version": 2
   },
   "file_extension": ".py",
   "mimetype": "text/x-python",
   "name": "python",
   "nbconvert_exporter": "python",
   "pygments_lexer": "ipython2",
   "version": "2.7.10"
  }
 },
 "nbformat": 4,
 "nbformat_minor": 0
}
