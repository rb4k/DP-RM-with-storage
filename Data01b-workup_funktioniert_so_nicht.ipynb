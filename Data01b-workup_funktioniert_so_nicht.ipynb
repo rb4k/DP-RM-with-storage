{
 "cells": [
  {
   "cell_type": "code",
   "execution_count": 166,
   "metadata": {
    "collapsed": false
   },
   "outputs": [],
   "source": [
    "__version__ = '0.3'\n",
    "__author__  = \"Robert Matern (r.matern@stud.uni-hannover.de)\"\n",
    "__date__    = ''\n",
    "__url__     = ''\n",
    "__copyright__ = \"(C) 2015 Robert Matern\""
   ]
  },
  {
   "cell_type": "markdown",
   "metadata": {},
   "source": [
    "#Beispieldaten Nr. 1"
   ]
  },
  {
   "cell_type": "code",
   "execution_count": 167,
   "metadata": {
    "collapsed": false
   },
   "outputs": [],
   "source": [
    "# Funktionen werden hinzugeladen.\n",
    "%run Parameter.ipynb"
   ]
  },
  {
   "cell_type": "code",
   "execution_count": 168,
   "metadata": {
    "collapsed": false
   },
   "outputs": [
    {
     "name": "stdout",
     "output_type": "stream",
     "text": [
      "0:00:00.000263\n"
     ]
    }
   ],
   "source": [
    "# Produkte\n",
    "products = Product(2)\n",
    "\n",
    "# Ressourcen\n",
    "resources = Resource(1)\n",
    "\n",
    "#Kapazität\n",
    "capacities = Capacity(resources)\n",
    "capacities[1] = 2\n",
    "\n",
    "# Ressourcenverbrauch\n",
    "consumtions = Consumption(products, resources)\n",
    "consumtions[1] = [0,1]\n",
    "consumtions[2] = [0,7]\n",
    "\n",
    "# Erträge\n",
    "revenues = Revenue(products)\n",
    "revenues[1] = 100\n",
    "revenues[2] = 5000\n",
    "\n",
    "# Buchungshorizont\n",
    "times = Time(3)\n",
    "\n",
    "# Wahrscheinlichkeiten\n",
    "probs = Prob(products, times)\n",
    "probs[1] = [0, 0.5, 0.5, 0.5]\n",
    "probs[2] = [0, 0.5, 0.5, 0.5]\n",
    "\n",
    "# Gegenwahrscheinlichkeiten\n",
    "against_probs = Against_Prob(probs)\n",
    "probs[0] = against_probs\n",
    "\n",
    "# Tat. Nachfrage\n",
    "demands = Demand(products, times)\n",
    "demands[0] = [0, 1, 1, 1] # Keine Anfragen müssen immer möglich sein!\n",
    "demands[1] = [0, 1, 1, 1]\n",
    "demands[2] = [0, 0, 0, 0]\n",
    "\n",
    "# Systemzustände\n",
    "conditions = Condition(capacities, resources, times)\n",
    "\n",
    "\n",
    "# Endzeitpunkte\n",
    "#end_times = End_Time(conditions)"
   ]
  },
  {
   "cell_type": "markdown",
   "metadata": {},
   "source": [
    "inkl. Lagerhaltung"
   ]
  },
  {
   "cell_type": "code",
   "execution_count": 169,
   "metadata": {
    "collapsed": true
   },
   "outputs": [],
   "source": [
    "%run Parameter-storage2.ipynb"
   ]
  },
  {
   "cell_type": "code",
   "execution_count": 170,
   "metadata": {
    "collapsed": false
   },
   "outputs": [
    {
     "name": "stdout",
     "output_type": "stream",
     "text": [
      "0:00:00.001612\n"
     ]
    }
   ],
   "source": [
    "#Lagerbestand\n",
    "stocks = Stock(products)\n",
    "stocks[1] = 0\n",
    "stocks[2] = 5\n",
    "\n",
    "max_stocks = Max_Stock(products)\n",
    "max_stocks[1] = 2\n",
    "max_stocks[2] = 7\n",
    "\n",
    "#Lagerveränderung\n",
    "shifts = Shift(products)\n",
    "\n",
    "# Systemzustände\n",
    "condition_storages = Condition_Storage(capacities, resources, max_stocks, times)\n",
    "# Bei der Modelformulierung mit Lagerproduktion wird der Parameter 'max_stocks' benötigt."
   ]
  },
  {
   "cell_type": "code",
   "execution_count": 172,
   "metadata": {
    "collapsed": false
   },
   "outputs": [],
   "source": [
    "%run DynamicProgramm-storage.ipynb"
   ]
  },
  {
   "cell_type": "code",
   "execution_count": 173,
   "metadata": {
    "collapsed": false
   },
   "outputs": [
    {
     "name": "stdout",
     "output_type": "stream",
     "text": [
      "Systemzustand: [2 0 5] - Periode: 0 - Erwartungswert: 0.0 - Optimale Politik: 0 KA\n",
      "73 [2 0 5 1] [0 1] [ 0 -1  5] [0 1 5]\n",
      "True\n",
      "Systemzustand: [1 0 5] - Periode: 0 - Erwartungswert: 0.0 - Optimale Politik: 0 KA\n",
      "False\n",
      "True\n",
      "Systemzustand: [1 1 5] - Periode: 0 - Erwartungswert: 0.0 - Optimale Politik: 0 KA\n",
      "False\n",
      "True\n",
      "Systemzustand: [2 0 4] - Periode: 0 - Erwartungswert: 0.0 - Optimale Politik: 0 KA\n",
      "False\n",
      "Systemzustand: [2 0 5] - Periode: 1 - Erwartungswert: 2550.0 - Optimale Politik: 2 LE\n",
      "74 [2 0 5 2] [0 1] [ 0 -1  5] [0 1 5]\n",
      "True\n",
      "169 [1 0 5 1] [0 0] [ 0 -1  5] [0 1 5]\n",
      "True\n",
      "Systemzustand: [0 0 5] - Periode: 0 - Erwartungswert: 0.0 - Optimale Politik: 0 KA\n",
      "False\n",
      "True\n",
      "Systemzustand: [0 1 5] - Periode: 0 - Erwartungswert: 0.0 - Optimale Politik: 0 KA\n",
      "False\n",
      "True\n",
      "Systemzustand: [1 0 4] - Periode: 0 - Erwartungswert: 0.0 - Optimale Politik: 0 KA\n",
      "False\n",
      "Systemzustand: [1 0 5] - Periode: 1 - Erwartungswert: 2550.0 - Optimale Politik: 2 LE\n",
      "False\n",
      "True\n",
      "137 [1 1 5 1] [0 0] [0 0 5] [0 2 5]\n",
      "True\n",
      "True\n",
      "True\n",
      "Systemzustand: [0 2 5] - Periode: 0 - Erwartungswert: 0.0 - Optimale Politik: 0 KA\n",
      "False\n",
      "True\n",
      "Systemzustand: [1 1 4] - Periode: 0 - Erwartungswert: 0.0 - Optimale Politik: 0 KA\n",
      "False\n",
      "Systemzustand: [1 1 5] - Periode: 1 - Erwartungswert: 2600.0 - Optimale Politik: 2 LE\n",
      "False\n",
      "True\n",
      "77 [2 0 4 1] [0 1] [ 0 -1  4] [0 1 4]\n",
      "True\n",
      "False\n",
      "True\n",
      "False\n",
      "True\n",
      "Systemzustand: [2 0 3] - Periode: 0 - Erwartungswert: 0.0 - Optimale Politik: 0 KA\n",
      "False\n",
      "Systemzustand: [2 0 4] - Periode: 1 - Erwartungswert: 2550.0 - Optimale Politik: 2 LE\n",
      "False\n",
      "Systemzustand: [2 0 5] - Periode: 2 - Erwartungswert: 5125.0 - Optimale Politik: 2 LE\n",
      "75 [2 0 5 3] [0 1] [ 0 -1  5] [0 1 5]\n",
      "True\n",
      "170 [1 0 5 2] [0 0] [ 0 -1  5] [0 1 5]\n",
      "True\n",
      "265 [0 0 5 1] [ 0 -1] [ 0 -1  5] [0 1 5]\n",
      "False\n",
      "False\n",
      "False\n",
      "False\n",
      "True\n",
      "Systemzustand: [0 0 4] - Periode: 0 - Erwartungswert: 0.0 - Optimale Politik: 0 KA\n",
      "False\n",
      "Systemzustand: [0 0 5] - Periode: 1 - Erwartungswert: 2500.0 - Optimale Politik: 2 LE\n",
      "False\n",
      "True\n",
      "233 [0 1 5 1] [ 0 -1] [0 0 5] [0 2 5]\n",
      "False\n",
      "True\n",
      "False\n",
      "False\n",
      "True\n",
      "Systemzustand: [0 1 4] - Periode: 0 - Erwartungswert: 0.0 - Optimale Politik: 0 KA\n",
      "False\n",
      "Systemzustand: [0 1 5] - Periode: 1 - Erwartungswert: 2550.0 - Optimale Politik: 2 LE\n",
      "False\n",
      "True\n",
      "173 [1 0 4 1] [0 0] [ 0 -1  4] [0 1 4]\n",
      "True\n",
      "False\n",
      "True\n",
      "False\n",
      "True\n",
      "Systemzustand: [1 0 3] - Periode: 0 - Erwartungswert: 0.0 - Optimale Politik: 0 KA\n",
      "False\n",
      "Systemzustand: [1 0 4] - Periode: 1 - Erwartungswert: 2550.0 - Optimale Politik: 2 LE\n",
      "False\n",
      "Systemzustand: [1 0 5] - Periode: 2 - Erwartungswert: 5075.0 - Optimale Politik: 2 LE\n",
      "False\n",
      "True\n",
      "138 [1 1 5 2] [0 0] [0 0 5] [0 2 5]\n",
      "True\n",
      "True\n",
      "True\n",
      "201 [0 2 5 1] [ 0 -1] [0 1 5] [0 3 5]\n",
      "False\n",
      "True\n",
      "False\n",
      "False\n",
      "True\n",
      "Systemzustand: [0 2 4] - Periode: 0 - Erwartungswert: 0.0 - Optimale Politik: 0 KA\n",
      "False\n",
      "Systemzustand: [0 2 5] - Periode: 1 - Erwartungswert: 2550.0 - Optimale Politik: 2 LE\n",
      "False\n",
      "True\n",
      "141 [1 1 4 1] [0 0] [0 0 4] [0 2 4]\n",
      "True\n",
      "True\n",
      "True\n",
      "False\n",
      "True\n",
      "Systemzustand: [1 1 3] - Periode: 0 - Erwartungswert: 0.0 - Optimale Politik: 0 KA\n",
      "False\n",
      "Systemzustand: [1 1 4] - Periode: 1 - Erwartungswert: 2600.0 - Optimale Politik: 2 LE\n",
      "False\n",
      "Systemzustand: [1 1 5] - Periode: 2 - Erwartungswert: 5149.0 - Optimale Politik: 2 LE\n",
      "False\n",
      "True\n",
      "78 [2 0 4 2] [0 1] [ 0 -1  4] [0 1 4]\n",
      "True\n",
      "False\n",
      "True\n",
      "False\n",
      "True\n",
      "81 [2 0 3 1] [0 1] [ 0 -1  3] [0 1 3]\n",
      "True\n",
      "False\n",
      "True\n",
      "False\n",
      "True\n",
      "Systemzustand: [2 0 2] - Periode: 0 - Erwartungswert: 0.0 - Optimale Politik: 0 KA\n",
      "False\n",
      "Systemzustand: [2 0 3] - Periode: 1 - Erwartungswert: 2550.0 - Optimale Politik: 2 LE\n",
      "False\n",
      "Systemzustand: [2 0 4] - Periode: 2 - Erwartungswert: 5125.0 - Optimale Politik: 2 LE\n",
      "False\n",
      "Systemzustand: [2 0 5] - Periode: 3 - Erwartungswert: 7662.0 - Optimale Politik: 2 LE\n"
     ]
    },
    {
     "data": {
      "text/plain": [
       "{72: [array([2, 0, 5, 0]), 0.0, 0, 'KA'],\n",
       " 73: [array([2, 0, 5, 1]), 2550.0, 2, 'LE'],\n",
       " 74: [array([2, 0, 5, 2]), 5125.0, 2, 'LE'],\n",
       " 75: [array([2, 0, 5, 3]), 7662.0, 2, 'LE'],\n",
       " 76: [array([2, 0, 4, 0]), 0.0, 0, 'KA'],\n",
       " 77: [array([2, 0, 4, 1]), 2550.0, 2, 'LE'],\n",
       " 78: [array([2, 0, 4, 2]), 5125.0, 2, 'LE'],\n",
       " 80: [array([2, 0, 3, 0]), 0.0, 0, 'KA'],\n",
       " 81: [array([2, 0, 3, 1]), 2550.0, 2, 'LE'],\n",
       " 84: [array([2, 0, 2, 0]), 0.0, 0, 'KA'],\n",
       " 136: [array([1, 1, 5, 0]), 0.0, 0, 'KA'],\n",
       " 137: [array([1, 1, 5, 1]), 2600.0, 2, 'LE'],\n",
       " 138: [array([1, 1, 5, 2]), 5149.0, 2, 'LE'],\n",
       " 140: [array([1, 1, 4, 0]), 0.0, 0, 'KA'],\n",
       " 141: [array([1, 1, 4, 1]), 2600.0, 2, 'LE'],\n",
       " 144: [array([1, 1, 3, 0]), 0.0, 0, 'KA'],\n",
       " 168: [array([1, 0, 5, 0]), 0.0, 0, 'KA'],\n",
       " 169: [array([1, 0, 5, 1]), 2550.0, 2, 'LE'],\n",
       " 170: [array([1, 0, 5, 2]), 5075.0, 2, 'LE'],\n",
       " 172: [array([1, 0, 4, 0]), 0.0, 0, 'KA'],\n",
       " 173: [array([1, 0, 4, 1]), 2550.0, 2, 'LE'],\n",
       " 176: [array([1, 0, 3, 0]), 0.0, 0, 'KA'],\n",
       " 200: [array([0, 2, 5, 0]), 0.0, 0, 'KA'],\n",
       " 201: [array([0, 2, 5, 1]), 2550.0, 2, 'LE'],\n",
       " 204: [array([0, 2, 4, 0]), 0.0, 0, 'KA'],\n",
       " 232: [array([0, 1, 5, 0]), 0.0, 0, 'KA'],\n",
       " 233: [array([0, 1, 5, 1]), 2550.0, 2, 'LE'],\n",
       " 236: [array([0, 1, 4, 0]), 0.0, 0, 'KA'],\n",
       " 264: [array([0, 0, 5, 0]), 0.0, 0, 'KA'],\n",
       " 265: [array([0, 0, 5, 1]), 2500.0, 2, 'LE'],\n",
       " 268: [array([0, 0, 4, 0]), 0.0, 0, 'KA']}"
      ]
     },
     "execution_count": 173,
     "metadata": {},
     "output_type": "execute_result"
    }
   ],
   "source": [
    "DP_Storage(solutions, condition_storages, products, resources, capacities, consumtions, times, probs, stocks, shifts, max_stocks)\n",
    "solutions\n",
    "\n",
    "# Noch falsch, da bei c=0,y=(0;1),t=2 nicht 2 AA"
   ]
  },
  {
   "cell_type": "code",
   "execution_count": 174,
   "metadata": {
    "collapsed": false
   },
   "outputs": [
    {
     "ename": "NameError",
     "evalue": "name 'Structure_Storage' is not defined",
     "output_type": "error",
     "traceback": [
      "\u001b[0;31m---------------------------------------------------------------------------\u001b[0m",
      "\u001b[0;31mNameError\u001b[0m                                 Traceback (most recent call last)",
      "\u001b[0;32m<ipython-input-174-c66828b41abf>\u001b[0m in \u001b[0;36m<module>\u001b[0;34m()\u001b[0m\n\u001b[0;32m----> 1\u001b[0;31m \u001b[0mgraph\u001b[0m \u001b[0;34m=\u001b[0m \u001b[0mStructure_Storage\u001b[0m\u001b[0;34m(\u001b[0m\u001b[0msolutions\u001b[0m\u001b[0;34m,\u001b[0m \u001b[0mcondition_storages\u001b[0m\u001b[0;34m,\u001b[0m \u001b[0mproducts\u001b[0m\u001b[0;34m,\u001b[0m \u001b[0mconsumtions\u001b[0m\u001b[0;34m,\u001b[0m \u001b[0mrevenues\u001b[0m\u001b[0;34m,\u001b[0m \u001b[0mstocks\u001b[0m\u001b[0;34m,\u001b[0m \u001b[0mshifts\u001b[0m\u001b[0;34m)\u001b[0m\u001b[0;34m\u001b[0m\u001b[0m\n\u001b[0m\u001b[1;32m      2\u001b[0m \u001b[0;34m\u001b[0m\u001b[0m\n\u001b[1;32m      3\u001b[0m \u001b[0mBest_Politic_Storage\u001b[0m\u001b[0;34m(\u001b[0m\u001b[0mgraph\u001b[0m\u001b[0;34m,\u001b[0m \u001b[0mtimes\u001b[0m\u001b[0;34m,\u001b[0m \u001b[0mresources\u001b[0m\u001b[0;34m)\u001b[0m\u001b[0;34m\u001b[0m\u001b[0m\n",
      "\u001b[0;31mNameError\u001b[0m: name 'Structure_Storage' is not defined"
     ]
    }
   ],
   "source": [
    "graph = Structure_Storage(solutions, condition_storages, products, consumtions, revenues, stocks, shifts)\n",
    "\n",
    "Best_Politic_Storage(graph, times, resources)"
   ]
  },
  {
   "cell_type": "code",
   "execution_count": null,
   "metadata": {
    "collapsed": false
   },
   "outputs": [],
   "source": [
    "print graph.edge[10][13]\n",
    "print graph.edge[10][25]\n",
    "\n",
    "solutions"
   ]
  },
  {
   "cell_type": "code",
   "execution_count": null,
   "metadata": {
    "collapsed": false
   },
   "outputs": [],
   "source": [
    "import matplotlib as plt\n",
    "\n",
    "draw = graph.copy()\n",
    "draw.remove_node('end')\n",
    "        # Quelle: http://stackoverflow.com/a/11484144/4913569\n",
    "        # ----\n",
    "        # write dot file to use with graphviz\n",
    "        # run \"dot -Tpng test.dot >test.png\"\n",
    "nx.write_dot(draw,'test.dot')\n",
    "\n",
    "        # same layout using matplotlib with no labels\n",
    "pos=nx.graphviz_layout(draw,prog='dot')\n",
    "plt.figure(figsize=(size_x,size_y))\n",
    "plt.title(\"Entscheidungsbaum\")\n",
    "nx.draw(draw,pos,with_labels=True, node_size=500)\n",
    "plt.savefig('GraphTest.png')"
   ]
  },
  {
   "cell_type": "code",
   "execution_count": null,
   "metadata": {
    "collapsed": false
   },
   "outputs": [],
   "source": [
    "Best_Politic(graph, times, resources, start=None)"
   ]
  },
  {
   "cell_type": "code",
   "execution_count": null,
   "metadata": {
    "collapsed": false
   },
   "outputs": [],
   "source": [
    "import numpy as np\n",
    "test = np.array([1, 3, 3])\n",
    "test2 = np.array([2, 2, 2])\n",
    "\n",
    "print np.all(test > test2)"
   ]
  }
 ],
 "metadata": {
  "kernelspec": {
   "display_name": "Python 2",
   "language": "python",
   "name": "python2"
  },
  "language_info": {
   "codemirror_mode": {
    "name": "ipython",
    "version": 2
   },
   "file_extension": ".py",
   "mimetype": "text/x-python",
   "name": "python",
   "nbconvert_exporter": "python",
   "pygments_lexer": "ipython2",
   "version": "2.7.10"
  }
 },
 "nbformat": 4,
 "nbformat_minor": 0
}
