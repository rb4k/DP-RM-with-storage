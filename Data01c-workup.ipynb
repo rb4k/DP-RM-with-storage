{
 "cells": [
  {
   "cell_type": "code",
   "execution_count": 10,
   "metadata": {
    "collapsed": false
   },
   "outputs": [],
   "source": [
    "__version__ = '0.3'\n",
    "__author__  = \"Robert Matern (r.matern@stud.uni-hannover.de)\"\n",
    "__date__    = ''\n",
    "__url__     = ''\n",
    "__copyright__ = \"(C) 2015 Robert Matern\""
   ]
  },
  {
   "cell_type": "markdown",
   "metadata": {},
   "source": [
    "#Beispieldaten Nr. 1"
   ]
  },
  {
   "cell_type": "code",
   "execution_count": 11,
   "metadata": {
    "collapsed": false
   },
   "outputs": [],
   "source": [
    "# Funktionen werden hinzugeladen.\n",
    "%run Parameter.ipynb"
   ]
  },
  {
   "cell_type": "code",
   "execution_count": 12,
   "metadata": {
    "collapsed": false
   },
   "outputs": [
    {
     "name": "stdout",
     "output_type": "stream",
     "text": [
      "0:00:00.000267\n"
     ]
    }
   ],
   "source": [
    "# Produkte\n",
    "products = Product(2)\n",
    "\n",
    "# Ressourcen\n",
    "resources = Resource(1)\n",
    "\n",
    "#Kapazität\n",
    "capacities = Capacity(resources)\n",
    "capacities[1] = 2\n",
    "\n",
    "# Ressourcenverbrauch\n",
    "consumtions = Consumption(products, resources)\n",
    "consumtions[1] = [0,1]\n",
    "consumtions[2] = [0,7]\n",
    "\n",
    "# Erträge\n",
    "revenues = Revenue(products)\n",
    "revenues[1] = 100\n",
    "revenues[2] = 5000\n",
    "\n",
    "# Buchungshorizont\n",
    "times = Time(3)\n",
    "\n",
    "# Wahrscheinlichkeiten\n",
    "probs = Prob(products, times)\n",
    "probs[1] = [0, 0.5, 0.5, 0.5]\n",
    "probs[2] = [0, 0.5, 0.5, 0.5]\n",
    "\n",
    "# Gegenwahrscheinlichkeiten\n",
    "against_probs = Against_Prob(probs)\n",
    "probs[0] = against_probs\n",
    "\n",
    "# Tat. Nachfrage\n",
    "demands = Demand(products, times)\n",
    "demands[0] = [0, 1, 1, 1] # Keine Anfragen müssen immer möglich sein!\n",
    "demands[1] = [0, 0, 1, 1]\n",
    "demands[2] = [0, 1, 0, 0]\n",
    "\n",
    "# Systemzustände\n",
    "conditions = Condition(capacities, resources, times)\n",
    "\n",
    "\n",
    "# Endzeitpunkte\n",
    "#end_times = End_Time(conditions)"
   ]
  },
  {
   "cell_type": "markdown",
   "metadata": {},
   "source": [
    "inkl. Lagerhaltung"
   ]
  },
  {
   "cell_type": "code",
   "execution_count": 13,
   "metadata": {
    "collapsed": false
   },
   "outputs": [],
   "source": [
    "%run Parameter-storage.ipynb"
   ]
  },
  {
   "cell_type": "code",
   "execution_count": 14,
   "metadata": {
    "collapsed": false
   },
   "outputs": [
    {
     "name": "stdout",
     "output_type": "stream",
     "text": [
      "0:00:00.000440\n"
     ]
    }
   ],
   "source": [
    "#Lagerbestand\n",
    "stock_resources = Stock_Resource(resources)\n",
    "stock_resources[1] = 5\n",
    "\n",
    "max_stock_resources = Max_Stock_Resource(resources)\n",
    "max_stock_resources[1] = 7\n",
    "\n",
    "#Lagerveränderung\n",
    "#shifts = Shift(products)\n",
    "\n",
    "# Systemzustände\n",
    "condition_storages = Condition_Storage(capacities, resources, max_stock_resources, times)\n",
    "# Bei der Modelformulierung mit Lagerproduktion wird der Parameter 'max_stocks' benötigt."
   ]
  },
  {
   "cell_type": "code",
   "execution_count": 15,
   "metadata": {
    "collapsed": false
   },
   "outputs": [],
   "source": [
    "%run DynamicProgramm-workup.ipynb"
   ]
  },
  {
   "cell_type": "code",
   "execution_count": 16,
   "metadata": {
    "collapsed": false
   },
   "outputs": [
    {
     "name": "stdout",
     "output_type": "stream",
     "text": [
      "Systemzustand: [2 5] - Periode: 0 - Erwartungswert: 0.0 - Optimale Politik: 0 KA\n",
      "Systemzustand: [1 5] - Periode: 0 - Erwartungswert: 0.0 - Optimale Politik: 0 KA\n",
      "Systemzustand: [2 4] - Periode: 0 - Erwartungswert: 0.0 - Optimale Politik: 0 KA\n",
      "Systemzustand: [1 6] - Periode: 0 - Erwartungswert: 0.0 - Optimale Politik: 0 KA\n",
      "Systemzustand: [2 5] - Periode: 1 - Erwartungswert: 100.0 - Optimale Politik: 1 AA\n",
      "Systemzustand: [0 5] - Periode: 0 - Erwartungswert: 0.0 - Optimale Politik: 0 KA\n",
      "Systemzustand: [1 4] - Periode: 0 - Erwartungswert: 0.0 - Optimale Politik: 0 KA\n",
      "Systemzustand: [0 6] - Periode: 0 - Erwartungswert: 0.0 - Optimale Politik: 0 KA\n",
      "Systemzustand: [1 5] - Periode: 1 - Erwartungswert: 100.0 - Optimale Politik: 1 AA\n",
      "Systemzustand: [2 3] - Periode: 0 - Erwartungswert: 0.0 - Optimale Politik: 0 KA\n",
      "Systemzustand: [2 4] - Periode: 1 - Erwartungswert: 100.0 - Optimale Politik: 1 AA\n",
      "Systemzustand: [0 7] - Periode: 0 - Erwartungswert: 0.0 - Optimale Politik: 0 KA\n",
      "Systemzustand: [1 6] - Periode: 1 - Erwartungswert: 100.0 - Optimale Politik: 1 AA\n",
      "Systemzustand: [2 5] - Periode: 2 - Erwartungswert: 200.0 - Optimale Politik: 1 AA\n",
      "Systemzustand: [0 4] - Periode: 0 - Erwartungswert: 0.0 - Optimale Politik: 0 KA\n",
      "Systemzustand: [0 5] - Periode: 1 - Erwartungswert: 50.0 - Optimale Politik: 1 LE\n",
      "Systemzustand: [1 3] - Periode: 0 - Erwartungswert: 0.0 - Optimale Politik: 0 KA\n",
      "Systemzustand: [1 4] - Periode: 1 - Erwartungswert: 100.0 - Optimale Politik: 1 AA\n",
      "Systemzustand: [0 6] - Periode: 1 - Erwartungswert: 50.0 - Optimale Politik: 1 LE\n",
      "Systemzustand: [1 5] - Periode: 2 - Erwartungswert: 175.0 - Optimale Politik: 1 LE\n",
      "Systemzustand: [2 2] - Periode: 0 - Erwartungswert: 0.0 - Optimale Politik: 0 KA\n",
      "Systemzustand: [2 3] - Periode: 1 - Erwartungswert: 100.0 - Optimale Politik: 1 AA\n",
      "Systemzustand: [2 4] - Periode: 2 - Erwartungswert: 200.0 - Optimale Politik: 1 AA\n",
      "Systemzustand: [0 0] - Periode: 0 - Erwartungswert: 0.0 - Optimale Politik: 0 KA\n",
      "Systemzustand: [0 7] - Periode: 1 - Erwartungswert: 2550.0 - Optimale Politik: 2 LE\n",
      "Systemzustand: [1 6] - Periode: 2 - Erwartungswert: 1400.0 - Optimale Politik: 1 LP\n",
      "Systemzustand: [2 5] - Periode: 3 - Erwartungswert: 887.5 - Optimale Politik: 1 LP\n"
     ]
    },
    {
     "data": {
      "text/plain": [
       "{8: [array([2, 5, 0]), 0.0, 0, 'KA', 0],\n",
       " 9: [array([2, 5, 1]), 100.0, 1, 'AA', 0.0],\n",
       " 10: [array([2, 5, 2]), 200.0, 1, 'AA', 0.0],\n",
       " 11: [array([2, 5, 3]), 887.5, 1, 'LP', -1200.0],\n",
       " 12: [array([2, 4, 0]), 0.0, 0, 'KA', 0],\n",
       " 13: [array([2, 4, 1]), 100.0, 1, 'AA', 0.0],\n",
       " 14: [array([2, 4, 2]), 200.0, 1, 'AA', 0.0],\n",
       " 16: [array([2, 3, 0]), 0.0, 0, 'KA', 0],\n",
       " 17: [array([2, 3, 1]), 100.0, 1, 'AA', 0.0],\n",
       " 20: [array([2, 2, 0]), 0.0, 0, 'KA', 0],\n",
       " 36: [array([1, 6, 0]), 0.0, 0, 'KA', 0],\n",
       " 37: [array([1, 6, 1]), 100.0, 1, 'AA', 0.0],\n",
       " 38: [array([1, 6, 2]), 1400.0, 1, 'LP', -2450.0],\n",
       " 40: [array([1, 5, 0]), 0.0, 0, 'KA', 0],\n",
       " 41: [array([1, 5, 1]), 100.0, 1, 'AA', 0.0],\n",
       " 42: [array([1, 5, 2]), 175.0, 1, 'LE', 0.0],\n",
       " 44: [array([1, 4, 0]), 0.0, 0, 'KA', 0],\n",
       " 45: [array([1, 4, 1]), 100.0, 1, 'AA', 0.0],\n",
       " 48: [array([1, 3, 0]), 0.0, 0, 'KA', 0],\n",
       " 64: [array([0, 7, 0]), 0.0, 0, 'KA', 0],\n",
       " 65: [array([0, 7, 1]), 2550.0, 2, 'LE', 0.0],\n",
       " 68: [array([0, 6, 0]), 0.0, 0, 'KA', 0],\n",
       " 69: [array([0, 6, 1]), 50.0, 1, 'LE', 0.0],\n",
       " 72: [array([0, 5, 0]), 0.0, 0, 'KA', 0],\n",
       " 73: [array([0, 5, 1]), 50.0, 1, 'LE', 0.0],\n",
       " 76: [array([0, 4, 0]), 0.0, 0, 'KA', 0],\n",
       " 92: [array([0, 0, 0]), 0.0, 0, 'KA', 0]}"
      ]
     },
     "execution_count": 16,
     "metadata": {},
     "output_type": "execute_result"
    }
   ],
   "source": [
    "DP_Workup(solutions, condition_storages, products, resources, capacities, consumtions, times, probs, stock_resources, max_stock_resources)\n",
    "solutions"
   ]
  },
  {
   "cell_type": "code",
   "execution_count": 17,
   "metadata": {
    "collapsed": false
   },
   "outputs": [
    {
     "name": "stdout",
     "output_type": "stream",
     "text": [
      "Optimalen Politik zum Zeitpunkt \"t\" und unter Beachtung der Restkapazitäten \"c[h]\": \n",
      "\n",
      "     Value         Successor  Res_Cap1  Stock1  Time  Best Order Modus    OC\n",
      "11   887.5  [10, 38, 42, 14]         2       5     3           1    LP -1200\n",
      "38  1400.0  [41, 37, 65, 69]         1       6     2           1    LP -2450\n",
      "65  2550.0      [64, 92, 68]         0       7     1           2    LE     0\n",
      "92     0.0             [end]         0       0     0           0     -     0\n",
      "42   175.0  [41, 45, 69, 73]         1       5     2           1    LE     0\n",
      "69    50.0          [72, 68]         0       6     1           1    LE     0\n",
      "73    50.0          [72, 76]         0       5     1           1    LE     0\n",
      "14   200.0  [17, 41, 13, 45]         2       4     2           1    AA     0\n",
      "17   100.0  [16, 48, 20, 44]         2       3     1           1    AA     0\n",
      "20     0.0             [end]         2       2     0           0     -     0\n",
      "45   100.0  [48, 76, 44, 72]         1       4     1           1    AA     0\n",
      "48     0.0             [end]         1       3     0           0     -     0\n",
      "76     0.0             [end]         0       4     0           0     -     0\n",
      "10   200.0   [9, 37, 13, 41]         2       5     2           1    AA     0\n",
      "37   100.0  [40, 68, 36, 64]         1       6     1           1    AA     0\n",
      "64     0.0             [end]         0       7     0           0     -     0\n",
      "13   100.0  [16, 44, 12, 40]         2       4     1           1    AA     0\n",
      "16     0.0             [end]         2       3     0           0     -     0\n",
      "41   100.0  [40, 72, 44, 68]         1       5     1           1    AA     0\n",
      "72     0.0             [end]         0       5     0           0     -     0\n",
      "44     0.0             [end]         1       4     0           0     -     0\n",
      "68     0.0             [end]         0       6     0           0     -     0\n",
      "9    100.0   [8, 40, 12, 36]         2       5     1           1    AA     0\n",
      "40     0.0             [end]         1       5     0           0     -     0\n",
      "12     0.0             [end]         2       4     0           0     -     0\n",
      "36     0.0             [end]         1       6     0           0     -     0\n",
      "8      0.0             [end]         2       5     0           0     -     0 \n",
      "\n",
      "   Opt. Politic  from  to  Revenue  Cum_Rev\n",
      "3             1    11  38        0        0\n",
      "2             1    38  65        0        0\n",
      "1             2    65  92     5000     5000 \n",
      "\n"
     ]
    },
    {
     "data": {
      "text/plain": [
       "(     Value         Successor  Res_Cap1  Stock1  Time  Best Order Modus    OC\n",
       " 11   887.5  [10, 38, 42, 14]         2       5     3           1    LP -1200\n",
       " 38  1400.0  [41, 37, 65, 69]         1       6     2           1    LP -2450\n",
       " 65  2550.0      [64, 92, 68]         0       7     1           2    LE     0\n",
       " 92     0.0             [end]         0       0     0           0     -     0\n",
       " 42   175.0  [41, 45, 69, 73]         1       5     2           1    LE     0\n",
       " 69    50.0          [72, 68]         0       6     1           1    LE     0\n",
       " 73    50.0          [72, 76]         0       5     1           1    LE     0\n",
       " 14   200.0  [17, 41, 13, 45]         2       4     2           1    AA     0\n",
       " 17   100.0  [16, 48, 20, 44]         2       3     1           1    AA     0\n",
       " 20     0.0             [end]         2       2     0           0     -     0\n",
       " 45   100.0  [48, 76, 44, 72]         1       4     1           1    AA     0\n",
       " 48     0.0             [end]         1       3     0           0     -     0\n",
       " 76     0.0             [end]         0       4     0           0     -     0\n",
       " 10   200.0   [9, 37, 13, 41]         2       5     2           1    AA     0\n",
       " 37   100.0  [40, 68, 36, 64]         1       6     1           1    AA     0\n",
       " 64     0.0             [end]         0       7     0           0     -     0\n",
       " 13   100.0  [16, 44, 12, 40]         2       4     1           1    AA     0\n",
       " 16     0.0             [end]         2       3     0           0     -     0\n",
       " 41   100.0  [40, 72, 44, 68]         1       5     1           1    AA     0\n",
       " 72     0.0             [end]         0       5     0           0     -     0\n",
       " 44     0.0             [end]         1       4     0           0     -     0\n",
       " 68     0.0             [end]         0       6     0           0     -     0\n",
       " 9    100.0   [8, 40, 12, 36]         2       5     1           1    AA     0\n",
       " 40     0.0             [end]         1       5     0           0     -     0\n",
       " 12     0.0             [end]         2       4     0           0     -     0\n",
       " 36     0.0             [end]         1       6     0           0     -     0\n",
       " 8      0.0             [end]         2       5     0           0     -     0,\n",
       "    Opt. Politic  from  to  Revenue  Cum_Rev\n",
       " 3             1    11  38        0        0\n",
       " 2             1    38  65        0        0\n",
       " 1             2    65  92     5000     5000)"
      ]
     },
     "execution_count": 17,
     "metadata": {},
     "output_type": "execute_result"
    }
   ],
   "source": [
    "graph = Structure_Workup(solutions, condition_storages, products, resources, consumtions, revenues, stock_resources, max_stock_resources)\n",
    "\n",
    "Best_Politic_Stock(graph, times, resources, stock_resources, solutions)"
   ]
  },
  {
   "cell_type": "code",
   "execution_count": 18,
   "metadata": {
    "collapsed": false
   },
   "outputs": [
    {
     "name": "stdout",
     "output_type": "stream",
     "text": [
      "{1: {'weight_goal': 100.0, 'not_best_politic': True, 'goal': array([2, 4, 1]), 'weight': 100.0, 'revenue': 100, 'time': 2, 'modus': 'LE'}}\n"
     ]
    },
    {
     "ename": "KeyError",
     "evalue": "25",
     "output_type": "error",
     "traceback": [
      "\u001b[0;31m---------------------------------------------------------------------------\u001b[0m",
      "\u001b[0;31mKeyError\u001b[0m                                  Traceback (most recent call last)",
      "\u001b[0;32m<ipython-input-18-60247497b00a>\u001b[0m in \u001b[0;36m<module>\u001b[0;34m()\u001b[0m\n\u001b[1;32m      1\u001b[0m \u001b[0;32mprint\u001b[0m \u001b[0mgraph\u001b[0m\u001b[0;34m.\u001b[0m\u001b[0medge\u001b[0m\u001b[0;34m[\u001b[0m\u001b[0;36m10\u001b[0m\u001b[0;34m]\u001b[0m\u001b[0;34m[\u001b[0m\u001b[0;36m13\u001b[0m\u001b[0;34m]\u001b[0m\u001b[0;34m\u001b[0m\u001b[0m\n\u001b[0;32m----> 2\u001b[0;31m \u001b[0;32mprint\u001b[0m \u001b[0mgraph\u001b[0m\u001b[0;34m.\u001b[0m\u001b[0medge\u001b[0m\u001b[0;34m[\u001b[0m\u001b[0;36m10\u001b[0m\u001b[0;34m]\u001b[0m\u001b[0;34m[\u001b[0m\u001b[0;36m25\u001b[0m\u001b[0;34m]\u001b[0m\u001b[0;34m\u001b[0m\u001b[0m\n\u001b[0m\u001b[1;32m      3\u001b[0m \u001b[0;34m\u001b[0m\u001b[0m\n\u001b[1;32m      4\u001b[0m \u001b[0msolutions\u001b[0m\u001b[0;34m\u001b[0m\u001b[0m\n",
      "\u001b[0;31mKeyError\u001b[0m: 25"
     ]
    }
   ],
   "source": [
    "print graph.edge[10][13]\n",
    "print graph.edge[10][25]\n",
    "\n",
    "solutions"
   ]
  },
  {
   "cell_type": "code",
   "execution_count": null,
   "metadata": {
    "collapsed": false
   },
   "outputs": [],
   "source": [
    "import matplotlib as plt\n",
    "\n",
    "draw = graph.copy()\n",
    "draw.remove_node('end')\n",
    "        # Quelle: http://stackoverflow.com/a/11484144/4913569\n",
    "        # ----\n",
    "        # write dot file to use with graphviz\n",
    "        # run \"dot -Tpng test.dot >test.png\"\n",
    "nx.write_dot(draw,'test.dot')\n",
    "\n",
    "        # same layout using matplotlib with no labels\n",
    "pos=nx.graphviz_layout(draw,prog='dot')\n",
    "plt.figure(figsize=(size_x,size_y))\n",
    "plt.title(\"Entscheidungsbaum\")\n",
    "nx.draw(draw,pos,with_labels=True, node_size=500)\n",
    "plt.savefig('GraphTest.png')"
   ]
  },
  {
   "cell_type": "code",
   "execution_count": null,
   "metadata": {
    "collapsed": false
   },
   "outputs": [],
   "source": [
    "Best_Politic(graph, times, resources, start=None)"
   ]
  },
  {
   "cell_type": "code",
   "execution_count": null,
   "metadata": {
    "collapsed": false
   },
   "outputs": [],
   "source": [
    "import numpy as np\n",
    "test = np.array([1, 3, 3])\n",
    "test2 = np.array([2, 2, 2])\n",
    "\n",
    "print np.all(test > test2)"
   ]
  }
 ],
 "metadata": {
  "kernelspec": {
   "display_name": "Python 2",
   "language": "python",
   "name": "python2"
  },
  "language_info": {
   "codemirror_mode": {
    "name": "ipython",
    "version": 2
   },
   "file_extension": ".py",
   "mimetype": "text/x-python",
   "name": "python",
   "nbconvert_exporter": "python",
   "pygments_lexer": "ipython2",
   "version": "2.7.10"
  }
 },
 "nbformat": 4,
 "nbformat_minor": 0
}
