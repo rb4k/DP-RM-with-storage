{
 "cells": [
  {
   "cell_type": "code",
   "execution_count": 248,
   "metadata": {
    "collapsed": false
   },
   "outputs": [],
   "source": [
    "__version__ = '0.3'\n",
    "__author__  = \"Robert Matern (r.matern@stud.uni-hannover.de)\"\n",
    "__date__    = ''\n",
    "__url__     = ''\n",
    "__copyright__ = \"(C) 2015 Robert Matern\""
   ]
  },
  {
   "cell_type": "markdown",
   "metadata": {},
   "source": [
    "#Beispieldaten Nr. 1"
   ]
  },
  {
   "cell_type": "code",
   "execution_count": 249,
   "metadata": {
    "collapsed": false
   },
   "outputs": [],
   "source": [
    "# Funktionen werden hinzugeladen.\n",
    "%run Parameter.ipynb"
   ]
  },
  {
   "cell_type": "code",
   "execution_count": 250,
   "metadata": {
    "collapsed": false
   },
   "outputs": [
    {
     "name": "stdout",
     "output_type": "stream",
     "text": [
      "0:00:00.000350\n"
     ]
    }
   ],
   "source": [
    "# Produkte\n",
    "products = Product(2)\n",
    "\n",
    "# Ressourcen\n",
    "resources = Resource(1)\n",
    "\n",
    "#Kapazität\n",
    "capacities = Capacity(resources)\n",
    "capacities[1] = 2\n",
    "\n",
    "# Ressourcenverbrauch\n",
    "consumtions = Consumption(products, resources)\n",
    "consumtions[1] = [0,1]\n",
    "consumtions[2] = [0,6]\n",
    "\n",
    "# Erträge\n",
    "revenues = Revenue(products)\n",
    "revenues[1] = 100\n",
    "revenues[2] = 200\n",
    "\n",
    "# Buchungshorizont\n",
    "times = Time(4)\n",
    "\n",
    "# Wahrscheinlichkeiten\n",
    "probs = Prob(products, times)\n",
    "probs[1] = [0, 0.5, 0.5, 0.5, 0.5]\n",
    "probs[2] = [0, 0.1, 0.1, 0.1, 0.1]\n",
    "\n",
    "# Gegenwahrscheinlichkeiten\n",
    "against_probs = Against_Prob(probs)\n",
    "probs[0] = against_probs\n",
    "\n",
    "# Tat. Nachfrage\n",
    "demands = Demand(products, times)\n",
    "demands[0] = [0, 1, 1, 1, 1] # Keine Anfragen müssen immer möglich sein!\n",
    "demands[1] = [0, 0, 1, 1, 1]\n",
    "demands[2] = [0, 1, 0, 0, 0]\n",
    "\n",
    "# Systemzustände\n",
    "conditions = Condition(capacities, resources, times)\n",
    "\n",
    "\n",
    "# Endzeitpunkte\n",
    "#end_times = End_Time(conditions)"
   ]
  },
  {
   "cell_type": "markdown",
   "metadata": {},
   "source": [
    "inkl. Lagerhaltung"
   ]
  },
  {
   "cell_type": "code",
   "execution_count": 251,
   "metadata": {
    "collapsed": false
   },
   "outputs": [],
   "source": [
    "%run Parameter-storage.ipynb"
   ]
  },
  {
   "cell_type": "code",
   "execution_count": 252,
   "metadata": {
    "collapsed": false
   },
   "outputs": [
    {
     "name": "stdout",
     "output_type": "stream",
     "text": [
      "0:00:00.000398\n"
     ]
    }
   ],
   "source": [
    "#Lagerbestand\n",
    "stock_resources = Stock_Resource(resources)\n",
    "stock_resources[1] = 5\n",
    "\n",
    "max_stock_resources = Max_Stock_Resource(resources)\n",
    "max_stock_resources[1] = 7\n",
    "\n",
    "# Systemzustände\n",
    "condition_storages = Condition_Storage(capacities, resources, max_stock_resources, times)\n",
    "# Bei der Modelformulierung mit Lagerproduktion wird der Parameter 'max_stocks' benötigt."
   ]
  },
  {
   "cell_type": "code",
   "execution_count": 253,
   "metadata": {
    "collapsed": false
   },
   "outputs": [],
   "source": [
    "#Regenerationsperiode\n",
    "time_regenerations = Time_Regeneration(times)\n",
    "time_regenerations[2]=True\n",
    "\n",
    "#Max. Kapazität\n",
    "max_capacities = Max_Capacity(capacities)"
   ]
  },
  {
   "cell_type": "code",
   "execution_count": 254,
   "metadata": {
    "collapsed": false
   },
   "outputs": [],
   "source": [
    "%run DynamicProgramm-regeneration.ipynb"
   ]
  },
  {
   "cell_type": "code",
   "execution_count": 255,
   "metadata": {
    "collapsed": false
   },
   "outputs": [
    {
     "name": "stdout",
     "output_type": "stream",
     "text": [
      "Bestände: [2 5] - Periode: 0 - Erwartungswert: 0.0 - Optimale Politik: 0 KA\n",
      "Bestände: [1 5] - Periode: 0 - Erwartungswert: 0.0 - Optimale Politik: 0 KA\n",
      "Bestände: [2 4] - Periode: 0 - Erwartungswert: 0.0 - Optimale Politik: 0 KA\n",
      "Bestände: [1 6] - Periode: 0 - Erwartungswert: 0.0 - Optimale Politik: 0 KA\n",
      "Bestände: [2 5] - Periode: 1 - Erwartungswert: 100.0 - Optimale Politik: 1 AA\n",
      "Bestände: [0 5] - Periode: 0 - Erwartungswert: 0.0 - Optimale Politik: 0 KA\n",
      "Bestände: [1 4] - Periode: 0 - Erwartungswert: 0.0 - Optimale Politik: 0 KA\n",
      "Bestände: [0 6] - Periode: 0 - Erwartungswert: 0.0 - Optimale Politik: 0 KA\n",
      "Bestände: [1 5] - Periode: 1 - Erwartungswert: 100.0 - Optimale Politik: 1 AA\n",
      "Bestände: [2 3] - Periode: 0 - Erwartungswert: 0.0 - Optimale Politik: 0 KA\n",
      "Bestände: [2 4] - Periode: 1 - Erwartungswert: 100.0 - Optimale Politik: 1 AA\n",
      "Bestände: [0 7] - Periode: 0 - Erwartungswert: 0.0 - Optimale Politik: 0 KA\n",
      "Bestände: [1 0] - Periode: 0 - Erwartungswert: 0.0 - Optimale Politik: 0 KA\n",
      "Bestände: [1 6] - Periode: 1 - Erwartungswert: 120.0 - Optimale Politik: 2 LE\n",
      "Bestände: [2 5] - Periode: 2 - Erwartungswert: 210.0 - Optimale Politik: 1 AA\n",
      "Bestände: [0 4] - Periode: 0 - Erwartungswert: 0.0 - Optimale Politik: 0 KA\n",
      "Bestände: [1 3] - Periode: 0 - Erwartungswert: 0.0 - Optimale Politik: 0 KA\n",
      "Bestände: [1 4] - Periode: 1 - Erwartungswert: 100.0 - Optimale Politik: 1 AA\n",
      "Bestände: [2 2] - Periode: 0 - Erwartungswert: 0.0 - Optimale Politik: 0 KA\n",
      "Bestände: [2 3] - Periode: 1 - Erwartungswert: 100.0 - Optimale Politik: 1 AA\n",
      "Bestände: [2 4] - Periode: 2 - Erwartungswert: 200.0 - Optimale Politik: 1 AA\n",
      "Bestände: [2 6] - Periode: 0 - Erwartungswert: 0.0 - Optimale Politik: 0 KA\n",
      "Bestände: [1 7] - Periode: 0 - Erwartungswert: 0.0 - Optimale Politik: 0 KA\n",
      "Bestände: [2 0] - Periode: 0 - Erwartungswert: 0.0 - Optimale Politik: 0 KA\n",
      "Bestände: [2 6] - Periode: 1 - Erwartungswert: 120.0 - Optimale Politik: 2 LE\n",
      "Bestände: [1 1] - Periode: 0 - Erwartungswert: 0.0 - Optimale Politik: 0 KA\n",
      "Bestände: [1 7] - Periode: 1 - Erwartungswert: 120.0 - Optimale Politik: 2 LE\n",
      "Bestände: [2 0] - Periode: 1 - Erwartungswert: 50.0 - Optimale Politik: 1 AA\n",
      "Bestände: [2 6] - Periode: 2 - Erwartungswert: 223.0 - Optimale Politik: 2 LE\n",
      "Bestände: [2 5] - Periode: 3 - Erwartungswert: 311.5 - Optimale Politik: 1 AA\n",
      "Bestände: [1 5] - Periode: 3 - Erwartungswert: 311.5 - Optimale Politik: 1 AA\n",
      "Bestände: [0 3] - Periode: 0 - Erwartungswert: 0.0 - Optimale Politik: 0 KA\n",
      "Bestände: [1 2] - Periode: 0 - Erwartungswert: 0.0 - Optimale Politik: 0 KA\n",
      "Bestände: [1 3] - Periode: 1 - Erwartungswert: 100.0 - Optimale Politik: 1 AA\n",
      "Bestände: [2 1] - Periode: 0 - Erwartungswert: 0.0 - Optimale Politik: 0 KA\n",
      "Bestände: [2 2] - Periode: 1 - Erwartungswert: 100.0 - Optimale Politik: 1 AA\n",
      "Bestände: [2 3] - Periode: 2 - Erwartungswert: 200.0 - Optimale Politik: 1 AA\n",
      "Bestände: [2 4] - Periode: 3 - Erwartungswert: 305.0 - Optimale Politik: 1 AA\n",
      "Bestände: [2 7] - Periode: 0 - Erwartungswert: 0.0 - Optimale Politik: 0 KA\n",
      "Bestände: [2 7] - Periode: 1 - Erwartungswert: 120.0 - Optimale Politik: 2 LE\n",
      "Bestände: [2 1] - Periode: 1 - Erwartungswert: 100.0 - Optimale Politik: 1 AA\n",
      "Bestände: [2 7] - Periode: 2 - Erwartungswert: 238.0 - Optimale Politik: 2 LE\n",
      "Bestände: [0 0] - Periode: 0 - Erwartungswert: 0.0 - Optimale Politik: 0 KA\n",
      "Bestände: [0 1] - Periode: 0 - Erwartungswert: 0.0 - Optimale Politik: 0 KA\n",
      "Bestände: [1 0] - Periode: 1 - Erwartungswert: 50.0 - Optimale Politik: 1 AA\n",
      "Bestände: [0 2] - Periode: 0 - Erwartungswert: 0.0 - Optimale Politik: 0 KA\n",
      "Bestände: [1 1] - Periode: 1 - Erwartungswert: 100.0 - Optimale Politik: 1 AA\n",
      "Bestände: [2 0] - Periode: 2 - Erwartungswert: 125.0 - Optimale Politik: 1 AA\n",
      "Bestände: [1 6] - Periode: 3 - Erwartungswert: 334.188 - Optimale Politik: 2 LE\n",
      "Bestände: [2 5] - Periode: 4 - Erwartungswert: 419.594 - Optimale Politik: 1 AA\n"
     ]
    },
    {
     "data": {
      "text/plain": [
       "array([1, 5, 2])"
      ]
     },
     "execution_count": 255,
     "metadata": {},
     "output_type": "execute_result"
    }
   ],
   "source": [
    "DP_Regeneration(solutions, condition_storages, products, resources, capacities, consumtions, times, revenues, probs, stock_resources, max_stock_resources, time_regenerations, max_capacities)\n",
    "\n",
    "condition_storages[52]"
   ]
  },
  {
   "cell_type": "code",
   "execution_count": 256,
   "metadata": {
    "collapsed": false
   },
   "outputs": [
    {
     "name": "stdout",
     "output_type": "stream",
     "text": [
      "Optimalen Politik zum Zeitpunkt \"t\" und unter Beachtung der Restkapazitäten \"c[h]\": \n",
      "\n",
      "     $c_{1}$  $y_{1}$  $t$   ExpValue             Successor  $j^*$ $m$  \\\n",
      "14         2        5    4  419.59375      [48, 18, 13, 53]      1  AA   \n",
      "48         1        6    3  334.18750           [12, 37, 7]      2  LE   \n",
      "37         2        0    2  125.00000          [76, 36, 71]      1  AA   \n",
      "76         1        0    1   50.00000        [115, 75, 110]      1  AA   \n",
      "115        0        0    0    0.00000                 [end]      0   -   \n",
      "71         1        1    1  100.00000    [105, 75, 110, 70]      1  AA   \n",
      "105        0        2    0    0.00000                 [end]      0   -   \n",
      "110        0        1    0    0.00000                 [end]      0   -   \n",
      "18         2        4    3  305.00000              [17, 22]      1  AA   \n",
      "22         2        3    2  200.00000      [56, 26, 21, 61]      1  AA   \n",
      "26         2        2    1  100.00000      [25, 60, 30, 65]      1  AA   \n",
      "61         1        3    1  100.00000     [100, 95, 60, 65]      1  AA   \n",
      "100        0        3    0    0.00000                 [end]      0   -   \n",
      "53         1        5    3  311.50000              [17, 12]      1  AA   \n",
      "13         2        5    3  311.50000              [17, 12]      1  AA   \n",
      "17         2        4    2  200.00000      [16, 56, 51, 21]      1  AA   \n",
      "56         1        4    1  100.00000      [90, 95, 60, 55]      1  AA   \n",
      "95         0        4    0    0.00000                 [end]      0   -   \n",
      "21         2        3    1  100.00000      [60, 55, 20, 25]      1  AA   \n",
      "60         1        3    0    0.00000                 [end]      0   -   \n",
      "25         2        2    0    0.00000                 [end]      0   -   \n",
      "12         2        5    2  210.00000      [16, 51, 11, 46]      1  AA   \n",
      "16         2        4    1  100.00000      [50, 55, 20, 15]      1  AA   \n",
      "20         2        3    0    0.00000                 [end]      0   -   \n",
      "51         1        5    1  100.00000      [50, 90, 85, 55]      1  AA   \n",
      "90         0        5    0    0.00000                 [end]      0   -   \n",
      "55         1        4    0    0.00000                 [end]      0   -   \n",
      "7          2        6    2  223.00000   [41, 11, 36, 46, 6]      2  LE   \n",
      "11         2        5    1  100.00000      [10, 45, 50, 15]      1  AA   \n",
      "15         2        4    0    0.00000                 [end]      0   -   \n",
      "36         2        0    1   50.00000          [75, 35, 70]      1  AA   \n",
      "46         1        6    1  120.00000  [80, 50, 75, 45, 85]      2  LE   \n",
      "50         1        5    0    0.00000                 [end]      0   -   \n",
      "75         1        0    0    0.00000                 [end]      0   -   \n",
      "85         0        6    0    0.00000                 [end]      0   -   \n",
      "2          2        7    2  238.00000        [1, 31, 6, 41]      2  LE   \n",
      "31         2        1    1  100.00000      [65, 35, 70, 30]      1  AA   \n",
      "65         1        2    0    0.00000                 [end]      0   -   \n",
      "6          2        6    1  120.00000   [40, 10, 35, 5, 45]      2  LE   \n",
      "10         2        5    0    0.00000                 [end]      0   -   \n",
      "35         2        0    0    0.00000                 [end]      0   -   \n",
      "41         1        7    1  120.00000      [40, 80, 45, 70]      2  LE   \n",
      "80         0        7    0    0.00000                 [end]      0   -   \n",
      "45         1        6    0    0.00000                 [end]      0   -   \n",
      "70         1        1    0    0.00000                 [end]      0   -   \n",
      "1          2        7    1  120.00000        [0, 40, 5, 30]      2  LE   \n",
      "40         1        7    0    0.00000                 [end]      0   -   \n",
      "5          2        6    0    0.00000                 [end]      0   -   \n",
      "30         2        1    0    0.00000                 [end]      0   -   \n",
      "0          2        7    0    0.00000                 [end]      0   -   \n",
      "\n",
      "     $r_{j}-OC_{j}$  \n",
      "14              100  \n",
      "48              102  \n",
      "37              100  \n",
      "76              100  \n",
      "115               0  \n",
      "71              100  \n",
      "105               0  \n",
      "110               0  \n",
      "18              100  \n",
      "22              100  \n",
      "26              100  \n",
      "61              100  \n",
      "100               0  \n",
      "53              100  \n",
      "13              100  \n",
      "17              100  \n",
      "56              100  \n",
      "95                0  \n",
      "21              100  \n",
      "60                0  \n",
      "25                0  \n",
      "12              100  \n",
      "16              100  \n",
      "20                0  \n",
      "51              100  \n",
      "90                0  \n",
      "55                0  \n",
      "7               130  \n",
      "11              100  \n",
      "15                0  \n",
      "36              100  \n",
      "46              200  \n",
      "50                0  \n",
      "75                0  \n",
      "85                0  \n",
      "2               180  \n",
      "31              100  \n",
      "65                0  \n",
      "6               200  \n",
      "10                0  \n",
      "35                0  \n",
      "41              200  \n",
      "80                0  \n",
      "45                0  \n",
      "70                0  \n",
      "1               200  \n",
      "40                0  \n",
      "5                 0  \n",
      "30                0  \n",
      "0                 0   \n",
      "\n",
      "   Opt. Politic  from  to  Revenue  Cum_Rev\n",
      "4             1    14  53      100      100\n",
      "3             0     0   0        0      100\n",
      "2             1    17  56      100      200\n",
      "1             1    56  95      100      300 \n",
      "\n"
     ]
    },
    {
     "data": {
      "text/plain": [
       "(     $c_{1}$  $y_{1}$  $t$   ExpValue             Successor  $j^*$ $m$  \\\n",
       " 14         2        5    4  419.59375      [48, 18, 13, 53]      1  AA   \n",
       " 48         1        6    3  334.18750           [12, 37, 7]      2  LE   \n",
       " 37         2        0    2  125.00000          [76, 36, 71]      1  AA   \n",
       " 76         1        0    1   50.00000        [115, 75, 110]      1  AA   \n",
       " 115        0        0    0    0.00000                 [end]      0   -   \n",
       " 71         1        1    1  100.00000    [105, 75, 110, 70]      1  AA   \n",
       " 105        0        2    0    0.00000                 [end]      0   -   \n",
       " 110        0        1    0    0.00000                 [end]      0   -   \n",
       " 18         2        4    3  305.00000              [17, 22]      1  AA   \n",
       " 22         2        3    2  200.00000      [56, 26, 21, 61]      1  AA   \n",
       " 26         2        2    1  100.00000      [25, 60, 30, 65]      1  AA   \n",
       " 61         1        3    1  100.00000     [100, 95, 60, 65]      1  AA   \n",
       " 100        0        3    0    0.00000                 [end]      0   -   \n",
       " 53         1        5    3  311.50000              [17, 12]      1  AA   \n",
       " 13         2        5    3  311.50000              [17, 12]      1  AA   \n",
       " 17         2        4    2  200.00000      [16, 56, 51, 21]      1  AA   \n",
       " 56         1        4    1  100.00000      [90, 95, 60, 55]      1  AA   \n",
       " 95         0        4    0    0.00000                 [end]      0   -   \n",
       " 21         2        3    1  100.00000      [60, 55, 20, 25]      1  AA   \n",
       " 60         1        3    0    0.00000                 [end]      0   -   \n",
       " 25         2        2    0    0.00000                 [end]      0   -   \n",
       " 12         2        5    2  210.00000      [16, 51, 11, 46]      1  AA   \n",
       " 16         2        4    1  100.00000      [50, 55, 20, 15]      1  AA   \n",
       " 20         2        3    0    0.00000                 [end]      0   -   \n",
       " 51         1        5    1  100.00000      [50, 90, 85, 55]      1  AA   \n",
       " 90         0        5    0    0.00000                 [end]      0   -   \n",
       " 55         1        4    0    0.00000                 [end]      0   -   \n",
       " 7          2        6    2  223.00000   [41, 11, 36, 46, 6]      2  LE   \n",
       " 11         2        5    1  100.00000      [10, 45, 50, 15]      1  AA   \n",
       " 15         2        4    0    0.00000                 [end]      0   -   \n",
       " 36         2        0    1   50.00000          [75, 35, 70]      1  AA   \n",
       " 46         1        6    1  120.00000  [80, 50, 75, 45, 85]      2  LE   \n",
       " 50         1        5    0    0.00000                 [end]      0   -   \n",
       " 75         1        0    0    0.00000                 [end]      0   -   \n",
       " 85         0        6    0    0.00000                 [end]      0   -   \n",
       " 2          2        7    2  238.00000        [1, 31, 6, 41]      2  LE   \n",
       " 31         2        1    1  100.00000      [65, 35, 70, 30]      1  AA   \n",
       " 65         1        2    0    0.00000                 [end]      0   -   \n",
       " 6          2        6    1  120.00000   [40, 10, 35, 5, 45]      2  LE   \n",
       " 10         2        5    0    0.00000                 [end]      0   -   \n",
       " 35         2        0    0    0.00000                 [end]      0   -   \n",
       " 41         1        7    1  120.00000      [40, 80, 45, 70]      2  LE   \n",
       " 80         0        7    0    0.00000                 [end]      0   -   \n",
       " 45         1        6    0    0.00000                 [end]      0   -   \n",
       " 70         1        1    0    0.00000                 [end]      0   -   \n",
       " 1          2        7    1  120.00000        [0, 40, 5, 30]      2  LE   \n",
       " 40         1        7    0    0.00000                 [end]      0   -   \n",
       " 5          2        6    0    0.00000                 [end]      0   -   \n",
       " 30         2        1    0    0.00000                 [end]      0   -   \n",
       " 0          2        7    0    0.00000                 [end]      0   -   \n",
       " \n",
       "      $r_{j}-OC_{j}$  \n",
       " 14              100  \n",
       " 48              102  \n",
       " 37              100  \n",
       " 76              100  \n",
       " 115               0  \n",
       " 71              100  \n",
       " 105               0  \n",
       " 110               0  \n",
       " 18              100  \n",
       " 22              100  \n",
       " 26              100  \n",
       " 61              100  \n",
       " 100               0  \n",
       " 53              100  \n",
       " 13              100  \n",
       " 17              100  \n",
       " 56              100  \n",
       " 95                0  \n",
       " 21              100  \n",
       " 60                0  \n",
       " 25                0  \n",
       " 12              100  \n",
       " 16              100  \n",
       " 20                0  \n",
       " 51              100  \n",
       " 90                0  \n",
       " 55                0  \n",
       " 7               130  \n",
       " 11              100  \n",
       " 15                0  \n",
       " 36              100  \n",
       " 46              200  \n",
       " 50                0  \n",
       " 75                0  \n",
       " 85                0  \n",
       " 2               180  \n",
       " 31              100  \n",
       " 65                0  \n",
       " 6               200  \n",
       " 10                0  \n",
       " 35                0  \n",
       " 41              200  \n",
       " 80                0  \n",
       " 45                0  \n",
       " 70                0  \n",
       " 1               200  \n",
       " 40                0  \n",
       " 5                 0  \n",
       " 30                0  \n",
       " 0                 0  ,    Opt. Politic  from  to  Revenue  Cum_Rev\n",
       " 4             1    14  53      100      100\n",
       " 3             0     0   0        0      100\n",
       " 2             1    17  56      100      200\n",
       " 1             1    56  95      100      300)"
      ]
     },
     "execution_count": 256,
     "metadata": {},
     "output_type": "execute_result"
    }
   ],
   "source": [
    "graph = Structure_Regeneration(solutions, condition_storages, products, resources, consumtions, revenues, stock_resources, max_stock_resources, time_regenerations, max_capacities)\n",
    "\n",
    "Best_Politic_Stock(graph, times, resources, stock_resources, solutions)"
   ]
  },
  {
   "cell_type": "code",
   "execution_count": 257,
   "metadata": {
    "collapsed": false
   },
   "outputs": [
    {
     "ename": "AttributeError",
     "evalue": "'module' object has no attribute 'figure'",
     "output_type": "error",
     "traceback": [
      "\u001b[0;31m---------------------------------------------------------------------------\u001b[0m",
      "\u001b[0;31mAttributeError\u001b[0m                            Traceback (most recent call last)",
      "\u001b[0;32m<ipython-input-257-ec0a85ebe107>\u001b[0m in \u001b[0;36m<module>\u001b[0;34m()\u001b[0m\n\u001b[1;32m     11\u001b[0m         \u001b[0;31m# same layout using matplotlib with no labels\u001b[0m\u001b[0;34m\u001b[0m\u001b[0;34m\u001b[0m\u001b[0m\n\u001b[1;32m     12\u001b[0m \u001b[0mpos\u001b[0m\u001b[0;34m=\u001b[0m\u001b[0mnx\u001b[0m\u001b[0;34m.\u001b[0m\u001b[0mgraphviz_layout\u001b[0m\u001b[0;34m(\u001b[0m\u001b[0mdraw\u001b[0m\u001b[0;34m,\u001b[0m\u001b[0mprog\u001b[0m\u001b[0;34m=\u001b[0m\u001b[0;34m'dot'\u001b[0m\u001b[0;34m)\u001b[0m\u001b[0;34m\u001b[0m\u001b[0m\n\u001b[0;32m---> 13\u001b[0;31m \u001b[0mplt\u001b[0m\u001b[0;34m.\u001b[0m\u001b[0mfigure\u001b[0m\u001b[0;34m(\u001b[0m\u001b[0mfigsize\u001b[0m\u001b[0;34m=\u001b[0m\u001b[0;34m(\u001b[0m\u001b[0msize_x\u001b[0m\u001b[0;34m,\u001b[0m\u001b[0msize_y\u001b[0m\u001b[0;34m)\u001b[0m\u001b[0;34m)\u001b[0m\u001b[0;34m\u001b[0m\u001b[0m\n\u001b[0m\u001b[1;32m     14\u001b[0m \u001b[0mplt\u001b[0m\u001b[0;34m.\u001b[0m\u001b[0mtitle\u001b[0m\u001b[0;34m(\u001b[0m\u001b[0;34m\"Entscheidungsbaum\"\u001b[0m\u001b[0;34m)\u001b[0m\u001b[0;34m\u001b[0m\u001b[0m\n\u001b[1;32m     15\u001b[0m \u001b[0mnx\u001b[0m\u001b[0;34m.\u001b[0m\u001b[0mdraw\u001b[0m\u001b[0;34m(\u001b[0m\u001b[0mdraw\u001b[0m\u001b[0;34m,\u001b[0m\u001b[0mpos\u001b[0m\u001b[0;34m,\u001b[0m\u001b[0mwith_labels\u001b[0m\u001b[0;34m=\u001b[0m\u001b[0mTrue\u001b[0m\u001b[0;34m,\u001b[0m \u001b[0mnode_size\u001b[0m\u001b[0;34m=\u001b[0m\u001b[0;36m500\u001b[0m\u001b[0;34m)\u001b[0m\u001b[0;34m\u001b[0m\u001b[0m\n",
      "\u001b[0;31mAttributeError\u001b[0m: 'module' object has no attribute 'figure'"
     ]
    }
   ],
   "source": [
    "import matplotlib as plt\n",
    "\n",
    "draw = graph.copy()\n",
    "draw.remove_node('end')\n",
    "        # Quelle: http://stackoverflow.com/a/11484144/4913569\n",
    "        # ----\n",
    "        # write dot file to use with graphviz\n",
    "        # run \"dot -Tpng test.dot >test.png\"\n",
    "nx.write_dot(draw,'test.dot')\n",
    "\n",
    "        # same layout using matplotlib with no labels\n",
    "pos=nx.graphviz_layout(draw,prog='dot')\n",
    "plt.figure(figsize=(size_x,size_y))\n",
    "plt.title(\"Entscheidungsbaum\")\n",
    "nx.draw(draw,pos,with_labels=True, node_size=500)\n",
    "plt.savefig('GraphTest.png')"
   ]
  },
  {
   "cell_type": "code",
   "execution_count": null,
   "metadata": {
    "collapsed": false
   },
   "outputs": [],
   "source": [
    "Best_Politic(graph, times, resources, start=None)"
   ]
  },
  {
   "cell_type": "code",
   "execution_count": null,
   "metadata": {
    "collapsed": false
   },
   "outputs": [],
   "source": [
    "import numpy as np\n",
    "test = np.array([1, 3, 3])\n",
    "test2 = np.array([2, 2, 2])\n",
    "\n",
    "print np.all(test > test2)"
   ]
  }
 ],
 "metadata": {
  "kernelspec": {
   "display_name": "Python 2",
   "language": "python",
   "name": "python2"
  },
  "language_info": {
   "codemirror_mode": {
    "name": "ipython",
    "version": 2
   },
   "file_extension": ".py",
   "mimetype": "text/x-python",
   "name": "python",
   "nbconvert_exporter": "python",
   "pygments_lexer": "ipython2",
   "version": "2.7.10"
  }
 },
 "nbformat": 4,
 "nbformat_minor": 0
}
