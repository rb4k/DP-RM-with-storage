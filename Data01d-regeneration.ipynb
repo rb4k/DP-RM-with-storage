{
 "cells": [
  {
   "cell_type": "code",
   "execution_count": 663,
   "metadata": {
    "collapsed": false
   },
   "outputs": [],
   "source": [
    "__version__ = '0.3'\n",
    "__author__  = \"Robert Matern (r.matern@stud.uni-hannover.de)\"\n",
    "__date__    = ''\n",
    "__url__     = ''\n",
    "__copyright__ = \"(C) 2015 Robert Matern\""
   ]
  },
  {
   "cell_type": "markdown",
   "metadata": {},
   "source": [
    "#Beispieldaten Nr. 1"
   ]
  },
  {
   "cell_type": "code",
   "execution_count": 664,
   "metadata": {
    "collapsed": false
   },
   "outputs": [],
   "source": [
    "# Funktionen werden hinzugeladen.\n",
    "%run Parameter.ipynb"
   ]
  },
  {
   "cell_type": "code",
   "execution_count": 665,
   "metadata": {
    "collapsed": false
   },
   "outputs": [
    {
     "name": "stdout",
     "output_type": "stream",
     "text": [
      "0:00:00.000359\n"
     ]
    }
   ],
   "source": [
    "# Produkte\n",
    "products = Product(2)\n",
    "\n",
    "# Ressourcen\n",
    "resources = Resource(1)\n",
    "\n",
    "#Kapazität\n",
    "capacities = Capacity(resources)\n",
    "capacities[1] = 2\n",
    "\n",
    "# Ressourcenverbrauch\n",
    "consumtions = Consumption(products, resources)\n",
    "consumtions[1] = [0,1]\n",
    "consumtions[2] = [0,3]\n",
    "\n",
    "# Erträge\n",
    "revenues = Revenue(products)\n",
    "revenues[1] = 100\n",
    "revenues[2] = 5000\n",
    "\n",
    "# Buchungshorizont\n",
    "times = Time(4)\n",
    "\n",
    "# Wahrscheinlichkeiten\n",
    "probs = Prob(products, times)\n",
    "probs[1] = [0, 0.5, 0.5, 0.5, 0.5]\n",
    "probs[2] = [0, 0.1, 0.1, 0.1, 0.1]\n",
    "\n",
    "# Gegenwahrscheinlichkeiten\n",
    "against_probs = Against_Prob(probs)\n",
    "probs[0] = against_probs\n",
    "\n",
    "# Tat. Nachfrage\n",
    "demands = Demand(products, times)\n",
    "demands[0] = [0, 1, 1, 1, 1] # Keine Anfragen müssen immer möglich sein!\n",
    "demands[1] = [0, 0, 1, 1, 1]\n",
    "demands[2] = [0, 1, 0, 0, 0]\n",
    "\n",
    "# Systemzustände\n",
    "conditions = Condition(capacities, resources, times)\n",
    "\n",
    "\n",
    "# Endzeitpunkte\n",
    "#end_times = End_Time(conditions)"
   ]
  },
  {
   "cell_type": "markdown",
   "metadata": {},
   "source": [
    "inkl. Lagerhaltung"
   ]
  },
  {
   "cell_type": "code",
   "execution_count": 666,
   "metadata": {
    "collapsed": false
   },
   "outputs": [],
   "source": [
    "%run Parameter-storage.ipynb"
   ]
  },
  {
   "cell_type": "code",
   "execution_count": 667,
   "metadata": {
    "collapsed": false
   },
   "outputs": [
    {
     "name": "stdout",
     "output_type": "stream",
     "text": [
      "0:00:00.001879\n"
     ]
    }
   ],
   "source": [
    "#Lagerbestand\n",
    "stock_resources = Stock_Resource(resources)\n",
    "stock_resources[1] = 0\n",
    "\n",
    "max_stock_resources = Max_Stock_Resource(resources)\n",
    "max_stock_resources[1] = 3\n",
    "\n",
    "# Systemzustände\n",
    "condition_storages = Condition_Storage(capacities, resources, max_stock_resources, times)\n",
    "# Bei der Modelformulierung mit Lagerproduktion wird der Parameter 'max_stocks' benötigt."
   ]
  },
  {
   "cell_type": "code",
   "execution_count": 668,
   "metadata": {
    "collapsed": false
   },
   "outputs": [],
   "source": [
    "#Regenerationsperiode\n",
    "time_regenerations = Time_Regeneration(times)\n",
    "time_regenerations[2]=True\n",
    "\n",
    "#Max. Kapazität\n",
    "max_capacities = Max_Capacity(capacities)"
   ]
  },
  {
   "cell_type": "code",
   "execution_count": 669,
   "metadata": {
    "collapsed": false
   },
   "outputs": [],
   "source": [
    "%run DynamicProgramm-regeneration.ipynb"
   ]
  },
  {
   "cell_type": "code",
   "execution_count": 670,
   "metadata": {
    "collapsed": false
   },
   "outputs": [
    {
     "name": "stdout",
     "output_type": "stream",
     "text": [
      "Bestände: [2 0] - Periode: 0 - Erwartungswert: 0.0 - Optimale Politik: 0 KA\n",
      "Bestände: [1 0] - Periode: 0 - Erwartungswert: 0.0 - Optimale Politik: 0 KA\n",
      "Bestände: [1 1] - Periode: 0 - Erwartungswert: 0.0 - Optimale Politik: 0 KA\n",
      "Bestände: [2 0] - Periode: 1 - Erwartungswert: 50.0 - Optimale Politik: 1 AA\n",
      "Bestände: [0 0] - Periode: 0 - Erwartungswert: 0.0 - Optimale Politik: 0 KA\n",
      "Bestände: [0 1] - Periode: 0 - Erwartungswert: 0.0 - Optimale Politik: 0 KA\n",
      "Bestände: [1 0] - Periode: 1 - Erwartungswert: 50.0 - Optimale Politik: 1 AA\n",
      "Bestände: [0 2] - Periode: 0 - Erwartungswert: 0.0 - Optimale Politik: 0 KA\n",
      "Bestände: [1 1] - Periode: 1 - Erwartungswert: 100.0 - Optimale Politik: 1 AA\n",
      "Bestände: [2 0] - Periode: 2 - Erwartungswert: 125.0 - Optimale Politik: 1 AA\n",
      "Bestände: [2 1] - Periode: 0 - Erwartungswert: 0.0 - Optimale Politik: 0 KA\n",
      "Bestände: [1 2] - Periode: 0 - Erwartungswert: 0.0 - Optimale Politik: 0 KA\n",
      "Bestände: [2 1] - Periode: 1 - Erwartungswert: 100.0 - Optimale Politik: 1 AA\n",
      "Bestände: [0 3] - Periode: 0 - Erwartungswert: 0.0 - Optimale Politik: 0 KA\n",
      "Bestände: [1 2] - Periode: 1 - Erwartungswert: 100.0 - Optimale Politik: 1 AA\n",
      "Bestände: [2 1] - Periode: 2 - Erwartungswert: 175.0 - Optimale Politik: 1 AA\n",
      "Bestände: [2 0] - Periode: 3 - Erwartungswert: 200.0 - Optimale Politik: 1 AA\n",
      "Bestände: [1 0] - Periode: 3 - Erwartungswert: 200.0 - Optimale Politik: 1 AA\n",
      "Bestände: [2 2] - Periode: 0 - Erwartungswert: 0.0 - Optimale Politik: 0 KA\n",
      "Bestände: [1 3] - Periode: 0 - Erwartungswert: 0.0 - Optimale Politik: 0 KA\n",
      "Bestände: [2 2] - Periode: 1 - Erwartungswert: 100.0 - Optimale Politik: 1 AA\n",
      "Bestände: [1 3] - Periode: 1 - Erwartungswert: 600.0 - Optimale Politik: 2 LE\n",
      "Bestände: [2 2] - Periode: 2 - Erwartungswert: 450.0 - Optimale Politik: 1 LP\n",
      "Bestände: [1 1] - Periode: 3 - Erwartungswert: 387.5 - Optimale Politik: 1 LP\n",
      "Bestände: [2 0] - Periode: 4 - Erwartungswert: 343.75 - Optimale Politik: 1 LP\n"
     ]
    },
    {
     "data": {
      "text/plain": [
       "343.75"
      ]
     },
     "execution_count": 670,
     "metadata": {},
     "output_type": "execute_result"
    }
   ],
   "source": [
    "DP_Regeneration(solutions, condition_storages, products, resources, capacities, consumtions, times, revenues, probs, stock_resources, max_stock_resources, time_regenerations, max_capacities)"
   ]
  },
  {
   "cell_type": "code",
   "execution_count": 671,
   "metadata": {
    "collapsed": false
   },
   "outputs": [
    {
     "name": "stdout",
     "output_type": "stream",
     "text": [
      "Optimalen Politik zum Zeitpunkt \"t\" und unter Beachtung der Restkapazitäten \"c[h]\": \n",
      "\n",
      "    $c_{1}$  $y_{1}$  $t$  ExpValue         Successor  $j^*$ $m$  \\\n",
      "19        2        0    4    343.75      [33, 18, 38]      1  LP   \n",
      "33        1        1    3    387.50       [17, 12, 7]      1  LP   \n",
      "38        1        0    3    200.00          [17, 12]      1  AA   \n",
      "18        2        0    3    200.00          [17, 12]      1  AA   \n",
      "17        2        0    2    125.00      [16, 36, 31]      1  AA   \n",
      "36        1        0    1     50.00      [50, 35, 55]      1  AA   \n",
      "55        0        0    0      0.00             [end]      0   -   \n",
      "12        2        1    2    175.00  [16, 26, 11, 31]      1  AA   \n",
      "16        2        0    1     50.00      [35, 30, 15]      1  AA   \n",
      "31        1        1    1    100.00  [50, 35, 45, 30]      1  AA   \n",
      "50        0        1    0      0.00             [end]      0   -   \n",
      "7         2        2    2    450.00   [26, 11, 21, 6]      1  LP   \n",
      "26        1        2    1    100.00  [40, 25, 45, 30]      1  AA   \n",
      "45        0        2    0      0.00             [end]      0   -   \n",
      "11        2        1    1    100.00  [25, 10, 30, 15]      1  AA   \n",
      "30        1        1    0      0.00             [end]      0   -   \n",
      "15        2        0    0      0.00             [end]      0   -   \n",
      "21        1        3    1    600.00  [40, 25, 35, 20]      2  LE   \n",
      "40        0        3    0      0.00             [end]      0   -   \n",
      "35        1        0    0      0.00             [end]      0   -   \n",
      "6         2        2    1    100.00   [25, 10, 20, 5]      1  AA   \n",
      "25        1        2    0      0.00             [end]      0   -   \n",
      "10        2        1    0      0.00             [end]      0   -   \n",
      "20        1        3    0      0.00             [end]      0   -   \n",
      "5         2        2    0      0.00             [end]      0   -   \n",
      "\n",
      "    $r_{j}-OC_{j}$  \n",
      "19           287.5  \n",
      "33           375.0  \n",
      "38           100.0  \n",
      "18           100.0  \n",
      "17           100.0  \n",
      "36           100.0  \n",
      "55             0.0  \n",
      "12           100.0  \n",
      "16           100.0  \n",
      "31           100.0  \n",
      "50             0.0  \n",
      "7            600.0  \n",
      "26           100.0  \n",
      "45             0.0  \n",
      "11           100.0  \n",
      "30             0.0  \n",
      "15             0.0  \n",
      "21          5000.0  \n",
      "40             0.0  \n",
      "35             0.0  \n",
      "6            100.0  \n",
      "25             0.0  \n",
      "10             0.0  \n",
      "20             0.0  \n",
      "5              0.0   \n",
      "\n",
      "   Opt. Politic  from  to  Revenue  Cum_Rev\n",
      "4             1    19  33        0        0\n",
      "3             1    33   7        0        0\n",
      "2             1     7  21        0        0\n",
      "1             2    21  35     5000     5000 \n",
      "\n"
     ]
    },
    {
     "data": {
      "text/plain": [
       "(    $c_{1}$  $y_{1}$  $t$  ExpValue         Successor  $j^*$ $m$  \\\n",
       " 19        2        0    4    343.75      [33, 18, 38]      1  LP   \n",
       " 33        1        1    3    387.50       [17, 12, 7]      1  LP   \n",
       " 38        1        0    3    200.00          [17, 12]      1  AA   \n",
       " 18        2        0    3    200.00          [17, 12]      1  AA   \n",
       " 17        2        0    2    125.00      [16, 36, 31]      1  AA   \n",
       " 36        1        0    1     50.00      [50, 35, 55]      1  AA   \n",
       " 55        0        0    0      0.00             [end]      0   -   \n",
       " 12        2        1    2    175.00  [16, 26, 11, 31]      1  AA   \n",
       " 16        2        0    1     50.00      [35, 30, 15]      1  AA   \n",
       " 31        1        1    1    100.00  [50, 35, 45, 30]      1  AA   \n",
       " 50        0        1    0      0.00             [end]      0   -   \n",
       " 7         2        2    2    450.00   [26, 11, 21, 6]      1  LP   \n",
       " 26        1        2    1    100.00  [40, 25, 45, 30]      1  AA   \n",
       " 45        0        2    0      0.00             [end]      0   -   \n",
       " 11        2        1    1    100.00  [25, 10, 30, 15]      1  AA   \n",
       " 30        1        1    0      0.00             [end]      0   -   \n",
       " 15        2        0    0      0.00             [end]      0   -   \n",
       " 21        1        3    1    600.00  [40, 25, 35, 20]      2  LE   \n",
       " 40        0        3    0      0.00             [end]      0   -   \n",
       " 35        1        0    0      0.00             [end]      0   -   \n",
       " 6         2        2    1    100.00   [25, 10, 20, 5]      1  AA   \n",
       " 25        1        2    0      0.00             [end]      0   -   \n",
       " 10        2        1    0      0.00             [end]      0   -   \n",
       " 20        1        3    0      0.00             [end]      0   -   \n",
       " 5         2        2    0      0.00             [end]      0   -   \n",
       " \n",
       "     $r_{j}-OC_{j}$  \n",
       " 19           287.5  \n",
       " 33           375.0  \n",
       " 38           100.0  \n",
       " 18           100.0  \n",
       " 17           100.0  \n",
       " 36           100.0  \n",
       " 55             0.0  \n",
       " 12           100.0  \n",
       " 16           100.0  \n",
       " 31           100.0  \n",
       " 50             0.0  \n",
       " 7            600.0  \n",
       " 26           100.0  \n",
       " 45             0.0  \n",
       " 11           100.0  \n",
       " 30             0.0  \n",
       " 15             0.0  \n",
       " 21          5000.0  \n",
       " 40             0.0  \n",
       " 35             0.0  \n",
       " 6            100.0  \n",
       " 25             0.0  \n",
       " 10             0.0  \n",
       " 20             0.0  \n",
       " 5              0.0  ,    Opt. Politic  from  to  Revenue  Cum_Rev\n",
       " 4             1    19  33        0        0\n",
       " 3             1    33   7        0        0\n",
       " 2             1     7  21        0        0\n",
       " 1             2    21  35     5000     5000)"
      ]
     },
     "execution_count": 671,
     "metadata": {},
     "output_type": "execute_result"
    }
   ],
   "source": [
    "graph = Structure_Regeneration(solutions, condition_storages, products, resources, consumtions, revenues, stock_resources, max_stock_resources, time_regenerations, max_capacities)\n",
    "\n",
    "Best_Politic_Stock(graph, times, resources, stock_resources, solutions)"
   ]
  },
  {
   "cell_type": "code",
   "execution_count": 672,
   "metadata": {
    "collapsed": false
   },
   "outputs": [
    {
     "ename": "AttributeError",
     "evalue": "'module' object has no attribute 'figure'",
     "output_type": "error",
     "traceback": [
      "\u001b[0;31m---------------------------------------------------------------------------\u001b[0m",
      "\u001b[0;31mAttributeError\u001b[0m                            Traceback (most recent call last)",
      "\u001b[0;32m<ipython-input-672-ec0a85ebe107>\u001b[0m in \u001b[0;36m<module>\u001b[0;34m()\u001b[0m\n\u001b[1;32m     11\u001b[0m         \u001b[0;31m# same layout using matplotlib with no labels\u001b[0m\u001b[0;34m\u001b[0m\u001b[0;34m\u001b[0m\u001b[0m\n\u001b[1;32m     12\u001b[0m \u001b[0mpos\u001b[0m\u001b[0;34m=\u001b[0m\u001b[0mnx\u001b[0m\u001b[0;34m.\u001b[0m\u001b[0mgraphviz_layout\u001b[0m\u001b[0;34m(\u001b[0m\u001b[0mdraw\u001b[0m\u001b[0;34m,\u001b[0m\u001b[0mprog\u001b[0m\u001b[0;34m=\u001b[0m\u001b[0;34m'dot'\u001b[0m\u001b[0;34m)\u001b[0m\u001b[0;34m\u001b[0m\u001b[0m\n\u001b[0;32m---> 13\u001b[0;31m \u001b[0mplt\u001b[0m\u001b[0;34m.\u001b[0m\u001b[0mfigure\u001b[0m\u001b[0;34m(\u001b[0m\u001b[0mfigsize\u001b[0m\u001b[0;34m=\u001b[0m\u001b[0;34m(\u001b[0m\u001b[0msize_x\u001b[0m\u001b[0;34m,\u001b[0m\u001b[0msize_y\u001b[0m\u001b[0;34m)\u001b[0m\u001b[0;34m)\u001b[0m\u001b[0;34m\u001b[0m\u001b[0m\n\u001b[0m\u001b[1;32m     14\u001b[0m \u001b[0mplt\u001b[0m\u001b[0;34m.\u001b[0m\u001b[0mtitle\u001b[0m\u001b[0;34m(\u001b[0m\u001b[0;34m\"Entscheidungsbaum\"\u001b[0m\u001b[0;34m)\u001b[0m\u001b[0;34m\u001b[0m\u001b[0m\n\u001b[1;32m     15\u001b[0m \u001b[0mnx\u001b[0m\u001b[0;34m.\u001b[0m\u001b[0mdraw\u001b[0m\u001b[0;34m(\u001b[0m\u001b[0mdraw\u001b[0m\u001b[0;34m,\u001b[0m\u001b[0mpos\u001b[0m\u001b[0;34m,\u001b[0m\u001b[0mwith_labels\u001b[0m\u001b[0;34m=\u001b[0m\u001b[0mTrue\u001b[0m\u001b[0;34m,\u001b[0m \u001b[0mnode_size\u001b[0m\u001b[0;34m=\u001b[0m\u001b[0;36m500\u001b[0m\u001b[0;34m)\u001b[0m\u001b[0;34m\u001b[0m\u001b[0m\n",
      "\u001b[0;31mAttributeError\u001b[0m: 'module' object has no attribute 'figure'"
     ]
    }
   ],
   "source": [
    "import matplotlib as plt\n",
    "\n",
    "draw = graph.copy()\n",
    "draw.remove_node('end')\n",
    "        # Quelle: http://stackoverflow.com/a/11484144/4913569\n",
    "        # ----\n",
    "        # write dot file to use with graphviz\n",
    "        # run \"dot -Tpng test.dot >test.png\"\n",
    "nx.write_dot(draw,'test.dot')\n",
    "\n",
    "        # same layout using matplotlib with no labels\n",
    "pos=nx.graphviz_layout(draw,prog='dot')\n",
    "plt.figure(figsize=(size_x,size_y))\n",
    "plt.title(\"Entscheidungsbaum\")\n",
    "nx.draw(draw,pos,with_labels=True, node_size=500)\n",
    "plt.savefig('GraphTest.png')"
   ]
  },
  {
   "cell_type": "code",
   "execution_count": null,
   "metadata": {
    "collapsed": false
   },
   "outputs": [],
   "source": [
    "Best_Politic(graph, times, resources, start=None)"
   ]
  },
  {
   "cell_type": "code",
   "execution_count": null,
   "metadata": {
    "collapsed": false
   },
   "outputs": [],
   "source": [
    "opt = [0.0, 0.0, 0.0]\n",
    "index = opt.index(max(opt))\n",
    "print index"
   ]
  },
  {
   "cell_type": "code",
   "execution_count": null,
   "metadata": {
    "collapsed": true
   },
   "outputs": [],
   "source": []
  }
 ],
 "metadata": {
  "kernelspec": {
   "display_name": "Python 2",
   "language": "python",
   "name": "python2"
  },
  "language_info": {
   "codemirror_mode": {
    "name": "ipython",
    "version": 2
   },
   "file_extension": ".py",
   "mimetype": "text/x-python",
   "name": "python",
   "nbconvert_exporter": "python",
   "pygments_lexer": "ipython2",
   "version": "2.7.10"
  }
 },
 "nbformat": 4,
 "nbformat_minor": 0
}
