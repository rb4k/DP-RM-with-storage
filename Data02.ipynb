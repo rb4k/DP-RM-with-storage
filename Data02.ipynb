{
 "cells": [
  {
   "cell_type": "code",
   "execution_count": 1,
   "metadata": {
    "collapsed": true
   },
   "outputs": [],
   "source": [
    "__version__ = '0.3'\n",
    "__author__  = \"Robert Matern (r.matern@stud.uni-hannover.de)\"\n",
    "__date__    = ''\n",
    "__url__     = ''\n",
    "__copyright__ = \"(C) 2015 Robert Matern\""
   ]
  },
  {
   "cell_type": "markdown",
   "metadata": {},
   "source": [
    "#Beispieldaten Nr. 2"
   ]
  },
  {
   "cell_type": "code",
   "execution_count": 9,
   "metadata": {
    "collapsed": false
   },
   "outputs": [
    {
     "name": "stdout",
     "output_type": "stream",
     "text": [
      "100\n",
      "[0, 1, 4, 9, 16, 25, 36, 49, 64, 81, 100, 121, 144, 169, 196, 225, 256, 289, 324, 361, 400, 441, 484, 529, 576, 625, 676, 729, 784, 841, 900, 961, 1024, 1089, 1156, 1225, 1296, 1369, 1444, 1521, 1600, 1681, 1764, 1849, 1936, 2025, 2116, 2209, 2304, 2401, 2500, 2601, 2704, 2809, 2916, 3025, 3136, 3249, 3364, 3481, 3600, 3721, 3844, 3969, 4096, 4225, 4356, 4489, 4624, 4761, 4900, 5041, 5184, 5329, 5476, 5625, 5776, 5929, 6084, 6241, 6400, 6561, 6724, 6889, 7056, 7225, 7396, 7569, 7744, 7921, 8100, 8281, 8464, 8649, 8836, 9025, 9216, 9409, 9604, 9801]\n"
     ]
    }
   ],
   "source": [
    "%run Parameter.ipynb\n",
    "%run DynamicProgramm.ipynb"
   ]
  },
  {
   "cell_type": "code",
   "execution_count": 10,
   "metadata": {
    "collapsed": false
   },
   "outputs": [
    {
     "name": "stdout",
     "output_type": "stream",
     "text": [
      "0:00:00.002361\n"
     ]
    }
   ],
   "source": [
    "# Produkte\n",
    "products = Product(2)\n",
    "\n",
    "# Ressourcen\n",
    "resources = Resource(4)\n",
    "\n",
    "#Kapazität\n",
    "capacities = Capacity(resources)\n",
    "capacities[1] = 2\n",
    "capacities[2] = 1\n",
    "capacities[3] = 3\n",
    "capacities[4] = 4\n",
    "#capacities[5] = 5\n",
    "#capacities[6] = 6\n",
    "#capacities[7] = 7\n",
    "#capacities[8] = 8\n",
    "#capacities[9] = 9\n",
    "#capacities[10] = 10\n",
    "\n",
    "# Ressourcenverbrauch\n",
    "consumtions = Consumption(products, resources)\n",
    "consumtions[1] = [0,1,0,1,0]#,1,1,0,1,1,1]\n",
    "consumtions[2] = [0,0,1,0,1]#,1,0,0,1,1,0]\n",
    "\n",
    "# Erträge\n",
    "revenues = Revenue(products)\n",
    "revenues[1] = 100\n",
    "revenues[2] = 200\n",
    "\n",
    "# Buchungshorizont\n",
    "times = Time(4)\n",
    "\n",
    "# Wahrscheinlichkeiten\n",
    "probs = Prob(products, times)\n",
    "probs[1] = [0.5, 0.3, 0.5, 0.5, 0]\n",
    "probs[2] = [0.1, 0.1, 0.1, 0.1, 0]\n",
    "\n",
    "# Gegenwahrscheinlichkeiten\n",
    "against_probs = Against_Prob(probs)\n",
    "\n",
    "# Systemzustände\n",
    "conditions = Condition(capacities, resources, times)\n",
    "\n",
    "\n",
    "# Endzeitpunkte\n",
    "#end_times = End_Time(conditions)"
   ]
  },
  {
   "cell_type": "code",
   "execution_count": 28,
   "metadata": {
    "collapsed": false
   },
   "outputs": [
    {
     "name": "stdout",
     "output_type": "stream",
     "text": [
      "231.25\n",
      "0:00:00.034082\n"
     ]
    }
   ],
   "source": [
    "import datetime\n",
    "a = datetime.datetime.now()\n",
    "print DP(solutions, conditions, products, resources, capacities, consumtions, times)\n",
    "print datetime.datetime.now()-a"
   ]
  },
  {
   "cell_type": "code",
   "execution_count": 30,
   "metadata": {
    "collapsed": false
   },
   "outputs": [
    {
     "name": "stdout",
     "output_type": "stream",
     "text": [
      "Für den Zeitpung 4 ist die Annahme des Auftrags 1 die beste Politik.\n",
      "Für den Zeitpung 3 ist die Annahme des Auftrags 1 die beste Politik.\n",
      "Für den Zeitpung 2 ist die Annahme des Auftrags 2 die beste Politik.\n",
      "Für den Zeitpung 1 ist die Annahme des Auftrags 0 die beste Politik.\n",
      "Für den Zeitpung 0 ist die Annahme des Auftrags 0 die beste Politik.\n"
     ]
    }
   ],
   "source": [
    "# Erstellung der Struktur als NetworkX-Graph\n",
    "graph = Structure(solutions, products, consumtions, revenues)\n",
    "\n",
    "# Ermittlung der besten Politik (Dijkstra Algorithmus)\n",
    "best_politic = Best_Politic(graph, times)\n",
    "\n",
    "for index in enumerate(best_politic[:-1]):\n",
    "    print \"Für den Zeitpung %i ist die Annahme des Auftrags %i die beste Politik.\" % (times[index[0]], graph.edge[index[1]][best_politic[index[0]+1]]['adoption'])"
   ]
  },
  {
   "cell_type": "code",
   "execution_count": null,
   "metadata": {
    "collapsed": true
   },
   "outputs": [],
   "source": []
  }
 ],
 "metadata": {
  "kernelspec": {
   "display_name": "Python 2",
   "language": "python",
   "name": "python2"
  },
  "language_info": {
   "codemirror_mode": {
    "name": "ipython",
    "version": 2
   },
   "file_extension": ".py",
   "mimetype": "text/x-python",
   "name": "python",
   "nbconvert_exporter": "python",
   "pygments_lexer": "ipython2",
   "version": "2.7.9"
  }
 },
 "nbformat": 4,
 "nbformat_minor": 0
}
