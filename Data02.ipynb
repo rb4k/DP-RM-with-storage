{
 "cells": [
  {
   "cell_type": "code",
   "execution_count": 6,
   "metadata": {
    "collapsed": true
   },
   "outputs": [],
   "source": [
    "__version__ = '0.3'\n",
    "__author__  = \"Robert Matern (r.matern@stud.uni-hannover.de)\"\n",
    "__date__    = ''\n",
    "__url__     = ''\n",
    "__copyright__ = \"(C) 2015 Robert Matern\""
   ]
  },
  {
   "cell_type": "markdown",
   "metadata": {},
   "source": [
    "#Beispieldaten Nr. 2"
   ]
  },
  {
   "cell_type": "code",
   "execution_count": 7,
   "metadata": {
    "collapsed": false
   },
   "outputs": [
    {
     "name": "stdout",
     "output_type": "stream",
     "text": [
      "Python Version 2.7.9 |Anaconda 2.2.0 (x86_64)| (default, Dec 15 2014, 10:37:34) \n",
      "[GCC 4.2.1 (Apple Inc. build 5577)]\n",
      "Numpy Version 1.9.2\n",
      "Matplotlib Version 1.4.3\n",
      "Pandas Version 0.15.2\n"
     ]
    }
   ],
   "source": [
    "%run Parameter.ipynb\n",
    "%run DynamicProgramm.ipynb"
   ]
  },
  {
   "cell_type": "code",
   "execution_count": 8,
   "metadata": {
    "collapsed": false
   },
   "outputs": [
    {
     "name": "stdout",
     "output_type": "stream",
     "text": [
      "0:00:00.000674\n"
     ]
    }
   ],
   "source": [
    "# Produkte\n",
    "products = Product(2)\n",
    "\n",
    "# Ressourcen\n",
    "resources = Resource(4)\n",
    "\n",
    "#Kapazität\n",
    "capacities = Capacity(resources)\n",
    "capacities[1] = 2\n",
    "capacities[2] = 1\n",
    "capacities[3] = 3\n",
    "capacities[4] = 4\n",
    "#capacities[5] = 5\n",
    "#capacities[6] = 6\n",
    "#capacities[7] = 7\n",
    "#capacities[8] = 8\n",
    "#capacities[9] = 9\n",
    "#capacities[10] = 10\n",
    "\n",
    "# Ressourcenverbrauch\n",
    "consumtions = Consumption(products, resources)\n",
    "consumtions[1] = [0,1,0,1,0]#,1,1,0,1,1,1]\n",
    "consumtions[2] = [0,0,1,0,1]#,1,0,0,1,1,0]\n",
    "\n",
    "# Erträge\n",
    "revenues = Revenue(products)\n",
    "revenues[1] = 100\n",
    "revenues[2] = 200\n",
    "\n",
    "# Buchungshorizont\n",
    "times = Time(4)\n",
    "\n",
    "# Wahrscheinlichkeiten\n",
    "probs = Prob(products, times)\n",
    "probs[1] = [0, 0.5, 0.5, 0.5, 0.5]\n",
    "probs[2] = [0, 0.1, 0.1, 0.1, 0.1]\n",
    "\n",
    "# Gegenwahrscheinlichkeiten\n",
    "against_probs = Against_Prob(probs)\n",
    "probs[0] = against_probs\n",
    "\n",
    "# Tat. Nachfrage\n",
    "demands = Demand(products, times)\n",
    "demands[0] = [0, 1, 1, 1, 1] # Keine Anfragen müssen immer möglich sein!\n",
    "demands[1] = [0, 1, 0, 0, 0]\n",
    "demands[2] = [0, 1, 1, 1, 1]\n",
    "\n",
    "# Systemzustände\n",
    "conditions = Condition(capacities, resources, times)\n",
    "\n",
    "\n",
    "# Endzeitpunkte\n",
    "#end_times = End_Time(conditions)"
   ]
  },
  {
   "cell_type": "code",
   "execution_count": 9,
   "metadata": {
    "collapsed": false
   },
   "outputs": [
    {
     "name": "stdout",
     "output_type": "stream",
     "text": [
      "CPU times: user 3 µs, sys: 0 ns, total: 3 µs\n",
      "Wall time: 8.11 µs\n",
      "231.25\n"
     ]
    }
   ],
   "source": [
    "%time\n",
    "print DP(solutions, conditions, products, resources, capacities, consumtions, times)"
   ]
  },
  {
   "cell_type": "code",
   "execution_count": 10,
   "metadata": {
    "collapsed": false
   },
   "outputs": [
    {
     "name": "stdout",
     "output_type": "stream",
     "text": [
      "Optimalen Politik zum Zeitpunkt \"t\" und unter Beachtung der Restkapazitäten \"c[h]\": \n",
      "\n",
      "           Successor  Res_Cap1  Res_Cap2  Res_Cap3  Res_Cap4  Time  \\\n",
      "4      [108, 3, 228]         2         1         3         4     4   \n",
      "108       [107, 332]         2         0         3         3     3   \n",
      "228  [452, 227, 332]         1         1         2         4     3   \n",
      "452       [451, 556]         0         1         1         4     2   \n",
      "332       [331, 556]         1         0         2         3     2   \n",
      "556            [555]         0         0         1         3     1   \n",
      "3      [107, 2, 227]         2         1         3         4     3   \n",
      "107       [106, 331]         2         0         3         3     2   \n",
      "227  [331, 226, 451]         1         1         2         4     2   \n",
      "331       [330, 555]         1         0         2         3     1   \n",
      "451       [450, 555]         0         1         1         4     1   \n",
      "555            [end]         0         0         1         3     0   \n",
      "2      [1, 226, 106]         2         1         3         4     2   \n",
      "226  [225, 450, 330]         1         1         2         4     1   \n",
      "450            [end]         0         1         1         4     0   \n",
      "106       [105, 330]         2         0         3         3     1   \n",
      "330            [end]         1         0         2         3     0   \n",
      "1      [0, 225, 105]         2         1         3         4     1   \n",
      "225            [end]         1         1         2         4     0   \n",
      "105            [end]         2         0         3         3     0   \n",
      "0              [end]         2         1         3         4     0   \n",
      "\n",
      "     Best Politic  r[j]-OC[j,c,t]  \n",
      "4               2          145.81  \n",
      "108             1           75.00  \n",
      "228             2          162.00  \n",
      "452             2          180.00  \n",
      "332             1           50.00  \n",
      "556             0            0.00  \n",
      "3               2          162.00  \n",
      "107             1          100.00  \n",
      "227             2          180.00  \n",
      "331             1          100.00  \n",
      "451             2          200.00  \n",
      "555             0            0.00  \n",
      "2               2          180.00  \n",
      "226             2          200.00  \n",
      "450             0            0.00  \n",
      "106             1          100.00  \n",
      "330             0            0.00  \n",
      "1               2          200.00  \n",
      "225             0            0.00  \n",
      "105             0            0.00  \n",
      "0               0            0.00   \n",
      "\n",
      "   Opt. Politic  from   to  Revenue  Cum_Rev\n",
      "4             2     4  108      200      200\n",
      "3             1   108  332      100      300\n",
      "2             1   332  556      100      400\n",
      "1             0   556  555        0      400\n",
      "0             0     0    0        0      400 \n",
      "\n",
      "Optimalen Politik zum Zeitpunkt \"t\" und unter Beachtung der Restkapazitäten \"c[h]\" sowie der tatsächlich eintreffenden Nachfrage \"d[j,t]\": \n",
      "\n",
      "           Successor  Res_Cap1  Res_Cap2  Res_Cap3  Res_Cap4  Time  \\\n",
      "4      [108, 3, 228]         2         1         3         4     4   \n",
      "108       [107, 332]         2         0         3         3     3   \n",
      "228  [452, 227, 332]         1         1         2         4     3   \n",
      "452       [451, 556]         0         1         1         4     2   \n",
      "332       [331, 556]         1         0         2         3     2   \n",
      "556            [555]         0         0         1         3     1   \n",
      "3      [107, 2, 227]         2         1         3         4     3   \n",
      "107       [106, 331]         2         0         3         3     2   \n",
      "227  [331, 226, 451]         1         1         2         4     2   \n",
      "331       [330, 555]         1         0         2         3     1   \n",
      "451       [450, 555]         0         1         1         4     1   \n",
      "555            [end]         0         0         1         3     0   \n",
      "2      [1, 226, 106]         2         1         3         4     2   \n",
      "226  [225, 450, 330]         1         1         2         4     1   \n",
      "450            [end]         0         1         1         4     0   \n",
      "106       [105, 330]         2         0         3         3     1   \n",
      "330            [end]         1         0         2         3     0   \n",
      "1      [0, 225, 105]         2         1         3         4     1   \n",
      "225            [end]         1         1         2         4     0   \n",
      "105            [end]         2         0         3         3     0   \n",
      "0              [end]         2         1         3         4     0   \n",
      "\n",
      "     Best Politic  r[j]-OC[j,c,t]  \n",
      "4               2          145.81  \n",
      "108             0            0.00  \n",
      "228             2          162.00  \n",
      "452             2          180.00  \n",
      "332             0            0.00  \n",
      "556             0            0.00  \n",
      "3               2          162.00  \n",
      "107             0            0.00  \n",
      "227             2          180.00  \n",
      "331             1          100.00  \n",
      "451             2          200.00  \n",
      "555             0            0.00  \n",
      "2               2          180.00  \n",
      "226             2          200.00  \n",
      "450             0            0.00  \n",
      "106             1          100.00  \n",
      "330             0            0.00  \n",
      "1               2          200.00  \n",
      "225             0            0.00  \n",
      "105             0            0.00  \n",
      "0               0            0.00   \n",
      "\n",
      "   Opt. Politic  from   to  Revenue  Cum_Rev\n",
      "4             2     4  108      200      200\n",
      "3             0   108  107        0      200\n",
      "2             0   107  106        0      200\n",
      "1             1   106  330      100      300\n",
      "0             0     0    0        0      300 \n",
      "\n",
      "CPU times: user 3 µs, sys: 1e+03 ns, total: 4 µs\n",
      "Wall time: 7.87 µs\n"
     ]
    },
    {
     "data": {
      "image/png": "[encoded data removed]",
      "text/plain": [
       "<matplotlib.figure.Figure at 0x1032dd350>"
      ]
     },
     "metadata": {},
     "output_type": "display_data"
    }
   ],
   "source": [
    "# Erstellung der Struktur als NetworkX-Graph\n",
    "graph = Structure(solutions, products, consumtions, revenues, probs)\n",
    "\n",
    "# Ermittlung der besten Politik (Dijkstra Algorithmus)\n",
    "Best_Politic(graph, times, resources)\n",
    "Best_Politic_Demand(graph, times, resources, demands)\n",
    "\n",
    "%time"
   ]
  },
  {
   "cell_type": "code",
   "execution_count": 11,
   "metadata": {
    "collapsed": false
   },
   "outputs": [
    {
     "data": {
      "image/png": "[encoded data removed]",
      "text/plain": [
       "<matplotlib.figure.Figure at 0x1038c0a10>"
      ]
     },
     "metadata": {},
     "output_type": "display_data"
    }
   ],
   "source": [
    "Drawing(graph)"
   ]
  },
  {
   "cell_type": "code",
   "execution_count": null,
   "metadata": {
    "collapsed": true
   },
   "outputs": [],
   "source": []
  }
 ],
 "metadata": {
  "kernelspec": {
   "display_name": "Python 2",
   "language": "python",
   "name": "python2"
  },
  "language_info": {
   "codemirror_mode": {
    "name": "ipython",
    "version": 2
   },
   "file_extension": ".py",
   "mimetype": "text/x-python",
   "name": "python",
   "nbconvert_exporter": "python",
   "pygments_lexer": "ipython2",
   "version": "2.7.9"
  }
 },
 "nbformat": 4,
 "nbformat_minor": 0
}
