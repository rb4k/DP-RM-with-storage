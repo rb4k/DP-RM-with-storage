{
 "cells": [
  {
   "cell_type": "code",
   "execution_count": 120,
   "metadata": {
    "collapsed": true
   },
   "outputs": [],
   "source": [
    "__version__ = '0.3'\n",
    "__author__  = \"Robert Matern (r.matern@stud.uni-hannover.de)\"\n",
    "__date__    = ''\n",
    "__url__     = ''\n",
    "__copyright__ = \"(C) 2015 Robert Matern\""
   ]
  },
  {
   "cell_type": "markdown",
   "metadata": {},
   "source": [
    "#Beispieldaten Nr. 10"
   ]
  },
  {
   "cell_type": "code",
   "execution_count": 121,
   "metadata": {
    "collapsed": false
   },
   "outputs": [],
   "source": [
    "%run Parameter.ipynb\n",
    "%run DynamicProgramm.ipynb"
   ]
  },
  {
   "cell_type": "code",
   "execution_count": 122,
   "metadata": {
    "collapsed": true
   },
   "outputs": [],
   "source": [
    "import matplotlib.pyplot as plt\n",
    "%matplotlib inline"
   ]
  },
  {
   "cell_type": "code",
   "execution_count": 123,
   "metadata": {
    "collapsed": false
   },
   "outputs": [
    {
     "name": "stdout",
     "output_type": "stream",
     "text": [
      "0:00:00.000647\n"
     ]
    }
   ],
   "source": [
    "# Produkte\n",
    "products = Product(3)\n",
    "\n",
    "# Ressourcen\n",
    "resources = Resource(1)\n",
    "\n",
    "#Kapazität\n",
    "capacities = Capacity(resources)\n",
    "capacities[1] = 10\n",
    "#capacities[2] = 10\n",
    "#capacities[3] = 10\n",
    "#capacities[4] = 10\n",
    "#capacities[5] = 5\n",
    "#capacities[6] = 5\n",
    "#capacities[7] = 5\n",
    "#capacities[8] = 5\n",
    "#capacities[9] = 5\n",
    "#capacities[10] = 5\n",
    "#capacities[11] = 5\n",
    "#capacities[12] = 5\n",
    "#capacities[13] = 5\n",
    "\n",
    "# Ressourcenverbrauch\n",
    "consumtions = Consumption(products, resources)\n",
    "consumtions[1] = [0,1]#,0,1,0]#,1,1,0,1,1,1,1,0,1]\n",
    "consumtions[2] = [0,1]#,1,0,1]#,1,0,0,1,1,0,1,1,0]\n",
    "consumtions[3] = [0,1]#,1,1,0]#,0]#,1,1,0,0,0,1,0,0]\n",
    "#consumtions[4] = [0,1,1,0,1]#,1]#,1,0,1,1,0,0,0,0]\n",
    "#consumtions[5] = [0,0,1,1,0]#,0]#,0,0,1,1,1,1,0,1]\n",
    "\n",
    "# Erträge\n",
    "revenues = Revenue(products)\n",
    "revenues[1] = 200\n",
    "revenues[2] = 100\n",
    "revenues[3] = 300\n",
    "#revenues[4] = 220\n",
    "#revenues[5] = 150\n",
    "\n",
    "# Buchungshorizont\n",
    "times = Time(12)\n",
    "\n",
    "# Wahrscheinlichkeiten\n",
    "probs = Prob(products, times)\n",
    "#import random as rd\n",
    "#for t in range(len(times)-1):\n",
    "#    random = 0\n",
    "#    for i in products[1:]:\n",
    "#        i_random = rd.uniform(random, 10.0)\n",
    "#        probs[i][t] = i_random/10.0\n",
    "#        random = i_random\n",
    "probs[1] = [0, 1, 1, 1, 1, 0, 0, 0, 0, 0, 0, 0, 0]\n",
    "probs[2] = [0, 0, 0, 0, 0, 1, 1, 1, 1, 0, 0, 0, 0]\n",
    "probs[3] = [0, 0, 0, 0, 0, 0, 0, 0, 0, 1, 1, 1, 1]\n",
    "#probs[4] = [0.0, 0.1, 0.1, 0.0, 0.6, 0.1, 0.2, 0.1, 0.1, 0.1, 0]\n",
    "#probs[5] = [0.1, 0.1, 0.2, 0.1, 0.1, 0.0, 0.2, 0.2, 0.2, 0.1, 0]\n",
    "\n",
    "# Gegenwahrscheinlichkeiten\n",
    "against_probs = Against_Prob(probs)\n",
    "probs[0] = against_probs\n",
    "\n",
    "# Systemzustände\n",
    "conditions = Condition(capacities, resources, times)\n",
    "\n",
    "# Endzeitpunkte\n",
    "#end_times = End_Time(conditions)"
   ]
  },
  {
   "cell_type": "code",
   "execution_count": 124,
   "metadata": {
    "collapsed": false
   },
   "outputs": [
    {
     "data": {
      "text/plain": [
       "1.0"
      ]
     },
     "execution_count": 124,
     "metadata": {},
     "output_type": "execute_result"
    }
   ],
   "source": [
    "probs[1][1]"
   ]
  },
  {
   "cell_type": "code",
   "execution_count": 125,
   "metadata": {
    "collapsed": false
   },
   "outputs": [
    {
     "name": "stdout",
     "output_type": "stream",
     "text": [
      "2200.0\n",
      "0:00:00.051941\n"
     ]
    }
   ],
   "source": [
    "import datetime\n",
    "a = datetime.datetime.now()\n",
    "print DP(solutions, conditions, products, resources, capacities, consumtions, times)\n",
    "print datetime.datetime.now()-a"
   ]
  },
  {
   "cell_type": "code",
   "execution_count": 126,
   "metadata": {
    "collapsed": false
   },
   "outputs": [],
   "source": [
    "# Erstellung der Struktur als NetworkX-Graph\n",
    "graph = Structure(solutions, products, consumtions, revenues, probs)\n",
    "\n",
    "# Ermittlung der besten Politik (Dijkstra Algorithmus)\n",
    "best_politic = Best_Politic(graph, times)\n",
    "\n",
    "#for index in enumerate(best_politic[:-1]):\n",
    "#    print times[index[0]], graph.edge[index[1]]\n",
    "    #print \"Für den Zeitpung %i ist die Annahme des Auftrags %i die beste Politik.\" % (times[index[0]], graph.edge[index[1]][best_politic[index[0]+1]])"
   ]
  },
  {
   "cell_type": "code",
   "execution_count": 127,
   "metadata": {
    "collapsed": false
   },
   "outputs": [
    {
     "data": {
      "text/plain": [
       "[12, 24, 36, 48, 60, 72, 84, 96, 108, 120, 132, 131, 130, 'end']"
      ]
     },
     "execution_count": 127,
     "metadata": {},
     "output_type": "execute_result"
    }
   ],
   "source": [
    "best_politic"
   ]
  },
  {
   "cell_type": "code",
   "execution_count": 128,
   "metadata": {
    "collapsed": false
   },
   "outputs": [
    {
     "data": {
      "text/plain": [
       "{3: {'goal': array([ 9, 11]), 'revenue': 300, 'weight': 1900.0}}"
      ]
     },
     "execution_count": 128,
     "metadata": {},
     "output_type": "execute_result"
    }
   ],
   "source": [
    "graph.get_edge_data(12, 24)"
   ]
  },
  {
   "cell_type": "code",
   "execution_count": 129,
   "metadata": {
    "collapsed": false
   },
   "outputs": [
    {
     "data": {
      "text/plain": [
       "{11: {0: {'goal': array([10, 11]), 'revenue': 0, 'weight': 2000.0}},\n",
       " 24: {3: {'goal': array([ 9, 11]), 'revenue': 300, 'weight': 1900.0}}}"
      ]
     },
     "execution_count": 129,
     "metadata": {},
     "output_type": "execute_result"
    }
   ],
   "source": [
    "graph[12]"
   ]
  },
  {
   "cell_type": "code",
   "execution_count": 130,
   "metadata": {
    "collapsed": false
   },
   "outputs": [
    {
     "data": {
      "text/plain": [
       "{0: [array([10,  0]), 0],\n",
       " 1: [array([10,  1]), 200.0],\n",
       " 2: [array([10,  2]), 400.0],\n",
       " 3: [array([10,  3]), 600.0],\n",
       " 4: [array([10,  4]), 800.0],\n",
       " 5: [array([10,  5]), 900.0],\n",
       " 6: [array([10,  6]), 1000.0],\n",
       " 7: [array([10,  7]), 1100.0],\n",
       " 8: [array([10,  8]), 1200.0],\n",
       " 9: [array([10,  9]), 1500.0],\n",
       " 10: [array([10, 10]), 1800.0],\n",
       " 11: [array([10, 11]), 2000.0],\n",
       " 12: [array([10, 12]), 2200.0],\n",
       " 13: [array([9, 0]), 0],\n",
       " 14: [array([9, 1]), 200.0],\n",
       " 15: [array([9, 2]), 400.0],\n",
       " 16: [array([9, 3]), 600.0],\n",
       " 17: [array([9, 4]), 800.0],\n",
       " 18: [array([9, 5]), 900.0],\n",
       " 19: [array([9, 6]), 1000.0],\n",
       " 20: [array([9, 7]), 1100.0],\n",
       " 21: [array([9, 8]), 1200.0],\n",
       " 22: [array([9, 9]), 1500.0],\n",
       " 23: [array([ 9, 10]), 1700.0],\n",
       " 24: [array([ 9, 11]), 1900.0],\n",
       " 26: [array([8, 0]), 0],\n",
       " 27: [array([8, 1]), 200.0],\n",
       " 28: [array([8, 2]), 400.0],\n",
       " 29: [array([8, 3]), 600.0],\n",
       " 30: [array([8, 4]), 800.0],\n",
       " 31: [array([8, 5]), 900.0],\n",
       " 32: [array([8, 6]), 1000.0],\n",
       " 33: [array([8, 7]), 1100.0],\n",
       " 34: [array([8, 8]), 1200.0],\n",
       " 35: [array([8, 9]), 1400.0],\n",
       " 36: [array([ 8, 10]), 1600.0],\n",
       " 39: [array([7, 0]), 0],\n",
       " 40: [array([7, 1]), 200.0],\n",
       " 41: [array([7, 2]), 400.0],\n",
       " 42: [array([7, 3]), 600.0],\n",
       " 43: [array([7, 4]), 800.0],\n",
       " 44: [array([7, 5]), 900.0],\n",
       " 45: [array([7, 6]), 1000.0],\n",
       " 46: [array([7, 7]), 1100.0],\n",
       " 47: [array([7, 8]), 1100.0],\n",
       " 48: [array([7, 9]), 1300.0],\n",
       " 52: [array([6, 0]), 0],\n",
       " 53: [array([6, 1]), 200.0],\n",
       " 54: [array([6, 2]), 400.0],\n",
       " 55: [array([6, 3]), 600.0],\n",
       " 56: [array([6, 4]), 800.0],\n",
       " 57: [array([6, 5]), 900.0],\n",
       " 58: [array([6, 6]), 1000.0],\n",
       " 59: [array([6, 7]), 1000.0],\n",
       " 60: [array([6, 8]), 1000.0],\n",
       " 65: [array([5, 0]), 0],\n",
       " 66: [array([5, 1]), 200.0],\n",
       " 67: [array([5, 2]), 400.0],\n",
       " 68: [array([5, 3]), 600.0],\n",
       " 69: [array([5, 4]), 800.0],\n",
       " 70: [array([5, 5]), 900.0],\n",
       " 71: [array([5, 6]), 900.0],\n",
       " 72: [array([5, 7]), 900.0],\n",
       " 78: [array([4, 0]), 0],\n",
       " 79: [array([4, 1]), 200.0],\n",
       " 80: [array([4, 2]), 400.0],\n",
       " 81: [array([4, 3]), 600.0],\n",
       " 82: [array([4, 4]), 800.0],\n",
       " 83: [array([4, 5]), 800.0],\n",
       " 84: [array([4, 6]), 800.0],\n",
       " 91: [array([3, 0]), 0],\n",
       " 92: [array([3, 1]), 200.0],\n",
       " 93: [array([3, 2]), 400.0],\n",
       " 94: [array([3, 3]), 600.0],\n",
       " 95: [array([3, 4]), 600.0],\n",
       " 96: [array([3, 5]), 600.0],\n",
       " 104: [array([2, 0]), 0],\n",
       " 105: [array([2, 1]), 200.0],\n",
       " 106: [array([2, 2]), 400.0],\n",
       " 107: [array([2, 3]), 400.0],\n",
       " 108: [array([2, 4]), 400.0],\n",
       " 117: [array([1, 0]), 0],\n",
       " 118: [array([1, 1]), 200.0],\n",
       " 119: [array([1, 2]), 200.0],\n",
       " 120: [array([1, 3]), 200.0],\n",
       " 130: [array([0, 0]), 0],\n",
       " 131: [array([0, 1]), 0.0],\n",
       " 132: [array([0, 2]), 0.0]}"
      ]
     },
     "execution_count": 130,
     "metadata": {},
     "output_type": "execute_result"
    }
   ],
   "source": [
    "solutions"
   ]
  },
  {
   "cell_type": "code",
   "execution_count": null,
   "metadata": {
    "collapsed": true
   },
   "outputs": [],
   "source": []
  }
 ],
 "metadata": {
  "kernelspec": {
   "display_name": "Python 2",
   "language": "python",
   "name": "python2"
  },
  "language_info": {
   "codemirror_mode": {
    "name": "ipython",
    "version": 2
   },
   "file_extension": ".py",
   "mimetype": "text/x-python",
   "name": "python",
   "nbconvert_exporter": "python",
   "pygments_lexer": "ipython2",
   "version": "2.7.9"
  }
 },
 "nbformat": 4,
 "nbformat_minor": 0
}
