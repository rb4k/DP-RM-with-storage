{
 "cells": [
  {
   "cell_type": "code",
   "execution_count": 38,
   "metadata": {
    "collapsed": true
   },
   "outputs": [],
   "source": [
    "__version__ = '0.3'\n",
    "__author__  = \"Robert Matern (r.matern@stud.uni-hannover.de)\"\n",
    "__date__    = ''\n",
    "__url__     = ''\n",
    "__copyright__ = \"(C) 2015 Robert Matern\""
   ]
  },
  {
   "cell_type": "markdown",
   "metadata": {},
   "source": [
    "#Beispieldaten Nr. 10"
   ]
  },
  {
   "cell_type": "code",
   "execution_count": 39,
   "metadata": {
    "collapsed": false
   },
   "outputs": [],
   "source": [
    "%run Parameter.ipynb\n",
    "%run DynamicProgramm.ipynb"
   ]
  },
  {
   "cell_type": "code",
   "execution_count": 40,
   "metadata": {
    "collapsed": true
   },
   "outputs": [],
   "source": [
    "import matplotlib.pyplot as plt\n",
    "%matplotlib inline"
   ]
  },
  {
   "cell_type": "code",
   "execution_count": 41,
   "metadata": {
    "collapsed": false
   },
   "outputs": [
    {
     "name": "stdout",
     "output_type": "stream",
     "text": [
      "0:00:00.000440\n"
     ]
    }
   ],
   "source": [
    "# Produkte\n",
    "products = Product(3)\n",
    "\n",
    "# Ressourcen\n",
    "resources = Resource(1)\n",
    "\n",
    "#Kapazität\n",
    "capacities = Capacity(resources)\n",
    "capacities[1] = 10\n",
    "#capacities[2] = 10\n",
    "#capacities[3] = 10\n",
    "#capacities[4] = 10\n",
    "#capacities[5] = 5\n",
    "#capacities[6] = 5\n",
    "#capacities[7] = 5\n",
    "#capacities[8] = 5\n",
    "#capacities[9] = 5\n",
    "#capacities[10] = 5\n",
    "#capacities[11] = 5\n",
    "#capacities[12] = 5\n",
    "#capacities[13] = 5\n",
    "\n",
    "# Ressourcenverbrauch\n",
    "consumtions = Consumption(products, resources)\n",
    "consumtions[1] = [0,1]#,0,1,0]#,1,1,0,1,1,1,1,0,1]\n",
    "consumtions[2] = [0,1]#,1,0,1]#,1,0,0,1,1,0,1,1,0]\n",
    "consumtions[3] = [0,1]#,1,1,0]#,0]#,1,1,0,0,0,1,0,0]\n",
    "#consumtions[4] = [0,1,1,0,1]#,1]#,1,0,1,1,0,0,0,0]\n",
    "#consumtions[5] = [0,0,1,1,0]#,0]#,0,0,1,1,1,1,0,1]\n",
    "\n",
    "# Erträge\n",
    "revenues = Revenue(products)\n",
    "revenues[1] = 200\n",
    "revenues[2] = 100\n",
    "revenues[3] = 300\n",
    "#revenues[4] = 220\n",
    "#revenues[5] = 150\n",
    "\n",
    "# Buchungshorizont\n",
    "times = Time(12)\n",
    "\n",
    "# Wahrscheinlichkeiten\n",
    "probs = Prob(products, times)\n",
    "#import random as rd\n",
    "#for t in range(len(times)-1):\n",
    "#    random = 0\n",
    "#    for i in products[1:]:\n",
    "#        i_random = rd.uniform(random, 10.0)\n",
    "#        probs[i][t] = i_random/10.0\n",
    "#        random = i_random\n",
    "# WICHTIG: DIE WAHRSCHEINLICHKEITEN SIND IN DER ZEIT AUFWÄRTS SORTIERT (t=0,1,...,T).\n",
    "probs[1] = [0, 1, 1, 1, 1, 0, 0, 0, 0, 0, 0, 0, 0]\n",
    "probs[2] = [0, 0, 0, 0, 0, 1, 1, 1, 1, 0, 0, 0, 0]\n",
    "probs[3] = [0, 0, 0, 0, 0, 0, 0, 0, 0, 1, 1, 1, 1]\n",
    "#probs[4] = [0.0, 0.1, 0.1, 0.0, 0.6, 0.1, 0.2, 0.1, 0.1, 0.1, 0]\n",
    "#probs[5] = [0.1, 0.1, 0.2, 0.1, 0.1, 0.0, 0.2, 0.2, 0.2, 0.1, 0]\n",
    "\n",
    "# Gegenwahrscheinlichkeiten\n",
    "against_probs = Against_Prob(probs)\n",
    "probs[0] = against_probs\n",
    "\n",
    "# Systemzustände\n",
    "conditions = Condition(capacities, resources, times)"
   ]
  },
  {
   "cell_type": "code",
   "execution_count": 42,
   "metadata": {
    "collapsed": false
   },
   "outputs": [
    {
     "name": "stdout",
     "output_type": "stream",
     "text": [
      "2200.0\n",
      "0:00:00.055659\n"
     ]
    }
   ],
   "source": [
    "import datetime\n",
    "a = datetime.datetime.now()\n",
    "print DP(solutions, conditions, products, resources, capacities, consumtions, times)\n",
    "print datetime.datetime.now()-a"
   ]
  },
  {
   "cell_type": "code",
   "execution_count": 43,
   "metadata": {
    "collapsed": false
   },
   "outputs": [
    {
     "name": "stdout",
     "output_type": "stream",
     "text": [
      "Kürzester Pfad: [12, 24, 36, 48, 60, 72, 84, 96, 108, 120, 132, 131, 130] \n",
      "\n",
      "Startzustand: {'time': 12, 'capacity': array([10]), 'value': 2200.0, 'label': array([10, 12])} \n",
      "\n",
      "Die beste Politik zum Zeitpunkt 12 ist die Annahme des Auftrags:\n",
      "{3: {'goal': array([ 9, 11]), 'weight': 1900.0, 'revenue': 300}} \n",
      "\n",
      "Die beste Politik zum Zeitpunkt 11 ist die Annahme des Auftrags:\n",
      "{3: {'goal': array([ 8, 10]), 'weight': 1600.0, 'revenue': 300}} \n",
      "\n",
      "Die beste Politik zum Zeitpunkt 10 ist die Annahme des Auftrags:\n",
      "{3: {'goal': array([7, 9]), 'weight': 1300.0, 'revenue': 300}} \n",
      "\n",
      "Die beste Politik zum Zeitpunkt 9 ist die Annahme des Auftrags:\n",
      "{3: {'goal': array([6, 8]), 'weight': 1000.0, 'revenue': 300}} \n",
      "\n",
      "Die beste Politik zum Zeitpunkt 8 ist die Annahme des Auftrags:\n",
      "{2: {'goal': array([5, 7]), 'weight': 900.0, 'revenue': 100}} \n",
      "\n",
      "Die beste Politik zum Zeitpunkt 7 ist die Annahme des Auftrags:\n",
      "{2: {'goal': array([4, 6]), 'weight': 800.0, 'revenue': 100}} \n",
      "\n",
      "Die beste Politik zum Zeitpunkt 6 ist die Annahme des Auftrags:\n",
      "{2: {'goal': array([3, 5]), 'weight': 600.0, 'revenue': 100}} \n",
      "\n",
      "Die beste Politik zum Zeitpunkt 5 ist die Annahme des Auftrags:\n",
      "{2: {'goal': array([2, 4]), 'weight': 400.0, 'revenue': 100}} \n",
      "\n",
      "Die beste Politik zum Zeitpunkt 4 ist die Annahme des Auftrags:\n",
      "{1: {'goal': array([1, 3]), 'weight': 200.0, 'revenue': 200}} \n",
      "\n",
      "Die beste Politik zum Zeitpunkt 3 ist die Annahme des Auftrags:\n",
      "{1: {'goal': array([0, 2]), 'weight': 0.0, 'revenue': 200}} \n",
      "\n",
      "Die beste Politik zum Zeitpunkt 2 ist die Annahme des Auftrags:\n",
      "{0: {'goal': array([0, 1]), 'weight': 0.0, 'revenue': 0}} \n",
      "\n",
      "Die beste Politik zum Zeitpunkt 1 ist die Annahme des Auftrags:\n",
      "{0: {'goal': array([0, 0]), 'weight': 0, 'revenue': 0}} \n",
      "\n"
     ]
    }
   ],
   "source": [
    "# Erstellung der Struktur als NetworkX-Graph\n",
    "graph = Structure(solutions, products, consumtions, revenues, probs)\n",
    "\n",
    "# Ermittlung der besten Politik (Dijkstra Algorithmus)\n",
    "best_politic = Best_Politic(graph, times)"
   ]
  },
  {
   "cell_type": "code",
   "execution_count": null,
   "metadata": {
    "collapsed": true
   },
   "outputs": [],
   "source": []
  }
 ],
 "metadata": {
  "kernelspec": {
   "display_name": "Python 2",
   "language": "python",
   "name": "python2"
  },
  "language_info": {
   "codemirror_mode": {
    "name": "ipython",
    "version": 2
   },
   "file_extension": ".py",
   "mimetype": "text/x-python",
   "name": "python",
   "nbconvert_exporter": "python",
   "pygments_lexer": "ipython2",
   "version": "2.7.9"
  }
 },
 "nbformat": 4,
 "nbformat_minor": 0
}
