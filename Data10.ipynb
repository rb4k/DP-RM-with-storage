{
 "cells": [
  {
   "cell_type": "code",
   "execution_count": 10,
   "metadata": {
    "collapsed": true
   },
   "outputs": [],
   "source": [
    "__version__ = '0.3'\n",
    "__author__  = \"Robert Matern (r.matern@stud.uni-hannover.de)\"\n",
    "__date__    = ''\n",
    "__url__     = ''\n",
    "__copyright__ = \"(C) 2015 Robert Matern\""
   ]
  },
  {
   "cell_type": "markdown",
   "metadata": {},
   "source": [
    "#Beispieldaten Nr. 10"
   ]
  },
  {
   "cell_type": "code",
   "execution_count": 11,
   "metadata": {
    "collapsed": false
   },
   "outputs": [],
   "source": [
    "%run Parameter.ipynb\n",
    "%run DynamicProgramm.ipynb"
   ]
  },
  {
   "cell_type": "code",
   "execution_count": null,
   "metadata": {
    "collapsed": false
   },
   "outputs": [],
   "source": [
    "# Produkte\n",
    "products = Product(5)\n",
    "\n",
    "# Ressourcen\n",
    "resources = Resource(13)\n",
    "\n",
    "#Kapazität\n",
    "capacities = Capacity(resources)\n",
    "capacities[1] = 5\n",
    "capacities[2] = 5\n",
    "capacities[3] = 5\n",
    "capacities[4] = 5\n",
    "capacities[5] = 5\n",
    "capacities[6] = 5\n",
    "capacities[7] = 5\n",
    "capacities[8] = 5\n",
    "capacities[9] = 5\n",
    "capacities[10] = 5\n",
    "capacities[11] = 5\n",
    "capacities[12] = 5\n",
    "capacities[13] = 5\n",
    "\n",
    "# Ressourcenverbrauch\n",
    "consumtions = Consumption(products, resources)\n",
    "consumtions[1] = [0,1,0,1,0,1,1,0,1,1,1,1,0,1]\n",
    "consumtions[2] = [0,0,1,0,1,1,0,0,1,1,0,1,1,0]\n",
    "consumtions[3] = [0,1,1,1,0,0,1,1,0,0,0,1,0,0]\n",
    "consumtions[4] = [0,1,1,0,1,1,1,0,1,1,0,0,0,0]\n",
    "consumtions[5] = [0,0,1,1,0,0,0,0,1,1,1,1,0,1]\n",
    "\n",
    "# Erträge\n",
    "revenues = Revenue(products)\n",
    "revenues[1] = 100\n",
    "revenues[2] = 200\n",
    "revenues[3] = 200\n",
    "revenues[4] = 220\n",
    "revenues[5] = 150\n",
    "\n",
    "# Buchungshorizont\n",
    "times = Time(16)\n",
    "\n",
    "# Wahrscheinlichkeiten\n",
    "probs = Prob(products, times)\n",
    "#import random as rd\n",
    "#for t in range(len(times)-1):\n",
    "#    random = 0\n",
    "#    for i in products[1:]:\n",
    "#        i_random = rd.uniform(random, 10.0)\n",
    "#        probs[i][t] = i_random/10.0\n",
    "#        random = i_random\n",
    "probs[1] = [0.5, 0.3, 0.1, 0.2, 0.1, 0.3, 0.2, 0.1, 0.2, 0.3, 0.1, 0.1, 0.1, 0.1, 0.2, 0.0, 0]\n",
    "probs[2] = [0.2, 0.2, 0.1, 0.5, 0.1, 0.3, 0.2, 0.1, 0.2, 0.3, 0.0, 0.1, 0.1, 0.3, 0.2, 0.0, 0]\n",
    "probs[3] = [0.1, 0.3, 0.2, 0.2, 0.1, 0.3, 0.1, 0.1, 0.2, 0.0, 0.3, 0.2, 0.3, 0.4, 0.0, 0.1, 0]\n",
    "probs[4] = [0.0, 0.1, 0.1, 0.0, 0.6, 0.1, 0.2, 0.1, 0.1, 0.1, 0.3, 0.1, 0.2, 0.1, 0.5, 0.1, 0]\n",
    "probs[5] = [0.1, 0.1, 0.2, 0.1, 0.1, 0.0, 0.2, 0.2, 0.2, 0.1, 0.0, 0.1, 0.1, 0.1, 0.1, 0.1, 0]\n",
    "\n",
    "# Gegenwahrscheinlichkeiten\n",
    "#against_probs = Against_Prob(probs)\n",
    "\n",
    "# Systemzustände\n",
    "conditions = Condition(capacities, resources, times)\n",
    "\n",
    "# Endzeitpunkte\n",
    "#end_times = End_Time(conditions)"
   ]
  },
  {
   "cell_type": "code",
   "execution_count": null,
   "metadata": {
    "collapsed": false
   },
   "outputs": [],
   "source": [
    "probs"
   ]
  },
  {
   "cell_type": "code",
   "execution_count": null,
   "metadata": {
    "collapsed": false
   },
   "outputs": [],
   "source": [
    "DP(solutions, conditions, products, resources, capacities, consumtions, times)"
   ]
  }
 ],
 "metadata": {
  "kernelspec": {
   "display_name": "Python 2",
   "language": "python",
   "name": "python2"
  },
  "language_info": {
   "codemirror_mode": {
    "name": "ipython",
    "version": 2
   },
   "file_extension": ".py",
   "mimetype": "text/x-python",
   "name": "python",
   "nbconvert_exporter": "python",
   "pygments_lexer": "ipython2",
   "version": "2.7.9"
  }
 },
 "nbformat": 4,
 "nbformat_minor": 0
}
