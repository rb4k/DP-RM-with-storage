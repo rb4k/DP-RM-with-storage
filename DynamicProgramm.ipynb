{
 "cells": [
  {
   "cell_type": "code",
   "execution_count": 1,
   "metadata": {
    "collapsed": true
   },
   "outputs": [],
   "source": [
    "__version__ = '0.3'\n",
    "__author__  = \"Robert Matern (r.matern@stud.uni-hannover.de)\"\n",
    "__date__    = ''\n",
    "__url__     = ''\n",
    "__copyright__ = \"(C) 2015 Robert Matern\""
   ]
  },
  {
   "cell_type": "code",
   "execution_count": 2,
   "metadata": {
    "collapsed": true
   },
   "outputs": [],
   "source": [
    "# import pandas as pd\n",
    "import numpy as np"
   ]
  },
  {
   "cell_type": "markdown",
   "metadata": {},
   "source": [
    "#Dynamisches Programm"
   ]
  },
  {
   "cell_type": "markdown",
   "metadata": {},
   "source": [
    "Die normale Modellformulierung des Auftragsannahmeproblems im Revenue Management von Instandhaltungsprozessen:\n",
    "\n",
    "$$V(\\textbf{c}, t) = \\sum_{j \\in \\mathcal{J}}p_{j}(t)\\max[V(\\textbf{c}, t-1), r_{j} + V(\\textbf{c}-\\textbf{a}_j, t-1)] + p_{0}(t)V(\\textbf{c}, t-1) $$\n",
    "\n",
    "$$= V(\\textbf{c}, t-1) + \\sum_{j \\in \\mathcal{J}}p_{j}(t) \\max[r_j - V(\\textbf{c}, t-1) + V(\\textbf{c}-\\textbf{a}_j, t-1), 0]$$"
   ]
  },
  {
   "cell_type": "markdown",
   "metadata": {},
   "source": [
    "## Algorithmus"
   ]
  },
  {
   "cell_type": "code",
   "execution_count": 4,
   "metadata": {
    "collapsed": false
   },
   "outputs": [],
   "source": [
    "solutions = {}\n",
    "\n",
    "def DP(solutions, conditions, products, resources, capacities, consumtions, times):\n",
    "    '''Berechnung des maximal möglichen Erwartungswertes eines Auftragsannahmeproblems.'''\n",
    "    \n",
    "    # Leere Integer für den Erwartungswert\n",
    "    value = 0\n",
    "    \n",
    "    # Über eine Schleife und einer If-Bedingung wird der aktuelle Systemzustand ermittelt.\n",
    "    for g in range(len(conditions)):\n",
    "        if np.array_equal(np.asarray(conditions[g][0]), capacities[1:]) and np.asarray(conditions[g][1]) == times[0]:\n",
    "            \n",
    "            # Memofunktion: Das DP wird nur fortgeführt, sofern es nicht schon berechnet wurde.\n",
    "            if g not in solutions:\n",
    "                \n",
    "                # Sofern es sich nicht um einen Endknoten des Entscheidungsbaums handelt,\n",
    "                # werden folgende Schritte eingeleitet:\n",
    "                if times[0]!=0:\n",
    "                    # Das DP(t-1) ohne Akeptanz wird gelöst und im Wert \"value2\" gespeichert.\n",
    "                    value2 = (DP(solutions, conditions, products, resources, capacities, consumtions, times[1:]))\n",
    "                    # Für das DP(t-1) mit Akzeptanz wird ein Numpy-Array in der Länge der Anzahl an Produkten erstellt.\n",
    "                    value3 = np.zeros(shape=(len(products[1:])), dtype=np.float16)\n",
    "                    # For-Schleife über alle Produkte, sofern die Kapazitäten keinen negativen Werte annehmen.\n",
    "                    for j in products[1:]:\n",
    "                        if np.all((capacities-consumtions[j]) >= 0):\n",
    "                            # Initialisierung des DP(t-1) mit Akeptanz jeweils für ein Produkt j.\n",
    "                            value3[j-1] = probs[j][0]*max(revenues[j]-\n",
    "                                                          DP(solutions, conditions, products, resources, capacities, consumtions, times[1:])\n",
    "                                                          +DP(solutions, conditions, products, resources, capacities-consumtions[j], consumtions, times[1:]),\n",
    "                                                          0)\n",
    "                        else:    \n",
    "                            # Erwartungswert für ein Produkt j enspricht\n",
    "                            # der Grenzbedingung V(c,t)=-∞, falls n[j] < 0.\n",
    "                            value3[j-1] = 0\n",
    "                    # Summierung des DP(t-1) ohne Akzeptanz sowie den Numpy-Array DP(t-1) mit Akzeptanz.\n",
    "                    value = value2 + np.sum(value3)\n",
    "                    # Für den aktuellen Systemzustand wird der Ertragswert in das Dict \"solutions\" gespeichert.\n",
    "                    solutions[g] = [conditions[g], value]\n",
    "\n",
    "                # Sofern es sich um einen Endknoten des Entscheidungsbaums handelt, werden folgende Schritte eingeleitet:\n",
    "                else:\n",
    "                    # Erwartungswert enspricht der Grenzbedingung V(c,0)=0, für n >= 0.\n",
    "                    value = 0.0\n",
    "                    # Ein Endzustand wird mit einem Erwartungswert 0 in das Dict \"solutions\" gespeichert.\n",
    "                    solutions[g] = [conditions[g], value]\n",
    "                    return value        \n",
    "            \n",
    "            # Memofunktion: Sofern das Ergebnis breits berechnet wurde, wird der Wert aus dem Dict \"solutions\" verwendet.\n",
    "            else:\n",
    "                value = solutions[g][1]\n",
    "    \n",
    "    return value"
   ]
  },
  {
   "cell_type": "markdown",
   "metadata": {},
   "source": [
    "## Erstellung der Struktur als NetworkX-Graph"
   ]
  },
  {
   "cell_type": "code",
   "execution_count": null,
   "metadata": {
    "collapsed": true
   },
   "outputs": [],
   "source": [
    "import networkx as nx\n",
    "\n",
    "def Structure(solutions, products, consumtions, revenues):\n",
    "    graph=nx.DiGraph()\n",
    "\n",
    "    for key in solutions.iterkeys():\n",
    "        graph.add_node(key, label=solutions[key][0], value=solutions[key][1],\n",
    "                   capacity=solutions[key][0][0], time=solutions[key][0][1])\n",
    "    graph.add_node(\"end\")\n",
    "\n",
    "    for i in solutions.iterkeys():\n",
    "        if np.any(solutions[i][0][0]) == 0 or solutions[i][0][1] == 0:\n",
    "            graph.add_edge(i, \"end\", weight=0, revenue=0, adoption=0)\n",
    "        else:\n",
    "            for s in solutions.iterkeys():\n",
    "                for j in products:\n",
    "                    capa = []\n",
    "                    capa = solutions[i][0][0] - consumtions[j][1:]\n",
    "                    if  np.array_equal(capa, solutions[s][0][0]) and solutions[i][0][1] == solutions[s][0][1]+1:\n",
    "                        graph.add_edge(i, s, weight=solutions[s][1], revenue=revenues[j], adoption=j)\n",
    "    return graph"
   ]
  },
  {
   "cell_type": "markdown",
   "metadata": {},
   "source": [
    "## Ermittlung der besten Politik (Dijkstra Algorithmus)"
   ]
  },
  {
   "cell_type": "code",
   "execution_count": null,
   "metadata": {
    "collapsed": true
   },
   "outputs": [],
   "source": [
    "def Best_Politic(graph, times, start=None):\n",
    "    list = nx.topological_sort(graph)\n",
    "    if start == None:\n",
    "        pol = nx.dijkstra_path(graph, list[0], \"end\")\n",
    "    else:\n",
    "        pol = nx.dijkstra_path(graph, start, \"end\")\n",
    "    \n",
    "    return pol"
   ]
  },
  {
   "cell_type": "raw",
   "metadata": {
    "collapsed": false
   },
   "source": [
    "def Value(conditions):\n",
    "    values = [] \n",
    "    for i in range(len(conditions)):\n",
    "        if conditions[i][1] == 0:\n",
    "            values = values + [[conditions[i], 0]]\n",
    "        else:\n",
    "            values = values + [[conditions[i], None]]\n",
    "    return values\n",
    "\n",
    "values = Value(conditions)\n",
    "values"
   ]
  }
 ],
 "metadata": {
  "kernelspec": {
   "display_name": "Python 2",
   "language": "python",
   "name": "python2"
  },
  "language_info": {
   "codemirror_mode": {
    "name": "ipython",
    "version": 2
   },
   "file_extension": ".py",
   "mimetype": "text/x-python",
   "name": "python",
   "nbconvert_exporter": "python",
   "pygments_lexer": "ipython2",
   "version": "2.7.9"
  }
 },
 "nbformat": 4,
 "nbformat_minor": 0
}
