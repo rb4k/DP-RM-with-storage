{
 "cells": [
  {
   "cell_type": "code",
   "execution_count": 1,
   "metadata": {
    "collapsed": true
   },
   "outputs": [],
   "source": [
    "__version__ = '0.1'\n",
    "__author__  = \"Robert Matern (r.matern@stud.uni-hannover.de)\"\n",
    "__date__    = ''\n",
    "__url__     = ''\n",
    "__copyright__ = \"(C) 2015 Robert Matern\""
   ]
  },
  {
   "cell_type": "code",
   "execution_count": 2,
   "metadata": {
    "collapsed": true
   },
   "outputs": [],
   "source": [
    "import pydecode\n",
    "import pandas as pd\n",
    "import numpy as np\n",
    "import matplotlib.pyplot as plt"
   ]
  },
  {
   "cell_type": "markdown",
   "metadata": {},
   "source": [
    "Die normale Modellformulierung des Auftragsannahmeproblems im Revenue Management von Instandhaltungsprozessen:\n",
    "\n",
    "$$V(\\textbf{c}, t) = \\sum_{j \\in \\mathcal{J}}p_{j}(t)\\max(V(\\textbf{c}, t-1), r_{j} + V(\\textbf{c}-\\textbf{a}, t-1)) + p_{0}(t)V(\\textbf{c}, t-1) $$"
   ]
  },
  {
   "cell_type": "markdown",
   "metadata": {},
   "source": [
    "Eine Anfrage kann akzeptiert oder abgelehnt werden:"
   ]
  },
  {
   "cell_type": "code",
   "execution_count": 3,
   "metadata": {
    "collapsed": true
   },
   "outputs": [],
   "source": [
    "kReject, kAccept = 0, 1\n",
    "operations = np.array([kReject, kAccept])\n",
    "#offsets = np.array([[1,0], [0,1], [1,1]]) \n",
    "op_names = np.array([\"Reject\",  \"Accept\"])"
   ]
  },
  {
   "cell_type": "markdown",
   "metadata": {},
   "source": [
    "Es gibt $j$ Produkte:"
   ]
  },
  {
   "cell_type": "code",
   "execution_count": 4,
   "metadata": {
    "collapsed": false
   },
   "outputs": [
    {
     "data": {
      "text/plain": [
       "array([1, 2, 3])"
      ]
     },
     "execution_count": 4,
     "metadata": {},
     "output_type": "execute_result"
    }
   ],
   "source": [
    "def Product(j):\n",
    "    return np.arange(1, j+1)\n",
    "\n",
    "Products = Product(3)\n",
    "Products"
   ]
  },
  {
   "cell_type": "markdown",
   "metadata": {},
   "source": [
    "Es gibt $h$ Ressourcen:"
   ]
  },
  {
   "cell_type": "code",
   "execution_count": 5,
   "metadata": {
    "collapsed": false
   },
   "outputs": [
    {
     "data": {
      "text/plain": [
       "array([1, 2])"
      ]
     },
     "execution_count": 5,
     "metadata": {},
     "output_type": "execute_result"
    }
   ],
   "source": [
    "def Resource(h):\n",
    "    return np.arange(1, h+1)\n",
    "\n",
    "Resources = Resource(2)\n",
    "Resources"
   ]
  },
  {
   "cell_type": "code",
   "execution_count": 6,
   "metadata": {
    "collapsed": false
   },
   "outputs": [
    {
     "data": {
      "text/plain": [
       "array([ 0.,  5.,  4.])"
      ]
     },
     "execution_count": 6,
     "metadata": {},
     "output_type": "execute_result"
    }
   ],
   "source": [
    "def capacity(c):\n",
    "    matrix = np.zeros(shape=(c+1))\n",
    "    return matrix\n",
    "\n",
    "capacities = capacity(len(Resources))\n",
    "capacities[1] = 5\n",
    "capacities[2] = 4\n",
    "capacities"
   ]
  },
  {
   "cell_type": "markdown",
   "metadata": {},
   "source": [
    "Eine Matrix des Ressourcenverbrauchs $a_{j}$ für jedes Produkte $j$:"
   ]
  },
  {
   "cell_type": "code",
   "execution_count": 7,
   "metadata": {
    "collapsed": false
   },
   "outputs": [
    {
     "data": {
      "text/plain": [
       "array([[ 0.,  0.],\n",
       "       [ 1.,  0.],\n",
       "       [ 0.,  1.],\n",
       "       [ 1.,  1.]])"
      ]
     },
     "execution_count": 7,
     "metadata": {},
     "output_type": "execute_result"
    }
   ],
   "source": [
    "def consumption(j, h):\n",
    "    matrix = np.zeros(shape=(j+1,h))\n",
    "    #matrix[0] = [range]\n",
    "    return matrix\n",
    "\n",
    "consumtions = consumption(len(Products), len(Resources))\n",
    "consumtions[1] = [1,0]\n",
    "consumtions[2] = [0,1]\n",
    "consumtions[3] = [1,1]\n",
    "consumtions"
   ]
  },
  {
   "cell_type": "markdown",
   "metadata": {},
   "source": [
    "Jedes Produkt $j$ erzielt einen Ertrag $r_j$:"
   ]
  },
  {
   "cell_type": "code",
   "execution_count": 8,
   "metadata": {
    "collapsed": false
   },
   "outputs": [
    {
     "data": {
      "text/plain": [
       "array([   0.,  100.,  200.,  300.])"
      ]
     },
     "execution_count": 8,
     "metadata": {},
     "output_type": "execute_result"
    }
   ],
   "source": [
    "def revenue(r):\n",
    "    vector = np.zeros(shape=(r+1))\n",
    "    return vector\n",
    "\n",
    "revenues = revenue(len(Products))\n",
    "revenues[1] = 100\n",
    "revenues[2] = 200\n",
    "revenues[3] = 300\n",
    "revenues"
   ]
  },
  {
   "cell_type": "markdown",
   "metadata": {},
   "source": [
    "Eine Anzahl an Buchungsperioden $t$ (Buchungshorizont):"
   ]
  },
  {
   "cell_type": "code",
   "execution_count": 9,
   "metadata": {
    "collapsed": false
   },
   "outputs": [
    {
     "data": {
      "text/plain": [
       "array([4, 3, 2, 1, 0])"
      ]
     },
     "execution_count": 9,
     "metadata": {},
     "output_type": "execute_result"
    }
   ],
   "source": [
    "def time(t):\n",
    "    time = np.arange(t+1)\n",
    "    time = time[::-1]\n",
    "    return time\n",
    "\n",
    "times = time(4)\n",
    "times "
   ]
  },
  {
   "cell_type": "markdown",
   "metadata": {},
   "source": [
    "Eine Anfragen nach einem Produkte $j$ zum Zeitpunkt $t$ hat eine bestimmte Eintrittfahrscheinlichkeit $p_j(t)$:"
   ]
  },
  {
   "cell_type": "code",
   "execution_count": 10,
   "metadata": {
    "collapsed": false
   },
   "outputs": [
    {
     "data": {
      "text/plain": [
       "array([[ 0. ,  0. ,  0. ,  0. ,  0. ],\n",
       "       [ 0.4,  0.3,  0.2,  0.1,  0. ],\n",
       "       [ 0.3,  0.2,  0.1,  0.2,  0. ],\n",
       "       [ 0.2,  0.1,  0.2,  0.3,  0. ]])"
      ]
     },
     "execution_count": 10,
     "metadata": {},
     "output_type": "execute_result"
    }
   ],
   "source": [
    "def prob(j, t):\n",
    "    matrix = np.zeros(shape=(j+1,t))\n",
    "    #matrix[0] = [range]\n",
    "    return matrix\n",
    "\n",
    "probs = prob(len(Products), len(times))\n",
    "probs[1] = [0.4, 0.3, 0.2, 0.1, 0.]\n",
    "probs[2] = [0.3, 0.2, 0.1, 0.2, 0.]\n",
    "probs[3] = [0.2, 0.1, 0.2, 0.3, 0.]\n",
    "probs"
   ]
  },
  {
   "cell_type": "markdown",
   "metadata": {},
   "source": [
    "Die Wahrscheinlichkeit, dass keine Anfrage eintrifft entspricht $p_0(t)$"
   ]
  },
  {
   "cell_type": "code",
   "execution_count": 11,
   "metadata": {
    "collapsed": false
   },
   "outputs": [
    {
     "data": {
      "text/plain": [
       "array([ 0.1,  0.4,  0.5,  0.4,  1. ])"
      ]
     },
     "execution_count": 11,
     "metadata": {},
     "output_type": "execute_result"
    }
   ],
   "source": [
    "def against_prob(prob):\n",
    "    matrix = prob.T\n",
    "    matrix2 = np.zeros(shape=(len(matrix)))\n",
    "    for i in range(0, len(matrix)):\n",
    "        matrix2[i] = 1-(matrix[i].sum())\n",
    "    return matrix2\n",
    "    \n",
    "against_prob(probs)"
   ]
  },
  {
   "cell_type": "markdown",
   "metadata": {},
   "source": [
    "Die Ertragsfunktionen werden in Abhängigkeit der Produkte, der Ressourcenkapazität und des Buchungshorizonts ermittelt:"
   ]
  },
  {
   "cell_type": "code",
   "execution_count": 12,
   "metadata": {
    "collapsed": false,
    "scrolled": true
   },
   "outputs": [
    {
     "ename": "ValueError",
     "evalue": "setting an array element with a sequence.",
     "output_type": "error",
     "traceback": [
      "\u001b[0;31m---------------------------------------------------------------------------\u001b[0m",
      "\u001b[0;31mValueError\u001b[0m                                Traceback (most recent call last)",
      "\u001b[0;32m<ipython-input-12-51bcf010d7e3>\u001b[0m in \u001b[0;36m<module>\u001b[0;34m()\u001b[0m\n\u001b[1;32m      1\u001b[0m \u001b[0mmatrix\u001b[0m \u001b[0;34m=\u001b[0m \u001b[0mnp\u001b[0m\u001b[0;34m.\u001b[0m\u001b[0mzeros\u001b[0m\u001b[0;34m(\u001b[0m\u001b[0mshape\u001b[0m\u001b[0;34m=\u001b[0m\u001b[0;34m(\u001b[0m\u001b[0mlen\u001b[0m\u001b[0;34m(\u001b[0m\u001b[0mcapacities\u001b[0m\u001b[0;34m+\u001b[0m\u001b[0;36m1\u001b[0m\u001b[0;34m)\u001b[0m\u001b[0;34m,\u001b[0m\u001b[0mlen\u001b[0m\u001b[0;34m(\u001b[0m\u001b[0mtimes\u001b[0m\u001b[0;34m)\u001b[0m\u001b[0;34m)\u001b[0m\u001b[0;34m)\u001b[0m\u001b[0;34m\u001b[0m\u001b[0m\n\u001b[1;32m      2\u001b[0m \u001b[0;34m\u001b[0m\u001b[0m\n\u001b[0;32m----> 3\u001b[0;31m \u001b[0mmatrix\u001b[0m\u001b[0;34m[\u001b[0m\u001b[0;36m0\u001b[0m\u001b[0;34m]\u001b[0m\u001b[0;34m[\u001b[0m\u001b[0;36m0\u001b[0m\u001b[0;34m]\u001b[0m \u001b[0;34m=\u001b[0m \u001b[0mnp\u001b[0m\u001b[0;34m.\u001b[0m\u001b[0marray\u001b[0m\u001b[0;34m(\u001b[0m\u001b[0;34m[\u001b[0m\u001b[0;36m1\u001b[0m\u001b[0;34m,\u001b[0m \u001b[0;36m2\u001b[0m\u001b[0;34m]\u001b[0m\u001b[0;34m)\u001b[0m\u001b[0;34m\u001b[0m\u001b[0m\n\u001b[0m\u001b[1;32m      4\u001b[0m \u001b[0mmatrix\u001b[0m\u001b[0;34m\u001b[0m\u001b[0m\n",
      "\u001b[0;31mValueError\u001b[0m: setting an array element with a sequence."
     ]
    }
   ],
   "source": [
    "matrix = np.zeros(shape=(len(capacities+1),len(times)))\n",
    "\n",
    "matrix[0][0] = np.array([1, 2])\n",
    "matrix"
   ]
  },
  {
   "cell_type": "code",
   "execution_count": null,
   "metadata": {
    "collapsed": false
   },
   "outputs": [],
   "source": [
    "def value(c, t):\n",
    "    matrix = np.zeros(shape=(len(c+1),len(t)))\n",
    "    for i in range(1, len(c)):\n",
    "        for j in range(0, len(t)):\n",
    "            matrix[i][j] = np.zeros(shape=2)\n",
    "            matrix[i][j][0] = c[i]\n",
    "            matrix[i][j][1] = t[j]\n",
    "    return matrix\n",
    "\n",
    "value(capacities, times)"
   ]
  },
  {
   "cell_type": "code",
   "execution_count": null,
   "metadata": {
    "collapsed": false
   },
   "outputs": [],
   "source": [
    "times\n",
    "chart = pydecode.ChartBuilder(times)\n",
    "chart.init(times[1:len(times)])\n",
    "chart.set(times[0],\n",
    "          [[times[1]], [times[2]], [times[3]], [times[4]]],\n",
    "          labels=[1,2,3,4])\n",
    "pydecode.draw(chart.finish(), labels=True)"
   ]
  },
  {
   "cell_type": "code",
   "execution_count": null,
   "metadata": {
    "collapsed": false
   },
   "outputs": [],
   "source": [
    "\n",
    "\n",
    "\n"
   ]
  },
  {
   "cell_type": "code",
   "execution_count": null,
   "metadata": {
    "collapsed": false
   },
   "outputs": [],
   "source": [
    "def simple_hypergraph():\n",
    "    \"\"\"\n",
    "    Create a simple hypergraph.\n",
    "    \"\"\"\n",
    "    enc = np.arange(7)                                          # array([0, 1, 2, 3, 4, 5])\n",
    "    c = pydecode.ChartBuilder(enc, np.arange(10))               # <pydecode._pydecode.ChartBuilder at 0x105604150>\n",
    "\n",
    "    c.init(enc[:4])                                             # None\n",
    "    \n",
    "    c.set_t(enc[4], enc[0:2], enc[1:3], labels=np.arange(2))    # None\n",
    "    \n",
    "    c.set_t(enc[5], np.repeat(enc[4], 1), enc[[3]], labels=np.array([2])) # None\n",
    "    \n",
    "    c.set_t(enc[6], np.repeat(enc[5], 1), enc[[4]], labels=np.array([3])) # None\n",
    "    \n",
    "    dp = c.finish()                                             # <pydecode._pydecode.Hypergraph object at 0x1079d2aa0>\n",
    "    # for edge in hypergraph.edges:\n",
    "    #     assert edge.label in [\"0\", \"1\", \"2\", \"3\", \"4\"]\n",
    "    return dp\n",
    "\n",
    "hypergraph = simple_hypergraph()\n",
    "\n",
    "for vertex in hypergraph.vertices:\n",
    "    print vertex.id, vertex.is_terminal\n",
    "    for edge in vertex.edges:\n",
    "        print \"\\t\", edge.id, edge.label"
   ]
  },
  {
   "cell_type": "code",
   "execution_count": null,
   "metadata": {
    "collapsed": false
   },
   "outputs": [],
   "source": [
    "def DynPro(capacity, time):\n",
    "    "
   ]
  }
 ],
 "metadata": {
  "kernelspec": {
   "display_name": "Python 2",
   "language": "python",
   "name": "python2"
  },
  "language_info": {
   "codemirror_mode": {
    "name": "ipython",
    "version": 2
   },
   "file_extension": ".py",
   "mimetype": "text/x-python",
   "name": "python",
   "nbconvert_exporter": "python",
   "pygments_lexer": "ipython2",
   "version": "2.7.9"
  }
 },
 "nbformat": 4,
 "nbformat_minor": 0
}
