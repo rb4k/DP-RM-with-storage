{
 "cells": [
  {
   "cell_type": "code",
   "execution_count": 5,
   "metadata": {
    "collapsed": true
   },
   "outputs": [],
   "source": [
    "__version__ = '0.3'\n",
    "__author__  = \"Robert Matern (r.matern@stud.uni-hannover.de)\"\n",
    "__date__    = ''\n",
    "__url__     = ''\n",
    "__copyright__ = \"(C) 2015 Robert Matern\""
   ]
  },
  {
   "cell_type": "code",
   "execution_count": 6,
   "metadata": {
    "collapsed": true
   },
   "outputs": [],
   "source": [
    "# import pandas as pd\n",
    "import numpy as np"
   ]
  },
  {
   "cell_type": "markdown",
   "metadata": {},
   "source": [
    "#Dynamisches Programm"
   ]
  },
  {
   "cell_type": "markdown",
   "metadata": {},
   "source": [
    "Die normale Modellformulierung des Auftragsannahmeproblems im Revenue Management von Instandhaltungsprozessen:\n",
    "\n",
    "$$V(\\textbf{c}, t) = \\sum_{j \\in \\mathcal{J}}p_{j}(t)\\max[V(\\textbf{c}, t-1), r_{j} + V(\\textbf{c}-\\textbf{a}_j, t-1)] + p_{0}(t)V(\\textbf{c}, t-1) $$\n",
    "\n",
    "$$= V(\\textbf{c}, t-1) + \\sum_{j \\in \\mathcal{J}}p_{j}(t) \\max[r_j - V(\\textbf{c}, t-1) + V(\\textbf{c}-\\textbf{a}_j, t-1), 0]$$"
   ]
  },
  {
   "cell_type": "markdown",
   "metadata": {},
   "source": [
    "## Algorithmus"
   ]
  },
  {
   "cell_type": "code",
   "execution_count": 7,
   "metadata": {
    "collapsed": false
   },
   "outputs": [],
   "source": [
    "solutions = {}\n",
    "\n",
    "def DP(solutions, conditions, products, resources, capacities, consumtions, times):\n",
    "    '''Berechnung der Erwartungswerte des Auftragsannahmeproblems.'''\n",
    "    \n",
    "    # Leere Wert für den Erwartungswert des aktuellen Systemzustands.\n",
    "    value = 0\n",
    "    \n",
    "    #Aktueller Systemzustand wird generiert.\n",
    "    capacity = capacities[1:]\n",
    "    time = times[0]\n",
    "    condition = np.append(capacity, times[0])\n",
    "    \n",
    "    #Aktueller Systemzustand wird in dem 'np.array' aller möglichen Systemzustände gesucht.\n",
    "    state = np.where((conditions == condition).all(axis=1))[0][0]\n",
    "    \n",
    "    # Memofunktion: Das DP wird nur fortgeführt, sofern es nicht schon berechnet wurde.\n",
    "    if state not in solutions:\n",
    "                \n",
    "        # Sofern es sich nicht um einen Endknoten des Entscheidungsbaums handelt,\n",
    "        # werden folgende Schritte eingeleitet:\n",
    "        if times[0]!=0:\n",
    "            # Das DP(t-1) ohne Akeptanz wird gelöst und im Wert 'reject' gespeichert.\n",
    "            capacity = capacities[1:]\n",
    "            time = times[1]\n",
    "            condition = np.append(capacity, times[0])\n",
    "            state_reject = np.where((conditions == condition).all(axis=1))[0][0]\n",
    "            if state_reject not in solutions:\n",
    "                reject = DP(solutions, conditions, products, resources, capacities, consumtions, times[1:])\n",
    "            else:\n",
    "                reject = solutions[state_reject][1]\n",
    "            # Für das DP(t-1) mit Akzeptanz wird ein Numpy-Array in der Länge der Anzahl an Produkten erstellt.\n",
    "            accept = np.zeros(shape=(len(products[1:])), dtype=np.float16)\n",
    "            # For-Schleife über alle Produkte, sofern die Kapazitäten keinen negativen Werte annehmen.\n",
    "            for j in products[1:]:\n",
    "                change = capacities-consumtions[j]\n",
    "                if np.all((change) >= 0):\n",
    "                    # Initialisierung des DP(t-1) mit Akeptanz jeweils für ein Produkt j.\n",
    "                    capacity = change[1:]\n",
    "                    time = times[1]\n",
    "                    condition = np.append(capacity, times[0])\n",
    "                    state_accept = np.where((conditions == condition).all(axis=1))[0][0]\n",
    "                    if state_accept not in solutions:\n",
    "                        accept_j = DP(solutions, conditions, products, resources, change, consumtions, times[1:])\n",
    "                        accept[j-1] = probs[j][times[0]]*max(revenues[j]-reject+accept_j, 0)\n",
    "                    else:\n",
    "                        accept[j-1] = solutions[state_accept][1]\n",
    "                else:    \n",
    "                    # Erwartungswert für ein Produkt j enspricht\n",
    "                    # der Grenzbedingung V(c,t)=-∞, falls n[j] < 0.\n",
    "                    accept[j-1] = 0\n",
    "                            \n",
    "            # Summierung des DP(t-1) ohne Akzeptanz sowie den Numpy-Array DP(t-1) mit Akzeptanz.\n",
    "            value = np.around(reject + np.sum(accept), decimals=2)\n",
    "            # Für den aktuellen Systemzustand wird der Ertragswert in das Dict \"solutions\" gespeichert.\n",
    "            solutions[state] = [conditions[state], value]\n",
    "\n",
    "        # Sofern es sich um einen Endknoten des Entscheidungsbaums handelt, werden folgende Schritte eingeleitet:\n",
    "        else:\n",
    "            # Erwartungswert enspricht der Grenzbedingung V(c,0)=0, für n >= 0.\n",
    "            value = 0\n",
    "            # Ein Endzustand wird mit einem Erwartungswert 0 in das Dict \"solutions\" gespeichert.\n",
    "            solutions[state] = [conditions[state], value]\n",
    "            return value        \n",
    "            \n",
    "    # Memofunktion: Sofern das Ergebnis breits berechnet wurde, wird der Wert aus dem Dict \"solutions\" verwendet.\n",
    "    else:\n",
    "        value = solutions[state][1]\n",
    "                \n",
    "    return value"
   ]
  },
  {
   "cell_type": "markdown",
   "metadata": {},
   "source": [
    "## Erstellung der Struktur als NetworkX-Graph"
   ]
  },
  {
   "cell_type": "code",
   "execution_count": 8,
   "metadata": {
    "collapsed": true
   },
   "outputs": [],
   "source": [
    "import networkx as nx\n",
    "\n",
    "def Structure(solutions, products, consumtions, revenues, probs):\n",
    "    '''Generierung der Stuktur der Problemstellung.'''\n",
    "    graph=nx.MultiDiGraph()\n",
    "\n",
    "    for key in solutions.iterkeys():\n",
    "        graph.add_node(key, label=solutions[key][0], value=solutions[key][1],\n",
    "                   capacity=solutions[key][0][:-1], time=solutions[key][0][-1])\n",
    "    graph.add_node(\"end\")\n",
    "    \n",
    "    for i in solutions.iterkeys():\n",
    "        if solutions[i][0][-1] == 0: # Ist der Zeitpunkt 0, dann verbinde diese Lösung mit dem 'end'-Knoten.\n",
    "            graph.add_edge(i, \"end\", weight=0, revenue=0)\n",
    "        else:\n",
    "            for s in solutions.iterkeys():\n",
    "                for j in products:\n",
    "                    capa = []\n",
    "                    capa = solutions[i][0][:-1] - consumtions[j][1:]\n",
    "                    if np.array_equal(capa, solutions[s][0][:-1]) and solutions[i][0][-1]-1 == solutions[s][0][-1]:\n",
    "                        if  j == 0:\n",
    "                            #print i, s, revenues[j], 0\n",
    "                            graph.add_edge(i, s, key=0, weight=0, weight_goal=solutions[s][1], revenue=revenues[j], goal=solutions[s][0], time=solutions[i][0][-1])\n",
    "                        if  j != 0 and probs[j][solutions[i][0][-1]]>0:\n",
    "                            for k in solutions.iterkeys():\n",
    "                                if np.array_equal(solutions[i][0][:-1], solutions[k][0][:-1]) and solutions[i][0][-1]-1 == solutions[k][0][-1]:\n",
    "                                    if revenues[j] >= solutions[k][1]-solutions[s][1]:\n",
    "                                        graph.add_edge(i, s, key=j, weight=revenues[j]-solutions[k][1]+solutions[s][1], weight_goal=solutions[s][1], revenue=revenues[j], goal=solutions[s][0], time=solutions[i][0][-1])\n",
    "                                    else:\n",
    "                                        graph.add_edge(i, s, key=j, weight=0, weight_goal=solutions[s][1], revenue=revenues[j], goal=solutions[s][0], time=solutions[i][0][-1])\n",
    "\n",
    "    return graph"
   ]
  },
  {
   "cell_type": "markdown",
   "metadata": {},
   "source": [
    "## Ermittlung der optimalen Politik (Dijkstra Algorithmus)"
   ]
  },
  {
   "cell_type": "code",
   "execution_count": 9,
   "metadata": {
    "collapsed": true
   },
   "outputs": [],
   "source": [
    "def Best_Politic(graph, times, products, start=None):\n",
    "    '''Ermittlung der optimalen Politik.'''\n",
    "    \n",
    "    print 'Optimalen Politik zum Zeitpunkt \"t\" und unter Beachtung der Restkapazitäten \"c[h]\":', '\\n'\n",
    "    \n",
    "    # List mit topologischer Sortierung des Graphen wird erstellt.\n",
    "    list = nx.topological_sort(graph)\n",
    "    \n",
    "    # Schleife über alle Knoten der topologisch sortierten Liste.\n",
    "    for node in list:\n",
    "        # Ist die Schleife zum Endknoten der Liste gekommen, dann wird sie unterbrochen.\n",
    "        if node == 'end':\n",
    "            break\n",
    "        # Ist die Schleife zu einem Endzeitpunkt gekommen, dann wird sie übersprungen.\n",
    "        if graph.node[node]['time'] == 0:\n",
    "            continue\n",
    "        # Sonst werden die möglichen Auftragsannahmen des Knotens in eine Liste geschrieben.\n",
    "        else:\n",
    "            array = []\n",
    "            for suc in graph.successors(node):\n",
    "                for order in graph.edge[node][suc].iterkeys():\n",
    "                    array.append((node,suc,order,graph.edge[node][suc][order]['weight']))\n",
    "                    \n",
    "                    # Boolescher Wert 'not_best_politic' zur Ermittlung des Pfads wird angelegt.\n",
    "                    graph.edge[node][suc][order]['not_best_politic']=True\n",
    "            \n",
    "            # Sofern keine Auftragsannahme möglich ist:\n",
    "            if not array:\n",
    "                print 'Zeitpunkt:', graph.node[node]['time'], 'Kapazität:', graph.node[node]['capacity']\n",
    "                print '===> keine weitere Annahme einer Anfrage möglich. \\n'\n",
    "            # Sofern Auftragsannahmen möglich sind, wird die Option mit der besten Politik bestimmt.\n",
    "            else:\n",
    "                print 'Zeitpunkt:', graph.node[node]['time'], 'Kapazität:', graph.node[node]['capacity']\n",
    "                maxweight = max(array, key=lambda x: x[3])\n",
    "                print '===> Annahme des Auftrags:', maxweight[2]\n",
    "                print 'Ertrag \"r[j]\" abzgl. Opportunitätskosten \"OC[j,c,t]\":', maxweight[3], '\\n'\n",
    "                \n",
    "                # Boolescher Wert 'not_best_politic' für den Pfad wird bestimmt.\n",
    "                graph.edge[maxweight[0]][maxweight[1]][maxweight[2]]['not_best_politic']=False\n",
    "    \n",
    "    # Optimaler Pfad wird mittels Dijkstra-Algorithmus geschrieben.\n",
    "    path = nx.dijkstra_path(graph, source=list[0], target=list[-1], weight='not_best_politic')[:-1]\n",
    "    print 'Optimale Politik:', path\n",
    "    rev = [0] * len(times)\n",
    "    for i, node in enumerate(path[:-1]):\n",
    "        for order in graph.edge[node][path[i+1]].iterkeys():\n",
    "            if graph.edge[node][path[i+1]][order]['not_best_politic'] == False:\n",
    "                rev[graph.node[node]['time']] = graph.edge[node][path[i+1]][order]['revenue']\n",
    "    print 'Revenue je Buchungsperiode:', rev[::-1]\n",
    "    print 'Gesamt-Revenue:', sum(rev), '\\n'\n",
    "        \n",
    "    return"
   ]
  },
  {
   "cell_type": "code",
   "execution_count": 10,
   "metadata": {
    "collapsed": true
   },
   "outputs": [],
   "source": [
    "def Best_Politic_Demand(graph, times, products, demands, start=None):\n",
    "    '''Ermittlung der optimalen Politik.'''\n",
    "    \n",
    "    print 'Optimalen Politik zum Zeitpunkt \"t\" und unter Beachtung der Restkapazitäten \"c[h]\" sowie der tatsächlich eintreffenden Nachfrage \"d[j,t]\":', '\\n'\n",
    "    \n",
    "    # List mit topologischer Sortierung des Graphen wird erstellt.\n",
    "    list = nx.topological_sort(graph)\n",
    "    \n",
    "    # Schleife über alle Knoten der topologisch sortierten Liste.\n",
    "    for node in list:\n",
    "        # Ist die Schleife zum Endknoten der Liste gekommen, dann wird sie unterbrochen.\n",
    "        if node == 'end':\n",
    "            break\n",
    "        # Ist die Schleife zu einem Endzeitpunkt gekommen, dann wird sie übersprungen.\n",
    "        if graph.node[node]['time'] == 0:\n",
    "            continue\n",
    "        # Sonst werden die möglichen Auftragsannahmen des Knotens in eine Liste geschrieben.\n",
    "        else:\n",
    "            array = []\n",
    "            for suc in graph.successors(node):\n",
    "                for order in graph.edge[node][suc].iterkeys():\n",
    "                    # Sofern keine Anfrage eintrifft, wird die mögliche Auftragsannahme nicht aufgenommen.\n",
    "                    if demands[order][graph.edge[node][suc][order]['time']] == True:\n",
    "                        array.append((node,suc,order,graph.edge[node][suc][order]['weight']))\n",
    "\n",
    "                    # Boolescher Wert 'not_best_politic' zur Ermittlung des Pfads wird angelegt.\n",
    "                    graph.edge[node][suc][order]['not_best_politic']=True\n",
    "            \n",
    "            # Sofern keine Auftragsannahme möglich ist:\n",
    "            if not array:\n",
    "                print 'Zeitpunkt:', graph.node[node]['time'], 'Kapazität:', graph.node[node]['capacity']\n",
    "                print '===> keine weitere Annahme einer Anfrage möglich. \\n'\n",
    "            # Sofern Auftragsannahmen möglich sind, wird die Option mit der besten Politik bestimmt.\n",
    "            else:\n",
    "                print 'Zeitpunkt:', graph.node[node]['time'], 'Kapazität:', graph.node[node]['capacity']\n",
    "                maxweight = max(array, key=lambda x: x[3])\n",
    "                print '===> Annahme des Auftrags:', maxweight[2]\n",
    "                print 'Ertrag \"r[j]\" abzgl. Opportunitätskosten \"OC[j,c,t]\":', maxweight[3], '\\n'\n",
    "                \n",
    "                # Boolescher Wert 'not_best_politic' für den Pfad wird bestimmt.\n",
    "                graph.edge[maxweight[0]][maxweight[1]][maxweight[2]]['not_best_politic']=False\n",
    "    \n",
    "    # Optimaler Pfad wird mittels Dijkstra-Algorithmus geschrieben.\n",
    "    path = nx.dijkstra_path(graph, source=list[0], target=list[-1], weight='not_best_politic')[:-1]\n",
    "    print 'Optimale Politik:', path\n",
    "    rev = [0] * len(times)\n",
    "    for i, node in enumerate(path[:-1]):\n",
    "        for order in graph.edge[node][path[i+1]].iterkeys():\n",
    "            if graph.edge[node][path[i+1]][order]['not_best_politic'] == False:\n",
    "                rev[graph.node[node]['time']] = graph.edge[node][path[i+1]][order]['revenue']\n",
    "    print 'Revenue je Buchungsperiode:', rev[::-1]\n",
    "    print 'Gesamt-Revenue:', sum(rev), '\\n'\n",
    "        \n",
    "    return"
   ]
  },
  {
   "cell_type": "code",
   "execution_count": 11,
   "metadata": {
    "collapsed": true
   },
   "outputs": [],
   "source": [
    "def Best_Path(graph, times, start=None):\n",
    "    '''Ermittlung der optimalen Politik.'''\n",
    "    list = nx.topological_sort(graph)\n",
    "    if start == None:\n",
    "        pol = nx.dijkstra_path(graph, list[0], \"end\", weight='weight_goal')\n",
    "    else:\n",
    "        pol = nx.dijkstra_path(graph, start, \"end\", weight='weight_goal')\n",
    "    \n",
    "    print \"Kürzester Pfad:\", pol[:-1], '\\n'\n",
    "    \n",
    "    #### Funktioniert nicht, da er bei einem MultiDiGraph den Revenue überschreibt.\n",
    "    #rev = [0] * len(times)\n",
    "    #for i, node in enumerate(pol[:-1]):\n",
    "    #    for order in graph.edge[node][pol[i+1]].iterkeys():\n",
    "    #        rev[graph.node[node]['time']] = graph.edge[node][pol[i+1]][order]['revenue']\n",
    "    #print 'Revenue je Buchungsperiode:', rev[::-1]\n",
    "    #print 'Gesamt-Revenue:', sum(rev), '\\n'\n",
    "    \n",
    "    return"
   ]
  },
  {
   "cell_type": "code",
   "execution_count": 12,
   "metadata": {
    "collapsed": true
   },
   "outputs": [],
   "source": [
    "import matplotlib.pyplot as plt\n",
    "%matplotlib inline\n",
    "\n",
    "def Drawing(graph, size_x=5, size_y=5):\n",
    "    '''Grafische Darstellung des Entscheidungsbaums.'''\n",
    "    draw = graph.copy()\n",
    "    draw.remove_node('end')\n",
    "    # Quelle: http://stackoverflow.com/a/11484144/4913569\n",
    "    # ----\n",
    "    # write dot file to use with graphviz\n",
    "    # run \"dot -Tpng test.dot >test.png\"\n",
    "    nx.write_dot(draw,'test.dot')\n",
    "\n",
    "    # same layout using matplotlib with no labels\n",
    "    pos=nx.graphviz_layout(draw,prog='dot')\n",
    "    plt.figure(figsize=(size_x,size_y))\n",
    "    plt.title(\"Entscheidungsbaum\")\n",
    "    nx.draw(draw,pos,with_labels=True, node_size=500)\n",
    "    plt.savefig('nx_test.png')\n",
    "\n",
    "    return"
   ]
  },
  {
   "cell_type": "raw",
   "metadata": {
    "collapsed": false
   },
   "source": [
    "def Value(conditions):\n",
    "    values = [] \n",
    "    for i in range(len(conditions)):\n",
    "        if conditions[i][1] == 0:\n",
    "            values = values + [[conditions[i], 0]]\n",
    "        else:\n",
    "            values = values + [[conditions[i], None]]\n",
    "    return values\n",
    "\n",
    "values = Value(conditions)\n",
    "values"
   ]
  }
 ],
 "metadata": {
  "kernelspec": {
   "display_name": "Python 2",
   "language": "python",
   "name": "python2"
  },
  "language_info": {
   "codemirror_mode": {
    "name": "ipython",
    "version": 2
   },
   "file_extension": ".py",
   "mimetype": "text/x-python",
   "name": "python",
   "nbconvert_exporter": "python",
   "pygments_lexer": "ipython2",
   "version": "2.7.9"
  }
 },
 "nbformat": 4,
 "nbformat_minor": 0
}
