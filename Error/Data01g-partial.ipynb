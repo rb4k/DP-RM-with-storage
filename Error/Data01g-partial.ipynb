{
 "cells": [
  {
   "cell_type": "code",
   "execution_count": 497,
   "metadata": {
    "collapsed": false
   },
   "outputs": [],
   "source": [
    "__version__ = '0.3'\n",
    "__author__  = \"Robert Matern (r.matern@stud.uni-hannover.de)\"\n",
    "__date__    = ''\n",
    "__url__     = ''\n",
    "__copyright__ = \"(C) 2015 Robert Matern\""
   ]
  },
  {
   "cell_type": "markdown",
   "metadata": {},
   "source": [
    "#Beispieldaten Nr. 1"
   ]
  },
  {
   "cell_type": "code",
   "execution_count": 498,
   "metadata": {
    "collapsed": false
   },
   "outputs": [],
   "source": [
    "# Funktionen werden hinzugeladen.\n",
    "%run Parameter.ipynb"
   ]
  },
  {
   "cell_type": "code",
   "execution_count": 499,
   "metadata": {
    "collapsed": false
   },
   "outputs": [
    {
     "name": "stdout",
     "output_type": "stream",
     "text": [
      "0:00:00.000539\n"
     ]
    }
   ],
   "source": [
    "# Produkte\n",
    "products = Product(3)\n",
    "\n",
    "# Ressourcen\n",
    "resources = Resource(3)\n",
    "\n",
    "#Kapazität\n",
    "capacities = Capacity(resources)\n",
    "capacities[1] = 1\n",
    "capacities[2] = 1\n",
    "capacities[3] = 1\n",
    "\n",
    "# Ressourcenverbrauch\n",
    "consumtions = Consumption(products, resources)\n",
    "consumtions[1] = [0,1,0,0]\n",
    "consumtions[2] = [0,0,1,0]\n",
    "consumtions[3] = [0,0,0,3]\n",
    "\n",
    "# Erträge\n",
    "revenues = Revenue(products)\n",
    "revenues[1] = 100\n",
    "revenues[2] = 200\n",
    "revenues[3] = 5000\n",
    "\n",
    "# Buchungshorizont\n",
    "times = Time(3)\n",
    "\n",
    "# Wahrscheinlichkeiten\n",
    "probs = Prob(products, times)\n",
    "probs[1] = [0, 0, 0, 0.9]\n",
    "probs[2] = [0, 0, 0.9, 0]\n",
    "probs[3] = [0, 0.9, 0, 0]\n",
    "\n",
    "# Gegenwahrscheinlichkeiten\n",
    "against_probs = Against_Prob(probs)\n",
    "probs[0] = against_probs\n",
    "\n",
    "# Systemzustände\n",
    "conditions = Condition(capacities, resources, times)\n",
    "\n",
    "\n",
    "# Endzeitpunkte\n",
    "#end_times = End_Time(conditions)"
   ]
  },
  {
   "cell_type": "markdown",
   "metadata": {},
   "source": [
    "inkl. Lagerhaltung"
   ]
  },
  {
   "cell_type": "code",
   "execution_count": 500,
   "metadata": {
    "collapsed": false
   },
   "outputs": [],
   "source": [
    "%run Parameter-transform.ipynb"
   ]
  },
  {
   "cell_type": "code",
   "execution_count": 501,
   "metadata": {
    "collapsed": false
   },
   "outputs": [
    {
     "name": "stdout",
     "output_type": "stream",
     "text": [
      "0:00:00.000679\n"
     ]
    }
   ],
   "source": [
    "#Lagerbestand\n",
    "stock_resources = Stock_Resource(resources)\n",
    "stock_resources[1] = 0\n",
    "\n",
    "max_stock_resources = Max_Stock_Resource(resources)\n",
    "max_stock_resources[1] = 0\n",
    "max_stock_resources[2] = 0\n",
    "max_stock_resources[3] = 3\n",
    "\n",
    "# Systemzustände\n",
    "condition_storages = Condition_Storage(capacities, resources, max_stock_resources, times)\n",
    "# Bei der Modelformulierung mit Lagerproduktion wird der Parameter 'max_stocks' benötigt."
   ]
  },
  {
   "cell_type": "code",
   "execution_count": 502,
   "metadata": {
    "collapsed": false
   },
   "outputs": [],
   "source": [
    "#Regenerationsperiode\n",
    "time_regenerations = Time_Regeneration(times)\n",
    "#time_regenerations[2]=True\n",
    "\n",
    "#Max. Kapazität\n",
    "max_capacities = Max_Capacity(capacities)"
   ]
  },
  {
   "cell_type": "code",
   "execution_count": 503,
   "metadata": {
    "collapsed": false
   },
   "outputs": [],
   "source": [
    "%run DynamicProgramm-partial.ipynb"
   ]
  },
  {
   "cell_type": "code",
   "execution_count": 504,
   "metadata": {
    "collapsed": false
   },
   "outputs": [
    {
     "name": "stdout",
     "output_type": "stream",
     "text": [
      "Bestände: [1 1 1 0 0 0] - Periode: 0 - Erwartungswert: 0.0 - Optimale Politik: 0 KA\n",
      "Bestände: [1 1 0 0 0 1] - Periode: 0 - Erwartungswert: 0.0 - Optimale Politik: 0 KA\n",
      "Bestände: [1 1 1 0 0 0] - Periode: 1 - Erwartungswert: 0.0 - Optimale Politik: 3 LP - Modus: [0 0 0 0]\n",
      "Bestände: [1 0 1 0 0 0] - Periode: 0 - Erwartungswert: 0.0 - Optimale Politik: 0 KA\n",
      "Bestände: [1 0 0 0 0 1] - Periode: 0 - Erwartungswert: 0.0 - Optimale Politik: 0 KA\n",
      "Bestände: [1 0 1 0 0 0] - Periode: 1 - Erwartungswert: 0.0 - Optimale Politik: 3 LP - Modus: [0 0 0 0]\n",
      "Bestände: [1 0 1 0 0 1] - Periode: 0 - Erwartungswert: 0.0 - Optimale Politik: 0 KA\n",
      "Bestände: [1 0 0 0 0 2] - Periode: 0 - Erwartungswert: 0.0 - Optimale Politik: 0 KA\n",
      "Bestände: [1 0 1 0 0 1] - Periode: 1 - Erwartungswert: 0.0 - Optimale Politik: 3 LP - Modus: [0 0 0 0]\n",
      "Bestände: [1 1 1 0 0 0] - Periode: 2 - Erwartungswert: 360.0 - Optimale Politik: 2 AA - Modus: [0 0 1 0]\n",
      "Bestände: [0 1 1 0 0 0] - Periode: 0 - Erwartungswert: 0.0 - Optimale Politik: 0 KA\n",
      "Bestände: [0 1 0 0 0 1] - Periode: 0 - Erwartungswert: 0.0 - Optimale Politik: 0 KA\n",
      "Bestände: [0 1 1 0 0 0] - Periode: 1 - Erwartungswert: 0.0 - Optimale Politik: 3 LP - Modus: [0 0 0 0]\n",
      "Bestände: [0 0 1 0 0 0] - Periode: 0 - Erwartungswert: 0.0 - Optimale Politik: 0 KA\n",
      "Bestände: [0 0 0 0 0 1] - Periode: 0 - Erwartungswert: 0.0 - Optimale Politik: 0 KA\n",
      "Bestände: [0 0 1 0 0 0] - Periode: 1 - Erwartungswert: 0.0 - Optimale Politik: 3 LP - Modus: [0 0 0 0]\n",
      "Bestände: [0 0 1 0 0 1] - Periode: 0 - Erwartungswert: 0.0 - Optimale Politik: 0 KA\n",
      "Bestände: [0 0 0 0 0 2] - Periode: 0 - Erwartungswert: 0.0 - Optimale Politik: 0 KA\n",
      "Bestände: [0 0 1 0 0 1] - Periode: 1 - Erwartungswert: 0.0 - Optimale Politik: 3 LP - Modus: [0 0 0 0]\n",
      "Bestände: [0 1 1 0 0 0] - Periode: 2 - Erwartungswert: 360.0 - Optimale Politik: 2 AA - Modus: [0 0 1 0]\n",
      "Bestände: [0 1 1 0 0 1] - Periode: 0 - Erwartungswert: 0.0 - Optimale Politik: 0 KA\n",
      "Bestände: [0 1 0 0 0 2] - Periode: 0 - Erwartungswert: 0.0 - Optimale Politik: 0 KA\n",
      "Bestände: [0 1 1 0 0 1] - Periode: 1 - Erwartungswert: 0.0 - Optimale Politik: 3 LP - Modus: [0 0 0 0]\n",
      "[0 0 1 1] [0 0 0 1] 2 0.0\n",
      "Bestände: [0 0 1 0 0 2] - Periode: 0 - Erwartungswert: 0.0 - Optimale Politik: 0 KA\n",
      "[0 0 0 1] [0 0 0 2] 1 0.0\n",
      "Bestände: [0 0 0 0 0 0] - Periode: 0 - Erwartungswert: 0.0 - Optimale Politik: 0 KA\n",
      "Bestände: [0 0 0 0 0 3] - Periode: 0 - Erwartungswert: 0.0 - Optimale Politik: 0 KA\n",
      "[0 0 0 0] [0 0 0 3] 1 0.0\n",
      "Bestände: [0 0 1 0 0 2] - Periode: 1 - Erwartungswert: 0.0 - Optimale Politik: 3 AA - Modus: [0 0 0 1]\n",
      "[0 0 0 1] [0 0 0 2] 2 0.0\n",
      "Bestände: [0 1 1 0 0 1] - Periode: 2 - Erwartungswert: 360.0 - Optimale Politik: 2 AA - Modus: [0 0 1 0]\n",
      "Bestände: [1 1 1 0 0 0] - Periode: 3 - Erwartungswert: 540.0 - Optimale Politik: 1 AA - Modus: [0 1 0 0]\n"
     ]
    },
    {
     "data": {
      "text/plain": [
       "540.0"
      ]
     },
     "execution_count": 504,
     "metadata": {},
     "output_type": "execute_result"
    }
   ],
   "source": [
    "DP_Partial(solutions, condition_storages, products, resources, capacities, consumtions, times, revenues, probs, stock_resources, max_stock_resources, time_regenerations, max_capacities)"
   ]
  },
  {
   "cell_type": "code",
   "execution_count": 505,
   "metadata": {
    "collapsed": false
   },
   "outputs": [
    {
     "name": "stdout",
     "output_type": "stream",
     "text": [
      "Optimalen Politik zum Zeitpunkt \"t\" und unter Beachtung der Restkapazitäten \"c[h]\": \n",
      "\n",
      "     $c_{1}$  $c_{2}$  $c_{3}$  $y_{1}$  $y_{2}$  $y_{3}$  $t$  ExpValue  \\\n",
      "124        0        0        0        0        0        0    0         0   \n",
      "120        0        0        0        0        0        1    0         0   \n",
      "116        0        0        0        0        0        2    0         0   \n",
      "112        0        0        0        0        0        3    0         0   \n",
      "88         0        1        0        0        0        1    0         0   \n",
      "84         0        1        0        0        0        2    0         0   \n",
      "56         1        0        0        0        0        1    0         0   \n",
      "52         1        0        0        0        0        2    0         0   \n",
      "24         1        1        0        0        0        1    0         0   \n",
      "15         1        1        1        0        0        0    3       540   \n",
      "74         0        1        1        0        0        1    2       360   \n",
      "73         0        1        1        0        0        1    1         0   \n",
      "72         0        1        1        0        0        1    0         0   \n",
      "101        0        0        1        0        0        2    1         0   \n",
      "100        0        0        1        0        0        2    0         0   \n",
      "78         0        1        1        0        0        0    2       360   \n",
      "105        0        0        1        0        0        1    1         0   \n",
      "104        0        0        1        0        0        1    0         0   \n",
      "77         0        1        1        0        0        0    1         0   \n",
      "76         0        1        1        0        0        0    0         0   \n",
      "109        0        0        1        0        0        0    1         0   \n",
      "108        0        0        1        0        0        0    0         0   \n",
      "14         1        1        1        0        0        0    2       360   \n",
      "41         1        0        1        0        0        1    1         0   \n",
      "40         1        0        1        0        0        1    0         0   \n",
      "45         1        0        1        0        0        0    1         0   \n",
      "44         1        0        1        0        0        0    0         0   \n",
      "13         1        1        1        0        0        0    1         0   \n",
      "12         1        1        1        0        0        0    0         0   \n",
      "\n",
      "          Successor  $j^*$        $m$  $r_{j}-OC_{j}$  \n",
      "124           [end]      0          -               0  \n",
      "120           [end]      0          -               0  \n",
      "116           [end]      0          -               0  \n",
      "112           [end]      0          -               0  \n",
      "88            [end]      0          -               0  \n",
      "84            [end]      0          -               0  \n",
      "56            [end]      0          -               0  \n",
      "52            [end]      0          -               0  \n",
      "24            [end]      0          -               0  \n",
      "15     [74, 78, 14]      1  AA[1 0 0]             100  \n",
      "74   [73, 101, 105]      2  AA[0 1 0]             200  \n",
      "73             [72]      3  LP[0 0 0]            5000  \n",
      "72            [end]      0          -               0  \n",
      "101           [100]      3  AA[0 0 1]            5000  \n",
      "100           [end]      0          -               0  \n",
      "78   [105, 77, 109]      2  AA[0 1 0]             200  \n",
      "105           [104]      3  LP[0 0 0]            5000  \n",
      "104           [end]      0          -               0  \n",
      "77             [76]      3  LP[0 0 0]            5000  \n",
      "76            [end]      0          -               0  \n",
      "109           [108]      3  LP[0 0 0]            5000  \n",
      "108           [end]      0          -               0  \n",
      "14     [41, 13, 45]      2  AA[0 1 0]             200  \n",
      "41             [40]      3  LP[0 0 0]            5000  \n",
      "40            [end]      0          -               0  \n",
      "45             [44]      3  LP[0 0 0]            5000  \n",
      "44            [end]      0          -               0  \n",
      "13             [12]      3  LP[0 0 0]            5000  \n",
      "12            [end]      0          -               0   \n",
      "\n",
      "   Opt. Politic  from  to  Revenue  Cum_Rev\n",
      "3             0     0   0        0        0\n",
      "2             0     0   0        0        0\n",
      "1             0     0   0        0        0 \n",
      "\n"
     ]
    },
    {
     "data": {
      "text/plain": [
       "(     $c_{1}$  $c_{2}$  $c_{3}$  $y_{1}$  $y_{2}$  $y_{3}$  $t$  ExpValue  \\\n",
       " 124        0        0        0        0        0        0    0         0   \n",
       " 120        0        0        0        0        0        1    0         0   \n",
       " 116        0        0        0        0        0        2    0         0   \n",
       " 112        0        0        0        0        0        3    0         0   \n",
       " 88         0        1        0        0        0        1    0         0   \n",
       " 84         0        1        0        0        0        2    0         0   \n",
       " 56         1        0        0        0        0        1    0         0   \n",
       " 52         1        0        0        0        0        2    0         0   \n",
       " 24         1        1        0        0        0        1    0         0   \n",
       " 15         1        1        1        0        0        0    3       540   \n",
       " 74         0        1        1        0        0        1    2       360   \n",
       " 73         0        1        1        0        0        1    1         0   \n",
       " 72         0        1        1        0        0        1    0         0   \n",
       " 101        0        0        1        0        0        2    1         0   \n",
       " 100        0        0        1        0        0        2    0         0   \n",
       " 78         0        1        1        0        0        0    2       360   \n",
       " 105        0        0        1        0        0        1    1         0   \n",
       " 104        0        0        1        0        0        1    0         0   \n",
       " 77         0        1        1        0        0        0    1         0   \n",
       " 76         0        1        1        0        0        0    0         0   \n",
       " 109        0        0        1        0        0        0    1         0   \n",
       " 108        0        0        1        0        0        0    0         0   \n",
       " 14         1        1        1        0        0        0    2       360   \n",
       " 41         1        0        1        0        0        1    1         0   \n",
       " 40         1        0        1        0        0        1    0         0   \n",
       " 45         1        0        1        0        0        0    1         0   \n",
       " 44         1        0        1        0        0        0    0         0   \n",
       " 13         1        1        1        0        0        0    1         0   \n",
       " 12         1        1        1        0        0        0    0         0   \n",
       " \n",
       "           Successor  $j^*$        $m$  $r_{j}-OC_{j}$  \n",
       " 124           [end]      0          -               0  \n",
       " 120           [end]      0          -               0  \n",
       " 116           [end]      0          -               0  \n",
       " 112           [end]      0          -               0  \n",
       " 88            [end]      0          -               0  \n",
       " 84            [end]      0          -               0  \n",
       " 56            [end]      0          -               0  \n",
       " 52            [end]      0          -               0  \n",
       " 24            [end]      0          -               0  \n",
       " 15     [74, 78, 14]      1  AA[1 0 0]             100  \n",
       " 74   [73, 101, 105]      2  AA[0 1 0]             200  \n",
       " 73             [72]      3  LP[0 0 0]            5000  \n",
       " 72            [end]      0          -               0  \n",
       " 101           [100]      3  AA[0 0 1]            5000  \n",
       " 100           [end]      0          -               0  \n",
       " 78   [105, 77, 109]      2  AA[0 1 0]             200  \n",
       " 105           [104]      3  LP[0 0 0]            5000  \n",
       " 104           [end]      0          -               0  \n",
       " 77             [76]      3  LP[0 0 0]            5000  \n",
       " 76            [end]      0          -               0  \n",
       " 109           [108]      3  LP[0 0 0]            5000  \n",
       " 108           [end]      0          -               0  \n",
       " 14     [41, 13, 45]      2  AA[0 1 0]             200  \n",
       " 41             [40]      3  LP[0 0 0]            5000  \n",
       " 40            [end]      0          -               0  \n",
       " 45             [44]      3  LP[0 0 0]            5000  \n",
       " 44            [end]      0          -               0  \n",
       " 13             [12]      3  LP[0 0 0]            5000  \n",
       " 12            [end]      0          -               0  ,\n",
       "    Opt. Politic  from  to  Revenue  Cum_Rev\n",
       " 3             0     0   0        0        0\n",
       " 2             0     0   0        0        0\n",
       " 1             0     0   0        0        0)"
      ]
     },
     "execution_count": 505,
     "metadata": {},
     "output_type": "execute_result"
    }
   ],
   "source": [
    "graph = Structure_Transform(solutions, condition_storages, products, resources, consumtions, revenues, probs, stock_resources, max_stock_resources, time_regenerations, max_capacities)\n",
    "\n",
    "Best_Politic_Stock(graph, times, resources, stock_resources, solutions)"
   ]
  },
  {
   "cell_type": "code",
   "execution_count": 506,
   "metadata": {
    "collapsed": false
   },
   "outputs": [
    {
     "ename": "AttributeError",
     "evalue": "'module' object has no attribute 'figure'",
     "output_type": "error",
     "traceback": [
      "\u001b[0;31m---------------------------------------------------------------------------\u001b[0m",
      "\u001b[0;31mAttributeError\u001b[0m                            Traceback (most recent call last)",
      "\u001b[0;32m<ipython-input-506-ec0a85ebe107>\u001b[0m in \u001b[0;36m<module>\u001b[0;34m()\u001b[0m\n\u001b[1;32m     11\u001b[0m         \u001b[0;31m# same layout using matplotlib with no labels\u001b[0m\u001b[0;34m\u001b[0m\u001b[0;34m\u001b[0m\u001b[0m\n\u001b[1;32m     12\u001b[0m \u001b[0mpos\u001b[0m\u001b[0;34m=\u001b[0m\u001b[0mnx\u001b[0m\u001b[0;34m.\u001b[0m\u001b[0mgraphviz_layout\u001b[0m\u001b[0;34m(\u001b[0m\u001b[0mdraw\u001b[0m\u001b[0;34m,\u001b[0m\u001b[0mprog\u001b[0m\u001b[0;34m=\u001b[0m\u001b[0;34m'dot'\u001b[0m\u001b[0;34m)\u001b[0m\u001b[0;34m\u001b[0m\u001b[0m\n\u001b[0;32m---> 13\u001b[0;31m \u001b[0mplt\u001b[0m\u001b[0;34m.\u001b[0m\u001b[0mfigure\u001b[0m\u001b[0;34m(\u001b[0m\u001b[0mfigsize\u001b[0m\u001b[0;34m=\u001b[0m\u001b[0;34m(\u001b[0m\u001b[0msize_x\u001b[0m\u001b[0;34m,\u001b[0m\u001b[0msize_y\u001b[0m\u001b[0;34m)\u001b[0m\u001b[0;34m)\u001b[0m\u001b[0;34m\u001b[0m\u001b[0m\n\u001b[0m\u001b[1;32m     14\u001b[0m \u001b[0mplt\u001b[0m\u001b[0;34m.\u001b[0m\u001b[0mtitle\u001b[0m\u001b[0;34m(\u001b[0m\u001b[0;34m\"Entscheidungsbaum\"\u001b[0m\u001b[0;34m)\u001b[0m\u001b[0;34m\u001b[0m\u001b[0m\n\u001b[1;32m     15\u001b[0m \u001b[0mnx\u001b[0m\u001b[0;34m.\u001b[0m\u001b[0mdraw\u001b[0m\u001b[0;34m(\u001b[0m\u001b[0mdraw\u001b[0m\u001b[0;34m,\u001b[0m\u001b[0mpos\u001b[0m\u001b[0;34m,\u001b[0m\u001b[0mwith_labels\u001b[0m\u001b[0;34m=\u001b[0m\u001b[0mTrue\u001b[0m\u001b[0;34m,\u001b[0m \u001b[0mnode_size\u001b[0m\u001b[0;34m=\u001b[0m\u001b[0;36m500\u001b[0m\u001b[0;34m)\u001b[0m\u001b[0;34m\u001b[0m\u001b[0m\n",
      "\u001b[0;31mAttributeError\u001b[0m: 'module' object has no attribute 'figure'"
     ]
    }
   ],
   "source": [
    "import matplotlib as plt\n",
    "\n",
    "draw = graph.copy()\n",
    "draw.remove_node('end')\n",
    "        # Quelle: http://stackoverflow.com/a/11484144/4913569\n",
    "        # ----\n",
    "        # write dot file to use with graphviz\n",
    "        # run \"dot -Tpng test.dot >test.png\"\n",
    "nx.write_dot(draw,'test.dot')\n",
    "\n",
    "        # same layout using matplotlib with no labels\n",
    "pos=nx.graphviz_layout(draw,prog='dot')\n",
    "plt.figure(figsize=(size_x,size_y))\n",
    "plt.title(\"Entscheidungsbaum\")\n",
    "nx.draw(draw,pos,with_labels=True, node_size=500)\n",
    "plt.savefig('GraphTest.png')"
   ]
  },
  {
   "cell_type": "code",
   "execution_count": null,
   "metadata": {
    "collapsed": false
   },
   "outputs": [],
   "source": [
    "solutions"
   ]
  },
  {
   "cell_type": "code",
   "execution_count": null,
   "metadata": {
    "collapsed": true
   },
   "outputs": [],
   "source": []
  }
 ],
 "metadata": {
  "kernelspec": {
   "display_name": "Python 2",
   "language": "python",
   "name": "python2"
  },
  "language_info": {
   "codemirror_mode": {
    "name": "ipython",
    "version": 2
   },
   "file_extension": ".py",
   "mimetype": "text/x-python",
   "name": "python",
   "nbconvert_exporter": "python",
   "pygments_lexer": "ipython2",
   "version": "2.7.10"
  }
 },
 "nbformat": 4,
 "nbformat_minor": 0
}
