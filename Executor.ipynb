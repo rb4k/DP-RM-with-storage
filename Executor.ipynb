{
 "cells": [
  {
   "cell_type": "code",
   "execution_count": 46,
   "metadata": {
    "collapsed": true
   },
   "outputs": [],
   "source": [
    "__version__ = '0.3'\n",
    "__author__  = \"Robert Matern (r.matern@stud.uni-hannover.de)\"\n",
    "__date__    = ''\n",
    "__url__     = ''\n",
    "__copyright__ = \"(C) 2015 Robert Matern\""
   ]
  },
  {
   "cell_type": "markdown",
   "metadata": {},
   "source": [
    "# Ausführungsdatei"
   ]
  },
  {
   "cell_type": "code",
   "execution_count": 47,
   "metadata": {
    "collapsed": false
   },
   "outputs": [
    {
     "name": "stdout",
     "output_type": "stream",
     "text": [
      "Python Version 2.7.9 |Anaconda 2.2.0 (x86_64)| (default, Dec 15 2014, 10:37:34) \n",
      "[GCC 4.2.1 (Apple Inc. build 5577)]\n",
      "Numpy Version 1.9.2\n",
      "Matplotlib Version 1.4.3\n",
      "Pandas Version 0.15.2\n"
     ]
    }
   ],
   "source": [
    "# Funktionen werden hinzugeladen.\n",
    "%run Parameter.ipynb\n",
    "%run DynamicProgramm.ipynb"
   ]
  },
  {
   "cell_type": "code",
   "execution_count": 48,
   "metadata": {
    "collapsed": false
   },
   "outputs": [
    {
     "name": "stdout",
     "output_type": "stream",
     "text": [
      "0:00:00.000357\n"
     ]
    }
   ],
   "source": [
    "# Beispiel wird hinzugeladen.\n",
    "%run Data01.ipynb"
   ]
  },
  {
   "cell_type": "code",
   "execution_count": 49,
   "metadata": {
    "collapsed": true
   },
   "outputs": [],
   "source": [
    "# Grafiken werden im IPython Notebook angezeigt.\n",
    "%matplotlib inline"
   ]
  },
  {
   "cell_type": "markdown",
   "metadata": {},
   "source": [
    "Als ersten Schritt werden für alle möglichen Systemzustände des Beispiels die jeweiligen Erwartungswerte berechnet. Dies erfolgt über eine Implementierung der Dynamischen Programmierung der mathematischen Modellformulierung des Problems der Auftragsannahme im Revenue Management (siehe Bellman-Gleichung)."
   ]
  },
  {
   "cell_type": "code",
   "execution_count": 50,
   "metadata": {
    "collapsed": false
   },
   "outputs": [
    {
     "name": "stdout",
     "output_type": "stream",
     "text": [
      "231.25\n",
      "CPU times: user 5.75 ms, sys: 102 µs, total: 5.85 ms\n",
      "Wall time: 8.9 ms\n"
     ]
    }
   ],
   "source": [
    "%time print DP(solutions, conditions, products, resources, capacities, consumtions, times, probs)"
   ]
  },
  {
   "cell_type": "code",
   "execution_count": 51,
   "metadata": {
    "collapsed": false
   },
   "outputs": [
    {
     "name": "stdout",
     "output_type": "stream",
     "text": [
      "CPU times: user 6.03 ms, sys: 180 µs, total: 6.21 ms\n",
      "Wall time: 12.5 ms\n",
      "Optimalen Politik zum Zeitpunkt \"t\" und unter Beachtung der Restkapazitäten \"c[h]\": \n",
      "\n",
      "         Value     Successor  Res_Cap1  Res_Cap2  Time  Best Order  \\\n",
      "4   231.250000    [8, 3, 13]         2         1     4           2   \n",
      "8   137.500000       [17, 7]         2         0     3           1   \n",
      "13  141.703125  [17, 12, 22]         1         1     3           2   \n",
      "17   75.000000      [16, 26]         1         0     2           1   \n",
      "22   38.000000      [26, 21]         0         1     2           2   \n",
      "26    0.000000          [25]         0         0     1           0   \n",
      "3   191.687500    [2, 12, 7]         2         1     3           2   \n",
      "12  113.000000  [16, 11, 21]         1         1     2           2   \n",
      "21   20.000000      [25, 20]         0         1     1           2   \n",
      "7   100.000000       [16, 6]         2         0     2           1   \n",
      "16   50.000000      [25, 15]         1         0     1           1   \n",
      "25    0.000000         [end]         0         0     0           0   \n",
      "2   138.000000    [1, 11, 6]         2         1     2           2   \n",
      "11   70.000000  [10, 20, 15]         1         1     1           2   \n",
      "20    0.000000         [end]         0         1     0           0   \n",
      "6    50.000000       [5, 15]         2         0     1           1   \n",
      "15    0.000000         [end]         1         0     0           0   \n",
      "1    70.000000    [0, 10, 5]         2         1     1           2   \n",
      "10    0.000000         [end]         1         1     0           0   \n",
      "5     0.000000         [end]         2         0     0           0   \n",
      "0     0.000000         [end]         2         1     0           0   \n",
      "\n",
      "    Best Successor  r[j]-OC[j,c,t]  \n",
      "4                8        145.8125  \n",
      "8               17         75.0000  \n",
      "13              17        162.0000  \n",
      "17              26         50.0000  \n",
      "22              26        180.0000  \n",
      "26              25          0.0000  \n",
      "3                7        162.0000  \n",
      "12              16        180.0000  \n",
      "21              25        200.0000  \n",
      "7               16        100.0000  \n",
      "16              25        100.0000  \n",
      "25               0          0.0000  \n",
      "2                6        180.0000  \n",
      "11              15        200.0000  \n",
      "20               0          0.0000  \n",
      "6               15        100.0000  \n",
      "15               0          0.0000  \n",
      "1                5        200.0000  \n",
      "10               0          0.0000  \n",
      "5                0          0.0000  \n",
      "0                0          0.0000   \n",
      "\n",
      "   Opt. Politic  from  to  Revenue  Cum_Rev\n",
      "4             2     4   8      200      200\n",
      "3             1     8  17      100      300\n",
      "2             1    17  26      100      400\n",
      "1             0    26  25        0      400\n",
      "0             0     0   0        0      400 \n",
      "\n",
      "CPU times: user 43.9 ms, sys: 2.83 ms, total: 46.7 ms\n",
      "Wall time: 128 ms\n",
      "Optimalen Politik zum Zeitpunkt \"t\" und unter Beachtung der Restkapazitäten \"c[h]\" sowie der tatsächlich eintreffenden Nachfrage \"d[j,t]\": \n",
      "\n",
      "         Value     Successor  Res_Cap1  Res_Cap2  Time  Best Order  \\\n",
      "4   231.250000    [8, 3, 13]         2         1     4           2   \n",
      "8   137.500000       [17, 7]         2         0     3           0   \n",
      "13  141.703125  [17, 12, 22]         1         1     3           2   \n",
      "17   75.000000      [16, 26]         1         0     2           0   \n",
      "22   38.000000      [26, 21]         0         1     2           2   \n",
      "26    0.000000          [25]         0         0     1           0   \n",
      "3   191.687500    [2, 12, 7]         2         1     3           2   \n",
      "12  113.000000  [16, 11, 21]         1         1     2           2   \n",
      "21   20.000000      [25, 20]         0         1     1           2   \n",
      "7   100.000000       [16, 6]         2         0     2           0   \n",
      "16   50.000000      [25, 15]         1         0     1           1   \n",
      "25    0.000000         [end]         0         0     0           0   \n",
      "2   138.000000    [1, 11, 6]         2         1     2           2   \n",
      "11   70.000000  [10, 20, 15]         1         1     1           2   \n",
      "20    0.000000         [end]         0         1     0           0   \n",
      "6    50.000000       [5, 15]         2         0     1           1   \n",
      "15    0.000000         [end]         1         0     0           0   \n",
      "1    70.000000    [0, 10, 5]         2         1     1           2   \n",
      "10    0.000000         [end]         1         1     0           0   \n",
      "5     0.000000         [end]         2         0     0           0   \n",
      "0     0.000000         [end]         2         1     0           0   \n",
      "\n",
      "    Best Successor  r[j]-OC[j,c,t]  \n",
      "4                8        145.8125  \n",
      "8                7          0.0000  \n",
      "13              17        162.0000  \n",
      "17              16          0.0000  \n",
      "22              26        180.0000  \n",
      "26              25          0.0000  \n",
      "3                7        162.0000  \n",
      "12              16        180.0000  \n",
      "21              25        200.0000  \n",
      "7                6          0.0000  \n",
      "16              25        100.0000  \n",
      "25               0          0.0000  \n",
      "2                6        180.0000  \n",
      "11              15        200.0000  \n",
      "20               0          0.0000  \n",
      "6               15        100.0000  \n",
      "15               0          0.0000  \n",
      "1                5        200.0000  \n",
      "10               0          0.0000  \n",
      "5                0          0.0000  \n",
      "0                0          0.0000   \n",
      "\n",
      "   Opt. Politic  from  to  Revenue  Cum_Rev_Demand\n",
      "4             2     4   8      200             200\n",
      "3             0     8   7        0             200\n",
      "2             0     7   6        0             200\n",
      "1             1     6  15      100             300\n",
      "0             0     0   0        0             300 \n",
      "\n",
      "CPU times: user 151 ms, sys: 10.3 ms, total: 162 ms\n",
      "Wall time: 518 ms\n"
     ]
    }
   ],
   "source": [
    "# Erstellung der Struktur als NetworkX-Graph\n",
    "%time graph = Structure(solutions, conditions, products, consumtions, revenues)\n",
    "\n",
    "# Ermittlung der besten Politik (Dijkstra Algorithmus)\n",
    "%time db, df = Best_Politic(graph, times, resources)\n",
    "%time db_demand, df_demand = Best_Politic_Demand(graph, times, resources, demands)"
   ]
  },
  {
   "cell_type": "code",
   "execution_count": 52,
   "metadata": {
    "collapsed": false
   },
   "outputs": [
    {
     "name": "stdout",
     "output_type": "stream",
     "text": [
      "Kürzester Pfad: [4, 13, 22, 26, 25] \n",
      "\n",
      "None\n",
      "CPU times: user 841 µs, sys: 141 µs, total: 982 µs\n",
      "Wall time: 1.27 ms\n"
     ]
    }
   ],
   "source": [
    "%time print Best_Path(graph, times)"
   ]
  },
  {
   "cell_type": "code",
   "execution_count": 53,
   "metadata": {
    "collapsed": false
   },
   "outputs": [
    {
     "name": "stdout",
     "output_type": "stream",
     "text": [
      "CPU times: user 649 ms, sys: 33.8 ms, total: 682 ms\n",
      "Wall time: 2.08 s\n"
     ]
    },
    {
     "data": {
      "image/png": "[encoded data removed]",
      "text/plain": [
       "<matplotlib.figure.Figure at 0x107b20d10>"
      ]
     },
     "metadata": {},
     "output_type": "display_data"
    },
    {
     "data": {
      "image/png": "[encoded data removed]",
      "text/plain": [
       "<matplotlib.figure.Figure at 0x108ca1a10>"
      ]
     },
     "metadata": {},
     "output_type": "display_data"
    }
   ],
   "source": [
    "%time Drawing(graph, db, df, db_demand, df_demand)"
   ]
  },
  {
   "cell_type": "code",
   "execution_count": null,
   "metadata": {
    "collapsed": true
   },
   "outputs": [],
   "source": []
  }
 ],
 "metadata": {
  "kernelspec": {
   "display_name": "Python 2",
   "language": "python",
   "name": "python2"
  },
  "language_info": {
   "codemirror_mode": {
    "name": "ipython",
    "version": 2
   },
   "file_extension": ".py",
   "mimetype": "text/x-python",
   "name": "python",
   "nbconvert_exporter": "python",
   "pygments_lexer": "ipython2",
   "version": "2.7.9"
  }
 },
 "nbformat": 4,
 "nbformat_minor": 0
}
