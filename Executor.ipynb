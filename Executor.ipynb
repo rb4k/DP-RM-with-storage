{
 "cells": [
  {
   "cell_type": "code",
   "execution_count": 409,
   "metadata": {
    "collapsed": true
   },
   "outputs": [],
   "source": [
    "__version__ = '0.3'\n",
    "__author__  = \"Robert Matern (r.matern@stud.uni-hannover.de)\"\n",
    "__date__    = ''\n",
    "__url__     = ''\n",
    "__copyright__ = \"(C) 2015 Robert Matern\""
   ]
  },
  {
   "cell_type": "markdown",
   "metadata": {},
   "source": [
    "# Ausführungsdatei"
   ]
  },
  {
   "cell_type": "code",
   "execution_count": 410,
   "metadata": {
    "collapsed": false
   },
   "outputs": [
    {
     "name": "stdout",
     "output_type": "stream",
     "text": [
      "Python Version 2.7.10 |Anaconda 2.2.0 (x86_64)| (default, May 28 2015, 17:04:42) \n",
      "[GCC 4.2.1 (Apple Inc. build 5577)]\n",
      "Numpy Version 1.9.2\n",
      "Matplotlib Version 1.4.3\n",
      "Pandas Version 0.15.2\n"
     ]
    }
   ],
   "source": [
    "# Funktionen werden hinzugeladen.\n",
    "%run Parameter.ipynb\n",
    "%run DynamicProgramm.ipynb\n",
    "#%run Parameter-storage.ipynb\n",
    "#%run DynamicProgramm-storage.ipynb"
   ]
  },
  {
   "cell_type": "code",
   "execution_count": 411,
   "metadata": {
    "collapsed": false
   },
   "outputs": [
    {
     "name": "stdout",
     "output_type": "stream",
     "text": [
      "0:00:00.000337\n"
     ]
    }
   ],
   "source": [
    "# Beispiel wird hinzugeladen.\n",
    "%run Data01-Capa.ipynb"
   ]
  },
  {
   "cell_type": "code",
   "execution_count": 412,
   "metadata": {
    "collapsed": false
   },
   "outputs": [],
   "source": [
    "# Grafiken werden im IPython Notebook angezeigt.\n",
    "#%matplotlib inline"
   ]
  },
  {
   "cell_type": "markdown",
   "metadata": {},
   "source": [
    "Als ersten Schritt werden für alle möglichen Systemzustände des Beispiels die jeweiligen Erwartungswerte berechnet. Dies erfolgt über eine Implementierung der Dynamischen Programmierung der mathematischen Modellformulierung des Problems der Auftragsannahme im Revenue Management (siehe Bellman-Gleichung)."
   ]
  },
  {
   "cell_type": "code",
   "execution_count": 413,
   "metadata": {
    "collapsed": false
   },
   "outputs": [
    {
     "name": "stdout",
     "output_type": "stream",
     "text": [
      "Systemzustand: [3] - Periode: 0 - Erwartungswert: 0.0 - Optimale Politik: 0\n",
      "Systemzustand: [2] - Periode: 0 - Erwartungswert: 0.0 - Optimale Politik: 0\n",
      "Systemzustand: [1] - Periode: 0 - Erwartungswert: 0.0 - Optimale Politik: 0\n",
      "Systemzustand: [3] - Periode: 1 - Erwartungswert: 65.0 - Optimale Politik: 2\n",
      "Systemzustand: [0] - Periode: 0 - Erwartungswert: 0.0 - Optimale Politik: 0\n",
      "Systemzustand: [2] - Periode: 1 - Erwartungswert: 65.0 - Optimale Politik: 2\n",
      "Systemzustand: [1] - Periode: 1 - Erwartungswert: 50.0 - Optimale Politik: 1\n",
      "Systemzustand: [3] - Periode: 2 - Erwartungswert: 128.5 - Optimale Politik: 2\n",
      "Systemzustand: [0] - Periode: 1 - Erwartungswert: 0.0 - Optimale Politik: 1\n",
      "Systemzustand: [2] - Periode: 2 - Erwartungswert: 116.0 - Optimale Politik: 1\n",
      "Systemzustand: [1] - Periode: 2 - Erwartungswert: 75.0 - Optimale Politik: 1\n",
      "Systemzustand: [3] - Periode: 3 - Erwartungswert: 181.906 - Optimale Politik: 2\n",
      "Systemzustand: [0] - Periode: 2 - Erwartungswert: 0.0 - Optimale Politik: 1\n",
      "Systemzustand: [2] - Periode: 3 - Erwartungswert: 148.906 - Optimale Politik: 1\n",
      "Systemzustand: [1] - Periode: 3 - Erwartungswert: 87.5 - Optimale Politik: 1\n",
      "Systemzustand: [3] - Periode: 4 - Erwartungswert: 220.969 - Optimale Politik: 1\n",
      "220.969\n",
      "CPU times: user 15.6 ms, sys: 405 µs, total: 16 ms\n",
      "Wall time: 27.2 ms\n"
     ]
    }
   ],
   "source": [
    "%time print DP(solutions, conditions, products, resources, capacities, consumtions, times, probs)"
   ]
  },
  {
   "cell_type": "code",
   "execution_count": 414,
   "metadata": {
    "collapsed": false
   },
   "outputs": [
    {
     "name": "stdout",
     "output_type": "stream",
     "text": [
      "CPU times: user 5.65 ms, sys: 113 µs, total: 5.76 ms\n",
      "Wall time: 6.18 ms\n",
      "Optimalen Politik zum Zeitpunkt \"t\" und unter Beachtung der Restkapazitäten \"c[h]\": \n",
      "\n",
      "    Res_Cap1  Time      Value    Successor  Best Order  Best Successor  \\\n",
      "4          3     4  220.96875   [8, 3, 13]           1               8   \n",
      "8          2     3  148.90625  [17, 12, 7]           1              12   \n",
      "13         1     3   87.50000     [17, 12]           1              17   \n",
      "17         0     2    0.00000         [16]           0              16   \n",
      "3          3     3  181.90625   [2, 12, 7]           2              12   \n",
      "12         1     2   75.00000     [16, 11]           1              16   \n",
      "7          2     2  116.00000  [16, 11, 6]           2              16   \n",
      "16         0     1    0.00000         [15]           0              15   \n",
      "2          3     2  128.50000   [1, 11, 6]           2              11   \n",
      "11         1     1   50.00000     [10, 15]           1              15   \n",
      "6          2     1   65.00000  [10, 5, 15]           2              15   \n",
      "15         0     0    0.00000        [end]           0               0   \n",
      "1          3     1   65.00000   [0, 10, 5]           2              10   \n",
      "10         1     0    0.00000        [end]           0               0   \n",
      "5          2     0    0.00000        [end]           0               0   \n",
      "0          3     0    0.00000        [end]           0               0   \n",
      "\n",
      "    r[j]-OC[j]  \n",
      "4         67.0  \n",
      "8         59.0  \n",
      "13        25.0  \n",
      "17         0.0  \n",
      "3         96.5  \n",
      "12        50.0  \n",
      "7         85.0  \n",
      "16         0.0  \n",
      "2        135.0  \n",
      "11       100.0  \n",
      "6        150.0  \n",
      "15         0.0  \n",
      "1        150.0  \n",
      "10         0.0  \n",
      "5          0.0  \n",
      "0          0.0   \n",
      "\n",
      "   Opt. Politic  from  to  Revenue  Cum_Rev\n",
      "4             1     4   8      100      100\n",
      "3             1     8  12      100      200\n",
      "2             1    12  16      100      300\n",
      "1             0    16  15        0      300\n",
      "0             0     0   0        0      300 \n",
      "\n",
      "CPU times: user 33 ms, sys: 2.55 ms, total: 35.5 ms\n",
      "Wall time: 38.3 ms\n"
     ]
    }
   ],
   "source": [
    "# Erstellung der Struktur als NetworkX-Graph\n",
    "%time graph = Structure(solutions, conditions, products, consumtions, revenues)\n",
    "\n",
    "# Ermittlung der besten Politik (Dijkstra Algorithmus)\n",
    "%time db, df = Best_Politic(graph, times, resources)\n",
    "#%time db_demand, df_demand = Best_Politic_Demand(graph, times, resources, demands)"
   ]
  },
  {
   "cell_type": "code",
   "execution_count": 415,
   "metadata": {
    "collapsed": false
   },
   "outputs": [
    {
     "data": {
      "text/plain": [
       "{0: [array([3, 0]), 0.0, 0],\n",
       " 1: [array([3, 1]), 65.0, 2],\n",
       " 2: [array([3, 2]), 128.5, 2],\n",
       " 3: [array([3, 3]), 181.90625, 2],\n",
       " 4: [array([3, 4]), 220.96875, 1],\n",
       " 5: [array([2, 0]), 0.0, 0],\n",
       " 6: [array([2, 1]), 65.0, 2],\n",
       " 7: [array([2, 2]), 116.0, 1],\n",
       " 8: [array([2, 3]), 148.90625, 1],\n",
       " 10: [array([1, 0]), 0.0, 0],\n",
       " 11: [array([1, 1]), 50.0, 1],\n",
       " 12: [array([1, 2]), 75.0, 1],\n",
       " 13: [array([1, 3]), 87.5, 1],\n",
       " 15: [array([0, 0]), 0.0, 0],\n",
       " 16: [array([0, 1]), 0.0, 1],\n",
       " 17: [array([0, 2]), 0.0, 1]}"
      ]
     },
     "execution_count": 415,
     "metadata": {},
     "output_type": "execute_result"
    }
   ],
   "source": [
    "solutions"
   ]
  },
  {
   "cell_type": "code",
   "execution_count": 416,
   "metadata": {
    "collapsed": false
   },
   "outputs": [
    {
     "name": "stdout",
     "output_type": "stream",
     "text": [
      "Kürzester Pfad: [4, 13, 17, 16, 15] \n",
      "\n",
      "None\n",
      "CPU times: user 743 µs, sys: 233 µs, total: 976 µs\n",
      "Wall time: 7.98 ms\n"
     ]
    }
   ],
   "source": [
    "%time print Best_Path(graph, times)"
   ]
  },
  {
   "cell_type": "code",
   "execution_count": 417,
   "metadata": {
    "collapsed": false,
    "scrolled": true
   },
   "outputs": [
    {
     "ename": "AttributeError",
     "evalue": "'module' object has no attribute 'figure'",
     "output_type": "error",
     "traceback": [
      "\u001b[0;31m---------------------------------------------------------------------------\u001b[0m",
      "\u001b[0;31mAttributeError\u001b[0m                            Traceback (most recent call last)",
      "\u001b[0;32m<ipython-input-417-b15f68d7d74c>\u001b[0m in \u001b[0;36m<module>\u001b[0;34m()\u001b[0m\n\u001b[0;32m----> 1\u001b[0;31m \u001b[0mDrawing\u001b[0m\u001b[0;34m(\u001b[0m\u001b[0mgraph\u001b[0m\u001b[0;34m,\u001b[0m \u001b[0mdb\u001b[0m\u001b[0;34m,\u001b[0m \u001b[0mdf\u001b[0m\u001b[0;34m,\u001b[0m \u001b[0mdb_demand\u001b[0m\u001b[0;34m,\u001b[0m \u001b[0mdf_demand\u001b[0m\u001b[0;34m)\u001b[0m\u001b[0;34m\u001b[0m\u001b[0m\n\u001b[0m",
      "\u001b[0;32m<ipython-input-410-70810c5d1db1>\u001b[0m in \u001b[0;36mDrawing\u001b[0;34m(graph, db, df, db_demand, df_demand, size_x, size_y)\u001b[0m\n\u001b[1;32m     14\u001b[0m         \u001b[0;31m# same layout using matplotlib with no labels\u001b[0m\u001b[0;34m\u001b[0m\u001b[0;34m\u001b[0m\u001b[0m\n\u001b[1;32m     15\u001b[0m         \u001b[0mpos\u001b[0m\u001b[0;34m=\u001b[0m\u001b[0mnx\u001b[0m\u001b[0;34m.\u001b[0m\u001b[0mgraphviz_layout\u001b[0m\u001b[0;34m(\u001b[0m\u001b[0mdraw\u001b[0m\u001b[0;34m,\u001b[0m\u001b[0mprog\u001b[0m\u001b[0;34m=\u001b[0m\u001b[0;34m'dot'\u001b[0m\u001b[0;34m)\u001b[0m\u001b[0;34m\u001b[0m\u001b[0m\n\u001b[0;32m---> 16\u001b[0;31m         \u001b[0mplt\u001b[0m\u001b[0;34m.\u001b[0m\u001b[0mfigure\u001b[0m\u001b[0;34m(\u001b[0m\u001b[0mfigsize\u001b[0m\u001b[0;34m=\u001b[0m\u001b[0;34m(\u001b[0m\u001b[0msize_x\u001b[0m\u001b[0;34m,\u001b[0m\u001b[0msize_y\u001b[0m\u001b[0;34m)\u001b[0m\u001b[0;34m)\u001b[0m\u001b[0;34m\u001b[0m\u001b[0m\n\u001b[0m\u001b[1;32m     17\u001b[0m         \u001b[0mplt\u001b[0m\u001b[0;34m.\u001b[0m\u001b[0mtitle\u001b[0m\u001b[0;34m(\u001b[0m\u001b[0;34m\"Entscheidungsbaum\"\u001b[0m\u001b[0;34m)\u001b[0m\u001b[0;34m\u001b[0m\u001b[0m\n\u001b[1;32m     18\u001b[0m         \u001b[0mnx\u001b[0m\u001b[0;34m.\u001b[0m\u001b[0mdraw\u001b[0m\u001b[0;34m(\u001b[0m\u001b[0mdraw\u001b[0m\u001b[0;34m,\u001b[0m\u001b[0mpos\u001b[0m\u001b[0;34m,\u001b[0m\u001b[0mwith_labels\u001b[0m\u001b[0;34m=\u001b[0m\u001b[0mTrue\u001b[0m\u001b[0;34m,\u001b[0m \u001b[0mnode_size\u001b[0m\u001b[0;34m=\u001b[0m\u001b[0;36m500\u001b[0m\u001b[0;34m)\u001b[0m\u001b[0;34m\u001b[0m\u001b[0m\n",
      "\u001b[0;31mAttributeError\u001b[0m: 'module' object has no attribute 'figure'"
     ]
    }
   ],
   "source": [
    "Drawing(graph, db, df, db_demand, df_demand)"
   ]
  },
  {
   "cell_type": "code",
   "execution_count": null,
   "metadata": {
    "collapsed": false
   },
   "outputs": [],
   "source": [
    "liste1 = [0, 1, 2, 3, 4]\n",
    "liste1[:2]"
   ]
  },
  {
   "cell_type": "code",
   "execution_count": null,
   "metadata": {
    "collapsed": true
   },
   "outputs": [],
   "source": []
  },
  {
   "cell_type": "code",
   "execution_count": null,
   "metadata": {
    "collapsed": true
   },
   "outputs": [],
   "source": []
  }
 ],
 "metadata": {
  "kernelspec": {
   "display_name": "Python 2",
   "language": "python",
   "name": "python2"
  },
  "language_info": {
   "codemirror_mode": {
    "name": "ipython",
    "version": 2
   },
   "file_extension": ".py",
   "mimetype": "text/x-python",
   "name": "python",
   "nbconvert_exporter": "python",
   "pygments_lexer": "ipython2",
   "version": "2.7.10"
  }
 },
 "nbformat": 4,
 "nbformat_minor": 0
}
