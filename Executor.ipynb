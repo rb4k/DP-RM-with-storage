{
 "cells": [
  {
   "cell_type": "code",
   "execution_count": 43,
   "metadata": {
    "collapsed": true
   },
   "outputs": [],
   "source": [
    "__version__ = '0.3'\n",
    "__author__  = \"Robert Matern (r.matern@stud.uni-hannover.de)\"\n",
    "__date__    = ''\n",
    "__url__     = ''\n",
    "__copyright__ = \"(C) 2015 Robert Matern\""
   ]
  },
  {
   "cell_type": "markdown",
   "metadata": {},
   "source": [
    "# Ausführungsdatei"
   ]
  },
  {
   "cell_type": "code",
   "execution_count": 44,
   "metadata": {
    "collapsed": false
   },
   "outputs": [
    {
     "name": "stdout",
     "output_type": "stream",
     "text": [
      "Python Version 2.7.10 |Anaconda 2.2.0 (x86_64)| (default, May 28 2015, 17:04:42) \n",
      "[GCC 4.2.1 (Apple Inc. build 5577)]\n",
      "Numpy Version 1.9.2\n",
      "Matplotlib Version 1.4.3\n",
      "Pandas Version 0.15.2\n"
     ]
    }
   ],
   "source": [
    "# Funktionen werden hinzugeladen.\n",
    "%run Parameter.ipynb\n",
    "%run DynamicProgramm.ipynb\n",
    "#%run Parameter-storage.ipynb\n",
    "#%run DynamicProgramm-storage.ipynb"
   ]
  },
  {
   "cell_type": "code",
   "execution_count": 45,
   "metadata": {
    "collapsed": false
   },
   "outputs": [
    {
     "name": "stdout",
     "output_type": "stream",
     "text": [
      "0:00:00.000342\n"
     ]
    }
   ],
   "source": [
    "# Beispiel wird hinzugeladen.\n",
    "%run Data01.ipynb"
   ]
  },
  {
   "cell_type": "code",
   "execution_count": 46,
   "metadata": {
    "collapsed": false
   },
   "outputs": [],
   "source": [
    "# Grafiken werden im IPython Notebook angezeigt.\n",
    "#%matplotlib inline"
   ]
  },
  {
   "cell_type": "markdown",
   "metadata": {},
   "source": [
    "Als ersten Schritt werden für alle möglichen Systemzustände des Beispiels die jeweiligen Erwartungswerte berechnet. Dies erfolgt über eine Implementierung der Dynamischen Programmierung der mathematischen Modellformulierung des Problems der Auftragsannahme im Revenue Management (siehe Bellman-Gleichung)."
   ]
  },
  {
   "cell_type": "code",
   "execution_count": 47,
   "metadata": {
    "collapsed": false
   },
   "outputs": [
    {
     "name": "stdout",
     "output_type": "stream",
     "text": [
      "Systemzustand: [2 1] - Periode: 0 - Erwartungswert: 0.0 - Optimale Politik: 0\n",
      "Systemzustand: [1 1] - Periode: 0 - Erwartungswert: 0.0 - Optimale Politik: 0\n",
      "Systemzustand: [2 0] - Periode: 0 - Erwartungswert: 0.0 - Optimale Politik: 0\n",
      "Systemzustand: [2 1] - Periode: 1 - Erwartungswert: 70.0 - Optimale Politik: 2\n",
      "Systemzustand: [0 1] - Periode: 0 - Erwartungswert: 0.0 - Optimale Politik: 0\n",
      "Systemzustand: [1 0] - Periode: 0 - Erwartungswert: 0.0 - Optimale Politik: 0\n",
      "Systemzustand: [1 1] - Periode: 1 - Erwartungswert: 70.0 - Optimale Politik: 2\n",
      "Systemzustand: [2 0] - Periode: 1 - Erwartungswert: 51.0 - Optimale Politik: 1\n",
      "Systemzustand: [2 1] - Periode: 2 - Erwartungswert: 138.125 - Optimale Politik: 2\n",
      "Systemzustand: [0 0] - Periode: 0 - Erwartungswert: 0.0 - Optimale Politik: 0\n",
      "Systemzustand: [0 1] - Periode: 1 - Erwartungswert: 21.0 - Optimale Politik: 2\n",
      "Systemzustand: [1 0] - Periode: 1 - Erwartungswert: 51.0 - Optimale Politik: 1\n",
      "Systemzustand: [1 1] - Periode: 2 - Erwartungswert: 113.594 - Optimale Politik: 2\n",
      "Systemzustand: [2 0] - Periode: 2 - Erwartungswert: 102.0 - Optimale Politik: 1\n",
      "Systemzustand: [2 1] - Periode: 3 - Erwartungswert: 192.25 - Optimale Politik: 2\n",
      "Systemzustand: [0 0] - Periode: 1 - Erwartungswert: 2.0 - Optimale Politik: 1\n",
      "Systemzustand: [0 1] - Periode: 2 - Erwartungswert: 40.0938 - Optimale Politik: 2\n",
      "Systemzustand: [1 0] - Periode: 2 - Erwartungswert: 77.5 - Optimale Politik: 1\n",
      "Systemzustand: [1 1] - Periode: 3 - Erwartungswert: 143.234 - Optimale Politik: 2\n",
      "Systemzustand: [2 0] - Periode: 3 - Erwartungswert: 140.75 - Optimale Politik: 1\n",
      "Systemzustand: [2 1] - Periode: 4 - Erwartungswert: 232.594 - Optimale Politik: 2\n"
     ]
    },
    {
     "data": {
      "text/plain": [
       "232.59375"
      ]
     },
     "execution_count": 47,
     "metadata": {},
     "output_type": "execute_result"
    }
   ],
   "source": [
    "DP(solutions, conditions, products, resources, capacities, consumtions, times, revenues, probs)"
   ]
  },
  {
   "cell_type": "code",
   "execution_count": 48,
   "metadata": {
    "collapsed": false
   },
   "outputs": [
    {
     "name": "stdout",
     "output_type": "stream",
     "text": [
      "CPU times: user 6.89 ms, sys: 143 µs, total: 7.04 ms\n",
      "Wall time: 19.3 ms\n",
      "Optimalen Politik zum Zeitpunkt \"t\" und unter Beachtung der Restkapazitäten \"c[h]\": \n",
      "\n",
      "    $c_{1}$  $c_{2}$  $t$    ExpValue     Successor  $j^*$  Best Successor  \\\n",
      "4         2        1    4  232.593750    [8, 3, 13]      2               8   \n",
      "8         2        0    3  140.750000       [17, 7]      1              17   \n",
      "13        1        1    3  143.234375  [17, 12, 22]      2              17   \n",
      "17        1        0    2   77.500000      [16, 26]      1              26   \n",
      "22        0        1    2   40.093750      [26, 21]      2              26   \n",
      "26        0        0    1    2.000000          [25]      0              25   \n",
      "3         2        1    3  192.250000    [2, 12, 7]      2               7   \n",
      "12        1        1    2  113.593750  [16, 11, 21]      2              16   \n",
      "21        0        1    1   21.000000      [25, 20]      2              25   \n",
      "7         2        0    2  102.000000       [16, 6]      1              16   \n",
      "16        1        0    1   51.000000      [25, 15]      1              25   \n",
      "25        0        0    0    0.000000         [end]      0               0   \n",
      "2         2        1    2  138.125000    [1, 11, 6]      2               6   \n",
      "11        1        1    1   70.000000  [10, 20, 15]      2              15   \n",
      "20        0        1    0    0.000000         [end]      0               0   \n",
      "6         2        0    1   51.000000       [5, 15]      1              15   \n",
      "15        1        0    0    0.000000         [end]      0               0   \n",
      "1         2        1    1   70.000000    [0, 10, 5]      2               5   \n",
      "10        1        1    0    0.000000         [end]      0               0   \n",
      "5         2        0    0    0.000000         [end]      0               0   \n",
      "0         2        1    0    0.000000         [end]      0               0   \n",
      "\n",
      "    $r_{j}-OC_{j}$  \n",
      "4        148.50000  \n",
      "8         75.50000  \n",
      "13       163.90625  \n",
      "17        51.00000  \n",
      "22       181.00000  \n",
      "26         0.00000  \n",
      "3        163.87500  \n",
      "12       181.00000  \n",
      "21       200.00000  \n",
      "7        100.00000  \n",
      "16       100.00000  \n",
      "25         0.00000  \n",
      "2        181.00000  \n",
      "11       200.00000  \n",
      "20         0.00000  \n",
      "6        100.00000  \n",
      "15         0.00000  \n",
      "1        200.00000  \n",
      "10         0.00000  \n",
      "5          0.00000  \n",
      "0          0.00000   \n",
      "\n",
      "   Opt. Politic  from  to  Revenue  Cum_Rev\n",
      "4             2     4   8      200      200\n",
      "3             1     8  17      100      300\n",
      "2             1    17  26      100      400\n",
      "1             0    26  25        0      400\n",
      "0             0     0   0        0      400 \n",
      "\n",
      "CPU times: user 37 ms, sys: 1.44 ms, total: 38.4 ms\n",
      "Wall time: 44 ms\n"
     ]
    }
   ],
   "source": [
    "# Erstellung der Struktur als NetworkX-Graph\n",
    "%time graph = Structure(solutions, conditions, products, consumtions, revenues, probs)\n",
    "\n",
    "# Ermittlung der besten Politik (Dijkstra Algorithmus)\n",
    "%time db, df = Best_Politic(graph, times, resources)\n",
    "#%time db_demand, df_demand = Best_Politic_Demand(graph, times, resources, demands)"
   ]
  },
  {
   "cell_type": "code",
   "execution_count": 49,
   "metadata": {
    "collapsed": false
   },
   "outputs": [
    {
     "ename": "AttributeError",
     "evalue": "'module' object has no attribute 'figure'",
     "output_type": "error",
     "traceback": [
      "\u001b[0;31m---------------------------------------------------------------------------\u001b[0m",
      "\u001b[0;31mAttributeError\u001b[0m                            Traceback (most recent call last)",
      "\u001b[0;32m<ipython-input-49-ec0a85ebe107>\u001b[0m in \u001b[0;36m<module>\u001b[0;34m()\u001b[0m\n\u001b[1;32m     11\u001b[0m         \u001b[0;31m# same layout using matplotlib with no labels\u001b[0m\u001b[0;34m\u001b[0m\u001b[0;34m\u001b[0m\u001b[0m\n\u001b[1;32m     12\u001b[0m \u001b[0mpos\u001b[0m\u001b[0;34m=\u001b[0m\u001b[0mnx\u001b[0m\u001b[0;34m.\u001b[0m\u001b[0mgraphviz_layout\u001b[0m\u001b[0;34m(\u001b[0m\u001b[0mdraw\u001b[0m\u001b[0;34m,\u001b[0m\u001b[0mprog\u001b[0m\u001b[0;34m=\u001b[0m\u001b[0;34m'dot'\u001b[0m\u001b[0;34m)\u001b[0m\u001b[0;34m\u001b[0m\u001b[0m\n\u001b[0;32m---> 13\u001b[0;31m \u001b[0mplt\u001b[0m\u001b[0;34m.\u001b[0m\u001b[0mfigure\u001b[0m\u001b[0;34m(\u001b[0m\u001b[0mfigsize\u001b[0m\u001b[0;34m=\u001b[0m\u001b[0;34m(\u001b[0m\u001b[0msize_x\u001b[0m\u001b[0;34m,\u001b[0m\u001b[0msize_y\u001b[0m\u001b[0;34m)\u001b[0m\u001b[0;34m)\u001b[0m\u001b[0;34m\u001b[0m\u001b[0m\n\u001b[0m\u001b[1;32m     14\u001b[0m \u001b[0mplt\u001b[0m\u001b[0;34m.\u001b[0m\u001b[0mtitle\u001b[0m\u001b[0;34m(\u001b[0m\u001b[0;34m\"Entscheidungsbaum\"\u001b[0m\u001b[0;34m)\u001b[0m\u001b[0;34m\u001b[0m\u001b[0m\n\u001b[1;32m     15\u001b[0m \u001b[0mnx\u001b[0m\u001b[0;34m.\u001b[0m\u001b[0mdraw\u001b[0m\u001b[0;34m(\u001b[0m\u001b[0mdraw\u001b[0m\u001b[0;34m,\u001b[0m\u001b[0mpos\u001b[0m\u001b[0;34m,\u001b[0m\u001b[0mwith_labels\u001b[0m\u001b[0;34m=\u001b[0m\u001b[0mTrue\u001b[0m\u001b[0;34m,\u001b[0m \u001b[0mnode_size\u001b[0m\u001b[0;34m=\u001b[0m\u001b[0;36m500\u001b[0m\u001b[0;34m)\u001b[0m\u001b[0;34m\u001b[0m\u001b[0m\n",
      "\u001b[0;31mAttributeError\u001b[0m: 'module' object has no attribute 'figure'"
     ]
    }
   ],
   "source": [
    "import matplotlib as plt\n",
    "\n",
    "draw = graph.copy()\n",
    "draw.remove_node('end')\n",
    "        # Quelle: http://stackoverflow.com/a/11484144/4913569\n",
    "        # ----\n",
    "        # write dot file to use with graphviz\n",
    "        # run \"dot -Tpng test.dot >test.png\"\n",
    "nx.write_dot(draw,'test.dot')\n",
    "\n",
    "        # same layout using matplotlib with no labels\n",
    "pos=nx.graphviz_layout(draw,prog='dot')\n",
    "plt.figure(figsize=(size_x,size_y))\n",
    "plt.title(\"Entscheidungsbaum\")\n",
    "nx.draw(draw,pos,with_labels=True, node_size=500)\n",
    "plt.savefig('GraphTest.png')"
   ]
  },
  {
   "cell_type": "code",
   "execution_count": null,
   "metadata": {
    "collapsed": false
   },
   "outputs": [],
   "source": [
    "%time print Best_Path(graph, times)"
   ]
  },
  {
   "cell_type": "code",
   "execution_count": null,
   "metadata": {
    "collapsed": false,
    "scrolled": true
   },
   "outputs": [],
   "source": [
    "Drawing(graph, db, df, db_demand, df_demand)"
   ]
  },
  {
   "cell_type": "code",
   "execution_count": null,
   "metadata": {
    "collapsed": false
   },
   "outputs": [],
   "source": [
    "liste1 = [0, 1, 2, 3, 4]\n",
    "liste1[:2]"
   ]
  },
  {
   "cell_type": "code",
   "execution_count": null,
   "metadata": {
    "collapsed": true
   },
   "outputs": [],
   "source": []
  },
  {
   "cell_type": "code",
   "execution_count": null,
   "metadata": {
    "collapsed": true
   },
   "outputs": [],
   "source": []
  }
 ],
 "metadata": {
  "kernelspec": {
   "display_name": "Python 2",
   "language": "python",
   "name": "python2"
  },
  "language_info": {
   "codemirror_mode": {
    "name": "ipython",
    "version": 2
   },
   "file_extension": ".py",
   "mimetype": "text/x-python",
   "name": "python",
   "nbconvert_exporter": "python",
   "pygments_lexer": "ipython2",
   "version": "2.7.10"
  }
 },
 "nbformat": 4,
 "nbformat_minor": 0
}
