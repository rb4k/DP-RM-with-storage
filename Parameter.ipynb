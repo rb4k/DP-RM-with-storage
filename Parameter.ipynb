{
 "cells": [
  {
   "cell_type": "code",
   "execution_count": 25,
   "metadata": {
    "collapsed": true
   },
   "outputs": [],
   "source": [
    "__version__ = '0.3'\n",
    "__author__  = \"Robert Matern (r.matern@stud.uni-hannover.de)\"\n",
    "__date__    = ''\n",
    "__url__     = ''\n",
    "__copyright__ = \"(C) 2015 Robert Matern\""
   ]
  },
  {
   "cell_type": "code",
   "execution_count": 26,
   "metadata": {
    "collapsed": true
   },
   "outputs": [],
   "source": [
    "import numpy as np"
   ]
  },
  {
   "cell_type": "markdown",
   "metadata": {},
   "source": [
    "#Parameter"
   ]
  },
  {
   "cell_type": "markdown",
   "metadata": {},
   "source": [
    "##Parameter\n",
    "\n",
    "###Produkte\n",
    "Ein Produkt $j$ aus der Menge an Produkten $\\mathcal{J}$:"
   ]
  },
  {
   "cell_type": "code",
   "execution_count": 27,
   "metadata": {
    "collapsed": false
   },
   "outputs": [],
   "source": [
    "def Product(j):\n",
    "    '''Produkte j aus J.'''\n",
    "    return np.arange(j+1, dtype=np.uint8)"
   ]
  },
  {
   "cell_type": "raw",
   "metadata": {},
   "source": [
    "def Product(number):\n",
    "    i = []\n",
    "    for n in range(number+1):\n",
    "        i = i + [n]\n",
    "    return i"
   ]
  },
  {
   "cell_type": "markdown",
   "metadata": {},
   "source": [
    "###Ressourcen\n",
    "\n",
    "Es gibt $h$ Ressourcen aus der Menge an Ressourcen $\\mathcal{H}$:"
   ]
  },
  {
   "cell_type": "code",
   "execution_count": 28,
   "metadata": {
    "collapsed": false
   },
   "outputs": [],
   "source": [
    "def Resource(h):\n",
    "    '''Ressourcen h aus H.'''\n",
    "    return np.arange(h+1, dtype=np.uint8)"
   ]
  },
  {
   "cell_type": "markdown",
   "metadata": {},
   "source": [
    "### Kapazität der Ressourcen\n",
    "\n",
    "Für jeder Ressource $h \\in \\mathcal{H}$ gibt es eine vordefinierte Kapazität der Ressourcen $c_h$:"
   ]
  },
  {
   "cell_type": "code",
   "execution_count": 29,
   "metadata": {
    "collapsed": false
   },
   "outputs": [],
   "source": [
    "def Capacity(h):\n",
    "    ''' Kapazität der Ressourcen h aus H.'''\n",
    "    matrix = np.zeros(shape=(len(h)), dtype=np.int8)\n",
    "    return matrix"
   ]
  },
  {
   "cell_type": "markdown",
   "metadata": {},
   "source": [
    "### Ressourcenverbrauch\n",
    "\n",
    "Die Matrix $\\textbf{A}$ zeigt für eine jede Anfrage nach einem Produkt $j \\in \\mathcal{J}$ den dafür notwendigen Ressourcenverbrauch. Ein Vektor $a_{j}$ zeigt für ein Produkt $j \\in \\mathcal{J}$ den jeweiligen Ressourcenverbrauch:"
   ]
  },
  {
   "cell_type": "code",
   "execution_count": 30,
   "metadata": {
    "collapsed": false
   },
   "outputs": [],
   "source": [
    "def Consumption(j, h):\n",
    "    ''' Matrix der Ressourcenverbräuche für die Produkte j aus J\n",
    "    und die Ressourcen h aus H.'''\n",
    "    matrix = np.zeros(shape=(len(j),len(h)), dtype=np.uint8)\n",
    "    #matrix[0] = [range]\n",
    "    return matrix"
   ]
  },
  {
   "cell_type": "markdown",
   "metadata": {},
   "source": [
    "### Ertrag (Revenue)\n",
    "\n",
    "Jedes Produkt $j$ erzielt einen Ertrag $r_j$:"
   ]
  },
  {
   "cell_type": "code",
   "execution_count": 31,
   "metadata": {
    "collapsed": false
   },
   "outputs": [],
   "source": [
    "def Revenue(j):\n",
    "    '''Erträge der Produkte j aus J.'''\n",
    "    vector = np.zeros(shape=(len(j)), dtype=np.uint8)\n",
    "    return vector"
   ]
  },
  {
   "cell_type": "markdown",
   "metadata": {},
   "source": [
    "### Buchungsperioden\n",
    "\n",
    "Der Buchungshorizont wird durch den Paramter $T$ definiert. Die jeweilig betrachtete Periode entspricht dem Parameter $t \\in \\{0,1,...,T+1\\}$. Dabei verläuft der Buchungshorizont rückwärts in der Zeit, so dass die erste Buchungsperiode $t=T$ und die letzte Buchungsperiode $t=0$ entspricht. Dabei ist die Startperiode $T+1$:"
   ]
  },
  {
   "cell_type": "code",
   "execution_count": 32,
   "metadata": {
    "collapsed": false
   },
   "outputs": [],
   "source": [
    "def Time(t):\n",
    "    '''Buchungshorizont \"t\".'''\n",
    "    time = np.arange(t+1, dtype=np.uint16)\n",
    "    time = time[::-1]\n",
    "    return time"
   ]
  },
  {
   "cell_type": "markdown",
   "metadata": {},
   "source": [
    "### Wahrscheinlichkeit der Anfrage nach einem Produkt $j$\n",
    "\n",
    "Eine Anfragen nach einem Produkte $j$ zum Zeitpunkt $t$ hat eine bestimmte Eintrittfahrscheinlichkeit $p_j(t)$:"
   ]
  },
  {
   "cell_type": "code",
   "execution_count": 33,
   "metadata": {
    "collapsed": false
   },
   "outputs": [],
   "source": [
    "def Prob(j, t):\n",
    "    '''Wahrscheinlichkeit der Anfrage nach einem\n",
    "    Produkt \"j\" im Buchungsverlauf \"t\". '''\n",
    "    matrix = np.zeros(shape=(len(j),len(t)))\n",
    "    #matrix[0] = [range]\n",
    "    return matrix"
   ]
  },
  {
   "cell_type": "markdown",
   "metadata": {},
   "source": [
    "### Gegenwahrscheinlichkeit keiner Produktanfrage \n",
    "\n",
    "Die Wahrscheinlichkeit, dass keine Anfrage eintrifft entspricht $p_0(t)$"
   ]
  },
  {
   "cell_type": "code",
   "execution_count": 34,
   "metadata": {
    "collapsed": false
   },
   "outputs": [],
   "source": [
    "def Against_Prob(prob):\n",
    "    ''' Gegenwahrscheinlichkeit keiner Produktanfrage.\n",
    "    Dabei entspricht der Paramter \"prob\"\n",
    "    der Wahrscheinlichkeit der Produktanfragen.'''\n",
    "    matrix = prob.T\n",
    "    matrix2 = np.zeros(shape=(len(matrix)))\n",
    "    for i in range(0, len(matrix)):\n",
    "        matrix2[i] = 1-(matrix[i].sum())\n",
    "    return matrix2"
   ]
  },
  {
   "cell_type": "markdown",
   "metadata": {},
   "source": [
    "##Systemzustände\n",
    "\n",
    "### Mögliche Systemzustände\n",
    "\n",
    "Die möglichen Systemzustände werden in Abhängigkeit der Kapazitäten der Ressourcen des Buchungshorizonts ermittelt:"
   ]
  },
  {
   "cell_type": "code",
   "execution_count": 2,
   "metadata": {
    "collapsed": false
   },
   "outputs": [],
   "source": [
    "def Condition(capacities, resources, times):\n",
    "    '''Berechnung der möglichen Systemzustände eines Netzwerks\n",
    "    mit c Kapazitäten, r Ressourcen und t Perioden.'''\n",
    "    from itertools import product\n",
    "    conditions = [] \n",
    "    array = []\n",
    "    for h in resources[1:]:\n",
    "        array = array + [range(capacities[h]+1)]\n",
    "    for subset in product(*array):\n",
    "        for t in range(len(times)):\n",
    "            conditions = conditions + [[subset, times[t]]]\n",
    "    return conditions"
   ]
  },
  {
   "cell_type": "markdown",
   "metadata": {},
   "source": [
    "###Enzeitpunkte:\n",
    "\n",
    "Endzeitpunkte des Netzwerks:"
   ]
  },
  {
   "cell_type": "raw",
   "metadata": {
    "collapsed": false
   },
   "source": [
    "def End_Time(conditions):\n",
    "    '''Endzeutpunkte in Abhängigkeit der möglichen\n",
    "    Systemzustände \"conditions\". '''\n",
    "    end_times = []\n",
    "    for i in range(len(conditions)):\n",
    "        if conditions[i][1] == 0:\n",
    "            end_times = end_times + [conditions[i]]\n",
    "    return end_times"
   ]
  }
 ],
 "metadata": {
  "kernelspec": {
   "display_name": "Python 2",
   "language": "python",
   "name": "python2"
  },
  "language_info": {
   "codemirror_mode": {
    "name": "ipython",
    "version": 2
   },
   "file_extension": ".py",
   "mimetype": "text/x-python",
   "name": "python",
   "nbconvert_exporter": "python",
   "pygments_lexer": "ipython2",
   "version": "2.7.9"
  }
 },
 "nbformat": 4,
 "nbformat_minor": 0
}
