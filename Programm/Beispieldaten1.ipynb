{
 "cells": [
  {
   "cell_type": "markdown",
   "metadata": {},
   "source": [
    "# Beispieldaten aus Kapitel 5; Beispiel 1"
   ]
  },
  {
   "cell_type": "code",
   "execution_count": 1,
   "metadata": {
    "collapsed": false
   },
   "outputs": [
    {
     "name": "stdout",
     "output_type": "stream",
     "text": [
      "Python Version 2.7.10 |Anaconda 2.3.0 (x86_64)| (default, May 28 2015, 17:04:42) \n",
      "[GCC 4.2.1 (Apple Inc. build 5577)]\n",
      "Numpy Version 1.9.2\n",
      "Matplotlib Version 1.4.3\n",
      "Pandas Version 0.16.2\n"
     ]
    }
   ],
   "source": [
    "import numpy as np\n",
    "import pandas as pd\n",
    "import matplotlib as plt\n",
    "import sys\n",
    "\n",
    "print 'Python Version ' + sys.version\n",
    "print 'Numpy Version ' + np.__version__\n",
    "print 'Matplotlib Version ' + plt.__version__\n",
    "print 'Pandas Version ' + pd.__version__\n",
    "\n",
    "import networkx as nx\n",
    "import graphviz as gv\n",
    "import datetime"
   ]
  },
  {
   "cell_type": "code",
   "execution_count": 2,
   "metadata": {
    "collapsed": false
   },
   "outputs": [],
   "source": [
    "%run Parameter.ipynb"
   ]
  },
  {
   "cell_type": "code",
   "execution_count": 3,
   "metadata": {
    "collapsed": false
   },
   "outputs": [
    {
     "name": "stdout",
     "output_type": "stream",
     "text": [
      "[ 1.          0.69999999  0.39999998  0.10000002]\n"
     ]
    }
   ],
   "source": [
    "# Produkte\n",
    "products = Product(3)\n",
    "\n",
    "# Ressourcen\n",
    "resources = Resource(3)\n",
    "\n",
    "#Kapazität\n",
    "capacities = Capacity(resources)\n",
    "for h in resources[1:]:\n",
    "    capacities[h] = 1\n",
    "\n",
    "# Ressourcenverbrauch\n",
    "consumtions = Consumption(products, resources)\n",
    "consumtions[1] = [0,1,0,0]\n",
    "consumtions[2] = [0,0,1,0]\n",
    "consumtions[3] = [0,0,0,2]\n",
    "\n",
    "# Erträge\n",
    "revenues = Revenue(products)\n",
    "revenues[1] = 100\n",
    "revenues[2] = 200\n",
    "revenues[3] = 5000\n",
    "\n",
    "# Buchungsperioden\n",
    "times = Time(3)\n",
    "\n",
    "# Wahrscheinlichkeiten\n",
    "probs = Prob(products, times)\n",
    "probs[1] = [0, 0, 0, 0.3]\n",
    "probs[2] = [0, 0, 0.3, 0.3]\n",
    "probs[3] = [0, 0.3, 0.3, 0.3]\n",
    "\n",
    "\n",
    "# Gegenwahrscheinlichkeiten\n",
    "against_probs = Against_Prob(probs)\n",
    "probs[0] = against_probs\n",
    "print probs[0]"
   ]
  },
  {
   "cell_type": "code",
   "execution_count": 4,
   "metadata": {
    "collapsed": false
   },
   "outputs": [
    {
     "data": {
      "image/png": "[encoded data removed]",
      "text/plain": [
       "<matplotlib.figure.Figure at 0x107600050>"
      ]
     },
     "metadata": {},
     "output_type": "display_data"
    }
   ],
   "source": [
    "import matplotlib.pyplot as plt\n",
    "%matplotlib inline\n",
    "\n",
    "plt.figure(1, figsize=(15, 8))\n",
    "plt.subplot(211)\n",
    "plt.gca().invert_xaxis()\n",
    "for j in products[1:]:\n",
    "    plt.plot(probs[j][1:].T, label=\"Produkt \"+str(j))\n",
    "plt.title(\"Wahrscheinlichkeitsverteilung\")\n",
    "plt.ylabel(\"p[j](t)\")\n",
    "plt.xlabel(\"t\")\n",
    "plt.legend(bbox_to_anchor=(0., -0.4, 1., .102), loc=3,\n",
    "           ncol=5, mode=\"expand\", borderaxespad=0.)\n",
    "plt.show\n",
    "plt.draw()\n",
    "plt.savefig('Wverteilung.png') "
   ]
  },
  {
   "cell_type": "code",
   "execution_count": 5,
   "metadata": {
    "collapsed": false
   },
   "outputs": [
    {
     "name": "stdout",
     "output_type": "stream",
     "text": [
      "0:00:00.001953\n"
     ]
    }
   ],
   "source": [
    "#Lagerbestand\n",
    "stock_resources = Stock_Resource(resources)\n",
    "stock_resources[1] = 0\n",
    "\n",
    "max_stock_resources = Max_Stock_Resource(resources)\n",
    "max_stock_resources[1] = 2\n",
    "max_stock_resources[2] = 2\n",
    "max_stock_resources[3] = 2\n",
    "\n",
    "# Systemzustände\n",
    "condition_storages = Condition_Storage(capacities, resources, max_stock_resources, times)\n",
    "# Bei der Modelformulierung mit Lagerproduktion wird der Parameter 'max_stocks' benötigt."
   ]
  },
  {
   "cell_type": "code",
   "execution_count": 6,
   "metadata": {
    "collapsed": false
   },
   "outputs": [],
   "source": [
    "%run DynamicProgramm_Stock.ipynb"
   ]
  },
  {
   "cell_type": "code",
   "execution_count": 7,
   "metadata": {
    "collapsed": false
   },
   "outputs": [
    {
     "name": "stdout",
     "output_type": "stream",
     "text": [
      "c[h]: [1 1 1] - y[h]: [0 0 0] - t: 1 - V(c,y,t): 0.0 - d[0]: [0] - d[j]: [0 0 0] - j*: 0 - OC[j*]: 0\n",
      "c[h]: [1 0 1] - y[h]: [0 0 0] - t: 1 - V(c,y,t): 0.0 - d[0]: [0] - d[j]: [0 0 0] - j*: 0 - OC[j*]: 0\n",
      "c[h]: [1 0 1] - y[h]: [0 0 1] - t: 1 - V(c,y,t): 0.0 - d[0]: [0] - d[j]: [0 0 0] - j*: 0 - OC[j*]: 0\n",
      "c[h]: [1 1 1] - y[h]: [0 0 0] - t: 2 - V(c,y,t): 60.0 - d[0]: [0] - d[j]: [0 1 0] - j*: 2 - OC[j*]: 200.0\n",
      "c[h]: [0 1 1] - y[h]: [0 0 0] - t: 1 - V(c,y,t): 0.0 - d[0]: [0] - d[j]: [0 0 0] - j*: 0 - OC[j*]: 0\n",
      "c[h]: [0 0 1] - y[h]: [0 0 0] - t: 1 - V(c,y,t): 0.0 - d[0]: [0] - d[j]: [0 0 0] - j*: 0 - OC[j*]: 0\n",
      "c[h]: [0 0 1] - y[h]: [0 0 1] - t: 1 - V(c,y,t): 0.0 - d[0]: [0] - d[j]: [0 0 0] - j*: 0 - OC[j*]: 0\n",
      "c[h]: [0 1 1] - y[h]: [0 0 0] - t: 2 - V(c,y,t): 60.0 - d[0]: [0] - d[j]: [0 1 0] - j*: 2 - OC[j*]: 200.0\n",
      "c[h]: [0 1 1] - y[h]: [0 1 1] - t: 1 - V(c,y,t): 0.0 - d[0]: [0] - d[j]: [0 0 0] - j*: 0 - OC[j*]: 0\n",
      "c[h]: [0 0 1] - y[h]: [0 1 1] - t: 1 - V(c,y,t): 0.0 - d[0]: [0] - d[j]: [0 0 0] - j*: 0 - OC[j*]: 0\n",
      "c[h]: [0 0 1] - y[h]: [0 1 2] - t: 1 - V(c,y,t): 1500.0 - d[0]: [0] - d[j]: [0 0 2] - j*: 3 - OC[j*]: 5000.0\n",
      "c[h]: [0 1 1] - y[h]: [0 1 1] - t: 2 - V(c,y,t): 1050.0 - d[0]: [2] - d[j]: [0 3 0] - j*: 2 - OC[j*]: 1700.0\n",
      "c[h]: [1 0 1] - y[h]: [0 0 0] - t: 2 - V(c,y,t): 0.0 - d[0]: [0] - d[j]: [0 0 0] - j*: 0 - OC[j*]: 0\n",
      "c[h]: [1 0 1] - y[h]: [0 0 1] - t: 2 - V(c,y,t): 0.0 - d[0]: [0] - d[j]: [0 0 0] - j*: 0 - OC[j*]: 0\n",
      "c[h]: [1 1 1] - y[h]: [0 0 0] - t: 3 - V(c,y,t): 498.0 - d[0]: [1] - d[j]: [3 1 0] - j*: 1 - OC[j*]: 1090.0\n",
      "Rechenezeit DP: 0:00:00.064245\n"
     ]
    }
   ],
   "source": [
    "solutions={}\n",
    "\n",
    "a = datetime.datetime.now()\n",
    "\n",
    "DP_Stock(solutions, condition_storages, products, resources, capacities, consumtions, times, revenues, probs, stock_resources, max_stock_resources)\n",
    "\n",
    "b = datetime.datetime.now()\n",
    "print 'Rechenezeit DP:', (b-a)"
   ]
  },
  {
   "cell_type": "code",
   "execution_count": 8,
   "metadata": {
    "collapsed": false
   },
   "outputs": [],
   "source": [
    "graph = Structure_Stock(solutions, condition_storages, products, resources, consumtions, revenues, probs, stock_resources, max_stock_resources)"
   ]
  },
  {
   "cell_type": "code",
   "execution_count": 9,
   "metadata": {
    "collapsed": false
   },
   "outputs": [
    {
     "data": {
      "text/html": [
       "<div>\n",
       "<table border=\"1\" class=\"dataframe\">\n",
       "  <thead>\n",
       "    <tr style=\"text-align: right;\">\n",
       "      <th></th>\n",
       "      <th>$c^{1}$</th>\n",
       "      <th>$c^{2}$</th>\n",
       "      <th>$c^{3}$</th>\n",
       "      <th>$y^{1}$</th>\n",
       "      <th>$y^{2}$</th>\n",
       "      <th>$y^{3}$</th>\n",
       "      <th>$t$</th>\n",
       "      <th>ExpValue</th>\n",
       "      <th>$d_{0}$</th>\n",
       "      <th>$d_{1}$</th>\n",
       "      <th>$d_{2}$</th>\n",
       "      <th>$d_{3}$</th>\n",
       "    </tr>\n",
       "  </thead>\n",
       "  <tbody>\n",
       "    <tr>\n",
       "      <th>107</th>\n",
       "      <td>1</td>\n",
       "      <td>1</td>\n",
       "      <td>1</td>\n",
       "      <td>0</td>\n",
       "      <td>0</td>\n",
       "      <td>0</td>\n",
       "      <td>3</td>\n",
       "      <td>498.000031</td>\n",
       "      <td>1</td>\n",
       "      <td>3</td>\n",
       "      <td>1</td>\n",
       "      <td>0</td>\n",
       "    </tr>\n",
       "    <tr>\n",
       "      <th>318</th>\n",
       "      <td>1</td>\n",
       "      <td>0</td>\n",
       "      <td>1</td>\n",
       "      <td>0</td>\n",
       "      <td>0</td>\n",
       "      <td>1</td>\n",
       "      <td>2</td>\n",
       "      <td>0.000000</td>\n",
       "      <td>0</td>\n",
       "      <td>0</td>\n",
       "      <td>0</td>\n",
       "      <td>0</td>\n",
       "    </tr>\n",
       "    <tr>\n",
       "      <th>538</th>\n",
       "      <td>0</td>\n",
       "      <td>1</td>\n",
       "      <td>1</td>\n",
       "      <td>0</td>\n",
       "      <td>0</td>\n",
       "      <td>0</td>\n",
       "      <td>2</td>\n",
       "      <td>60.000000</td>\n",
       "      <td>0</td>\n",
       "      <td>0</td>\n",
       "      <td>1</td>\n",
       "      <td>0</td>\n",
       "    </tr>\n",
       "    <tr>\n",
       "      <th>322</th>\n",
       "      <td>1</td>\n",
       "      <td>0</td>\n",
       "      <td>1</td>\n",
       "      <td>0</td>\n",
       "      <td>0</td>\n",
       "      <td>0</td>\n",
       "      <td>2</td>\n",
       "      <td>0.000000</td>\n",
       "      <td>0</td>\n",
       "      <td>0</td>\n",
       "      <td>0</td>\n",
       "      <td>0</td>\n",
       "    </tr>\n",
       "    <tr>\n",
       "      <th>106</th>\n",
       "      <td>1</td>\n",
       "      <td>1</td>\n",
       "      <td>1</td>\n",
       "      <td>0</td>\n",
       "      <td>0</td>\n",
       "      <td>0</td>\n",
       "      <td>2</td>\n",
       "      <td>60.000000</td>\n",
       "      <td>0</td>\n",
       "      <td>0</td>\n",
       "      <td>1</td>\n",
       "      <td>0</td>\n",
       "    </tr>\n",
       "    <tr>\n",
       "      <th>522</th>\n",
       "      <td>0</td>\n",
       "      <td>1</td>\n",
       "      <td>1</td>\n",
       "      <td>0</td>\n",
       "      <td>1</td>\n",
       "      <td>1</td>\n",
       "      <td>2</td>\n",
       "      <td>1050.000000</td>\n",
       "      <td>2</td>\n",
       "      <td>0</td>\n",
       "      <td>3</td>\n",
       "      <td>0</td>\n",
       "    </tr>\n",
       "    <tr>\n",
       "      <th>537</th>\n",
       "      <td>0</td>\n",
       "      <td>1</td>\n",
       "      <td>1</td>\n",
       "      <td>0</td>\n",
       "      <td>0</td>\n",
       "      <td>0</td>\n",
       "      <td>1</td>\n",
       "      <td>0.000000</td>\n",
       "      <td>0</td>\n",
       "      <td>0</td>\n",
       "      <td>0</td>\n",
       "      <td>0</td>\n",
       "    </tr>\n",
       "    <tr>\n",
       "      <th>749</th>\n",
       "      <td>0</td>\n",
       "      <td>0</td>\n",
       "      <td>1</td>\n",
       "      <td>0</td>\n",
       "      <td>0</td>\n",
       "      <td>1</td>\n",
       "      <td>1</td>\n",
       "      <td>0.000000</td>\n",
       "      <td>0</td>\n",
       "      <td>0</td>\n",
       "      <td>0</td>\n",
       "      <td>0</td>\n",
       "    </tr>\n",
       "    <tr>\n",
       "      <th>317</th>\n",
       "      <td>1</td>\n",
       "      <td>0</td>\n",
       "      <td>1</td>\n",
       "      <td>0</td>\n",
       "      <td>0</td>\n",
       "      <td>1</td>\n",
       "      <td>1</td>\n",
       "      <td>0.000000</td>\n",
       "      <td>0</td>\n",
       "      <td>0</td>\n",
       "      <td>0</td>\n",
       "      <td>0</td>\n",
       "    </tr>\n",
       "    <tr>\n",
       "      <th>105</th>\n",
       "      <td>1</td>\n",
       "      <td>1</td>\n",
       "      <td>1</td>\n",
       "      <td>0</td>\n",
       "      <td>0</td>\n",
       "      <td>0</td>\n",
       "      <td>1</td>\n",
       "      <td>0.000000</td>\n",
       "      <td>0</td>\n",
       "      <td>0</td>\n",
       "      <td>0</td>\n",
       "      <td>0</td>\n",
       "    </tr>\n",
       "    <tr>\n",
       "      <th>321</th>\n",
       "      <td>1</td>\n",
       "      <td>0</td>\n",
       "      <td>1</td>\n",
       "      <td>0</td>\n",
       "      <td>0</td>\n",
       "      <td>0</td>\n",
       "      <td>1</td>\n",
       "      <td>0.000000</td>\n",
       "      <td>0</td>\n",
       "      <td>0</td>\n",
       "      <td>0</td>\n",
       "      <td>0</td>\n",
       "    </tr>\n",
       "    <tr>\n",
       "      <th>521</th>\n",
       "      <td>0</td>\n",
       "      <td>1</td>\n",
       "      <td>1</td>\n",
       "      <td>0</td>\n",
       "      <td>1</td>\n",
       "      <td>1</td>\n",
       "      <td>1</td>\n",
       "      <td>0.000000</td>\n",
       "      <td>0</td>\n",
       "      <td>0</td>\n",
       "      <td>0</td>\n",
       "      <td>0</td>\n",
       "    </tr>\n",
       "    <tr>\n",
       "      <th>733</th>\n",
       "      <td>0</td>\n",
       "      <td>0</td>\n",
       "      <td>1</td>\n",
       "      <td>0</td>\n",
       "      <td>1</td>\n",
       "      <td>2</td>\n",
       "      <td>1</td>\n",
       "      <td>1500.000000</td>\n",
       "      <td>0</td>\n",
       "      <td>0</td>\n",
       "      <td>0</td>\n",
       "      <td>2</td>\n",
       "    </tr>\n",
       "    <tr>\n",
       "      <th>737</th>\n",
       "      <td>0</td>\n",
       "      <td>0</td>\n",
       "      <td>1</td>\n",
       "      <td>0</td>\n",
       "      <td>1</td>\n",
       "      <td>1</td>\n",
       "      <td>1</td>\n",
       "      <td>0.000000</td>\n",
       "      <td>0</td>\n",
       "      <td>0</td>\n",
       "      <td>0</td>\n",
       "      <td>0</td>\n",
       "    </tr>\n",
       "    <tr>\n",
       "      <th>753</th>\n",
       "      <td>0</td>\n",
       "      <td>0</td>\n",
       "      <td>1</td>\n",
       "      <td>0</td>\n",
       "      <td>0</td>\n",
       "      <td>0</td>\n",
       "      <td>1</td>\n",
       "      <td>0.000000</td>\n",
       "      <td>0</td>\n",
       "      <td>0</td>\n",
       "      <td>0</td>\n",
       "      <td>0</td>\n",
       "    </tr>\n",
       "  </tbody>\n",
       "</table>\n",
       "</div>"
      ],
      "text/plain": [
       "     $c^{1}$  $c^{2}$  $c^{3}$  $y^{1}$  $y^{2}$  $y^{3}$  $t$     ExpValue  \\\n",
       "107        1        1        1        0        0        0    3   498.000031   \n",
       "318        1        0        1        0        0        1    2     0.000000   \n",
       "538        0        1        1        0        0        0    2    60.000000   \n",
       "322        1        0        1        0        0        0    2     0.000000   \n",
       "106        1        1        1        0        0        0    2    60.000000   \n",
       "522        0        1        1        0        1        1    2  1050.000000   \n",
       "537        0        1        1        0        0        0    1     0.000000   \n",
       "749        0        0        1        0        0        1    1     0.000000   \n",
       "317        1        0        1        0        0        1    1     0.000000   \n",
       "105        1        1        1        0        0        0    1     0.000000   \n",
       "321        1        0        1        0        0        0    1     0.000000   \n",
       "521        0        1        1        0        1        1    1     0.000000   \n",
       "733        0        0        1        0        1        2    1  1500.000000   \n",
       "737        0        0        1        0        1        1    1     0.000000   \n",
       "753        0        0        1        0        0        0    1     0.000000   \n",
       "\n",
       "     $d_{0}$  $d_{1}$  $d_{2}$  $d_{3}$  \n",
       "107        1        3        1        0  \n",
       "318        0        0        0        0  \n",
       "538        0        0        1        0  \n",
       "322        0        0        0        0  \n",
       "106        0        0        1        0  \n",
       "522        2        0        3        0  \n",
       "537        0        0        0        0  \n",
       "749        0        0        0        0  \n",
       "317        0        0        0        0  \n",
       "105        0        0        0        0  \n",
       "321        0        0        0        0  \n",
       "521        0        0        0        0  \n",
       "733        0        0        0        2  \n",
       "737        0        0        0        0  \n",
       "753        0        0        0        0  "
      ]
     },
     "execution_count": 9,
     "metadata": {},
     "output_type": "execute_result"
    }
   ],
   "source": [
    "Opt_Politic_Stock(solutions, resources, stock_resources, products)"
   ]
  }
 ],
 "metadata": {
  "kernelspec": {
   "display_name": "Python 2",
   "language": "python",
   "name": "python2"
  },
  "language_info": {
   "codemirror_mode": {
    "name": "ipython",
    "version": 2
   },
   "file_extension": ".py",
   "mimetype": "text/x-python",
   "name": "python",
   "nbconvert_exporter": "python",
   "pygments_lexer": "ipython2",
   "version": "2.7.10"
  }
 },
 "nbformat": 4,
 "nbformat_minor": 0
}
