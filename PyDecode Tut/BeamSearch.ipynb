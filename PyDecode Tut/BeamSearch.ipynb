{
 "metadata": {
  "name": ""
 },
 "nbformat": 3,
 "nbformat_minor": 0,
 "worksheets": [
  {
   "cells": [
    {
     "cell_type": "code",
     "collapsed": false,
     "input": [
      "import pydecode.test.utils as utils\n",
      "import pydecode.hyper as ph"
     ],
     "language": "python",
     "outputs": [],
     "prompt_number": 1
    },
    {
     "cell_type": "code",
     "collapsed": false,
     "input": [
      "hyper = utils.simple_hypergraph()\n",
      "w = ph.LogViterbiPotentials(hyper).from_vector([0.5 for edge in hyper.edges])"
     ],
     "language": "python",
     "outputs": [],
     "prompt_number": 2
    },
    {
     "cell_type": "code",
     "collapsed": false,
     "input": [
      "ph.best_path(hyper, w)"
     ],
     "language": "python",
     "outputs": [
      {
       "output_type": "pyout",
       "prompt_number": 3,
       "text": [
        "<pydecode.potentials.Path at 0x3f917a0>"
       ]
      }
     ],
     "prompt_number": 3
    },
    {
     "cell_type": "code",
     "collapsed": false,
     "input": [
      "import pydecode.display as display"
     ],
     "language": "python",
     "outputs": [],
     "prompt_number": 4
    },
    {
     "cell_type": "code",
     "collapsed": false,
     "input": [
      "def build_constraints(l):\n",
      "    b = ph.Bitset()\n",
      "    if l == \"0\":\n",
      "        b[1] = 1\n",
      "    if l == \"1\":\n",
      "        b[0] = 1\n",
      "        b[2] = 1\n",
      "    if l == \"2\":\n",
      "        b[0] = 1\n",
      "    if l == \"3\":\n",
      "        b[1] = 1\n",
      "    if l == \"4\":\n",
      "        b[2] = 1\n",
      "    print \"\".join(str(1 if b[i] else 0) for i in range(5))\n",
      "    return b\n",
      "cons = ph.BinaryVectorPotentials(hyper).from_vector([build_constraints(edge.label) for edge in hyper.edges])"
     ],
     "language": "python",
     "outputs": [
      {
       "output_type": "stream",
       "stream": "stdout",
       "text": [
        "01000\n",
        "10100\n",
        "10000\n",
        "01000\n",
        "00100\n"
       ]
      }
     ],
     "prompt_number": 5
    },
    {
     "cell_type": "code",
     "collapsed": false,
     "input": [
      "display.HypergraphFormatter(hyper).to_ipython()"
     ],
     "language": "python",
     "outputs": [
      {
       "output_type": "pyout",
       "png": "[encoded data removed]",
       "prompt_number": 6,
       "text": [
        "<IPython.core.display.Image at 0x3f27890>"
       ]
      }
     ],
     "prompt_number": 6
    },
    {
     "cell_type": "code",
     "collapsed": false,
     "input": [
      "ins = ph.inside(hyper, w)\n",
      "out = ph.outside(hyper, w, ins)"
     ],
     "language": "python",
     "outputs": [],
     "prompt_number": 13
    },
    {
     "cell_type": "code",
     "collapsed": false,
     "input": [
      "beam_chart = ph.beam_search_BinaryVector(hyper, w, cons, out, -10000,  [0,0,0,0,1,2],[10], 3)"
     ],
     "language": "python",
     "outputs": [],
     "prompt_number": 12
    },
    {
     "cell_type": "code",
     "collapsed": false,
     "input": [
      "for node in hyper.nodes:\n",
      "    print node.label\n",
      "    for (hyp, score, future) in beam_chart[node]:\n",
      "        print \"\\t\", score, \n",
      "        print \"\".join(str(1 if hyp[i] else 0) for i in range(5))\n",
      "\n",
      "    print "
     ],
     "language": "python",
     "outputs": [
      {
       "output_type": "stream",
       "stream": "stdout",
       "text": [
        "start 0\n",
        "\t0.0 00000\n",
        "\n",
        "start 1\n",
        "\t0.0 00000\n",
        "\n",
        "start 2\n",
        "\t0.0 00000\n",
        "\n",
        "start 3\n",
        "\t0.0 00000\n",
        "\n",
        "mid\n",
        "\t0.5 10100\n",
        "\t0.5 01000\n",
        "\n",
        "top\n",
        "\t1.0 01100\n",
        "\t1.0 11100\n",
        "\t1.0 11000\n",
        "\n"
       ]
      }
     ],
     "prompt_number": 11
    },
    {
     "cell_type": "code",
     "collapsed": false,
     "input": [
      "#display.HypergraphPathFormatter(hyper, [beam_chart.path(1)]).to_ipython()"
     ],
     "language": "python",
     "outputs": [],
     "prompt_number": 10
    }
   ]
  }
 ]
}