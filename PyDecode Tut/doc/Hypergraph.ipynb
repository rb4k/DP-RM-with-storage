{
 "metadata": {
  "name": ""
 },
 "nbformat": 3,
 "nbformat_minor": 0,
 "worksheets": [
  {
   "cells": [
    {
     "cell_type": "heading",
     "level": 1,
     "source": [
      "pydecode.Hypergraph"
     ]
    },
    {
     "cell_type": "raw",
     "source": [
      ".. note::\n",
      "   This section gives a formal overview of the use of ``Hypergraph``. For a series of tutorials and practical examples see :doc:`../index`."
     ]
    },
    {
     "cell_type": "raw",
     "source": [
      ".. currentmodule:: pydecode                                            \n",
      ".. autoclass:: Hypergraph"
     ]
    },
    {
     "cell_type": "raw",
     "source": [
      ".. currentmodule:: pydecode                                            \n",
      ".. autoclass:: Vertex"
     ]
    },
    {
     "cell_type": "raw",
     "source": [
      ".. currentmodule:: pydecode                                            \n",
      ".. autoclass:: Edge"
     ]
    },
    {
     "cell_type": "raw",
     "source": [
      ".. currentmodule:: pydecode                                            \n",
      ".. autoclass:: Path"
     ]
    },
    {
     "cell_type": "heading",
     "level": 2,
     "source": [
      "Examples"
     ]
    },
    {
     "cell_type": "code",
     "collapsed": false,
     "input": [
      "import pydecode\n",
      "import pydecode.test.utils\n",
      "hypergraph = pydecode.test.utils.simple_hypergraph()"
     ],
     "language": "python",
     "outputs": [],
     "prompt_number": 5
    },
    {
     "cell_type": "code",
     "collapsed": false,
     "input": [
      "for vertex in hypergraph.vertices:\n",
      "    print vertex.id, vertex.is_terminal\n",
      "    for edge in vertex.edges:\n",
      "        print \"\\t\", edge.id, edge.label"
     ],
     "language": "python",
     "outputs": [
      {
       "output_type": "stream",
       "stream": "stdout",
       "text": [
        "0 True\n",
        "1 True\n",
        "2 True\n",
        "3 True\n",
        "4 False\n",
        "\t0 -1\n",
        "\t1 -1\n",
        "5 False\n",
        "\t2 -1\n"
       ]
      }
     ],
     "prompt_number": 11
    },
    {
     "cell_type": "heading",
     "level": 2,
     "source": [
      "Bibliography"
     ]
    },
    {
     "cell_type": "raw",
     "source": [
      ".. bibliography:: ../../full.bib \n",
      "   :filter: key in {\"martin1990\",\"klein2005parsing\"}\n",
      "   :style: plain"
     ]
    }
   ]
  }
 ]
}