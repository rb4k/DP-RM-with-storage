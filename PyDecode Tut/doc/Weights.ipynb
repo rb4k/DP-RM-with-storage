{
 "metadata": {
  "name": ""
 },
 "nbformat": 3,
 "nbformat_minor": 0,
 "worksheets": [
  {
   "cells": [
    {
     "cell_type": "raw",
     "source": [
      ".. _weight_types:\n",
      "\n",
      "Weight Types\n",
      "============"
     ]
    },
    {
     "cell_type": "raw",
     "source": [
      "Each of these algorithms is parameterized over several\n",
      "different semirings. The ``weight_type`` argument is used to specify\n",
      "the semiring."
     ]
    },
    {
     "cell_type": "raw",
     "source": [
      "==============  ==============  ===============  ===============  ===============  =======\n",
      "Name            |splus|           |stimes|       |szero|           |sone|          |stype|\n",
      "==============  ==============  ===============  ===============  ===============  =======\n",
      "**LogViterbi**   :math:`\\max`    :math:`+`       |ninf|           0                float32\n",
      "**Viterbi**      :math:`\\max`    :math:`*`       0                1                float32\n",
      "**Real**         :math:`+`       :math:`*`       0                1                float32\n",
      "**Log**          logsum          :math:`+`       |ninf|           0                float32\n",
      "**Boolean**      or               and             false           true             uint8\n",
      "**Counting**     :math:`+`       :math:`*`        0               1                int32\n",
      "**MinMax**       :math:`\\min`    :math:`\\max`    |ninf|           |inf|            float32\n",
      "==============  ==============  ===============  ===============  ===============  =======\n",
      "\n",
      ".. |stype| replace:: :math:`\\mathbb{K}`/dtype\n",
      ".. |inf| replace:: :math:`\\infty`\n",
      ".. |ninf| replace:: :math:`-\\infty`\n",
      ".. |sone| replace:: :math:`\\bar{1}`\n",
      ".. |szero| replace:: :math:`\\bar{0}`\n",
      ".. |splus| replace:: :math:`\\oplus`\n",
      ".. |stimes| replace:: :math:`\\otimes`"
     ]
    },
    {
     "cell_type": "heading",
     "level": 2,
     "source": [
      "Bibliography"
     ]
    },
    {
     "cell_type": "raw",
     "source": [
      "\n",
      ".. bibliography:: ../../full.bib \n",
      "   :filter: key in {\"goodman1998parsing\", \"allauzen2007openfst\"}\n",
      "   :style: plain"
     ]
    },
    {
     "cell_type": "heading",
     "level": 2,
     "source": [
      "Invariants"
     ]
    },
    {
     "cell_type": "markdown",
     "source": [
      "Check the semiring properties."
     ]
    },
    {
     "cell_type": "code",
     "collapsed": false,
     "input": [
      "import pydecode.test"
     ],
     "language": "python",
     "outputs": [],
     "prompt_number": 1
    },
    {
     "cell_type": "raw",
     "source": [
      "Check the additive and multiplicative identities."
     ]
    },
    {
     "cell_type": "code",
     "collapsed": false,
     "input": [
      "@pydecode.test.property()\n",
      "def test_weight_properties(graph, weights, weight_type):\n",
      "    assert (weight_type.one() * weight_type.from_value(weights[0])).value == weights[0]\n",
      "    assert (weight_type.zero() + weight_type.from_value(weights[0])).value == weights[0]\n",
      "test_weight_properties()"
     ],
     "language": "python",
     "outputs": [],
     "prompt_number": 3
    }
   ]
  }
 ]
}