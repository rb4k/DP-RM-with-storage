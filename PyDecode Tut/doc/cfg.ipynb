{
 "metadata": {
  "name": ""
 },
 "nbformat": 3,
 "nbformat_minor": 0,
 "worksheets": [
  {
   "cells": [
    {
     "cell_type": "heading",
     "level": 1,
     "source": [
      "pydecode.nlp.cfg"
     ]
    },
    {
     "cell_type": "raw",
     "source": [
      ".. currentmodule:: pydecode.nlp\n",
      ".. autofunction:: cfg"
     ]
    },
    {
     "cell_type": "heading",
     "level": 2,
     "source": [
      "Examples"
     ]
    },
    {
     "cell_type": "code",
     "collapsed": false,
     "input": [
      "import pydecode, pydecode.nlp, pydecode.test\n",
      "import numpy as np"
     ],
     "language": "python",
     "outputs": [],
     "prompt_number": 1
    },
    {
     "cell_type": "heading",
     "level": 2,
     "source": [
      "Bibliography"
     ]
    },
    {
     "cell_type": "raw",
     "source": []
    },
    {
     "cell_type": "heading",
     "level": 2,
     "source": [
      "Invariants"
     ]
    },
    {
     "cell_type": "code",
     "collapsed": false,
     "input": [
      "def test_all_paths(sentence_length, grammar_size):\n",
      "    graph, encoder = pydecode.nlp.cfg(sentence_length, \n",
      "                                      grammar_size)\n",
      "\n",
      "    # Generate all paths.\n",
      "    p1 = np.array([encoder.transform_path(path).ravel()\n",
      "                   for path in pydecode.test.all_paths(graph)])\n",
      "\n",
      "    # Generate all parses.\n",
      "    p2 = np.array([parse.ravel()\n",
      "                   for parse in encoder.all_structures()])\n",
      "    assert (p1[np.lexsort(p1.T)] == p2[np.lexsort(p2.T)]).all()\n",
      "\n",
      "for length in range(3, 6):\n",
      "    for grammar in range(1, 3):\n",
      "        test_all_paths(length, grammar)"
     ],
     "language": "python",
     "outputs": [],
     "prompt_number": 2
    }
   ]
  }
 ]
}