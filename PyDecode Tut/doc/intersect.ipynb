{
 "metadata": {
  "name": ""
 },
 "nbformat": 3,
 "nbformat_minor": 0,
 "worksheets": [
  {
   "cells": [
    {
     "cell_type": "heading",
     "level": 1,
     "source": [
      "pydecode.intersect"
     ]
    },
    {
     "cell_type": "raw",
     "source": [
      ".. note::\n",
      "   ``intersect`` is in alpha state. The interface will likely change.  "
     ]
    },
    {
     "cell_type": "raw",
     "source": [
      ".. currentmodule:: pydecode                             \n",
      ".. autofunction:: intersect    "
     ]
    }
   ]
  }
 ]
}