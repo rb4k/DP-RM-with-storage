{
 "metadata": {
  "name": "",
  "signature": "sha256:a2bcbbe7059ccfe421f6eaeb6f6c67189447342b8149a0e045d42a8bddca6f59"
 },
 "nbformat": 3,
 "nbformat_minor": 0,
 "worksheets": [
  {
   "cells": [
    {
     "cell_type": "code",
     "collapsed": false,
     "input": [
      "%load_ext cythonmagic\n",
      "import numpy as np"
     ],
     "language": "python",
     "metadata": {},
     "outputs": [],
     "prompt_number": 1
    },
    {
     "cell_type": "code",
     "collapsed": false,
     "input": [
      "%%cython\n",
      "import numpy as np\n",
      "import time\n",
      "cimport cython\n",
      "\n",
      "@cython.wraparound(False)\n",
      "@cython.boundscheck(False) \n",
      "@cython.cdivision(False)\n",
      "cdef viterbi_fill_trellis(double [:, ::1] e_scores, double [:, ::1] t_scores, double [:, ::1] trellis, int [:, ::1] path):\n",
      "    cdef:\n",
      "        double min_score\n",
      "        double score\n",
      "        int min_prev\n",
      "        double e_score\n",
      "\n",
      "        int cur_label, prev_label\n",
      "        int  feat_i, i, j\n",
      "        int word_i = 0\n",
      "        double feat_val\n",
      "\n",
      "        int n_words = e_scores.shape[0]\n",
      "        int n_labels = e_scores.shape[1]\n",
      "\n",
      "    for word_i in range(n_words):\n",
      "        # Current label\n",
      "        for cur_label in range(n_labels):\n",
      "            min_score = -1E9\n",
      "            min_prev = -1\n",
      "\n",
      "            e_score = e_scores[word_i, cur_label]\n",
      "\n",
      "            # Transitions from start state\n",
      "            if word_i == 0:\n",
      "                trellis[word_i, cur_label] = e_score + t_scores[n_labels - 1, cur_label]\n",
      "                path[word_i, cur_label] = cur_label\n",
      "            # Transitions from the rest of the states\n",
      "            else:\n",
      "                for prev_label in range(n_labels):\n",
      "                    score = e_score + t_scores[cur_label, prev_label] + trellis[word_i-1, prev_label]\n",
      "\n",
      "                    if score >= min_score:\n",
      "                        min_score = score\n",
      "                        min_prev = prev_label\n",
      "                trellis[word_i, cur_label] = min_score\n",
      "                path[word_i, cur_label] = min_prev\n",
      "\n",
      "def benchmark_viterbi_fill_trellis(int n_words=50, int n_labels=45, int n_rounds=1000, int randomize_each=0):\n",
      "    cdef:\n",
      "        # Setup reusable data structures outside benchmark\n",
      "        double [:, ::1] trellis = np.zeros((n_words, n_labels))\n",
      "        int [:, ::1] path = np.zeros((n_words, n_labels), dtype=np.int32)\n",
      "\n",
      "        double [:, ::1] e_scores = np.random.random(n_words * n_labels).reshape((n_words, n_labels))\n",
      "        double [:, ::1] t_scores = np.random.random(n_labels * n_labels).reshape((n_labels, n_labels))\n",
      "\n",
      "        int i\n",
      "\n",
      "    start_time = time.time()\n",
      "    for i in range(n_rounds):\n",
      "        if randomize_each:\n",
      "            e_scores = np.random.random(n_words * n_labels).reshape((n_words, n_labels))\n",
      "            t_scores = np.random.random(n_labels * n_labels).reshape((n_labels, n_labels))\n",
      "        viterbi_fill_trellis(e_scores, t_scores, trellis, path)\n",
      "        \n",
      "    elapsed = time.time() - start_time\n",
      "    tokens_per_sec = int((n_rounds * n_words) / elapsed)\n",
      "    return tokens_per_sec\n",
      "\n",
      "\n"
     ],
     "language": "python",
     "metadata": {},
     "outputs": [],
     "prompt_number": 2
    },
    {
     "cell_type": "code",
     "collapsed": false,
     "input": [
      "import pydecode.nlp.tagging as tag\n",
      "import pydecode\n",
      "\n",
      "def benchmark_pydecode(n_words=50, n_labels=45, n_rounds=1000):\n",
      "    problem = tag.TaggingProblem(n_words, [1]+[n_labels]*(n_words-2)+[1])\n",
      "    tagger = tag.BigramTagger()\n",
      "    dp = tagger.dynamic_program(problem)\n",
      "    chart = np.zeros(len(dp.hypergraph.vertices))\n",
      "    back_pointers = np.zeros(len(dp.hypergraph.vertices), dtype=np.int32)\n",
      "    scores = np.random.random(len(dp.hypergraph.edges))\n",
      "    start_time = time.time()\n",
      "\n",
      "    for i in range(n_rounds):\n",
      "        pydecode.viterbi(dp.hypergraph, scores,\n",
      "                         chart=chart, back_pointers=back_pointers)\n",
      "    elapsed = time.time() - start_time\n",
      "    tokens_per_sec = int((n_rounds * n_words) / elapsed)\n",
      "    return tokens_per_sec\n",
      "\n"
     ],
     "language": "python",
     "metadata": {},
     "outputs": [],
     "prompt_number": 3
    },
    {
     "cell_type": "code",
     "collapsed": false,
     "input": [
      "print \"50 tokens 45 labels\", benchmark_viterbi_fill_trellis(50, 45)\n",
      "print \"50 tokens 45 labels (pydecode)\", benchmark_pydecode(50, 45)\n",
      "print \"\"\n",
      "print \"50 tokens 12 labels\", benchmark_viterbi_fill_trellis(50, 12)\n",
      "print \"50 tokens 12 labels (pydecode)\", benchmark_pydecode(50, 12)"
     ],
     "language": "python",
     "metadata": {},
     "outputs": [
      {
       "output_type": "stream",
       "stream": "stdout",
       "text": [
        "50 tokens 45 labels "
       ]
      },
      {
       "output_type": "stream",
       "stream": "stdout",
       "text": [
        "50594\n",
        "50 tokens 45 labels (pydecode) "
       ]
      },
      {
       "output_type": "stream",
       "stream": "stdout",
       "text": [
        "43898\n",
        "\n",
        "50 tokens 12 labels"
       ]
      },
      {
       "output_type": "stream",
       "stream": "stdout",
       "text": [
        " 596459\n",
        "50 tokens 12 labels (pydecode) "
       ]
      },
      {
       "output_type": "stream",
       "stream": "stdout",
       "text": [
        "422825\n"
       ]
      }
     ],
     "prompt_number": 9
    },
    {
     "cell_type": "markdown",
     "metadata": {},
     "source": [
      "## Results \n",
      "\n",
      "Numbers are from my laptop (2,3 GhZ i7).\n",
      "\n",
      "Without the `wraparound`, `boundscheck`, and `cdivision` optimizations:\n",
      "\n",
      "    50 tokens 45 labels                      218,732\n",
      "    50 tokens 45 labels (randomize each)     185,412\n",
      "\n",
      "    50 tokens 12 labels                    2,900,585\n",
      "    50 tokens 12 labels (randomize each)   1,640,424\n",
      "    \n",
      "Including all optimizations:\n",
      "\n",
      "    50 tokens 45 labels                      238,150\n",
      "    50 tokens 45 labels (randomize each)     199,748\n",
      "\n",
      "    50 tokens 12 labels                    3,851,731\n",
      "    50 tokens 12 labels (randomize each)   1,944,327"
     ]
    },
    {
     "cell_type": "code",
     "collapsed": false,
     "input": [],
     "language": "python",
     "metadata": {},
     "outputs": []
    }
   ],
   "metadata": {}
  }
 ]
}