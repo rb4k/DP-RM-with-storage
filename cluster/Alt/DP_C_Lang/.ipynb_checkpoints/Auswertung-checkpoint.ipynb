{
 "cells": [
  {
   "cell_type": "code",
   "execution_count": 1,
   "metadata": {
    "collapsed": false
   },
   "outputs": [],
   "source": [
    "import pandas as pd\n",
    "import numpy as np\n",
    "import matplotlib.pyplot as plt\n",
    "%matplotlib inline"
   ]
  },
  {
   "cell_type": "code",
   "execution_count": 2,
   "metadata": {
    "collapsed": false
   },
   "outputs": [],
   "source": [
    "df = pd.read_csv('Table_Optimal2015-08-16.csv')"
   ]
  },
  {
   "cell_type": "code",
   "execution_count": 3,
   "metadata": {
    "collapsed": false
   },
   "outputs": [
    {
     "name": "stdout",
     "output_type": "stream",
     "text": [
      "$c^{1}$       int64\n",
      "$c^{2}$       int64\n",
      "$c^{3}$       int64\n",
      "$c^{4}$       int64\n",
      "$c^{5}$       int64\n",
      "$y^{1}$       int64\n",
      "$y^{2}$       int64\n",
      "$y^{3}$       int64\n",
      "$y^{4}$       int64\n",
      "$y^{5}$       int64\n",
      "$t$           int64\n",
      "ExpValue    float64\n",
      "$d_{0}$       int64\n",
      "$d_{1}$       int64\n",
      "$d_{2}$       int64\n",
      "$d_{3}$       int64\n",
      "$d_{4}$       int64\n",
      "$d_{5}$       int64\n",
      "$d_{6}$       int64\n",
      "$d_{7}$       int64\n",
      "$d_{8}$       int64\n",
      "$d_{9}$       int64\n",
      "$d_{10}$      int64\n",
      "dtype: object\n"
     ]
    }
   ],
   "source": [
    "print df.dtypes"
   ]
  },
  {
   "cell_type": "code",
   "execution_count": 4,
   "metadata": {
    "collapsed": false
   },
   "outputs": [
    {
     "name": "stdout",
     "output_type": "stream",
     "text": [
      "\\begin{tabular}{llllllllllll}\n",
      "\\toprule\n",
      "{} &     0  &    1  &   2  &    3  &   4  &    5  &   6  &    7  &   8  &   9  &   10 \\\\\n",
      "\\midrule\n",
      "\\$d\\_\\{0\\}\\$ &  61926 &  1461 &  NaN &  4829 &  NaN &  6746 &  NaN &   641 &  NaN &  NaN &  NaN \\\\\n",
      "\\%\\%\\%\\%\\%   &  81.91 &  1.93 &  NaN &  6.39 &  NaN &  8.92 &  NaN &  0.85 &  NaN &  NaN &  NaN \\\\\n",
      "\\bottomrule\n",
      "\\end{tabular}\n",
      "\n"
     ]
    }
   ],
   "source": [
    "df_Series2 = pd.DataFrame(index=['$d_{0}$', '%%%%%'], columns=range(11))\n",
    "\n",
    "for j in df.groupby('$d_{0}$').size().index:\n",
    "    df_Series2[j]['$d_{0}$'] = df.groupby('$d_{0}$').size()[j]\n",
    "for j in df.groupby('$d_{0}$').size().index:    \n",
    "    df_Series2[j]['%%%%%'] = np.around((df_Series2[j]['$d_{0}$']/df_Series2.sum(axis=1)['$d_{0}$'])*100, 2)\n",
    "\n",
    "print df_Series2.to_latex()"
   ]
  },
  {
   "cell_type": "code",
   "execution_count": 5,
   "metadata": {
    "collapsed": false
   },
   "outputs": [
    {
     "name": "stdout",
     "output_type": "stream",
     "text": [
      "\\begin{tabular}{lllllllll}\n",
      "\\toprule\n",
      "{} &      0 &     0\\% &      1 &     1\\% &      2 &     2\\% &     3 &    3\\% \\\\\n",
      "\\midrule\n",
      "\\$d\\_\\{1\\}\\$  &  74090 &     98 &     52 &   0.07 &    NaN &    NaN &  1461 &  1.93 \\\\\n",
      "\\$d\\_\\{2\\}\\$  &  73318 &  96.98 &    824 &   1.09 &    NaN &    NaN &  1461 &  1.93 \\\\\n",
      "\\$d\\_\\{3\\}\\$  &  70249 &  92.92 &    148 &    0.2 &    216 &   0.29 &  4990 &  6.59 \\\\\n",
      "\\$d\\_\\{4\\}\\$  &  59475 &  78.67 &   1933 &   2.55 &  11336 &  14.98 &  2859 &  3.78 \\\\\n",
      "\\$d\\_\\{5\\}\\$  &  67572 &  89.38 &    246 &   0.32 &    394 &   0.52 &  7391 &  9.76 \\\\\n",
      "\\$d\\_\\{6\\}\\$  &  43544 &   57.6 &   4016 &   5.31 &  24816 &   32.8 &  3227 &  4.26 \\\\\n",
      "\\$d\\_\\{7\\}\\$  &  71807 &  94.98 &    180 &   0.24 &   2993 &   3.95 &   623 &  0.82 \\\\\n",
      "\\$d\\_\\{8\\}\\$  &  27421 &  36.27 &  10707 &  14.16 &  37475 &  49.54 &   NaN &   NaN \\\\\n",
      "\\$d\\_\\{9\\}\\$  &  69131 &  91.44 &    900 &   1.19 &   5572 &   7.36 &   NaN &   NaN \\\\\n",
      "\\$d\\_\\{10\\}\\$ &  13013 &  17.21 &  29056 &  38.42 &  33534 &  44.32 &   NaN &   NaN \\\\\n",
      "\\bottomrule\n",
      "\\end{tabular}\n",
      "\n"
     ]
    }
   ],
   "source": [
    "df_Series = pd.DataFrame(index=df.dtypes[13:].index, columns=[0, 1,  2, 3])\n",
    "\n",
    "for i in df.dtypes[13:].index:\n",
    "    for j in df.groupby(i).size().index:\n",
    "        df_Series[j][i] = df.groupby(i).size()[j]\n",
    "    \n",
    "for i in range(4):\n",
    "    df_Series[str(i)+'%'] = pd.Series((df_Series[i]/df_Series.sum(axis=1))*100)\n",
    "    for j in df_Series.index:\n",
    "        df_Series[str(i)+'%'][j] = np.around(df_Series[str(i)+'%'][j], 2)\n",
    "    \n",
    "df_Series = df_Series.reindex_axis([0, '0%', 1, '1%', 2, '2%', 3, '3%'], axis=1)\n",
    "\n",
    "print df_Series.to_latex()"
   ]
  },
  {
   "cell_type": "code",
   "execution_count": 6,
   "metadata": {
    "collapsed": false
   },
   "outputs": [
    {
     "data": {
      "text/plain": [
       "<matplotlib.figure.Figure at 0x1064a5b90>"
      ]
     },
     "metadata": {},
     "output_type": "display_data"
    },
    {
     "data": {
      "image/png": "[encoded data removed]",
      "text/plain": [
       "<matplotlib.figure.Figure at 0x1064a5e10>"
      ]
     },
     "metadata": {},
     "output_type": "display_data"
    }
   ],
   "source": [
    "#plt.title(\"Verkauf der optimalen Politik\")\n",
    "#plt.ylabel(\"p[j](t)\")\n",
    "#plt.xlabel(\"t\")\n",
    "plt.figure()\n",
    "df_Series.plot();"
   ]
  },
  {
   "cell_type": "code",
   "execution_count": null,
   "metadata": {
    "collapsed": true
   },
   "outputs": [],
   "source": []
  }
 ],
 "metadata": {
  "kernelspec": {
   "display_name": "Python 2",
   "language": "python",
   "name": "python2"
  },
  "language_info": {
   "codemirror_mode": {
    "name": "ipython",
    "version": 2
   },
   "file_extension": ".py",
   "mimetype": "text/x-python",
   "name": "python",
   "nbconvert_exporter": "python",
   "pygments_lexer": "ipython2",
   "version": "2.7.10"
  }
 },
 "nbformat": 4,
 "nbformat_minor": 0
}
