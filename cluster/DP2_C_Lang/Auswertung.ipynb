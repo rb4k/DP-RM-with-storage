{
 "cells": [
  {
   "cell_type": "code",
   "execution_count": 1,
   "metadata": {
    "collapsed": false
   },
   "outputs": [],
   "source": [
    "import pandas as pd\n",
    "import numpy as np\n",
    "import matplotlib.pyplot as plt\n",
    "%matplotlib inline"
   ]
  },
  {
   "cell_type": "code",
   "execution_count": 2,
   "metadata": {
    "collapsed": false
   },
   "outputs": [],
   "source": [
    "df = pd.read_csv('Table_Optimal.csv')"
   ]
  },
  {
   "cell_type": "code",
   "execution_count": 3,
   "metadata": {
    "collapsed": false
   },
   "outputs": [
    {
     "data": {
      "text/plain": [
       "1     3809.464355\n",
       "2     3224.683594\n",
       "3     3809.333984\n",
       "4     3117.512695\n",
       "5     3224.683594\n",
       "6     3224.683838\n",
       "7     3137.814697\n",
       "8     3809.464355\n",
       "9     3649.846680\n",
       "10    3525.947510\n",
       "Name: ExpValue, dtype: float64"
      ]
     },
     "execution_count": 3,
     "metadata": {},
     "output_type": "execute_result"
    }
   ],
   "source": [
    "df[df['$t$']==99]['ExpValue']"
   ]
  },
  {
   "cell_type": "code",
   "execution_count": 4,
   "metadata": {
    "collapsed": false
   },
   "outputs": [
    {
     "name": "stdout",
     "output_type": "stream",
     "text": [
      "$c^{1}$       int64\n",
      "$c^{2}$       int64\n",
      "$c^{3}$       int64\n",
      "$c^{4}$       int64\n",
      "$c^{5}$       int64\n",
      "$y^{1}$       int64\n",
      "$y^{2}$       int64\n",
      "$y^{3}$       int64\n",
      "$y^{4}$       int64\n",
      "$y^{5}$       int64\n",
      "$t$           int64\n",
      "ExpValue    float64\n",
      "$d_{0}$       int64\n",
      "$d_{1}$       int64\n",
      "$d_{2}$       int64\n",
      "$d_{3}$       int64\n",
      "$d_{4}$       int64\n",
      "$d_{5}$       int64\n",
      "dtype: object\n"
     ]
    }
   ],
   "source": [
    "print df.dtypes"
   ]
  },
  {
   "cell_type": "code",
   "execution_count": 5,
   "metadata": {
    "collapsed": false
   },
   "outputs": [
    {
     "name": "stdout",
     "output_type": "stream",
     "text": [
      "\\begin{tabular}{lllllll}\n",
      "\\toprule\n",
      "{} &      0 &     1 &     2 &      3 &      4 &    5 \\\\\n",
      "\\midrule\n",
      "\\$d\\_\\{0\\}\\$ &  23029 &  1037 &  2370 &   3981 &   4543 &  NaN \\\\\n",
      "\\%\\%\\%\\%\\%   &  65.87 &  2.97 &  6.78 &  11.39 &  12.99 &  NaN \\\\\n",
      "\\bottomrule\n",
      "\\end{tabular}\n",
      "\n"
     ]
    }
   ],
   "source": [
    "df_Series2 = pd.DataFrame(index=['$d_{0}$', '%%%%%'], columns=range(6))\n",
    "\n",
    "for j in df.groupby('$d_{0}$').size().index:\n",
    "    df_Series2[j]['$d_{0}$'] = df.groupby('$d_{0}$').size()[j]\n",
    "for j in df.groupby('$d_{0}$').size().index:    \n",
    "    df_Series2[j]['%%%%%'] = np.around((df_Series2[j]['$d_{0}$']/df_Series2.sum(axis=1)['$d_{0}$'])*100, 2)\n",
    "\n",
    "print df_Series2.to_latex()"
   ]
  },
  {
   "cell_type": "code",
   "execution_count": 6,
   "metadata": {
    "collapsed": false
   },
   "outputs": [
    {
     "name": "stdout",
     "output_type": "stream",
     "text": [
      "\\begin{tabular}{lllllllll}\n",
      "\\toprule\n",
      "{} &      0 &     0\\% &      1 &     1\\% &      2 &     2\\% &     3 &     3\\% \\\\\n",
      "\\midrule\n",
      "\\$d\\_\\{1\\}\\$ &  33604 &  96.12 &    285 &   0.81 &    NaN &    NaN &  1071 &   3.06 \\\\\n",
      "\\$d\\_\\{2\\}\\$ &  31847 &   91.1 &    447 &   1.28 &     14 &   0.04 &  2652 &   7.57 \\\\\n",
      "\\$d\\_\\{3\\}\\$ &  28318 &     81 &   1438 &    4.1 &    616 &   1.76 &  4588 &  13.09 \\\\\n",
      "\\$d\\_\\{4\\}\\$ &  21140 &  60.47 &   4906 &  14.01 &   4073 &  11.63 &  4841 &  13.81 \\\\\n",
      "\\$d\\_\\{5\\}\\$ &   8392 &     24 &  15990 &  45.71 &  10578 &   30.2 &   NaN &    NaN \\\\\n",
      "\\bottomrule\n",
      "\\end{tabular}\n",
      "\n"
     ]
    }
   ],
   "source": [
    "df_Series = pd.DataFrame(index=df.dtypes[13:].index, columns=[0, 1,  2, 3])\n",
    "\n",
    "for i in df.dtypes[13:].index:\n",
    "    for j in df.groupby(i).size().index:\n",
    "        df_Series[j][i] = df.groupby(i).size()[j]\n",
    "    \n",
    "for i in range(4):\n",
    "    df_Series[str(i)+'%'] = pd.Series((df_Series[i]/df_Series.sum(axis=1))*100)\n",
    "    for j in df_Series.index:\n",
    "        df_Series[str(i)+'%'][j] = np.around(df_Series[str(i)+'%'][j], 2)\n",
    "    \n",
    "df_Series = df_Series.reindex_axis([0, '0%', 1, '1%', 2, '2%', 3, '3%'], axis=1)\n",
    "\n",
    "print df_Series.to_latex()"
   ]
  },
  {
   "cell_type": "code",
   "execution_count": 8,
   "metadata": {
    "collapsed": false
   },
   "outputs": [
    {
     "data": {
      "text/plain": [
       "<matplotlib.figure.Figure at 0x106722bd0>"
      ]
     },
     "metadata": {},
     "output_type": "display_data"
    },
    {
     "data": {
      "image/png": "[encoded data removed]",
      "text/plain": [
       "<matplotlib.figure.Figure at 0x106868b90>"
      ]
     },
     "metadata": {},
     "output_type": "display_data"
    }
   ],
   "source": [
    "df_Series3 = df[(df['$c^{1}$'] == 1) & (df['$c^{2}$'] == 1) & (df['$c^{3}$'] == 1) & (df['$c^{4}$'] == 1)\n",
    "               & (df['$c^{5}$'] == 1)]\n",
    "\n",
    "df3 = pd.DataFrame(index=df_Series3['$t$'])\n",
    "g = 1 \n",
    "for i in df.dtypes[13:].index:\n",
    "    df3[g] = np.array(df_Series3[i])\n",
    "    g = g+1\n",
    "del g\n",
    "\n",
    "plt.figure()\n",
    "# Y-Achse ist abhängig von der Anzahl der möglichen Entscheidungen\n",
    "df3.plot(subplots=True, layout=(1, 5), figsize=(16, 3.5), sharex=False, yticks=np.arange(0, 4, 1.0))\n",
    "plt.savefig('OP-J.png') "
   ]
  },
  {
   "cell_type": "code",
   "execution_count": 9,
   "metadata": {
    "collapsed": false
   },
   "outputs": [
    {
     "data": {
      "text/plain": [
       "<matplotlib.figure.Figure at 0x1067e91d0>"
      ]
     },
     "metadata": {},
     "output_type": "display_data"
    },
    {
     "data": {
      "image/png": "[encoded data removed]",
      "text/plain": [
       "<matplotlib.figure.Figure at 0x10678a8d0>"
      ]
     },
     "metadata": {},
     "output_type": "display_data"
    }
   ],
   "source": [
    "df4 = pd.DataFrame(index=df_Series3['$t$'])\n",
    "df4[0] = np.array(df_Series3['$d_{0}$'])\n",
    "\n",
    "plt.figure()\n",
    "# Y-Achse ist abhängig von der Anzahl der Produkte\n",
    "df4.plot(subplots=True, layout=(1, 1), figsize=(3, 4), sharex=False, yticks=np.arange(0, 6, 1.0))\n",
    "plt.savefig('OP-0.png') \n",
    "\n",
    "df3[0] = np.array(df_Series3['$d_{0}$'])\n",
    "# Spaten abhängig von der Anzahl der Produkte\n",
    "df3_Series = df3.reindex_axis([0, 1, 2, 3, 4, 5], axis=1)\n",
    "\n",
    "#print df3_Series.to_latex()"
   ]
  },
  {
   "cell_type": "code",
   "execution_count": null,
   "metadata": {
    "collapsed": true
   },
   "outputs": [],
   "source": []
  }
 ],
 "metadata": {
  "kernelspec": {
   "display_name": "Python 2",
   "language": "python",
   "name": "python2"
  },
  "language_info": {
   "codemirror_mode": {
    "name": "ipython",
    "version": 2
   },
   "file_extension": ".py",
   "mimetype": "text/x-python",
   "name": "python",
   "nbconvert_exporter": "python",
   "pygments_lexer": "ipython2",
   "version": "2.7.10"
  }
 },
 "nbformat": 4,
 "nbformat_minor": 0
}
