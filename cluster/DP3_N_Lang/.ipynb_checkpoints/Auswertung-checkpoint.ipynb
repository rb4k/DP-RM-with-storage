{
 "cells": [
  {
   "cell_type": "code",
   "execution_count": 1,
   "metadata": {
    "collapsed": false
   },
   "outputs": [],
   "source": [
    "import pandas as pd\n",
    "import numpy as np\n",
    "import matplotlib.pyplot as plt\n",
    "%matplotlib inline"
   ]
  },
  {
   "cell_type": "code",
   "execution_count": 2,
   "metadata": {
    "collapsed": false
   },
   "outputs": [],
   "source": [
    "df = pd.read_csv('Table_Optimal.csv')"
   ]
  },
  {
   "cell_type": "code",
   "execution_count": 3,
   "metadata": {
    "collapsed": false
   },
   "outputs": [
    {
     "name": "stdout",
     "output_type": "stream",
     "text": [
      "$c^{1}$       int64\n",
      "$c^{2}$       int64\n",
      "$c^{3}$       int64\n",
      "$c^{4}$       int64\n",
      "$c^{5}$       int64\n",
      "$y^{1}$       int64\n",
      "$y^{2}$       int64\n",
      "$y^{3}$       int64\n",
      "$y^{4}$       int64\n",
      "$y^{5}$       int64\n",
      "$t$           int64\n",
      "ExpValue    float64\n",
      "$d_{0}$       int64\n",
      "$d_{1}$       int64\n",
      "$d_{2}$       int64\n",
      "$d_{3}$       int64\n",
      "$d_{4}$       int64\n",
      "$d_{5}$       int64\n",
      "dtype: object\n"
     ]
    }
   ],
   "source": [
    "print df.dtypes"
   ]
  },
  {
   "cell_type": "code",
   "execution_count": 4,
   "metadata": {
    "collapsed": false
   },
   "outputs": [
    {
     "name": "stdout",
     "output_type": "stream",
     "text": [
      "\\begin{tabular}{lllllll}\n",
      "\\toprule\n",
      "{} &      0 &     1 &     2 &     3 &    4 &    5 \\\\\n",
      "\\midrule\n",
      "\\$d\\_\\{0\\}\\$ &  14087 &   292 &   259 &   914 &  141 &  NaN \\\\\n",
      "\\%\\%\\%\\%\\%   &  89.77 &  1.86 &  1.65 &  5.82 &  0.9 &  NaN \\\\\n",
      "\\bottomrule\n",
      "\\end{tabular}\n",
      "\n"
     ]
    }
   ],
   "source": [
    "df_Series2 = pd.DataFrame(index=['$d_{0}$', '%%%%%'], columns=range(6))\n",
    "\n",
    "for j in df.groupby('$d_{0}$').size().index:\n",
    "    df_Series2[j]['$d_{0}$'] = df.groupby('$d_{0}$').size()[j]\n",
    "for j in df.groupby('$d_{0}$').size().index:    \n",
    "    df_Series2[j]['%%%%%'] = np.around((df_Series2[j]['$d_{0}$']/df_Series2.sum(axis=1)['$d_{0}$'])*100, 2)\n",
    "\n",
    "print df_Series2.to_latex()"
   ]
  },
  {
   "cell_type": "code",
   "execution_count": 5,
   "metadata": {
    "collapsed": false
   },
   "outputs": [
    {
     "name": "stdout",
     "output_type": "stream",
     "text": [
      "\\begin{tabular}{lllllllll}\n",
      "\\toprule\n",
      "{} &      0 &     0\\% &     1 &     1\\% &     2 &    2\\% &    3 &    3\\% \\\\\n",
      "\\midrule\n",
      "\\$d\\_\\{1\\}\\$ &  15371 &  97.95 &    30 &   0.19 &   NaN &   NaN &  292 &  1.85 \\\\\n",
      "\\$d\\_\\{2\\}\\$ &  13644 &  86.94 &  1403 &   8.89 &   586 &  3.71 &   60 &  0.38 \\\\\n",
      "\\$d\\_\\{3\\}\\$ &  14690 &  93.61 &    21 &   0.13 &    66 &  0.42 &  916 &   5.8 \\\\\n",
      "\\$d\\_\\{4\\}\\$ &  12400 &  79.02 &  1695 &  10.75 &  1554 &  9.85 &   44 &  0.28 \\\\\n",
      "\\$d\\_\\{5\\}\\$ &  12279 &  78.25 &  2298 &  14.57 &  1116 &  7.07 &  NaN &   NaN \\\\\n",
      "\\bottomrule\n",
      "\\end{tabular}\n",
      "\n"
     ]
    }
   ],
   "source": [
    "df_Series = pd.DataFrame(index=df.dtypes[13:].index, columns=[0, 1,  2, 3])\n",
    "\n",
    "for i in df.dtypes[13:].index:\n",
    "    for j in df.groupby(i).size().index:\n",
    "        df_Series[j][i] = df.groupby(i).size()[j]\n",
    "    \n",
    "for i in range(4):\n",
    "    df_Series[str(i)+'%'] = pd.Series((df_Series[i]/df_Series.sum(axis=1))*100)\n",
    "    for j in df_Series.index:\n",
    "        df_Series[str(i)+'%'][j] = np.around(df_Series[str(i)+'%'][j], 2)\n",
    "    \n",
    "df_Series = df_Series.reindex_axis([0, '0%', 1, '1%', 2, '2%', 3, '3%'], axis=1)\n",
    "\n",
    "print df_Series.to_latex()"
   ]
  },
  {
   "cell_type": "code",
   "execution_count": 6,
   "metadata": {
    "collapsed": false
   },
   "outputs": [
    {
     "data": {
      "text/plain": [
       "<matplotlib.figure.Figure at 0x106232bd0>"
      ]
     },
     "metadata": {},
     "output_type": "display_data"
    },
    {
     "data": {
      "image/png": "[encoded data removed]",
      "text/plain": [
       "<matplotlib.figure.Figure at 0x1064d7c50>"
      ]
     },
     "metadata": {},
     "output_type": "display_data"
    }
   ],
   "source": [
    "df_Series3 = df[(df['$c^{1}$'] == 1) & (df['$c^{2}$'] == 1) & (df['$c^{3}$'] == 1) & (df['$c^{4}$'] == 1)\n",
    "               & (df['$c^{5}$'] == 1)]\n",
    "\n",
    "df3 = pd.DataFrame(index=df_Series3['$t$'])\n",
    "g = 1 \n",
    "for i in df.dtypes[13:].index:\n",
    "    df3[g] = np.array(df_Series3[i])\n",
    "    g = g+1\n",
    "del g\n",
    "\n",
    "plt.figure()\n",
    "# Y-Achse ist abhängig von der Anzahl der möglichen Entscheidungen\n",
    "df3.plot(subplots=True, layout=(1, 5), figsize=(16, 3.5), sharex=False, yticks=np.arange(0, 4, 1.0), title='d[j]')\n",
    "plt.savefig('OP-J.png') "
   ]
  },
  {
   "cell_type": "code",
   "execution_count": 7,
   "metadata": {
    "collapsed": false
   },
   "outputs": [
    {
     "data": {
      "text/plain": [
       "<matplotlib.figure.Figure at 0x1032d1950>"
      ]
     },
     "metadata": {},
     "output_type": "display_data"
    },
    {
     "data": {
      "image/png": "[encoded data removed]",
      "text/plain": [
       "<matplotlib.figure.Figure at 0x1064d33d0>"
      ]
     },
     "metadata": {},
     "output_type": "display_data"
    }
   ],
   "source": [
    "df4 = pd.DataFrame(index=df_Series3['$t$'])\n",
    "df4[0] = np.array(df_Series3['$d_{0}$'])\n",
    "\n",
    "plt.figure()\n",
    "# Y-Achse ist abhängig von der Anzahl der Produkte\n",
    "df4.plot(subplots=True, layout=(1, 1), figsize=(3, 4), sharex=False, yticks=np.arange(0, 6, 1.0), title='d[0]')\n",
    "plt.savefig('OP-0.png') \n",
    "\n",
    "df3[0] = np.array(df_Series3['$d_{0}$'])\n",
    "# Spaten abhängig von der Anzahl der Produkte\n",
    "df3_Series = df3.reindex_axis([0, 1, 2, 3, 4, 5], axis=1)\n",
    "\n",
    "#print df3_Series.to_latex()"
   ]
  },
  {
   "cell_type": "code",
   "execution_count": null,
   "metadata": {
    "collapsed": true
   },
   "outputs": [],
   "source": []
  }
 ],
 "metadata": {
  "kernelspec": {
   "display_name": "Python 2",
   "language": "python",
   "name": "python2"
  },
  "language_info": {
   "codemirror_mode": {
    "name": "ipython",
    "version": 2
   },
   "file_extension": ".py",
   "mimetype": "text/x-python",
   "name": "python",
   "nbconvert_exporter": "python",
   "pygments_lexer": "ipython2",
   "version": "2.7.10"
  }
 },
 "nbformat": 4,
 "nbformat_minor": 0
}
