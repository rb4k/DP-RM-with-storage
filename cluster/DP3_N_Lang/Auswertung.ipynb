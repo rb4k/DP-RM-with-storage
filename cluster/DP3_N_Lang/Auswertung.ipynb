{
 "cells": [
  {
   "cell_type": "code",
   "execution_count": 1,
   "metadata": {
    "collapsed": false
   },
   "outputs": [],
   "source": [
    "import pandas as pd\n",
    "import numpy as np\n",
    "import matplotlib.pyplot as plt\n",
    "%matplotlib inline"
   ]
  },
  {
   "cell_type": "code",
   "execution_count": 2,
   "metadata": {
    "collapsed": false
   },
   "outputs": [],
   "source": [
    "df = pd.read_csv('Table_Optimal2015-08-15.csv')"
   ]
  },
  {
   "cell_type": "code",
   "execution_count": 3,
   "metadata": {
    "collapsed": false
   },
   "outputs": [
    {
     "name": "stdout",
     "output_type": "stream",
     "text": [
      "$c^{1}$       int64\n",
      "$c^{2}$       int64\n",
      "$c^{3}$       int64\n",
      "$c^{4}$       int64\n",
      "$c^{5}$       int64\n",
      "$y^{1}$       int64\n",
      "$y^{2}$       int64\n",
      "$y^{3}$       int64\n",
      "$y^{4}$       int64\n",
      "$y^{5}$       int64\n",
      "$t$           int64\n",
      "ExpValue    float64\n",
      "$d_{0}$       int64\n",
      "$d_{1}$       int64\n",
      "$d_{2}$       int64\n",
      "$d_{3}$       int64\n",
      "$d_{4}$       int64\n",
      "$d_{5}$       int64\n",
      "dtype: object\n"
     ]
    }
   ],
   "source": [
    "print df.dtypes"
   ]
  },
  {
   "cell_type": "code",
   "execution_count": 4,
   "metadata": {
    "collapsed": false
   },
   "outputs": [
    {
     "name": "stdout",
     "output_type": "stream",
     "text": [
      "\\begin{tabular}{lllllll}\n",
      "\\toprule\n",
      "{} &      0 &     1 &     2 &     3 &     4 &    5 \\\\\n",
      "\\midrule\n",
      "\\$d\\_\\{0\\}\\$ &  27750 &   461 &   570 &   912 &    79 &  NaN \\\\\n",
      "\\%\\%\\%\\%\\%   &  93.21 &  1.55 &  1.91 &  3.06 &  0.27 &  NaN \\\\\n",
      "\\bottomrule\n",
      "\\end{tabular}\n",
      "\n"
     ]
    }
   ],
   "source": [
    "df_Series2 = pd.DataFrame(index=['$d_{0}$', '%%%%%'], columns=range(6))\n",
    "\n",
    "for j in df.groupby('$d_{0}$').size().index:\n",
    "    df_Series2[j]['$d_{0}$'] = df.groupby('$d_{0}$').size()[j]\n",
    "for j in df.groupby('$d_{0}$').size().index:    \n",
    "    df_Series2[j]['%%%%%'] = np.around((df_Series2[j]['$d_{0}$']/df_Series2.sum(axis=1)['$d_{0}$'])*100, 2)\n",
    "\n",
    "print df_Series2.to_latex()"
   ]
  },
  {
   "cell_type": "code",
   "execution_count": 5,
   "metadata": {
    "collapsed": false
   },
   "outputs": [
    {
     "name": "stdout",
     "output_type": "stream",
     "text": [
      "\\begin{tabular}{lllllllll}\n",
      "\\toprule\n",
      "{} &      0 &     0\\% &     1 &     1\\% &     2 &     2\\% &    3 &    3\\% \\\\\n",
      "\\midrule\n",
      "\\$d\\_\\{1\\}\\$ &  29010 &  97.44 &   301 &   1.01 &   NaN &    NaN &  461 &  1.54 \\\\\n",
      "\\$d\\_\\{2\\}\\$ &  25387 &  85.27 &  1651 &   5.53 &  2436 &   8.16 &  298 &     1 \\\\\n",
      "\\$d\\_\\{3\\}\\$ &  21861 &  73.43 &  2847 &   9.54 &  4567 &   15.3 &  497 &  1.66 \\\\\n",
      "\\$d\\_\\{4\\}\\$ &  20793 &  69.84 &  5195 &  17.41 &  3768 &  12.62 &   16 &  0.05 \\\\\n",
      "\\$d\\_\\{5\\}\\$ &  21781 &  73.16 &  4935 &  16.54 &  3056 &  10.23 &  NaN &   NaN \\\\\n",
      "\\bottomrule\n",
      "\\end{tabular}\n",
      "\n"
     ]
    }
   ],
   "source": [
    "df_Series = pd.DataFrame(index=df.dtypes[13:].index, columns=[0, 1,  2, 3])\n",
    "\n",
    "for i in df.dtypes[13:].index:\n",
    "    for j in df.groupby(i).size().index:\n",
    "        df_Series[j][i] = df.groupby(i).size()[j]\n",
    "    \n",
    "for i in range(4):\n",
    "    df_Series[str(i)+'%'] = pd.Series((df_Series[i]/df_Series.sum(axis=1))*100)\n",
    "    for j in df_Series.index:\n",
    "        df_Series[str(i)+'%'][j] = np.around(df_Series[str(i)+'%'][j], 2)\n",
    "    \n",
    "df_Series = df_Series.reindex_axis([0, '0%', 1, '1%', 2, '2%', 3, '3%'], axis=1)\n",
    "\n",
    "print df_Series.to_latex()"
   ]
  },
  {
   "cell_type": "code",
   "execution_count": 6,
   "metadata": {
    "collapsed": false
   },
   "outputs": [
    {
     "data": {
      "text/plain": [
       "<matplotlib.figure.Figure at 0x10649ac10>"
      ]
     },
     "metadata": {},
     "output_type": "display_data"
    },
    {
     "data": {
      "image/png": "[encoded data removed]",
      "text/plain": [
       "<matplotlib.figure.Figure at 0x10649ae90>"
      ]
     },
     "metadata": {},
     "output_type": "display_data"
    }
   ],
   "source": [
    "#plt.title(\"Verkauf der optimalen Politik\")\n",
    "#plt.ylabel(\"p[j](t)\")\n",
    "#plt.xlabel(\"t\")\n",
    "plt.figure()\n",
    "df_Series.plot();"
   ]
  },
  {
   "cell_type": "code",
   "execution_count": null,
   "metadata": {
    "collapsed": true
   },
   "outputs": [],
   "source": []
  }
 ],
 "metadata": {
  "kernelspec": {
   "display_name": "Python 2",
   "language": "python",
   "name": "python2"
  },
  "language_info": {
   "codemirror_mode": {
    "name": "ipython",
    "version": 2
   },
   "file_extension": ".py",
   "mimetype": "text/x-python",
   "name": "python",
   "nbconvert_exporter": "python",
   "pygments_lexer": "ipython2",
   "version": "2.7.10"
  }
 },
 "nbformat": 4,
 "nbformat_minor": 0
}
