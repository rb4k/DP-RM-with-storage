{
 "cells": [
  {
   "cell_type": "code",
   "execution_count": 1,
   "metadata": {
    "collapsed": false
   },
   "outputs": [],
   "source": [
    "import pandas as pd\n",
    "import numpy as np\n",
    "import matplotlib.pyplot as plt\n",
    "%matplotlib inline"
   ]
  },
  {
   "cell_type": "code",
   "execution_count": 2,
   "metadata": {
    "collapsed": false
   },
   "outputs": [],
   "source": [
    "df = pd.read_csv('Table_Optimal.csv')"
   ]
  },
  {
   "cell_type": "code",
   "execution_count": 3,
   "metadata": {
    "collapsed": false
   },
   "outputs": [
    {
     "name": "stdout",
     "output_type": "stream",
     "text": [
      "$c^{1}$       int64\n",
      "$c^{2}$       int64\n",
      "$c^{3}$       int64\n",
      "$c^{4}$       int64\n",
      "$c^{5}$       int64\n",
      "$y^{1}$       int64\n",
      "$y^{2}$       int64\n",
      "$y^{3}$       int64\n",
      "$y^{4}$       int64\n",
      "$y^{5}$       int64\n",
      "$t$           int64\n",
      "ExpValue    float64\n",
      "$d_{0}$       int64\n",
      "$d_{1}$       int64\n",
      "$d_{2}$       int64\n",
      "$d_{3}$       int64\n",
      "$d_{4}$       int64\n",
      "$d_{5}$       int64\n",
      "$d_{6}$       int64\n",
      "$d_{7}$       int64\n",
      "$d_{8}$       int64\n",
      "$d_{9}$       int64\n",
      "$d_{10}$      int64\n",
      "dtype: object\n"
     ]
    }
   ],
   "source": [
    "print df.dtypes"
   ]
  },
  {
   "cell_type": "code",
   "execution_count": 4,
   "metadata": {
    "collapsed": false
   },
   "outputs": [
    {
     "name": "stdout",
     "output_type": "stream",
     "text": [
      "\\begin{tabular}{llllllllllll}\n",
      "\\toprule\n",
      "{} &     0  &    1  &   2  &    3  &   4  &    5  &   6  &    7  &   8  &   9  &   10 \\\\\n",
      "\\midrule\n",
      "\\$d\\_\\{0\\}\\$ &  15297 &    31 &  NaN &    97 &  NaN &   644 &  NaN &  1234 &  NaN &  NaN &  NaN \\\\\n",
      "\\%\\%\\%\\%\\%   &  88.41 &  0.18 &  NaN &  0.56 &  NaN &  3.72 &  NaN &  7.13 &  NaN &  NaN &  NaN \\\\\n",
      "\\bottomrule\n",
      "\\end{tabular}\n",
      "\n"
     ]
    }
   ],
   "source": [
    "df_Series2 = pd.DataFrame(index=['$d_{0}$', '%%%%%'], columns=range(11))\n",
    "\n",
    "for j in df.groupby('$d_{0}$').size().index:\n",
    "    df_Series2[j]['$d_{0}$'] = df.groupby('$d_{0}$').size()[j]\n",
    "for j in df.groupby('$d_{0}$').size().index:    \n",
    "    df_Series2[j]['%%%%%'] = np.around((df_Series2[j]['$d_{0}$']/df_Series2.sum(axis=1)['$d_{0}$'])*100, 2)\n",
    "\n",
    "print df_Series2.to_latex()"
   ]
  },
  {
   "cell_type": "code",
   "execution_count": 5,
   "metadata": {
    "collapsed": false
   },
   "outputs": [
    {
     "name": "stdout",
     "output_type": "stream",
     "text": [
      "\\begin{tabular}{lllllllll}\n",
      "\\toprule\n",
      "{} &      0 &     0\\% &     1 &     1\\% &     2 &     2\\% &     3 &    3\\% \\\\\n",
      "\\midrule\n",
      "\\$d\\_\\{1\\}\\$  &  17272 &  99.82 &   NaN &    NaN &   NaN &    NaN &    31 &  0.18 \\\\\n",
      "\\$d\\_\\{2\\}\\$  &  17255 &  99.72 &    48 &   0.28 &   NaN &    NaN &   NaN &   NaN \\\\\n",
      "\\$d\\_\\{3\\}\\$  &  17204 &  99.43 &     1 &   0.01 &   NaN &    NaN &    98 &  0.56 \\\\\n",
      "\\$d\\_\\{4\\}\\$  &  16931 &  97.85 &   232 &   1.33 &   140 &    0.8 &   NaN &   NaN \\\\\n",
      "\\$d\\_\\{5\\}\\$  &  16652 &  96.24 &     7 &   0.04 &   NaN &    NaN &   644 &   3.7 \\\\\n",
      "\\$d\\_\\{6\\}\\$  &  15909 &  91.94 &   944 &   5.43 &   450 &   2.59 &   NaN &   NaN \\\\\n",
      "\\$d\\_\\{7\\}\\$  &  16057 &   92.8 &    12 &   0.07 &   NaN &    NaN &  1234 &  7.09 \\\\\n",
      "\\$d\\_\\{8\\}\\$  &  11026 &  63.72 &  3664 &   21.1 &  2613 &  15.03 &   NaN &   NaN \\\\\n",
      "\\$d\\_\\{9\\}\\$  &  16849 &  97.38 &   332 &   1.91 &   122 &    0.7 &   NaN &   NaN \\\\\n",
      "\\$d\\_\\{10\\}\\$ &   6713 &   38.8 &  6934 &  39.98 &  3656 &  21.03 &   NaN &   NaN \\\\\n",
      "\\bottomrule\n",
      "\\end{tabular}\n",
      "\n"
     ]
    }
   ],
   "source": [
    "df_Series = pd.DataFrame(index=df.dtypes[13:].index, columns=[0, 1,  2, 3])\n",
    "\n",
    "for i in df.dtypes[13:].index:\n",
    "    for j in df.groupby(i).size().index:\n",
    "        df_Series[j][i] = df.groupby(i).size()[j]\n",
    "    \n",
    "for i in range(4):\n",
    "    df_Series[str(i)+'%'] = pd.Series((df_Series[i]/df_Series.sum(axis=1))*100)\n",
    "    for j in df_Series.index:\n",
    "        df_Series[str(i)+'%'][j] = np.around(df_Series[str(i)+'%'][j], 2)\n",
    "    \n",
    "df_Series = df_Series.reindex_axis([0, '0%', 1, '1%', 2, '2%', 3, '3%'], axis=1)\n",
    "\n",
    "print df_Series.to_latex()"
   ]
  },
  {
   "cell_type": "code",
   "execution_count": 7,
   "metadata": {
    "collapsed": false
   },
   "outputs": [
    {
     "data": {
      "text/plain": [
       "<matplotlib.figure.Figure at 0x1032f0390>"
      ]
     },
     "metadata": {},
     "output_type": "display_data"
    },
    {
     "data": {
      "image/png": "[encoded data removed]",
      "text/plain": [
       "<matplotlib.figure.Figure at 0x1067b9910>"
      ]
     },
     "metadata": {},
     "output_type": "display_data"
    }
   ],
   "source": [
    "df_Series3 = df[(df['$c^{1}$'] == 1) & (df['$c^{2}$'] == 1) & (df['$c^{3}$'] == 1) & (df['$c^{4}$'] == 1)\n",
    "               & (df['$c^{5}$'] == 1)]\n",
    "\n",
    "df3 = pd.DataFrame(index=df_Series3['$t$'])\n",
    "g = 1 \n",
    "for i in df.dtypes[13:].index:\n",
    "    df3[g] = np.array(df_Series3[i])\n",
    "    g = g+1\n",
    "del g\n",
    "\n",
    "plt.figure()\n",
    "# Y-Achse ist abhängig von der Anzahl der möglichen Entscheidungen\n",
    "df3.plot(subplots=True, layout=(2, 5), figsize=(16, 8), sharex=False, yticks=np.arange(0, 4, 1.0))\n",
    "plt.savefig('OP-J.png') "
   ]
  },
  {
   "cell_type": "code",
   "execution_count": 9,
   "metadata": {
    "collapsed": false
   },
   "outputs": [
    {
     "name": "stdout",
     "output_type": "stream",
     "text": [
      "\\begin{tabular}{lrrrrrrrrrrr}\n",
      "\\toprule\n",
      "{} &  0  &  1  &  2  &  3  &  4  &  5  &  6  &  7  &  8  &  9  &  10 \\\\\n",
      "\\midrule\n",
      "\\$t\\$ &     &     &     &     &     &     &     &     &     &     &     \\\\\n",
      "100 &   0 &   0 &   0 &   0 &   0 &   0 &   0 &   0 &   0 &   0 &   0 \\\\\n",
      "99  &   0 &   0 &   1 &   0 &   1 &   0 &   0 &   0 &   0 &   0 &   0 \\\\\n",
      "98  &   0 &   0 &   1 &   0 &   1 &   0 &   0 &   0 &   0 &   0 &   0 \\\\\n",
      "97  &   0 &   0 &   1 &   0 &   1 &   0 &   0 &   0 &   0 &   0 &   0 \\\\\n",
      "96  &   0 &   0 &   1 &   0 &   1 &   0 &   0 &   0 &   0 &   0 &   0 \\\\\n",
      "95  &   0 &   0 &   1 &   0 &   1 &   0 &   0 &   0 &   0 &   0 &   0 \\\\\n",
      "94  &   0 &   0 &   1 &   0 &   1 &   0 &   0 &   0 &   0 &   0 &   0 \\\\\n",
      "93  &   0 &   0 &   1 &   0 &   1 &   0 &   0 &   0 &   0 &   0 &   0 \\\\\n",
      "92  &   0 &   0 &   1 &   0 &   1 &   0 &   0 &   0 &   0 &   0 &   0 \\\\\n",
      "91  &   0 &   0 &   1 &   0 &   1 &   0 &   0 &   0 &   0 &   0 &   0 \\\\\n",
      "90  &   1 &   3 &   1 &   0 &   1 &   0 &   0 &   0 &   0 &   0 &   0 \\\\\n",
      "89  &   1 &   3 &   1 &   0 &   1 &   0 &   0 &   0 &   0 &   0 &   0 \\\\\n",
      "88  &   1 &   3 &   1 &   0 &   1 &   0 &   0 &   0 &   0 &   0 &   0 \\\\\n",
      "87  &   1 &   3 &   1 &   0 &   1 &   0 &   0 &   0 &   0 &   0 &   0 \\\\\n",
      "86  &   1 &   3 &   1 &   3 &   1 &   0 &   0 &   0 &   0 &   0 &   0 \\\\\n",
      "85  &   1 &   3 &   1 &   0 &   0 &   0 &   0 &   0 &   0 &   0 &   0 \\\\\n",
      "84  &   1 &   3 &   1 &   0 &   0 &   0 &   0 &   0 &   0 &   0 &   0 \\\\\n",
      "83  &   1 &   3 &   1 &   0 &   0 &   0 &   0 &   0 &   0 &   0 &   0 \\\\\n",
      "82  &   1 &   3 &   1 &   0 &   0 &   0 &   0 &   0 &   0 &   0 &   0 \\\\\n",
      "81  &   1 &   3 &   1 &   0 &   0 &   0 &   0 &   0 &   0 &   0 &   0 \\\\\n",
      "80  &   0 &   0 &   0 &   0 &   0 &   0 &   0 &   0 &   0 &   0 &   0 \\\\\n",
      "79  &   0 &   0 &   0 &   0 &   0 &   0 &   0 &   0 &   1 &   0 &   0 \\\\\n",
      "78  &   0 &   0 &   0 &   0 &   0 &   0 &   0 &   0 &   1 &   0 &   0 \\\\\n",
      "77  &   0 &   0 &   0 &   0 &   0 &   0 &   0 &   0 &   1 &   0 &   0 \\\\\n",
      "76  &   0 &   0 &   0 &   0 &   0 &   0 &   0 &   0 &   1 &   0 &   0 \\\\\n",
      "75  &   0 &   0 &   0 &   0 &   0 &   0 &   0 &   0 &   1 &   0 &   0 \\\\\n",
      "74  &   0 &   0 &   0 &   0 &   1 &   0 &   0 &   0 &   1 &   0 &   0 \\\\\n",
      "73  &   0 &   0 &   0 &   0 &   1 &   0 &   0 &   0 &   1 &   0 &   0 \\\\\n",
      "72  &   0 &   0 &   0 &   0 &   1 &   0 &   0 &   0 &   1 &   0 &   0 \\\\\n",
      "71  &   0 &   0 &   0 &   0 &   1 &   0 &   0 &   0 &   1 &   0 &   0 \\\\\n",
      "70  &   0 &   0 &   0 &   0 &   1 &   0 &   0 &   0 &   1 &   0 &   0 \\\\\n",
      "69  &   0 &   0 &   0 &   0 &   1 &   0 &   0 &   0 &   1 &   0 &   0 \\\\\n",
      "68  &   3 &   0 &   0 &   3 &   1 &   0 &   0 &   0 &   1 &   0 &   0 \\\\\n",
      "67  &   3 &   0 &   0 &   3 &   1 &   0 &   0 &   0 &   1 &   0 &   0 \\\\\n",
      "66  &   3 &   0 &   0 &   3 &   1 &   0 &   0 &   0 &   1 &   0 &   0 \\\\\n",
      "65  &   3 &   0 &   0 &   3 &   1 &   0 &   0 &   0 &   1 &   0 &   0 \\\\\n",
      "64  &   3 &   0 &   0 &   3 &   1 &   0 &   0 &   0 &   1 &   0 &   0 \\\\\n",
      "63  &   3 &   0 &   0 &   3 &   1 &   0 &   0 &   0 &   1 &   0 &   0 \\\\\n",
      "62  &   3 &   0 &   0 &   3 &   1 &   0 &   0 &   0 &   1 &   0 &   0 \\\\\n",
      "61  &   3 &   0 &   0 &   3 &   1 &   0 &   0 &   0 &   1 &   0 &   0 \\\\\n",
      "60  &   0 &   0 &   0 &   0 &   0 &   0 &   0 &   0 &   1 &   0 &   0 \\\\\n",
      "59  &   0 &   0 &   0 &   0 &   0 &   0 &   1 &   0 &   1 &   0 &   0 \\\\\n",
      "58  &   0 &   0 &   0 &   0 &   0 &   0 &   1 &   0 &   1 &   0 &   0 \\\\\n",
      "57  &   0 &   0 &   0 &   0 &   0 &   0 &   1 &   0 &   1 &   0 &   0 \\\\\n",
      "56  &   0 &   0 &   0 &   0 &   0 &   0 &   1 &   0 &   1 &   0 &   0 \\\\\n",
      "55  &   0 &   0 &   0 &   0 &   0 &   0 &   1 &   0 &   1 &   0 &   0 \\\\\n",
      "54  &   0 &   0 &   0 &   0 &   0 &   0 &   1 &   0 &   1 &   0 &   0 \\\\\n",
      "53  &   0 &   0 &   0 &   0 &   0 &   0 &   1 &   0 &   1 &   0 &   0 \\\\\n",
      "52  &   5 &   0 &   0 &   0 &   0 &   3 &   1 &   0 &   1 &   0 &   0 \\\\\n",
      "51  &   5 &   0 &   0 &   0 &   0 &   3 &   1 &   0 &   1 &   0 &   0 \\\\\n",
      "50  &   5 &   0 &   0 &   0 &   0 &   3 &   1 &   0 &   1 &   0 &   0 \\\\\n",
      "49  &   5 &   0 &   0 &   0 &   0 &   3 &   1 &   0 &   1 &   0 &   0 \\\\\n",
      "48  &   5 &   0 &   0 &   0 &   0 &   3 &   1 &   0 &   1 &   0 &   0 \\\\\n",
      "47  &   5 &   0 &   0 &   0 &   0 &   3 &   1 &   0 &   1 &   0 &   0 \\\\\n",
      "46  &   5 &   0 &   0 &   0 &   0 &   3 &   1 &   0 &   1 &   0 &   0 \\\\\n",
      "45  &   5 &   0 &   0 &   0 &   0 &   3 &   1 &   0 &   1 &   0 &   0 \\\\\n",
      "44  &   5 &   0 &   0 &   0 &   0 &   3 &   1 &   0 &   1 &   0 &   0 \\\\\n",
      "43  &   5 &   0 &   0 &   0 &   0 &   3 &   1 &   0 &   0 &   0 &   0 \\\\\n",
      "42  &   5 &   0 &   0 &   0 &   0 &   3 &   1 &   0 &   1 &   0 &   0 \\\\\n",
      "41  &   5 &   0 &   0 &   0 &   0 &   3 &   1 &   0 &   1 &   0 &   0 \\\\\n",
      "40  &   0 &   0 &   0 &   0 &   0 &   0 &   0 &   0 &   1 &   0 &   0 \\\\\n",
      "39  &   0 &   0 &   0 &   0 &   0 &   0 &   0 &   0 &   1 &   0 &   1 \\\\\n",
      "38  &   0 &   0 &   0 &   0 &   0 &   0 &   0 &   0 &   1 &   0 &   1 \\\\\n",
      "37  &   0 &   0 &   0 &   0 &   0 &   0 &   0 &   0 &   1 &   0 &   1 \\\\\n",
      "36  &   0 &   0 &   0 &   0 &   0 &   0 &   0 &   0 &   1 &   0 &   1 \\\\\n",
      "35  &   0 &   0 &   0 &   0 &   0 &   0 &   0 &   0 &   1 &   0 &   1 \\\\\n",
      "34  &   0 &   0 &   0 &   0 &   0 &   0 &   0 &   0 &   1 &   0 &   1 \\\\\n",
      "33  &   0 &   0 &   0 &   0 &   0 &   0 &   0 &   0 &   1 &   0 &   1 \\\\\n",
      "32  &   0 &   0 &   0 &   0 &   0 &   0 &   0 &   0 &   1 &   0 &   1 \\\\\n",
      "31  &   0 &   0 &   0 &   0 &   0 &   0 &   0 &   0 &   1 &   0 &   1 \\\\\n",
      "30  &   0 &   0 &   0 &   0 &   0 &   0 &   0 &   0 &   1 &   0 &   1 \\\\\n",
      "29  &   0 &   0 &   0 &   0 &   0 &   0 &   0 &   0 &   1 &   0 &   1 \\\\\n",
      "28  &   0 &   0 &   0 &   0 &   0 &   0 &   0 &   0 &   1 &   0 &   1 \\\\\n",
      "27  &   0 &   0 &   0 &   0 &   0 &   0 &   0 &   0 &   1 &   0 &   1 \\\\\n",
      "26  &   0 &   0 &   0 &   0 &   0 &   0 &   0 &   0 &   1 &   0 &   1 \\\\\n",
      "25  &   0 &   0 &   0 &   0 &   0 &   0 &   0 &   0 &   1 &   0 &   1 \\\\\n",
      "24  &   7 &   0 &   0 &   0 &   0 &   0 &   0 &   3 &   1 &   0 &   1 \\\\\n",
      "23  &   7 &   0 &   0 &   0 &   0 &   0 &   0 &   3 &   1 &   0 &   1 \\\\\n",
      "22  &   7 &   0 &   0 &   0 &   0 &   0 &   0 &   3 &   1 &   0 &   1 \\\\\n",
      "21  &   7 &   0 &   0 &   0 &   0 &   0 &   0 &   3 &   1 &   0 &   1 \\\\\n",
      "20  &   0 &   0 &   0 &   0 &   0 &   0 &   0 &   0 &   0 &   0 &   1 \\\\\n",
      "19  &   0 &   0 &   0 &   0 &   0 &   0 &   0 &   0 &   0 &   0 &   1 \\\\\n",
      "18  &   0 &   0 &   0 &   0 &   0 &   0 &   0 &   0 &   0 &   0 &   1 \\\\\n",
      "17  &   0 &   0 &   0 &   0 &   0 &   0 &   0 &   0 &   0 &   0 &   1 \\\\\n",
      "16  &   0 &   0 &   0 &   0 &   0 &   0 &   0 &   0 &   0 &   0 &   1 \\\\\n",
      "15  &   0 &   0 &   0 &   0 &   0 &   0 &   0 &   0 &   0 &   0 &   1 \\\\\n",
      "14  &   0 &   0 &   0 &   0 &   0 &   0 &   0 &   0 &   0 &   0 &   1 \\\\\n",
      "13  &   0 &   0 &   0 &   0 &   0 &   0 &   0 &   0 &   0 &   0 &   1 \\\\\n",
      "12  &   0 &   0 &   0 &   0 &   0 &   0 &   0 &   0 &   0 &   0 &   1 \\\\\n",
      "11  &   0 &   0 &   0 &   0 &   0 &   0 &   0 &   0 &   0 &   0 &   1 \\\\\n",
      "10  &   0 &   0 &   0 &   0 &   0 &   0 &   0 &   0 &   0 &   0 &   1 \\\\\n",
      "9   &   0 &   0 &   0 &   0 &   0 &   0 &   0 &   0 &   0 &   0 &   1 \\\\\n",
      "8   &   0 &   0 &   0 &   0 &   0 &   0 &   0 &   0 &   0 &   0 &   1 \\\\\n",
      "7   &   0 &   0 &   0 &   0 &   0 &   0 &   0 &   0 &   0 &   0 &   1 \\\\\n",
      "6   &   0 &   0 &   0 &   0 &   0 &   0 &   0 &   0 &   0 &   0 &   1 \\\\\n",
      "5   &   0 &   0 &   0 &   0 &   0 &   0 &   0 &   0 &   0 &   0 &   1 \\\\\n",
      "4   &   0 &   0 &   0 &   0 &   0 &   0 &   0 &   0 &   0 &   0 &   1 \\\\\n",
      "3   &   0 &   0 &   0 &   0 &   0 &   0 &   0 &   0 &   0 &   0 &   1 \\\\\n",
      "2   &   0 &   0 &   0 &   0 &   0 &   0 &   0 &   0 &   0 &   0 &   1 \\\\\n",
      "1   &   0 &   0 &   0 &   0 &   0 &   0 &   0 &   0 &   0 &   1 &   1 \\\\\n",
      "\\bottomrule\n",
      "\\end{tabular}\n",
      "\n"
     ]
    },
    {
     "data": {
      "text/plain": [
       "<matplotlib.figure.Figure at 0x1073c5350>"
      ]
     },
     "metadata": {},
     "output_type": "display_data"
    },
    {
     "data": {
      "image/png": "[encoded data removed]",
      "text/plain": [
       "<matplotlib.figure.Figure at 0x1073487d0>"
      ]
     },
     "metadata": {},
     "output_type": "display_data"
    }
   ],
   "source": [
    "df4 = pd.DataFrame(index=df_Series3['$t$'])\n",
    "df4[0] = np.array(df_Series3['$d_{0}$'])\n",
    "\n",
    "plt.figure()\n",
    "# Y-Achse ist abhängig von der Anzahl der Produkte\n",
    "df4.plot(subplots=True, layout=(1, 1), figsize=(3, 4), sharex=False, yticks=np.arange(0, 11, 1.0))\n",
    "plt.savefig('OP-0.png') \n",
    "\n",
    "df3[0] = np.array(df_Series3['$d_{0}$'])\n",
    "# Spaten abhängig von der Anzahl der Produkte\n",
    "df3_Series = df3.reindex_axis([0, 1, 2, 3, 4, 5,\n",
    "                               6, 7, 8, 9, 10], axis=1)\n",
    "\n",
    "#print df3_Series.to_latex()"
   ]
  },
  {
   "cell_type": "code",
   "execution_count": null,
   "metadata": {
    "collapsed": true
   },
   "outputs": [],
   "source": []
  }
 ],
 "metadata": {
  "kernelspec": {
   "display_name": "Python 2",
   "language": "python",
   "name": "python2"
  },
  "language_info": {
   "codemirror_mode": {
    "name": "ipython",
    "version": 2
   },
   "file_extension": ".py",
   "mimetype": "text/x-python",
   "name": "python",
   "nbconvert_exporter": "python",
   "pygments_lexer": "ipython2",
   "version": "2.7.10"
  }
 },
 "nbformat": 4,
 "nbformat_minor": 0
}
